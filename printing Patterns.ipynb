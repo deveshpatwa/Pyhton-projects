{
 "cells": [
  {
   "cell_type": "code",
   "execution_count": 21,
   "metadata": {},
   "outputs": [
    {
     "name": "stdout",
     "output_type": "stream",
     "text": [
      "           * \n",
      "          *      *\n",
      "         *        *\n",
      "        *          *\n",
      "       *            *\n",
      "      *              *\n",
      "     *                *\n",
      "    *                  *\n",
      "   *                    *\n",
      " *  *  *  *  *  *  *  *  * \n"
     ]
    }
   ],
   "source": [
    "s = ' '\n",
    "l=10\n",
    "r=0\n",
    "for i in range(10):\n",
    "    if i==0:\n",
    "        print(s*l,'* ')\n",
    "    elif i==9:\n",
    "        print(' * '*i)\n",
    "    else:\n",
    "        print(s*l,'* ',r*s,' *')\n",
    "    l-=1\n",
    "    r+=2\n",
    "\n",
    "        \n",
    "       "
   ]
  },
  {
   "cell_type": "code",
   "execution_count": 15,
   "metadata": {},
   "outputs": [
    {
     "name": "stdout",
     "output_type": "stream",
     "text": [
      "1 \n",
      "2 3 \n",
      "4 5 6 \n",
      "7 8 9 10 \n",
      "11 12 13 14 15 \n"
     ]
    }
   ],
   "source": [
    "n=1\n",
    "for i in range(1,6):\n",
    "    for j in range(1,i+1):\n",
    "        print(n,end=\" \")\n",
    "        n+=1\n",
    "    print()"
   ]
  },
  {
   "cell_type": "code",
   "execution_count": null,
   "metadata": {},
   "outputs": [],
   "source": [
    "\n"
   ]
  }
 ],
 "metadata": {
  "kernelspec": {
   "display_name": "base",
   "language": "python",
   "name": "python3"
  },
  "language_info": {
   "codemirror_mode": {
    "name": "ipython",
    "version": 3
   },
   "file_extension": ".py",
   "mimetype": "text/x-python",
   "name": "python",
   "nbconvert_exporter": "python",
   "pygments_lexer": "ipython3",
   "version": "3.11.5"
  }
 },
 "nbformat": 4,
 "nbformat_minor": 2
}
