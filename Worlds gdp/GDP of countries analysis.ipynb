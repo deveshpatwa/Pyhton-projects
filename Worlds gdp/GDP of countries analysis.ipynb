{
 "cells": [
  {
   "cell_type": "code",
   "execution_count": 1,
   "id": "c384ecb6-1250-4464-9a9f-815fa53a1a2e",
   "metadata": {
    "tags": []
   },
   "outputs": [],
   "source": [
    "import pandas as pd\n",
    "import numpy as np\n",
    "import matplotlib.pyplot as plt\n",
    "import seaborn as sns\n"
   ]
  },
  {
   "cell_type": "code",
   "execution_count": 16,
   "id": "554ad1d8-d7c8-4199-80d9-df3d96aa8deb",
   "metadata": {
    "tags": []
   },
   "outputs": [],
   "source": [
    "l = 'https://en.wikipedia.org/wiki/List_of_countries_by_GDP_(nominal)'\n",
    "l1 = 'https://stockedge.com/stocks/blue-dart-express/5869'"
   ]
  },
  {
   "cell_type": "code",
   "execution_count": 3,
   "id": "0ee659bc-e2ce-4fb5-90ad-3d1492e55002",
   "metadata": {
    "tags": []
   },
   "outputs": [],
   "source": [
    "df = pd.read_html(l)"
   ]
  },
  {
   "cell_type": "code",
   "execution_count": 17,
   "id": "9a9ade14-d67c-4c88-a7e1-a0b4a271ba15",
   "metadata": {
    "tags": []
   },
   "outputs": [],
   "source": [
    "df = pd.read_html(l1)"
   ]
  },
  {
   "cell_type": "code",
   "execution_count": 4,
   "id": "eae2e34e-fd56-4cd0-8d34-9036e8f88b32",
   "metadata": {
    "tags": []
   },
   "outputs": [],
   "source": [
    "df = df[2]"
   ]
  },
  {
   "cell_type": "code",
   "execution_count": 5,
   "id": "3a0e000b-34d2-4910-8217-d5ff40767343",
   "metadata": {
    "tags": []
   },
   "outputs": [
    {
     "data": {
      "text/html": [
       "<div>\n",
       "<style scoped>\n",
       "    .dataframe tbody tr th:only-of-type {\n",
       "        vertical-align: middle;\n",
       "    }\n",
       "\n",
       "    .dataframe tbody tr th {\n",
       "        vertical-align: top;\n",
       "    }\n",
       "\n",
       "    .dataframe thead tr th {\n",
       "        text-align: left;\n",
       "    }\n",
       "</style>\n",
       "<table border=\"1\" class=\"dataframe\">\n",
       "  <thead>\n",
       "    <tr>\n",
       "      <th></th>\n",
       "      <th>Country/Territory</th>\n",
       "      <th>UN region</th>\n",
       "      <th colspan=\"2\" halign=\"left\">IMF[1][13]</th>\n",
       "      <th colspan=\"2\" halign=\"left\">World Bank[14]</th>\n",
       "      <th colspan=\"2\" halign=\"left\">United Nations[15]</th>\n",
       "    </tr>\n",
       "    <tr>\n",
       "      <th></th>\n",
       "      <th>Country/Territory</th>\n",
       "      <th>UN region</th>\n",
       "      <th>Forecast</th>\n",
       "      <th>Year</th>\n",
       "      <th>Estimate</th>\n",
       "      <th>Year</th>\n",
       "      <th>Estimate</th>\n",
       "      <th>Year</th>\n",
       "    </tr>\n",
       "  </thead>\n",
       "  <tbody>\n",
       "    <tr>\n",
       "      <th>0</th>\n",
       "      <td>World</td>\n",
       "      <td>—</td>\n",
       "      <td>109529216</td>\n",
       "      <td>2024</td>\n",
       "      <td>100562011</td>\n",
       "      <td>2022</td>\n",
       "      <td>96698005</td>\n",
       "      <td>2021</td>\n",
       "    </tr>\n",
       "    <tr>\n",
       "      <th>1</th>\n",
       "      <td>United States</td>\n",
       "      <td>Americas</td>\n",
       "      <td>28781083</td>\n",
       "      <td>2024</td>\n",
       "      <td>25462700</td>\n",
       "      <td>2022</td>\n",
       "      <td>23315081</td>\n",
       "      <td>2021</td>\n",
       "    </tr>\n",
       "    <tr>\n",
       "      <th>2</th>\n",
       "      <td>China</td>\n",
       "      <td>Asia</td>\n",
       "      <td>18532633</td>\n",
       "      <td>[n 1]2024</td>\n",
       "      <td>17963171</td>\n",
       "      <td>[n 3]2022</td>\n",
       "      <td>17734131</td>\n",
       "      <td>[n 1]2021</td>\n",
       "    </tr>\n",
       "    <tr>\n",
       "      <th>3</th>\n",
       "      <td>Germany</td>\n",
       "      <td>Europe</td>\n",
       "      <td>4591100</td>\n",
       "      <td>2024</td>\n",
       "      <td>4072192</td>\n",
       "      <td>2022</td>\n",
       "      <td>4259935</td>\n",
       "      <td>2021</td>\n",
       "    </tr>\n",
       "    <tr>\n",
       "      <th>4</th>\n",
       "      <td>Japan</td>\n",
       "      <td>Asia</td>\n",
       "      <td>4110452</td>\n",
       "      <td>2024</td>\n",
       "      <td>4231141</td>\n",
       "      <td>2022</td>\n",
       "      <td>4940878</td>\n",
       "      <td>2021</td>\n",
       "    </tr>\n",
       "  </tbody>\n",
       "</table>\n",
       "</div>"
      ],
      "text/plain": [
       "  Country/Territory UN region IMF[1][13]            World Bank[14]             \\\n",
       "  Country/Territory UN region   Forecast       Year       Estimate       Year   \n",
       "0             World         —  109529216       2024      100562011       2022   \n",
       "1     United States  Americas   28781083       2024       25462700       2022   \n",
       "2             China      Asia   18532633  [n 1]2024       17963171  [n 3]2022   \n",
       "3           Germany    Europe    4591100       2024        4072192       2022   \n",
       "4             Japan      Asia    4110452       2024        4231141       2022   \n",
       "\n",
       "  United Nations[15]             \n",
       "            Estimate       Year  \n",
       "0           96698005       2021  \n",
       "1           23315081       2021  \n",
       "2           17734131  [n 1]2021  \n",
       "3            4259935       2021  \n",
       "4            4940878       2021  "
      ]
     },
     "execution_count": 5,
     "metadata": {},
     "output_type": "execute_result"
    }
   ],
   "source": [
    "df.head()"
   ]
  },
  {
   "cell_type": "code",
   "execution_count": 8,
   "id": "6281797a-0737-4a0d-9781-913f23166777",
   "metadata": {
    "tags": []
   },
   "outputs": [],
   "source": [
    "old = list(df.columns)\n",
    "new = ['country','region','forcast','year','estimate','year1','estimate1','year2']"
   ]
  },
  {
   "cell_type": "code",
   "execution_count": 11,
   "id": "02da6093-b59c-49d1-92ca-4115b140390d",
   "metadata": {
    "tags": []
   },
   "outputs": [],
   "source": [
    "d = dict(zip(old,new))"
   ]
  },
  {
   "cell_type": "code",
   "execution_count": 14,
   "id": "c1a52aac-f1d9-47f1-8c63-a2f3e750b0b2",
   "metadata": {
    "tags": []
   },
   "outputs": [],
   "source": [
    "a = df.rename(d,axis=1)"
   ]
  },
  {
   "cell_type": "code",
   "execution_count": 29,
   "id": "80303fcf-f1c4-46c3-98a2-3191174bf759",
   "metadata": {
    "tags": []
   },
   "outputs": [
    {
     "data": {
      "text/html": [
       "<div>\n",
       "<style scoped>\n",
       "    .dataframe tbody tr th:only-of-type {\n",
       "        vertical-align: middle;\n",
       "    }\n",
       "\n",
       "    .dataframe tbody tr th {\n",
       "        vertical-align: top;\n",
       "    }\n",
       "\n",
       "    .dataframe thead th {\n",
       "        text-align: right;\n",
       "    }\n",
       "</style>\n",
       "<table border=\"1\" class=\"dataframe\">\n",
       "  <thead>\n",
       "    <tr style=\"text-align: right;\">\n",
       "      <th></th>\n",
       "      <th>Stock Name</th>\n",
       "      <th>Statement</th>\n",
       "      <th>TTM Ending</th>\n",
       "      <th>Price Earning Ratio(TTM)</th>\n",
       "      <th>LTP</th>\n",
       "      <th>Chg %</th>\n",
       "    </tr>\n",
       "  </thead>\n",
       "  <tbody>\n",
       "    <tr>\n",
       "      <th>0</th>\n",
       "      <td>Adani Ports and Special Economic Zone Ltd.</td>\n",
       "      <td>Consolidated</td>\n",
       "      <td>2024-03</td>\n",
       "      <td>35.17</td>\n",
       "      <td>1320.35</td>\n",
       "      <td>-1.4%</td>\n",
       "    </tr>\n",
       "    <tr>\n",
       "      <th>1</th>\n",
       "      <td>Container Corporation Of India Ltd.</td>\n",
       "      <td>Consolidated</td>\n",
       "      <td>2023-12</td>\n",
       "      <td>52.76</td>\n",
       "      <td>1058.80</td>\n",
       "      <td>+0.8%</td>\n",
       "    </tr>\n",
       "    <tr>\n",
       "      <th>2</th>\n",
       "      <td>JSW Infrastructure Ltd.</td>\n",
       "      <td>Consolidated</td>\n",
       "      <td>2024-03</td>\n",
       "      <td>46.95</td>\n",
       "      <td>258.45</td>\n",
       "      <td>+0.4%</td>\n",
       "    </tr>\n",
       "    <tr>\n",
       "      <th>3</th>\n",
       "      <td>Delhivery Ltd.</td>\n",
       "      <td>Consolidated</td>\n",
       "      <td>2023-12</td>\n",
       "      <td>0.00</td>\n",
       "      <td>453.55</td>\n",
       "      <td>+0.7%</td>\n",
       "    </tr>\n",
       "    <tr>\n",
       "      <th>4</th>\n",
       "      <td>Aegis Logistics Ltd.</td>\n",
       "      <td>Consolidated</td>\n",
       "      <td>2023-12</td>\n",
       "      <td>42.99</td>\n",
       "      <td>641.60</td>\n",
       "      <td>-0.3%</td>\n",
       "    </tr>\n",
       "    <tr>\n",
       "      <th>5</th>\n",
       "      <td>The Great Eastern Shipping Company Ltd.</td>\n",
       "      <td>Consolidated</td>\n",
       "      <td>2023-12</td>\n",
       "      <td>6.08</td>\n",
       "      <td>1035.05</td>\n",
       "      <td>-2.5%</td>\n",
       "    </tr>\n",
       "    <tr>\n",
       "      <th>6</th>\n",
       "      <td>Shipping Corporation Of India Ltd.</td>\n",
       "      <td>Consolidated</td>\n",
       "      <td>2023-12</td>\n",
       "      <td>13.73</td>\n",
       "      <td>221.50</td>\n",
       "      <td>-2.7%</td>\n",
       "    </tr>\n",
       "  </tbody>\n",
       "</table>\n",
       "</div>"
      ],
      "text/plain": [
       "                                   Stock Name     Statement TTM Ending  \\\n",
       "0  Adani Ports and Special Economic Zone Ltd.  Consolidated    2024-03   \n",
       "1         Container Corporation Of India Ltd.  Consolidated    2023-12   \n",
       "2                     JSW Infrastructure Ltd.  Consolidated    2024-03   \n",
       "3                              Delhivery Ltd.  Consolidated    2023-12   \n",
       "4                        Aegis Logistics Ltd.  Consolidated    2023-12   \n",
       "5     The Great Eastern Shipping Company Ltd.  Consolidated    2023-12   \n",
       "6          Shipping Corporation Of India Ltd.  Consolidated    2023-12   \n",
       "\n",
       "   Price Earning Ratio(TTM)      LTP  Chg %  \n",
       "0                     35.17  1320.35  -1.4%  \n",
       "1                     52.76  1058.80  +0.8%  \n",
       "2                     46.95   258.45  +0.4%  \n",
       "3                      0.00   453.55  +0.7%  \n",
       "4                     42.99   641.60  -0.3%  \n",
       "5                      6.08  1035.05  -2.5%  \n",
       "6                     13.73   221.50  -2.7%  "
      ]
     },
     "execution_count": 29,
     "metadata": {},
     "output_type": "execute_result"
    }
   ],
   "source": [
    "df[10]\n"
   ]
  },
  {
   "cell_type": "code",
   "execution_count": null,
   "id": "0713bb78-2874-4842-90f3-5577437a8cfa",
   "metadata": {},
   "outputs": [],
   "source": []
  }
 ],
 "metadata": {
  "kernelspec": {
   "display_name": "Python 3 (ipykernel)",
   "language": "python",
   "name": "python3"
  },
  "language_info": {
   "codemirror_mode": {
    "name": "ipython",
    "version": 3
   },
   "file_extension": ".py",
   "mimetype": "text/x-python",
   "name": "python",
   "nbconvert_exporter": "python",
   "pygments_lexer": "ipython3",
   "version": "3.11.5"
  }
 },
 "nbformat": 4,
 "nbformat_minor": 5
}
