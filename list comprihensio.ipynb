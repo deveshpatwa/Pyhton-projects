{
 "cells": [
  {
   "cell_type": "markdown",
   "id": "a4d06888",
   "metadata": {},
   "source": [
    "WAT for finding the largest number in a given list"
   ]
  },
  {
   "cell_type": "code",
   "execution_count": 3,
   "id": "ae0371c2",
   "metadata": {},
   "outputs": [
    {
     "name": "stdout",
     "output_type": "stream",
     "text": [
      "444\n"
     ]
    }
   ],
   "source": [
    "import functools as f\n",
    "l=[3,6,5,7,78,444]\n",
    "print(f.reduce(max,l))"
   ]
  },
  {
   "cell_type": "code",
   "execution_count": 4,
   "id": "a9a9ded8",
   "metadata": {},
   "outputs": [
    {
     "name": "stdout",
     "output_type": "stream",
     "text": [
      "hello world\n"
     ]
    }
   ],
   "source": [
    "print('hello world')"
   ]
  },
  {
   "cell_type": "code",
   "execution_count": 5,
   "id": "c5c03f24",
   "metadata": {},
   "outputs": [
    {
     "data": {
      "text/plain": [
       "543"
      ]
     },
     "execution_count": 5,
     "metadata": {},
     "output_type": "execute_result"
    }
   ],
   "source": [
    "from functools import reduce\n",
    "def maxx(a,b):\n",
    "    return a+b\n",
    "reduce(maxx,l)"
   ]
  },
  {
   "cell_type": "code",
   "execution_count": null,
   "id": "20b66455",
   "metadata": {},
   "outputs": [],
   "source": []
  }
 ],
 "metadata": {
  "kernelspec": {
   "display_name": "Python 3 (ipykernel)",
   "language": "python",
   "name": "python3"
  },
  "language_info": {
   "codemirror_mode": {
    "name": "ipython",
    "version": 3
   },
   "file_extension": ".py",
   "mimetype": "text/x-python",
   "name": "python",
   "nbconvert_exporter": "python",
   "pygments_lexer": "ipython3",
   "version": "3.11.4"
  }
 },
 "nbformat": 4,
 "nbformat_minor": 5
}
