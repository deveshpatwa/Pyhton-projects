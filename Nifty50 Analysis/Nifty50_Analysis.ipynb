{
 "cells": [
  {
   "cell_type": "code",
   "execution_count": 4,
   "id": "18f07fce-5820-4ba3-9226-a7427fd9d92d",
   "metadata": {
    "tags": []
   },
   "outputs": [],
   "source": [
    "import matplotlib.pyplot as plt\n",
    "import pandas as pd\n",
    "import seaborn as sns\n",
    "import yfinance as yf"
   ]
  },
  {
   "cell_type": "code",
   "execution_count": 30,
   "id": "9e19ba28-702d-4583-aef3-55f1728fe2b9",
   "metadata": {
    "tags": []
   },
   "outputs": [
    {
     "name": "stderr",
     "output_type": "stream",
     "text": [
      "[*********************100%%**********************]  1 of 1 completed\n"
     ]
    },
    {
     "data": {
      "text/html": [
       "<div>\n",
       "<style scoped>\n",
       "    .dataframe tbody tr th:only-of-type {\n",
       "        vertical-align: middle;\n",
       "    }\n",
       "\n",
       "    .dataframe tbody tr th {\n",
       "        vertical-align: top;\n",
       "    }\n",
       "\n",
       "    .dataframe thead th {\n",
       "        text-align: right;\n",
       "    }\n",
       "</style>\n",
       "<table border=\"1\" class=\"dataframe\">\n",
       "  <thead>\n",
       "    <tr style=\"text-align: right;\">\n",
       "      <th></th>\n",
       "      <th>Open</th>\n",
       "      <th>High</th>\n",
       "      <th>Low</th>\n",
       "      <th>Close</th>\n",
       "      <th>Adj Close</th>\n",
       "      <th>Volume</th>\n",
       "    </tr>\n",
       "    <tr>\n",
       "      <th>Date</th>\n",
       "      <th></th>\n",
       "      <th></th>\n",
       "      <th></th>\n",
       "      <th></th>\n",
       "      <th></th>\n",
       "      <th></th>\n",
       "    </tr>\n",
       "  </thead>\n",
       "  <tbody>\n",
       "    <tr>\n",
       "      <th>2007-09-17</th>\n",
       "      <td>4518.450195</td>\n",
       "      <td>4549.049805</td>\n",
       "      <td>4482.850098</td>\n",
       "      <td>4494.649902</td>\n",
       "      <td>4494.649902</td>\n",
       "      <td>0</td>\n",
       "    </tr>\n",
       "    <tr>\n",
       "      <th>2007-09-18</th>\n",
       "      <td>4494.100098</td>\n",
       "      <td>4551.799805</td>\n",
       "      <td>4481.549805</td>\n",
       "      <td>4546.200195</td>\n",
       "      <td>4546.200195</td>\n",
       "      <td>0</td>\n",
       "    </tr>\n",
       "    <tr>\n",
       "      <th>2007-09-19</th>\n",
       "      <td>4550.250000</td>\n",
       "      <td>4739.000000</td>\n",
       "      <td>4550.250000</td>\n",
       "      <td>4732.350098</td>\n",
       "      <td>4732.350098</td>\n",
       "      <td>0</td>\n",
       "    </tr>\n",
       "    <tr>\n",
       "      <th>2007-09-20</th>\n",
       "      <td>4734.850098</td>\n",
       "      <td>4760.850098</td>\n",
       "      <td>4721.149902</td>\n",
       "      <td>4747.549805</td>\n",
       "      <td>4747.549805</td>\n",
       "      <td>0</td>\n",
       "    </tr>\n",
       "    <tr>\n",
       "      <th>2007-09-21</th>\n",
       "      <td>4752.950195</td>\n",
       "      <td>4855.700195</td>\n",
       "      <td>4733.700195</td>\n",
       "      <td>4837.549805</td>\n",
       "      <td>4837.549805</td>\n",
       "      <td>0</td>\n",
       "    </tr>\n",
       "  </tbody>\n",
       "</table>\n",
       "</div>"
      ],
      "text/plain": [
       "                   Open         High          Low        Close    Adj Close  \\\n",
       "Date                                                                          \n",
       "2007-09-17  4518.450195  4549.049805  4482.850098  4494.649902  4494.649902   \n",
       "2007-09-18  4494.100098  4551.799805  4481.549805  4546.200195  4546.200195   \n",
       "2007-09-19  4550.250000  4739.000000  4550.250000  4732.350098  4732.350098   \n",
       "2007-09-20  4734.850098  4760.850098  4721.149902  4747.549805  4747.549805   \n",
       "2007-09-21  4752.950195  4855.700195  4733.700195  4837.549805  4837.549805   \n",
       "\n",
       "            Volume  \n",
       "Date                \n",
       "2007-09-17       0  \n",
       "2007-09-18       0  \n",
       "2007-09-19       0  \n",
       "2007-09-20       0  \n",
       "2007-09-21       0  "
      ]
     },
     "execution_count": 30,
     "metadata": {},
     "output_type": "execute_result"
    }
   ],
   "source": [
    "df = yf.download('^NSEI',start='2000-01-01',end='2024-06-27')\n",
    "df.head()"
   ]
  },
  {
   "cell_type": "code",
   "execution_count": 38,
   "id": "b1914156-dccb-479f-a43f-ed0c8776d3c2",
   "metadata": {
    "tags": []
   },
   "outputs": [],
   "source": [
    "df.columns = df.columns.str.lower()"
   ]
  },
  {
   "cell_type": "code",
   "execution_count": 32,
   "id": "7c3a4115-ac88-4189-a82c-3c43daccdddd",
   "metadata": {
    "tags": []
   },
   "outputs": [
    {
     "data": {
      "text/plain": [
       "Index(['open', 'high', 'low', 'close', 'adj close', 'volume'], dtype='object')"
      ]
     },
     "execution_count": 32,
     "metadata": {},
     "output_type": "execute_result"
    }
   ],
   "source": [
    "df.columns"
   ]
  },
  {
   "cell_type": "code",
   "execution_count": 33,
   "id": "ddc66e20-0e07-4aca-a057-737b0d7ffbb2",
   "metadata": {
    "tags": []
   },
   "outputs": [],
   "source": [
    "df.drop(['adj close'],axis=1,inplace=True)"
   ]
  },
  {
   "cell_type": "code",
   "execution_count": 34,
   "id": "10178bcf-b1d4-4d1f-8925-3900b13186e2",
   "metadata": {
    "tags": []
   },
   "outputs": [
    {
     "data": {
      "text/html": [
       "<div>\n",
       "<style scoped>\n",
       "    .dataframe tbody tr th:only-of-type {\n",
       "        vertical-align: middle;\n",
       "    }\n",
       "\n",
       "    .dataframe tbody tr th {\n",
       "        vertical-align: top;\n",
       "    }\n",
       "\n",
       "    .dataframe thead th {\n",
       "        text-align: right;\n",
       "    }\n",
       "</style>\n",
       "<table border=\"1\" class=\"dataframe\">\n",
       "  <thead>\n",
       "    <tr style=\"text-align: right;\">\n",
       "      <th></th>\n",
       "      <th>open</th>\n",
       "      <th>high</th>\n",
       "      <th>low</th>\n",
       "      <th>close</th>\n",
       "      <th>volume</th>\n",
       "    </tr>\n",
       "    <tr>\n",
       "      <th>Date</th>\n",
       "      <th></th>\n",
       "      <th></th>\n",
       "      <th></th>\n",
       "      <th></th>\n",
       "      <th></th>\n",
       "    </tr>\n",
       "  </thead>\n",
       "  <tbody>\n",
       "    <tr>\n",
       "      <th>2024-06-20</th>\n",
       "      <td>23586.150391</td>\n",
       "      <td>23624.000000</td>\n",
       "      <td>23442.599609</td>\n",
       "      <td>23567.000000</td>\n",
       "      <td>280300</td>\n",
       "    </tr>\n",
       "    <tr>\n",
       "      <th>2024-06-21</th>\n",
       "      <td>23661.150391</td>\n",
       "      <td>23667.099609</td>\n",
       "      <td>23398.199219</td>\n",
       "      <td>23501.099609</td>\n",
       "      <td>609900</td>\n",
       "    </tr>\n",
       "    <tr>\n",
       "      <th>2024-06-24</th>\n",
       "      <td>23382.300781</td>\n",
       "      <td>23558.099609</td>\n",
       "      <td>23350.000000</td>\n",
       "      <td>23537.849609</td>\n",
       "      <td>239400</td>\n",
       "    </tr>\n",
       "    <tr>\n",
       "      <th>2024-06-25</th>\n",
       "      <td>23577.099609</td>\n",
       "      <td>23754.150391</td>\n",
       "      <td>23562.050781</td>\n",
       "      <td>23721.300781</td>\n",
       "      <td>298100</td>\n",
       "    </tr>\n",
       "    <tr>\n",
       "      <th>2024-06-26</th>\n",
       "      <td>23723.099609</td>\n",
       "      <td>23889.900391</td>\n",
       "      <td>23670.449219</td>\n",
       "      <td>23868.800781</td>\n",
       "      <td>287800</td>\n",
       "    </tr>\n",
       "  </tbody>\n",
       "</table>\n",
       "</div>"
      ],
      "text/plain": [
       "                    open          high           low         close  volume\n",
       "Date                                                                      \n",
       "2024-06-20  23586.150391  23624.000000  23442.599609  23567.000000  280300\n",
       "2024-06-21  23661.150391  23667.099609  23398.199219  23501.099609  609900\n",
       "2024-06-24  23382.300781  23558.099609  23350.000000  23537.849609  239400\n",
       "2024-06-25  23577.099609  23754.150391  23562.050781  23721.300781  298100\n",
       "2024-06-26  23723.099609  23889.900391  23670.449219  23868.800781  287800"
      ]
     },
     "execution_count": 34,
     "metadata": {},
     "output_type": "execute_result"
    }
   ],
   "source": [
    "df.tail()"
   ]
  },
  {
   "cell_type": "code",
   "execution_count": 35,
   "id": "85917e0f-556b-449a-9fca-b6fb0a29b5fc",
   "metadata": {
    "tags": []
   },
   "outputs": [
    {
     "data": {
      "text/plain": [
       "<Axes: xlabel='Date'>"
      ]
     },
     "execution_count": 35,
     "metadata": {},
     "output_type": "execute_result"
    },
    {
     "data": {
      "image/png": "[encoded data removed]",
      "text/plain": [
       "<Figure size 640x480 with 1 Axes>"
      ]
     },
     "metadata": {},
     "output_type": "display_data"
    }
   ],
   "source": [
    "df['close'].plot()"
   ]
  },
  {
   "cell_type": "code",
   "execution_count": 36,
   "id": "0457b9f5-8fb3-4ad7-aa9b-de6232b2b727",
   "metadata": {
    "tags": []
   },
   "outputs": [],
   "source": [
    "df = df.reset_index()"
   ]
  },
  {
   "cell_type": "code",
   "execution_count": 43,
   "id": "36df58ad-67cc-48d7-9c2e-4174257dfbcf",
   "metadata": {
    "tags": []
   },
   "outputs": [
    {
     "name": "stdout",
     "output_type": "stream",
     "text": [
      "<class 'pandas.core.frame.DataFrame'>\n",
      "RangeIndex: 4110 entries, 0 to 4109\n",
      "Data columns (total 6 columns):\n",
      " #   Column  Non-Null Count  Dtype         \n",
      "---  ------  --------------  -----         \n",
      " 0   date    4110 non-null   datetime64[ns]\n",
      " 1   open    4110 non-null   float64       \n",
      " 2   high    4110 non-null   float64       \n",
      " 3   low     4110 non-null   float64       \n",
      " 4   close   4110 non-null   float64       \n",
      " 5   volume  4110 non-null   int64         \n",
      "dtypes: datetime64[ns](1), float64(4), int64(1)\n",
      "memory usage: 192.8 KB\n"
     ]
    }
   ],
   "source": [
    "df.info()"
   ]
  },
  {
   "cell_type": "code",
   "execution_count": 48,
   "id": "44d0afb5-e7ef-4d5c-aa68-0e495808775f",
   "metadata": {
    "tags": []
   },
   "outputs": [],
   "source": [
    "df['year']=df['date'].dt.year"
   ]
  },
  {
   "cell_type": "code",
   "execution_count": 49,
   "id": "db88741c-3256-47e6-9cff-1faed9d7c157",
   "metadata": {
    "tags": []
   },
   "outputs": [],
   "source": [
    "df['month'] = df['date'].dt.month"
   ]
  },
  {
   "cell_type": "code",
   "execution_count": 57,
   "id": "41c3fe16-2cf9-4c7e-a1a0-8d0f27003591",
   "metadata": {
    "tags": []
   },
   "outputs": [],
   "source": [
    "df['weekday'] = df['date'].dt.day_name()"
   ]
  },
  {
   "cell_type": "code",
   "execution_count": 58,
   "id": "1dfbb1f3-12aa-4e99-9b6a-7120efdd491d",
   "metadata": {
    "tags": []
   },
   "outputs": [
    {
     "data": {
      "text/html": [
       "<div>\n",
       "<style scoped>\n",
       "    .dataframe tbody tr th:only-of-type {\n",
       "        vertical-align: middle;\n",
       "    }\n",
       "\n",
       "    .dataframe tbody tr th {\n",
       "        vertical-align: top;\n",
       "    }\n",
       "\n",
       "    .dataframe thead th {\n",
       "        text-align: right;\n",
       "    }\n",
       "</style>\n",
       "<table border=\"1\" class=\"dataframe\">\n",
       "  <thead>\n",
       "    <tr style=\"text-align: right;\">\n",
       "      <th></th>\n",
       "      <th>date</th>\n",
       "      <th>open</th>\n",
       "      <th>high</th>\n",
       "      <th>low</th>\n",
       "      <th>close</th>\n",
       "      <th>volume</th>\n",
       "      <th>year</th>\n",
       "      <th>month</th>\n",
       "      <th>weekday</th>\n",
       "    </tr>\n",
       "  </thead>\n",
       "  <tbody>\n",
       "    <tr>\n",
       "      <th>0</th>\n",
       "      <td>2007-09-17</td>\n",
       "      <td>4518.450195</td>\n",
       "      <td>4549.049805</td>\n",
       "      <td>4482.850098</td>\n",
       "      <td>4494.649902</td>\n",
       "      <td>0</td>\n",
       "      <td>2007</td>\n",
       "      <td>9</td>\n",
       "      <td>Monday</td>\n",
       "    </tr>\n",
       "    <tr>\n",
       "      <th>1</th>\n",
       "      <td>2007-09-18</td>\n",
       "      <td>4494.100098</td>\n",
       "      <td>4551.799805</td>\n",
       "      <td>4481.549805</td>\n",
       "      <td>4546.200195</td>\n",
       "      <td>0</td>\n",
       "      <td>2007</td>\n",
       "      <td>9</td>\n",
       "      <td>Tuesday</td>\n",
       "    </tr>\n",
       "    <tr>\n",
       "      <th>2</th>\n",
       "      <td>2007-09-19</td>\n",
       "      <td>4550.250000</td>\n",
       "      <td>4739.000000</td>\n",
       "      <td>4550.250000</td>\n",
       "      <td>4732.350098</td>\n",
       "      <td>0</td>\n",
       "      <td>2007</td>\n",
       "      <td>9</td>\n",
       "      <td>Wednesday</td>\n",
       "    </tr>\n",
       "    <tr>\n",
       "      <th>3</th>\n",
       "      <td>2007-09-20</td>\n",
       "      <td>4734.850098</td>\n",
       "      <td>4760.850098</td>\n",
       "      <td>4721.149902</td>\n",
       "      <td>4747.549805</td>\n",
       "      <td>0</td>\n",
       "      <td>2007</td>\n",
       "      <td>9</td>\n",
       "      <td>Thursday</td>\n",
       "    </tr>\n",
       "    <tr>\n",
       "      <th>4</th>\n",
       "      <td>2007-09-21</td>\n",
       "      <td>4752.950195</td>\n",
       "      <td>4855.700195</td>\n",
       "      <td>4733.700195</td>\n",
       "      <td>4837.549805</td>\n",
       "      <td>0</td>\n",
       "      <td>2007</td>\n",
       "      <td>9</td>\n",
       "      <td>Friday</td>\n",
       "    </tr>\n",
       "  </tbody>\n",
       "</table>\n",
       "</div>"
      ],
      "text/plain": [
       "        date         open         high          low        close  volume  \\\n",
       "0 2007-09-17  4518.450195  4549.049805  4482.850098  4494.649902       0   \n",
       "1 2007-09-18  4494.100098  4551.799805  4481.549805  4546.200195       0   \n",
       "2 2007-09-19  4550.250000  4739.000000  4550.250000  4732.350098       0   \n",
       "3 2007-09-20  4734.850098  4760.850098  4721.149902  4747.549805       0   \n",
       "4 2007-09-21  4752.950195  4855.700195  4733.700195  4837.549805       0   \n",
       "\n",
       "   year  month    weekday  \n",
       "0  2007      9     Monday  \n",
       "1  2007      9    Tuesday  \n",
       "2  2007      9  Wednesday  \n",
       "3  2007      9   Thursday  \n",
       "4  2007      9     Friday  "
      ]
     },
     "execution_count": 58,
     "metadata": {},
     "output_type": "execute_result"
    }
   ],
   "source": [
    "df.head()"
   ]
  },
  {
   "cell_type": "code",
   "execution_count": 61,
   "id": "2698ce02-7977-4413-9198-a328f8c2208d",
   "metadata": {
    "tags": []
   },
   "outputs": [
    {
     "data": {
      "text/plain": [
       "<Axes: xlabel='year'>"
      ]
     },
     "execution_count": 61,
     "metadata": {},
     "output_type": "execute_result"
    },
    {
     "data": {
      "image/png": "[encoded data removed]",
      "text/plain": [
       "<Figure size 640x480 with 1 Axes>"
      ]
     },
     "metadata": {},
     "output_type": "display_data"
    }
   ],
   "source": [
    "df.groupby('year')['close'].mean().plot(kind='bar')"
   ]
  },
  {
   "cell_type": "code",
   "execution_count": 66,
   "id": "6dc149aa-154c-4587-80e6-211a96d9c6f2",
   "metadata": {
    "tags": []
   },
   "outputs": [
    {
     "data": {
      "text/plain": [
       "(0    4494.649902\n",
       " 1    4546.200195\n",
       " 2    4732.350098\n",
       " 3    4747.549805\n",
       " 4    4837.549805\n",
       " Name: close, dtype: float64,\n",
       " 0            NaN\n",
       " 1    4494.649902\n",
       " 2    4546.200195\n",
       " 3    4732.350098\n",
       " 4    4747.549805\n",
       " Name: close, dtype: float64)"
      ]
     },
     "execution_count": 66,
     "metadata": {},
     "output_type": "execute_result"
    }
   ],
   "source": [
    "df.head(5)['close'],df.close.shift(1).head(5)"
   ]
  },
  {
   "cell_type": "code",
   "execution_count": 67,
   "id": "d3ff0f2e-197b-46b8-9702-06f58df4f252",
   "metadata": {
    "tags": []
   },
   "outputs": [],
   "source": [
    "df['prv close'] = df.close.shift(1)"
   ]
  },
  {
   "cell_type": "code",
   "execution_count": 68,
   "id": "6f0cb332-8812-45a6-90ad-6452a876dc63",
   "metadata": {
    "tags": []
   },
   "outputs": [
    {
     "data": {
      "text/html": [
       "<div>\n",
       "<style scoped>\n",
       "    .dataframe tbody tr th:only-of-type {\n",
       "        vertical-align: middle;\n",
       "    }\n",
       "\n",
       "    .dataframe tbody tr th {\n",
       "        vertical-align: top;\n",
       "    }\n",
       "\n",
       "    .dataframe thead th {\n",
       "        text-align: right;\n",
       "    }\n",
       "</style>\n",
       "<table border=\"1\" class=\"dataframe\">\n",
       "  <thead>\n",
       "    <tr style=\"text-align: right;\">\n",
       "      <th></th>\n",
       "      <th>date</th>\n",
       "      <th>open</th>\n",
       "      <th>high</th>\n",
       "      <th>low</th>\n",
       "      <th>close</th>\n",
       "      <th>volume</th>\n",
       "      <th>year</th>\n",
       "      <th>month</th>\n",
       "      <th>weekday</th>\n",
       "      <th>prv close</th>\n",
       "    </tr>\n",
       "  </thead>\n",
       "  <tbody>\n",
       "    <tr>\n",
       "      <th>0</th>\n",
       "      <td>2007-09-17</td>\n",
       "      <td>4518.450195</td>\n",
       "      <td>4549.049805</td>\n",
       "      <td>4482.850098</td>\n",
       "      <td>4494.649902</td>\n",
       "      <td>0</td>\n",
       "      <td>2007</td>\n",
       "      <td>9</td>\n",
       "      <td>Monday</td>\n",
       "      <td>NaN</td>\n",
       "    </tr>\n",
       "    <tr>\n",
       "      <th>1</th>\n",
       "      <td>2007-09-18</td>\n",
       "      <td>4494.100098</td>\n",
       "      <td>4551.799805</td>\n",
       "      <td>4481.549805</td>\n",
       "      <td>4546.200195</td>\n",
       "      <td>0</td>\n",
       "      <td>2007</td>\n",
       "      <td>9</td>\n",
       "      <td>Tuesday</td>\n",
       "      <td>4494.649902</td>\n",
       "    </tr>\n",
       "    <tr>\n",
       "      <th>2</th>\n",
       "      <td>2007-09-19</td>\n",
       "      <td>4550.250000</td>\n",
       "      <td>4739.000000</td>\n",
       "      <td>4550.250000</td>\n",
       "      <td>4732.350098</td>\n",
       "      <td>0</td>\n",
       "      <td>2007</td>\n",
       "      <td>9</td>\n",
       "      <td>Wednesday</td>\n",
       "      <td>4546.200195</td>\n",
       "    </tr>\n",
       "    <tr>\n",
       "      <th>3</th>\n",
       "      <td>2007-09-20</td>\n",
       "      <td>4734.850098</td>\n",
       "      <td>4760.850098</td>\n",
       "      <td>4721.149902</td>\n",
       "      <td>4747.549805</td>\n",
       "      <td>0</td>\n",
       "      <td>2007</td>\n",
       "      <td>9</td>\n",
       "      <td>Thursday</td>\n",
       "      <td>4732.350098</td>\n",
       "    </tr>\n",
       "    <tr>\n",
       "      <th>4</th>\n",
       "      <td>2007-09-21</td>\n",
       "      <td>4752.950195</td>\n",
       "      <td>4855.700195</td>\n",
       "      <td>4733.700195</td>\n",
       "      <td>4837.549805</td>\n",
       "      <td>0</td>\n",
       "      <td>2007</td>\n",
       "      <td>9</td>\n",
       "      <td>Friday</td>\n",
       "      <td>4747.549805</td>\n",
       "    </tr>\n",
       "  </tbody>\n",
       "</table>\n",
       "</div>"
      ],
      "text/plain": [
       "        date         open         high          low        close  volume  \\\n",
       "0 2007-09-17  4518.450195  4549.049805  4482.850098  4494.649902       0   \n",
       "1 2007-09-18  4494.100098  4551.799805  4481.549805  4546.200195       0   \n",
       "2 2007-09-19  4550.250000  4739.000000  4550.250000  4732.350098       0   \n",
       "3 2007-09-20  4734.850098  4760.850098  4721.149902  4747.549805       0   \n",
       "4 2007-09-21  4752.950195  4855.700195  4733.700195  4837.549805       0   \n",
       "\n",
       "   year  month    weekday    prv close  \n",
       "0  2007      9     Monday          NaN  \n",
       "1  2007      9    Tuesday  4494.649902  \n",
       "2  2007      9  Wednesday  4546.200195  \n",
       "3  2007      9   Thursday  4732.350098  \n",
       "4  2007      9     Friday  4747.549805  "
      ]
     },
     "execution_count": 68,
     "metadata": {},
     "output_type": "execute_result"
    }
   ],
   "source": [
    "df.head()"
   ]
  },
  {
   "cell_type": "code",
   "execution_count": 69,
   "id": "92605ca6-0152-41f8-8e3e-8c8f23fe6cc5",
   "metadata": {
    "tags": []
   },
   "outputs": [],
   "source": [
    "df['change'] = round(((df['close']-df['prv close'])/df['prv close'])*100,2)"
   ]
  },
  {
   "cell_type": "code",
   "execution_count": 72,
   "id": "c6a5a40d-86a2-4b8c-9464-08901f213234",
   "metadata": {
    "tags": []
   },
   "outputs": [
    {
     "data": {
      "text/html": [
       "<div>\n",
       "<style scoped>\n",
       "    .dataframe tbody tr th:only-of-type {\n",
       "        vertical-align: middle;\n",
       "    }\n",
       "\n",
       "    .dataframe tbody tr th {\n",
       "        vertical-align: top;\n",
       "    }\n",
       "\n",
       "    .dataframe thead th {\n",
       "        text-align: right;\n",
       "    }\n",
       "</style>\n",
       "<table border=\"1\" class=\"dataframe\">\n",
       "  <thead>\n",
       "    <tr style=\"text-align: right;\">\n",
       "      <th></th>\n",
       "      <th>date</th>\n",
       "      <th>open</th>\n",
       "      <th>high</th>\n",
       "      <th>low</th>\n",
       "      <th>close</th>\n",
       "      <th>volume</th>\n",
       "      <th>year</th>\n",
       "      <th>month</th>\n",
       "      <th>weekday</th>\n",
       "      <th>prv close</th>\n",
       "      <th>change</th>\n",
       "    </tr>\n",
       "  </thead>\n",
       "  <tbody>\n",
       "    <tr>\n",
       "      <th>3579</th>\n",
       "      <td>2022-05-02</td>\n",
       "      <td>16924.449219</td>\n",
       "      <td>17092.250000</td>\n",
       "      <td>16917.250000</td>\n",
       "      <td>17069.099609</td>\n",
       "      <td>278200</td>\n",
       "      <td>2022</td>\n",
       "      <td>5</td>\n",
       "      <td>Monday</td>\n",
       "      <td>17102.550781</td>\n",
       "      <td>-0.20</td>\n",
       "    </tr>\n",
       "    <tr>\n",
       "      <th>3730</th>\n",
       "      <td>2022-12-08</td>\n",
       "      <td>18570.849609</td>\n",
       "      <td>18625.000000</td>\n",
       "      <td>18536.949219</td>\n",
       "      <td>18609.349609</td>\n",
       "      <td>202800</td>\n",
       "      <td>2022</td>\n",
       "      <td>12</td>\n",
       "      <td>Thursday</td>\n",
       "      <td>18560.500000</td>\n",
       "      <td>0.26</td>\n",
       "    </tr>\n",
       "    <tr>\n",
       "      <th>2933</th>\n",
       "      <td>2019-09-19</td>\n",
       "      <td>10845.200195</td>\n",
       "      <td>10845.200195</td>\n",
       "      <td>10670.250000</td>\n",
       "      <td>10704.799805</td>\n",
       "      <td>642600</td>\n",
       "      <td>2019</td>\n",
       "      <td>9</td>\n",
       "      <td>Thursday</td>\n",
       "      <td>10840.650391</td>\n",
       "      <td>-1.25</td>\n",
       "    </tr>\n",
       "    <tr>\n",
       "      <th>611</th>\n",
       "      <td>2010-03-23</td>\n",
       "      <td>5205.850098</td>\n",
       "      <td>5243.600098</td>\n",
       "      <td>5193.399902</td>\n",
       "      <td>5225.299805</td>\n",
       "      <td>0</td>\n",
       "      <td>2010</td>\n",
       "      <td>3</td>\n",
       "      <td>Tuesday</td>\n",
       "      <td>5205.200195</td>\n",
       "      <td>0.39</td>\n",
       "    </tr>\n",
       "    <tr>\n",
       "      <th>1540</th>\n",
       "      <td>2014-01-03</td>\n",
       "      <td>6194.549805</td>\n",
       "      <td>6221.700195</td>\n",
       "      <td>6171.250000</td>\n",
       "      <td>6211.149902</td>\n",
       "      <td>139000</td>\n",
       "      <td>2014</td>\n",
       "      <td>1</td>\n",
       "      <td>Friday</td>\n",
       "      <td>6221.149902</td>\n",
       "      <td>-0.16</td>\n",
       "    </tr>\n",
       "    <tr>\n",
       "      <th>831</th>\n",
       "      <td>2011-02-04</td>\n",
       "      <td>5519.899902</td>\n",
       "      <td>5556.299805</td>\n",
       "      <td>5369.049805</td>\n",
       "      <td>5395.750000</td>\n",
       "      <td>0</td>\n",
       "      <td>2011</td>\n",
       "      <td>2</td>\n",
       "      <td>Friday</td>\n",
       "      <td>5526.750000</td>\n",
       "      <td>-2.37</td>\n",
       "    </tr>\n",
       "    <tr>\n",
       "      <th>720</th>\n",
       "      <td>2010-08-26</td>\n",
       "      <td>5462.100098</td>\n",
       "      <td>5486.549805</td>\n",
       "      <td>5454.700195</td>\n",
       "      <td>5477.899902</td>\n",
       "      <td>0</td>\n",
       "      <td>2010</td>\n",
       "      <td>8</td>\n",
       "      <td>Thursday</td>\n",
       "      <td>5462.350098</td>\n",
       "      <td>0.28</td>\n",
       "    </tr>\n",
       "    <tr>\n",
       "      <th>1828</th>\n",
       "      <td>2015-03-17</td>\n",
       "      <td>8689.099609</td>\n",
       "      <td>8742.549805</td>\n",
       "      <td>8630.799805</td>\n",
       "      <td>8723.299805</td>\n",
       "      <td>177000</td>\n",
       "      <td>2015</td>\n",
       "      <td>3</td>\n",
       "      <td>Tuesday</td>\n",
       "      <td>8633.150391</td>\n",
       "      <td>1.04</td>\n",
       "    </tr>\n",
       "    <tr>\n",
       "      <th>435</th>\n",
       "      <td>2009-07-02</td>\n",
       "      <td>4373.500000</td>\n",
       "      <td>4383.649902</td>\n",
       "      <td>4288.750000</td>\n",
       "      <td>4348.850098</td>\n",
       "      <td>0</td>\n",
       "      <td>2009</td>\n",
       "      <td>7</td>\n",
       "      <td>Thursday</td>\n",
       "      <td>4340.899902</td>\n",
       "      <td>0.18</td>\n",
       "    </tr>\n",
       "    <tr>\n",
       "      <th>1171</th>\n",
       "      <td>2012-06-29</td>\n",
       "      <td>5191.250000</td>\n",
       "      <td>5286.250000</td>\n",
       "      <td>5189.000000</td>\n",
       "      <td>5278.899902</td>\n",
       "      <td>0</td>\n",
       "      <td>2012</td>\n",
       "      <td>6</td>\n",
       "      <td>Friday</td>\n",
       "      <td>5149.149902</td>\n",
       "      <td>2.52</td>\n",
       "    </tr>\n",
       "  </tbody>\n",
       "</table>\n",
       "</div>"
      ],
      "text/plain": [
       "           date          open          high           low         close  \\\n",
       "3579 2022-05-02  16924.449219  17092.250000  16917.250000  17069.099609   \n",
       "3730 2022-12-08  18570.849609  18625.000000  18536.949219  18609.349609   \n",
       "2933 2019-09-19  10845.200195  10845.200195  10670.250000  10704.799805   \n",
       "611  2010-03-23   5205.850098   5243.600098   5193.399902   5225.299805   \n",
       "1540 2014-01-03   6194.549805   6221.700195   6171.250000   6211.149902   \n",
       "831  2011-02-04   5519.899902   5556.299805   5369.049805   5395.750000   \n",
       "720  2010-08-26   5462.100098   5486.549805   5454.700195   5477.899902   \n",
       "1828 2015-03-17   8689.099609   8742.549805   8630.799805   8723.299805   \n",
       "435  2009-07-02   4373.500000   4383.649902   4288.750000   4348.850098   \n",
       "1171 2012-06-29   5191.250000   5286.250000   5189.000000   5278.899902   \n",
       "\n",
       "      volume  year  month   weekday     prv close  change  \n",
       "3579  278200  2022      5    Monday  17102.550781   -0.20  \n",
       "3730  202800  2022     12  Thursday  18560.500000    0.26  \n",
       "2933  642600  2019      9  Thursday  10840.650391   -1.25  \n",
       "611        0  2010      3   Tuesday   5205.200195    0.39  \n",
       "1540  139000  2014      1    Friday   6221.149902   -0.16  \n",
       "831        0  2011      2    Friday   5526.750000   -2.37  \n",
       "720        0  2010      8  Thursday   5462.350098    0.28  \n",
       "1828  177000  2015      3   Tuesday   8633.150391    1.04  \n",
       "435        0  2009      7  Thursday   4340.899902    0.18  \n",
       "1171       0  2012      6    Friday   5149.149902    2.52  "
      ]
     },
     "execution_count": 72,
     "metadata": {},
     "output_type": "execute_result"
    }
   ],
   "source": [
    "df.sample(10)"
   ]
  },
  {
   "cell_type": "code",
   "execution_count": 79,
   "id": "07e51ab9-7724-4c56-ada3-be8de392f42d",
   "metadata": {
    "tags": []
   },
   "outputs": [
    {
     "data": {
      "text/plain": [
       "<Axes: xlabel='change', ylabel='Count'>"
      ]
     },
     "execution_count": 79,
     "metadata": {},
     "output_type": "execute_result"
    },
    {
     "data": {
      "image/png": "[encoded data removed]",
      "text/plain": [
       "<Figure size 640x480 with 1 Axes>"
      ]
     },
     "metadata": {},
     "output_type": "display_data"
    }
   ],
   "source": [
    "sns.histplot(data=df.loc[(df.change<5)&(df.change>-5) ],x='change',bins=60)"
   ]
  },
  {
   "cell_type": "code",
   "execution_count": 85,
   "id": "2e8749e7-68b1-4f1f-8c16-5de5b2c37694",
   "metadata": {
    "tags": []
   },
   "outputs": [
    {
     "data": {
      "text/plain": [
       "weekday\n",
       "Thursday    -0.016991\n",
       "Monday       0.008427\n",
       "Tuesday      0.076634\n",
       "Friday       0.076716\n",
       "Wednesday    0.103089\n",
       "Name: change, dtype: float64"
      ]
     },
     "execution_count": 85,
     "metadata": {},
     "output_type": "execute_result"
    }
   ],
   "source": [
    "df.groupby('weekday')['change'].mean().sort_values()"
   ]
  },
  {
   "cell_type": "code",
   "execution_count": 86,
   "id": "5f9b3531-6f05-40b8-8196-be17a4a7f471",
   "metadata": {
    "tags": []
   },
   "outputs": [
    {
     "data": {
      "text/html": [
       "<div>\n",
       "<style scoped>\n",
       "    .dataframe tbody tr th:only-of-type {\n",
       "        vertical-align: middle;\n",
       "    }\n",
       "\n",
       "    .dataframe tbody tr th {\n",
       "        vertical-align: top;\n",
       "    }\n",
       "\n",
       "    .dataframe thead th {\n",
       "        text-align: right;\n",
       "    }\n",
       "</style>\n",
       "<table border=\"1\" class=\"dataframe\">\n",
       "  <thead>\n",
       "    <tr style=\"text-align: right;\">\n",
       "      <th></th>\n",
       "      <th>date</th>\n",
       "      <th>open</th>\n",
       "      <th>high</th>\n",
       "      <th>low</th>\n",
       "      <th>close</th>\n",
       "      <th>volume</th>\n",
       "      <th>year</th>\n",
       "      <th>month</th>\n",
       "      <th>weekday</th>\n",
       "      <th>prv close</th>\n",
       "      <th>change</th>\n",
       "    </tr>\n",
       "  </thead>\n",
       "  <tbody>\n",
       "    <tr>\n",
       "      <th>0</th>\n",
       "      <td>2007-09-17</td>\n",
       "      <td>4518.450195</td>\n",
       "      <td>4549.049805</td>\n",
       "      <td>4482.850098</td>\n",
       "      <td>4494.649902</td>\n",
       "      <td>0</td>\n",
       "      <td>2007</td>\n",
       "      <td>9</td>\n",
       "      <td>Monday</td>\n",
       "      <td>NaN</td>\n",
       "      <td>NaN</td>\n",
       "    </tr>\n",
       "    <tr>\n",
       "      <th>1</th>\n",
       "      <td>2007-09-18</td>\n",
       "      <td>4494.100098</td>\n",
       "      <td>4551.799805</td>\n",
       "      <td>4481.549805</td>\n",
       "      <td>4546.200195</td>\n",
       "      <td>0</td>\n",
       "      <td>2007</td>\n",
       "      <td>9</td>\n",
       "      <td>Tuesday</td>\n",
       "      <td>4494.649902</td>\n",
       "      <td>1.15</td>\n",
       "    </tr>\n",
       "    <tr>\n",
       "      <th>2</th>\n",
       "      <td>2007-09-19</td>\n",
       "      <td>4550.250000</td>\n",
       "      <td>4739.000000</td>\n",
       "      <td>4550.250000</td>\n",
       "      <td>4732.350098</td>\n",
       "      <td>0</td>\n",
       "      <td>2007</td>\n",
       "      <td>9</td>\n",
       "      <td>Wednesday</td>\n",
       "      <td>4546.200195</td>\n",
       "      <td>4.09</td>\n",
       "    </tr>\n",
       "    <tr>\n",
       "      <th>3</th>\n",
       "      <td>2007-09-20</td>\n",
       "      <td>4734.850098</td>\n",
       "      <td>4760.850098</td>\n",
       "      <td>4721.149902</td>\n",
       "      <td>4747.549805</td>\n",
       "      <td>0</td>\n",
       "      <td>2007</td>\n",
       "      <td>9</td>\n",
       "      <td>Thursday</td>\n",
       "      <td>4732.350098</td>\n",
       "      <td>0.32</td>\n",
       "    </tr>\n",
       "    <tr>\n",
       "      <th>4</th>\n",
       "      <td>2007-09-21</td>\n",
       "      <td>4752.950195</td>\n",
       "      <td>4855.700195</td>\n",
       "      <td>4733.700195</td>\n",
       "      <td>4837.549805</td>\n",
       "      <td>0</td>\n",
       "      <td>2007</td>\n",
       "      <td>9</td>\n",
       "      <td>Friday</td>\n",
       "      <td>4747.549805</td>\n",
       "      <td>1.90</td>\n",
       "    </tr>\n",
       "  </tbody>\n",
       "</table>\n",
       "</div>"
      ],
      "text/plain": [
       "        date         open         high          low        close  volume  \\\n",
       "0 2007-09-17  4518.450195  4549.049805  4482.850098  4494.649902       0   \n",
       "1 2007-09-18  4494.100098  4551.799805  4481.549805  4546.200195       0   \n",
       "2 2007-09-19  4550.250000  4739.000000  4550.250000  4732.350098       0   \n",
       "3 2007-09-20  4734.850098  4760.850098  4721.149902  4747.549805       0   \n",
       "4 2007-09-21  4752.950195  4855.700195  4733.700195  4837.549805       0   \n",
       "\n",
       "   year  month    weekday    prv close  change  \n",
       "0  2007      9     Monday          NaN     NaN  \n",
       "1  2007      9    Tuesday  4494.649902    1.15  \n",
       "2  2007      9  Wednesday  4546.200195    4.09  \n",
       "3  2007      9   Thursday  4732.350098    0.32  \n",
       "4  2007      9     Friday  4747.549805    1.90  "
      ]
     },
     "execution_count": 86,
     "metadata": {},
     "output_type": "execute_result"
    }
   ],
   "source": [
    "df.head()"
   ]
  },
  {
   "cell_type": "code",
   "execution_count": 88,
   "id": "99bbf403-c48e-4033-b6c0-ca7bc3da7ded",
   "metadata": {
    "tags": []
   },
   "outputs": [],
   "source": [
    "df['range'] = (df['high']-df['low'])/df['low']*100"
   ]
  },
  {
   "cell_type": "code",
   "execution_count": 91,
   "id": "73c8fdcd-fa60-450f-bcff-ea04f080caa7",
   "metadata": {
    "tags": []
   },
   "outputs": [
    {
     "data": {
      "text/plain": [
       "<Axes: xlabel='range', ylabel='Count'>"
      ]
     },
     "execution_count": 91,
     "metadata": {},
     "output_type": "execute_result"
    },
    {
     "data": {
      "image/png": "[encoded data removed]",
      "text/plain": [
       "<Figure size 640x480 with 1 Axes>"
      ]
     },
     "metadata": {},
     "output_type": "display_data"
    }
   ],
   "source": [
    "sns.histplot(data = df.loc[df['range']<5],x='range',bins=30)"
   ]
  },
  {
   "cell_type": "code",
   "execution_count": 127,
   "id": "2af07f55-43bc-4b90-b094-b6a6236b77f1",
   "metadata": {
    "tags": []
   },
   "outputs": [],
   "source": [
    "df['jc']=abs(df['change'])"
   ]
  },
  {
   "cell_type": "code",
   "execution_count": 129,
   "id": "5b81a740-d47f-43c2-af32-b8e466cef890",
   "metadata": {
    "tags": []
   },
   "outputs": [
    {
     "data": {
      "text/plain": [
       "weekday\n",
       "Friday       0.935037\n",
       "Monday       1.019207\n",
       "Thursday     0.842473\n",
       "Tuesday      0.824915\n",
       "Wednesday    0.832103\n",
       "Name: jc, dtype: float64"
      ]
     },
     "execution_count": 129,
     "metadata": {},
     "output_type": "execute_result"
    }
   ],
   "source": [
    "df.groupby('weekday')['jc'].mean()"
   ]
  },
  {
   "cell_type": "code",
   "execution_count": 130,
   "id": "ab7ae3de-2e27-495a-b58f-2d0126a75878",
   "metadata": {
    "tags": []
   },
   "outputs": [
    {
     "data": {
      "text/plain": [
       "0.8903601849598443"
      ]
     },
     "execution_count": 130,
     "metadata": {},
     "output_type": "execute_result"
    }
   ],
   "source": [
    "df.jc.mean()"
   ]
  },
  {
   "cell_type": "code",
   "execution_count": 131,
   "id": "274b49b0-2ea8-4261-b04c-7a0664c53330",
   "metadata": {},
   "outputs": [
    {
     "data": {
      "text/html": [
       "<div>\n",
       "<style scoped>\n",
       "    .dataframe tbody tr th:only-of-type {\n",
       "        vertical-align: middle;\n",
       "    }\n",
       "\n",
       "    .dataframe tbody tr th {\n",
       "        vertical-align: top;\n",
       "    }\n",
       "\n",
       "    .dataframe thead th {\n",
       "        text-align: right;\n",
       "    }\n",
       "</style>\n",
       "<table border=\"1\" class=\"dataframe\">\n",
       "  <thead>\n",
       "    <tr style=\"text-align: right;\">\n",
       "      <th></th>\n",
       "      <th>date</th>\n",
       "      <th>open</th>\n",
       "      <th>high</th>\n",
       "      <th>low</th>\n",
       "      <th>close</th>\n",
       "      <th>volume</th>\n",
       "      <th>year</th>\n",
       "      <th>month</th>\n",
       "      <th>weekday</th>\n",
       "      <th>prv close</th>\n",
       "      <th>change</th>\n",
       "      <th>range</th>\n",
       "      <th>jc</th>\n",
       "    </tr>\n",
       "  </thead>\n",
       "  <tbody>\n",
       "    <tr>\n",
       "      <th>0</th>\n",
       "      <td>2007-09-17</td>\n",
       "      <td>4518.450195</td>\n",
       "      <td>4549.049805</td>\n",
       "      <td>4482.850098</td>\n",
       "      <td>4494.649902</td>\n",
       "      <td>0</td>\n",
       "      <td>2007</td>\n",
       "      <td>9</td>\n",
       "      <td>Monday</td>\n",
       "      <td>NaN</td>\n",
       "      <td>NaN</td>\n",
       "      <td>1.476733</td>\n",
       "      <td>NaN</td>\n",
       "    </tr>\n",
       "    <tr>\n",
       "      <th>1</th>\n",
       "      <td>2007-09-18</td>\n",
       "      <td>4494.100098</td>\n",
       "      <td>4551.799805</td>\n",
       "      <td>4481.549805</td>\n",
       "      <td>4546.200195</td>\n",
       "      <td>0</td>\n",
       "      <td>2007</td>\n",
       "      <td>9</td>\n",
       "      <td>Tuesday</td>\n",
       "      <td>4494.649902</td>\n",
       "      <td>1.15</td>\n",
       "      <td>1.567538</td>\n",
       "      <td>1.15</td>\n",
       "    </tr>\n",
       "    <tr>\n",
       "      <th>2</th>\n",
       "      <td>2007-09-19</td>\n",
       "      <td>4550.250000</td>\n",
       "      <td>4739.000000</td>\n",
       "      <td>4550.250000</td>\n",
       "      <td>4732.350098</td>\n",
       "      <td>0</td>\n",
       "      <td>2007</td>\n",
       "      <td>9</td>\n",
       "      <td>Wednesday</td>\n",
       "      <td>4546.200195</td>\n",
       "      <td>4.09</td>\n",
       "      <td>4.148124</td>\n",
       "      <td>4.09</td>\n",
       "    </tr>\n",
       "    <tr>\n",
       "      <th>3</th>\n",
       "      <td>2007-09-20</td>\n",
       "      <td>4734.850098</td>\n",
       "      <td>4760.850098</td>\n",
       "      <td>4721.149902</td>\n",
       "      <td>4747.549805</td>\n",
       "      <td>0</td>\n",
       "      <td>2007</td>\n",
       "      <td>9</td>\n",
       "      <td>Thursday</td>\n",
       "      <td>4732.350098</td>\n",
       "      <td>0.32</td>\n",
       "      <td>0.840901</td>\n",
       "      <td>0.32</td>\n",
       "    </tr>\n",
       "    <tr>\n",
       "      <th>4</th>\n",
       "      <td>2007-09-21</td>\n",
       "      <td>4752.950195</td>\n",
       "      <td>4855.700195</td>\n",
       "      <td>4733.700195</td>\n",
       "      <td>4837.549805</td>\n",
       "      <td>0</td>\n",
       "      <td>2007</td>\n",
       "      <td>9</td>\n",
       "      <td>Friday</td>\n",
       "      <td>4747.549805</td>\n",
       "      <td>1.90</td>\n",
       "      <td>2.577265</td>\n",
       "      <td>1.90</td>\n",
       "    </tr>\n",
       "  </tbody>\n",
       "</table>\n",
       "</div>"
      ],
      "text/plain": [
       "        date         open         high          low        close  volume  \\\n",
       "0 2007-09-17  4518.450195  4549.049805  4482.850098  4494.649902       0   \n",
       "1 2007-09-18  4494.100098  4551.799805  4481.549805  4546.200195       0   \n",
       "2 2007-09-19  4550.250000  4739.000000  4550.250000  4732.350098       0   \n",
       "3 2007-09-20  4734.850098  4760.850098  4721.149902  4747.549805       0   \n",
       "4 2007-09-21  4752.950195  4855.700195  4733.700195  4837.549805       0   \n",
       "\n",
       "   year  month    weekday    prv close  change     range    jc  \n",
       "0  2007      9     Monday          NaN     NaN  1.476733   NaN  \n",
       "1  2007      9    Tuesday  4494.649902    1.15  1.567538  1.15  \n",
       "2  2007      9  Wednesday  4546.200195    4.09  4.148124  4.09  \n",
       "3  2007      9   Thursday  4732.350098    0.32  0.840901  0.32  \n",
       "4  2007      9     Friday  4747.549805    1.90  2.577265  1.90  "
      ]
     },
     "execution_count": 131,
     "metadata": {},
     "output_type": "execute_result"
    }
   ],
   "source": [
    "df.head()"
   ]
  },
  {
   "cell_type": "code",
   "execution_count": 132,
   "id": "f874b4fb-f039-45e4-b109-9e6bfc739935",
   "metadata": {
    "tags": []
   },
   "outputs": [],
   "source": [
    "df['night'] = df.close - df.open"
   ]
  },
  {
   "cell_type": "code",
   "execution_count": 146,
   "id": "9f4d210b-8036-4d0b-bf31-91732e2aa393",
   "metadata": {
    "tags": []
   },
   "outputs": [
    {
     "data": {
      "text/plain": [
       "<Axes: xlabel='night', ylabel='Count'>"
      ]
     },
     "execution_count": 146,
     "metadata": {},
     "output_type": "execute_result"
    },
    {
     "data": {
      "image/png": "[encoded data removed]",
      "text/plain": [
       "<Figure size 640x480 with 1 Axes>"
      ]
     },
     "metadata": {},
     "output_type": "display_data"
    }
   ],
   "source": [
    "rangee = 200\n",
    "year = 2024\n",
    "sns.histplot(data=df.loc[\n",
    "    (df['night']>-rangee) & \n",
    "    (df['night']<rangee) &\n",
    "    (df['year']==year)]\n",
    "             ,x='night',bins=30)"
   ]
  },
  {
   "cell_type": "markdown",
   "id": "38b62d6b-9306-45cc-9439-18588465e684",
   "metadata": {},
   "source": [
    "I found that most of the time the nifty opens on the range of -100 to +100 "
   ]
  },
  {
   "cell_type": "code",
   "execution_count": 140,
   "id": "754126da-bd9d-4a12-8567-cfa8ac553d39",
   "metadata": {
    "tags": []
   },
   "outputs": [
    {
     "data": {
      "text/html": [
       "<div>\n",
       "<style scoped>\n",
       "    .dataframe tbody tr th:only-of-type {\n",
       "        vertical-align: middle;\n",
       "    }\n",
       "\n",
       "    .dataframe tbody tr th {\n",
       "        vertical-align: top;\n",
       "    }\n",
       "\n",
       "    .dataframe thead th {\n",
       "        text-align: right;\n",
       "    }\n",
       "</style>\n",
       "<table border=\"1\" class=\"dataframe\">\n",
       "  <thead>\n",
       "    <tr style=\"text-align: right;\">\n",
       "      <th></th>\n",
       "      <th>0</th>\n",
       "      <th>1</th>\n",
       "    </tr>\n",
       "  </thead>\n",
       "  <tbody>\n",
       "    <tr>\n",
       "      <th>date</th>\n",
       "      <td>2007-09-17 00:00:00</td>\n",
       "      <td>2007-09-18 00:00:00</td>\n",
       "    </tr>\n",
       "    <tr>\n",
       "      <th>open</th>\n",
       "      <td>4518.450195</td>\n",
       "      <td>4494.100098</td>\n",
       "    </tr>\n",
       "    <tr>\n",
       "      <th>high</th>\n",
       "      <td>4549.049805</td>\n",
       "      <td>4551.799805</td>\n",
       "    </tr>\n",
       "    <tr>\n",
       "      <th>low</th>\n",
       "      <td>4482.850098</td>\n",
       "      <td>4481.549805</td>\n",
       "    </tr>\n",
       "    <tr>\n",
       "      <th>close</th>\n",
       "      <td>4494.649902</td>\n",
       "      <td>4546.200195</td>\n",
       "    </tr>\n",
       "    <tr>\n",
       "      <th>volume</th>\n",
       "      <td>0</td>\n",
       "      <td>0</td>\n",
       "    </tr>\n",
       "    <tr>\n",
       "      <th>year</th>\n",
       "      <td>2007</td>\n",
       "      <td>2007</td>\n",
       "    </tr>\n",
       "    <tr>\n",
       "      <th>month</th>\n",
       "      <td>9</td>\n",
       "      <td>9</td>\n",
       "    </tr>\n",
       "    <tr>\n",
       "      <th>weekday</th>\n",
       "      <td>Monday</td>\n",
       "      <td>Tuesday</td>\n",
       "    </tr>\n",
       "    <tr>\n",
       "      <th>prv close</th>\n",
       "      <td>NaN</td>\n",
       "      <td>4494.649902</td>\n",
       "    </tr>\n",
       "    <tr>\n",
       "      <th>change</th>\n",
       "      <td>NaN</td>\n",
       "      <td>1.15</td>\n",
       "    </tr>\n",
       "    <tr>\n",
       "      <th>range</th>\n",
       "      <td>1.476733</td>\n",
       "      <td>1.567538</td>\n",
       "    </tr>\n",
       "    <tr>\n",
       "      <th>jc</th>\n",
       "      <td>NaN</td>\n",
       "      <td>1.15</td>\n",
       "    </tr>\n",
       "    <tr>\n",
       "      <th>night</th>\n",
       "      <td>-23.800293</td>\n",
       "      <td>52.100098</td>\n",
       "    </tr>\n",
       "  </tbody>\n",
       "</table>\n",
       "</div>"
      ],
      "text/plain": [
       "                             0                    1\n",
       "date       2007-09-17 00:00:00  2007-09-18 00:00:00\n",
       "open               4518.450195          4494.100098\n",
       "high               4549.049805          4551.799805\n",
       "low                4482.850098          4481.549805\n",
       "close              4494.649902          4546.200195\n",
       "volume                       0                    0\n",
       "year                      2007                 2007\n",
       "month                        9                    9\n",
       "weekday                 Monday              Tuesday\n",
       "prv close                  NaN          4494.649902\n",
       "change                     NaN                 1.15\n",
       "range                 1.476733             1.567538\n",
       "jc                         NaN                 1.15\n",
       "night               -23.800293            52.100098"
      ]
     },
     "execution_count": 140,
     "metadata": {},
     "output_type": "execute_result"
    }
   ],
   "source": [
    "df.head(2).T"
   ]
  },
  {
   "cell_type": "code",
   "execution_count": null,
   "id": "22e817eb-4d53-4925-9850-eb1fdfcf1e4f",
   "metadata": {},
   "outputs": [],
   "source": []
  }
 ],
 "metadata": {
  "kernelspec": {
   "display_name": "Python 3 (ipykernel)",
   "language": "python",
   "name": "python3"
  },
  "language_info": {
   "codemirror_mode": {
    "name": "ipython",
    "version": 3
   },
   "file_extension": ".py",
   "mimetype": "text/x-python",
   "name": "python",
   "nbconvert_exporter": "python",
   "pygments_lexer": "ipython3",
   "version": "3.11.5"
  }
 },
 "nbformat": 4,
 "nbformat_minor": 5
}
