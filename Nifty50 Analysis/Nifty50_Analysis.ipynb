{
 "cells": [
  {
   "cell_type": "code",
   "execution_count": 1,
   "id": "18f07fce-5820-4ba3-9226-a7427fd9d92d",
   "metadata": {
    "tags": []
   },
   "outputs": [],
   "source": [
    "import matplotlib.pyplot as plt\n",
    "import pandas as pd\n",
    "import seaborn as sns\n",
    "import yfinance as yf"
   ]
  },
  {
   "cell_type": "code",
   "execution_count": 4,
   "id": "9e19ba28-702d-4583-aef3-55f1728fe2b9",
   "metadata": {
    "tags": []
   },
   "outputs": [
    {
     "name": "stderr",
     "output_type": "stream",
     "text": [
      "[*********************100%***********************]  1 of 1 completed\n",
      "\n",
      "1 Failed download:\n",
      "['SBIN']: YFRateLimitError('Too Many Requests. Rate limited. Try after a while.')\n"
     ]
    },
    {
     "data": {
      "text/html": [
       "<div>\n",
       "<style scoped>\n",
       "    .dataframe tbody tr th:only-of-type {\n",
       "        vertical-align: middle;\n",
       "    }\n",
       "\n",
       "    .dataframe tbody tr th {\n",
       "        vertical-align: top;\n",
       "    }\n",
       "\n",
       "    .dataframe thead tr th {\n",
       "        text-align: left;\n",
       "    }\n",
       "\n",
       "    .dataframe thead tr:last-of-type th {\n",
       "        text-align: right;\n",
       "    }\n",
       "</style>\n",
       "<table border=\"1\" class=\"dataframe\">\n",
       "  <thead>\n",
       "    <tr>\n",
       "      <th>Price</th>\n",
       "      <th>Adj Close</th>\n",
       "      <th>Close</th>\n",
       "      <th>High</th>\n",
       "      <th>Low</th>\n",
       "      <th>Open</th>\n",
       "      <th>Volume</th>\n",
       "    </tr>\n",
       "    <tr>\n",
       "      <th>Ticker</th>\n",
       "      <th>SBIN</th>\n",
       "      <th>SBIN</th>\n",
       "      <th>SBIN</th>\n",
       "      <th>SBIN</th>\n",
       "      <th>SBIN</th>\n",
       "      <th>SBIN</th>\n",
       "    </tr>\n",
       "    <tr>\n",
       "      <th>Date</th>\n",
       "      <th></th>\n",
       "      <th></th>\n",
       "      <th></th>\n",
       "      <th></th>\n",
       "      <th></th>\n",
       "      <th></th>\n",
       "    </tr>\n",
       "  </thead>\n",
       "  <tbody>\n",
       "  </tbody>\n",
       "</table>\n",
       "</div>"
      ],
      "text/plain": [
       "Empty DataFrame\n",
       "Columns: [(Adj Close, SBIN), (Close, SBIN), (High, SBIN), (Low, SBIN), (Open, SBIN), (Volume, SBIN)]\n",
       "Index: []"
      ]
     },
     "execution_count": 4,
     "metadata": {},
     "output_type": "execute_result"
    }
   ],
   "source": [
    "df = yf.download('SBIN',start='2000-01-01')\n",
    "df.head()"
   ]
  },
  {
   "cell_type": "code",
   "execution_count": 13,
   "id": "b1914156-dccb-479f-a43f-ed0c8776d3c2",
   "metadata": {
    "tags": []
   },
   "outputs": [],
   "source": [
    "df.columns = df.columns.str.lower()"
   ]
  },
  {
   "cell_type": "code",
   "execution_count": 5,
   "id": "7c3a4115-ac88-4189-a82c-3c43daccdddd",
   "metadata": {
    "tags": []
   },
   "outputs": [
    {
     "data": {
      "text/plain": [
       "Index(['open', 'high', 'low', 'close', 'adj close', 'volume'], dtype='object')"
      ]
     },
     "execution_count": 5,
     "metadata": {},
     "output_type": "execute_result"
    }
   ],
   "source": [
    "df.columns"
   ]
  },
  {
   "cell_type": "code",
   "execution_count": 6,
   "id": "ddc66e20-0e07-4aca-a057-737b0d7ffbb2",
   "metadata": {
    "tags": []
   },
   "outputs": [],
   "source": [
    "df.drop(['adj close'],axis=1,inplace=True)"
   ]
  },
  {
   "cell_type": "code",
   "execution_count": 7,
   "id": "10178bcf-b1d4-4d1f-8925-3900b13186e2",
   "metadata": {
    "tags": []
   },
   "outputs": [
    {
     "data": {
      "text/html": [
       "<div>\n",
       "<style scoped>\n",
       "    .dataframe tbody tr th:only-of-type {\n",
       "        vertical-align: middle;\n",
       "    }\n",
       "\n",
       "    .dataframe tbody tr th {\n",
       "        vertical-align: top;\n",
       "    }\n",
       "\n",
       "    .dataframe thead th {\n",
       "        text-align: right;\n",
       "    }\n",
       "</style>\n",
       "<table border=\"1\" class=\"dataframe\">\n",
       "  <thead>\n",
       "    <tr style=\"text-align: right;\">\n",
       "      <th></th>\n",
       "      <th>open</th>\n",
       "      <th>high</th>\n",
       "      <th>low</th>\n",
       "      <th>close</th>\n",
       "      <th>volume</th>\n",
       "    </tr>\n",
       "    <tr>\n",
       "      <th>Date</th>\n",
       "      <th></th>\n",
       "      <th></th>\n",
       "      <th></th>\n",
       "      <th></th>\n",
       "      <th></th>\n",
       "    </tr>\n",
       "  </thead>\n",
       "  <tbody>\n",
       "    <tr>\n",
       "      <th>2024-07-16</th>\n",
       "      <td>24615.900391</td>\n",
       "      <td>24661.250000</td>\n",
       "      <td>24587.650391</td>\n",
       "      <td>24613.000000</td>\n",
       "      <td>283200</td>\n",
       "    </tr>\n",
       "    <tr>\n",
       "      <th>2024-07-18</th>\n",
       "      <td>24543.800781</td>\n",
       "      <td>24837.750000</td>\n",
       "      <td>24504.449219</td>\n",
       "      <td>24800.849609</td>\n",
       "      <td>350900</td>\n",
       "    </tr>\n",
       "    <tr>\n",
       "      <th>2024-07-19</th>\n",
       "      <td>24853.800781</td>\n",
       "      <td>24854.800781</td>\n",
       "      <td>24508.150391</td>\n",
       "      <td>24530.900391</td>\n",
       "      <td>343800</td>\n",
       "    </tr>\n",
       "    <tr>\n",
       "      <th>2024-07-22</th>\n",
       "      <td>24445.750000</td>\n",
       "      <td>24595.199219</td>\n",
       "      <td>24362.300781</td>\n",
       "      <td>24509.250000</td>\n",
       "      <td>324200</td>\n",
       "    </tr>\n",
       "    <tr>\n",
       "      <th>2024-07-23</th>\n",
       "      <td>24568.900391</td>\n",
       "      <td>24582.550781</td>\n",
       "      <td>24074.199219</td>\n",
       "      <td>24479.050781</td>\n",
       "      <td>436400</td>\n",
       "    </tr>\n",
       "  </tbody>\n",
       "</table>\n",
       "</div>"
      ],
      "text/plain": [
       "                    open          high           low         close  volume\n",
       "Date                                                                      \n",
       "2024-07-16  24615.900391  24661.250000  24587.650391  24613.000000  283200\n",
       "2024-07-18  24543.800781  24837.750000  24504.449219  24800.849609  350900\n",
       "2024-07-19  24853.800781  24854.800781  24508.150391  24530.900391  343800\n",
       "2024-07-22  24445.750000  24595.199219  24362.300781  24509.250000  324200\n",
       "2024-07-23  24568.900391  24582.550781  24074.199219  24479.050781  436400"
      ]
     },
     "execution_count": 7,
     "metadata": {},
     "output_type": "execute_result"
    }
   ],
   "source": [
    "df.tail()"
   ]
  },
  {
   "cell_type": "code",
   "execution_count": 8,
   "id": "85917e0f-556b-449a-9fca-b6fb0a29b5fc",
   "metadata": {
    "tags": []
   },
   "outputs": [
    {
     "data": {
      "text/plain": [
       "<Axes: xlabel='Date'>"
      ]
     },
     "execution_count": 8,
     "metadata": {},
     "output_type": "execute_result"
    },
    {
     "data": {
      "image/png": "[encoded data removed]",
      "text/plain": [
       "<Figure size 640x480 with 1 Axes>"
      ]
     },
     "metadata": {},
     "output_type": "display_data"
    }
   ],
   "source": [
    "df['close'].plot()"
   ]
  },
  {
   "cell_type": "code",
   "execution_count": 9,
   "id": "0457b9f5-8fb3-4ad7-aa9b-de6232b2b727",
   "metadata": {
    "tags": []
   },
   "outputs": [],
   "source": [
    "df = df.reset_index()"
   ]
  },
  {
   "cell_type": "code",
   "execution_count": 10,
   "id": "36df58ad-67cc-48d7-9c2e-4174257dfbcf",
   "metadata": {
    "tags": []
   },
   "outputs": [
    {
     "name": "stdout",
     "output_type": "stream",
     "text": [
      "<class 'pandas.core.frame.DataFrame'>\n",
      "RangeIndex: 4128 entries, 0 to 4127\n",
      "Data columns (total 6 columns):\n",
      " #   Column  Non-Null Count  Dtype         \n",
      "---  ------  --------------  -----         \n",
      " 0   Date    4128 non-null   datetime64[ns]\n",
      " 1   open    4128 non-null   float64       \n",
      " 2   high    4128 non-null   float64       \n",
      " 3   low     4128 non-null   float64       \n",
      " 4   close   4128 non-null   float64       \n",
      " 5   volume  4128 non-null   int64         \n",
      "dtypes: datetime64[ns](1), float64(4), int64(1)\n",
      "memory usage: 193.6 KB\n"
     ]
    }
   ],
   "source": [
    "df.info()"
   ]
  },
  {
   "cell_type": "code",
   "execution_count": 14,
   "id": "44d0afb5-e7ef-4d5c-aa68-0e495808775f",
   "metadata": {
    "tags": []
   },
   "outputs": [],
   "source": [
    "df['year']=df['date'].dt.year"
   ]
  },
  {
   "cell_type": "code",
   "execution_count": 15,
   "id": "db88741c-3256-47e6-9cff-1faed9d7c157",
   "metadata": {
    "tags": []
   },
   "outputs": [],
   "source": [
    "df['month'] = df['date'].dt.month"
   ]
  },
  {
   "cell_type": "code",
   "execution_count": 16,
   "id": "41c3fe16-2cf9-4c7e-a1a0-8d0f27003591",
   "metadata": {
    "tags": []
   },
   "outputs": [],
   "source": [
    "df['weekday'] = df['date'].dt.day_name()"
   ]
  },
  {
   "cell_type": "code",
   "execution_count": 17,
   "id": "1dfbb1f3-12aa-4e99-9b6a-7120efdd491d",
   "metadata": {
    "tags": []
   },
   "outputs": [
    {
     "data": {
      "text/html": [
       "<div>\n",
       "<style scoped>\n",
       "    .dataframe tbody tr th:only-of-type {\n",
       "        vertical-align: middle;\n",
       "    }\n",
       "\n",
       "    .dataframe tbody tr th {\n",
       "        vertical-align: top;\n",
       "    }\n",
       "\n",
       "    .dataframe thead th {\n",
       "        text-align: right;\n",
       "    }\n",
       "</style>\n",
       "<table border=\"1\" class=\"dataframe\">\n",
       "  <thead>\n",
       "    <tr style=\"text-align: right;\">\n",
       "      <th></th>\n",
       "      <th>date</th>\n",
       "      <th>open</th>\n",
       "      <th>high</th>\n",
       "      <th>low</th>\n",
       "      <th>close</th>\n",
       "      <th>volume</th>\n",
       "      <th>year</th>\n",
       "      <th>month</th>\n",
       "      <th>weekday</th>\n",
       "    </tr>\n",
       "  </thead>\n",
       "  <tbody>\n",
       "    <tr>\n",
       "      <th>0</th>\n",
       "      <td>2007-09-17</td>\n",
       "      <td>4518.450195</td>\n",
       "      <td>4549.049805</td>\n",
       "      <td>4482.850098</td>\n",
       "      <td>4494.649902</td>\n",
       "      <td>0</td>\n",
       "      <td>2007</td>\n",
       "      <td>9</td>\n",
       "      <td>Monday</td>\n",
       "    </tr>\n",
       "    <tr>\n",
       "      <th>1</th>\n",
       "      <td>2007-09-18</td>\n",
       "      <td>4494.100098</td>\n",
       "      <td>4551.799805</td>\n",
       "      <td>4481.549805</td>\n",
       "      <td>4546.200195</td>\n",
       "      <td>0</td>\n",
       "      <td>2007</td>\n",
       "      <td>9</td>\n",
       "      <td>Tuesday</td>\n",
       "    </tr>\n",
       "    <tr>\n",
       "      <th>2</th>\n",
       "      <td>2007-09-19</td>\n",
       "      <td>4550.250000</td>\n",
       "      <td>4739.000000</td>\n",
       "      <td>4550.250000</td>\n",
       "      <td>4732.350098</td>\n",
       "      <td>0</td>\n",
       "      <td>2007</td>\n",
       "      <td>9</td>\n",
       "      <td>Wednesday</td>\n",
       "    </tr>\n",
       "    <tr>\n",
       "      <th>3</th>\n",
       "      <td>2007-09-20</td>\n",
       "      <td>4734.850098</td>\n",
       "      <td>4760.850098</td>\n",
       "      <td>4721.149902</td>\n",
       "      <td>4747.549805</td>\n",
       "      <td>0</td>\n",
       "      <td>2007</td>\n",
       "      <td>9</td>\n",
       "      <td>Thursday</td>\n",
       "    </tr>\n",
       "    <tr>\n",
       "      <th>4</th>\n",
       "      <td>2007-09-21</td>\n",
       "      <td>4752.950195</td>\n",
       "      <td>4855.700195</td>\n",
       "      <td>4733.700195</td>\n",
       "      <td>4837.549805</td>\n",
       "      <td>0</td>\n",
       "      <td>2007</td>\n",
       "      <td>9</td>\n",
       "      <td>Friday</td>\n",
       "    </tr>\n",
       "  </tbody>\n",
       "</table>\n",
       "</div>"
      ],
      "text/plain": [
       "        date         open         high          low        close  volume  \\\n",
       "0 2007-09-17  4518.450195  4549.049805  4482.850098  4494.649902       0   \n",
       "1 2007-09-18  4494.100098  4551.799805  4481.549805  4546.200195       0   \n",
       "2 2007-09-19  4550.250000  4739.000000  4550.250000  4732.350098       0   \n",
       "3 2007-09-20  4734.850098  4760.850098  4721.149902  4747.549805       0   \n",
       "4 2007-09-21  4752.950195  4855.700195  4733.700195  4837.549805       0   \n",
       "\n",
       "   year  month    weekday  \n",
       "0  2007      9     Monday  \n",
       "1  2007      9    Tuesday  \n",
       "2  2007      9  Wednesday  \n",
       "3  2007      9   Thursday  \n",
       "4  2007      9     Friday  "
      ]
     },
     "execution_count": 17,
     "metadata": {},
     "output_type": "execute_result"
    }
   ],
   "source": [
    "df.head()"
   ]
  },
  {
   "cell_type": "code",
   "execution_count": 18,
   "id": "2698ce02-7977-4413-9198-a328f8c2208d",
   "metadata": {
    "tags": []
   },
   "outputs": [
    {
     "data": {
      "text/plain": [
       "<Axes: xlabel='year'>"
      ]
     },
     "execution_count": 18,
     "metadata": {},
     "output_type": "execute_result"
    },
    {
     "data": {
      "image/png": "[encoded data removed]",
      "text/plain": [
       "<Figure size 640x480 with 1 Axes>"
      ]
     },
     "metadata": {},
     "output_type": "display_data"
    }
   ],
   "source": [
    "df.groupby('year')['close'].mean().plot(kind='bar')"
   ]
  },
  {
   "cell_type": "code",
   "execution_count": 19,
   "id": "6dc149aa-154c-4587-80e6-211a96d9c6f2",
   "metadata": {
    "tags": []
   },
   "outputs": [
    {
     "data": {
      "text/plain": [
       "(0    4494.649902\n",
       " 1    4546.200195\n",
       " 2    4732.350098\n",
       " 3    4747.549805\n",
       " 4    4837.549805\n",
       " Name: close, dtype: float64,\n",
       " 0            NaN\n",
       " 1    4494.649902\n",
       " 2    4546.200195\n",
       " 3    4732.350098\n",
       " 4    4747.549805\n",
       " Name: close, dtype: float64)"
      ]
     },
     "execution_count": 19,
     "metadata": {},
     "output_type": "execute_result"
    }
   ],
   "source": [
    "df.head(5)['close'],df.close.shift(1).head(5)"
   ]
  },
  {
   "cell_type": "code",
   "execution_count": 20,
   "id": "d3ff0f2e-197b-46b8-9702-06f58df4f252",
   "metadata": {
    "tags": []
   },
   "outputs": [],
   "source": [
    "df['prv close'] = df.close.shift(1)"
   ]
  },
  {
   "cell_type": "code",
   "execution_count": 21,
   "id": "6f0cb332-8812-45a6-90ad-6452a876dc63",
   "metadata": {
    "tags": []
   },
   "outputs": [
    {
     "data": {
      "text/html": [
       "<div>\n",
       "<style scoped>\n",
       "    .dataframe tbody tr th:only-of-type {\n",
       "        vertical-align: middle;\n",
       "    }\n",
       "\n",
       "    .dataframe tbody tr th {\n",
       "        vertical-align: top;\n",
       "    }\n",
       "\n",
       "    .dataframe thead th {\n",
       "        text-align: right;\n",
       "    }\n",
       "</style>\n",
       "<table border=\"1\" class=\"dataframe\">\n",
       "  <thead>\n",
       "    <tr style=\"text-align: right;\">\n",
       "      <th></th>\n",
       "      <th>date</th>\n",
       "      <th>open</th>\n",
       "      <th>high</th>\n",
       "      <th>low</th>\n",
       "      <th>close</th>\n",
       "      <th>volume</th>\n",
       "      <th>year</th>\n",
       "      <th>month</th>\n",
       "      <th>weekday</th>\n",
       "      <th>prv close</th>\n",
       "    </tr>\n",
       "  </thead>\n",
       "  <tbody>\n",
       "    <tr>\n",
       "      <th>0</th>\n",
       "      <td>2007-09-17</td>\n",
       "      <td>4518.450195</td>\n",
       "      <td>4549.049805</td>\n",
       "      <td>4482.850098</td>\n",
       "      <td>4494.649902</td>\n",
       "      <td>0</td>\n",
       "      <td>2007</td>\n",
       "      <td>9</td>\n",
       "      <td>Monday</td>\n",
       "      <td>NaN</td>\n",
       "    </tr>\n",
       "    <tr>\n",
       "      <th>1</th>\n",
       "      <td>2007-09-18</td>\n",
       "      <td>4494.100098</td>\n",
       "      <td>4551.799805</td>\n",
       "      <td>4481.549805</td>\n",
       "      <td>4546.200195</td>\n",
       "      <td>0</td>\n",
       "      <td>2007</td>\n",
       "      <td>9</td>\n",
       "      <td>Tuesday</td>\n",
       "      <td>4494.649902</td>\n",
       "    </tr>\n",
       "    <tr>\n",
       "      <th>2</th>\n",
       "      <td>2007-09-19</td>\n",
       "      <td>4550.250000</td>\n",
       "      <td>4739.000000</td>\n",
       "      <td>4550.250000</td>\n",
       "      <td>4732.350098</td>\n",
       "      <td>0</td>\n",
       "      <td>2007</td>\n",
       "      <td>9</td>\n",
       "      <td>Wednesday</td>\n",
       "      <td>4546.200195</td>\n",
       "    </tr>\n",
       "    <tr>\n",
       "      <th>3</th>\n",
       "      <td>2007-09-20</td>\n",
       "      <td>4734.850098</td>\n",
       "      <td>4760.850098</td>\n",
       "      <td>4721.149902</td>\n",
       "      <td>4747.549805</td>\n",
       "      <td>0</td>\n",
       "      <td>2007</td>\n",
       "      <td>9</td>\n",
       "      <td>Thursday</td>\n",
       "      <td>4732.350098</td>\n",
       "    </tr>\n",
       "    <tr>\n",
       "      <th>4</th>\n",
       "      <td>2007-09-21</td>\n",
       "      <td>4752.950195</td>\n",
       "      <td>4855.700195</td>\n",
       "      <td>4733.700195</td>\n",
       "      <td>4837.549805</td>\n",
       "      <td>0</td>\n",
       "      <td>2007</td>\n",
       "      <td>9</td>\n",
       "      <td>Friday</td>\n",
       "      <td>4747.549805</td>\n",
       "    </tr>\n",
       "  </tbody>\n",
       "</table>\n",
       "</div>"
      ],
      "text/plain": [
       "        date         open         high          low        close  volume  \\\n",
       "0 2007-09-17  4518.450195  4549.049805  4482.850098  4494.649902       0   \n",
       "1 2007-09-18  4494.100098  4551.799805  4481.549805  4546.200195       0   \n",
       "2 2007-09-19  4550.250000  4739.000000  4550.250000  4732.350098       0   \n",
       "3 2007-09-20  4734.850098  4760.850098  4721.149902  4747.549805       0   \n",
       "4 2007-09-21  4752.950195  4855.700195  4733.700195  4837.549805       0   \n",
       "\n",
       "   year  month    weekday    prv close  \n",
       "0  2007      9     Monday          NaN  \n",
       "1  2007      9    Tuesday  4494.649902  \n",
       "2  2007      9  Wednesday  4546.200195  \n",
       "3  2007      9   Thursday  4732.350098  \n",
       "4  2007      9     Friday  4747.549805  "
      ]
     },
     "execution_count": 21,
     "metadata": {},
     "output_type": "execute_result"
    }
   ],
   "source": [
    "df.head()"
   ]
  },
  {
   "cell_type": "code",
   "execution_count": 22,
   "id": "92605ca6-0152-41f8-8e3e-8c8f23fe6cc5",
   "metadata": {
    "tags": []
   },
   "outputs": [],
   "source": [
    "df['change'] = round(((df['close']-df['prv close'])/df['prv close'])*100,2)"
   ]
  },
  {
   "cell_type": "code",
   "execution_count": 23,
   "id": "c6a5a40d-86a2-4b8c-9464-08901f213234",
   "metadata": {
    "tags": []
   },
   "outputs": [
    {
     "data": {
      "text/html": [
       "<div>\n",
       "<style scoped>\n",
       "    .dataframe tbody tr th:only-of-type {\n",
       "        vertical-align: middle;\n",
       "    }\n",
       "\n",
       "    .dataframe tbody tr th {\n",
       "        vertical-align: top;\n",
       "    }\n",
       "\n",
       "    .dataframe thead th {\n",
       "        text-align: right;\n",
       "    }\n",
       "</style>\n",
       "<table border=\"1\" class=\"dataframe\">\n",
       "  <thead>\n",
       "    <tr style=\"text-align: right;\">\n",
       "      <th></th>\n",
       "      <th>date</th>\n",
       "      <th>open</th>\n",
       "      <th>high</th>\n",
       "      <th>low</th>\n",
       "      <th>close</th>\n",
       "      <th>volume</th>\n",
       "      <th>year</th>\n",
       "      <th>month</th>\n",
       "      <th>weekday</th>\n",
       "      <th>prv close</th>\n",
       "      <th>change</th>\n",
       "    </tr>\n",
       "  </thead>\n",
       "  <tbody>\n",
       "    <tr>\n",
       "      <th>3285</th>\n",
       "      <td>2021-02-19</td>\n",
       "      <td>15074.799805</td>\n",
       "      <td>15144.049805</td>\n",
       "      <td>14898.200195</td>\n",
       "      <td>14981.750000</td>\n",
       "      <td>712200</td>\n",
       "      <td>2021</td>\n",
       "      <td>2</td>\n",
       "      <td>Friday</td>\n",
       "      <td>15118.950195</td>\n",
       "      <td>-0.91</td>\n",
       "    </tr>\n",
       "    <tr>\n",
       "      <th>2577</th>\n",
       "      <td>2018-04-05</td>\n",
       "      <td>10228.450195</td>\n",
       "      <td>10331.799805</td>\n",
       "      <td>10227.450195</td>\n",
       "      <td>10325.150391</td>\n",
       "      <td>236800</td>\n",
       "      <td>2018</td>\n",
       "      <td>4</td>\n",
       "      <td>Thursday</td>\n",
       "      <td>10128.400391</td>\n",
       "      <td>1.94</td>\n",
       "    </tr>\n",
       "    <tr>\n",
       "      <th>294</th>\n",
       "      <td>2008-11-26</td>\n",
       "      <td>2652.449951</td>\n",
       "      <td>2762.600098</td>\n",
       "      <td>2643.350098</td>\n",
       "      <td>2752.250000</td>\n",
       "      <td>0</td>\n",
       "      <td>2008</td>\n",
       "      <td>11</td>\n",
       "      <td>Wednesday</td>\n",
       "      <td>2654.000000</td>\n",
       "      <td>3.70</td>\n",
       "    </tr>\n",
       "    <tr>\n",
       "      <th>2658</th>\n",
       "      <td>2018-07-30</td>\n",
       "      <td>11296.650391</td>\n",
       "      <td>11328.099609</td>\n",
       "      <td>11261.450195</td>\n",
       "      <td>11319.549805</td>\n",
       "      <td>278800</td>\n",
       "      <td>2018</td>\n",
       "      <td>7</td>\n",
       "      <td>Monday</td>\n",
       "      <td>11278.349609</td>\n",
       "      <td>0.37</td>\n",
       "    </tr>\n",
       "    <tr>\n",
       "      <th>1452</th>\n",
       "      <td>2013-08-23</td>\n",
       "      <td>5428.750000</td>\n",
       "      <td>5478.799805</td>\n",
       "      <td>5377.799805</td>\n",
       "      <td>5471.750000</td>\n",
       "      <td>251500</td>\n",
       "      <td>2013</td>\n",
       "      <td>8</td>\n",
       "      <td>Friday</td>\n",
       "      <td>5408.450195</td>\n",
       "      <td>1.17</td>\n",
       "    </tr>\n",
       "    <tr>\n",
       "      <th>915</th>\n",
       "      <td>2011-06-09</td>\n",
       "      <td>5523.549805</td>\n",
       "      <td>5540.100098</td>\n",
       "      <td>5502.049805</td>\n",
       "      <td>5521.049805</td>\n",
       "      <td>0</td>\n",
       "      <td>2011</td>\n",
       "      <td>6</td>\n",
       "      <td>Thursday</td>\n",
       "      <td>5526.850098</td>\n",
       "      <td>-0.10</td>\n",
       "    </tr>\n",
       "    <tr>\n",
       "      <th>116</th>\n",
       "      <td>2008-03-03</td>\n",
       "      <td>5222.799805</td>\n",
       "      <td>5222.799805</td>\n",
       "      <td>4936.049805</td>\n",
       "      <td>4953.000000</td>\n",
       "      <td>0</td>\n",
       "      <td>2008</td>\n",
       "      <td>3</td>\n",
       "      <td>Monday</td>\n",
       "      <td>5223.500000</td>\n",
       "      <td>-5.18</td>\n",
       "    </tr>\n",
       "    <tr>\n",
       "      <th>816</th>\n",
       "      <td>2011-01-13</td>\n",
       "      <td>5850.750000</td>\n",
       "      <td>5857.750000</td>\n",
       "      <td>5736.700195</td>\n",
       "      <td>5751.899902</td>\n",
       "      <td>0</td>\n",
       "      <td>2011</td>\n",
       "      <td>1</td>\n",
       "      <td>Thursday</td>\n",
       "      <td>5863.250000</td>\n",
       "      <td>-1.90</td>\n",
       "    </tr>\n",
       "    <tr>\n",
       "      <th>2797</th>\n",
       "      <td>2019-02-25</td>\n",
       "      <td>10813.250000</td>\n",
       "      <td>10887.099609</td>\n",
       "      <td>10788.049805</td>\n",
       "      <td>10880.099609</td>\n",
       "      <td>385900</td>\n",
       "      <td>2019</td>\n",
       "      <td>2</td>\n",
       "      <td>Monday</td>\n",
       "      <td>10791.650391</td>\n",
       "      <td>0.82</td>\n",
       "    </tr>\n",
       "    <tr>\n",
       "      <th>2970</th>\n",
       "      <td>2019-11-18</td>\n",
       "      <td>11915.150391</td>\n",
       "      <td>11946.200195</td>\n",
       "      <td>11867.599609</td>\n",
       "      <td>11884.500000</td>\n",
       "      <td>514400</td>\n",
       "      <td>2019</td>\n",
       "      <td>11</td>\n",
       "      <td>Monday</td>\n",
       "      <td>11895.450195</td>\n",
       "      <td>-0.09</td>\n",
       "    </tr>\n",
       "  </tbody>\n",
       "</table>\n",
       "</div>"
      ],
      "text/plain": [
       "           date          open          high           low         close  \\\n",
       "3285 2021-02-19  15074.799805  15144.049805  14898.200195  14981.750000   \n",
       "2577 2018-04-05  10228.450195  10331.799805  10227.450195  10325.150391   \n",
       "294  2008-11-26   2652.449951   2762.600098   2643.350098   2752.250000   \n",
       "2658 2018-07-30  11296.650391  11328.099609  11261.450195  11319.549805   \n",
       "1452 2013-08-23   5428.750000   5478.799805   5377.799805   5471.750000   \n",
       "915  2011-06-09   5523.549805   5540.100098   5502.049805   5521.049805   \n",
       "116  2008-03-03   5222.799805   5222.799805   4936.049805   4953.000000   \n",
       "816  2011-01-13   5850.750000   5857.750000   5736.700195   5751.899902   \n",
       "2797 2019-02-25  10813.250000  10887.099609  10788.049805  10880.099609   \n",
       "2970 2019-11-18  11915.150391  11946.200195  11867.599609  11884.500000   \n",
       "\n",
       "      volume  year  month    weekday     prv close  change  \n",
       "3285  712200  2021      2     Friday  15118.950195   -0.91  \n",
       "2577  236800  2018      4   Thursday  10128.400391    1.94  \n",
       "294        0  2008     11  Wednesday   2654.000000    3.70  \n",
       "2658  278800  2018      7     Monday  11278.349609    0.37  \n",
       "1452  251500  2013      8     Friday   5408.450195    1.17  \n",
       "915        0  2011      6   Thursday   5526.850098   -0.10  \n",
       "116        0  2008      3     Monday   5223.500000   -5.18  \n",
       "816        0  2011      1   Thursday   5863.250000   -1.90  \n",
       "2797  385900  2019      2     Monday  10791.650391    0.82  \n",
       "2970  514400  2019     11     Monday  11895.450195   -0.09  "
      ]
     },
     "execution_count": 23,
     "metadata": {},
     "output_type": "execute_result"
    }
   ],
   "source": [
    "df.sample(10)"
   ]
  },
  {
   "cell_type": "code",
   "execution_count": 24,
   "id": "07e51ab9-7724-4c56-ada3-be8de392f42d",
   "metadata": {
    "tags": []
   },
   "outputs": [
    {
     "data": {
      "text/plain": [
       "<Axes: xlabel='change', ylabel='Count'>"
      ]
     },
     "execution_count": 24,
     "metadata": {},
     "output_type": "execute_result"
    },
    {
     "data": {
      "image/png": "[encoded data removed]",
      "text/plain": [
       "<Figure size 640x480 with 1 Axes>"
      ]
     },
     "metadata": {},
     "output_type": "display_data"
    }
   ],
   "source": [
    "sns.histplot(data=df.loc[(df.change<5)&(df.change>-5) ],x='change',bins=60)"
   ]
  },
  {
   "cell_type": "code",
   "execution_count": 25,
   "id": "2e8749e7-68b1-4f1f-8c16-5de5b2c37694",
   "metadata": {
    "tags": []
   },
   "outputs": [
    {
     "data": {
      "text/plain": [
       "weekday\n",
       "Thursday    -0.015055\n",
       "Monday       0.009357\n",
       "Friday       0.075885\n",
       "Tuesday      0.076723\n",
       "Wednesday    0.103106\n",
       "Name: change, dtype: float64"
      ]
     },
     "execution_count": 25,
     "metadata": {},
     "output_type": "execute_result"
    }
   ],
   "source": [
    "df.groupby('weekday')['change'].mean().sort_values()"
   ]
  },
  {
   "cell_type": "code",
   "execution_count": 26,
   "id": "5f9b3531-6f05-40b8-8196-be17a4a7f471",
   "metadata": {
    "tags": []
   },
   "outputs": [
    {
     "data": {
      "text/html": [
       "<div>\n",
       "<style scoped>\n",
       "    .dataframe tbody tr th:only-of-type {\n",
       "        vertical-align: middle;\n",
       "    }\n",
       "\n",
       "    .dataframe tbody tr th {\n",
       "        vertical-align: top;\n",
       "    }\n",
       "\n",
       "    .dataframe thead th {\n",
       "        text-align: right;\n",
       "    }\n",
       "</style>\n",
       "<table border=\"1\" class=\"dataframe\">\n",
       "  <thead>\n",
       "    <tr style=\"text-align: right;\">\n",
       "      <th></th>\n",
       "      <th>date</th>\n",
       "      <th>open</th>\n",
       "      <th>high</th>\n",
       "      <th>low</th>\n",
       "      <th>close</th>\n",
       "      <th>volume</th>\n",
       "      <th>year</th>\n",
       "      <th>month</th>\n",
       "      <th>weekday</th>\n",
       "      <th>prv close</th>\n",
       "      <th>change</th>\n",
       "    </tr>\n",
       "  </thead>\n",
       "  <tbody>\n",
       "    <tr>\n",
       "      <th>0</th>\n",
       "      <td>2007-09-17</td>\n",
       "      <td>4518.450195</td>\n",
       "      <td>4549.049805</td>\n",
       "      <td>4482.850098</td>\n",
       "      <td>4494.649902</td>\n",
       "      <td>0</td>\n",
       "      <td>2007</td>\n",
       "      <td>9</td>\n",
       "      <td>Monday</td>\n",
       "      <td>NaN</td>\n",
       "      <td>NaN</td>\n",
       "    </tr>\n",
       "    <tr>\n",
       "      <th>1</th>\n",
       "      <td>2007-09-18</td>\n",
       "      <td>4494.100098</td>\n",
       "      <td>4551.799805</td>\n",
       "      <td>4481.549805</td>\n",
       "      <td>4546.200195</td>\n",
       "      <td>0</td>\n",
       "      <td>2007</td>\n",
       "      <td>9</td>\n",
       "      <td>Tuesday</td>\n",
       "      <td>4494.649902</td>\n",
       "      <td>1.15</td>\n",
       "    </tr>\n",
       "    <tr>\n",
       "      <th>2</th>\n",
       "      <td>2007-09-19</td>\n",
       "      <td>4550.250000</td>\n",
       "      <td>4739.000000</td>\n",
       "      <td>4550.250000</td>\n",
       "      <td>4732.350098</td>\n",
       "      <td>0</td>\n",
       "      <td>2007</td>\n",
       "      <td>9</td>\n",
       "      <td>Wednesday</td>\n",
       "      <td>4546.200195</td>\n",
       "      <td>4.09</td>\n",
       "    </tr>\n",
       "    <tr>\n",
       "      <th>3</th>\n",
       "      <td>2007-09-20</td>\n",
       "      <td>4734.850098</td>\n",
       "      <td>4760.850098</td>\n",
       "      <td>4721.149902</td>\n",
       "      <td>4747.549805</td>\n",
       "      <td>0</td>\n",
       "      <td>2007</td>\n",
       "      <td>9</td>\n",
       "      <td>Thursday</td>\n",
       "      <td>4732.350098</td>\n",
       "      <td>0.32</td>\n",
       "    </tr>\n",
       "    <tr>\n",
       "      <th>4</th>\n",
       "      <td>2007-09-21</td>\n",
       "      <td>4752.950195</td>\n",
       "      <td>4855.700195</td>\n",
       "      <td>4733.700195</td>\n",
       "      <td>4837.549805</td>\n",
       "      <td>0</td>\n",
       "      <td>2007</td>\n",
       "      <td>9</td>\n",
       "      <td>Friday</td>\n",
       "      <td>4747.549805</td>\n",
       "      <td>1.90</td>\n",
       "    </tr>\n",
       "  </tbody>\n",
       "</table>\n",
       "</div>"
      ],
      "text/plain": [
       "        date         open         high          low        close  volume  \\\n",
       "0 2007-09-17  4518.450195  4549.049805  4482.850098  4494.649902       0   \n",
       "1 2007-09-18  4494.100098  4551.799805  4481.549805  4546.200195       0   \n",
       "2 2007-09-19  4550.250000  4739.000000  4550.250000  4732.350098       0   \n",
       "3 2007-09-20  4734.850098  4760.850098  4721.149902  4747.549805       0   \n",
       "4 2007-09-21  4752.950195  4855.700195  4733.700195  4837.549805       0   \n",
       "\n",
       "   year  month    weekday    prv close  change  \n",
       "0  2007      9     Monday          NaN     NaN  \n",
       "1  2007      9    Tuesday  4494.649902    1.15  \n",
       "2  2007      9  Wednesday  4546.200195    4.09  \n",
       "3  2007      9   Thursday  4732.350098    0.32  \n",
       "4  2007      9     Friday  4747.549805    1.90  "
      ]
     },
     "execution_count": 26,
     "metadata": {},
     "output_type": "execute_result"
    }
   ],
   "source": [
    "df.head()"
   ]
  },
  {
   "cell_type": "code",
   "execution_count": 27,
   "id": "99bbf403-c48e-4033-b6c0-ca7bc3da7ded",
   "metadata": {
    "tags": []
   },
   "outputs": [],
   "source": [
    "df['range'] = (df['high']-df['low'])/df['low']*100"
   ]
  },
  {
   "cell_type": "code",
   "execution_count": 28,
   "id": "73c8fdcd-fa60-450f-bcff-ea04f080caa7",
   "metadata": {
    "tags": []
   },
   "outputs": [
    {
     "data": {
      "text/plain": [
       "<Axes: xlabel='range', ylabel='Count'>"
      ]
     },
     "execution_count": 28,
     "metadata": {},
     "output_type": "execute_result"
    },
    {
     "data": {
      "image/png": "[encoded data removed]",
      "text/plain": [
       "<Figure size 640x480 with 1 Axes>"
      ]
     },
     "metadata": {},
     "output_type": "display_data"
    }
   ],
   "source": [
    "sns.histplot(data = df.loc[df['range']<5],x='range',bins=30)"
   ]
  },
  {
   "cell_type": "code",
   "execution_count": 29,
   "id": "2af07f55-43bc-4b90-b094-b6a6236b77f1",
   "metadata": {
    "tags": []
   },
   "outputs": [],
   "source": [
    "df['jc']=abs(df['change'])"
   ]
  },
  {
   "cell_type": "code",
   "execution_count": 30,
   "id": "5b81a740-d47f-43c2-af32-b8e466cef890",
   "metadata": {
    "tags": []
   },
   "outputs": [
    {
     "data": {
      "text/plain": [
       "weekday\n",
       "Friday       0.933010\n",
       "Monday       1.015473\n",
       "Thursday     0.840315\n",
       "Tuesday      0.821855\n",
       "Wednesday    0.831451\n",
       "Name: jc, dtype: float64"
      ]
     },
     "execution_count": 30,
     "metadata": {},
     "output_type": "execute_result"
    }
   ],
   "source": [
    "df.groupby('weekday')['jc'].mean()"
   ]
  },
  {
   "cell_type": "code",
   "execution_count": 31,
   "id": "ab7ae3de-2e27-495a-b58f-2d0126a75878",
   "metadata": {
    "tags": []
   },
   "outputs": [
    {
     "data": {
      "text/plain": [
       "0.8880663920523383"
      ]
     },
     "execution_count": 31,
     "metadata": {},
     "output_type": "execute_result"
    }
   ],
   "source": [
    "df.jc.mean()"
   ]
  },
  {
   "cell_type": "code",
   "execution_count": 32,
   "id": "274b49b0-2ea8-4261-b04c-7a0664c53330",
   "metadata": {},
   "outputs": [
    {
     "data": {
      "text/html": [
       "<div>\n",
       "<style scoped>\n",
       "    .dataframe tbody tr th:only-of-type {\n",
       "        vertical-align: middle;\n",
       "    }\n",
       "\n",
       "    .dataframe tbody tr th {\n",
       "        vertical-align: top;\n",
       "    }\n",
       "\n",
       "    .dataframe thead th {\n",
       "        text-align: right;\n",
       "    }\n",
       "</style>\n",
       "<table border=\"1\" class=\"dataframe\">\n",
       "  <thead>\n",
       "    <tr style=\"text-align: right;\">\n",
       "      <th></th>\n",
       "      <th>date</th>\n",
       "      <th>open</th>\n",
       "      <th>high</th>\n",
       "      <th>low</th>\n",
       "      <th>close</th>\n",
       "      <th>volume</th>\n",
       "      <th>year</th>\n",
       "      <th>month</th>\n",
       "      <th>weekday</th>\n",
       "      <th>prv close</th>\n",
       "      <th>change</th>\n",
       "      <th>range</th>\n",
       "      <th>jc</th>\n",
       "    </tr>\n",
       "  </thead>\n",
       "  <tbody>\n",
       "    <tr>\n",
       "      <th>0</th>\n",
       "      <td>2007-09-17</td>\n",
       "      <td>4518.450195</td>\n",
       "      <td>4549.049805</td>\n",
       "      <td>4482.850098</td>\n",
       "      <td>4494.649902</td>\n",
       "      <td>0</td>\n",
       "      <td>2007</td>\n",
       "      <td>9</td>\n",
       "      <td>Monday</td>\n",
       "      <td>NaN</td>\n",
       "      <td>NaN</td>\n",
       "      <td>1.476733</td>\n",
       "      <td>NaN</td>\n",
       "    </tr>\n",
       "    <tr>\n",
       "      <th>1</th>\n",
       "      <td>2007-09-18</td>\n",
       "      <td>4494.100098</td>\n",
       "      <td>4551.799805</td>\n",
       "      <td>4481.549805</td>\n",
       "      <td>4546.200195</td>\n",
       "      <td>0</td>\n",
       "      <td>2007</td>\n",
       "      <td>9</td>\n",
       "      <td>Tuesday</td>\n",
       "      <td>4494.649902</td>\n",
       "      <td>1.15</td>\n",
       "      <td>1.567538</td>\n",
       "      <td>1.15</td>\n",
       "    </tr>\n",
       "    <tr>\n",
       "      <th>2</th>\n",
       "      <td>2007-09-19</td>\n",
       "      <td>4550.250000</td>\n",
       "      <td>4739.000000</td>\n",
       "      <td>4550.250000</td>\n",
       "      <td>4732.350098</td>\n",
       "      <td>0</td>\n",
       "      <td>2007</td>\n",
       "      <td>9</td>\n",
       "      <td>Wednesday</td>\n",
       "      <td>4546.200195</td>\n",
       "      <td>4.09</td>\n",
       "      <td>4.148124</td>\n",
       "      <td>4.09</td>\n",
       "    </tr>\n",
       "    <tr>\n",
       "      <th>3</th>\n",
       "      <td>2007-09-20</td>\n",
       "      <td>4734.850098</td>\n",
       "      <td>4760.850098</td>\n",
       "      <td>4721.149902</td>\n",
       "      <td>4747.549805</td>\n",
       "      <td>0</td>\n",
       "      <td>2007</td>\n",
       "      <td>9</td>\n",
       "      <td>Thursday</td>\n",
       "      <td>4732.350098</td>\n",
       "      <td>0.32</td>\n",
       "      <td>0.840901</td>\n",
       "      <td>0.32</td>\n",
       "    </tr>\n",
       "    <tr>\n",
       "      <th>4</th>\n",
       "      <td>2007-09-21</td>\n",
       "      <td>4752.950195</td>\n",
       "      <td>4855.700195</td>\n",
       "      <td>4733.700195</td>\n",
       "      <td>4837.549805</td>\n",
       "      <td>0</td>\n",
       "      <td>2007</td>\n",
       "      <td>9</td>\n",
       "      <td>Friday</td>\n",
       "      <td>4747.549805</td>\n",
       "      <td>1.90</td>\n",
       "      <td>2.577265</td>\n",
       "      <td>1.90</td>\n",
       "    </tr>\n",
       "  </tbody>\n",
       "</table>\n",
       "</div>"
      ],
      "text/plain": [
       "        date         open         high          low        close  volume  \\\n",
       "0 2007-09-17  4518.450195  4549.049805  4482.850098  4494.649902       0   \n",
       "1 2007-09-18  4494.100098  4551.799805  4481.549805  4546.200195       0   \n",
       "2 2007-09-19  4550.250000  4739.000000  4550.250000  4732.350098       0   \n",
       "3 2007-09-20  4734.850098  4760.850098  4721.149902  4747.549805       0   \n",
       "4 2007-09-21  4752.950195  4855.700195  4733.700195  4837.549805       0   \n",
       "\n",
       "   year  month    weekday    prv close  change     range    jc  \n",
       "0  2007      9     Monday          NaN     NaN  1.476733   NaN  \n",
       "1  2007      9    Tuesday  4494.649902    1.15  1.567538  1.15  \n",
       "2  2007      9  Wednesday  4546.200195    4.09  4.148124  4.09  \n",
       "3  2007      9   Thursday  4732.350098    0.32  0.840901  0.32  \n",
       "4  2007      9     Friday  4747.549805    1.90  2.577265  1.90  "
      ]
     },
     "execution_count": 32,
     "metadata": {},
     "output_type": "execute_result"
    }
   ],
   "source": [
    "df.head()"
   ]
  },
  {
   "cell_type": "code",
   "execution_count": 33,
   "id": "f874b4fb-f039-45e4-b109-9e6bfc739935",
   "metadata": {
    "tags": []
   },
   "outputs": [],
   "source": [
    "df['night'] = df.close - df.open"
   ]
  },
  {
   "cell_type": "code",
   "execution_count": 34,
   "id": "9f4d210b-8036-4d0b-bf31-91732e2aa393",
   "metadata": {
    "tags": []
   },
   "outputs": [
    {
     "data": {
      "text/plain": [
       "<Axes: xlabel='night', ylabel='Count'>"
      ]
     },
     "execution_count": 34,
     "metadata": {},
     "output_type": "execute_result"
    },
    {
     "data": {
      "image/png": "[encoded data removed]",
      "text/plain": [
       "<Figure size 640x480 with 1 Axes>"
      ]
     },
     "metadata": {},
     "output_type": "display_data"
    }
   ],
   "source": [
    "rangee = 200\n",
    "year = 2024\n",
    "sns.histplot(data=df.loc[\n",
    "    (df['night']>-rangee) & \n",
    "    (df['night']<rangee) &\n",
    "    (df['year']==year)]\n",
    "             ,x='night',bins=30)"
   ]
  },
  {
   "cell_type": "markdown",
   "id": "38b62d6b-9306-45cc-9439-18588465e684",
   "metadata": {},
   "source": [
    "I found that most of the time the nifty opens on the range of -100 to +100 69% of time."
   ]
  },
  {
   "cell_type": "code",
   "execution_count": 35,
   "id": "754126da-bd9d-4a12-8567-cfa8ac553d39",
   "metadata": {
    "tags": []
   },
   "outputs": [
    {
     "data": {
      "text/html": [
       "<div>\n",
       "<style scoped>\n",
       "    .dataframe tbody tr th:only-of-type {\n",
       "        vertical-align: middle;\n",
       "    }\n",
       "\n",
       "    .dataframe tbody tr th {\n",
       "        vertical-align: top;\n",
       "    }\n",
       "\n",
       "    .dataframe thead th {\n",
       "        text-align: right;\n",
       "    }\n",
       "</style>\n",
       "<table border=\"1\" class=\"dataframe\">\n",
       "  <thead>\n",
       "    <tr style=\"text-align: right;\">\n",
       "      <th></th>\n",
       "      <th>0</th>\n",
       "      <th>1</th>\n",
       "    </tr>\n",
       "  </thead>\n",
       "  <tbody>\n",
       "    <tr>\n",
       "      <th>date</th>\n",
       "      <td>2007-09-17 00:00:00</td>\n",
       "      <td>2007-09-18 00:00:00</td>\n",
       "    </tr>\n",
       "    <tr>\n",
       "      <th>open</th>\n",
       "      <td>4518.450195</td>\n",
       "      <td>4494.100098</td>\n",
       "    </tr>\n",
       "    <tr>\n",
       "      <th>high</th>\n",
       "      <td>4549.049805</td>\n",
       "      <td>4551.799805</td>\n",
       "    </tr>\n",
       "    <tr>\n",
       "      <th>low</th>\n",
       "      <td>4482.850098</td>\n",
       "      <td>4481.549805</td>\n",
       "    </tr>\n",
       "    <tr>\n",
       "      <th>close</th>\n",
       "      <td>4494.649902</td>\n",
       "      <td>4546.200195</td>\n",
       "    </tr>\n",
       "    <tr>\n",
       "      <th>volume</th>\n",
       "      <td>0</td>\n",
       "      <td>0</td>\n",
       "    </tr>\n",
       "    <tr>\n",
       "      <th>year</th>\n",
       "      <td>2007</td>\n",
       "      <td>2007</td>\n",
       "    </tr>\n",
       "    <tr>\n",
       "      <th>month</th>\n",
       "      <td>9</td>\n",
       "      <td>9</td>\n",
       "    </tr>\n",
       "    <tr>\n",
       "      <th>weekday</th>\n",
       "      <td>Monday</td>\n",
       "      <td>Tuesday</td>\n",
       "    </tr>\n",
       "    <tr>\n",
       "      <th>prv close</th>\n",
       "      <td>NaN</td>\n",
       "      <td>4494.649902</td>\n",
       "    </tr>\n",
       "    <tr>\n",
       "      <th>change</th>\n",
       "      <td>NaN</td>\n",
       "      <td>1.15</td>\n",
       "    </tr>\n",
       "    <tr>\n",
       "      <th>range</th>\n",
       "      <td>1.476733</td>\n",
       "      <td>1.567538</td>\n",
       "    </tr>\n",
       "    <tr>\n",
       "      <th>jc</th>\n",
       "      <td>NaN</td>\n",
       "      <td>1.15</td>\n",
       "    </tr>\n",
       "    <tr>\n",
       "      <th>night</th>\n",
       "      <td>-23.800293</td>\n",
       "      <td>52.100098</td>\n",
       "    </tr>\n",
       "  </tbody>\n",
       "</table>\n",
       "</div>"
      ],
      "text/plain": [
       "                             0                    1\n",
       "date       2007-09-17 00:00:00  2007-09-18 00:00:00\n",
       "open               4518.450195          4494.100098\n",
       "high               4549.049805          4551.799805\n",
       "low                4482.850098          4481.549805\n",
       "close              4494.649902          4546.200195\n",
       "volume                       0                    0\n",
       "year                      2007                 2007\n",
       "month                        9                    9\n",
       "weekday                 Monday              Tuesday\n",
       "prv close                  NaN          4494.649902\n",
       "change                     NaN                 1.15\n",
       "range                 1.476733             1.567538\n",
       "jc                         NaN                 1.15\n",
       "night               -23.800293            52.100098"
      ]
     },
     "execution_count": 35,
     "metadata": {},
     "output_type": "execute_result"
    }
   ],
   "source": [
    "df.head(2).T"
   ]
  },
  {
   "cell_type": "code",
   "execution_count": 36,
   "id": "22e817eb-4d53-4925-9850-eb1fdfcf1e4f",
   "metadata": {},
   "outputs": [],
   "source": [
    "df['one'] = 1"
   ]
  },
  {
   "cell_type": "code",
   "execution_count": 46,
   "id": "bdbc71f8-317f-47a3-ba3c-371469dcd46b",
   "metadata": {
    "tags": []
   },
   "outputs": [
    {
     "data": {
      "text/plain": [
       "81.3953488372093"
      ]
     },
     "execution_count": 46,
     "metadata": {},
     "output_type": "execute_result"
    }
   ],
   "source": [
    "movement = 1.4\n",
    "(df.loc[(df['change']>-movement)&(df['change']<=movement)]['one'].sum()/df.shape[0])*100"
   ]
  },
  {
   "cell_type": "code",
   "execution_count": null,
   "id": "0ceef2b3-a32d-48b2-b827-d31870561136",
   "metadata": {},
   "outputs": [],
   "source": []
  }
 ],
 "metadata": {
  "kernelspec": {
   "display_name": "Python 3 (ipykernel)",
   "language": "python",
   "name": "python3"
  },
  "language_info": {
   "codemirror_mode": {
    "name": "ipython",
    "version": 3
   },
   "file_extension": ".py",
   "mimetype": "text/x-python",
   "name": "python",
   "nbconvert_exporter": "python",
   "pygments_lexer": "ipython3",
   "version": "3.12.7"
  }
 },
 "nbformat": 4,
 "nbformat_minor": 5
}
