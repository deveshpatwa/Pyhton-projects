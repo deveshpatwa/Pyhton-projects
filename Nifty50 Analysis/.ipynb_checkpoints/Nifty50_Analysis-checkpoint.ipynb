{
 "cells": [
  {
   "cell_type": "code",
   "execution_count": 11,
   "id": "18f07fce-5820-4ba3-9226-a7427fd9d92d",
   "metadata": {
    "tags": []
   },
   "outputs": [],
   "source": [
    "import matplotlib.pyplot as plt\n",
    "import pandas as pd\n",
    "import seaborn as sns"
   ]
  },
  {
   "cell_type": "code",
   "execution_count": 16,
   "id": "9e19ba28-702d-4583-aef3-55f1728fe2b9",
   "metadata": {
    "tags": []
   },
   "outputs": [
    {
     "data": {
      "text/html": [
       "<div>\n",
       "<style scoped>\n",
       "    .dataframe tbody tr th:only-of-type {\n",
       "        vertical-align: middle;\n",
       "    }\n",
       "\n",
       "    .dataframe tbody tr th {\n",
       "        vertical-align: top;\n",
       "    }\n",
       "\n",
       "    .dataframe thead th {\n",
       "        text-align: right;\n",
       "    }\n",
       "</style>\n",
       "<table border=\"1\" class=\"dataframe\">\n",
       "  <thead>\n",
       "    <tr style=\"text-align: right;\">\n",
       "      <th></th>\n",
       "      <th>date</th>\n",
       "      <th>open</th>\n",
       "      <th>high</th>\n",
       "      <th>low</th>\n",
       "      <th>close</th>\n",
       "      <th>volume</th>\n",
       "    </tr>\n",
       "  </thead>\n",
       "  <tbody>\n",
       "    <tr>\n",
       "      <th>0</th>\n",
       "      <td>19-Jun-23</td>\n",
       "      <td>18873.30</td>\n",
       "      <td>18881.45</td>\n",
       "      <td>18719.15</td>\n",
       "      <td>18755.45</td>\n",
       "      <td>219815214</td>\n",
       "    </tr>\n",
       "    <tr>\n",
       "      <th>1</th>\n",
       "      <td>20-Jun-23</td>\n",
       "      <td>18752.35</td>\n",
       "      <td>18839.70</td>\n",
       "      <td>18660.65</td>\n",
       "      <td>18816.70</td>\n",
       "      <td>211649257</td>\n",
       "    </tr>\n",
       "    <tr>\n",
       "      <th>2</th>\n",
       "      <td>21-Jun-23</td>\n",
       "      <td>18849.40</td>\n",
       "      <td>18875.90</td>\n",
       "      <td>18794.85</td>\n",
       "      <td>18856.85</td>\n",
       "      <td>217481345</td>\n",
       "    </tr>\n",
       "    <tr>\n",
       "      <th>3</th>\n",
       "      <td>22-Jun-23</td>\n",
       "      <td>18853.60</td>\n",
       "      <td>18886.60</td>\n",
       "      <td>18759.50</td>\n",
       "      <td>18771.25</td>\n",
       "      <td>252697871</td>\n",
       "    </tr>\n",
       "    <tr>\n",
       "      <th>4</th>\n",
       "      <td>23-Jun-23</td>\n",
       "      <td>18741.85</td>\n",
       "      <td>18756.40</td>\n",
       "      <td>18647.10</td>\n",
       "      <td>18665.50</td>\n",
       "      <td>210562119</td>\n",
       "    </tr>\n",
       "    <tr>\n",
       "      <th>...</th>\n",
       "      <td>...</td>\n",
       "      <td>...</td>\n",
       "      <td>...</td>\n",
       "      <td>...</td>\n",
       "      <td>...</td>\n",
       "      <td>...</td>\n",
       "    </tr>\n",
       "    <tr>\n",
       "      <th>243</th>\n",
       "      <td>11-Jun-24</td>\n",
       "      <td>23283.75</td>\n",
       "      <td>23389.45</td>\n",
       "      <td>23206.65</td>\n",
       "      <td>23264.85</td>\n",
       "      <td>305185666</td>\n",
       "    </tr>\n",
       "    <tr>\n",
       "      <th>244</th>\n",
       "      <td>12-Jun-24</td>\n",
       "      <td>23344.45</td>\n",
       "      <td>23441.95</td>\n",
       "      <td>23295.95</td>\n",
       "      <td>23322.95</td>\n",
       "      <td>295630910</td>\n",
       "    </tr>\n",
       "    <tr>\n",
       "      <th>245</th>\n",
       "      <td>13-Jun-24</td>\n",
       "      <td>23480.95</td>\n",
       "      <td>23481.05</td>\n",
       "      <td>23353.90</td>\n",
       "      <td>23398.90</td>\n",
       "      <td>268279841</td>\n",
       "    </tr>\n",
       "    <tr>\n",
       "      <th>246</th>\n",
       "      <td>14-Jun-24</td>\n",
       "      <td>23464.95</td>\n",
       "      <td>23490.40</td>\n",
       "      <td>23334.25</td>\n",
       "      <td>23465.60</td>\n",
       "      <td>223086741</td>\n",
       "    </tr>\n",
       "    <tr>\n",
       "      <th>247</th>\n",
       "      <td>18-Jun-24</td>\n",
       "      <td>23570.80</td>\n",
       "      <td>23579.05</td>\n",
       "      <td>23499.70</td>\n",
       "      <td>23557.90</td>\n",
       "      <td>272207297</td>\n",
       "    </tr>\n",
       "  </tbody>\n",
       "</table>\n",
       "<p>248 rows × 6 columns</p>\n",
       "</div>"
      ],
      "text/plain": [
       "          date      open      high       low     close     volume\n",
       "0    19-Jun-23  18873.30  18881.45  18719.15  18755.45  219815214\n",
       "1    20-Jun-23  18752.35  18839.70  18660.65  18816.70  211649257\n",
       "2    21-Jun-23  18849.40  18875.90  18794.85  18856.85  217481345\n",
       "3    22-Jun-23  18853.60  18886.60  18759.50  18771.25  252697871\n",
       "4    23-Jun-23  18741.85  18756.40  18647.10  18665.50  210562119\n",
       "..         ...       ...       ...       ...       ...        ...\n",
       "243  11-Jun-24  23283.75  23389.45  23206.65  23264.85  305185666\n",
       "244  12-Jun-24  23344.45  23441.95  23295.95  23322.95  295630910\n",
       "245  13-Jun-24  23480.95  23481.05  23353.90  23398.90  268279841\n",
       "246  14-Jun-24  23464.95  23490.40  23334.25  23465.60  223086741\n",
       "247  18-Jun-24  23570.80  23579.05  23499.70  23557.90  272207297\n",
       "\n",
       "[248 rows x 6 columns]"
      ]
     },
     "execution_count": 16,
     "metadata": {},
     "output_type": "execute_result"
    }
   ],
   "source": [
    "df = pd.read_csv('nifty_data.csv')\n",
    "df"
   ]
  },
  {
   "cell_type": "code",
   "execution_count": 17,
   "id": "2af88607-6e9f-4df1-8609-267362bf7ebc",
   "metadata": {
    "tags": []
   },
   "outputs": [],
   "source": [
    "df['range'] = df['high']-df['low']"
   ]
  },
  {
   "cell_type": "code",
   "execution_count": 20,
   "id": "10608ed2-b42e-4bfe-848c-76c610cdf7e1",
   "metadata": {
    "tags": []
   },
   "outputs": [
    {
     "data": {
      "text/plain": [
       "<Axes: ylabel='Frequency'>"
      ]
     },
     "execution_count": 20,
     "metadata": {},
     "output_type": "execute_result"
    },
    {
     "data": {
      "image/png": "[encoded data removed]",
      "text/plain": [
       "<Figure size 640x480 with 1 Axes>"
      ]
     },
     "metadata": {},
     "output_type": "display_data"
    }
   ],
   "source": [
    "df['range'].plot(kind='hist')"
   ]
  },
  {
   "cell_type": "code",
   "execution_count": 21,
   "id": "7e3f370d-c699-4cb7-9793-f74c8322317e",
   "metadata": {
    "tags": []
   },
   "outputs": [
    {
     "data": {
      "text/plain": [
       "<Axes: xlabel='range', ylabel='Count'>"
      ]
     },
     "execution_count": 21,
     "metadata": {},
     "output_type": "execute_result"
    },
    {
     "data": {
      "image/png": "[encoded data removed]",
      "text/plain": [
       "<Figure size 640x480 with 1 Axes>"
      ]
     },
     "metadata": {},
     "output_type": "display_data"
    }
   ],
   "source": [
    "sns.histplot(x=df['range'])"
   ]
  },
  {
   "cell_type": "code",
   "execution_count": 23,
   "id": "6bbdcaa5-8da3-42c5-9997-a10e2d8ea174",
   "metadata": {
    "tags": []
   },
   "outputs": [
    {
     "data": {
      "text/plain": [
       "<Axes: >"
      ]
     },
     "execution_count": 23,
     "metadata": {},
     "output_type": "execute_result"
    },
    {
     "data": {
      "image/png": "[encoded data removed]",
      "text/plain": [
       "<Figure size 640x480 with 1 Axes>"
      ]
     },
     "metadata": {},
     "output_type": "display_data"
    }
   ],
   "source": [
    "df[['close','open']].plot()"
   ]
  },
  {
   "cell_type": "code",
   "execution_count": 28,
   "id": "2e42a7e4-1b33-4415-a48e-4a5e9d201ffd",
   "metadata": {
    "tags": []
   },
   "outputs": [
    {
     "name": "stderr",
     "output_type": "stream",
     "text": [
      "C:\\Users\\deves\\AppData\\Local\\Temp\\ipykernel_10024\\1213281828.py:1: UserWarning: Could not infer format, so each element will be parsed individually, falling back to `dateutil`. To ensure parsing is consistent and as-expected, please specify a format.\n",
      "  df['date']=pd.to_datetime(df['date'])\n"
     ]
    }
   ],
   "source": [
    "df['date']=pd.to_datetime(df['date'])"
   ]
  },
  {
   "cell_type": "code",
   "execution_count": 36,
   "id": "59487e9a-303b-464a-979d-44cedf75e718",
   "metadata": {
    "tags": []
   },
   "outputs": [],
   "source": [
    "df['percent_change']=(df['close']-df['open'])/df['close']*100"
   ]
  },
  {
   "cell_type": "code",
   "execution_count": 39,
   "id": "aeedda15-08c4-4500-9f64-b4d2c52e0379",
   "metadata": {
    "tags": []
   },
   "outputs": [
    {
     "data": {
      "text/plain": [
       "<Axes: xlabel='percent_change', ylabel='Count'>"
      ]
     },
     "execution_count": 39,
     "metadata": {},
     "output_type": "execute_result"
    },
    {
     "data": {
      "image/png": "[encoded data removed]",
      "text/plain": [
       "<Figure size 640x480 with 1 Axes>"
      ]
     },
     "metadata": {},
     "output_type": "display_data"
    }
   ],
   "source": [
    "sns.histplot(abs(df['percent_change']))"
   ]
  },
  {
   "cell_type": "code",
   "execution_count": 46,
   "id": "21446c1c-58ef-457f-a212-32c5d2c323a5",
   "metadata": {
    "tags": []
   },
   "outputs": [
    {
     "data": {
      "text/html": [
       "<div>\n",
       "<style scoped>\n",
       "    .dataframe tbody tr th:only-of-type {\n",
       "        vertical-align: middle;\n",
       "    }\n",
       "\n",
       "    .dataframe tbody tr th {\n",
       "        vertical-align: top;\n",
       "    }\n",
       "\n",
       "    .dataframe thead th {\n",
       "        text-align: right;\n",
       "    }\n",
       "</style>\n",
       "<table border=\"1\" class=\"dataframe\">\n",
       "  <thead>\n",
       "    <tr style=\"text-align: right;\">\n",
       "      <th></th>\n",
       "      <th>date</th>\n",
       "      <th>open</th>\n",
       "      <th>high</th>\n",
       "      <th>low</th>\n",
       "      <th>close</th>\n",
       "      <th>volume</th>\n",
       "      <th>range</th>\n",
       "      <th>percent_change</th>\n",
       "    </tr>\n",
       "  </thead>\n",
       "  <tbody>\n",
       "    <tr>\n",
       "      <th>238</th>\n",
       "      <td>2024-06-04</td>\n",
       "      <td>23179.5</td>\n",
       "      <td>23179.5</td>\n",
       "      <td>21281.45</td>\n",
       "      <td>21884.5</td>\n",
       "      <td>1006105058</td>\n",
       "      <td>1898.05</td>\n",
       "      <td>-5.91743</td>\n",
       "    </tr>\n",
       "  </tbody>\n",
       "</table>\n",
       "</div>"
      ],
      "text/plain": [
       "          date     open     high       low    close      volume    range  \\\n",
       "238 2024-06-04  23179.5  23179.5  21281.45  21884.5  1006105058  1898.05   \n",
       "\n",
       "     percent_change  \n",
       "238        -5.91743  "
      ]
     },
     "execution_count": 46,
     "metadata": {},
     "output_type": "execute_result"
    }
   ],
   "source": [
    "df.loc[df['percent_change']<-4.0]"
   ]
  },
  {
   "cell_type": "code",
   "execution_count": 47,
   "id": "05e54900-c8ea-42a0-a785-3ef0def4c114",
   "metadata": {
    "tags": []
   },
   "outputs": [],
   "source": [
    "df['week'] = df['date'].dt.day_name()"
   ]
  },
  {
   "cell_type": "code",
   "execution_count": 48,
   "id": "be34a9c6-9b90-4d75-adb6-6a118569cbdd",
   "metadata": {
    "tags": []
   },
   "outputs": [],
   "source": [
    "df['abschange'] = abs(df['percent_change'])"
   ]
  },
  {
   "cell_type": "code",
   "execution_count": 49,
   "id": "dbf8c025-3985-48b6-8a7c-73e5fa5579bd",
   "metadata": {
    "tags": []
   },
   "outputs": [
    {
     "data": {
      "text/plain": [
       "week\n",
       "Friday       0.403871\n",
       "Monday       0.357743\n",
       "Saturday     0.266200\n",
       "Sunday       0.111136\n",
       "Thursday     0.500225\n",
       "Tuesday      0.476474\n",
       "Wednesday    0.493044\n",
       "Name: abschange, dtype: float64"
      ]
     },
     "execution_count": 49,
     "metadata": {},
     "output_type": "execute_result"
    }
   ],
   "source": [
    "df.groupby('week')['abschange'].mean()"
   ]
  },
  {
   "cell_type": "code",
   "execution_count": 52,
   "id": "88ea8f07-d6cb-4a71-8ae4-f64c01363ba7",
   "metadata": {
    "tags": []
   },
   "outputs": [
    {
     "data": {
      "text/plain": [
       "week\n",
       "Friday       0.152842\n",
       "Monday      -0.025556\n",
       "Saturday    -0.266200\n",
       "Sunday      -0.111136\n",
       "Thursday    -0.052439\n",
       "Tuesday     -0.252345\n",
       "Wednesday   -0.005151\n",
       "Name: percent_change, dtype: float64"
      ]
     },
     "execution_count": 52,
     "metadata": {},
     "output_type": "execute_result"
    }
   ],
   "source": [
    "df.groupby('week')['percent_change'].mean()"
   ]
  },
  {
   "cell_type": "code",
   "execution_count": null,
   "id": "f06ea5cb-7fd2-474c-a0c8-f9cde3200b1b",
   "metadata": {},
   "outputs": [],
   "source": []
  }
 ],
 "metadata": {
  "kernelspec": {
   "display_name": "Python 3 (ipykernel)",
   "language": "python",
   "name": "python3"
  },
  "language_info": {
   "codemirror_mode": {
    "name": "ipython",
    "version": 3
   },
   "file_extension": ".py",
   "mimetype": "text/x-python",
   "name": "python",
   "nbconvert_exporter": "python",
   "pygments_lexer": "ipython3",
   "version": "3.11.5"
  }
 },
 "nbformat": 4,
 "nbformat_minor": 5
}
