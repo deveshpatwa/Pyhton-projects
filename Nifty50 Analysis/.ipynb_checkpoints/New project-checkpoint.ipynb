{
 "cells": [
  {
   "cell_type": "code",
   "execution_count": 1,
   "id": "39a6bed9-4d53-4523-8022-8b45a6848598",
   "metadata": {},
   "outputs": [],
   "source": [
    "import matplotlib.pyplot as plt\n",
    "import pandas as pd\n",
    "import seaborn as sns"
   ]
  },
  {
   "cell_type": "code",
   "execution_count": 2,
   "id": "6946e1ed-8682-44ab-b463-67be2c745373",
   "metadata": {},
   "outputs": [
    {
     "name": "stdout",
     "output_type": "stream",
     "text": [
      " Volume in drive C has no label.\n",
      " Volume Serial Number is C6E1-F1B2\n",
      "\n",
      " Directory of C:\\Users\\deves\\Documents\\GitHub\\Pyton\\Nifty50 Analysis\n",
      "\n",
      "27-02-2025  16:59    <DIR>          .\n",
      "26-02-2025  10:28    <DIR>          ..\n",
      "27-02-2025  16:50    <DIR>          .ipynb_checkpoints\n",
      "27-02-2025  16:59            43,422 New project.ipynb\n",
      "27-02-2025  16:50            16,176 NIFTY 50-27-02-2024-to-27-02-2025.csv\n",
      "20-06-2024  11:48            13,509 nifty_data.csv\n",
      "20-06-2024  11:49            13,506 nifty_data1.csv\n",
      "27-02-2025  16:51           140,721 Nifty50_Analysis.ipynb\n",
      "               5 File(s)        227,334 bytes\n",
      "               3 Dir(s)  357,557,178,368 bytes free\n"
     ]
    }
   ],
   "source": [
    "ls"
   ]
  },
  {
   "cell_type": "code",
   "execution_count": 3,
   "id": "11dfbfc9-a7b0-4e03-8567-569e7d491fb6",
   "metadata": {},
   "outputs": [],
   "source": [
    "df = pd.read_csv(\"NIFTY 50-27-02-2024-to-27-02-2025.csv\")"
   ]
  },
  {
   "cell_type": "code",
   "execution_count": 4,
   "id": "4db5942c-e2bb-49b5-b231-b0fac3262e9d",
   "metadata": {},
   "outputs": [
    {
     "data": {
      "text/html": [
       "<div>\n",
       "<style scoped>\n",
       "    .dataframe tbody tr th:only-of-type {\n",
       "        vertical-align: middle;\n",
       "    }\n",
       "\n",
       "    .dataframe tbody tr th {\n",
       "        vertical-align: top;\n",
       "    }\n",
       "\n",
       "    .dataframe thead th {\n",
       "        text-align: right;\n",
       "    }\n",
       "</style>\n",
       "<table border=\"1\" class=\"dataframe\">\n",
       "  <thead>\n",
       "    <tr style=\"text-align: right;\">\n",
       "      <th></th>\n",
       "      <th>Date</th>\n",
       "      <th>Open</th>\n",
       "      <th>High</th>\n",
       "      <th>Low</th>\n",
       "      <th>Close</th>\n",
       "      <th>Shares Traded</th>\n",
       "      <th>Turnover (₹ Cr)</th>\n",
       "    </tr>\n",
       "  </thead>\n",
       "  <tbody>\n",
       "    <tr>\n",
       "      <th>0</th>\n",
       "      <td>27-FEB-2024</td>\n",
       "      <td>22090.20</td>\n",
       "      <td>22218.25</td>\n",
       "      <td>22085.65</td>\n",
       "      <td>22198.35</td>\n",
       "      <td>252199186</td>\n",
       "      <td>24620.71</td>\n",
       "    </tr>\n",
       "    <tr>\n",
       "      <th>1</th>\n",
       "      <td>28-FEB-2024</td>\n",
       "      <td>22214.10</td>\n",
       "      <td>22229.15</td>\n",
       "      <td>21915.85</td>\n",
       "      <td>21951.15</td>\n",
       "      <td>202952371</td>\n",
       "      <td>20579.80</td>\n",
       "    </tr>\n",
       "    <tr>\n",
       "      <th>2</th>\n",
       "      <td>29-FEB-2024</td>\n",
       "      <td>21935.20</td>\n",
       "      <td>22060.55</td>\n",
       "      <td>21860.65</td>\n",
       "      <td>21982.80</td>\n",
       "      <td>360165824</td>\n",
       "      <td>40196.12</td>\n",
       "    </tr>\n",
       "    <tr>\n",
       "      <th>3</th>\n",
       "      <td>01-MAR-2024</td>\n",
       "      <td>22048.30</td>\n",
       "      <td>22353.30</td>\n",
       "      <td>22047.75</td>\n",
       "      <td>22338.75</td>\n",
       "      <td>351503075</td>\n",
       "      <td>29646.47</td>\n",
       "    </tr>\n",
       "    <tr>\n",
       "      <th>4</th>\n",
       "      <td>02-MAR-2024</td>\n",
       "      <td>22406.95</td>\n",
       "      <td>22419.55</td>\n",
       "      <td>22367.05</td>\n",
       "      <td>22378.40</td>\n",
       "      <td>35763814</td>\n",
       "      <td>1918.77</td>\n",
       "    </tr>\n",
       "  </tbody>\n",
       "</table>\n",
       "</div>"
      ],
      "text/plain": [
       "         Date      Open      High       Low     Close   Shares Traded   \\\n",
       "0  27-FEB-2024  22090.20  22218.25  22085.65  22198.35       252199186   \n",
       "1  28-FEB-2024  22214.10  22229.15  21915.85  21951.15       202952371   \n",
       "2  29-FEB-2024  21935.20  22060.55  21860.65  21982.80       360165824   \n",
       "3  01-MAR-2024  22048.30  22353.30  22047.75  22338.75       351503075   \n",
       "4  02-MAR-2024  22406.95  22419.55  22367.05  22378.40        35763814   \n",
       "\n",
       "   Turnover (₹ Cr)  \n",
       "0         24620.71  \n",
       "1         20579.80  \n",
       "2         40196.12  \n",
       "3         29646.47  \n",
       "4          1918.77  "
      ]
     },
     "execution_count": 4,
     "metadata": {},
     "output_type": "execute_result"
    }
   ],
   "source": [
    "df.head()"
   ]
  },
  {
   "cell_type": "code",
   "execution_count": 5,
   "id": "e585dac2-e661-4cd1-bbec-bd82b7235441",
   "metadata": {},
   "outputs": [],
   "source": [
    "df.rename(inplace=True,columns=dict(zip(df.columns,df.columns.str.lower().str.strip())))"
   ]
  },
  {
   "cell_type": "code",
   "execution_count": 6,
   "id": "b535a80b-a276-4af8-8eaa-70f033d1e65a",
   "metadata": {},
   "outputs": [
    {
     "data": {
      "text/html": [
       "<div>\n",
       "<style scoped>\n",
       "    .dataframe tbody tr th:only-of-type {\n",
       "        vertical-align: middle;\n",
       "    }\n",
       "\n",
       "    .dataframe tbody tr th {\n",
       "        vertical-align: top;\n",
       "    }\n",
       "\n",
       "    .dataframe thead th {\n",
       "        text-align: right;\n",
       "    }\n",
       "</style>\n",
       "<table border=\"1\" class=\"dataframe\">\n",
       "  <thead>\n",
       "    <tr style=\"text-align: right;\">\n",
       "      <th></th>\n",
       "      <th>date</th>\n",
       "      <th>open</th>\n",
       "      <th>high</th>\n",
       "      <th>low</th>\n",
       "      <th>close</th>\n",
       "      <th>shares traded</th>\n",
       "      <th>turnover (₹ cr)</th>\n",
       "    </tr>\n",
       "  </thead>\n",
       "  <tbody>\n",
       "    <tr>\n",
       "      <th>0</th>\n",
       "      <td>27-FEB-2024</td>\n",
       "      <td>22090.20</td>\n",
       "      <td>22218.25</td>\n",
       "      <td>22085.65</td>\n",
       "      <td>22198.35</td>\n",
       "      <td>252199186</td>\n",
       "      <td>24620.71</td>\n",
       "    </tr>\n",
       "    <tr>\n",
       "      <th>1</th>\n",
       "      <td>28-FEB-2024</td>\n",
       "      <td>22214.10</td>\n",
       "      <td>22229.15</td>\n",
       "      <td>21915.85</td>\n",
       "      <td>21951.15</td>\n",
       "      <td>202952371</td>\n",
       "      <td>20579.80</td>\n",
       "    </tr>\n",
       "    <tr>\n",
       "      <th>2</th>\n",
       "      <td>29-FEB-2024</td>\n",
       "      <td>21935.20</td>\n",
       "      <td>22060.55</td>\n",
       "      <td>21860.65</td>\n",
       "      <td>21982.80</td>\n",
       "      <td>360165824</td>\n",
       "      <td>40196.12</td>\n",
       "    </tr>\n",
       "    <tr>\n",
       "      <th>3</th>\n",
       "      <td>01-MAR-2024</td>\n",
       "      <td>22048.30</td>\n",
       "      <td>22353.30</td>\n",
       "      <td>22047.75</td>\n",
       "      <td>22338.75</td>\n",
       "      <td>351503075</td>\n",
       "      <td>29646.47</td>\n",
       "    </tr>\n",
       "    <tr>\n",
       "      <th>4</th>\n",
       "      <td>02-MAR-2024</td>\n",
       "      <td>22406.95</td>\n",
       "      <td>22419.55</td>\n",
       "      <td>22367.05</td>\n",
       "      <td>22378.40</td>\n",
       "      <td>35763814</td>\n",
       "      <td>1918.77</td>\n",
       "    </tr>\n",
       "  </tbody>\n",
       "</table>\n",
       "</div>"
      ],
      "text/plain": [
       "          date      open      high       low     close  shares traded  \\\n",
       "0  27-FEB-2024  22090.20  22218.25  22085.65  22198.35      252199186   \n",
       "1  28-FEB-2024  22214.10  22229.15  21915.85  21951.15      202952371   \n",
       "2  29-FEB-2024  21935.20  22060.55  21860.65  21982.80      360165824   \n",
       "3  01-MAR-2024  22048.30  22353.30  22047.75  22338.75      351503075   \n",
       "4  02-MAR-2024  22406.95  22419.55  22367.05  22378.40       35763814   \n",
       "\n",
       "   turnover (₹ cr)  \n",
       "0         24620.71  \n",
       "1         20579.80  \n",
       "2         40196.12  \n",
       "3         29646.47  \n",
       "4          1918.77  "
      ]
     },
     "execution_count": 6,
     "metadata": {},
     "output_type": "execute_result"
    }
   ],
   "source": [
    "df.head()"
   ]
  },
  {
   "cell_type": "code",
   "execution_count": 7,
   "id": "4a052c09-ba37-474b-9b54-7243bbcddcd0",
   "metadata": {},
   "outputs": [],
   "source": [
    "df['prv_close'] = df['close'].shift(1)"
   ]
  },
  {
   "cell_type": "code",
   "execution_count": 8,
   "id": "b4ad60bf-ab7c-43ac-9258-035f2222b14f",
   "metadata": {},
   "outputs": [],
   "source": [
    "df['change'] = df.close - df.prv_close"
   ]
  },
  {
   "cell_type": "code",
   "execution_count": 9,
   "id": "5a1bf978-2356-45f9-8737-c29e4c387a04",
   "metadata": {},
   "outputs": [
    {
     "data": {
      "text/html": [
       "<div>\n",
       "<style scoped>\n",
       "    .dataframe tbody tr th:only-of-type {\n",
       "        vertical-align: middle;\n",
       "    }\n",
       "\n",
       "    .dataframe tbody tr th {\n",
       "        vertical-align: top;\n",
       "    }\n",
       "\n",
       "    .dataframe thead th {\n",
       "        text-align: right;\n",
       "    }\n",
       "</style>\n",
       "<table border=\"1\" class=\"dataframe\">\n",
       "  <thead>\n",
       "    <tr style=\"text-align: right;\">\n",
       "      <th></th>\n",
       "      <th>date</th>\n",
       "      <th>open</th>\n",
       "      <th>high</th>\n",
       "      <th>low</th>\n",
       "      <th>close</th>\n",
       "      <th>shares traded</th>\n",
       "      <th>turnover (₹ cr)</th>\n",
       "      <th>prv_close</th>\n",
       "      <th>change</th>\n",
       "    </tr>\n",
       "  </thead>\n",
       "  <tbody>\n",
       "    <tr>\n",
       "      <th>0</th>\n",
       "      <td>27-FEB-2024</td>\n",
       "      <td>22090.20</td>\n",
       "      <td>22218.25</td>\n",
       "      <td>22085.65</td>\n",
       "      <td>22198.35</td>\n",
       "      <td>252199186</td>\n",
       "      <td>24620.71</td>\n",
       "      <td>NaN</td>\n",
       "      <td>NaN</td>\n",
       "    </tr>\n",
       "    <tr>\n",
       "      <th>1</th>\n",
       "      <td>28-FEB-2024</td>\n",
       "      <td>22214.10</td>\n",
       "      <td>22229.15</td>\n",
       "      <td>21915.85</td>\n",
       "      <td>21951.15</td>\n",
       "      <td>202952371</td>\n",
       "      <td>20579.80</td>\n",
       "      <td>22198.35</td>\n",
       "      <td>-247.20</td>\n",
       "    </tr>\n",
       "    <tr>\n",
       "      <th>2</th>\n",
       "      <td>29-FEB-2024</td>\n",
       "      <td>21935.20</td>\n",
       "      <td>22060.55</td>\n",
       "      <td>21860.65</td>\n",
       "      <td>21982.80</td>\n",
       "      <td>360165824</td>\n",
       "      <td>40196.12</td>\n",
       "      <td>21951.15</td>\n",
       "      <td>31.65</td>\n",
       "    </tr>\n",
       "    <tr>\n",
       "      <th>3</th>\n",
       "      <td>01-MAR-2024</td>\n",
       "      <td>22048.30</td>\n",
       "      <td>22353.30</td>\n",
       "      <td>22047.75</td>\n",
       "      <td>22338.75</td>\n",
       "      <td>351503075</td>\n",
       "      <td>29646.47</td>\n",
       "      <td>21982.80</td>\n",
       "      <td>355.95</td>\n",
       "    </tr>\n",
       "    <tr>\n",
       "      <th>4</th>\n",
       "      <td>02-MAR-2024</td>\n",
       "      <td>22406.95</td>\n",
       "      <td>22419.55</td>\n",
       "      <td>22367.05</td>\n",
       "      <td>22378.40</td>\n",
       "      <td>35763814</td>\n",
       "      <td>1918.77</td>\n",
       "      <td>22338.75</td>\n",
       "      <td>39.65</td>\n",
       "    </tr>\n",
       "  </tbody>\n",
       "</table>\n",
       "</div>"
      ],
      "text/plain": [
       "          date      open      high       low     close  shares traded  \\\n",
       "0  27-FEB-2024  22090.20  22218.25  22085.65  22198.35      252199186   \n",
       "1  28-FEB-2024  22214.10  22229.15  21915.85  21951.15      202952371   \n",
       "2  29-FEB-2024  21935.20  22060.55  21860.65  21982.80      360165824   \n",
       "3  01-MAR-2024  22048.30  22353.30  22047.75  22338.75      351503075   \n",
       "4  02-MAR-2024  22406.95  22419.55  22367.05  22378.40       35763814   \n",
       "\n",
       "   turnover (₹ cr)  prv_close  change  \n",
       "0         24620.71        NaN     NaN  \n",
       "1         20579.80   22198.35 -247.20  \n",
       "2         40196.12   21951.15   31.65  \n",
       "3         29646.47   21982.80  355.95  \n",
       "4          1918.77   22338.75   39.65  "
      ]
     },
     "execution_count": 9,
     "metadata": {},
     "output_type": "execute_result"
    }
   ],
   "source": [
    "df.head()"
   ]
  },
  {
   "cell_type": "code",
   "execution_count": 10,
   "id": "9825fe77-56d8-411d-90c3-d0f1378c3023",
   "metadata": {},
   "outputs": [
    {
     "data": {
      "text/plain": [
       "<Axes: ylabel='Frequency'>"
      ]
     },
     "execution_count": 10,
     "metadata": {},
     "output_type": "execute_result"
    },
    {
     "data": {
      "image/png": "[encoded data removed]",
      "text/plain": [
       "<Figure size 640x480 with 1 Axes>"
      ]
     },
     "metadata": {},
     "output_type": "display_data"
    }
   ],
   "source": [
    "df.change.plot(kind=\"hist\")"
   ]
  },
  {
   "cell_type": "code",
   "execution_count": 11,
   "id": "5077bc22-fe5b-4d78-8051-49c226f26e39",
   "metadata": {},
   "outputs": [
    {
     "data": {
      "text/plain": [
       "<Axes: xlabel='change', ylabel='Count'>"
      ]
     },
     "execution_count": 11,
     "metadata": {},
     "output_type": "execute_result"
    },
    {
     "data": {
      "image/png": "[encoded data removed]",
      "text/plain": [
       "<Figure size 640x480 with 1 Axes>"
      ]
     },
     "metadata": {},
     "output_type": "display_data"
    }
   ],
   "source": [
    "sns.histplot(data=df,x='change',bins=30)"
   ]
  },
  {
   "cell_type": "code",
   "execution_count": 25,
   "id": "0ba6cb5d-e546-4a11-b5b0-38e2613c26ad",
   "metadata": {},
   "outputs": [
    {
     "data": {
      "text/plain": [
       "<Axes: xlabel='change percent', ylabel='Count'>"
      ]
     },
     "execution_count": 25,
     "metadata": {},
     "output_type": "execute_result"
    },
    {
     "data": {
      "image/png": "[encoded data removed]",
      "text/plain": [
       "<Figure size 640x480 with 1 Axes>"
      ]
     },
     "metadata": {},
     "output_type": "display_data"
    }
   ],
   "source": [
    "sns.histplot(df[abs(df['change'])<500]['change percent'],bins=30,kde=True)"
   ]
  },
  {
   "cell_type": "code",
   "execution_count": 15,
   "id": "f37cb5f8-f878-4697-aa89-ea4723390cda",
   "metadata": {},
   "outputs": [
    {
     "data": {
      "text/html": [
       "<div>\n",
       "<style scoped>\n",
       "    .dataframe tbody tr th:only-of-type {\n",
       "        vertical-align: middle;\n",
       "    }\n",
       "\n",
       "    .dataframe tbody tr th {\n",
       "        vertical-align: top;\n",
       "    }\n",
       "\n",
       "    .dataframe thead th {\n",
       "        text-align: right;\n",
       "    }\n",
       "</style>\n",
       "<table border=\"1\" class=\"dataframe\">\n",
       "  <thead>\n",
       "    <tr style=\"text-align: right;\">\n",
       "      <th></th>\n",
       "      <th>date</th>\n",
       "      <th>open</th>\n",
       "      <th>high</th>\n",
       "      <th>low</th>\n",
       "      <th>close</th>\n",
       "      <th>shares traded</th>\n",
       "      <th>turnover (₹ cr)</th>\n",
       "      <th>prv_close</th>\n",
       "      <th>change</th>\n",
       "    </tr>\n",
       "  </thead>\n",
       "  <tbody>\n",
       "    <tr>\n",
       "      <th>0</th>\n",
       "      <td>27-FEB-2024</td>\n",
       "      <td>22090.20</td>\n",
       "      <td>22218.25</td>\n",
       "      <td>22085.65</td>\n",
       "      <td>22198.35</td>\n",
       "      <td>252199186</td>\n",
       "      <td>24620.71</td>\n",
       "      <td>NaN</td>\n",
       "      <td>NaN</td>\n",
       "    </tr>\n",
       "    <tr>\n",
       "      <th>1</th>\n",
       "      <td>28-FEB-2024</td>\n",
       "      <td>22214.10</td>\n",
       "      <td>22229.15</td>\n",
       "      <td>21915.85</td>\n",
       "      <td>21951.15</td>\n",
       "      <td>202952371</td>\n",
       "      <td>20579.80</td>\n",
       "      <td>22198.35</td>\n",
       "      <td>-247.20</td>\n",
       "    </tr>\n",
       "    <tr>\n",
       "      <th>2</th>\n",
       "      <td>29-FEB-2024</td>\n",
       "      <td>21935.20</td>\n",
       "      <td>22060.55</td>\n",
       "      <td>21860.65</td>\n",
       "      <td>21982.80</td>\n",
       "      <td>360165824</td>\n",
       "      <td>40196.12</td>\n",
       "      <td>21951.15</td>\n",
       "      <td>31.65</td>\n",
       "    </tr>\n",
       "    <tr>\n",
       "      <th>3</th>\n",
       "      <td>01-MAR-2024</td>\n",
       "      <td>22048.30</td>\n",
       "      <td>22353.30</td>\n",
       "      <td>22047.75</td>\n",
       "      <td>22338.75</td>\n",
       "      <td>351503075</td>\n",
       "      <td>29646.47</td>\n",
       "      <td>21982.80</td>\n",
       "      <td>355.95</td>\n",
       "    </tr>\n",
       "    <tr>\n",
       "      <th>4</th>\n",
       "      <td>02-MAR-2024</td>\n",
       "      <td>22406.95</td>\n",
       "      <td>22419.55</td>\n",
       "      <td>22367.05</td>\n",
       "      <td>22378.40</td>\n",
       "      <td>35763814</td>\n",
       "      <td>1918.77</td>\n",
       "      <td>22338.75</td>\n",
       "      <td>39.65</td>\n",
       "    </tr>\n",
       "  </tbody>\n",
       "</table>\n",
       "</div>"
      ],
      "text/plain": [
       "          date      open      high       low     close  shares traded  \\\n",
       "0  27-FEB-2024  22090.20  22218.25  22085.65  22198.35      252199186   \n",
       "1  28-FEB-2024  22214.10  22229.15  21915.85  21951.15      202952371   \n",
       "2  29-FEB-2024  21935.20  22060.55  21860.65  21982.80      360165824   \n",
       "3  01-MAR-2024  22048.30  22353.30  22047.75  22338.75      351503075   \n",
       "4  02-MAR-2024  22406.95  22419.55  22367.05  22378.40       35763814   \n",
       "\n",
       "   turnover (₹ cr)  prv_close  change  \n",
       "0         24620.71        NaN     NaN  \n",
       "1         20579.80   22198.35 -247.20  \n",
       "2         40196.12   21951.15   31.65  \n",
       "3         29646.47   21982.80  355.95  \n",
       "4          1918.77   22338.75   39.65  "
      ]
     },
     "execution_count": 15,
     "metadata": {},
     "output_type": "execute_result"
    }
   ],
   "source": [
    "df.head()"
   ]
  },
  {
   "cell_type": "code",
   "execution_count": 18,
   "id": "cd2ba827-9f82-4792-8143-7a6bc57eee15",
   "metadata": {},
   "outputs": [
    {
     "data": {
      "text/html": [
       "<div>\n",
       "<style scoped>\n",
       "    .dataframe tbody tr th:only-of-type {\n",
       "        vertical-align: middle;\n",
       "    }\n",
       "\n",
       "    .dataframe tbody tr th {\n",
       "        vertical-align: top;\n",
       "    }\n",
       "\n",
       "    .dataframe thead th {\n",
       "        text-align: right;\n",
       "    }\n",
       "</style>\n",
       "<table border=\"1\" class=\"dataframe\">\n",
       "  <thead>\n",
       "    <tr style=\"text-align: right;\">\n",
       "      <th></th>\n",
       "      <th>date</th>\n",
       "      <th>open</th>\n",
       "      <th>high</th>\n",
       "      <th>low</th>\n",
       "      <th>close</th>\n",
       "      <th>shares traded</th>\n",
       "      <th>turnover (₹ cr)</th>\n",
       "      <th>prv_close</th>\n",
       "      <th>change</th>\n",
       "      <th>change percent</th>\n",
       "    </tr>\n",
       "  </thead>\n",
       "  <tbody>\n",
       "    <tr>\n",
       "      <th>0</th>\n",
       "      <td>27-FEB-2024</td>\n",
       "      <td>22090.20</td>\n",
       "      <td>22218.25</td>\n",
       "      <td>22085.65</td>\n",
       "      <td>22198.35</td>\n",
       "      <td>252199186</td>\n",
       "      <td>24620.71</td>\n",
       "      <td>NaN</td>\n",
       "      <td>NaN</td>\n",
       "      <td>NaN</td>\n",
       "    </tr>\n",
       "    <tr>\n",
       "      <th>1</th>\n",
       "      <td>28-FEB-2024</td>\n",
       "      <td>22214.10</td>\n",
       "      <td>22229.15</td>\n",
       "      <td>21915.85</td>\n",
       "      <td>21951.15</td>\n",
       "      <td>202952371</td>\n",
       "      <td>20579.80</td>\n",
       "      <td>22198.35</td>\n",
       "      <td>-247.20</td>\n",
       "      <td>-1.113596</td>\n",
       "    </tr>\n",
       "    <tr>\n",
       "      <th>2</th>\n",
       "      <td>29-FEB-2024</td>\n",
       "      <td>21935.20</td>\n",
       "      <td>22060.55</td>\n",
       "      <td>21860.65</td>\n",
       "      <td>21982.80</td>\n",
       "      <td>360165824</td>\n",
       "      <td>40196.12</td>\n",
       "      <td>21951.15</td>\n",
       "      <td>31.65</td>\n",
       "      <td>0.144184</td>\n",
       "    </tr>\n",
       "    <tr>\n",
       "      <th>3</th>\n",
       "      <td>01-MAR-2024</td>\n",
       "      <td>22048.30</td>\n",
       "      <td>22353.30</td>\n",
       "      <td>22047.75</td>\n",
       "      <td>22338.75</td>\n",
       "      <td>351503075</td>\n",
       "      <td>29646.47</td>\n",
       "      <td>21982.80</td>\n",
       "      <td>355.95</td>\n",
       "      <td>1.619220</td>\n",
       "    </tr>\n",
       "    <tr>\n",
       "      <th>4</th>\n",
       "      <td>02-MAR-2024</td>\n",
       "      <td>22406.95</td>\n",
       "      <td>22419.55</td>\n",
       "      <td>22367.05</td>\n",
       "      <td>22378.40</td>\n",
       "      <td>35763814</td>\n",
       "      <td>1918.77</td>\n",
       "      <td>22338.75</td>\n",
       "      <td>39.65</td>\n",
       "      <td>0.177494</td>\n",
       "    </tr>\n",
       "  </tbody>\n",
       "</table>\n",
       "</div>"
      ],
      "text/plain": [
       "          date      open      high       low     close  shares traded  \\\n",
       "0  27-FEB-2024  22090.20  22218.25  22085.65  22198.35      252199186   \n",
       "1  28-FEB-2024  22214.10  22229.15  21915.85  21951.15      202952371   \n",
       "2  29-FEB-2024  21935.20  22060.55  21860.65  21982.80      360165824   \n",
       "3  01-MAR-2024  22048.30  22353.30  22047.75  22338.75      351503075   \n",
       "4  02-MAR-2024  22406.95  22419.55  22367.05  22378.40       35763814   \n",
       "\n",
       "   turnover (₹ cr)  prv_close  change  change percent  \n",
       "0         24620.71        NaN     NaN             NaN  \n",
       "1         20579.80   22198.35 -247.20       -1.113596  \n",
       "2         40196.12   21951.15   31.65        0.144184  \n",
       "3         29646.47   21982.80  355.95        1.619220  \n",
       "4          1918.77   22338.75   39.65        0.177494  "
      ]
     },
     "execution_count": 18,
     "metadata": {},
     "output_type": "execute_result"
    }
   ],
   "source": [
    "df['change percent'] = (df.change / df.prv_close) * 100\n",
    "df.head()"
   ]
  },
  {
   "cell_type": "code",
   "execution_count": 26,
   "id": "a144c6b4-ae44-470f-a50a-b4b60b1bb524",
   "metadata": {},
   "outputs": [
    {
     "name": "stdout",
     "output_type": "stream",
     "text": [
      "<class 'pandas.core.frame.DataFrame'>\n",
      "RangeIndex: 250 entries, 0 to 249\n",
      "Data columns (total 10 columns):\n",
      " #   Column           Non-Null Count  Dtype  \n",
      "---  ------           --------------  -----  \n",
      " 0   date             250 non-null    object \n",
      " 1   open             250 non-null    float64\n",
      " 2   high             250 non-null    float64\n",
      " 3   low              250 non-null    float64\n",
      " 4   close            250 non-null    float64\n",
      " 5   shares traded    250 non-null    int64  \n",
      " 6   turnover (₹ cr)  250 non-null    float64\n",
      " 7   prv_close        249 non-null    float64\n",
      " 8   change           249 non-null    float64\n",
      " 9   change percent   249 non-null    float64\n",
      "dtypes: float64(8), int64(1), object(1)\n",
      "memory usage: 19.7+ KB\n"
     ]
    }
   ],
   "source": [
    "df.info()"
   ]
  },
  {
   "cell_type": "code",
   "execution_count": 28,
   "id": "8025b155-3cf0-42ab-9d87-7303a60a7272",
   "metadata": {},
   "outputs": [
    {
     "name": "stderr",
     "output_type": "stream",
     "text": [
      "C:\\Users\\deves\\AppData\\Local\\Temp\\ipykernel_19912\\1213281828.py:1: UserWarning: Could not infer format, so each element will be parsed individually, falling back to `dateutil`. To ensure parsing is consistent and as-expected, please specify a format.\n",
      "  df['date']=pd.to_datetime(df['date'])\n"
     ]
    }
   ],
   "source": [
    "df['date']=pd.to_datetime(df['date'])"
   ]
  },
  {
   "cell_type": "code",
   "execution_count": 29,
   "id": "476bcc10-a2bd-4971-b586-051d2024a2e4",
   "metadata": {},
   "outputs": [
    {
     "name": "stdout",
     "output_type": "stream",
     "text": [
      "<class 'pandas.core.frame.DataFrame'>\n",
      "RangeIndex: 250 entries, 0 to 249\n",
      "Data columns (total 10 columns):\n",
      " #   Column           Non-Null Count  Dtype         \n",
      "---  ------           --------------  -----         \n",
      " 0   date             250 non-null    datetime64[ns]\n",
      " 1   open             250 non-null    float64       \n",
      " 2   high             250 non-null    float64       \n",
      " 3   low              250 non-null    float64       \n",
      " 4   close            250 non-null    float64       \n",
      " 5   shares traded    250 non-null    int64         \n",
      " 6   turnover (₹ cr)  250 non-null    float64       \n",
      " 7   prv_close        249 non-null    float64       \n",
      " 8   change           249 non-null    float64       \n",
      " 9   change percent   249 non-null    float64       \n",
      "dtypes: datetime64[ns](1), float64(8), int64(1)\n",
      "memory usage: 19.7 KB\n"
     ]
    }
   ],
   "source": [
    "df.info()"
   ]
  },
  {
   "cell_type": "code",
   "execution_count": 30,
   "id": "76db3949-650d-44c1-a269-ceae3902d0e0",
   "metadata": {},
   "outputs": [
    {
     "data": {
      "text/html": [
       "<div>\n",
       "<style scoped>\n",
       "    .dataframe tbody tr th:only-of-type {\n",
       "        vertical-align: middle;\n",
       "    }\n",
       "\n",
       "    .dataframe tbody tr th {\n",
       "        vertical-align: top;\n",
       "    }\n",
       "\n",
       "    .dataframe thead th {\n",
       "        text-align: right;\n",
       "    }\n",
       "</style>\n",
       "<table border=\"1\" class=\"dataframe\">\n",
       "  <thead>\n",
       "    <tr style=\"text-align: right;\">\n",
       "      <th></th>\n",
       "      <th>date</th>\n",
       "      <th>open</th>\n",
       "      <th>high</th>\n",
       "      <th>low</th>\n",
       "      <th>close</th>\n",
       "      <th>shares traded</th>\n",
       "      <th>turnover (₹ cr)</th>\n",
       "      <th>prv_close</th>\n",
       "      <th>change</th>\n",
       "      <th>change percent</th>\n",
       "    </tr>\n",
       "  </thead>\n",
       "  <tbody>\n",
       "    <tr>\n",
       "      <th>0</th>\n",
       "      <td>2024-02-27</td>\n",
       "      <td>22090.20</td>\n",
       "      <td>22218.25</td>\n",
       "      <td>22085.65</td>\n",
       "      <td>22198.35</td>\n",
       "      <td>252199186</td>\n",
       "      <td>24620.71</td>\n",
       "      <td>NaN</td>\n",
       "      <td>NaN</td>\n",
       "      <td>NaN</td>\n",
       "    </tr>\n",
       "    <tr>\n",
       "      <th>1</th>\n",
       "      <td>2024-02-28</td>\n",
       "      <td>22214.10</td>\n",
       "      <td>22229.15</td>\n",
       "      <td>21915.85</td>\n",
       "      <td>21951.15</td>\n",
       "      <td>202952371</td>\n",
       "      <td>20579.80</td>\n",
       "      <td>22198.35</td>\n",
       "      <td>-247.20</td>\n",
       "      <td>-1.113596</td>\n",
       "    </tr>\n",
       "    <tr>\n",
       "      <th>2</th>\n",
       "      <td>2024-02-29</td>\n",
       "      <td>21935.20</td>\n",
       "      <td>22060.55</td>\n",
       "      <td>21860.65</td>\n",
       "      <td>21982.80</td>\n",
       "      <td>360165824</td>\n",
       "      <td>40196.12</td>\n",
       "      <td>21951.15</td>\n",
       "      <td>31.65</td>\n",
       "      <td>0.144184</td>\n",
       "    </tr>\n",
       "    <tr>\n",
       "      <th>3</th>\n",
       "      <td>2024-03-01</td>\n",
       "      <td>22048.30</td>\n",
       "      <td>22353.30</td>\n",
       "      <td>22047.75</td>\n",
       "      <td>22338.75</td>\n",
       "      <td>351503075</td>\n",
       "      <td>29646.47</td>\n",
       "      <td>21982.80</td>\n",
       "      <td>355.95</td>\n",
       "      <td>1.619220</td>\n",
       "    </tr>\n",
       "    <tr>\n",
       "      <th>4</th>\n",
       "      <td>2024-03-02</td>\n",
       "      <td>22406.95</td>\n",
       "      <td>22419.55</td>\n",
       "      <td>22367.05</td>\n",
       "      <td>22378.40</td>\n",
       "      <td>35763814</td>\n",
       "      <td>1918.77</td>\n",
       "      <td>22338.75</td>\n",
       "      <td>39.65</td>\n",
       "      <td>0.177494</td>\n",
       "    </tr>\n",
       "  </tbody>\n",
       "</table>\n",
       "</div>"
      ],
      "text/plain": [
       "        date      open      high       low     close  shares traded  \\\n",
       "0 2024-02-27  22090.20  22218.25  22085.65  22198.35      252199186   \n",
       "1 2024-02-28  22214.10  22229.15  21915.85  21951.15      202952371   \n",
       "2 2024-02-29  21935.20  22060.55  21860.65  21982.80      360165824   \n",
       "3 2024-03-01  22048.30  22353.30  22047.75  22338.75      351503075   \n",
       "4 2024-03-02  22406.95  22419.55  22367.05  22378.40       35763814   \n",
       "\n",
       "   turnover (₹ cr)  prv_close  change  change percent  \n",
       "0         24620.71        NaN     NaN             NaN  \n",
       "1         20579.80   22198.35 -247.20       -1.113596  \n",
       "2         40196.12   21951.15   31.65        0.144184  \n",
       "3         29646.47   21982.80  355.95        1.619220  \n",
       "4          1918.77   22338.75   39.65        0.177494  "
      ]
     },
     "execution_count": 30,
     "metadata": {},
     "output_type": "execute_result"
    }
   ],
   "source": [
    "df.head()"
   ]
  },
  {
   "cell_type": "code",
   "execution_count": 36,
   "id": "8927ad91-efcc-4803-bc33-8598cdeef832",
   "metadata": {},
   "outputs": [],
   "source": [
    "df['week'] = df['date'].dt.day_name()"
   ]
  },
  {
   "cell_type": "code",
   "execution_count": 37,
   "id": "2c7e69a4-56b0-4537-9e88-2bae230d4646",
   "metadata": {},
   "outputs": [
    {
     "data": {
      "text/html": [
       "<div>\n",
       "<style scoped>\n",
       "    .dataframe tbody tr th:only-of-type {\n",
       "        vertical-align: middle;\n",
       "    }\n",
       "\n",
       "    .dataframe tbody tr th {\n",
       "        vertical-align: top;\n",
       "    }\n",
       "\n",
       "    .dataframe thead th {\n",
       "        text-align: right;\n",
       "    }\n",
       "</style>\n",
       "<table border=\"1\" class=\"dataframe\">\n",
       "  <thead>\n",
       "    <tr style=\"text-align: right;\">\n",
       "      <th></th>\n",
       "      <th>date</th>\n",
       "      <th>open</th>\n",
       "      <th>high</th>\n",
       "      <th>low</th>\n",
       "      <th>close</th>\n",
       "      <th>shares traded</th>\n",
       "      <th>turnover (₹ cr)</th>\n",
       "      <th>prv_close</th>\n",
       "      <th>change</th>\n",
       "      <th>change percent</th>\n",
       "      <th>week</th>\n",
       "    </tr>\n",
       "  </thead>\n",
       "  <tbody>\n",
       "    <tr>\n",
       "      <th>0</th>\n",
       "      <td>2024-02-27</td>\n",
       "      <td>22090.20</td>\n",
       "      <td>22218.25</td>\n",
       "      <td>22085.65</td>\n",
       "      <td>22198.35</td>\n",
       "      <td>252199186</td>\n",
       "      <td>24620.71</td>\n",
       "      <td>NaN</td>\n",
       "      <td>NaN</td>\n",
       "      <td>NaN</td>\n",
       "      <td>Tuesday</td>\n",
       "    </tr>\n",
       "    <tr>\n",
       "      <th>1</th>\n",
       "      <td>2024-02-28</td>\n",
       "      <td>22214.10</td>\n",
       "      <td>22229.15</td>\n",
       "      <td>21915.85</td>\n",
       "      <td>21951.15</td>\n",
       "      <td>202952371</td>\n",
       "      <td>20579.80</td>\n",
       "      <td>22198.35</td>\n",
       "      <td>-247.20</td>\n",
       "      <td>-1.113596</td>\n",
       "      <td>Wednesday</td>\n",
       "    </tr>\n",
       "    <tr>\n",
       "      <th>2</th>\n",
       "      <td>2024-02-29</td>\n",
       "      <td>21935.20</td>\n",
       "      <td>22060.55</td>\n",
       "      <td>21860.65</td>\n",
       "      <td>21982.80</td>\n",
       "      <td>360165824</td>\n",
       "      <td>40196.12</td>\n",
       "      <td>21951.15</td>\n",
       "      <td>31.65</td>\n",
       "      <td>0.144184</td>\n",
       "      <td>Thursday</td>\n",
       "    </tr>\n",
       "    <tr>\n",
       "      <th>3</th>\n",
       "      <td>2024-03-01</td>\n",
       "      <td>22048.30</td>\n",
       "      <td>22353.30</td>\n",
       "      <td>22047.75</td>\n",
       "      <td>22338.75</td>\n",
       "      <td>351503075</td>\n",
       "      <td>29646.47</td>\n",
       "      <td>21982.80</td>\n",
       "      <td>355.95</td>\n",
       "      <td>1.619220</td>\n",
       "      <td>Friday</td>\n",
       "    </tr>\n",
       "    <tr>\n",
       "      <th>4</th>\n",
       "      <td>2024-03-02</td>\n",
       "      <td>22406.95</td>\n",
       "      <td>22419.55</td>\n",
       "      <td>22367.05</td>\n",
       "      <td>22378.40</td>\n",
       "      <td>35763814</td>\n",
       "      <td>1918.77</td>\n",
       "      <td>22338.75</td>\n",
       "      <td>39.65</td>\n",
       "      <td>0.177494</td>\n",
       "      <td>Saturday</td>\n",
       "    </tr>\n",
       "  </tbody>\n",
       "</table>\n",
       "</div>"
      ],
      "text/plain": [
       "        date      open      high       low     close  shares traded  \\\n",
       "0 2024-02-27  22090.20  22218.25  22085.65  22198.35      252199186   \n",
       "1 2024-02-28  22214.10  22229.15  21915.85  21951.15      202952371   \n",
       "2 2024-02-29  21935.20  22060.55  21860.65  21982.80      360165824   \n",
       "3 2024-03-01  22048.30  22353.30  22047.75  22338.75      351503075   \n",
       "4 2024-03-02  22406.95  22419.55  22367.05  22378.40       35763814   \n",
       "\n",
       "   turnover (₹ cr)  prv_close  change  change percent       week  \n",
       "0         24620.71        NaN     NaN             NaN    Tuesday  \n",
       "1         20579.80   22198.35 -247.20       -1.113596  Wednesday  \n",
       "2         40196.12   21951.15   31.65        0.144184   Thursday  \n",
       "3         29646.47   21982.80  355.95        1.619220     Friday  \n",
       "4          1918.77   22338.75   39.65        0.177494   Saturday  "
      ]
     },
     "execution_count": 37,
     "metadata": {},
     "output_type": "execute_result"
    }
   ],
   "source": [
    "df.head()"
   ]
  },
  {
   "cell_type": "code",
   "execution_count": 40,
   "id": "96698412-353b-4e82-9810-7bde009d4880",
   "metadata": {},
   "outputs": [
    {
     "data": {
      "text/plain": [
       "<Axes: xlabel='change percent', ylabel='Count'>"
      ]
     },
     "execution_count": 40,
     "metadata": {},
     "output_type": "execute_result"
    },
    {
     "data": {
      "image/png": "[encoded data removed]",
      "text/plain": [
       "<Figure size 640x480 with 1 Axes>"
      ]
     },
     "metadata": {},
     "output_type": "display_data"
    }
   ],
   "source": [
    "sns.histplot(df[abs(df['change'])<500]['change percent'],bins=30)"
   ]
  },
  {
   "cell_type": "code",
   "execution_count": 44,
   "id": "848eb9ff-d59b-4661-bf2c-752699fb6ff6",
   "metadata": {},
   "outputs": [
    {
     "data": {
      "text/plain": [
       "week\n",
       "Thursday     0.107347\n",
       "Saturday     0.075209\n",
       "Friday       0.059320\n",
       "Wednesday    0.016163\n",
       "Tuesday     -0.033692\n",
       "Monday      -0.065741\n",
       "Name: change percent, dtype: float64"
      ]
     },
     "execution_count": 44,
     "metadata": {},
     "output_type": "execute_result"
    }
   ],
   "source": [
    "df[abs(df['change'])<500].groupby('week')['change percent'].mean().sort_values(ascending=False)"
   ]
  },
  {
   "cell_type": "code",
   "execution_count": 45,
   "id": "7ab290ab-eb52-4d40-a801-eae82da1ffd2",
   "metadata": {},
   "outputs": [
    {
     "data": {
      "text/plain": [
       "week\n",
       "Friday       0.892439\n",
       "Monday       0.921354\n",
       "Saturday     0.162077\n",
       "Thursday     0.824759\n",
       "Tuesday      1.017269\n",
       "Wednesday    0.743894\n",
       "Name: change percent, dtype: float64"
      ]
     },
     "execution_count": 45,
     "metadata": {},
     "output_type": "execute_result"
    }
   ],
   "source": [
    "df.groupby('week')['change percent'].std()"
   ]
  },
  {
   "cell_type": "code",
   "execution_count": 46,
   "id": "9ef72637-afd4-431c-8527-75e894df4fb1",
   "metadata": {},
   "outputs": [
    {
     "data": {
      "text/html": [
       "<div>\n",
       "<style scoped>\n",
       "    .dataframe tbody tr th:only-of-type {\n",
       "        vertical-align: middle;\n",
       "    }\n",
       "\n",
       "    .dataframe tbody tr th {\n",
       "        vertical-align: top;\n",
       "    }\n",
       "\n",
       "    .dataframe thead th {\n",
       "        text-align: right;\n",
       "    }\n",
       "</style>\n",
       "<table border=\"1\" class=\"dataframe\">\n",
       "  <thead>\n",
       "    <tr style=\"text-align: right;\">\n",
       "      <th></th>\n",
       "      <th>date</th>\n",
       "      <th>open</th>\n",
       "      <th>high</th>\n",
       "      <th>low</th>\n",
       "      <th>close</th>\n",
       "      <th>shares traded</th>\n",
       "      <th>turnover (₹ cr)</th>\n",
       "      <th>prv_close</th>\n",
       "      <th>change</th>\n",
       "      <th>change percent</th>\n",
       "      <th>week</th>\n",
       "    </tr>\n",
       "  </thead>\n",
       "  <tbody>\n",
       "    <tr>\n",
       "      <th>0</th>\n",
       "      <td>2024-02-27</td>\n",
       "      <td>22090.20</td>\n",
       "      <td>22218.25</td>\n",
       "      <td>22085.65</td>\n",
       "      <td>22198.35</td>\n",
       "      <td>252199186</td>\n",
       "      <td>24620.71</td>\n",
       "      <td>NaN</td>\n",
       "      <td>NaN</td>\n",
       "      <td>NaN</td>\n",
       "      <td>Tuesday</td>\n",
       "    </tr>\n",
       "    <tr>\n",
       "      <th>1</th>\n",
       "      <td>2024-02-28</td>\n",
       "      <td>22214.10</td>\n",
       "      <td>22229.15</td>\n",
       "      <td>21915.85</td>\n",
       "      <td>21951.15</td>\n",
       "      <td>202952371</td>\n",
       "      <td>20579.80</td>\n",
       "      <td>22198.35</td>\n",
       "      <td>-247.20</td>\n",
       "      <td>-1.113596</td>\n",
       "      <td>Wednesday</td>\n",
       "    </tr>\n",
       "    <tr>\n",
       "      <th>2</th>\n",
       "      <td>2024-02-29</td>\n",
       "      <td>21935.20</td>\n",
       "      <td>22060.55</td>\n",
       "      <td>21860.65</td>\n",
       "      <td>21982.80</td>\n",
       "      <td>360165824</td>\n",
       "      <td>40196.12</td>\n",
       "      <td>21951.15</td>\n",
       "      <td>31.65</td>\n",
       "      <td>0.144184</td>\n",
       "      <td>Thursday</td>\n",
       "    </tr>\n",
       "    <tr>\n",
       "      <th>3</th>\n",
       "      <td>2024-03-01</td>\n",
       "      <td>22048.30</td>\n",
       "      <td>22353.30</td>\n",
       "      <td>22047.75</td>\n",
       "      <td>22338.75</td>\n",
       "      <td>351503075</td>\n",
       "      <td>29646.47</td>\n",
       "      <td>21982.80</td>\n",
       "      <td>355.95</td>\n",
       "      <td>1.619220</td>\n",
       "      <td>Friday</td>\n",
       "    </tr>\n",
       "    <tr>\n",
       "      <th>4</th>\n",
       "      <td>2024-03-02</td>\n",
       "      <td>22406.95</td>\n",
       "      <td>22419.55</td>\n",
       "      <td>22367.05</td>\n",
       "      <td>22378.40</td>\n",
       "      <td>35763814</td>\n",
       "      <td>1918.77</td>\n",
       "      <td>22338.75</td>\n",
       "      <td>39.65</td>\n",
       "      <td>0.177494</td>\n",
       "      <td>Saturday</td>\n",
       "    </tr>\n",
       "  </tbody>\n",
       "</table>\n",
       "</div>"
      ],
      "text/plain": [
       "        date      open      high       low     close  shares traded  \\\n",
       "0 2024-02-27  22090.20  22218.25  22085.65  22198.35      252199186   \n",
       "1 2024-02-28  22214.10  22229.15  21915.85  21951.15      202952371   \n",
       "2 2024-02-29  21935.20  22060.55  21860.65  21982.80      360165824   \n",
       "3 2024-03-01  22048.30  22353.30  22047.75  22338.75      351503075   \n",
       "4 2024-03-02  22406.95  22419.55  22367.05  22378.40       35763814   \n",
       "\n",
       "   turnover (₹ cr)  prv_close  change  change percent       week  \n",
       "0         24620.71        NaN     NaN             NaN    Tuesday  \n",
       "1         20579.80   22198.35 -247.20       -1.113596  Wednesday  \n",
       "2         40196.12   21951.15   31.65        0.144184   Thursday  \n",
       "3         29646.47   21982.80  355.95        1.619220     Friday  \n",
       "4          1918.77   22338.75   39.65        0.177494   Saturday  "
      ]
     },
     "execution_count": 46,
     "metadata": {},
     "output_type": "execute_result"
    }
   ],
   "source": [
    "df.head()"
   ]
  },
  {
   "cell_type": "code",
   "execution_count": 47,
   "id": "563d5aee-33a6-46e1-9d9f-5eaacc6eb057",
   "metadata": {},
   "outputs": [
    {
     "data": {
      "text/plain": [
       "0        Tuesday\n",
       "1      Wednesday\n",
       "2       Thursday\n",
       "3         Friday\n",
       "4       Saturday\n",
       "         ...    \n",
       "245    Wednesday\n",
       "246     Thursday\n",
       "247       Friday\n",
       "248       Monday\n",
       "249      Tuesday\n",
       "Name: week, Length: 250, dtype: object"
      ]
     },
     "execution_count": 47,
     "metadata": {},
     "output_type": "execute_result"
    }
   ],
   "source": [
    "df['week'].str.title()"
   ]
  },
  {
   "cell_type": "code",
   "execution_count": 48,
   "id": "941aa635-04ba-441b-b9d6-f0aa69cc2afc",
   "metadata": {},
   "outputs": [
    {
     "data": {
      "text/plain": [
       "0        Tuesday\n",
       "1      Wednesday\n",
       "2       Thursday\n",
       "3         Friday\n",
       "4       Saturday\n",
       "         ...    \n",
       "245    Wednesday\n",
       "246     Thursday\n",
       "247       Friday\n",
       "248       Monday\n",
       "249      Tuesday\n",
       "Name: week, Length: 250, dtype: object"
      ]
     },
     "execution_count": 48,
     "metadata": {},
     "output_type": "execute_result"
    }
   ],
   "source": [
    "df['week'].str.capitalize()"
   ]
  },
  {
   "cell_type": "code",
   "execution_count": 49,
   "id": "484acc03-f309-40bd-b781-c2d4a0e3bf06",
   "metadata": {},
   "outputs": [
    {
     "data": {
      "text/plain": [
       "0        tuesday\n",
       "1      wednesday\n",
       "2       thursday\n",
       "3         friday\n",
       "4       saturday\n",
       "         ...    \n",
       "245    wednesday\n",
       "246     thursday\n",
       "247       friday\n",
       "248       monday\n",
       "249      tuesday\n",
       "Name: week, Length: 250, dtype: object"
      ]
     },
     "execution_count": 49,
     "metadata": {},
     "output_type": "execute_result"
    }
   ],
   "source": [
    "df['week'].str.lower()"
   ]
  },
  {
   "cell_type": "code",
   "execution_count": 50,
   "id": "1ff70b2b-f7f5-4e92-abab-c7742450eb36",
   "metadata": {},
   "outputs": [
    {
     "data": {
      "text/plain": [
       "0        TUESDAY\n",
       "1      WEDNESDAY\n",
       "2       THURSDAY\n",
       "3         FRIDAY\n",
       "4       SATURDAY\n",
       "         ...    \n",
       "245    WEDNESDAY\n",
       "246     THURSDAY\n",
       "247       FRIDAY\n",
       "248       MONDAY\n",
       "249      TUESDAY\n",
       "Name: week, Length: 250, dtype: object"
      ]
     },
     "execution_count": 50,
     "metadata": {},
     "output_type": "execute_result"
    }
   ],
   "source": [
    "df['week'].str.upper()"
   ]
  },
  {
   "cell_type": "code",
   "execution_count": 51,
   "id": "819d9274-ac4b-4320-a809-1bfd7807d202",
   "metadata": {},
   "outputs": [
    {
     "data": {
      "text/plain": [
       "0        Tuesd--y\n",
       "1      Wednesd--y\n",
       "2       Thursd--y\n",
       "3         Frid--y\n",
       "4      S--turd--y\n",
       "          ...    \n",
       "245    Wednesd--y\n",
       "246     Thursd--y\n",
       "247       Frid--y\n",
       "248       Mond--y\n",
       "249      Tuesd--y\n",
       "Name: week, Length: 250, dtype: object"
      ]
     },
     "execution_count": 51,
     "metadata": {},
     "output_type": "execute_result"
    }
   ],
   "source": [
    "df['week'].str.replace(\"a\",\"--\")"
   ]
  },
  {
   "cell_type": "code",
   "execution_count": 56,
   "id": "d43d98a4-9dd9-4453-b5c1-d931938e29e5",
   "metadata": {},
   "outputs": [],
   "source": [
    "df['cat'] = df['week'].astype('category')"
   ]
  },
  {
   "cell_type": "code",
   "execution_count": 57,
   "id": "07779bc8-ca5d-4569-9c4b-ba32c86914d1",
   "metadata": {},
   "outputs": [
    {
     "name": "stdout",
     "output_type": "stream",
     "text": [
      "<class 'pandas.core.frame.DataFrame'>\n",
      "RangeIndex: 250 entries, 0 to 249\n",
      "Data columns (total 12 columns):\n",
      " #   Column           Non-Null Count  Dtype         \n",
      "---  ------           --------------  -----         \n",
      " 0   date             250 non-null    datetime64[ns]\n",
      " 1   open             250 non-null    float64       \n",
      " 2   high             250 non-null    float64       \n",
      " 3   low              250 non-null    float64       \n",
      " 4   close            250 non-null    float64       \n",
      " 5   shares traded    250 non-null    int64         \n",
      " 6   turnover (₹ cr)  250 non-null    float64       \n",
      " 7   prv_close        249 non-null    float64       \n",
      " 8   change           249 non-null    float64       \n",
      " 9   change percent   249 non-null    float64       \n",
      " 10  week             250 non-null    object        \n",
      " 11  cat              250 non-null    category      \n",
      "dtypes: category(1), datetime64[ns](1), float64(8), int64(1), object(1)\n",
      "memory usage: 22.1+ KB\n"
     ]
    }
   ],
   "source": [
    "df.info()"
   ]
  },
  {
   "cell_type": "code",
   "execution_count": 59,
   "id": "9e319988-fa10-4636-abc6-579d9c35c82a",
   "metadata": {},
   "outputs": [
    {
     "data": {
      "text/plain": [
       "['Tuesday', 'Wednesday', 'Thursday', 'Friday', 'Saturday', ..., 'Wednesday', 'Thursday', 'Friday', 'Monday', 'Tuesday']\n",
       "Length: 250\n",
       "Categories (6, object): ['Friday', 'Monday', 'Saturday', 'Thursday', 'Tuesday', 'Wednesday']"
      ]
     },
     "execution_count": 59,
     "metadata": {},
     "output_type": "execute_result"
    }
   ],
   "source": [
    "df['cat'].values"
   ]
  },
  {
   "cell_type": "code",
   "execution_count": 67,
   "id": "1fae6bc5-a763-4dda-a63d-e48234d163bf",
   "metadata": {},
   "outputs": [
    {
     "data": {
      "text/plain": [
       "Index(['Friday', 'Monday', 'Saturday', 'Thursday', 'Tuesday', 'Wednesday'], dtype='object')"
      ]
     },
     "execution_count": 67,
     "metadata": {},
     "output_type": "execute_result"
    }
   ],
   "source": [
    "df['cat'].cat.categories"
   ]
  },
  {
   "cell_type": "code",
   "execution_count": 70,
   "id": "e210aa92-8bd3-4b35-94f0-0e514fc1d814",
   "metadata": {},
   "outputs": [
    {
     "data": {
      "text/plain": [
       "0      4\n",
       "1      5\n",
       "2      3\n",
       "3      0\n",
       "4      2\n",
       "      ..\n",
       "245    5\n",
       "246    3\n",
       "247    0\n",
       "248    1\n",
       "249    4\n",
       "Length: 250, dtype: int8"
      ]
     },
     "execution_count": 70,
     "metadata": {},
     "output_type": "execute_result"
    }
   ],
   "source": [
    "df['cat'].cat.codes"
   ]
  },
  {
   "cell_type": "code",
   "execution_count": null,
   "id": "f0dc96a5-9ca6-486e-a3f4-a7f80c6fd928",
   "metadata": {},
   "outputs": [],
   "source": []
  }
 ],
 "metadata": {
  "kernelspec": {
   "display_name": "Python 3 (ipykernel)",
   "language": "python",
   "name": "python3"
  },
  "language_info": {
   "codemirror_mode": {
    "name": "ipython",
    "version": 3
   },
   "file_extension": ".py",
   "mimetype": "text/x-python",
   "name": "python",
   "nbconvert_exporter": "python",
   "pygments_lexer": "ipython3",
   "version": "3.12.7"
  }
 },
 "nbformat": 4,
 "nbformat_minor": 5
}
