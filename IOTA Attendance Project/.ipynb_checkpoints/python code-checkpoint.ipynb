{
 "cells": [
  {
   "cell_type": "code",
   "execution_count": 1,
   "id": "9c40218f-00c6-421b-9344-48abb320c855",
   "metadata": {},
   "outputs": [],
   "source": [
    "# importing numpy and pandas\n",
    "import numpy as np\n",
    "import pandas as pd"
   ]
  },
  {
   "cell_type": "code",
   "execution_count": 2,
   "id": "1e2db876-22e6-411f-91dc-9a6e04618b80",
   "metadata": {},
   "outputs": [],
   "source": [
    "# first working on user id data\n",
    "\n",
    "user_data = open(\"user.dat\",\"r\").read()"
   ]
  },
  {
   "cell_type": "code",
   "execution_count": 3,
   "id": "2ba90200-e8c1-4f4e-9c3e-a1c7ecb5a433",
   "metadata": {},
   "outputs": [],
   "source": [
    "# the file contain non ACSII and symboles that we dont need we are only keeping the data with numbers and char\n",
    "\n",
    "a = \"\"\n",
    "for i in user_data:\n",
    "    if i.isalnum():\n",
    "        a += i\n",
    "    else:\n",
    "        a += \" \"\n",
    "a = a.split()\n",
    "\n",
    "# variable a contain a list of name,id,name,id,name,id so we need 2 list name and id \n",
    "name = [a[i] for i in range(len(a)) if i%2==0]\n",
    "user_id = [int(a[i]) for i in range(len(a)) if i%2==1]\n",
    "\n",
    "# now converting this 2 list into one dictionary with id as key and name as value\n",
    "user = dict(zip(user_id,name))\n",
    "\n",
    "# converting that dictionary to data frame\n",
    "user_df = pd.DataFrame(user.values(),index=user.keys())\n",
    "user_df.reset_index(inplace=True)\n",
    "user_df.rename(columns={0:\"Name\",\"index\":\"id\"},inplace=True)\n",
    "\n",
    "# our work has done we get the data of users in this variable\n",
    "# user_df  "
   ]
  },
  {
   "cell_type": "code",
   "execution_count": 4,
   "id": "0ed6a90c-4514-4741-897c-d824410fa812",
   "metadata": {},
   "outputs": [],
   "source": [
    "# this is the main file which has the attendance data and reading it in csv\n",
    "\n",
    "df = pd.read_csv(\"attendance.dat\",header=None)"
   ]
  },
  {
   "cell_type": "code",
   "execution_count": 5,
   "id": "a5f9e987-1590-4d8a-a420-5fa6fc414f35",
   "metadata": {},
   "outputs": [],
   "source": [
    "# because the data is in one column spliting it and keeping only the req. two columns so make these function that extract the data in first two columns\n",
    "\n",
    "def get_id(text):\n",
    "    return text.split(\"\\t\")[0]\n",
    "def get_time(text):\n",
    "    return text.split(\"\\t\")[1]"
   ]
  },
  {
   "cell_type": "code",
   "execution_count": 6,
   "id": "203dc7cd-ed9b-4206-8845-013d6b167501",
   "metadata": {},
   "outputs": [],
   "source": [
    "# creating two columns ID and punch_Time that hold the data when the employee punch in and out\n",
    "\n",
    "df[\"id\"]= df[0].map(get_id)\n",
    "df[\"punch_time\"] = df[0].map(get_time)\n",
    "df.drop(columns=[0],inplace=True)   # deleting the raw data column and keeping only two column\n",
    "df['id']= df[\"id\"].astype(int)      # conerting id column to int"
   ]
  },
  {
   "cell_type": "code",
   "execution_count": 7,
   "id": "d0fc2283-02db-4853-accb-477460458e76",
   "metadata": {},
   "outputs": [],
   "source": [
    "# merge the data of id and punch time data into one data frame\n",
    "\n",
    "data = pd.merge(df,user_df,how=\"inner\",on=\"id\")"
   ]
  },
  {
   "cell_type": "code",
   "execution_count": 8,
   "id": "1e41097a-f602-465e-af1b-89a6aca609d7",
   "metadata": {},
   "outputs": [],
   "source": [
    "# extracting date and time \n",
    "\n",
    "data['datetime'] = pd.to_datetime(df['punch_time'])\n",
    "data['date'] = pd.to_datetime(df['punch_time']).dt.date\n",
    "data['in_out_time'] = pd.to_datetime(df['punch_time']).dt.time\n",
    "data[\"am_pm\"] = data['datetime'].dt.strftime(\"%p\")\n",
    "data.drop(columns=\"punch_time\",inplace=True)     # no use of this column now"
   ]
  },
  {
   "cell_type": "code",
   "execution_count": 9,
   "id": "389dd8ad-6b2e-4cde-964c-64c40d588c5e",
   "metadata": {},
   "outputs": [],
   "source": [
    "# we have only one column of IN and OUT time of employee , so making two columns to seperate them\n",
    "\n",
    "ampm = data.pivot_table(index=data.index,columns='am_pm',values='datetime',aggfunc=\"min\")\n",
    "ampm.reset_index(inplace=True)\n",
    "ampm.rename(columns={\"index\":\"row_id\"},inplace=True)\n",
    "# ampm"
   ]
  },
  {
   "cell_type": "code",
   "execution_count": 10,
   "id": "e6e4dffc-ec0c-434c-b3e5-227e2d08aef4",
   "metadata": {},
   "outputs": [],
   "source": [
    "# merge both table into main data file\n",
    "\n",
    "data = data.reset_index().rename(columns={\"index\":\"row_id\"})\n",
    "data = pd.merge(data,ampm,how='inner',on ='row_id')"
   ]
  },
  {
   "cell_type": "code",
   "execution_count": 11,
   "id": "60b5e7de-c732-4ca0-8d3e-36ed31c6ddea",
   "metadata": {},
   "outputs": [],
   "source": [
    "# importing timesheet of employee IN and OUT time\n",
    "\n",
    "timesheet = pd.read_excel(\"timesheet.xlsx\",sheet_name=\"time\")\n",
    "ts = timesheet[['Name','max late','max early']]"
   ]
  },
  {
   "cell_type": "code",
   "execution_count": 12,
   "id": "7af897db-abb4-4f60-9f2d-605b095fec56",
   "metadata": {},
   "outputs": [],
   "source": [
    "# merge time data to main dataframe\n",
    "\n",
    "data = pd.merge(data,ts,how=\"inner\",on ='Name')"
   ]
  },
  {
   "cell_type": "code",
   "execution_count": 13,
   "id": "88238602-7616-4861-837a-3b26b05237bd",
   "metadata": {},
   "outputs": [],
   "source": [
    "data['max late'] = data['max late'].dt.time\n",
    "data['max early'] = data['max early'].dt.time\n",
    "data['AM'] = data['AM'].dt.time\n",
    "data['PM'] = data['PM'].dt.time"
   ]
  },
  {
   "cell_type": "code",
   "execution_count": 14,
   "id": "a1398bcb-d2c8-4cfb-9d09-b61b2452c256",
   "metadata": {},
   "outputs": [],
   "source": [
    "# filling null values in AM column with max late and max early\n",
    "data['AM'] = data['AM'].fillna(data['max late'])\n",
    "data['PM'] = data['PM'].fillna(data['max early'])"
   ]
  },
  {
   "cell_type": "code",
   "execution_count": 15,
   "id": "db55e22d-ba62-4e00-a967-d99f6a3c7b88",
   "metadata": {},
   "outputs": [],
   "source": [
    "data['late_arival'] = data['AM']>data['max late']\n",
    "data['early leave'] = data['PM']<data['max early']"
   ]
  },
  {
   "cell_type": "code",
   "execution_count": 16,
   "id": "7e9fdbc6-cca8-4b08-8791-73bd550b7d41",
   "metadata": {},
   "outputs": [],
   "source": [
    "late_data = data.groupby(\"Name\").agg({\"late_arival\":\"sum\",\"early leave\":\"sum\"})"
   ]
  },
  {
   "cell_type": "code",
   "execution_count": 17,
   "id": "edfbc57b-b782-46e5-814c-13c4997feacc",
   "metadata": {},
   "outputs": [],
   "source": [
    "# 'ta' stand for total attendance a temprary variable \n",
    "ta = pd.DataFrame(data.groupby([\"Name\",'date'])['date'].count()).rename({\"date\":\"count\"},axis=1).reset_index()"
   ]
  },
  {
   "cell_type": "code",
   "execution_count": 18,
   "id": "23ffc2ef-5d03-4031-b9e0-eb0b396ac2cd",
   "metadata": {},
   "outputs": [],
   "source": [
    "total_present = pd.DataFrame(ta.groupby(\"Name\")['date'].count())"
   ]
  },
  {
   "cell_type": "code",
   "execution_count": 19,
   "id": "f574ec36-a1f0-439c-b9b1-2164ea3fe546",
   "metadata": {},
   "outputs": [],
   "source": [
    "final = pd.merge(total_present,late_data,on='Name',how='inner').reset_index()"
   ]
  },
  {
   "cell_type": "code",
   "execution_count": 20,
   "id": "637434ca-7775-49a6-a247-360d4c09095a",
   "metadata": {},
   "outputs": [],
   "source": [
    "final.rename(columns={\"date\":\"total_present_day\"},inplace=True)"
   ]
  },
  {
   "cell_type": "code",
   "execution_count": 21,
   "id": "6cd81e8f-48ab-48d6-8f25-eb5008457326",
   "metadata": {},
   "outputs": [],
   "source": [
    "final['net_present_day']=final['total_present_day']-(final['late_arival']*0.5 + final['early leave']*0.5)"
   ]
  },
  {
   "cell_type": "code",
   "execution_count": 22,
   "id": "5cc48eec-0dc4-40f7-82dd-f5f4bea373fa",
   "metadata": {},
   "outputs": [],
   "source": [
    "leave_data = pd.read_excel(\"leave_data.xlsx\")"
   ]
  },
  {
   "cell_type": "code",
   "execution_count": 23,
   "id": "4a27dd48-dd1f-4616-871f-d15443d23876",
   "metadata": {},
   "outputs": [],
   "source": [
    "leave_data = leave_data[['Name','Number of Days','Leave Start Date','Leave End Date']]"
   ]
  },
  {
   "cell_type": "code",
   "execution_count": 24,
   "id": "684c1572-2aaf-4cb9-90dc-53bf29984dbc",
   "metadata": {},
   "outputs": [],
   "source": [
    "leave_data['half_name'] = leave_data['Name'].map(lambda x : x.split()[0])"
   ]
  },
  {
   "cell_type": "code",
   "execution_count": 25,
   "id": "93ec53c4-8f8e-44f4-b7ac-ef74f29fe7cd",
   "metadata": {},
   "outputs": [],
   "source": [
    "# total leave taken by employees\n",
    "total_leave = pd.DataFrame(leave_data.groupby('half_name')['Number of Days'].sum()).reset_index()"
   ]
  },
  {
   "cell_type": "code",
   "execution_count": 26,
   "id": "f0b4aa93-84cb-4035-b39b-a8596a75874e",
   "metadata": {},
   "outputs": [],
   "source": [
    "# exporting total leave data to excel\n",
    "total_leave.to_csv(\"Total_leave.csv\")"
   ]
  },
  {
   "cell_type": "code",
   "execution_count": 27,
   "id": "6fb3d47a-2d64-4029-a52b-dfba62d5cbb6",
   "metadata": {},
   "outputs": [],
   "source": [
    "final = pd.merge(final,total_leave,left_on='Name',right_on=\"half_name\",how=\"left\")"
   ]
  },
  {
   "cell_type": "code",
   "execution_count": 28,
   "id": "f28be609-b271-40eb-b90a-c7d947bb71b0",
   "metadata": {},
   "outputs": [],
   "source": [
    "final.drop(columns=\"half_name\",inplace=True)\n",
    "final.rename({\"Number of Days\":\"Leave\"},axis=1,inplace=True)\n",
    "final['Leave']= final['Leave'].fillna(0)\n",
    "final.to_csv(\"FinalReport.csv\")"
   ]
  },
  {
   "cell_type": "code",
   "execution_count": 29,
   "id": "736d76e1-8e9a-41d4-ba15-6e9f345c34cb",
   "metadata": {},
   "outputs": [
    {
     "data": {
      "text/html": [
       "<div>\n",
       "<style scoped>\n",
       "    .dataframe tbody tr th:only-of-type {\n",
       "        vertical-align: middle;\n",
       "    }\n",
       "\n",
       "    .dataframe tbody tr th {\n",
       "        vertical-align: top;\n",
       "    }\n",
       "\n",
       "    .dataframe thead th {\n",
       "        text-align: right;\n",
       "    }\n",
       "</style>\n",
       "<table border=\"1\" class=\"dataframe\">\n",
       "  <thead>\n",
       "    <tr style=\"text-align: right;\">\n",
       "      <th></th>\n",
       "      <th>Name</th>\n",
       "      <th>total_present_day</th>\n",
       "      <th>late_arival</th>\n",
       "      <th>early leave</th>\n",
       "      <th>net_present_day</th>\n",
       "      <th>Leave</th>\n",
       "    </tr>\n",
       "  </thead>\n",
       "  <tbody>\n",
       "    <tr>\n",
       "      <th>0</th>\n",
       "      <td>Abhishek</td>\n",
       "      <td>24</td>\n",
       "      <td>0</td>\n",
       "      <td>0</td>\n",
       "      <td>24.0</td>\n",
       "      <td>0.0</td>\n",
       "    </tr>\n",
       "    <tr>\n",
       "      <th>1</th>\n",
       "      <td>Aditi</td>\n",
       "      <td>3</td>\n",
       "      <td>0</td>\n",
       "      <td>1</td>\n",
       "      <td>2.5</td>\n",
       "      <td>2.0</td>\n",
       "    </tr>\n",
       "    <tr>\n",
       "      <th>2</th>\n",
       "      <td>Ajay</td>\n",
       "      <td>8</td>\n",
       "      <td>3</td>\n",
       "      <td>0</td>\n",
       "      <td>6.5</td>\n",
       "      <td>0.0</td>\n",
       "    </tr>\n",
       "    <tr>\n",
       "      <th>3</th>\n",
       "      <td>Arvind</td>\n",
       "      <td>25</td>\n",
       "      <td>0</td>\n",
       "      <td>0</td>\n",
       "      <td>25.0</td>\n",
       "      <td>0.0</td>\n",
       "    </tr>\n",
       "    <tr>\n",
       "      <th>4</th>\n",
       "      <td>Bantu</td>\n",
       "      <td>23</td>\n",
       "      <td>3</td>\n",
       "      <td>1</td>\n",
       "      <td>21.0</td>\n",
       "      <td>0.0</td>\n",
       "    </tr>\n",
       "    <tr>\n",
       "      <th>5</th>\n",
       "      <td>Dev</td>\n",
       "      <td>9</td>\n",
       "      <td>8</td>\n",
       "      <td>2</td>\n",
       "      <td>4.0</td>\n",
       "      <td>0.0</td>\n",
       "    </tr>\n",
       "    <tr>\n",
       "      <th>6</th>\n",
       "      <td>Devesh</td>\n",
       "      <td>21</td>\n",
       "      <td>0</td>\n",
       "      <td>1</td>\n",
       "      <td>20.5</td>\n",
       "      <td>5.0</td>\n",
       "    </tr>\n",
       "    <tr>\n",
       "      <th>7</th>\n",
       "      <td>Diksha</td>\n",
       "      <td>24</td>\n",
       "      <td>0</td>\n",
       "      <td>1</td>\n",
       "      <td>23.5</td>\n",
       "      <td>0.5</td>\n",
       "    </tr>\n",
       "    <tr>\n",
       "      <th>8</th>\n",
       "      <td>Kuldeep</td>\n",
       "      <td>24</td>\n",
       "      <td>0</td>\n",
       "      <td>0</td>\n",
       "      <td>24.0</td>\n",
       "      <td>0.0</td>\n",
       "    </tr>\n",
       "    <tr>\n",
       "      <th>9</th>\n",
       "      <td>Purnima</td>\n",
       "      <td>22</td>\n",
       "      <td>0</td>\n",
       "      <td>1</td>\n",
       "      <td>21.5</td>\n",
       "      <td>3.0</td>\n",
       "    </tr>\n",
       "    <tr>\n",
       "      <th>10</th>\n",
       "      <td>Sachin</td>\n",
       "      <td>24</td>\n",
       "      <td>5</td>\n",
       "      <td>5</td>\n",
       "      <td>19.0</td>\n",
       "      <td>0.0</td>\n",
       "    </tr>\n",
       "    <tr>\n",
       "      <th>11</th>\n",
       "      <td>Saheba</td>\n",
       "      <td>24</td>\n",
       "      <td>0</td>\n",
       "      <td>1</td>\n",
       "      <td>23.5</td>\n",
       "      <td>1.0</td>\n",
       "    </tr>\n",
       "    <tr>\n",
       "      <th>12</th>\n",
       "      <td>Santosh</td>\n",
       "      <td>4</td>\n",
       "      <td>1</td>\n",
       "      <td>0</td>\n",
       "      <td>3.5</td>\n",
       "      <td>0.0</td>\n",
       "    </tr>\n",
       "  </tbody>\n",
       "</table>\n",
       "</div>"
      ],
      "text/plain": [
       "        Name  total_present_day  late_arival  early leave  net_present_day  \\\n",
       "0   Abhishek                 24            0            0             24.0   \n",
       "1      Aditi                  3            0            1              2.5   \n",
       "2       Ajay                  8            3            0              6.5   \n",
       "3     Arvind                 25            0            0             25.0   \n",
       "4      Bantu                 23            3            1             21.0   \n",
       "5        Dev                  9            8            2              4.0   \n",
       "6     Devesh                 21            0            1             20.5   \n",
       "7     Diksha                 24            0            1             23.5   \n",
       "8    Kuldeep                 24            0            0             24.0   \n",
       "9    Purnima                 22            0            1             21.5   \n",
       "10    Sachin                 24            5            5             19.0   \n",
       "11    Saheba                 24            0            1             23.5   \n",
       "12   Santosh                  4            1            0              3.5   \n",
       "\n",
       "    Leave  \n",
       "0     0.0  \n",
       "1     2.0  \n",
       "2     0.0  \n",
       "3     0.0  \n",
       "4     0.0  \n",
       "5     0.0  \n",
       "6     5.0  \n",
       "7     0.5  \n",
       "8     0.0  \n",
       "9     3.0  \n",
       "10    0.0  \n",
       "11    1.0  \n",
       "12    0.0  "
      ]
     },
     "execution_count": 29,
     "metadata": {},
     "output_type": "execute_result"
    }
   ],
   "source": [
    "final"
   ]
  },
  {
   "cell_type": "code",
   "execution_count": null,
   "id": "123189b0-cf19-4611-9aaa-2066e5bf2584",
   "metadata": {},
   "outputs": [],
   "source": []
  }
 ],
 "metadata": {
  "kernelspec": {
   "display_name": "Python 3 (ipykernel)",
   "language": "python",
   "name": "python3"
  },
  "language_info": {
   "codemirror_mode": {
    "name": "ipython",
    "version": 3
   },
   "file_extension": ".py",
   "mimetype": "text/x-python",
   "name": "python",
   "nbconvert_exporter": "python",
   "pygments_lexer": "ipython3",
   "version": "3.12.7"
  }
 },
 "nbformat": 4,
 "nbformat_minor": 5
}
