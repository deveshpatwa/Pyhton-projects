{
 "cells": [
  {
   "cell_type": "code",
   "execution_count": 3,
   "id": "c7e4b123-7b24-4b75-97ef-e35ab7714081",
   "metadata": {
    "tags": []
   },
   "outputs": [],
   "source": [
    "import requests"
   ]
  },
  {
   "cell_type": "code",
   "execution_count": 4,
   "id": "74f0a897-995a-4a5d-a97b-2f9302f09d99",
   "metadata": {
    "tags": []
   },
   "outputs": [],
   "source": [
    "url ='https://timesofindia.indiatimes.com/city/bhopal'"
   ]
  },
  {
   "cell_type": "code",
   "execution_count": null,
   "id": "2f85617f-344f-4546-81a1-857ab0c216fe",
   "metadata": {},
   "outputs": [],
   "source": [
    "request.get(url)"
   ]
  }
 ],
 "metadata": {
  "kernelspec": {
   "display_name": "Python 3 (ipykernel)",
   "language": "python",
   "name": "python3"
  },
  "language_info": {
   "codemirror_mode": {
    "name": "ipython",
    "version": 3
   },
   "file_extension": ".py",
   "mimetype": "text/x-python",
   "name": "python",
   "nbconvert_exporter": "python",
   "pygments_lexer": "ipython3",
   "version": "3.11.5"
  }
 },
 "nbformat": 4,
 "nbformat_minor": 5
}
