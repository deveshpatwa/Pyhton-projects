{
 "cells": [
  {
   "cell_type": "code",
   "execution_count": 20,
   "id": "080938d3-67ce-4d58-b811-1400d4cb0fb9",
   "metadata": {},
   "outputs": [],
   "source": [
    "import os\n",
    "from PIL import Image"
   ]
  },
  {
   "cell_type": "code",
   "execution_count": 21,
   "id": "def217a8-e6c7-40cf-9461-0be86aa1945b",
   "metadata": {},
   "outputs": [],
   "source": [
    "list_of_images = os.listdir()"
   ]
  },
  {
   "cell_type": "code",
   "execution_count": 25,
   "id": "50a5cc0d-13d4-44e9-aee3-011e0a175476",
   "metadata": {},
   "outputs": [],
   "source": [
    "l = []\n",
    "for i in list_of_images:\n",
    "    if \".JPG\" in i:\n",
    "        l.append(i)"
   ]
  },
  {
   "cell_type": "code",
   "execution_count": 27,
   "id": "b566470a-ec4c-4291-90fa-92108bfbede4",
   "metadata": {},
   "outputs": [],
   "source": [
    "for i in range(len(l)):\n",
    "    img = Image.open(l[i])\n",
    "    img.save(\"Compressed_\"+l[i],quality=40,optimize=True)"
   ]
  },
  {
   "cell_type": "code",
   "execution_count": null,
   "id": "4c952035-55e0-44f4-9413-8f2edefe5da8",
   "metadata": {},
   "outputs": [],
   "source": []
  }
 ],
 "metadata": {
  "kernelspec": {
   "display_name": "Python 3 (ipykernel)",
   "language": "python",
   "name": "python3"
  },
  "language_info": {
   "codemirror_mode": {
    "name": "ipython",
    "version": 3
   },
   "file_extension": ".py",
   "mimetype": "text/x-python",
   "name": "python",
   "nbconvert_exporter": "python",
   "pygments_lexer": "ipython3",
   "version": "3.12.7"
  }
 },
 "nbformat": 4,
 "nbformat_minor": 5
}
