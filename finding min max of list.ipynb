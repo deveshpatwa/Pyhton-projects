{
 "cells": [
  {
   "cell_type": "code",
   "execution_count": 24,
   "id": "222100e7",
   "metadata": {},
   "outputs": [
    {
     "name": "stdout",
     "output_type": "stream",
     "text": [
      "28\n"
     ]
    }
   ],
   "source": [
    "import functools as ft \n",
    "l = [1,2,3,4,5,6,7]\n",
    "print(ft.reduce(lambda x,y : x+y,l))"
   ]
  },
  {
   "cell_type": "code",
   "execution_count": 27,
   "id": "bde615c9",
   "metadata": {},
   "outputs": [
    {
     "name": "stdout",
     "output_type": "stream",
     "text": [
      "1686\n"
     ]
    }
   ],
   "source": [
    "from functools import reduce\n",
    "l = [345,34,36,456,345,34,34,53,4,345]\n",
    "print(reduce(lambda x,y:x+y,l))"
   ]
  },
  {
   "cell_type": "code",
   "execution_count": 40,
   "id": "480da920",
   "metadata": {},
   "outputs": [
    {
     "name": "stdout",
     "output_type": "stream",
     "text": [
      "776\n"
     ]
    }
   ],
   "source": [
    "l = [100,298,345,776,54,33,678,45]\n",
    "def maxx(a,b):\n",
    "    if a>b:\n",
    "        return a\n",
    "    else :\n",
    "        return b\n",
    "print(reduce(max,l))"
   ]
  },
  {
   "cell_type": "code",
   "execution_count": 41,
   "id": "20709b7e",
   "metadata": {},
   "outputs": [
    {
     "name": "stdout",
     "output_type": "stream",
     "text": [
      "33\n"
     ]
    }
   ],
   "source": [
    "l = [100,298,345,776,54,33,678,45]\n",
    "def minn(a,b):\n",
    "    if a<b:\n",
    "        return a\n",
    "    else :\n",
    "        return b\n",
    "print(reduce(minn,l))"
   ]
  },
  {
   "cell_type": "code",
   "execution_count": null,
   "id": "4ef861b6",
   "metadata": {},
   "outputs": [],
   "source": []
  }
 ],
 "metadata": {
  "kernelspec": {
   "display_name": "Python 3 (ipykernel)",
   "language": "python",
   "name": "python3"
  },
  "language_info": {
   "codemirror_mode": {
    "name": "ipython",
    "version": 3
   },
   "file_extension": ".py",
   "mimetype": "text/x-python",
   "name": "python",
   "nbconvert_exporter": "python",
   "pygments_lexer": "ipython3",
   "version": "3.11.5"
  }
 },
 "nbformat": 4,
 "nbformat_minor": 5
}
