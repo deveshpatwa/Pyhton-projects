{
 "cells": [
  {
   "cell_type": "code",
   "execution_count": 2,
   "id": "696e08bb-30ce-4cf7-b9aa-c91f11b2a4d8",
   "metadata": {},
   "outputs": [],
   "source": [
    "from PIL import Image, ImageDraw, ImageFont"
   ]
  },
  {
   "cell_type": "code",
   "execution_count": 21,
   "id": "78c520b5-65d2-4fbf-8f23-b852f734a534",
   "metadata": {},
   "outputs": [],
   "source": [
    "# Load template\n",
    "img = Image.open(\"certificate.jpg\")\n",
    "draw = ImageDraw.Draw(img)"
   ]
  },
  {
   "cell_type": "code",
   "execution_count": 24,
   "id": "8fb43077-7ffc-4523-9721-f76f61770968",
   "metadata": {},
   "outputs": [],
   "source": [
    "font = ImageFont.truetype(\"arial.ttf\", 40)\n",
    "draw.text((250, 250), \"jaya patwa\", fill=\"black\", font=font)"
   ]
  },
  {
   "cell_type": "code",
   "execution_count": 25,
   "id": "1a08cc95-866b-46de-9063-277aba5d126f",
   "metadata": {},
   "outputs": [],
   "source": [
    "# ! del \"certificate_output.jpg\"\n",
    "img.save(\"certificate_output.jpg\")"
   ]
  },
  {
   "cell_type": "code",
   "execution_count": null,
   "id": "91f9fdb8-ec10-4f87-9864-72cf46799ebe",
   "metadata": {},
   "outputs": [],
   "source": []
  }
 ],
 "metadata": {
  "kernelspec": {
   "display_name": "Python 3 (ipykernel)",
   "language": "python",
   "name": "python3"
  },
  "language_info": {
   "codemirror_mode": {
    "name": "ipython",
    "version": 3
   },
   "file_extension": ".py",
   "mimetype": "text/x-python",
   "name": "python",
   "nbconvert_exporter": "python",
   "pygments_lexer": "ipython3",
   "version": "3.12.7"
  }
 },
 "nbformat": 4,
 "nbformat_minor": 5
}
