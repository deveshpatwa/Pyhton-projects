{
 "cells": [
  {
   "cell_type": "markdown",
   "metadata": {},
   "source": [
    "Write a program to simulate a simple dice rolling game where \n",
    "the user guess the dice and if he guess he will get 20 points for it \n",
    "he will get 5 chances and at the end his score will be shown."
   ]
  },
  {
   "cell_type": "code",
   "execution_count": 10,
   "metadata": {},
   "outputs": [
    {
     "name": "stdout",
     "output_type": "stream",
     "text": [
      "Wrong guess\n",
      "Wrong guess\n",
      "Wrong guess\n",
      "Wrong guess\n",
      "Wrong guess\n",
      "The game has ended and you have a score of  0  points\n"
     ]
    }
   ],
   "source": [
    "import random as r\n",
    "points = 0      \n",
    "guess = 0       \n",
    "for i in range(5):\n",
    "    guess = input('your guess')\n",
    "    number = r.randint(1,6)\n",
    "    if guess==number:\n",
    "        print('you guessed it right')\n",
    "        points += 20\n",
    "    else:\n",
    "        print('Wrong guess')\n",
    "print('The game has ended and you have a score of ',points,' points' )"
   ]
  },
  {
   "cell_type": "code",
   "execution_count": 9,
   "metadata": {},
   "outputs": [
    {
     "name": "stdout",
     "output_type": "stream",
     "text": [
      "2\n"
     ]
    }
   ],
   "source": [
    "a = r.randint(1,6)\n",
    "print(a)"
   ]
  },
  {
   "cell_type": "code",
   "execution_count": null,
   "metadata": {},
   "outputs": [],
   "source": []
  }
 ],
 "metadata": {
  "kernelspec": {
   "display_name": "Python 3",
   "language": "python",
   "name": "python3"
  },
  "language_info": {
   "codemirror_mode": {
    "name": "ipython",
    "version": 3
   },
   "file_extension": ".py",
   "mimetype": "text/x-python",
   "name": "python",
   "nbconvert_exporter": "python",
   "pygments_lexer": "ipython3",
   "version": "3.11.4"
  }
 },
 "nbformat": 4,
 "nbformat_minor": 2
}
