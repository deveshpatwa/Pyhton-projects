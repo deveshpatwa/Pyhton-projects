{
 "cells": [
  {
   "cell_type": "markdown",
   "metadata": {},
   "source": [
    "with a given list of words check if there are any other words that are anagram of each other if there are make ser of them"
   ]
  },
  {
   "cell_type": "code",
   "execution_count": 18,
   "metadata": {},
   "outputs": [
    {
     "name": "stdout",
     "output_type": "stream",
     "text": [
      "['plepa', 'chicku', 'orange', 'nanaba', 'banana', 'apple']\n"
     ]
    }
   ],
   "source": [
    "l = ['apple','plepa','banana','nanaba','chicku','orange']\n",
    "nl=[]\n",
    "el = []\n",
    "def ifanagram(a,b):\n",
    "    return list(sorted(a))==list(sorted(b))\n",
    "for i in l:\n",
    "    for j in l:\n",
    "        if ifanagram(i,j):\n",
    "            el.append(i)\n",
    "            el.append(j)\n",
    "        el = set(el)\n",
    "        el=list(el)\n",
    "    nl.append(el)     \n",
    "print(el)"
   ]
  },
  {
   "cell_type": "code",
   "execution_count": 8,
   "metadata": {},
   "outputs": [
    {
     "data": {
      "text/plain": [
       "True"
      ]
     },
     "execution_count": 8,
     "metadata": {},
     "output_type": "execute_result"
    }
   ],
   "source": [
    "\n"
   ]
  },
  {
   "cell_type": "code",
   "execution_count": 7,
   "metadata": {},
   "outputs": [
    {
     "data": {
      "text/plain": [
       "['e', 'h', 'l', 'l', 'o']"
      ]
     },
     "execution_count": 7,
     "metadata": {},
     "output_type": "execute_result"
    }
   ],
   "source": [
    "sorted(a)"
   ]
  },
  {
   "cell_type": "code",
   "execution_count": null,
   "metadata": {},
   "outputs": [],
   "source": []
  }
 ],
 "metadata": {
  "kernelspec": {
   "display_name": "Python 3",
   "language": "python",
   "name": "python3"
  },
  "language_info": {
   "codemirror_mode": {
    "name": "ipython",
    "version": 3
   },
   "file_extension": ".py",
   "mimetype": "text/x-python",
   "name": "python",
   "nbconvert_exporter": "python",
   "pygments_lexer": "ipython3",
   "version": "3.11.4"
  }
 },
 "nbformat": 4,
 "nbformat_minor": 2
}
