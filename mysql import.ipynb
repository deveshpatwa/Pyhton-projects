{
 "cells": [
  {
   "cell_type": "code",
   "execution_count": 1,
   "id": "e967ab44-0ea0-47d3-bb7d-da9a65085e22",
   "metadata": {
    "tags": []
   },
   "outputs": [],
   "source": [
    "import pymysql"
   ]
  },
  {
   "cell_type": "code",
   "execution_count": 2,
   "id": "2900d21b-86d6-43aa-894c-93bef1d016c0",
   "metadata": {
    "tags": []
   },
   "outputs": [],
   "source": [
    "db = pymysql.connect(host='localhost',user='root',password='1234' )"
   ]
  },
  {
   "cell_type": "code",
   "execution_count": 4,
   "id": "00e3f48e-3f27-47d1-97cf-e4c11f429663",
   "metadata": {
    "tags": []
   },
   "outputs": [],
   "source": [
    "c= db.cursor()"
   ]
  },
  {
   "cell_type": "code",
   "execution_count": 7,
   "id": "acf508ce-fbdd-4bb8-be68-d11ef120ad31",
   "metadata": {
    "tags": []
   },
   "outputs": [
    {
     "data": {
      "text/plain": [
       "1"
      ]
     },
     "execution_count": 7,
     "metadata": {},
     "output_type": "execute_result"
    }
   ],
   "source": [
    "c.execute('create database pydb')"
   ]
  },
  {
   "cell_type": "code",
   "execution_count": 13,
   "id": "aeb75be7-4f6d-4392-9c40-2a00e674b7d5",
   "metadata": {
    "tags": []
   },
   "outputs": [
    {
     "name": "stdout",
     "output_type": "stream",
     "text": [
      "('ramesh', 44, 15000, 1, 101, 'bhai sahabbbb', 'you are out')\n",
      "('devesh', 18, 15000, 2, 102, '22222', 'below age')\n",
      "('rakesh', 22, 3000, 4, 104, 'heloooooooo', 'perfect age')\n",
      "('rakesh singh', 24, 3000, 5, 105, 'bhai sahabbbb', 'perfect age')\n",
      "('deveshjiiiii', 19, 15000, 6, None, '66666', 'below age')\n",
      "('jhingur', 19, 15000, 7, None, 'heloooooooo', 'below age')\n",
      "('jhingur', 19, 15000, 124, None, 'heloooooooo', 'below age')\n"
     ]
    }
   ],
   "source": [
    "c.execute('select*from db1.emp')\n",
    "a= []\n",
    "for i in c:\n",
    "    print(i)\n",
    "    a.append(i)"
   ]
  },
  {
   "cell_type": "code",
   "execution_count": 16,
   "id": "8cdf7e0c-7e46-45de-84e1-3df1933a165e",
   "metadata": {
    "tags": []
   },
   "outputs": [],
   "source": [
    "import pandas as pd \n",
    "df = pd.DataFrame(a)"
   ]
  },
  {
   "cell_type": "code",
   "execution_count": 17,
   "id": "70dde175-1fbb-461e-9ef9-1b2c88d95946",
   "metadata": {
    "tags": []
   },
   "outputs": [
    {
     "data": {
      "text/html": [
       "<div>\n",
       "<style scoped>\n",
       "    .dataframe tbody tr th:only-of-type {\n",
       "        vertical-align: middle;\n",
       "    }\n",
       "\n",
       "    .dataframe tbody tr th {\n",
       "        vertical-align: top;\n",
       "    }\n",
       "\n",
       "    .dataframe thead th {\n",
       "        text-align: right;\n",
       "    }\n",
       "</style>\n",
       "<table border=\"1\" class=\"dataframe\">\n",
       "  <thead>\n",
       "    <tr style=\"text-align: right;\">\n",
       "      <th></th>\n",
       "      <th>0</th>\n",
       "      <th>1</th>\n",
       "      <th>2</th>\n",
       "      <th>3</th>\n",
       "      <th>4</th>\n",
       "      <th>5</th>\n",
       "      <th>6</th>\n",
       "    </tr>\n",
       "  </thead>\n",
       "  <tbody>\n",
       "    <tr>\n",
       "      <th>0</th>\n",
       "      <td>ramesh</td>\n",
       "      <td>44</td>\n",
       "      <td>15000</td>\n",
       "      <td>1</td>\n",
       "      <td>101.0</td>\n",
       "      <td>bhai sahabbbb</td>\n",
       "      <td>you are out</td>\n",
       "    </tr>\n",
       "    <tr>\n",
       "      <th>1</th>\n",
       "      <td>devesh</td>\n",
       "      <td>18</td>\n",
       "      <td>15000</td>\n",
       "      <td>2</td>\n",
       "      <td>102.0</td>\n",
       "      <td>22222</td>\n",
       "      <td>below age</td>\n",
       "    </tr>\n",
       "    <tr>\n",
       "      <th>2</th>\n",
       "      <td>rakesh</td>\n",
       "      <td>22</td>\n",
       "      <td>3000</td>\n",
       "      <td>4</td>\n",
       "      <td>104.0</td>\n",
       "      <td>heloooooooo</td>\n",
       "      <td>perfect age</td>\n",
       "    </tr>\n",
       "    <tr>\n",
       "      <th>3</th>\n",
       "      <td>rakesh singh</td>\n",
       "      <td>24</td>\n",
       "      <td>3000</td>\n",
       "      <td>5</td>\n",
       "      <td>105.0</td>\n",
       "      <td>bhai sahabbbb</td>\n",
       "      <td>perfect age</td>\n",
       "    </tr>\n",
       "    <tr>\n",
       "      <th>4</th>\n",
       "      <td>deveshjiiiii</td>\n",
       "      <td>19</td>\n",
       "      <td>15000</td>\n",
       "      <td>6</td>\n",
       "      <td>NaN</td>\n",
       "      <td>66666</td>\n",
       "      <td>below age</td>\n",
       "    </tr>\n",
       "    <tr>\n",
       "      <th>5</th>\n",
       "      <td>jhingur</td>\n",
       "      <td>19</td>\n",
       "      <td>15000</td>\n",
       "      <td>7</td>\n",
       "      <td>NaN</td>\n",
       "      <td>heloooooooo</td>\n",
       "      <td>below age</td>\n",
       "    </tr>\n",
       "    <tr>\n",
       "      <th>6</th>\n",
       "      <td>jhingur</td>\n",
       "      <td>19</td>\n",
       "      <td>15000</td>\n",
       "      <td>124</td>\n",
       "      <td>NaN</td>\n",
       "      <td>heloooooooo</td>\n",
       "      <td>below age</td>\n",
       "    </tr>\n",
       "  </tbody>\n",
       "</table>\n",
       "</div>"
      ],
      "text/plain": [
       "              0   1      2    3      4              5            6\n",
       "0        ramesh  44  15000    1  101.0  bhai sahabbbb  you are out\n",
       "1        devesh  18  15000    2  102.0          22222    below age\n",
       "2        rakesh  22   3000    4  104.0    heloooooooo  perfect age\n",
       "3  rakesh singh  24   3000    5  105.0  bhai sahabbbb  perfect age\n",
       "4  deveshjiiiii  19  15000    6    NaN          66666    below age\n",
       "5       jhingur  19  15000    7    NaN    heloooooooo    below age\n",
       "6       jhingur  19  15000  124    NaN    heloooooooo    below age"
      ]
     },
     "execution_count": 17,
     "metadata": {},
     "output_type": "execute_result"
    }
   ],
   "source": [
    "df"
   ]
  },
  {
   "cell_type": "code",
   "execution_count": 20,
   "id": "f192a299-087b-470a-9bd9-01cfd0b4c405",
   "metadata": {
    "tags": []
   },
   "outputs": [
    {
     "data": {
      "text/html": [
       "<div>\n",
       "<style scoped>\n",
       "    .dataframe tbody tr th:only-of-type {\n",
       "        vertical-align: middle;\n",
       "    }\n",
       "\n",
       "    .dataframe tbody tr th {\n",
       "        vertical-align: top;\n",
       "    }\n",
       "\n",
       "    .dataframe thead th {\n",
       "        text-align: right;\n",
       "    }\n",
       "</style>\n",
       "<table border=\"1\" class=\"dataframe\">\n",
       "  <thead>\n",
       "    <tr style=\"text-align: right;\">\n",
       "      <th></th>\n",
       "      <th>0</th>\n",
       "      <th>1</th>\n",
       "      <th>2</th>\n",
       "      <th>3</th>\n",
       "    </tr>\n",
       "  </thead>\n",
       "  <tbody>\n",
       "    <tr>\n",
       "      <th>0</th>\n",
       "      <td>2007</td>\n",
       "      <td>Finland</td>\n",
       "      <td>Computer</td>\n",
       "      <td>100</td>\n",
       "    </tr>\n",
       "    <tr>\n",
       "      <th>1</th>\n",
       "      <td>2007</td>\n",
       "      <td>Finland</td>\n",
       "      <td>Phone</td>\n",
       "      <td>200</td>\n",
       "    </tr>\n",
       "    <tr>\n",
       "      <th>2</th>\n",
       "      <td>2007</td>\n",
       "      <td>India</td>\n",
       "      <td>Calculator</td>\n",
       "      <td>30</td>\n",
       "    </tr>\n",
       "    <tr>\n",
       "      <th>3</th>\n",
       "      <td>2006</td>\n",
       "      <td>India</td>\n",
       "      <td>Computer</td>\n",
       "      <td>50</td>\n",
       "    </tr>\n",
       "    <tr>\n",
       "      <th>4</th>\n",
       "      <td>2006</td>\n",
       "      <td>USA</td>\n",
       "      <td>Calculator</td>\n",
       "      <td>100</td>\n",
       "    </tr>\n",
       "  </tbody>\n",
       "</table>\n",
       "</div>"
      ],
      "text/plain": [
       "      0        1           2    3\n",
       "0  2007  Finland    Computer  100\n",
       "1  2007  Finland       Phone  200\n",
       "2  2007    India  Calculator   30\n",
       "3  2006    India    Computer   50\n",
       "4  2006      USA  Calculator  100"
      ]
     },
     "execution_count": 20,
     "metadata": {},
     "output_type": "execute_result"
    }
   ],
   "source": [
    "c.execute('select * from db1.sales')\n",
    "a=[]\n",
    "for i in c:\n",
    "   a.append(i)\n",
    "df =pd.DataFrame(a)\n",
    "df.head()"
   ]
  },
  {
   "cell_type": "code",
   "execution_count": 23,
   "id": "4f7ab2c8-9c21-42c8-a1f7-0be195531703",
   "metadata": {
    "tags": []
   },
   "outputs": [],
   "source": [
    "d={0:'year',1:'country',2:'product',3:'profit'}\n",
    "df = df.rename(d,axis=1)"
   ]
  },
  {
   "cell_type": "code",
   "execution_count": 24,
   "id": "67d4e8cb-cba4-470a-890a-92a8f05dfa2f",
   "metadata": {
    "tags": []
   },
   "outputs": [
    {
     "data": {
      "text/html": [
       "<div>\n",
       "<style scoped>\n",
       "    .dataframe tbody tr th:only-of-type {\n",
       "        vertical-align: middle;\n",
       "    }\n",
       "\n",
       "    .dataframe tbody tr th {\n",
       "        vertical-align: top;\n",
       "    }\n",
       "\n",
       "    .dataframe thead th {\n",
       "        text-align: right;\n",
       "    }\n",
       "</style>\n",
       "<table border=\"1\" class=\"dataframe\">\n",
       "  <thead>\n",
       "    <tr style=\"text-align: right;\">\n",
       "      <th></th>\n",
       "      <th>year</th>\n",
       "      <th>country</th>\n",
       "      <th>product</th>\n",
       "      <th>profit</th>\n",
       "    </tr>\n",
       "  </thead>\n",
       "  <tbody>\n",
       "    <tr>\n",
       "      <th>0</th>\n",
       "      <td>2007</td>\n",
       "      <td>Finland</td>\n",
       "      <td>Computer</td>\n",
       "      <td>100</td>\n",
       "    </tr>\n",
       "    <tr>\n",
       "      <th>1</th>\n",
       "      <td>2007</td>\n",
       "      <td>Finland</td>\n",
       "      <td>Phone</td>\n",
       "      <td>200</td>\n",
       "    </tr>\n",
       "    <tr>\n",
       "      <th>2</th>\n",
       "      <td>2007</td>\n",
       "      <td>India</td>\n",
       "      <td>Calculator</td>\n",
       "      <td>30</td>\n",
       "    </tr>\n",
       "    <tr>\n",
       "      <th>3</th>\n",
       "      <td>2006</td>\n",
       "      <td>India</td>\n",
       "      <td>Computer</td>\n",
       "      <td>50</td>\n",
       "    </tr>\n",
       "    <tr>\n",
       "      <th>4</th>\n",
       "      <td>2006</td>\n",
       "      <td>USA</td>\n",
       "      <td>Calculator</td>\n",
       "      <td>100</td>\n",
       "    </tr>\n",
       "    <tr>\n",
       "      <th>5</th>\n",
       "      <td>2006</td>\n",
       "      <td>USA</td>\n",
       "      <td>Computer</td>\n",
       "      <td>300</td>\n",
       "    </tr>\n",
       "    <tr>\n",
       "      <th>6</th>\n",
       "      <td>2005</td>\n",
       "      <td>Finland</td>\n",
       "      <td>Phone</td>\n",
       "      <td>20</td>\n",
       "    </tr>\n",
       "    <tr>\n",
       "      <th>7</th>\n",
       "      <td>2005</td>\n",
       "      <td>USA</td>\n",
       "      <td>Calculator</td>\n",
       "      <td>25</td>\n",
       "    </tr>\n",
       "  </tbody>\n",
       "</table>\n",
       "</div>"
      ],
      "text/plain": [
       "   year  country     product  profit\n",
       "0  2007  Finland    Computer     100\n",
       "1  2007  Finland       Phone     200\n",
       "2  2007    India  Calculator      30\n",
       "3  2006    India    Computer      50\n",
       "4  2006      USA  Calculator     100\n",
       "5  2006      USA    Computer     300\n",
       "6  2005  Finland       Phone      20\n",
       "7  2005      USA  Calculator      25"
      ]
     },
     "execution_count": 24,
     "metadata": {},
     "output_type": "execute_result"
    }
   ],
   "source": [
    "df"
   ]
  },
  {
   "cell_type": "code",
   "execution_count": 34,
   "id": "eca79ab4-463c-4c8c-bbbc-6486a3487522",
   "metadata": {
    "tags": []
   },
   "outputs": [
    {
     "data": {
      "text/plain": [
       "<Axes: xlabel='year'>"
      ]
     },
     "execution_count": 34,
     "metadata": {},
     "output_type": "execute_result"
    },
    {
     "data": {
      "image/png": "[encoded data removed]",
      "text/plain": [
       "<Figure size 400x400 with 1 Axes>"
      ]
     },
     "metadata": {},
     "output_type": "display_data"
    }
   ],
   "source": [
    "df.groupby('year')[['profit']].sum().sort_values(by='profit').plot(kind='bar',figsize=(4,4))"
   ]
  },
  {
   "cell_type": "code",
   "execution_count": 48,
   "id": "913dbc9e-7f1b-4076-95f7-d024d93254c6",
   "metadata": {
    "tags": []
   },
   "outputs": [
    {
     "data": {
      "text/plain": [
       "<Axes: >"
      ]
     },
     "execution_count": 48,
     "metadata": {},
     "output_type": "execute_result"
    },
    {
     "data": {
      "image/png": "[encoded data removed]",
      "text/plain": [
       "<Figure size 100x300 with 1 Axes>"
      ]
     },
     "metadata": {},
     "output_type": "display_data"
    }
   ],
   "source": [
    "df.loc[df['country']=='India',['profit']].sum().plot(kind='bar',figsize=(1,3))"
   ]
  },
  {
   "cell_type": "code",
   "execution_count": null,
   "id": "ac578e57-65ea-48f3-9613-48556a025a90",
   "metadata": {},
   "outputs": [],
   "source": []
  }
 ],
 "metadata": {
  "kernelspec": {
   "display_name": "Python 3 (ipykernel)",
   "language": "python",
   "name": "python3"
  },
  "language_info": {
   "codemirror_mode": {
    "name": "ipython",
    "version": 3
   },
   "file_extension": ".py",
   "mimetype": "text/x-python",
   "name": "python",
   "nbconvert_exporter": "python",
   "pygments_lexer": "ipython3",
   "version": "3.11.5"
  }
 },
 "nbformat": 4,
 "nbformat_minor": 5
}
