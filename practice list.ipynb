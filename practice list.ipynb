{
 "cells": [
  {
   "cell_type": "code",
   "execution_count": null,
   "metadata": {},
   "outputs": [],
   "source": [
    "s = 'hello hello devesh i am good good and how about you you and and what is is is is'\n",
    "news = set(list(s.split()))\n",
    "ns=''\n",
    "for i in news:\n",
    "    ns +=i+' '\n",
    "print(ns)"
   ]
  },
  {
   "cell_type": "code",
   "execution_count": 9,
   "metadata": {},
   "outputs": [
    {
     "name": "stdout",
     "output_type": "stream",
     "text": [
      "24\n"
     ]
    }
   ],
   "source": [
    "l = [-2,3,-9,4,3,2,-7,4,3,-2,-1,9,9]\n",
    "el=[]\n",
    "n=1\n",
    "while n<=len(l):\n",
    "    el.extend(findsum(n,l))\n",
    "    n+=1\n",
    "print(max(el))"
   ]
  },
  {
   "cell_type": "code",
   "execution_count": 6,
   "metadata": {},
   "outputs": [],
   "source": [
    "def findsum(nn,ll):\n",
    "    s=[]\n",
    "    for i in ll:\n",
    "        s.append(sum(ll[i:nn]))\n",
    "    return s\n"
   ]
  },
  {
   "cell_type": "markdown",
   "metadata": {},
   "source": [
    "make a sub list of all negative positive and zeros in ther original posotion"
   ]
  },
  {
   "cell_type": "code",
   "execution_count": 5,
   "metadata": {},
   "outputs": [
    {
     "name": "stdout",
     "output_type": "stream",
     "text": [
      "negative [-4, -1, -56, -9]\n",
      "positive [5, 2, 5, 6, 3, 5, 2, 3, 1]\n",
      "zeros [0, 0]\n"
     ]
    }
   ],
   "source": [
    "l = [-4,0,-1,5,2,-56,5,0,6,3,-9,5,2,3,1]\n",
    "n=[]\n",
    "o=[]\n",
    "p=[]\n",
    "for i in l:\n",
    "    if i==0:\n",
    "        o.append(i)\n",
    "    elif i>0:\n",
    "        p.append(i)\n",
    "    else:\n",
    "        n.append(i)\n",
    "print(f'negative {n}\\npositive {p}\\nzeros {o}')\n"
   ]
  },
  {
   "cell_type": "markdown",
   "metadata": {},
   "source": [
    "Make a tuple of tuple of two list of same length take ther 1 element then 2nd to nth element"
   ]
  },
  {
   "cell_type": "code",
   "execution_count": 6,
   "metadata": {},
   "outputs": [
    {
     "name": "stdout",
     "output_type": "stream",
     "text": [
      "((2, 5), (6, 4), (5, 3), (3, 4), (4, 5), (6, 9), (4, 5))\n"
     ]
    }
   ],
   "source": [
    "l1=[2,6,5,3,4,6,4]\n",
    "l2=[5,4,3,4,5,9,5]\n",
    "t = tuple(zip(l1,l2))\n",
    "print(t)"
   ]
  },
  {
   "cell_type": "code",
   "execution_count": 8,
   "metadata": {},
   "outputs": [
    {
     "ename": "TypeError",
     "evalue": "'int' object is not iterable",
     "output_type": "error",
     "traceback": [
      "\u001b[1;31m---------------------------------------------------------------------------\u001b[0m",
      "\u001b[1;31mTypeError\u001b[0m                                 Traceback (most recent call last)",
      "Cell \u001b[1;32mIn[8], line 6\u001b[0m\n\u001b[0;32m      4\u001b[0m \u001b[38;5;28;01mfor\u001b[39;00m i \u001b[38;5;129;01min\u001b[39;00m l:\n\u001b[0;32m      5\u001b[0m     t\u001b[38;5;241m=\u001b[39mi[\u001b[38;5;241m0\u001b[39m]\u001b[38;5;241m+\u001b[39mi[\u001b[38;5;241m1\u001b[39m]\n\u001b[1;32m----> 6\u001b[0m     nl\u001b[38;5;241m.\u001b[39mappend(\u001b[38;5;28;43mtuple\u001b[39;49m\u001b[43m(\u001b[49m\u001b[43mt\u001b[49m\u001b[43m)\u001b[49m)\n\u001b[0;32m      7\u001b[0m \u001b[38;5;28mprint\u001b[39m(nl)\n",
      "\u001b[1;31mTypeError\u001b[0m: 'int' object is not iterable"
     ]
    }
   ],
   "source": [
    "l=[(45,7),(62,9),(7,9),(23,8)]\n",
    "nl=[]\n",
    "t=0\n",
    "for i in l:\n",
    "    t=i[0]+i[1]\n",
    "    nl.append(tuple(t))\n",
    "print(nl)\n",
    "\n"
   ]
  },
  {
   "cell_type": "code",
   "execution_count": 2,
   "metadata": {},
   "outputs": [
    {
     "name": "stdout",
     "output_type": "stream",
     "text": [
      "-5.769230769230769\n"
     ]
    }
   ],
   "source": [
    "# calculating DOL\n",
    "vc = 450000+750000+85000+90000\n",
    "fc = 120000+1200000\n",
    "sp = 2500000\n",
    "a= sp-vc\n",
    "b= sp-vc-fc\n",
    "dol = a/b\n",
    "print(dol)"
   ]
  },
  {
   "cell_type": "code",
   "execution_count": 3,
   "metadata": {},
   "outputs": [
    {
     "name": "stdout",
     "output_type": "stream",
     "text": [
      "1125000\n"
     ]
    }
   ],
   "source": [
    "contry = sp-vc\n",
    "print(contry)"
   ]
  },
  {
   "cell_type": "code",
   "execution_count": 5,
   "metadata": {},
   "outputs": [
    {
     "name": "stdout",
     "output_type": "stream",
     "text": [
      "-5.769230769230769\n"
     ]
    }
   ],
   "source": [
    "dol2=contry/(contry-fc)\n",
    "print(dol2)"
   ]
  },
  {
   "cell_type": "code",
   "execution_count": 7,
   "metadata": {},
   "outputs": [
    {
     "name": "stdout",
     "output_type": "stream",
     "text": [
      "1125000\n"
     ]
    }
   ],
   "source": [
    "ebit=sp-vc\n",
    "print(ebit)"
   ]
  },
  {
   "cell_type": "code",
   "execution_count": 8,
   "metadata": {},
   "outputs": [
    {
     "data": {
      "text/plain": [
       "1.000078228341417"
      ]
     },
     "execution_count": 8,
     "metadata": {},
     "output_type": "execute_result"
    }
   ],
   "source": [
    "q=15000\n",
    "dolq=(q*(sp-vc))/(q*(sp-vc)-fc)\n",
    "dolq"
   ]
  },
  {
   "cell_type": "code",
   "execution_count": 12,
   "metadata": {},
   "outputs": [
    {
     "data": {
      "text/plain": [
       "96000.0"
      ]
     },
     "execution_count": 12,
     "metadata": {},
     "output_type": "execute_result"
    }
   ],
   "source": [
    "i=1200000*0.08\n",
    "i #intrest"
   ]
  },
  {
   "cell_type": "code",
   "execution_count": 15,
   "metadata": {},
   "outputs": [
    {
     "data": {
      "text/plain": [
       "1.0932944606413995"
      ]
     },
     "execution_count": 15,
     "metadata": {},
     "output_type": "execute_result"
    }
   ],
   "source": [
    "fl =ebit/(ebit-i)\n",
    "fl"
   ]
  },
  {
   "cell_type": "code",
   "execution_count": 16,
   "metadata": {},
   "outputs": [
    {
     "data": {
      "text/plain": [
       "-6.30746804216192"
      ]
     },
     "execution_count": 16,
     "metadata": {},
     "output_type": "execute_result"
    }
   ],
   "source": [
    "fl*dol"
   ]
  },
  {
   "cell_type": "code",
   "execution_count": null,
   "metadata": {},
   "outputs": [],
   "source": [
    "ebit = 1005000"
   ]
  }
 ],
 "metadata": {
  "kernelspec": {
   "display_name": "Python 3",
   "language": "python",
   "name": "python3"
  },
  "language_info": {
   "codemirror_mode": {
    "name": "ipython",
    "version": 3
   },
   "file_extension": ".py",
   "mimetype": "text/x-python",
   "name": "python",
   "nbconvert_exporter": "python",
   "pygments_lexer": "ipython3",
   "version": "3.11.4"
  }
 },
 "nbformat": 4,
 "nbformat_minor": 2
}
