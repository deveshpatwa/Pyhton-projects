{
 "cells": [
  {
   "cell_type": "code",
   "execution_count": null,
   "metadata": {},
   "outputs": [],
   "source": [
    "s = 'hello hello devesh i am good good and how about you you and and what is is is is'\n",
    "news = set(list(s.split()))\n",
    "ns=''\n",
    "for i in news:\n",
    "    ns +=i+' '\n",
    "print(ns)"
   ]
  },
  {
   "cell_type": "code",
   "execution_count": null,
   "metadata": {},
   "outputs": [],
   "source": [
    "l = [-2,3,-9,4,3,2,-7,4,3,-2,-1,9,9]\n",
    "el=[]\n",
    "n=1\n",
    "while n<=len(l):\n",
    "    el.extend(findsum(n,l))\n",
    "    n+=1\n",
    "print(max(el))"
   ]
  },
  {
   "cell_type": "code",
   "execution_count": null,
   "metadata": {},
   "outputs": [],
   "source": [
    "def findsum(nn,ll):\n",
    "    s=[]\n",
    "    for i in ll:\n",
    "        s.append(sum(ll[i:nn]))\n",
    "    return s\n"
   ]
  },
  {
   "cell_type": "markdown",
   "metadata": {},
   "source": [
    "make a sub list of all negative positive and zeros in ther original posotion"
   ]
  },
  {
   "cell_type": "code",
   "execution_count": null,
   "metadata": {},
   "outputs": [],
   "source": [
    "l = [-4,0,-1,5,2,-56,5,0,6,3,-9,5,2,3,1]\n",
    "n=[]\n",
    "o=[]\n",
    "p=[]\n",
    "for i in l:\n",
    "    if i==0:\n",
    "        o.append(i)\n",
    "    elif i>0:\n",
    "        p.append(i)\n",
    "    else:\n",
    "        n.append(i)\n",
    "print(f'negative {n}\\npositive {p}\\nzeros {o}')\n"
   ]
  },
  {
   "cell_type": "markdown",
   "metadata": {},
   "source": [
    "Make a tuple of tuple of two list of same length take ther 1 element then 2nd to nth element"
   ]
  },
  {
   "cell_type": "code",
   "execution_count": null,
   "metadata": {},
   "outputs": [],
   "source": [
    "l1=[2,6,5,3,4,6,4]\n",
    "l2=[5,4,3,4,5,9,5]\n",
    "t = tuple(zip(l1,l2))\n",
    "print(t)"
   ]
  },
  {
   "cell_type": "code",
   "execution_count": null,
   "metadata": {},
   "outputs": [],
   "source": [
    "l=[(45,7),(62,9),(7,9),(23,8)]\n",
    "nl=[]\n",
    "t=0\n",
    "for i in l:\n",
    "    t=i[0]+i[1]\n",
    "    nl.append(tuple(t))\n",
    "print(nl)\n",
    "\n"
   ]
  },
  {
   "cell_type": "code",
   "execution_count": 14,
   "metadata": {},
   "outputs": [
    {
     "name": "stdout",
     "output_type": "stream",
     "text": [
      "-5.769230769230769\n",
      "1320000\n",
      "1375000\n"
     ]
    }
   ],
   "source": [
    "# calculating DOL\n",
    "vc = 450000+750000+85000+90000\n",
    "fc = 120000+1200000\n",
    "sp = 2500000\n",
    "a= sp-vc\n",
    "b= (sp-vc)-fc\n",
    "dol = a/b\n",
    "print(dol)\n",
    "print(fc)\n",
    "print(vc)"
   ]
  },
  {
   "cell_type": "code",
   "execution_count": 5,
   "metadata": {},
   "outputs": [
    {
     "name": "stdout",
     "output_type": "stream",
     "text": [
      "1125000\n"
     ]
    }
   ],
   "source": [
    "contry = sp-vc\n",
    "print(contry)"
   ]
  },
  {
   "cell_type": "code",
   "execution_count": 6,
   "metadata": {},
   "outputs": [
    {
     "name": "stdout",
     "output_type": "stream",
     "text": [
      "-5.769230769230769\n"
     ]
    }
   ],
   "source": [
    "dol2=contry/(contry-fc)\n",
    "print(dol2)"
   ]
  },
  {
   "cell_type": "code",
   "execution_count": 9,
   "metadata": {},
   "outputs": [
    {
     "name": "stdout",
     "output_type": "stream",
     "text": [
      "1125000\n"
     ]
    }
   ],
   "source": [
    "ebit=sp-vc\n",
    "print(ebit)"
   ]
  },
  {
   "cell_type": "code",
   "execution_count": 8,
   "metadata": {},
   "outputs": [
    {
     "data": {
      "text/plain": [
       "1.000078228341417"
      ]
     },
     "execution_count": 8,
     "metadata": {},
     "output_type": "execute_result"
    }
   ],
   "source": [
    "q=15000\n",
    "dolq=(q*(sp-vc))/(q*(sp-vc)-fc)\n",
    "dolq"
   ]
  },
  {
   "cell_type": "code",
   "execution_count": 11,
   "metadata": {},
   "outputs": [
    {
     "data": {
      "text/plain": [
       "96000.0"
      ]
     },
     "execution_count": 11,
     "metadata": {},
     "output_type": "execute_result"
    }
   ],
   "source": [
    "i=1200000*0.08\n",
    "i #intrest"
   ]
  },
  {
   "cell_type": "code",
   "execution_count": null,
   "metadata": {},
   "outputs": [],
   "source": [
    "fl =ebit/(ebit-i)\n",
    "fl"
   ]
  },
  {
   "cell_type": "code",
   "execution_count": null,
   "metadata": {},
   "outputs": [],
   "source": [
    "fl*dol"
   ]
  },
  {
   "cell_type": "code",
   "execution_count": null,
   "metadata": {},
   "outputs": [],
   "source": [
    "ebit = 1005000"
   ]
  },
  {
   "cell_type": "code",
   "execution_count": null,
   "metadata": {},
   "outputs": [],
   "source": [
    "fc"
   ]
  },
  {
   "cell_type": "code",
   "execution_count": 13,
   "metadata": {},
   "outputs": [
    {
     "data": {
      "text/plain": [
       "1.0932944606413995"
      ]
     },
     "execution_count": 13,
     "metadata": {},
     "output_type": "execute_result"
    }
   ],
   "source": [
    "dof = ebit/(ebit-i)\n",
    "dof"
   ]
  },
  {
   "cell_type": "code",
   "execution_count": null,
   "metadata": {},
   "outputs": [],
   "source": []
  }
 ],
 "metadata": {
  "kernelspec": {
   "display_name": "Python 3",
   "language": "python",
   "name": "python3"
  },
  "language_info": {
   "codemirror_mode": {
    "name": "ipython",
    "version": 3
   },
   "file_extension": ".py",
   "mimetype": "text/x-python",
   "name": "python",
   "nbconvert_exporter": "python",
   "pygments_lexer": "ipython3",
   "version": "3.11.4"
  }
 },
 "nbformat": 4,
 "nbformat_minor": 2
}
