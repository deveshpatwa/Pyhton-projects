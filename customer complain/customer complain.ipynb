{
 "cells": [
  {
   "cell_type": "code",
   "execution_count": 1,
   "id": "fa75b8db-5de9-43c4-8caa-61222cd1a097",
   "metadata": {
    "tags": []
   },
   "outputs": [],
   "source": [
    "import pandas as pd\n",
    "import numpy as np\n",
    "import seaborn as sns\n",
    "import matplotlib.pyplot as plt"
   ]
  },
  {
   "cell_type": "code",
   "execution_count": 3,
   "id": "d44b138e-b8d8-4e2e-a209-991b1bdbf8e1",
   "metadata": {
    "tags": []
   },
   "outputs": [],
   "source": [
    "df = pd.read_csv('customer_complain.csv')"
   ]
  },
  {
   "cell_type": "code",
   "execution_count": 5,
   "id": "21ab36b5-dccf-46a5-9884-d52cd4f207a6",
   "metadata": {
    "tags": []
   },
   "outputs": [
    {
     "data": {
      "text/html": [
       "<div>\n",
       "<style scoped>\n",
       "    .dataframe tbody tr th:only-of-type {\n",
       "        vertical-align: middle;\n",
       "    }\n",
       "\n",
       "    .dataframe tbody tr th {\n",
       "        vertical-align: top;\n",
       "    }\n",
       "\n",
       "    .dataframe thead th {\n",
       "        text-align: right;\n",
       "    }\n",
       "</style>\n",
       "<table border=\"1\" class=\"dataframe\">\n",
       "  <thead>\n",
       "    <tr style=\"text-align: right;\">\n",
       "      <th></th>\n",
       "      <th>Complaint ID</th>\n",
       "      <th>Submitted via</th>\n",
       "      <th>Date submitted</th>\n",
       "      <th>Date received</th>\n",
       "      <th>State</th>\n",
       "      <th>Product</th>\n",
       "      <th>Sub-product</th>\n",
       "      <th>Issue</th>\n",
       "      <th>Sub-issue</th>\n",
       "      <th>Company public response</th>\n",
       "      <th>Company response to consumer</th>\n",
       "      <th>Timely response?</th>\n",
       "    </tr>\n",
       "  </thead>\n",
       "  <tbody>\n",
       "    <tr>\n",
       "      <th>0</th>\n",
       "      <td>4848023</td>\n",
       "      <td>Referral</td>\n",
       "      <td>2021-10-24</td>\n",
       "      <td>2021-10-27</td>\n",
       "      <td>NY</td>\n",
       "      <td>Mortgage</td>\n",
       "      <td>Conventional home mortgage</td>\n",
       "      <td>Applying for a mortgage or refinancing an exis...</td>\n",
       "      <td>NaN</td>\n",
       "      <td>Company has responded to the consumer and the ...</td>\n",
       "      <td>Closed with explanation</td>\n",
       "      <td>Yes</td>\n",
       "    </tr>\n",
       "  </tbody>\n",
       "</table>\n",
       "</div>"
      ],
      "text/plain": [
       "   Complaint ID Submitted via Date submitted Date received State   Product  \\\n",
       "0       4848023      Referral     2021-10-24    2021-10-27    NY  Mortgage   \n",
       "\n",
       "                  Sub-product  \\\n",
       "0  Conventional home mortgage   \n",
       "\n",
       "                                               Issue Sub-issue  \\\n",
       "0  Applying for a mortgage or refinancing an exis...       NaN   \n",
       "\n",
       "                             Company public response  \\\n",
       "0  Company has responded to the consumer and the ...   \n",
       "\n",
       "  Company response to consumer Timely response?  \n",
       "0      Closed with explanation              Yes  "
      ]
     },
     "execution_count": 5,
     "metadata": {},
     "output_type": "execute_result"
    }
   ],
   "source": [
    "df.head(1)"
   ]
  },
  {
   "cell_type": "code",
   "execution_count": 6,
   "id": "7612407b-8a4c-478f-a291-8f3af4f07ee5",
   "metadata": {
    "tags": []
   },
   "outputs": [
    {
     "name": "stdout",
     "output_type": "stream",
     "text": [
      "<class 'pandas.core.frame.DataFrame'>\n",
      "RangeIndex: 62516 entries, 0 to 62515\n",
      "Data columns (total 12 columns):\n",
      " #   Column                        Non-Null Count  Dtype \n",
      "---  ------                        --------------  ----- \n",
      " 0   Complaint ID                  62516 non-null  int64 \n",
      " 1   Submitted via                 62516 non-null  object\n",
      " 2   Date submitted                62516 non-null  object\n",
      " 3   Date received                 62516 non-null  object\n",
      " 4   State                         62516 non-null  object\n",
      " 5   Product                       62516 non-null  object\n",
      " 6   Sub-product                   62509 non-null  object\n",
      " 7   Issue                         62516 non-null  object\n",
      " 8   Sub-issue                     51658 non-null  object\n",
      " 9   Company public response       60341 non-null  object\n",
      " 10  Company response to consumer  62516 non-null  object\n",
      " 11  Timely response?              61022 non-null  object\n",
      "dtypes: int64(1), object(11)\n",
      "memory usage: 5.7+ MB\n"
     ]
    }
   ],
   "source": [
    "df.info()"
   ]
  },
  {
   "cell_type": "code",
   "execution_count": 8,
   "id": "7756add5-df87-4927-864c-7bc836ae6b85",
   "metadata": {
    "tags": []
   },
   "outputs": [
    {
     "data": {
      "text/plain": [
       "Complaint ID                        0\n",
       "Submitted via                       0\n",
       "Date submitted                      0\n",
       "Date received                       0\n",
       "State                               0\n",
       "Product                             0\n",
       "Sub-product                         7\n",
       "Issue                               0\n",
       "Sub-issue                       10858\n",
       "Company public response          2175\n",
       "Company response to consumer        0\n",
       "Timely response?                 1494\n",
       "dtype: int64"
      ]
     },
     "execution_count": 8,
     "metadata": {},
     "output_type": "execute_result"
    }
   ],
   "source": [
    "df.isna().sum()"
   ]
  },
  {
   "cell_type": "code",
   "execution_count": 9,
   "id": "1780e5a8-2fa3-4172-bb34-c5c6f17beedc",
   "metadata": {
    "tags": []
   },
   "outputs": [
    {
     "data": {
      "text/html": [
       "<div>\n",
       "<style scoped>\n",
       "    .dataframe tbody tr th:only-of-type {\n",
       "        vertical-align: middle;\n",
       "    }\n",
       "\n",
       "    .dataframe tbody tr th {\n",
       "        vertical-align: top;\n",
       "    }\n",
       "\n",
       "    .dataframe thead th {\n",
       "        text-align: right;\n",
       "    }\n",
       "</style>\n",
       "<table border=\"1\" class=\"dataframe\">\n",
       "  <thead>\n",
       "    <tr style=\"text-align: right;\">\n",
       "      <th></th>\n",
       "      <th>Complaint ID</th>\n",
       "    </tr>\n",
       "  </thead>\n",
       "  <tbody>\n",
       "    <tr>\n",
       "      <th>count</th>\n",
       "      <td>6.251600e+04</td>\n",
       "    </tr>\n",
       "    <tr>\n",
       "      <th>mean</th>\n",
       "      <td>4.512642e+06</td>\n",
       "    </tr>\n",
       "    <tr>\n",
       "      <th>std</th>\n",
       "      <td>1.442917e+06</td>\n",
       "    </tr>\n",
       "    <tr>\n",
       "      <th>min</th>\n",
       "      <td>2.471340e+06</td>\n",
       "    </tr>\n",
       "    <tr>\n",
       "      <th>25%</th>\n",
       "      <td>3.254020e+06</td>\n",
       "    </tr>\n",
       "    <tr>\n",
       "      <th>50%</th>\n",
       "      <td>4.178582e+06</td>\n",
       "    </tr>\n",
       "    <tr>\n",
       "      <th>75%</th>\n",
       "      <td>5.771284e+06</td>\n",
       "    </tr>\n",
       "    <tr>\n",
       "      <th>max</th>\n",
       "      <td>7.458912e+06</td>\n",
       "    </tr>\n",
       "  </tbody>\n",
       "</table>\n",
       "</div>"
      ],
      "text/plain": [
       "       Complaint ID\n",
       "count  6.251600e+04\n",
       "mean   4.512642e+06\n",
       "std    1.442917e+06\n",
       "min    2.471340e+06\n",
       "25%    3.254020e+06\n",
       "50%    4.178582e+06\n",
       "75%    5.771284e+06\n",
       "max    7.458912e+06"
      ]
     },
     "execution_count": 9,
     "metadata": {},
     "output_type": "execute_result"
    }
   ],
   "source": [
    "df.describe()"
   ]
  },
  {
   "cell_type": "code",
   "execution_count": 14,
   "id": "1ac7b50f-d7b1-4dce-adfd-907d06a30090",
   "metadata": {
    "tags": []
   },
   "outputs": [],
   "source": [
    "df['date_submit']=pd.to_datetime(df['Date submitted'])"
   ]
  },
  {
   "cell_type": "code",
   "execution_count": 15,
   "id": "8cda5527-5d8b-428f-a903-0f59e719bc5e",
   "metadata": {
    "tags": []
   },
   "outputs": [],
   "source": [
    "df['date_recived'] = pd.to_datetime(df['Date received'])"
   ]
  },
  {
   "cell_type": "code",
   "execution_count": 16,
   "id": "79598e12-27a3-4b60-8a7d-61abf8404edf",
   "metadata": {
    "tags": []
   },
   "outputs": [
    {
     "data": {
      "text/html": [
       "<div>\n",
       "<style scoped>\n",
       "    .dataframe tbody tr th:only-of-type {\n",
       "        vertical-align: middle;\n",
       "    }\n",
       "\n",
       "    .dataframe tbody tr th {\n",
       "        vertical-align: top;\n",
       "    }\n",
       "\n",
       "    .dataframe thead th {\n",
       "        text-align: right;\n",
       "    }\n",
       "</style>\n",
       "<table border=\"1\" class=\"dataframe\">\n",
       "  <thead>\n",
       "    <tr style=\"text-align: right;\">\n",
       "      <th></th>\n",
       "      <th>Complaint ID</th>\n",
       "      <th>date_submit</th>\n",
       "      <th>date_recived</th>\n",
       "    </tr>\n",
       "  </thead>\n",
       "  <tbody>\n",
       "    <tr>\n",
       "      <th>count</th>\n",
       "      <td>6.251600e+04</td>\n",
       "      <td>62516</td>\n",
       "      <td>62516</td>\n",
       "    </tr>\n",
       "    <tr>\n",
       "      <th>mean</th>\n",
       "      <td>4.512642e+06</td>\n",
       "      <td>2020-11-24 16:07:14.883869696</td>\n",
       "      <td>2020-11-25 21:31:05.071341568</td>\n",
       "    </tr>\n",
       "    <tr>\n",
       "      <th>min</th>\n",
       "      <td>2.471340e+06</td>\n",
       "      <td>2017-05-01 00:00:00</td>\n",
       "      <td>2017-05-01 00:00:00</td>\n",
       "    </tr>\n",
       "    <tr>\n",
       "      <th>25%</th>\n",
       "      <td>3.254020e+06</td>\n",
       "      <td>2019-05-22 00:00:00</td>\n",
       "      <td>2019-05-28 00:00:00</td>\n",
       "    </tr>\n",
       "    <tr>\n",
       "      <th>50%</th>\n",
       "      <td>4.178582e+06</td>\n",
       "      <td>2021-03-02 00:00:00</td>\n",
       "      <td>2021-03-03 00:00:00</td>\n",
       "    </tr>\n",
       "    <tr>\n",
       "      <th>75%</th>\n",
       "      <td>5.771284e+06</td>\n",
       "      <td>2022-07-14 00:00:00</td>\n",
       "      <td>2022-07-15 00:00:00</td>\n",
       "    </tr>\n",
       "    <tr>\n",
       "      <th>max</th>\n",
       "      <td>7.458912e+06</td>\n",
       "      <td>2023-08-28 00:00:00</td>\n",
       "      <td>2023-08-28 00:00:00</td>\n",
       "    </tr>\n",
       "    <tr>\n",
       "      <th>std</th>\n",
       "      <td>1.442917e+06</td>\n",
       "      <td>NaN</td>\n",
       "      <td>NaN</td>\n",
       "    </tr>\n",
       "  </tbody>\n",
       "</table>\n",
       "</div>"
      ],
      "text/plain": [
       "       Complaint ID                    date_submit  \\\n",
       "count  6.251600e+04                          62516   \n",
       "mean   4.512642e+06  2020-11-24 16:07:14.883869696   \n",
       "min    2.471340e+06            2017-05-01 00:00:00   \n",
       "25%    3.254020e+06            2019-05-22 00:00:00   \n",
       "50%    4.178582e+06            2021-03-02 00:00:00   \n",
       "75%    5.771284e+06            2022-07-14 00:00:00   \n",
       "max    7.458912e+06            2023-08-28 00:00:00   \n",
       "std    1.442917e+06                            NaN   \n",
       "\n",
       "                        date_recived  \n",
       "count                          62516  \n",
       "mean   2020-11-25 21:31:05.071341568  \n",
       "min              2017-05-01 00:00:00  \n",
       "25%              2019-05-28 00:00:00  \n",
       "50%              2021-03-03 00:00:00  \n",
       "75%              2022-07-15 00:00:00  \n",
       "max              2023-08-28 00:00:00  \n",
       "std                              NaN  "
      ]
     },
     "execution_count": 16,
     "metadata": {},
     "output_type": "execute_result"
    }
   ],
   "source": [
    "df.describe()"
   ]
  },
  {
   "cell_type": "code",
   "execution_count": 17,
   "id": "9e180771-061a-411d-8f2e-dbf30f0cb066",
   "metadata": {
    "tags": []
   },
   "outputs": [],
   "source": [
    "df['year'] = df['date_recived'].dt.year"
   ]
  },
  {
   "cell_type": "code",
   "execution_count": 19,
   "id": "fa15daa5-df0c-4744-bd37-e831611aa324",
   "metadata": {
    "tags": []
   },
   "outputs": [],
   "source": [
    "df['month'] = df['date_recived'].dt.month"
   ]
  },
  {
   "cell_type": "code",
   "execution_count": 20,
   "id": "c2908385-3056-41ac-ad63-84475df04037",
   "metadata": {
    "tags": []
   },
   "outputs": [],
   "source": [
    "df['day'] = df['date_recived'].dt.day"
   ]
  },
  {
   "cell_type": "code",
   "execution_count": 24,
   "id": "500f9330-5fe8-4196-bf67-7af405c9e082",
   "metadata": {
    "tags": []
   },
   "outputs": [],
   "source": [
    "df['weekname'] = df['date_recived'].dt.day_name()"
   ]
  },
  {
   "cell_type": "code",
   "execution_count": 26,
   "id": "066927c6-92f4-4b7c-8217-efb03f8d1e3c",
   "metadata": {
    "tags": []
   },
   "outputs": [],
   "source": [
    "del df['week']"
   ]
  },
  {
   "cell_type": "code",
   "execution_count": 27,
   "id": "bf4712a2-f9de-482c-b1b6-09a35947b254",
   "metadata": {
    "tags": []
   },
   "outputs": [
    {
     "data": {
      "text/html": [
       "<div>\n",
       "<style scoped>\n",
       "    .dataframe tbody tr th:only-of-type {\n",
       "        vertical-align: middle;\n",
       "    }\n",
       "\n",
       "    .dataframe tbody tr th {\n",
       "        vertical-align: top;\n",
       "    }\n",
       "\n",
       "    .dataframe thead th {\n",
       "        text-align: right;\n",
       "    }\n",
       "</style>\n",
       "<table border=\"1\" class=\"dataframe\">\n",
       "  <thead>\n",
       "    <tr style=\"text-align: right;\">\n",
       "      <th></th>\n",
       "      <th>Complaint ID</th>\n",
       "      <th>Submitted via</th>\n",
       "      <th>Date submitted</th>\n",
       "      <th>Date received</th>\n",
       "      <th>State</th>\n",
       "      <th>Product</th>\n",
       "      <th>Sub-product</th>\n",
       "      <th>Issue</th>\n",
       "      <th>Sub-issue</th>\n",
       "      <th>Company public response</th>\n",
       "      <th>Company response to consumer</th>\n",
       "      <th>Timely response?</th>\n",
       "      <th>date_submit</th>\n",
       "      <th>date_recived</th>\n",
       "      <th>year</th>\n",
       "      <th>month</th>\n",
       "      <th>day</th>\n",
       "      <th>weekname</th>\n",
       "    </tr>\n",
       "  </thead>\n",
       "  <tbody>\n",
       "    <tr>\n",
       "      <th>47561</th>\n",
       "      <td>3357002</td>\n",
       "      <td>Referral</td>\n",
       "      <td>2019-08-27</td>\n",
       "      <td>2019-08-28</td>\n",
       "      <td>CA</td>\n",
       "      <td>Credit card or prepaid card</td>\n",
       "      <td>General-purpose credit card or charge card</td>\n",
       "      <td>Problem when making payments</td>\n",
       "      <td>Problem during payment process</td>\n",
       "      <td>Company has responded to the consumer and the ...</td>\n",
       "      <td>Closed with monetary relief</td>\n",
       "      <td>Yes</td>\n",
       "      <td>2019-08-27</td>\n",
       "      <td>2019-08-28</td>\n",
       "      <td>2019</td>\n",
       "      <td>8</td>\n",
       "      <td>28</td>\n",
       "      <td>Wednesday</td>\n",
       "    </tr>\n",
       "    <tr>\n",
       "      <th>40937</th>\n",
       "      <td>3279516</td>\n",
       "      <td>Web</td>\n",
       "      <td>2019-06-19</td>\n",
       "      <td>2019-06-19</td>\n",
       "      <td>CA</td>\n",
       "      <td>Credit card or prepaid card</td>\n",
       "      <td>General-purpose credit card or charge card</td>\n",
       "      <td>Problem with a purchase shown on your statement</td>\n",
       "      <td>Card was charged for something you did not pur...</td>\n",
       "      <td>Company has responded to the consumer and the ...</td>\n",
       "      <td>Closed with monetary relief</td>\n",
       "      <td>Yes</td>\n",
       "      <td>2019-06-19</td>\n",
       "      <td>2019-06-19</td>\n",
       "      <td>2019</td>\n",
       "      <td>6</td>\n",
       "      <td>19</td>\n",
       "      <td>Wednesday</td>\n",
       "    </tr>\n",
       "    <tr>\n",
       "      <th>34509</th>\n",
       "      <td>5466655</td>\n",
       "      <td>Web</td>\n",
       "      <td>2022-04-19</td>\n",
       "      <td>2022-04-19</td>\n",
       "      <td>NJ</td>\n",
       "      <td>Credit card or prepaid card</td>\n",
       "      <td>General-purpose credit card or charge card</td>\n",
       "      <td>Problem with a purchase shown on your statement</td>\n",
       "      <td>Card was charged for something you did not pur...</td>\n",
       "      <td>NaN</td>\n",
       "      <td>Closed with monetary relief</td>\n",
       "      <td>Yes</td>\n",
       "      <td>2022-04-19</td>\n",
       "      <td>2022-04-19</td>\n",
       "      <td>2022</td>\n",
       "      <td>4</td>\n",
       "      <td>19</td>\n",
       "      <td>Tuesday</td>\n",
       "    </tr>\n",
       "    <tr>\n",
       "      <th>30331</th>\n",
       "      <td>6792995</td>\n",
       "      <td>Phone</td>\n",
       "      <td>2023-04-04</td>\n",
       "      <td>2023-04-04</td>\n",
       "      <td>GA</td>\n",
       "      <td>Credit reporting, credit repair services, or o...</td>\n",
       "      <td>Credit reporting</td>\n",
       "      <td>Incorrect information on your report</td>\n",
       "      <td>Account information incorrect</td>\n",
       "      <td>Company has responded to the consumer and the ...</td>\n",
       "      <td>Closed with explanation</td>\n",
       "      <td>Yes</td>\n",
       "      <td>2023-04-04</td>\n",
       "      <td>2023-04-04</td>\n",
       "      <td>2023</td>\n",
       "      <td>4</td>\n",
       "      <td>4</td>\n",
       "      <td>Tuesday</td>\n",
       "    </tr>\n",
       "    <tr>\n",
       "      <th>51457</th>\n",
       "      <td>4095790</td>\n",
       "      <td>Web</td>\n",
       "      <td>2021-01-27</td>\n",
       "      <td>2021-01-27</td>\n",
       "      <td>IL</td>\n",
       "      <td>Mortgage</td>\n",
       "      <td>Conventional home mortgage</td>\n",
       "      <td>Struggling to pay mortgage</td>\n",
       "      <td>NaN</td>\n",
       "      <td>Company has responded to the consumer and the ...</td>\n",
       "      <td>Closed with explanation</td>\n",
       "      <td>Yes</td>\n",
       "      <td>2021-01-27</td>\n",
       "      <td>2021-01-27</td>\n",
       "      <td>2021</td>\n",
       "      <td>1</td>\n",
       "      <td>27</td>\n",
       "      <td>Wednesday</td>\n",
       "    </tr>\n",
       "    <tr>\n",
       "      <th>44868</th>\n",
       "      <td>4038870</td>\n",
       "      <td>Postal mail</td>\n",
       "      <td>2020-12-30</td>\n",
       "      <td>2020-12-30</td>\n",
       "      <td>FL</td>\n",
       "      <td>Checking or savings account</td>\n",
       "      <td>Other banking product or service</td>\n",
       "      <td>Managing an account</td>\n",
       "      <td>Fee problem</td>\n",
       "      <td>Company has responded to the consumer and the ...</td>\n",
       "      <td>Closed with explanation</td>\n",
       "      <td>Yes</td>\n",
       "      <td>2020-12-30</td>\n",
       "      <td>2020-12-30</td>\n",
       "      <td>2020</td>\n",
       "      <td>12</td>\n",
       "      <td>30</td>\n",
       "      <td>Wednesday</td>\n",
       "    </tr>\n",
       "    <tr>\n",
       "      <th>6348</th>\n",
       "      <td>6661909</td>\n",
       "      <td>Postal mail</td>\n",
       "      <td>2023-03-07</td>\n",
       "      <td>2023-03-07</td>\n",
       "      <td>NY</td>\n",
       "      <td>Mortgage</td>\n",
       "      <td>Home equity loan or line of credit (HELOC)</td>\n",
       "      <td>Applying for a mortgage or refinancing an exis...</td>\n",
       "      <td>NaN</td>\n",
       "      <td>Company has responded to the consumer and the ...</td>\n",
       "      <td>Closed with explanation</td>\n",
       "      <td>Yes</td>\n",
       "      <td>2023-03-07</td>\n",
       "      <td>2023-03-07</td>\n",
       "      <td>2023</td>\n",
       "      <td>3</td>\n",
       "      <td>7</td>\n",
       "      <td>Tuesday</td>\n",
       "    </tr>\n",
       "    <tr>\n",
       "      <th>31804</th>\n",
       "      <td>4166604</td>\n",
       "      <td>Referral</td>\n",
       "      <td>2021-02-23</td>\n",
       "      <td>2021-02-25</td>\n",
       "      <td>NJ</td>\n",
       "      <td>Checking or savings account</td>\n",
       "      <td>Other banking product or service</td>\n",
       "      <td>Opening an account</td>\n",
       "      <td>Didn't receive terms that were advertised</td>\n",
       "      <td>Company has responded to the consumer and the ...</td>\n",
       "      <td>Closed with monetary relief</td>\n",
       "      <td>Yes</td>\n",
       "      <td>2021-02-23</td>\n",
       "      <td>2021-02-25</td>\n",
       "      <td>2021</td>\n",
       "      <td>2</td>\n",
       "      <td>25</td>\n",
       "      <td>Thursday</td>\n",
       "    </tr>\n",
       "    <tr>\n",
       "      <th>24127</th>\n",
       "      <td>3904226</td>\n",
       "      <td>Phone</td>\n",
       "      <td>2020-10-16</td>\n",
       "      <td>2020-10-17</td>\n",
       "      <td>CA</td>\n",
       "      <td>Credit reporting, credit repair services, or o...</td>\n",
       "      <td>Credit reporting</td>\n",
       "      <td>Incorrect information on your report</td>\n",
       "      <td>Information belongs to someone else</td>\n",
       "      <td>Company has responded to the consumer and the ...</td>\n",
       "      <td>Closed with explanation</td>\n",
       "      <td>Yes</td>\n",
       "      <td>2020-10-16</td>\n",
       "      <td>2020-10-17</td>\n",
       "      <td>2020</td>\n",
       "      <td>10</td>\n",
       "      <td>17</td>\n",
       "      <td>Saturday</td>\n",
       "    </tr>\n",
       "    <tr>\n",
       "      <th>32666</th>\n",
       "      <td>2984657</td>\n",
       "      <td>Web</td>\n",
       "      <td>2018-08-07</td>\n",
       "      <td>2018-08-07</td>\n",
       "      <td>NC</td>\n",
       "      <td>Mortgage</td>\n",
       "      <td>Conventional home mortgage</td>\n",
       "      <td>Applying for a mortgage or refinancing an exis...</td>\n",
       "      <td>NaN</td>\n",
       "      <td>Company has responded to the consumer and the ...</td>\n",
       "      <td>Closed with explanation</td>\n",
       "      <td>Yes</td>\n",
       "      <td>2018-08-07</td>\n",
       "      <td>2018-08-07</td>\n",
       "      <td>2018</td>\n",
       "      <td>8</td>\n",
       "      <td>7</td>\n",
       "      <td>Tuesday</td>\n",
       "    </tr>\n",
       "  </tbody>\n",
       "</table>\n",
       "</div>"
      ],
      "text/plain": [
       "       Complaint ID Submitted via Date submitted Date received State  \\\n",
       "47561       3357002      Referral     2019-08-27    2019-08-28    CA   \n",
       "40937       3279516           Web     2019-06-19    2019-06-19    CA   \n",
       "34509       5466655           Web     2022-04-19    2022-04-19    NJ   \n",
       "30331       6792995         Phone     2023-04-04    2023-04-04    GA   \n",
       "51457       4095790           Web     2021-01-27    2021-01-27    IL   \n",
       "44868       4038870   Postal mail     2020-12-30    2020-12-30    FL   \n",
       "6348        6661909   Postal mail     2023-03-07    2023-03-07    NY   \n",
       "31804       4166604      Referral     2021-02-23    2021-02-25    NJ   \n",
       "24127       3904226         Phone     2020-10-16    2020-10-17    CA   \n",
       "32666       2984657           Web     2018-08-07    2018-08-07    NC   \n",
       "\n",
       "                                                 Product  \\\n",
       "47561                        Credit card or prepaid card   \n",
       "40937                        Credit card or prepaid card   \n",
       "34509                        Credit card or prepaid card   \n",
       "30331  Credit reporting, credit repair services, or o...   \n",
       "51457                                           Mortgage   \n",
       "44868                        Checking or savings account   \n",
       "6348                                            Mortgage   \n",
       "31804                        Checking or savings account   \n",
       "24127  Credit reporting, credit repair services, or o...   \n",
       "32666                                           Mortgage   \n",
       "\n",
       "                                      Sub-product  \\\n",
       "47561  General-purpose credit card or charge card   \n",
       "40937  General-purpose credit card or charge card   \n",
       "34509  General-purpose credit card or charge card   \n",
       "30331                            Credit reporting   \n",
       "51457                  Conventional home mortgage   \n",
       "44868            Other banking product or service   \n",
       "6348   Home equity loan or line of credit (HELOC)   \n",
       "31804            Other banking product or service   \n",
       "24127                            Credit reporting   \n",
       "32666                  Conventional home mortgage   \n",
       "\n",
       "                                                   Issue  \\\n",
       "47561                       Problem when making payments   \n",
       "40937    Problem with a purchase shown on your statement   \n",
       "34509    Problem with a purchase shown on your statement   \n",
       "30331               Incorrect information on your report   \n",
       "51457                         Struggling to pay mortgage   \n",
       "44868                                Managing an account   \n",
       "6348   Applying for a mortgage or refinancing an exis...   \n",
       "31804                                 Opening an account   \n",
       "24127               Incorrect information on your report   \n",
       "32666  Applying for a mortgage or refinancing an exis...   \n",
       "\n",
       "                                               Sub-issue  \\\n",
       "47561                     Problem during payment process   \n",
       "40937  Card was charged for something you did not pur...   \n",
       "34509  Card was charged for something you did not pur...   \n",
       "30331                      Account information incorrect   \n",
       "51457                                                NaN   \n",
       "44868                                        Fee problem   \n",
       "6348                                                 NaN   \n",
       "31804          Didn't receive terms that were advertised   \n",
       "24127                Information belongs to someone else   \n",
       "32666                                                NaN   \n",
       "\n",
       "                                 Company public response  \\\n",
       "47561  Company has responded to the consumer and the ...   \n",
       "40937  Company has responded to the consumer and the ...   \n",
       "34509                                                NaN   \n",
       "30331  Company has responded to the consumer and the ...   \n",
       "51457  Company has responded to the consumer and the ...   \n",
       "44868  Company has responded to the consumer and the ...   \n",
       "6348   Company has responded to the consumer and the ...   \n",
       "31804  Company has responded to the consumer and the ...   \n",
       "24127  Company has responded to the consumer and the ...   \n",
       "32666  Company has responded to the consumer and the ...   \n",
       "\n",
       "      Company response to consumer Timely response? date_submit date_recived  \\\n",
       "47561  Closed with monetary relief              Yes  2019-08-27   2019-08-28   \n",
       "40937  Closed with monetary relief              Yes  2019-06-19   2019-06-19   \n",
       "34509  Closed with monetary relief              Yes  2022-04-19   2022-04-19   \n",
       "30331      Closed with explanation              Yes  2023-04-04   2023-04-04   \n",
       "51457      Closed with explanation              Yes  2021-01-27   2021-01-27   \n",
       "44868      Closed with explanation              Yes  2020-12-30   2020-12-30   \n",
       "6348       Closed with explanation              Yes  2023-03-07   2023-03-07   \n",
       "31804  Closed with monetary relief              Yes  2021-02-23   2021-02-25   \n",
       "24127      Closed with explanation              Yes  2020-10-16   2020-10-17   \n",
       "32666      Closed with explanation              Yes  2018-08-07   2018-08-07   \n",
       "\n",
       "       year  month  day   weekname  \n",
       "47561  2019      8   28  Wednesday  \n",
       "40937  2019      6   19  Wednesday  \n",
       "34509  2022      4   19    Tuesday  \n",
       "30331  2023      4    4    Tuesday  \n",
       "51457  2021      1   27  Wednesday  \n",
       "44868  2020     12   30  Wednesday  \n",
       "6348   2023      3    7    Tuesday  \n",
       "31804  2021      2   25   Thursday  \n",
       "24127  2020     10   17   Saturday  \n",
       "32666  2018      8    7    Tuesday  "
      ]
     },
     "execution_count": 27,
     "metadata": {},
     "output_type": "execute_result"
    }
   ],
   "source": [
    "df.sample(10)"
   ]
  },
  {
   "cell_type": "code",
   "execution_count": 29,
   "id": "42ab9e68-c51b-4dc1-9847-c2a4c4a080e7",
   "metadata": {
    "tags": []
   },
   "outputs": [
    {
     "data": {
      "text/plain": [
       "Index(['Complaint ID', 'Submitted via', 'Date submitted', 'Date received',\n",
       "       'State', 'Product', 'Sub-product', 'Issue', 'Sub-issue',\n",
       "       'Company public response', 'Company response to consumer',\n",
       "       'Timely response?', 'date_submit', 'date_recived', 'year', 'month',\n",
       "       'day', 'weekname'],\n",
       "      dtype='object')"
      ]
     },
     "execution_count": 29,
     "metadata": {},
     "output_type": "execute_result"
    }
   ],
   "source": [
    "df.columns"
   ]
  },
  {
   "cell_type": "code",
   "execution_count": 42,
   "id": "f96efd9b-a68c-4c8a-9ad5-ed292a5ec729",
   "metadata": {
    "tags": []
   },
   "outputs": [
    {
     "data": {
      "text/plain": [
       "<Axes: xlabel='weekname', ylabel='Count'>"
      ]
     },
     "execution_count": 42,
     "metadata": {},
     "output_type": "execute_result"
    },
    {
     "data": {
      "image/png": "[encoded data removed]",
      "text/plain": [
       "<Figure size 640x480 with 1 Axes>"
      ]
     },
     "metadata": {},
     "output_type": "display_data"
    }
   ],
   "source": [
    "sns.histplot(x='weekname',data=df)"
   ]
  },
  {
   "cell_type": "code",
   "execution_count": null,
   "id": "15170a1a-32ec-4e89-8066-722f84272943",
   "metadata": {
    "tags": []
   },
   "outputs": [],
   "source": []
  },
  {
   "cell_type": "code",
   "execution_count": null,
   "id": "faf1e734-06a4-40fe-812a-5ee769f05853",
   "metadata": {},
   "outputs": [],
   "source": []
  }
 ],
 "metadata": {
  "kernelspec": {
   "display_name": "Python 3 (ipykernel)",
   "language": "python",
   "name": "python3"
  },
  "language_info": {
   "codemirror_mode": {
    "name": "ipython",
    "version": 3
   },
   "file_extension": ".py",
   "mimetype": "text/x-python",
   "name": "python",
   "nbconvert_exporter": "python",
   "pygments_lexer": "ipython3",
   "version": "3.11.5"
  }
 },
 "nbformat": 4,
 "nbformat_minor": 5
}
