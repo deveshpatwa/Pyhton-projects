{
 "cells": [
  {
   "cell_type": "code",
   "execution_count": 10,
   "id": "bc8b879c-3c61-46d3-b13d-61ccb6c67619",
   "metadata": {
    "tags": []
   },
   "outputs": [],
   "source": [
    "import pandas as pd\n",
    "import numpy as np\n",
    "import matplotlib.pyplot as plt\n",
    "import seaborn as sns\n",
    "from sklearn import model_selection\n",
    "from sklearn.preprocessing import scale\n",
    "from sklearn.cluster import KMeans\n",
    "from sklearn.preprocessing import LabelEncoder\n",
    "from sklearn.metrics import accuracy_score\n",
    "from sklearn.model_selection import train_test_split"
   ]
  },
  {
   "cell_type": "code",
   "execution_count": 6,
   "id": "7ab00e1e-10f1-43fb-b394-6d53505cbb7e",
   "metadata": {
    "tags": []
   },
   "outputs": [],
   "source": [
    "x = np.array(pd.read_csv('x.csv'))\n",
    "y = np.array(pd.read_csv('y.csv'))"
   ]
  },
  {
   "cell_type": "code",
   "execution_count": 9,
   "id": "08839bf6-a149-414b-923d-b9fab62c8a69",
   "metadata": {
    "tags": []
   },
   "outputs": [],
   "source": [
    "x = scale(x)"
   ]
  },
  {
   "cell_type": "code",
   "execution_count": 11,
   "id": "488c9913-234f-4497-b5e4-ad9ca3aab6c0",
   "metadata": {
    "tags": []
   },
   "outputs": [],
   "source": [
    "xtrain, xteat,ytrain,ytest=train_test_split(x,y,test_size=0.2)"
   ]
  },
  {
   "cell_type": "code",
   "execution_count": null,
   "id": "bb0a178e-05d2-4328-b931-fa9c927cb449",
   "metadata": {},
   "outputs": [],
   "source": []
  }
 ],
 "metadata": {
  "kernelspec": {
   "display_name": "Python 3 (ipykernel)",
   "language": "python",
   "name": "python3"
  },
  "language_info": {
   "codemirror_mode": {
    "name": "ipython",
    "version": 3
   },
   "file_extension": ".py",
   "mimetype": "text/x-python",
   "name": "python",
   "nbconvert_exporter": "python",
   "pygments_lexer": "ipython3",
   "version": "3.11.5"
  }
 },
 "nbformat": 4,
 "nbformat_minor": 5
}
