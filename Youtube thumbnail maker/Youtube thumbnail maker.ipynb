{
 "cells": [
  {
   "cell_type": "code",
   "execution_count": 2,
   "id": "939fa60f-4a87-4621-8e02-03b8024859d6",
   "metadata": {},
   "outputs": [],
   "source": [
    "from PIL import Image, ImageDraw, ImageFont"
   ]
  },
  {
   "cell_type": "code",
   "execution_count": 1,
   "id": "b6fe30d2-fdac-41d5-9181-08f298d95221",
   "metadata": {},
   "outputs": [
    {
     "ename": "AttributeError",
     "evalue": "'ImageDraw' object has no attribute 'textsize'",
     "output_type": "error",
     "traceback": [
      "\u001b[1;31m---------------------------------------------------------------------------\u001b[0m",
      "\u001b[1;31mAttributeError\u001b[0m                            Traceback (most recent call last)",
      "Cell \u001b[1;32mIn[1], line 30\u001b[0m\n\u001b[0;32m     27\u001b[0m     \u001b[38;5;28mprint\u001b[39m(\u001b[38;5;124mf\u001b[39m\u001b[38;5;124m\"\u001b[39m\u001b[38;5;124mThumbnail saved as \u001b[39m\u001b[38;5;132;01m{\u001b[39;00moutput_path\u001b[38;5;132;01m}\u001b[39;00m\u001b[38;5;124m\"\u001b[39m)\n\u001b[0;32m     29\u001b[0m \u001b[38;5;66;03m# Example usage\u001b[39;00m\n\u001b[1;32m---> 30\u001b[0m \u001b[43mcreate_youtube_thumbnail\u001b[49m\u001b[43m(\u001b[49m\u001b[38;5;124;43m\"\u001b[39;49m\u001b[38;5;124;43mMy Awesome Video\u001b[39;49m\u001b[38;5;124;43m\"\u001b[39;49m\u001b[43m)\u001b[49m\n",
      "Cell \u001b[1;32mIn[1], line 18\u001b[0m, in \u001b[0;36mcreate_youtube_thumbnail\u001b[1;34m(title, output_path)\u001b[0m\n\u001b[0;32m     15\u001b[0m     font \u001b[38;5;241m=\u001b[39m ImageFont\u001b[38;5;241m.\u001b[39mload_default()\n\u001b[0;32m     17\u001b[0m \u001b[38;5;66;03m# Get text size and position\u001b[39;00m\n\u001b[1;32m---> 18\u001b[0m text_width, text_height \u001b[38;5;241m=\u001b[39m \u001b[43mdraw\u001b[49m\u001b[38;5;241;43m.\u001b[39;49m\u001b[43mtextsize\u001b[49m(title, font\u001b[38;5;241m=\u001b[39mfont)\n\u001b[0;32m     19\u001b[0m text_x \u001b[38;5;241m=\u001b[39m (width \u001b[38;5;241m-\u001b[39m text_width) \u001b[38;5;241m/\u001b[39m \u001b[38;5;241m2\u001b[39m\n\u001b[0;32m     20\u001b[0m text_y \u001b[38;5;241m=\u001b[39m (height \u001b[38;5;241m-\u001b[39m text_height) \u001b[38;5;241m/\u001b[39m \u001b[38;5;241m2\u001b[39m\n",
      "\u001b[1;31mAttributeError\u001b[0m: 'ImageDraw' object has no attribute 'textsize'"
     ]
    }
   ],
   "source": [
    "\n",
    "\n",
    "def create_youtube_thumbnail(title, output_path=\"thumbnail.png\"):\n",
    "    # Thumbnail size (16:9 aspect ratio, YouTube standard is 1280x720)\n",
    "    width, height = 1280, 720\n",
    "    \n",
    "    # Create an image with a blue background\n",
    "    image = Image.new(\"RGB\", (width, height), \"blue\")\n",
    "    draw = ImageDraw.Draw(image)\n",
    "    \n",
    "    # Load a font (ensure you have a .ttf font file, or use a system font)\n",
    "    try:\n",
    "        font = ImageFont.truetype(\"arial.ttf\", 80)  # Adjust font size as needed\n",
    "    except IOError:\n",
    "        font = ImageFont.load_default()\n",
    "    \n",
    "    # Get text size and position\n",
    "    text_width, text_height = draw.textsize(title, font=font)\n",
    "    text_x = (width - text_width) / 2\n",
    "    text_y = (height - text_height) / 2\n",
    "    \n",
    "    # Draw the text in white\n",
    "    draw.text((text_x, text_y), title, fill=\"white\", font=font)\n",
    "    \n",
    "    # Save the image\n",
    "    image.save(output_path)\n",
    "    print(f\"Thumbnail saved as {output_path}\")\n",
    "\n",
    "# Example usage\n",
    "create_youtube_thumbnail(\"My Awesome Video\")\n"
   ]
  },
  {
   "cell_type": "code",
   "execution_count": null,
   "id": "033f421a-6658-4e61-86b3-f53f4008390b",
   "metadata": {},
   "outputs": [],
   "source": []
  }
 ],
 "metadata": {
  "kernelspec": {
   "display_name": "Python 3 (ipykernel)",
   "language": "python",
   "name": "python3"
  },
  "language_info": {
   "codemirror_mode": {
    "name": "ipython",
    "version": 3
   },
   "file_extension": ".py",
   "mimetype": "text/x-python",
   "name": "python",
   "nbconvert_exporter": "python",
   "pygments_lexer": "ipython3",
   "version": "3.12.7"
  }
 },
 "nbformat": 4,
 "nbformat_minor": 5
}
