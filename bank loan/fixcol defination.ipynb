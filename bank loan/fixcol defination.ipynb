{
 "cells": [
  {
   "cell_type": "code",
   "execution_count": 4,
   "id": "b8e930fc-7987-4a2f-85c0-97075112b4c1",
   "metadata": {
    "tags": []
   },
   "outputs": [],
   "source": [
    "def fix_col(df):\n",
    "    l = list(df.columns)\n",
    "    l1 = []\n",
    "    for i in l:\n",
    "        a= i.lower().replace(' ','_')\n",
    "        a = a.replace('-','_')\n",
    "        l1.append(a)\n",
    "    d = dict(zip(l,l1))\n",
    "    df.rename(d, axis=1, inplace=True)\n",
    "    return df"
   ]
  },
  {
   "cell_type": "code",
   "execution_count": null,
   "id": "a3e769e4-f150-4536-b865-7e90e94623fc",
   "metadata": {
    "tags": []
   },
   "outputs": [],
   "source": [
    "\n"
   ]
  },
  {
   "cell_type": "code",
   "execution_count": null,
   "id": "c881b7c2-3dc9-4dd7-9553-fc2fc3ba7b93",
   "metadata": {},
   "outputs": [],
   "source": []
  }
 ],
 "metadata": {
  "kernelspec": {
   "display_name": "Python 3 (ipykernel)",
   "language": "python",
   "name": "python3"
  },
  "language_info": {
   "codemirror_mode": {
    "name": "ipython",
    "version": 3
   },
   "file_extension": ".py",
   "mimetype": "text/x-python",
   "name": "python",
   "nbconvert_exporter": "python",
   "pygments_lexer": "ipython3",
   "version": "3.11.5"
  }
 },
 "nbformat": 4,
 "nbformat_minor": 5
}
