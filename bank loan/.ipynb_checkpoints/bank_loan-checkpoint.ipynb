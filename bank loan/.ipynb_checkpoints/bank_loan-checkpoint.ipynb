{
 "cells": [
  {
   "cell_type": "code",
   "execution_count": 109,
   "id": "b62968f1-da2f-49a8-bcbb-d90a5c0d0f5a",
   "metadata": {
    "tags": []
   },
   "outputs": [],
   "source": [
    "import pandas as pd\n",
    "import numpy as np\n",
    "import devesh \n",
    "import seaborn as sns\n",
    "import matplotlib.pyplot as plt"
   ]
  },
  {
   "cell_type": "code",
   "execution_count": 31,
   "id": "db7a60bd-7242-46fb-839c-4f5d7a6bcb55",
   "metadata": {
    "tags": []
   },
   "outputs": [],
   "source": [
    "df = pd.read_csv('C:/Users/deves/Documents/GitHub/Pyton/bank loan/application_data.csv')"
   ]
  },
  {
   "cell_type": "code",
   "execution_count": 29,
   "id": "d86a949a-8f34-4c15-aada-6eb2a25b9d3d",
   "metadata": {
    "tags": []
   },
   "outputs": [
    {
     "data": {
      "text/html": [
       "<div>\n",
       "<style scoped>\n",
       "    .dataframe tbody tr th:only-of-type {\n",
       "        vertical-align: middle;\n",
       "    }\n",
       "\n",
       "    .dataframe tbody tr th {\n",
       "        vertical-align: top;\n",
       "    }\n",
       "\n",
       "    .dataframe thead th {\n",
       "        text-align: right;\n",
       "    }\n",
       "</style>\n",
       "<table border=\"1\" class=\"dataframe\">\n",
       "  <thead>\n",
       "    <tr style=\"text-align: right;\">\n",
       "      <th></th>\n",
       "      <th>SK_ID_CURR</th>\n",
       "      <th>TARGET</th>\n",
       "      <th>NAME_CONTRACT_TYPE</th>\n",
       "      <th>CODE_GENDER</th>\n",
       "      <th>FLAG_OWN_CAR</th>\n",
       "      <th>FLAG_OWN_REALTY</th>\n",
       "      <th>CNT_CHILDREN</th>\n",
       "      <th>AMT_INCOME_TOTAL</th>\n",
       "      <th>AMT_CREDIT</th>\n",
       "      <th>AMT_ANNUITY</th>\n",
       "      <th>...</th>\n",
       "      <th>FLAG_DOCUMENT_18</th>\n",
       "      <th>FLAG_DOCUMENT_19</th>\n",
       "      <th>FLAG_DOCUMENT_20</th>\n",
       "      <th>FLAG_DOCUMENT_21</th>\n",
       "      <th>AMT_REQ_CREDIT_BUREAU_HOUR</th>\n",
       "      <th>AMT_REQ_CREDIT_BUREAU_DAY</th>\n",
       "      <th>AMT_REQ_CREDIT_BUREAU_WEEK</th>\n",
       "      <th>AMT_REQ_CREDIT_BUREAU_MON</th>\n",
       "      <th>AMT_REQ_CREDIT_BUREAU_QRT</th>\n",
       "      <th>AMT_REQ_CREDIT_BUREAU_YEAR</th>\n",
       "    </tr>\n",
       "  </thead>\n",
       "  <tbody>\n",
       "    <tr>\n",
       "      <th>0</th>\n",
       "      <td>100002</td>\n",
       "      <td>1</td>\n",
       "      <td>Cash loans</td>\n",
       "      <td>M</td>\n",
       "      <td>N</td>\n",
       "      <td>Y</td>\n",
       "      <td>0</td>\n",
       "      <td>202500.0</td>\n",
       "      <td>406597.5</td>\n",
       "      <td>24700.5</td>\n",
       "      <td>...</td>\n",
       "      <td>0</td>\n",
       "      <td>0</td>\n",
       "      <td>0</td>\n",
       "      <td>0</td>\n",
       "      <td>0.0</td>\n",
       "      <td>0.0</td>\n",
       "      <td>0.0</td>\n",
       "      <td>0.0</td>\n",
       "      <td>0.0</td>\n",
       "      <td>1.0</td>\n",
       "    </tr>\n",
       "    <tr>\n",
       "      <th>1</th>\n",
       "      <td>100003</td>\n",
       "      <td>0</td>\n",
       "      <td>Cash loans</td>\n",
       "      <td>F</td>\n",
       "      <td>N</td>\n",
       "      <td>N</td>\n",
       "      <td>0</td>\n",
       "      <td>270000.0</td>\n",
       "      <td>1293502.5</td>\n",
       "      <td>35698.5</td>\n",
       "      <td>...</td>\n",
       "      <td>0</td>\n",
       "      <td>0</td>\n",
       "      <td>0</td>\n",
       "      <td>0</td>\n",
       "      <td>0.0</td>\n",
       "      <td>0.0</td>\n",
       "      <td>0.0</td>\n",
       "      <td>0.0</td>\n",
       "      <td>0.0</td>\n",
       "      <td>0.0</td>\n",
       "    </tr>\n",
       "    <tr>\n",
       "      <th>2</th>\n",
       "      <td>100004</td>\n",
       "      <td>0</td>\n",
       "      <td>Revolving loans</td>\n",
       "      <td>M</td>\n",
       "      <td>Y</td>\n",
       "      <td>Y</td>\n",
       "      <td>0</td>\n",
       "      <td>67500.0</td>\n",
       "      <td>135000.0</td>\n",
       "      <td>6750.0</td>\n",
       "      <td>...</td>\n",
       "      <td>0</td>\n",
       "      <td>0</td>\n",
       "      <td>0</td>\n",
       "      <td>0</td>\n",
       "      <td>0.0</td>\n",
       "      <td>0.0</td>\n",
       "      <td>0.0</td>\n",
       "      <td>0.0</td>\n",
       "      <td>0.0</td>\n",
       "      <td>0.0</td>\n",
       "    </tr>\n",
       "    <tr>\n",
       "      <th>3</th>\n",
       "      <td>100006</td>\n",
       "      <td>0</td>\n",
       "      <td>Cash loans</td>\n",
       "      <td>F</td>\n",
       "      <td>N</td>\n",
       "      <td>Y</td>\n",
       "      <td>0</td>\n",
       "      <td>135000.0</td>\n",
       "      <td>312682.5</td>\n",
       "      <td>29686.5</td>\n",
       "      <td>...</td>\n",
       "      <td>0</td>\n",
       "      <td>0</td>\n",
       "      <td>0</td>\n",
       "      <td>0</td>\n",
       "      <td>NaN</td>\n",
       "      <td>NaN</td>\n",
       "      <td>NaN</td>\n",
       "      <td>NaN</td>\n",
       "      <td>NaN</td>\n",
       "      <td>NaN</td>\n",
       "    </tr>\n",
       "    <tr>\n",
       "      <th>4</th>\n",
       "      <td>100007</td>\n",
       "      <td>0</td>\n",
       "      <td>Cash loans</td>\n",
       "      <td>M</td>\n",
       "      <td>N</td>\n",
       "      <td>Y</td>\n",
       "      <td>0</td>\n",
       "      <td>121500.0</td>\n",
       "      <td>513000.0</td>\n",
       "      <td>21865.5</td>\n",
       "      <td>...</td>\n",
       "      <td>0</td>\n",
       "      <td>0</td>\n",
       "      <td>0</td>\n",
       "      <td>0</td>\n",
       "      <td>0.0</td>\n",
       "      <td>0.0</td>\n",
       "      <td>0.0</td>\n",
       "      <td>0.0</td>\n",
       "      <td>0.0</td>\n",
       "      <td>0.0</td>\n",
       "    </tr>\n",
       "  </tbody>\n",
       "</table>\n",
       "<p>5 rows × 122 columns</p>\n",
       "</div>"
      ],
      "text/plain": [
       "   SK_ID_CURR  TARGET NAME_CONTRACT_TYPE CODE_GENDER FLAG_OWN_CAR  \\\n",
       "0      100002       1         Cash loans           M            N   \n",
       "1      100003       0         Cash loans           F            N   \n",
       "2      100004       0    Revolving loans           M            Y   \n",
       "3      100006       0         Cash loans           F            N   \n",
       "4      100007       0         Cash loans           M            N   \n",
       "\n",
       "  FLAG_OWN_REALTY  CNT_CHILDREN  AMT_INCOME_TOTAL  AMT_CREDIT  AMT_ANNUITY  \\\n",
       "0               Y             0          202500.0    406597.5      24700.5   \n",
       "1               N             0          270000.0   1293502.5      35698.5   \n",
       "2               Y             0           67500.0    135000.0       6750.0   \n",
       "3               Y             0          135000.0    312682.5      29686.5   \n",
       "4               Y             0          121500.0    513000.0      21865.5   \n",
       "\n",
       "   ...  FLAG_DOCUMENT_18 FLAG_DOCUMENT_19 FLAG_DOCUMENT_20 FLAG_DOCUMENT_21  \\\n",
       "0  ...                 0                0                0                0   \n",
       "1  ...                 0                0                0                0   \n",
       "2  ...                 0                0                0                0   \n",
       "3  ...                 0                0                0                0   \n",
       "4  ...                 0                0                0                0   \n",
       "\n",
       "  AMT_REQ_CREDIT_BUREAU_HOUR AMT_REQ_CREDIT_BUREAU_DAY  \\\n",
       "0                        0.0                       0.0   \n",
       "1                        0.0                       0.0   \n",
       "2                        0.0                       0.0   \n",
       "3                        NaN                       NaN   \n",
       "4                        0.0                       0.0   \n",
       "\n",
       "   AMT_REQ_CREDIT_BUREAU_WEEK  AMT_REQ_CREDIT_BUREAU_MON  \\\n",
       "0                         0.0                        0.0   \n",
       "1                         0.0                        0.0   \n",
       "2                         0.0                        0.0   \n",
       "3                         NaN                        NaN   \n",
       "4                         0.0                        0.0   \n",
       "\n",
       "   AMT_REQ_CREDIT_BUREAU_QRT  AMT_REQ_CREDIT_BUREAU_YEAR  \n",
       "0                        0.0                         1.0  \n",
       "1                        0.0                         0.0  \n",
       "2                        0.0                         0.0  \n",
       "3                        NaN                         NaN  \n",
       "4                        0.0                         0.0  \n",
       "\n",
       "[5 rows x 122 columns]"
      ]
     },
     "execution_count": 29,
     "metadata": {},
     "output_type": "execute_result"
    }
   ],
   "source": [
    "df.head()"
   ]
  },
  {
   "cell_type": "code",
   "execution_count": 4,
   "id": "c6179855-d6be-4e32-942c-f787d3b76e76",
   "metadata": {
    "tags": []
   },
   "outputs": [
    {
     "data": {
      "text/html": [
       "<div>\n",
       "<style scoped>\n",
       "    .dataframe tbody tr th:only-of-type {\n",
       "        vertical-align: middle;\n",
       "    }\n",
       "\n",
       "    .dataframe tbody tr th {\n",
       "        vertical-align: top;\n",
       "    }\n",
       "\n",
       "    .dataframe thead th {\n",
       "        text-align: right;\n",
       "    }\n",
       "</style>\n",
       "<table border=\"1\" class=\"dataframe\">\n",
       "  <thead>\n",
       "    <tr style=\"text-align: right;\">\n",
       "      <th></th>\n",
       "      <th>SK_ID_PREV</th>\n",
       "      <th>SK_ID_CURR</th>\n",
       "      <th>NAME_CONTRACT_TYPE</th>\n",
       "      <th>AMT_ANNUITY</th>\n",
       "      <th>AMT_APPLICATION</th>\n",
       "      <th>AMT_CREDIT</th>\n",
       "      <th>AMT_DOWN_PAYMENT</th>\n",
       "      <th>AMT_GOODS_PRICE</th>\n",
       "      <th>WEEKDAY_APPR_PROCESS_START</th>\n",
       "      <th>HOUR_APPR_PROCESS_START</th>\n",
       "      <th>...</th>\n",
       "      <th>NAME_SELLER_INDUSTRY</th>\n",
       "      <th>CNT_PAYMENT</th>\n",
       "      <th>NAME_YIELD_GROUP</th>\n",
       "      <th>PRODUCT_COMBINATION</th>\n",
       "      <th>DAYS_FIRST_DRAWING</th>\n",
       "      <th>DAYS_FIRST_DUE</th>\n",
       "      <th>DAYS_LAST_DUE_1ST_VERSION</th>\n",
       "      <th>DAYS_LAST_DUE</th>\n",
       "      <th>DAYS_TERMINATION</th>\n",
       "      <th>NFLAG_INSURED_ON_APPROVAL</th>\n",
       "    </tr>\n",
       "  </thead>\n",
       "  <tbody>\n",
       "    <tr>\n",
       "      <th>0</th>\n",
       "      <td>2030495</td>\n",
       "      <td>271877</td>\n",
       "      <td>Consumer loans</td>\n",
       "      <td>1730.430</td>\n",
       "      <td>17145.0</td>\n",
       "      <td>17145.0</td>\n",
       "      <td>0.0</td>\n",
       "      <td>17145.0</td>\n",
       "      <td>SATURDAY</td>\n",
       "      <td>15</td>\n",
       "      <td>...</td>\n",
       "      <td>Connectivity</td>\n",
       "      <td>12.0</td>\n",
       "      <td>middle</td>\n",
       "      <td>POS mobile with interest</td>\n",
       "      <td>365243.0</td>\n",
       "      <td>-42.0</td>\n",
       "      <td>300.0</td>\n",
       "      <td>-42.0</td>\n",
       "      <td>-37.0</td>\n",
       "      <td>0.0</td>\n",
       "    </tr>\n",
       "    <tr>\n",
       "      <th>1</th>\n",
       "      <td>2802425</td>\n",
       "      <td>108129</td>\n",
       "      <td>Cash loans</td>\n",
       "      <td>25188.615</td>\n",
       "      <td>607500.0</td>\n",
       "      <td>679671.0</td>\n",
       "      <td>NaN</td>\n",
       "      <td>607500.0</td>\n",
       "      <td>THURSDAY</td>\n",
       "      <td>11</td>\n",
       "      <td>...</td>\n",
       "      <td>XNA</td>\n",
       "      <td>36.0</td>\n",
       "      <td>low_action</td>\n",
       "      <td>Cash X-Sell: low</td>\n",
       "      <td>365243.0</td>\n",
       "      <td>-134.0</td>\n",
       "      <td>916.0</td>\n",
       "      <td>365243.0</td>\n",
       "      <td>365243.0</td>\n",
       "      <td>1.0</td>\n",
       "    </tr>\n",
       "    <tr>\n",
       "      <th>2</th>\n",
       "      <td>2523466</td>\n",
       "      <td>122040</td>\n",
       "      <td>Cash loans</td>\n",
       "      <td>15060.735</td>\n",
       "      <td>112500.0</td>\n",
       "      <td>136444.5</td>\n",
       "      <td>NaN</td>\n",
       "      <td>112500.0</td>\n",
       "      <td>TUESDAY</td>\n",
       "      <td>11</td>\n",
       "      <td>...</td>\n",
       "      <td>XNA</td>\n",
       "      <td>12.0</td>\n",
       "      <td>high</td>\n",
       "      <td>Cash X-Sell: high</td>\n",
       "      <td>365243.0</td>\n",
       "      <td>-271.0</td>\n",
       "      <td>59.0</td>\n",
       "      <td>365243.0</td>\n",
       "      <td>365243.0</td>\n",
       "      <td>1.0</td>\n",
       "    </tr>\n",
       "    <tr>\n",
       "      <th>3</th>\n",
       "      <td>2819243</td>\n",
       "      <td>176158</td>\n",
       "      <td>Cash loans</td>\n",
       "      <td>47041.335</td>\n",
       "      <td>450000.0</td>\n",
       "      <td>470790.0</td>\n",
       "      <td>NaN</td>\n",
       "      <td>450000.0</td>\n",
       "      <td>MONDAY</td>\n",
       "      <td>7</td>\n",
       "      <td>...</td>\n",
       "      <td>XNA</td>\n",
       "      <td>12.0</td>\n",
       "      <td>middle</td>\n",
       "      <td>Cash X-Sell: middle</td>\n",
       "      <td>365243.0</td>\n",
       "      <td>-482.0</td>\n",
       "      <td>-152.0</td>\n",
       "      <td>-182.0</td>\n",
       "      <td>-177.0</td>\n",
       "      <td>1.0</td>\n",
       "    </tr>\n",
       "    <tr>\n",
       "      <th>4</th>\n",
       "      <td>1784265</td>\n",
       "      <td>202054</td>\n",
       "      <td>Cash loans</td>\n",
       "      <td>31924.395</td>\n",
       "      <td>337500.0</td>\n",
       "      <td>404055.0</td>\n",
       "      <td>NaN</td>\n",
       "      <td>337500.0</td>\n",
       "      <td>THURSDAY</td>\n",
       "      <td>9</td>\n",
       "      <td>...</td>\n",
       "      <td>XNA</td>\n",
       "      <td>24.0</td>\n",
       "      <td>high</td>\n",
       "      <td>Cash Street: high</td>\n",
       "      <td>NaN</td>\n",
       "      <td>NaN</td>\n",
       "      <td>NaN</td>\n",
       "      <td>NaN</td>\n",
       "      <td>NaN</td>\n",
       "      <td>NaN</td>\n",
       "    </tr>\n",
       "  </tbody>\n",
       "</table>\n",
       "<p>5 rows × 37 columns</p>\n",
       "</div>"
      ],
      "text/plain": [
       "   SK_ID_PREV  SK_ID_CURR NAME_CONTRACT_TYPE  AMT_ANNUITY  AMT_APPLICATION  \\\n",
       "0     2030495      271877     Consumer loans     1730.430          17145.0   \n",
       "1     2802425      108129         Cash loans    25188.615         607500.0   \n",
       "2     2523466      122040         Cash loans    15060.735         112500.0   \n",
       "3     2819243      176158         Cash loans    47041.335         450000.0   \n",
       "4     1784265      202054         Cash loans    31924.395         337500.0   \n",
       "\n",
       "   AMT_CREDIT  AMT_DOWN_PAYMENT  AMT_GOODS_PRICE WEEKDAY_APPR_PROCESS_START  \\\n",
       "0     17145.0               0.0          17145.0                   SATURDAY   \n",
       "1    679671.0               NaN         607500.0                   THURSDAY   \n",
       "2    136444.5               NaN         112500.0                    TUESDAY   \n",
       "3    470790.0               NaN         450000.0                     MONDAY   \n",
       "4    404055.0               NaN         337500.0                   THURSDAY   \n",
       "\n",
       "   HOUR_APPR_PROCESS_START  ... NAME_SELLER_INDUSTRY  CNT_PAYMENT  \\\n",
       "0                       15  ...         Connectivity         12.0   \n",
       "1                       11  ...                  XNA         36.0   \n",
       "2                       11  ...                  XNA         12.0   \n",
       "3                        7  ...                  XNA         12.0   \n",
       "4                        9  ...                  XNA         24.0   \n",
       "\n",
       "   NAME_YIELD_GROUP       PRODUCT_COMBINATION  DAYS_FIRST_DRAWING  \\\n",
       "0            middle  POS mobile with interest            365243.0   \n",
       "1        low_action          Cash X-Sell: low            365243.0   \n",
       "2              high         Cash X-Sell: high            365243.0   \n",
       "3            middle       Cash X-Sell: middle            365243.0   \n",
       "4              high         Cash Street: high                 NaN   \n",
       "\n",
       "  DAYS_FIRST_DUE DAYS_LAST_DUE_1ST_VERSION  DAYS_LAST_DUE DAYS_TERMINATION  \\\n",
       "0          -42.0                     300.0          -42.0            -37.0   \n",
       "1         -134.0                     916.0       365243.0         365243.0   \n",
       "2         -271.0                      59.0       365243.0         365243.0   \n",
       "3         -482.0                    -152.0         -182.0           -177.0   \n",
       "4            NaN                       NaN            NaN              NaN   \n",
       "\n",
       "  NFLAG_INSURED_ON_APPROVAL  \n",
       "0                       0.0  \n",
       "1                       1.0  \n",
       "2                       1.0  \n",
       "3                       1.0  \n",
       "4                       NaN  \n",
       "\n",
       "[5 rows x 37 columns]"
      ]
     },
     "execution_count": 4,
     "metadata": {},
     "output_type": "execute_result"
    }
   ],
   "source": [
    "df1 = pd.read_csv('C:/Users/deves/Documents/GitHub/Pyton/bank loan/previous_application.csv')\n",
    "df1.head()"
   ]
  },
  {
   "cell_type": "code",
   "execution_count": 5,
   "id": "57902d08-049a-4eba-bb8e-3907dc37903a",
   "metadata": {
    "tags": []
   },
   "outputs": [
    {
     "data": {
      "text/html": [
       "<div>\n",
       "<style scoped>\n",
       "    .dataframe tbody tr th:only-of-type {\n",
       "        vertical-align: middle;\n",
       "    }\n",
       "\n",
       "    .dataframe tbody tr th {\n",
       "        vertical-align: top;\n",
       "    }\n",
       "\n",
       "    .dataframe thead th {\n",
       "        text-align: right;\n",
       "    }\n",
       "</style>\n",
       "<table border=\"1\" class=\"dataframe\">\n",
       "  <thead>\n",
       "    <tr style=\"text-align: right;\">\n",
       "      <th></th>\n",
       "      <th>SK_ID_CURR</th>\n",
       "      <th>TARGET</th>\n",
       "      <th>NAME_CONTRACT_TYPE</th>\n",
       "      <th>CODE_GENDER</th>\n",
       "      <th>FLAG_OWN_CAR</th>\n",
       "      <th>FLAG_OWN_REALTY</th>\n",
       "      <th>CNT_CHILDREN</th>\n",
       "      <th>AMT_INCOME_TOTAL</th>\n",
       "      <th>AMT_CREDIT</th>\n",
       "      <th>AMT_ANNUITY</th>\n",
       "      <th>...</th>\n",
       "      <th>FLAG_DOCUMENT_18</th>\n",
       "      <th>FLAG_DOCUMENT_19</th>\n",
       "      <th>FLAG_DOCUMENT_20</th>\n",
       "      <th>FLAG_DOCUMENT_21</th>\n",
       "      <th>AMT_REQ_CREDIT_BUREAU_HOUR</th>\n",
       "      <th>AMT_REQ_CREDIT_BUREAU_DAY</th>\n",
       "      <th>AMT_REQ_CREDIT_BUREAU_WEEK</th>\n",
       "      <th>AMT_REQ_CREDIT_BUREAU_MON</th>\n",
       "      <th>AMT_REQ_CREDIT_BUREAU_QRT</th>\n",
       "      <th>AMT_REQ_CREDIT_BUREAU_YEAR</th>\n",
       "    </tr>\n",
       "  </thead>\n",
       "  <tbody>\n",
       "    <tr>\n",
       "      <th>0</th>\n",
       "      <td>100002</td>\n",
       "      <td>1</td>\n",
       "      <td>Cash loans</td>\n",
       "      <td>M</td>\n",
       "      <td>N</td>\n",
       "      <td>Y</td>\n",
       "      <td>0</td>\n",
       "      <td>202500.0</td>\n",
       "      <td>406597.5</td>\n",
       "      <td>24700.5</td>\n",
       "      <td>...</td>\n",
       "      <td>0</td>\n",
       "      <td>0</td>\n",
       "      <td>0</td>\n",
       "      <td>0</td>\n",
       "      <td>0.0</td>\n",
       "      <td>0.0</td>\n",
       "      <td>0.0</td>\n",
       "      <td>0.0</td>\n",
       "      <td>0.0</td>\n",
       "      <td>1.0</td>\n",
       "    </tr>\n",
       "    <tr>\n",
       "      <th>1</th>\n",
       "      <td>100003</td>\n",
       "      <td>0</td>\n",
       "      <td>Cash loans</td>\n",
       "      <td>F</td>\n",
       "      <td>N</td>\n",
       "      <td>N</td>\n",
       "      <td>0</td>\n",
       "      <td>270000.0</td>\n",
       "      <td>1293502.5</td>\n",
       "      <td>35698.5</td>\n",
       "      <td>...</td>\n",
       "      <td>0</td>\n",
       "      <td>0</td>\n",
       "      <td>0</td>\n",
       "      <td>0</td>\n",
       "      <td>0.0</td>\n",
       "      <td>0.0</td>\n",
       "      <td>0.0</td>\n",
       "      <td>0.0</td>\n",
       "      <td>0.0</td>\n",
       "      <td>0.0</td>\n",
       "    </tr>\n",
       "    <tr>\n",
       "      <th>2</th>\n",
       "      <td>100004</td>\n",
       "      <td>0</td>\n",
       "      <td>Revolving loans</td>\n",
       "      <td>M</td>\n",
       "      <td>Y</td>\n",
       "      <td>Y</td>\n",
       "      <td>0</td>\n",
       "      <td>67500.0</td>\n",
       "      <td>135000.0</td>\n",
       "      <td>6750.0</td>\n",
       "      <td>...</td>\n",
       "      <td>0</td>\n",
       "      <td>0</td>\n",
       "      <td>0</td>\n",
       "      <td>0</td>\n",
       "      <td>0.0</td>\n",
       "      <td>0.0</td>\n",
       "      <td>0.0</td>\n",
       "      <td>0.0</td>\n",
       "      <td>0.0</td>\n",
       "      <td>0.0</td>\n",
       "    </tr>\n",
       "    <tr>\n",
       "      <th>3</th>\n",
       "      <td>100006</td>\n",
       "      <td>0</td>\n",
       "      <td>Cash loans</td>\n",
       "      <td>F</td>\n",
       "      <td>N</td>\n",
       "      <td>Y</td>\n",
       "      <td>0</td>\n",
       "      <td>135000.0</td>\n",
       "      <td>312682.5</td>\n",
       "      <td>29686.5</td>\n",
       "      <td>...</td>\n",
       "      <td>0</td>\n",
       "      <td>0</td>\n",
       "      <td>0</td>\n",
       "      <td>0</td>\n",
       "      <td>NaN</td>\n",
       "      <td>NaN</td>\n",
       "      <td>NaN</td>\n",
       "      <td>NaN</td>\n",
       "      <td>NaN</td>\n",
       "      <td>NaN</td>\n",
       "    </tr>\n",
       "    <tr>\n",
       "      <th>4</th>\n",
       "      <td>100007</td>\n",
       "      <td>0</td>\n",
       "      <td>Cash loans</td>\n",
       "      <td>M</td>\n",
       "      <td>N</td>\n",
       "      <td>Y</td>\n",
       "      <td>0</td>\n",
       "      <td>121500.0</td>\n",
       "      <td>513000.0</td>\n",
       "      <td>21865.5</td>\n",
       "      <td>...</td>\n",
       "      <td>0</td>\n",
       "      <td>0</td>\n",
       "      <td>0</td>\n",
       "      <td>0</td>\n",
       "      <td>0.0</td>\n",
       "      <td>0.0</td>\n",
       "      <td>0.0</td>\n",
       "      <td>0.0</td>\n",
       "      <td>0.0</td>\n",
       "      <td>0.0</td>\n",
       "    </tr>\n",
       "  </tbody>\n",
       "</table>\n",
       "<p>5 rows × 122 columns</p>\n",
       "</div>"
      ],
      "text/plain": [
       "   SK_ID_CURR  TARGET NAME_CONTRACT_TYPE CODE_GENDER FLAG_OWN_CAR  \\\n",
       "0      100002       1         Cash loans           M            N   \n",
       "1      100003       0         Cash loans           F            N   \n",
       "2      100004       0    Revolving loans           M            Y   \n",
       "3      100006       0         Cash loans           F            N   \n",
       "4      100007       0         Cash loans           M            N   \n",
       "\n",
       "  FLAG_OWN_REALTY  CNT_CHILDREN  AMT_INCOME_TOTAL  AMT_CREDIT  AMT_ANNUITY  \\\n",
       "0               Y             0          202500.0    406597.5      24700.5   \n",
       "1               N             0          270000.0   1293502.5      35698.5   \n",
       "2               Y             0           67500.0    135000.0       6750.0   \n",
       "3               Y             0          135000.0    312682.5      29686.5   \n",
       "4               Y             0          121500.0    513000.0      21865.5   \n",
       "\n",
       "   ...  FLAG_DOCUMENT_18 FLAG_DOCUMENT_19 FLAG_DOCUMENT_20 FLAG_DOCUMENT_21  \\\n",
       "0  ...                 0                0                0                0   \n",
       "1  ...                 0                0                0                0   \n",
       "2  ...                 0                0                0                0   \n",
       "3  ...                 0                0                0                0   \n",
       "4  ...                 0                0                0                0   \n",
       "\n",
       "  AMT_REQ_CREDIT_BUREAU_HOUR AMT_REQ_CREDIT_BUREAU_DAY  \\\n",
       "0                        0.0                       0.0   \n",
       "1                        0.0                       0.0   \n",
       "2                        0.0                       0.0   \n",
       "3                        NaN                       NaN   \n",
       "4                        0.0                       0.0   \n",
       "\n",
       "   AMT_REQ_CREDIT_BUREAU_WEEK  AMT_REQ_CREDIT_BUREAU_MON  \\\n",
       "0                         0.0                        0.0   \n",
       "1                         0.0                        0.0   \n",
       "2                         0.0                        0.0   \n",
       "3                         NaN                        NaN   \n",
       "4                         0.0                        0.0   \n",
       "\n",
       "   AMT_REQ_CREDIT_BUREAU_QRT  AMT_REQ_CREDIT_BUREAU_YEAR  \n",
       "0                        0.0                         1.0  \n",
       "1                        0.0                         0.0  \n",
       "2                        0.0                         0.0  \n",
       "3                        NaN                         NaN  \n",
       "4                        0.0                         0.0  \n",
       "\n",
       "[5 rows x 122 columns]"
      ]
     },
     "execution_count": 5,
     "metadata": {},
     "output_type": "execute_result"
    }
   ],
   "source": [
    "df.head()"
   ]
  },
  {
   "cell_type": "code",
   "execution_count": 6,
   "id": "ee71be53-6916-4136-afd1-1d4ebaae4d0a",
   "metadata": {
    "tags": []
   },
   "outputs": [
    {
     "data": {
      "text/html": [
       "<div>\n",
       "<style scoped>\n",
       "    .dataframe tbody tr th:only-of-type {\n",
       "        vertical-align: middle;\n",
       "    }\n",
       "\n",
       "    .dataframe tbody tr th {\n",
       "        vertical-align: top;\n",
       "    }\n",
       "\n",
       "    .dataframe thead th {\n",
       "        text-align: right;\n",
       "    }\n",
       "</style>\n",
       "<table border=\"1\" class=\"dataframe\">\n",
       "  <thead>\n",
       "    <tr style=\"text-align: right;\">\n",
       "      <th></th>\n",
       "      <th>SK_ID_PREV</th>\n",
       "      <th>SK_ID_CURR</th>\n",
       "      <th>NAME_CONTRACT_TYPE</th>\n",
       "      <th>AMT_ANNUITY</th>\n",
       "      <th>AMT_APPLICATION</th>\n",
       "      <th>AMT_CREDIT</th>\n",
       "      <th>AMT_DOWN_PAYMENT</th>\n",
       "      <th>AMT_GOODS_PRICE</th>\n",
       "      <th>WEEKDAY_APPR_PROCESS_START</th>\n",
       "      <th>HOUR_APPR_PROCESS_START</th>\n",
       "      <th>...</th>\n",
       "      <th>NAME_SELLER_INDUSTRY</th>\n",
       "      <th>CNT_PAYMENT</th>\n",
       "      <th>NAME_YIELD_GROUP</th>\n",
       "      <th>PRODUCT_COMBINATION</th>\n",
       "      <th>DAYS_FIRST_DRAWING</th>\n",
       "      <th>DAYS_FIRST_DUE</th>\n",
       "      <th>DAYS_LAST_DUE_1ST_VERSION</th>\n",
       "      <th>DAYS_LAST_DUE</th>\n",
       "      <th>DAYS_TERMINATION</th>\n",
       "      <th>NFLAG_INSURED_ON_APPROVAL</th>\n",
       "    </tr>\n",
       "  </thead>\n",
       "  <tbody>\n",
       "    <tr>\n",
       "      <th>0</th>\n",
       "      <td>2030495</td>\n",
       "      <td>271877</td>\n",
       "      <td>Consumer loans</td>\n",
       "      <td>1730.430</td>\n",
       "      <td>17145.0</td>\n",
       "      <td>17145.0</td>\n",
       "      <td>0.0</td>\n",
       "      <td>17145.0</td>\n",
       "      <td>SATURDAY</td>\n",
       "      <td>15</td>\n",
       "      <td>...</td>\n",
       "      <td>Connectivity</td>\n",
       "      <td>12.0</td>\n",
       "      <td>middle</td>\n",
       "      <td>POS mobile with interest</td>\n",
       "      <td>365243.0</td>\n",
       "      <td>-42.0</td>\n",
       "      <td>300.0</td>\n",
       "      <td>-42.0</td>\n",
       "      <td>-37.0</td>\n",
       "      <td>0.0</td>\n",
       "    </tr>\n",
       "    <tr>\n",
       "      <th>1</th>\n",
       "      <td>2802425</td>\n",
       "      <td>108129</td>\n",
       "      <td>Cash loans</td>\n",
       "      <td>25188.615</td>\n",
       "      <td>607500.0</td>\n",
       "      <td>679671.0</td>\n",
       "      <td>NaN</td>\n",
       "      <td>607500.0</td>\n",
       "      <td>THURSDAY</td>\n",
       "      <td>11</td>\n",
       "      <td>...</td>\n",
       "      <td>XNA</td>\n",
       "      <td>36.0</td>\n",
       "      <td>low_action</td>\n",
       "      <td>Cash X-Sell: low</td>\n",
       "      <td>365243.0</td>\n",
       "      <td>-134.0</td>\n",
       "      <td>916.0</td>\n",
       "      <td>365243.0</td>\n",
       "      <td>365243.0</td>\n",
       "      <td>1.0</td>\n",
       "    </tr>\n",
       "    <tr>\n",
       "      <th>2</th>\n",
       "      <td>2523466</td>\n",
       "      <td>122040</td>\n",
       "      <td>Cash loans</td>\n",
       "      <td>15060.735</td>\n",
       "      <td>112500.0</td>\n",
       "      <td>136444.5</td>\n",
       "      <td>NaN</td>\n",
       "      <td>112500.0</td>\n",
       "      <td>TUESDAY</td>\n",
       "      <td>11</td>\n",
       "      <td>...</td>\n",
       "      <td>XNA</td>\n",
       "      <td>12.0</td>\n",
       "      <td>high</td>\n",
       "      <td>Cash X-Sell: high</td>\n",
       "      <td>365243.0</td>\n",
       "      <td>-271.0</td>\n",
       "      <td>59.0</td>\n",
       "      <td>365243.0</td>\n",
       "      <td>365243.0</td>\n",
       "      <td>1.0</td>\n",
       "    </tr>\n",
       "    <tr>\n",
       "      <th>3</th>\n",
       "      <td>2819243</td>\n",
       "      <td>176158</td>\n",
       "      <td>Cash loans</td>\n",
       "      <td>47041.335</td>\n",
       "      <td>450000.0</td>\n",
       "      <td>470790.0</td>\n",
       "      <td>NaN</td>\n",
       "      <td>450000.0</td>\n",
       "      <td>MONDAY</td>\n",
       "      <td>7</td>\n",
       "      <td>...</td>\n",
       "      <td>XNA</td>\n",
       "      <td>12.0</td>\n",
       "      <td>middle</td>\n",
       "      <td>Cash X-Sell: middle</td>\n",
       "      <td>365243.0</td>\n",
       "      <td>-482.0</td>\n",
       "      <td>-152.0</td>\n",
       "      <td>-182.0</td>\n",
       "      <td>-177.0</td>\n",
       "      <td>1.0</td>\n",
       "    </tr>\n",
       "    <tr>\n",
       "      <th>4</th>\n",
       "      <td>1784265</td>\n",
       "      <td>202054</td>\n",
       "      <td>Cash loans</td>\n",
       "      <td>31924.395</td>\n",
       "      <td>337500.0</td>\n",
       "      <td>404055.0</td>\n",
       "      <td>NaN</td>\n",
       "      <td>337500.0</td>\n",
       "      <td>THURSDAY</td>\n",
       "      <td>9</td>\n",
       "      <td>...</td>\n",
       "      <td>XNA</td>\n",
       "      <td>24.0</td>\n",
       "      <td>high</td>\n",
       "      <td>Cash Street: high</td>\n",
       "      <td>NaN</td>\n",
       "      <td>NaN</td>\n",
       "      <td>NaN</td>\n",
       "      <td>NaN</td>\n",
       "      <td>NaN</td>\n",
       "      <td>NaN</td>\n",
       "    </tr>\n",
       "  </tbody>\n",
       "</table>\n",
       "<p>5 rows × 37 columns</p>\n",
       "</div>"
      ],
      "text/plain": [
       "   SK_ID_PREV  SK_ID_CURR NAME_CONTRACT_TYPE  AMT_ANNUITY  AMT_APPLICATION  \\\n",
       "0     2030495      271877     Consumer loans     1730.430          17145.0   \n",
       "1     2802425      108129         Cash loans    25188.615         607500.0   \n",
       "2     2523466      122040         Cash loans    15060.735         112500.0   \n",
       "3     2819243      176158         Cash loans    47041.335         450000.0   \n",
       "4     1784265      202054         Cash loans    31924.395         337500.0   \n",
       "\n",
       "   AMT_CREDIT  AMT_DOWN_PAYMENT  AMT_GOODS_PRICE WEEKDAY_APPR_PROCESS_START  \\\n",
       "0     17145.0               0.0          17145.0                   SATURDAY   \n",
       "1    679671.0               NaN         607500.0                   THURSDAY   \n",
       "2    136444.5               NaN         112500.0                    TUESDAY   \n",
       "3    470790.0               NaN         450000.0                     MONDAY   \n",
       "4    404055.0               NaN         337500.0                   THURSDAY   \n",
       "\n",
       "   HOUR_APPR_PROCESS_START  ... NAME_SELLER_INDUSTRY  CNT_PAYMENT  \\\n",
       "0                       15  ...         Connectivity         12.0   \n",
       "1                       11  ...                  XNA         36.0   \n",
       "2                       11  ...                  XNA         12.0   \n",
       "3                        7  ...                  XNA         12.0   \n",
       "4                        9  ...                  XNA         24.0   \n",
       "\n",
       "   NAME_YIELD_GROUP       PRODUCT_COMBINATION  DAYS_FIRST_DRAWING  \\\n",
       "0            middle  POS mobile with interest            365243.0   \n",
       "1        low_action          Cash X-Sell: low            365243.0   \n",
       "2              high         Cash X-Sell: high            365243.0   \n",
       "3            middle       Cash X-Sell: middle            365243.0   \n",
       "4              high         Cash Street: high                 NaN   \n",
       "\n",
       "  DAYS_FIRST_DUE DAYS_LAST_DUE_1ST_VERSION  DAYS_LAST_DUE DAYS_TERMINATION  \\\n",
       "0          -42.0                     300.0          -42.0            -37.0   \n",
       "1         -134.0                     916.0       365243.0         365243.0   \n",
       "2         -271.0                      59.0       365243.0         365243.0   \n",
       "3         -482.0                    -152.0         -182.0           -177.0   \n",
       "4            NaN                       NaN            NaN              NaN   \n",
       "\n",
       "  NFLAG_INSURED_ON_APPROVAL  \n",
       "0                       0.0  \n",
       "1                       1.0  \n",
       "2                       1.0  \n",
       "3                       1.0  \n",
       "4                       NaN  \n",
       "\n",
       "[5 rows x 37 columns]"
      ]
     },
     "execution_count": 6,
     "metadata": {},
     "output_type": "execute_result"
    }
   ],
   "source": [
    "df1.head()"
   ]
  },
  {
   "cell_type": "code",
   "execution_count": 7,
   "id": "58dcdfab-3014-4a81-a589-2023e74ef776",
   "metadata": {
    "tags": []
   },
   "outputs": [
    {
     "data": {
      "text/html": [
       "<div>\n",
       "<style scoped>\n",
       "    .dataframe tbody tr th:only-of-type {\n",
       "        vertical-align: middle;\n",
       "    }\n",
       "\n",
       "    .dataframe tbody tr th {\n",
       "        vertical-align: top;\n",
       "    }\n",
       "\n",
       "    .dataframe thead th {\n",
       "        text-align: right;\n",
       "    }\n",
       "</style>\n",
       "<table border=\"1\" class=\"dataframe\">\n",
       "  <thead>\n",
       "    <tr style=\"text-align: right;\">\n",
       "      <th></th>\n",
       "      <th>SK_ID_CURR</th>\n",
       "      <th>TARGET</th>\n",
       "      <th>CNT_CHILDREN</th>\n",
       "      <th>AMT_INCOME_TOTAL</th>\n",
       "      <th>AMT_CREDIT</th>\n",
       "      <th>AMT_ANNUITY</th>\n",
       "      <th>AMT_GOODS_PRICE</th>\n",
       "      <th>REGION_POPULATION_RELATIVE</th>\n",
       "      <th>DAYS_BIRTH</th>\n",
       "      <th>DAYS_EMPLOYED</th>\n",
       "      <th>...</th>\n",
       "      <th>FLAG_DOCUMENT_18</th>\n",
       "      <th>FLAG_DOCUMENT_19</th>\n",
       "      <th>FLAG_DOCUMENT_20</th>\n",
       "      <th>FLAG_DOCUMENT_21</th>\n",
       "      <th>AMT_REQ_CREDIT_BUREAU_HOUR</th>\n",
       "      <th>AMT_REQ_CREDIT_BUREAU_DAY</th>\n",
       "      <th>AMT_REQ_CREDIT_BUREAU_WEEK</th>\n",
       "      <th>AMT_REQ_CREDIT_BUREAU_MON</th>\n",
       "      <th>AMT_REQ_CREDIT_BUREAU_QRT</th>\n",
       "      <th>AMT_REQ_CREDIT_BUREAU_YEAR</th>\n",
       "    </tr>\n",
       "  </thead>\n",
       "  <tbody>\n",
       "    <tr>\n",
       "      <th>count</th>\n",
       "      <td>49999.000000</td>\n",
       "      <td>49999.000000</td>\n",
       "      <td>49999.000000</td>\n",
       "      <td>4.999900e+04</td>\n",
       "      <td>4.999900e+04</td>\n",
       "      <td>49998.000000</td>\n",
       "      <td>4.996100e+04</td>\n",
       "      <td>49999.000000</td>\n",
       "      <td>49999.000000</td>\n",
       "      <td>49999.000000</td>\n",
       "      <td>...</td>\n",
       "      <td>49999.000000</td>\n",
       "      <td>49999.000000</td>\n",
       "      <td>49999.000000</td>\n",
       "      <td>49999.00000</td>\n",
       "      <td>43265.000000</td>\n",
       "      <td>43265.000000</td>\n",
       "      <td>43265.000000</td>\n",
       "      <td>43265.000000</td>\n",
       "      <td>43265.000000</td>\n",
       "      <td>43265.000000</td>\n",
       "    </tr>\n",
       "    <tr>\n",
       "      <th>mean</th>\n",
       "      <td>129013.210584</td>\n",
       "      <td>0.080522</td>\n",
       "      <td>0.419848</td>\n",
       "      <td>1.707676e+05</td>\n",
       "      <td>5.997006e+05</td>\n",
       "      <td>27107.377355</td>\n",
       "      <td>5.390600e+05</td>\n",
       "      <td>0.020798</td>\n",
       "      <td>-16022.042081</td>\n",
       "      <td>63219.424488</td>\n",
       "      <td>...</td>\n",
       "      <td>0.008500</td>\n",
       "      <td>0.000700</td>\n",
       "      <td>0.000520</td>\n",
       "      <td>0.00038</td>\n",
       "      <td>0.007096</td>\n",
       "      <td>0.007512</td>\n",
       "      <td>0.032382</td>\n",
       "      <td>0.270288</td>\n",
       "      <td>0.260973</td>\n",
       "      <td>1.881035</td>\n",
       "    </tr>\n",
       "    <tr>\n",
       "      <th>std</th>\n",
       "      <td>16690.512048</td>\n",
       "      <td>0.272102</td>\n",
       "      <td>0.724039</td>\n",
       "      <td>5.318191e+05</td>\n",
       "      <td>4.024154e+05</td>\n",
       "      <td>14562.944435</td>\n",
       "      <td>3.698533e+05</td>\n",
       "      <td>0.013761</td>\n",
       "      <td>4361.400270</td>\n",
       "      <td>140794.605668</td>\n",
       "      <td>...</td>\n",
       "      <td>0.091805</td>\n",
       "      <td>0.026449</td>\n",
       "      <td>0.022798</td>\n",
       "      <td>0.01949</td>\n",
       "      <td>0.087709</td>\n",
       "      <td>0.107992</td>\n",
       "      <td>0.194080</td>\n",
       "      <td>0.928560</td>\n",
       "      <td>0.606996</td>\n",
       "      <td>1.865054</td>\n",
       "    </tr>\n",
       "    <tr>\n",
       "      <th>min</th>\n",
       "      <td>100002.000000</td>\n",
       "      <td>0.000000</td>\n",
       "      <td>0.000000</td>\n",
       "      <td>2.565000e+04</td>\n",
       "      <td>4.500000e+04</td>\n",
       "      <td>2052.000000</td>\n",
       "      <td>4.500000e+04</td>\n",
       "      <td>0.000533</td>\n",
       "      <td>-25184.000000</td>\n",
       "      <td>-17531.000000</td>\n",
       "      <td>...</td>\n",
       "      <td>0.000000</td>\n",
       "      <td>0.000000</td>\n",
       "      <td>0.000000</td>\n",
       "      <td>0.00000</td>\n",
       "      <td>0.000000</td>\n",
       "      <td>0.000000</td>\n",
       "      <td>0.000000</td>\n",
       "      <td>0.000000</td>\n",
       "      <td>0.000000</td>\n",
       "      <td>0.000000</td>\n",
       "    </tr>\n",
       "    <tr>\n",
       "      <th>25%</th>\n",
       "      <td>114570.500000</td>\n",
       "      <td>0.000000</td>\n",
       "      <td>0.000000</td>\n",
       "      <td>1.125000e+05</td>\n",
       "      <td>2.700000e+05</td>\n",
       "      <td>16456.500000</td>\n",
       "      <td>2.385000e+05</td>\n",
       "      <td>0.010006</td>\n",
       "      <td>-19644.000000</td>\n",
       "      <td>-2786.000000</td>\n",
       "      <td>...</td>\n",
       "      <td>0.000000</td>\n",
       "      <td>0.000000</td>\n",
       "      <td>0.000000</td>\n",
       "      <td>0.00000</td>\n",
       "      <td>0.000000</td>\n",
       "      <td>0.000000</td>\n",
       "      <td>0.000000</td>\n",
       "      <td>0.000000</td>\n",
       "      <td>0.000000</td>\n",
       "      <td>0.000000</td>\n",
       "    </tr>\n",
       "    <tr>\n",
       "      <th>50%</th>\n",
       "      <td>129076.000000</td>\n",
       "      <td>0.000000</td>\n",
       "      <td>0.000000</td>\n",
       "      <td>1.458000e+05</td>\n",
       "      <td>5.147775e+05</td>\n",
       "      <td>24939.000000</td>\n",
       "      <td>4.500000e+05</td>\n",
       "      <td>0.018850</td>\n",
       "      <td>-15731.000000</td>\n",
       "      <td>-1221.000000</td>\n",
       "      <td>...</td>\n",
       "      <td>0.000000</td>\n",
       "      <td>0.000000</td>\n",
       "      <td>0.000000</td>\n",
       "      <td>0.00000</td>\n",
       "      <td>0.000000</td>\n",
       "      <td>0.000000</td>\n",
       "      <td>0.000000</td>\n",
       "      <td>0.000000</td>\n",
       "      <td>0.000000</td>\n",
       "      <td>1.000000</td>\n",
       "    </tr>\n",
       "    <tr>\n",
       "      <th>75%</th>\n",
       "      <td>143438.500000</td>\n",
       "      <td>0.000000</td>\n",
       "      <td>1.000000</td>\n",
       "      <td>2.025000e+05</td>\n",
       "      <td>8.086500e+05</td>\n",
       "      <td>34596.000000</td>\n",
       "      <td>6.795000e+05</td>\n",
       "      <td>0.028663</td>\n",
       "      <td>-12378.500000</td>\n",
       "      <td>-292.000000</td>\n",
       "      <td>...</td>\n",
       "      <td>0.000000</td>\n",
       "      <td>0.000000</td>\n",
       "      <td>0.000000</td>\n",
       "      <td>0.00000</td>\n",
       "      <td>0.000000</td>\n",
       "      <td>0.000000</td>\n",
       "      <td>0.000000</td>\n",
       "      <td>0.000000</td>\n",
       "      <td>0.000000</td>\n",
       "      <td>3.000000</td>\n",
       "    </tr>\n",
       "    <tr>\n",
       "      <th>max</th>\n",
       "      <td>157875.000000</td>\n",
       "      <td>1.000000</td>\n",
       "      <td>11.000000</td>\n",
       "      <td>1.170000e+08</td>\n",
       "      <td>4.050000e+06</td>\n",
       "      <td>258025.500000</td>\n",
       "      <td>4.050000e+06</td>\n",
       "      <td>0.072508</td>\n",
       "      <td>-7680.000000</td>\n",
       "      <td>365243.000000</td>\n",
       "      <td>...</td>\n",
       "      <td>1.000000</td>\n",
       "      <td>1.000000</td>\n",
       "      <td>1.000000</td>\n",
       "      <td>1.00000</td>\n",
       "      <td>3.000000</td>\n",
       "      <td>6.000000</td>\n",
       "      <td>6.000000</td>\n",
       "      <td>24.000000</td>\n",
       "      <td>8.000000</td>\n",
       "      <td>25.000000</td>\n",
       "    </tr>\n",
       "  </tbody>\n",
       "</table>\n",
       "<p>8 rows × 106 columns</p>\n",
       "</div>"
      ],
      "text/plain": [
       "          SK_ID_CURR        TARGET  CNT_CHILDREN  AMT_INCOME_TOTAL  \\\n",
       "count   49999.000000  49999.000000  49999.000000      4.999900e+04   \n",
       "mean   129013.210584      0.080522      0.419848      1.707676e+05   \n",
       "std     16690.512048      0.272102      0.724039      5.318191e+05   \n",
       "min    100002.000000      0.000000      0.000000      2.565000e+04   \n",
       "25%    114570.500000      0.000000      0.000000      1.125000e+05   \n",
       "50%    129076.000000      0.000000      0.000000      1.458000e+05   \n",
       "75%    143438.500000      0.000000      1.000000      2.025000e+05   \n",
       "max    157875.000000      1.000000     11.000000      1.170000e+08   \n",
       "\n",
       "         AMT_CREDIT    AMT_ANNUITY  AMT_GOODS_PRICE  \\\n",
       "count  4.999900e+04   49998.000000     4.996100e+04   \n",
       "mean   5.997006e+05   27107.377355     5.390600e+05   \n",
       "std    4.024154e+05   14562.944435     3.698533e+05   \n",
       "min    4.500000e+04    2052.000000     4.500000e+04   \n",
       "25%    2.700000e+05   16456.500000     2.385000e+05   \n",
       "50%    5.147775e+05   24939.000000     4.500000e+05   \n",
       "75%    8.086500e+05   34596.000000     6.795000e+05   \n",
       "max    4.050000e+06  258025.500000     4.050000e+06   \n",
       "\n",
       "       REGION_POPULATION_RELATIVE    DAYS_BIRTH  DAYS_EMPLOYED  ...  \\\n",
       "count                49999.000000  49999.000000   49999.000000  ...   \n",
       "mean                     0.020798 -16022.042081   63219.424488  ...   \n",
       "std                      0.013761   4361.400270  140794.605668  ...   \n",
       "min                      0.000533 -25184.000000  -17531.000000  ...   \n",
       "25%                      0.010006 -19644.000000   -2786.000000  ...   \n",
       "50%                      0.018850 -15731.000000   -1221.000000  ...   \n",
       "75%                      0.028663 -12378.500000    -292.000000  ...   \n",
       "max                      0.072508  -7680.000000  365243.000000  ...   \n",
       "\n",
       "       FLAG_DOCUMENT_18  FLAG_DOCUMENT_19  FLAG_DOCUMENT_20  FLAG_DOCUMENT_21  \\\n",
       "count      49999.000000      49999.000000      49999.000000       49999.00000   \n",
       "mean           0.008500          0.000700          0.000520           0.00038   \n",
       "std            0.091805          0.026449          0.022798           0.01949   \n",
       "min            0.000000          0.000000          0.000000           0.00000   \n",
       "25%            0.000000          0.000000          0.000000           0.00000   \n",
       "50%            0.000000          0.000000          0.000000           0.00000   \n",
       "75%            0.000000          0.000000          0.000000           0.00000   \n",
       "max            1.000000          1.000000          1.000000           1.00000   \n",
       "\n",
       "       AMT_REQ_CREDIT_BUREAU_HOUR  AMT_REQ_CREDIT_BUREAU_DAY  \\\n",
       "count                43265.000000               43265.000000   \n",
       "mean                     0.007096                   0.007512   \n",
       "std                      0.087709                   0.107992   \n",
       "min                      0.000000                   0.000000   \n",
       "25%                      0.000000                   0.000000   \n",
       "50%                      0.000000                   0.000000   \n",
       "75%                      0.000000                   0.000000   \n",
       "max                      3.000000                   6.000000   \n",
       "\n",
       "       AMT_REQ_CREDIT_BUREAU_WEEK  AMT_REQ_CREDIT_BUREAU_MON  \\\n",
       "count                43265.000000               43265.000000   \n",
       "mean                     0.032382                   0.270288   \n",
       "std                      0.194080                   0.928560   \n",
       "min                      0.000000                   0.000000   \n",
       "25%                      0.000000                   0.000000   \n",
       "50%                      0.000000                   0.000000   \n",
       "75%                      0.000000                   0.000000   \n",
       "max                      6.000000                  24.000000   \n",
       "\n",
       "       AMT_REQ_CREDIT_BUREAU_QRT  AMT_REQ_CREDIT_BUREAU_YEAR  \n",
       "count               43265.000000                43265.000000  \n",
       "mean                    0.260973                    1.881035  \n",
       "std                     0.606996                    1.865054  \n",
       "min                     0.000000                    0.000000  \n",
       "25%                     0.000000                    0.000000  \n",
       "50%                     0.000000                    1.000000  \n",
       "75%                     0.000000                    3.000000  \n",
       "max                     8.000000                   25.000000  \n",
       "\n",
       "[8 rows x 106 columns]"
      ]
     },
     "execution_count": 7,
     "metadata": {},
     "output_type": "execute_result"
    }
   ],
   "source": [
    "df.describe()"
   ]
  },
  {
   "cell_type": "code",
   "execution_count": 8,
   "id": "e5b85c92-995d-41ff-8d31-069ae648ab5c",
   "metadata": {},
   "outputs": [
    {
     "data": {
      "text/plain": [
       "(49999, 122)"
      ]
     },
     "execution_count": 8,
     "metadata": {},
     "output_type": "execute_result"
    }
   ],
   "source": [
    "df.shape"
   ]
  },
  {
   "cell_type": "code",
   "execution_count": 9,
   "id": "b5c62cdd-e70b-43a6-8077-0a1956c4b159",
   "metadata": {},
   "outputs": [
    {
     "ename": "SyntaxError",
     "evalue": "invalid syntax (2769617767.py, line 1)",
     "output_type": "error",
     "traceback": [
      "\u001b[1;36m  Cell \u001b[1;32mIn[9], line 1\u001b[1;36m\u001b[0m\n\u001b[1;33m    df1.\u001b[0m\n\u001b[1;37m        ^\u001b[0m\n\u001b[1;31mSyntaxError\u001b[0m\u001b[1;31m:\u001b[0m invalid syntax\n"
     ]
    }
   ],
   "source": [
    "df1."
   ]
  },
  {
   "cell_type": "code",
   "execution_count": null,
   "id": "b7bfda07-e693-4255-9132-7cfa033d52d6",
   "metadata": {
    "tags": []
   },
   "outputs": [],
   "source": [
    "df.nunique()"
   ]
  },
  {
   "cell_type": "code",
   "execution_count": null,
   "id": "70ebccd4-2ff7-4637-a035-cef1b0da4823",
   "metadata": {
    "tags": []
   },
   "outputs": [],
   "source": [
    "df.info(verbose =True)"
   ]
  },
  {
   "cell_type": "code",
   "execution_count": null,
   "id": "e8421722-54e6-4b88-a2f3-79209f5b0459",
   "metadata": {
    "tags": []
   },
   "outputs": [],
   "source": [
    "df.info(show_counts=True,verbose=True)"
   ]
  },
  {
   "cell_type": "code",
   "execution_count": null,
   "id": "4d705a48-7294-4827-bcab-0bb00f509df0",
   "metadata": {
    "tags": []
   },
   "outputs": [],
   "source": [
    "df.isnull().sum()"
   ]
  },
  {
   "cell_type": "code",
   "execution_count": null,
   "id": "88294a48-0ca7-47c3-97ff-c8e8f7c9ac30",
   "metadata": {
    "tags": []
   },
   "outputs": [],
   "source": [
    "pd.isnull(df)"
   ]
  },
  {
   "cell_type": "code",
   "execution_count": null,
   "id": "78ab0404-4e85-4ea4-99b3-f6a334164bc0",
   "metadata": {
    "tags": []
   },
   "outputs": [],
   "source": [
    "df.isnull()"
   ]
  },
  {
   "cell_type": "code",
   "execution_count": null,
   "id": "a1fe19f4-bcb6-4468-a29e-31edef94cdfd",
   "metadata": {
    "tags": []
   },
   "outputs": [],
   "source": [
    "df['AMT_REQ_CREDIT_BUREAU_WEEK'].isnull().sum()"
   ]
  },
  {
   "cell_type": "code",
   "execution_count": null,
   "id": "6743bfeb-5dd4-432d-9ad0-a0b3f8bd47ab",
   "metadata": {
    "tags": []
   },
   "outputs": [],
   "source": [
    "round(100*df.isnull().mean(),2)"
   ]
  },
  {
   "cell_type": "code",
   "execution_count": null,
   "id": "b4d6263c-fb04-437d-ab2c-20f47bd0e696",
   "metadata": {
    "tags": []
   },
   "outputs": [],
   "source": [
    "round(100*df.isnull().mean(),1)"
   ]
  },
  {
   "cell_type": "code",
   "execution_count": null,
   "id": "d40a18d7-7445-46ea-a635-face505b515f",
   "metadata": {
    "tags": []
   },
   "outputs": [],
   "source": []
  },
  {
   "cell_type": "code",
   "execution_count": null,
   "id": "7e5e29cd-4b06-41a2-9954-9cb8f399a539",
   "metadata": {
    "tags": []
   },
   "outputs": [],
   "source": []
  },
  {
   "cell_type": "code",
   "execution_count": 33,
   "id": "a469518b-191e-426d-a2e4-a7a632983e72",
   "metadata": {},
   "outputs": [
    {
     "data": {
      "text/plain": [
       "Index(['SK_ID_CURR', 'TARGET', 'NAME_CONTRACT_TYPE', 'CODE_GENDER',\n",
       "       'FLAG_OWN_CAR', 'FLAG_OWN_REALTY', 'CNT_CHILDREN', 'AMT_INCOME_TOTAL',\n",
       "       'AMT_CREDIT', 'AMT_ANNUITY',\n",
       "       ...\n",
       "       'FLAG_DOCUMENT_18', 'FLAG_DOCUMENT_19', 'FLAG_DOCUMENT_20',\n",
       "       'FLAG_DOCUMENT_21', 'AMT_REQ_CREDIT_BUREAU_HOUR',\n",
       "       'AMT_REQ_CREDIT_BUREAU_DAY', 'AMT_REQ_CREDIT_BUREAU_WEEK',\n",
       "       'AMT_REQ_CREDIT_BUREAU_MON', 'AMT_REQ_CREDIT_BUREAU_QRT',\n",
       "       'AMT_REQ_CREDIT_BUREAU_YEAR'],\n",
       "      dtype='object', length=122)"
      ]
     },
     "execution_count": 33,
     "metadata": {},
     "output_type": "execute_result"
    }
   ],
   "source": [
    "df.columns"
   ]
  },
  {
   "cell_type": "code",
   "execution_count": 36,
   "id": "32443062-07bc-437e-9f81-6a4cd4d8c3dc",
   "metadata": {
    "tags": []
   },
   "outputs": [],
   "source": [
    "df = devesh.fix_col(df)"
   ]
  },
  {
   "cell_type": "code",
   "execution_count": 37,
   "id": "d5f341c5-fe3d-4251-8358-33c1291f41a3",
   "metadata": {
    "tags": []
   },
   "outputs": [
    {
     "data": {
      "text/plain": [
       "Index(['sk_id_curr', 'target', 'name_contract_type', 'code_gender',\n",
       "       'flag_own_car', 'flag_own_realty', 'cnt_children', 'amt_income_total',\n",
       "       'amt_credit', 'amt_annuity',\n",
       "       ...\n",
       "       'flag_document_18', 'flag_document_19', 'flag_document_20',\n",
       "       'flag_document_21', 'amt_req_credit_bureau_hour',\n",
       "       'amt_req_credit_bureau_day', 'amt_req_credit_bureau_week',\n",
       "       'amt_req_credit_bureau_mon', 'amt_req_credit_bureau_qrt',\n",
       "       'amt_req_credit_bureau_year'],\n",
       "      dtype='object', length=122)"
      ]
     },
     "execution_count": 37,
     "metadata": {},
     "output_type": "execute_result"
    }
   ],
   "source": [
    "df.columns"
   ]
  },
  {
   "cell_type": "code",
   "execution_count": 26,
   "id": "8befd62a-0db5-4f34-b2cf-885ecc2d6d10",
   "metadata": {
    "tags": []
   },
   "outputs": [],
   "source": [
    "new = d.fix_col(df)"
   ]
  },
  {
   "cell_type": "code",
   "execution_count": 63,
   "id": "30bc3538-b9f3-418a-9ff8-fe3b04aa489b",
   "metadata": {
    "tags": []
   },
   "outputs": [
    {
     "data": {
      "text/plain": [
       "sk_id_curr                       0\n",
       "target                           0\n",
       "name_contract_type               0\n",
       "code_gender                      0\n",
       "flag_own_car                     0\n",
       "                              ... \n",
       "amt_req_credit_bureau_day     6734\n",
       "amt_req_credit_bureau_week    6734\n",
       "amt_req_credit_bureau_mon     6734\n",
       "amt_req_credit_bureau_qrt     6734\n",
       "amt_req_credit_bureau_year    6734\n",
       "Length: 122, dtype: int64"
      ]
     },
     "execution_count": 63,
     "metadata": {},
     "output_type": "execute_result"
    }
   ],
   "source": [
    "df.isnull().sum()"
   ]
  },
  {
   "cell_type": "code",
   "execution_count": 66,
   "id": "5f9a4786-9670-492e-9f95-49703445c876",
   "metadata": {
    "tags": []
   },
   "outputs": [],
   "source": [
    "def check_null(df):\n",
    "    a = (100*pd.isnull(df).mean().sort_values(ascending=False))\n",
    "    return a"
   ]
  },
  {
   "cell_type": "code",
   "execution_count": 67,
   "id": "64ad1456-c89d-4519-9876-432d450fe8bf",
   "metadata": {
    "tags": []
   },
   "outputs": [
    {
     "data": {
      "text/plain": [
       "commonarea_medi             69.921398\n",
       "commonarea_avg              69.921398\n",
       "commonarea_mode             69.921398\n",
       "nonlivingapartments_mode    69.429389\n",
       "nonlivingapartments_avg     69.429389\n",
       "                              ...    \n",
       "name_housing_type            0.000000\n",
       "name_family_status           0.000000\n",
       "name_education_type          0.000000\n",
       "name_income_type             0.000000\n",
       "sk_id_curr                   0.000000\n",
       "Length: 122, dtype: float64"
      ]
     },
     "execution_count": 67,
     "metadata": {},
     "output_type": "execute_result"
    }
   ],
   "source": [
    "check_null(df)"
   ]
  },
  {
   "cell_type": "code",
   "execution_count": 81,
   "id": "6cc1d58e-7b3b-47a0-bbaf-3a8ad5c39ad3",
   "metadata": {
    "tags": []
   },
   "outputs": [
    {
     "data": {
      "text/plain": [
       "floorsmax_avg                   49.750995\n",
       "floorsmax_mode                  49.750995\n",
       "floorsmax_medi                  49.750995\n",
       "years_beginexpluatation_avg     48.788976\n",
       "years_beginexpluatation_mode    48.788976\n",
       "years_beginexpluatation_medi    48.788976\n",
       "totalarea_mode                  48.296966\n",
       "emergencystate_mode             47.396948\n",
       "dtype: float64"
      ]
     },
     "execution_count": 81,
     "metadata": {},
     "output_type": "execute_result"
    }
   ],
   "source": [
    "null = check_null(df)[check_null(df)>40]\n",
    "null"
   ]
  },
  {
   "cell_type": "code",
   "execution_count": 82,
   "id": "a0caed5f-fa83-433e-8583-84cfe7429cab",
   "metadata": {
    "tags": []
   },
   "outputs": [],
   "source": [
    "df.drop(columns=null.index,inplace=True)"
   ]
  },
  {
   "cell_type": "code",
   "execution_count": 83,
   "id": "2584ab84-83a5-4d39-bd27-ed1e004c3e1c",
   "metadata": {
    "tags": []
   },
   "outputs": [
    {
     "data": {
      "text/plain": [
       "(49999, 73)"
      ]
     },
     "execution_count": 83,
     "metadata": {},
     "output_type": "execute_result"
    }
   ],
   "source": [
    "df.shape"
   ]
  },
  {
   "cell_type": "code",
   "execution_count": 84,
   "id": "82fa2cd5-7baa-404b-a3ea-c63601635ebd",
   "metadata": {
    "tags": []
   },
   "outputs": [],
   "source": [
    "col_desc = pd.read_csv('columns_description.csv')"
   ]
  },
  {
   "cell_type": "code",
   "execution_count": 91,
   "id": "286b55b2-0944-455e-b261-68ad7c536d11",
   "metadata": {
    "tags": []
   },
   "outputs": [
    {
     "data": {
      "text/plain": [
       "Column No.                                                    13\n",
       "Table                                           application_data\n",
       "Row                                              AMT_GOODS_PRICE\n",
       "Description    For consumer loans it is the price of the good...\n",
       "Special                                                      NaN\n",
       "Name: 10, dtype: object"
      ]
     },
     "execution_count": 91,
     "metadata": {},
     "output_type": "execute_result"
    }
   ],
   "source": []
  },
  {
   "cell_type": "code",
   "execution_count": 92,
   "id": "f8bc1ea1-71c1-455c-9e6f-5cfcdf76a24c",
   "metadata": {
    "tags": []
   },
   "outputs": [
    {
     "data": {
      "text/plain": [
       "SK_ID_PREV                      0.000000\n",
       "SK_ID_CURR                      0.000000\n",
       "NAME_CONTRACT_TYPE              0.000000\n",
       "AMT_ANNUITY                    21.184424\n",
       "AMT_APPLICATION                 0.000000\n",
       "AMT_CREDIT                      0.000000\n",
       "AMT_DOWN_PAYMENT               50.397008\n",
       "AMT_GOODS_PRICE                21.488430\n",
       "WEEKDAY_APPR_PROCESS_START      0.000000\n",
       "HOUR_APPR_PROCESS_START         0.000000\n",
       "FLAG_LAST_APPL_PER_CONTRACT     0.000000\n",
       "NFLAG_LAST_APPL_IN_DAY          0.000000\n",
       "RATE_DOWN_PAYMENT              50.397008\n",
       "RATE_INTEREST_PRIMARY          99.669993\n",
       "RATE_INTEREST_PRIVILEGED       99.669993\n",
       "NAME_CASH_LOAN_PURPOSE          0.000000\n",
       "NAME_CONTRACT_STATUS            0.000000\n",
       "DAYS_DECISION                   0.000000\n",
       "NAME_PAYMENT_TYPE               0.000000\n",
       "CODE_REJECT_REASON              0.000000\n",
       "NAME_TYPE_SUITE                48.486970\n",
       "NAME_CLIENT_TYPE                0.000000\n",
       "NAME_GOODS_CATEGORY             0.000000\n",
       "NAME_PORTFOLIO                  0.000000\n",
       "NAME_PRODUCT_TYPE               0.000000\n",
       "CHANNEL_TYPE                    0.000000\n",
       "SELLERPLACE_AREA                0.000000\n",
       "NAME_SELLER_INDUSTRY            0.000000\n",
       "CNT_PAYMENT                    21.184424\n",
       "NAME_YIELD_GROUP                0.000000\n",
       "PRODUCT_COMBINATION             0.016000\n",
       "DAYS_FIRST_DRAWING             38.320766\n",
       "DAYS_FIRST_DUE                 38.320766\n",
       "DAYS_LAST_DUE_1ST_VERSION      38.320766\n",
       "DAYS_LAST_DUE                  38.320766\n",
       "DAYS_TERMINATION               38.320766\n",
       "NFLAG_INSURED_ON_APPROVAL      38.320766\n",
       "dtype: float64"
      ]
     },
     "execution_count": 92,
     "metadata": {},
     "output_type": "execute_result"
    }
   ],
   "source": [
    "df1.isnull().mean()*100"
   ]
  },
  {
   "cell_type": "code",
   "execution_count": 95,
   "id": "febebd8c-03c0-4d45-9a70-f1752cf4c5ad",
   "metadata": {
    "tags": []
   },
   "outputs": [
    {
     "data": {
      "text/plain": [
       "occupation_type                31.308626\n",
       "ext_source_3                   19.888398\n",
       "amt_req_credit_bureau_year     13.468269\n",
       "amt_req_credit_bureau_qrt      13.468269\n",
       "amt_req_credit_bureau_mon      13.468269\n",
       "                                 ...    \n",
       "reg_region_not_live_region      0.000000\n",
       "reg_region_not_work_region      0.000000\n",
       "live_region_not_work_region     0.000000\n",
       "target                          0.000000\n",
       "reg_city_not_live_city          0.000000\n",
       "Length: 73, dtype: float64"
      ]
     },
     "execution_count": 95,
     "metadata": {},
     "output_type": "execute_result"
    }
   ],
   "source": [
    "df.isnull().mean().sort_values(ascending=False)*100"
   ]
  },
  {
   "cell_type": "code",
   "execution_count": 96,
   "id": "327cab9e-cb16-4d0a-8357-e4ae2eafc8bf",
   "metadata": {
    "tags": []
   },
   "outputs": [
    {
     "data": {
      "text/plain": [
       "RATE_INTEREST_PRIVILEGED       99.669993\n",
       "RATE_INTEREST_PRIMARY          99.669993\n",
       "RATE_DOWN_PAYMENT              50.397008\n",
       "AMT_DOWN_PAYMENT               50.397008\n",
       "NAME_TYPE_SUITE                48.486970\n",
       "NFLAG_INSURED_ON_APPROVAL      38.320766\n",
       "DAYS_FIRST_DRAWING             38.320766\n",
       "DAYS_FIRST_DUE                 38.320766\n",
       "DAYS_LAST_DUE_1ST_VERSION      38.320766\n",
       "DAYS_LAST_DUE                  38.320766\n",
       "DAYS_TERMINATION               38.320766\n",
       "AMT_GOODS_PRICE                21.488430\n",
       "AMT_ANNUITY                    21.184424\n",
       "CNT_PAYMENT                    21.184424\n",
       "PRODUCT_COMBINATION             0.016000\n",
       "CHANNEL_TYPE                    0.000000\n",
       "NAME_PRODUCT_TYPE               0.000000\n",
       "NAME_YIELD_GROUP                0.000000\n",
       "SELLERPLACE_AREA                0.000000\n",
       "NAME_SELLER_INDUSTRY            0.000000\n",
       "NAME_GOODS_CATEGORY             0.000000\n",
       "NAME_PORTFOLIO                  0.000000\n",
       "SK_ID_PREV                      0.000000\n",
       "NAME_CLIENT_TYPE                0.000000\n",
       "CODE_REJECT_REASON              0.000000\n",
       "SK_ID_CURR                      0.000000\n",
       "DAYS_DECISION                   0.000000\n",
       "NAME_CONTRACT_STATUS            0.000000\n",
       "NAME_CASH_LOAN_PURPOSE          0.000000\n",
       "NFLAG_LAST_APPL_IN_DAY          0.000000\n",
       "FLAG_LAST_APPL_PER_CONTRACT     0.000000\n",
       "HOUR_APPR_PROCESS_START         0.000000\n",
       "WEEKDAY_APPR_PROCESS_START      0.000000\n",
       "AMT_CREDIT                      0.000000\n",
       "AMT_APPLICATION                 0.000000\n",
       "NAME_CONTRACT_TYPE              0.000000\n",
       "NAME_PAYMENT_TYPE               0.000000\n",
       "dtype: float64"
      ]
     },
     "execution_count": 96,
     "metadata": {},
     "output_type": "execute_result"
    }
   ],
   "source": [
    "df1.isnull().mean().sort_values(ascending=False)*100"
   ]
  },
  {
   "cell_type": "code",
   "execution_count": 103,
   "id": "9cc71741-0c1a-4d0e-9908-18385732c47a",
   "metadata": {},
   "outputs": [
    {
     "data": {
      "text/plain": [
       "amt_annuity\n",
       "9000.0     1049\n",
       "13500.0     896\n",
       "6750.0      372\n",
       "10125.0     336\n",
       "37800.0     257\n",
       "           ... \n",
       "80194.5       1\n",
       "47871.0       1\n",
       "14935.5       1\n",
       "19539.0       1\n",
       "70357.5       1\n",
       "Name: count, Length: 8807, dtype: int64"
      ]
     },
     "execution_count": 103,
     "metadata": {},
     "output_type": "execute_result"
    }
   ],
   "source": [
    "df.amt_annuity.value_counts()"
   ]
  },
  {
   "cell_type": "code",
   "execution_count": 116,
   "id": "fa6ea255-2b9c-4ad2-9115-1e4190925961",
   "metadata": {
    "tags": []
   },
   "outputs": [
    {
     "data": {
      "text/plain": [
       "<Axes: xlabel='amt_annuity'>"
      ]
     },
     "execution_count": 116,
     "metadata": {},
     "output_type": "execute_result"
    },
    {
     "data": {
      "image/png": "[encoded data removed]",
      "text/plain": [
       "<Figure size 640x480 with 1 Axes>"
      ]
     },
     "metadata": {},
     "output_type": "display_data"
    }
   ],
   "source": [
    "sns.boxplot(x=df.amt_annuity, color ='yellow')"
   ]
  },
  {
   "cell_type": "code",
   "execution_count": 119,
   "id": "4e593742-a532-4858-8f0e-aec44eca6254",
   "metadata": {
    "tags": []
   },
   "outputs": [
    {
     "name": "stdout",
     "output_type": "stream",
     "text": [
      "24939.0\n",
      "27107.377355094202\n"
     ]
    }
   ],
   "source": [
    "print(df.amt_annuity.median())\n",
    "print(df.amt_annuity.mean())"
   ]
  },
  {
   "cell_type": "code",
   "execution_count": 126,
   "id": "20352081-3b5f-4640-b19b-2f23bc477c3b",
   "metadata": {
    "tags": []
   },
   "outputs": [],
   "source": [
    "df.amt_annuity = df.amt_annuity.fillna(df.amt_annuity.median())"
   ]
  },
  {
   "cell_type": "code",
   "execution_count": 127,
   "id": "8160309c-014f-45d4-96fe-0be1603a796f",
   "metadata": {
    "tags": []
   },
   "outputs": [
    {
     "data": {
      "text/plain": [
       "0"
      ]
     },
     "execution_count": 127,
     "metadata": {},
     "output_type": "execute_result"
    }
   ],
   "source": [
    "df.amt_annuity.isna().sum()"
   ]
  },
  {
   "cell_type": "code",
   "execution_count": 129,
   "id": "880c26a8-0bd5-45ed-82e2-7295a18495f0",
   "metadata": {
    "tags": []
   },
   "outputs": [
    {
     "data": {
      "text/plain": [
       "38"
      ]
     },
     "execution_count": 129,
     "metadata": {},
     "output_type": "execute_result"
    }
   ],
   "source": [
    "df.amt_goods_price.isna().sum()"
   ]
  },
  {
   "cell_type": "code",
   "execution_count": 134,
   "id": "74a8fc38-cfb3-4213-931a-b16f45b02bd4",
   "metadata": {
    "tags": []
   },
   "outputs": [
    {
     "data": {
      "text/plain": [
       "<Axes: xlabel='amt_goods_price'>"
      ]
     },
     "execution_count": 134,
     "metadata": {},
     "output_type": "execute_result"
    },
    {
     "data": {
      "image/png": "[encoded data removed]",
      "text/plain": [
       "<Figure size 640x480 with 1 Axes>"
      ]
     },
     "metadata": {},
     "output_type": "display_data"
    }
   ],
   "source": [
    "sns.boxplot(x=df.amt_goods_price)"
   ]
  },
  {
   "cell_type": "code",
   "execution_count": 135,
   "id": "3b9ddae9-dc11-4972-99ec-2d24fec12aa2",
   "metadata": {
    "tags": []
   },
   "outputs": [
    {
     "data": {
      "text/plain": [
       "amt_goods_price\n",
       "450000.0     4211\n",
       "225000.0     4086\n",
       "675000.0     4076\n",
       "900000.0     2513\n",
       "270000.0     1878\n",
       "             ... \n",
       "862353.0        1\n",
       "378598.5        1\n",
       "482530.5        1\n",
       "2173500.0       1\n",
       "467874.0        1\n",
       "Name: count, Length: 519, dtype: int64"
      ]
     },
     "execution_count": 135,
     "metadata": {},
     "output_type": "execute_result"
    }
   ],
   "source": [
    "df.amt_goods_price.value_counts()"
   ]
  },
  {
   "cell_type": "code",
   "execution_count": 136,
   "id": "8f1b8484-6fc1-4ad6-ada9-90df0fe08760",
   "metadata": {
    "tags": []
   },
   "outputs": [
    {
     "data": {
      "text/plain": [
       "4050000.0"
      ]
     },
     "execution_count": 136,
     "metadata": {},
     "output_type": "execute_result"
    }
   ],
   "source": [
    "df.amt_goods_price.max()"
   ]
  },
  {
   "cell_type": "code",
   "execution_count": 141,
   "id": "f9e4af9e-8bab-4778-9507-498e8a16c607",
   "metadata": {
    "tags": []
   },
   "outputs": [],
   "source": [
    "col = list(df.columns.sort_values())"
   ]
  },
  {
   "cell_type": "code",
   "execution_count": 143,
   "id": "7a1e1200-4839-4081-b0d5-78a67077c9ba",
   "metadata": {
    "tags": []
   },
   "outputs": [],
   "source": [
    "#col"
   ]
  },
  {
   "cell_type": "code",
   "execution_count": 145,
   "id": "3d72569c-0267-4e4a-8268-2fb7dbe86d84",
   "metadata": {
    "tags": []
   },
   "outputs": [],
   "source": [
    "df.amt_goods_price = df.amt_goods_price.fillna(df.amt_credit)"
   ]
  },
  {
   "cell_type": "code",
   "execution_count": 146,
   "id": "5075d4a5-fc30-4894-9d7b-0e3533e018b8",
   "metadata": {
    "tags": []
   },
   "outputs": [
    {
     "data": {
      "text/plain": [
       "0"
      ]
     },
     "execution_count": 146,
     "metadata": {},
     "output_type": "execute_result"
    }
   ],
   "source": [
    "df.amt_goods_price.isna().sum()"
   ]
  },
  {
   "cell_type": "code",
   "execution_count": 148,
   "id": "180d3341-8a6c-4cf7-81f6-197bd5a7af79",
   "metadata": {
    "tags": []
   },
   "outputs": [],
   "source": [
    "df1 = devesh.fix_col(df1)"
   ]
  },
  {
   "cell_type": "code",
   "execution_count": 157,
   "id": "34d3a117-c16c-4470-85c1-16dd59961cb0",
   "metadata": {
    "tags": []
   },
   "outputs": [],
   "source": [
    "df1.amt_goods_price = df1.amt_goods_price.fillna(df1.amt_credit)"
   ]
  },
  {
   "cell_type": "code",
   "execution_count": 159,
   "id": "976846e2-dbb5-4eb8-b698-12cb71b26f0d",
   "metadata": {},
   "outputs": [
    {
     "data": {
      "text/plain": [
       "Index(['amt_annuity', 'amt_credit', 'amt_goods_price', 'amt_income_total',\n",
       "       'amt_req_credit_bureau_day', 'amt_req_credit_bureau_hour',\n",
       "       'amt_req_credit_bureau_mon', 'amt_req_credit_bureau_qrt',\n",
       "       'amt_req_credit_bureau_week', 'amt_req_credit_bureau_year',\n",
       "       'cnt_children', 'cnt_fam_members', 'code_gender', 'days_birth',\n",
       "       'days_employed', 'days_id_publish', 'days_last_phone_change',\n",
       "       'days_registration', 'def_30_cnt_social_circle',\n",
       "       'def_60_cnt_social_circle', 'ext_source_2', 'ext_source_3',\n",
       "       'flag_cont_mobile', 'flag_document_10', 'flag_document_11',\n",
       "       'flag_document_12', 'flag_document_13', 'flag_document_14',\n",
       "       'flag_document_15', 'flag_document_16', 'flag_document_17',\n",
       "       'flag_document_18', 'flag_document_19', 'flag_document_2',\n",
       "       'flag_document_20', 'flag_document_21', 'flag_document_3',\n",
       "       'flag_document_4', 'flag_document_5', 'flag_document_6',\n",
       "       'flag_document_7', 'flag_document_8', 'flag_document_9', 'flag_email',\n",
       "       'flag_emp_phone', 'flag_mobil', 'flag_own_car', 'flag_own_realty',\n",
       "       'flag_phone', 'flag_work_phone', 'hour_appr_process_start',\n",
       "       'live_city_not_work_city', 'live_region_not_work_region',\n",
       "       'name_contract_type', 'name_education_type', 'name_family_status',\n",
       "       'name_housing_type', 'name_income_type', 'name_type_suite',\n",
       "       'obs_30_cnt_social_circle', 'obs_60_cnt_social_circle',\n",
       "       'occupation_type', 'organization_type', 'reg_city_not_live_city',\n",
       "       'reg_city_not_work_city', 'reg_region_not_live_region',\n",
       "       'reg_region_not_work_region', 'region_population_relative',\n",
       "       'region_rating_client', 'region_rating_client_w_city', 'sk_id_curr',\n",
       "       'target', 'weekday_appr_process_start'],\n",
       "      dtype='object')"
      ]
     },
     "execution_count": 159,
     "metadata": {},
     "output_type": "execute_result"
    }
   ],
   "source": [
    "df.columns.sort_values()"
   ]
  },
  {
   "cell_type": "code",
   "execution_count": 161,
   "id": "d1f81477-5b36-4384-9669-d9d49fee6422",
   "metadata": {
    "tags": []
   },
   "outputs": [
    {
     "data": {
      "text/plain": [
       "name_type_suite\n",
       "Unaccompanied      40435\n",
       "Family              6549\n",
       "Spouse, partner     1849\n",
       "Children             542\n",
       "Other_B              259\n",
       "Other_A              137\n",
       "Group of people       36\n",
       "Name: count, dtype: int64"
      ]
     },
     "execution_count": 161,
     "metadata": {},
     "output_type": "execute_result"
    }
   ],
   "source": [
    "df.name_type_suite.value_counts()"
   ]
  },
  {
   "cell_type": "code",
   "execution_count": 169,
   "id": "5a7b078c-0859-43d2-9ac6-4bf9eb934cf0",
   "metadata": {
    "tags": []
   },
   "outputs": [],
   "source": [
    "df.name_type_suite.fillna('Unaccompanied',inplace=True)"
   ]
  },
  {
   "cell_type": "code",
   "execution_count": 170,
   "id": "5266b54b-b9f4-482f-86c2-a59e3780c705",
   "metadata": {
    "tags": []
   },
   "outputs": [
    {
     "data": {
      "text/plain": [
       "0"
      ]
     },
     "execution_count": 170,
     "metadata": {},
     "output_type": "execute_result"
    }
   ],
   "source": [
    "df.name_type_suite.isna().sum()"
   ]
  },
  {
   "cell_type": "code",
   "execution_count": 172,
   "id": "df92cf81-74ca-41ce-9982-24242476dc2e",
   "metadata": {
    "tags": []
   },
   "outputs": [
    {
     "data": {
      "text/plain": [
       "1"
      ]
     },
     "execution_count": 172,
     "metadata": {},
     "output_type": "execute_result"
    }
   ],
   "source": [
    "df.cnt_fam_members.isna().sum()"
   ]
  },
  {
   "cell_type": "code",
   "execution_count": 173,
   "id": "2261feea-e773-45ea-9883-8038bc5f52ee",
   "metadata": {
    "tags": []
   },
   "outputs": [
    {
     "data": {
      "text/plain": [
       "cnt_fam_members\n",
       "2.0     25807\n",
       "1.0     10873\n",
       "3.0      8635\n",
       "4.0      4000\n",
       "5.0       592\n",
       "6.0        68\n",
       "7.0        12\n",
       "8.0         6\n",
       "9.0         2\n",
       "10.0        2\n",
       "13.0        1\n",
       "Name: count, dtype: int64"
      ]
     },
     "execution_count": 173,
     "metadata": {},
     "output_type": "execute_result"
    }
   ],
   "source": [
    "df.cnt_fam_members.value_counts()"
   ]
  },
  {
   "cell_type": "code",
   "execution_count": 181,
   "id": "186f0a72-d3ca-4913-b20f-817e6d6cba01",
   "metadata": {
    "tags": []
   },
   "outputs": [
    {
     "data": {
      "text/plain": [
       "<Axes: >"
      ]
     },
     "execution_count": 181,
     "metadata": {},
     "output_type": "execute_result"
    },
    {
     "data": {
      "image/png": "[encoded data removed]",
      "text/plain": [
       "<Figure size 640x480 with 1 Axes>"
      ]
     },
     "metadata": {},
     "output_type": "display_data"
    }
   ],
   "source": [
    "df.isna().sum().sort_values(ascending=False).iloc[0:10].plot(kind='bar')"
   ]
  },
  {
   "cell_type": "code",
   "execution_count": 187,
   "id": "cd742123-0995-4504-a83d-5042f162e3bd",
   "metadata": {
    "tags": []
   },
   "outputs": [
    {
     "data": {
      "text/plain": [
       "<Axes: >"
      ]
     },
     "execution_count": 187,
     "metadata": {},
     "output_type": "execute_result"
    },
    {
     "data": {
      "image/png": "[encoded data removed]",
      "text/plain": [
       "<Figure size 640x480 with 1 Axes>"
      ]
     },
     "metadata": {},
     "output_type": "display_data"
    }
   ],
   "source": [
    "df.cnt_fam_members.plot(kind='box',vert=False)"
   ]
  },
  {
   "cell_type": "code",
   "execution_count": 192,
   "id": "b3c371e8-40ea-416b-8713-4fa05763b5e6",
   "metadata": {
    "tags": []
   },
   "outputs": [],
   "source": [
    "df.cnt_fam_members.fillna(df.cnt_fam_members.median(),inplace=True)"
   ]
  },
  {
   "cell_type": "code",
   "execution_count": 193,
   "id": "adc5c58a-79e7-49bf-aa98-18fbc2c19ec3",
   "metadata": {
    "tags": []
   },
   "outputs": [
    {
     "data": {
      "text/plain": [
       "0"
      ]
     },
     "execution_count": 193,
     "metadata": {},
     "output_type": "execute_result"
    }
   ],
   "source": [
    "df.cnt_fam_members.isna().sum()"
   ]
  },
  {
   "cell_type": "code",
   "execution_count": 211,
   "id": "26551f50-8f72-4433-b4e9-da7c970e815d",
   "metadata": {
    "tags": []
   },
   "outputs": [
    {
     "data": {
      "text/plain": [
       "<Axes: ylabel='occupation_type'>"
      ]
     },
     "execution_count": 211,
     "metadata": {},
     "output_type": "execute_result"
    },
    {
     "data": {
      "image/png": "[encoded data removed]",
      "text/plain": [
       "<Figure size 640x480 with 1 Axes>"
      ]
     },
     "metadata": {},
     "output_type": "display_data"
    }
   ],
   "source": [
    "(df.occupation_type.value_counts(normalize=True)*100).sort_values(ascending=True).plot(kind='barh')\n"
   ]
  },
  {
   "cell_type": "code",
   "execution_count": 202,
   "id": "aeba8e47-e0ee-4517-bbaa-77a4eb29e749",
   "metadata": {
    "tags": []
   },
   "outputs": [],
   "source": [
    "df.occupation_type.fillna('Unknown',inplace=True)"
   ]
  },
  {
   "cell_type": "code",
   "execution_count": 204,
   "id": "0f21373b-acb5-4ffe-95bf-abd96683e83f",
   "metadata": {
    "tags": []
   },
   "outputs": [
    {
     "data": {
      "text/plain": [
       "0"
      ]
     },
     "execution_count": 204,
     "metadata": {},
     "output_type": "execute_result"
    }
   ],
   "source": [
    "df.occupation_type.isna().sum()"
   ]
  },
  {
   "cell_type": "code",
   "execution_count": 218,
   "id": "26bbbdda-20bb-4801-8c89-25a96a7357d6",
   "metadata": {
    "tags": []
   },
   "outputs": [
    {
     "data": {
      "text/plain": [
       "Text(0.5, 1.0, 'Type')"
      ]
     },
     "execution_count": 218,
     "metadata": {},
     "output_type": "execute_result"
    },
    {
     "data": {
      "image/png": "[encoded data removed]",
      "text/plain": [
       "<Figure size 1500x900 with 1 Axes>"
      ]
     },
     "metadata": {},
     "output_type": "display_data"
    }
   ],
   "source": [
    "plt.figure(figsize=(15,9))\n",
    "df.occupation_type.value_counts().plot.barh(width=.8)\n",
    "plt.title('Type',fontsize=18)"
   ]
  },
  {
   "cell_type": "code",
   "execution_count": 219,
   "id": "8cbbaf03-9355-4d72-9b61-be5a01e2c4cd",
   "metadata": {
    "tags": []
   },
   "outputs": [
    {
     "data": {
      "text/plain": [
       "Index(['sk_id_curr', 'target', 'name_contract_type', 'code_gender',\n",
       "       'flag_own_car', 'flag_own_realty', 'cnt_children', 'amt_income_total',\n",
       "       'amt_credit', 'amt_annuity', 'amt_goods_price', 'name_type_suite',\n",
       "       'name_income_type', 'name_education_type', 'name_family_status',\n",
       "       'name_housing_type', 'region_population_relative', 'days_birth',\n",
       "       'days_employed', 'days_registration', 'days_id_publish', 'flag_mobil',\n",
       "       'flag_emp_phone', 'flag_work_phone', 'flag_cont_mobile', 'flag_phone',\n",
       "       'flag_email', 'occupation_type', 'cnt_fam_members',\n",
       "       'region_rating_client', 'region_rating_client_w_city',\n",
       "       'weekday_appr_process_start', 'hour_appr_process_start',\n",
       "       'reg_region_not_live_region', 'reg_region_not_work_region',\n",
       "       'live_region_not_work_region', 'reg_city_not_live_city',\n",
       "       'reg_city_not_work_city', 'live_city_not_work_city',\n",
       "       'organization_type', 'ext_source_2', 'ext_source_3',\n",
       "       'obs_30_cnt_social_circle', 'def_30_cnt_social_circle',\n",
       "       'obs_60_cnt_social_circle', 'def_60_cnt_social_circle',\n",
       "       'days_last_phone_change', 'flag_document_2', 'flag_document_3',\n",
       "       'flag_document_4', 'flag_document_5', 'flag_document_6',\n",
       "       'flag_document_7', 'flag_document_8', 'flag_document_9',\n",
       "       'flag_document_10', 'flag_document_11', 'flag_document_12',\n",
       "       'flag_document_13', 'flag_document_14', 'flag_document_15',\n",
       "       'flag_document_16', 'flag_document_17', 'flag_document_18',\n",
       "       'flag_document_19', 'flag_document_20', 'flag_document_21',\n",
       "       'amt_req_credit_bureau_hour', 'amt_req_credit_bureau_day',\n",
       "       'amt_req_credit_bureau_week', 'amt_req_credit_bureau_mon',\n",
       "       'amt_req_credit_bureau_qrt', 'amt_req_credit_bureau_year'],\n",
       "      dtype='object')"
      ]
     },
     "execution_count": 219,
     "metadata": {},
     "output_type": "execute_result"
    }
   ],
   "source": [
    "df.columns"
   ]
  },
  {
   "cell_type": "code",
   "execution_count": 221,
   "id": "1c6e6490-6ff8-4f94-b5f1-373107870638",
   "metadata": {
    "tags": []
   },
   "outputs": [],
   "source": [
    "amt_credit = ['amt_req_credit_bureau_day', 'amt_req_credit_bureau_hour',\n",
    "       'amt_req_credit_bureau_mon', 'amt_req_credit_bureau_qrt',\n",
    "       'amt_req_credit_bureau_week', 'amt_req_credit_bureau_year']"
   ]
  },
  {
   "cell_type": "code",
   "execution_count": 222,
   "id": "1f5bd927-e1e2-437e-aa13-624c1103db2b",
   "metadata": {
    "tags": []
   },
   "outputs": [
    {
     "data": {
      "text/html": [
       "<div>\n",
       "<style scoped>\n",
       "    .dataframe tbody tr th:only-of-type {\n",
       "        vertical-align: middle;\n",
       "    }\n",
       "\n",
       "    .dataframe tbody tr th {\n",
       "        vertical-align: top;\n",
       "    }\n",
       "\n",
       "    .dataframe thead th {\n",
       "        text-align: right;\n",
       "    }\n",
       "</style>\n",
       "<table border=\"1\" class=\"dataframe\">\n",
       "  <thead>\n",
       "    <tr style=\"text-align: right;\">\n",
       "      <th></th>\n",
       "      <th>amt_req_credit_bureau_day</th>\n",
       "      <th>amt_req_credit_bureau_hour</th>\n",
       "      <th>amt_req_credit_bureau_mon</th>\n",
       "      <th>amt_req_credit_bureau_qrt</th>\n",
       "      <th>amt_req_credit_bureau_week</th>\n",
       "      <th>amt_req_credit_bureau_year</th>\n",
       "    </tr>\n",
       "  </thead>\n",
       "  <tbody>\n",
       "    <tr>\n",
       "      <th>count</th>\n",
       "      <td>43265.000000</td>\n",
       "      <td>43265.000000</td>\n",
       "      <td>43265.000000</td>\n",
       "      <td>43265.000000</td>\n",
       "      <td>43265.000000</td>\n",
       "      <td>43265.000000</td>\n",
       "    </tr>\n",
       "    <tr>\n",
       "      <th>mean</th>\n",
       "      <td>0.007512</td>\n",
       "      <td>0.007096</td>\n",
       "      <td>0.270288</td>\n",
       "      <td>0.260973</td>\n",
       "      <td>0.032382</td>\n",
       "      <td>1.881035</td>\n",
       "    </tr>\n",
       "    <tr>\n",
       "      <th>std</th>\n",
       "      <td>0.107992</td>\n",
       "      <td>0.087709</td>\n",
       "      <td>0.928560</td>\n",
       "      <td>0.606996</td>\n",
       "      <td>0.194080</td>\n",
       "      <td>1.865054</td>\n",
       "    </tr>\n",
       "    <tr>\n",
       "      <th>min</th>\n",
       "      <td>0.000000</td>\n",
       "      <td>0.000000</td>\n",
       "      <td>0.000000</td>\n",
       "      <td>0.000000</td>\n",
       "      <td>0.000000</td>\n",
       "      <td>0.000000</td>\n",
       "    </tr>\n",
       "    <tr>\n",
       "      <th>25%</th>\n",
       "      <td>0.000000</td>\n",
       "      <td>0.000000</td>\n",
       "      <td>0.000000</td>\n",
       "      <td>0.000000</td>\n",
       "      <td>0.000000</td>\n",
       "      <td>0.000000</td>\n",
       "    </tr>\n",
       "    <tr>\n",
       "      <th>50%</th>\n",
       "      <td>0.000000</td>\n",
       "      <td>0.000000</td>\n",
       "      <td>0.000000</td>\n",
       "      <td>0.000000</td>\n",
       "      <td>0.000000</td>\n",
       "      <td>1.000000</td>\n",
       "    </tr>\n",
       "    <tr>\n",
       "      <th>75%</th>\n",
       "      <td>0.000000</td>\n",
       "      <td>0.000000</td>\n",
       "      <td>0.000000</td>\n",
       "      <td>0.000000</td>\n",
       "      <td>0.000000</td>\n",
       "      <td>3.000000</td>\n",
       "    </tr>\n",
       "    <tr>\n",
       "      <th>max</th>\n",
       "      <td>6.000000</td>\n",
       "      <td>3.000000</td>\n",
       "      <td>24.000000</td>\n",
       "      <td>8.000000</td>\n",
       "      <td>6.000000</td>\n",
       "      <td>25.000000</td>\n",
       "    </tr>\n",
       "  </tbody>\n",
       "</table>\n",
       "</div>"
      ],
      "text/plain": [
       "       amt_req_credit_bureau_day  amt_req_credit_bureau_hour  \\\n",
       "count               43265.000000                43265.000000   \n",
       "mean                    0.007512                    0.007096   \n",
       "std                     0.107992                    0.087709   \n",
       "min                     0.000000                    0.000000   \n",
       "25%                     0.000000                    0.000000   \n",
       "50%                     0.000000                    0.000000   \n",
       "75%                     0.000000                    0.000000   \n",
       "max                     6.000000                    3.000000   \n",
       "\n",
       "       amt_req_credit_bureau_mon  amt_req_credit_bureau_qrt  \\\n",
       "count               43265.000000               43265.000000   \n",
       "mean                    0.270288                   0.260973   \n",
       "std                     0.928560                   0.606996   \n",
       "min                     0.000000                   0.000000   \n",
       "25%                     0.000000                   0.000000   \n",
       "50%                     0.000000                   0.000000   \n",
       "75%                     0.000000                   0.000000   \n",
       "max                    24.000000                   8.000000   \n",
       "\n",
       "       amt_req_credit_bureau_week  amt_req_credit_bureau_year  \n",
       "count                43265.000000                43265.000000  \n",
       "mean                     0.032382                    1.881035  \n",
       "std                      0.194080                    1.865054  \n",
       "min                      0.000000                    0.000000  \n",
       "25%                      0.000000                    0.000000  \n",
       "50%                      0.000000                    1.000000  \n",
       "75%                      0.000000                    3.000000  \n",
       "max                      6.000000                   25.000000  "
      ]
     },
     "execution_count": 222,
     "metadata": {},
     "output_type": "execute_result"
    }
   ],
   "source": [
    "df[amt_credit].describe()"
   ]
  },
  {
   "cell_type": "code",
   "execution_count": 230,
   "id": "7203724b-f2de-4a3d-a0d0-afde8bd12740",
   "metadata": {
    "tags": []
   },
   "outputs": [],
   "source": [
    "df[amt_credit]=df[amt_credit].fillna(df[amt_credit].median())"
   ]
  },
  {
   "cell_type": "code",
   "execution_count": 231,
   "id": "229d7e7f-5c68-4347-b4e7-c64d76f11907",
   "metadata": {
    "tags": []
   },
   "outputs": [
    {
     "data": {
      "text/plain": [
       "amt_req_credit_bureau_day     0\n",
       "amt_req_credit_bureau_hour    0\n",
       "amt_req_credit_bureau_mon     0\n",
       "amt_req_credit_bureau_qrt     0\n",
       "amt_req_credit_bureau_week    0\n",
       "amt_req_credit_bureau_year    0\n",
       "dtype: int64"
      ]
     },
     "execution_count": 231,
     "metadata": {},
     "output_type": "execute_result"
    }
   ],
   "source": [
    "df[amt_credit].isna().sum()"
   ]
  },
  {
   "cell_type": "code",
   "execution_count": 233,
   "id": "dda2ad90-c203-4b79-9e0a-a4a81a6e7f08",
   "metadata": {
    "tags": []
   },
   "outputs": [
    {
     "data": {
      "text/html": [
       "<div>\n",
       "<style scoped>\n",
       "    .dataframe tbody tr th:only-of-type {\n",
       "        vertical-align: middle;\n",
       "    }\n",
       "\n",
       "    .dataframe tbody tr th {\n",
       "        vertical-align: top;\n",
       "    }\n",
       "\n",
       "    .dataframe thead th {\n",
       "        text-align: right;\n",
       "    }\n",
       "</style>\n",
       "<table border=\"1\" class=\"dataframe\">\n",
       "  <thead>\n",
       "    <tr style=\"text-align: right;\">\n",
       "      <th></th>\n",
       "      <th>sk_id_curr</th>\n",
       "      <th>target</th>\n",
       "      <th>name_contract_type</th>\n",
       "      <th>code_gender</th>\n",
       "      <th>flag_own_car</th>\n",
       "      <th>flag_own_realty</th>\n",
       "      <th>cnt_children</th>\n",
       "      <th>amt_income_total</th>\n",
       "      <th>amt_credit</th>\n",
       "      <th>amt_annuity</th>\n",
       "      <th>...</th>\n",
       "      <th>flag_document_18</th>\n",
       "      <th>flag_document_19</th>\n",
       "      <th>flag_document_20</th>\n",
       "      <th>flag_document_21</th>\n",
       "      <th>amt_req_credit_bureau_hour</th>\n",
       "      <th>amt_req_credit_bureau_day</th>\n",
       "      <th>amt_req_credit_bureau_week</th>\n",
       "      <th>amt_req_credit_bureau_mon</th>\n",
       "      <th>amt_req_credit_bureau_qrt</th>\n",
       "      <th>amt_req_credit_bureau_year</th>\n",
       "    </tr>\n",
       "  </thead>\n",
       "  <tbody>\n",
       "    <tr>\n",
       "      <th>0</th>\n",
       "      <td>100002</td>\n",
       "      <td>1</td>\n",
       "      <td>Cash loans</td>\n",
       "      <td>M</td>\n",
       "      <td>N</td>\n",
       "      <td>Y</td>\n",
       "      <td>0</td>\n",
       "      <td>202500.0</td>\n",
       "      <td>406597.5</td>\n",
       "      <td>24700.5</td>\n",
       "      <td>...</td>\n",
       "      <td>0</td>\n",
       "      <td>0</td>\n",
       "      <td>0</td>\n",
       "      <td>0</td>\n",
       "      <td>0.0</td>\n",
       "      <td>0.0</td>\n",
       "      <td>0.0</td>\n",
       "      <td>0.0</td>\n",
       "      <td>0.0</td>\n",
       "      <td>1.0</td>\n",
       "    </tr>\n",
       "    <tr>\n",
       "      <th>1</th>\n",
       "      <td>100003</td>\n",
       "      <td>0</td>\n",
       "      <td>Cash loans</td>\n",
       "      <td>F</td>\n",
       "      <td>N</td>\n",
       "      <td>N</td>\n",
       "      <td>0</td>\n",
       "      <td>270000.0</td>\n",
       "      <td>1293502.5</td>\n",
       "      <td>35698.5</td>\n",
       "      <td>...</td>\n",
       "      <td>0</td>\n",
       "      <td>0</td>\n",
       "      <td>0</td>\n",
       "      <td>0</td>\n",
       "      <td>0.0</td>\n",
       "      <td>0.0</td>\n",
       "      <td>0.0</td>\n",
       "      <td>0.0</td>\n",
       "      <td>0.0</td>\n",
       "      <td>0.0</td>\n",
       "    </tr>\n",
       "    <tr>\n",
       "      <th>2</th>\n",
       "      <td>100004</td>\n",
       "      <td>0</td>\n",
       "      <td>Revolving loans</td>\n",
       "      <td>M</td>\n",
       "      <td>Y</td>\n",
       "      <td>Y</td>\n",
       "      <td>0</td>\n",
       "      <td>67500.0</td>\n",
       "      <td>135000.0</td>\n",
       "      <td>6750.0</td>\n",
       "      <td>...</td>\n",
       "      <td>0</td>\n",
       "      <td>0</td>\n",
       "      <td>0</td>\n",
       "      <td>0</td>\n",
       "      <td>0.0</td>\n",
       "      <td>0.0</td>\n",
       "      <td>0.0</td>\n",
       "      <td>0.0</td>\n",
       "      <td>0.0</td>\n",
       "      <td>0.0</td>\n",
       "    </tr>\n",
       "    <tr>\n",
       "      <th>3</th>\n",
       "      <td>100006</td>\n",
       "      <td>0</td>\n",
       "      <td>Cash loans</td>\n",
       "      <td>F</td>\n",
       "      <td>N</td>\n",
       "      <td>Y</td>\n",
       "      <td>0</td>\n",
       "      <td>135000.0</td>\n",
       "      <td>312682.5</td>\n",
       "      <td>29686.5</td>\n",
       "      <td>...</td>\n",
       "      <td>0</td>\n",
       "      <td>0</td>\n",
       "      <td>0</td>\n",
       "      <td>0</td>\n",
       "      <td>0.0</td>\n",
       "      <td>0.0</td>\n",
       "      <td>0.0</td>\n",
       "      <td>0.0</td>\n",
       "      <td>0.0</td>\n",
       "      <td>1.0</td>\n",
       "    </tr>\n",
       "    <tr>\n",
       "      <th>4</th>\n",
       "      <td>100007</td>\n",
       "      <td>0</td>\n",
       "      <td>Cash loans</td>\n",
       "      <td>M</td>\n",
       "      <td>N</td>\n",
       "      <td>Y</td>\n",
       "      <td>0</td>\n",
       "      <td>121500.0</td>\n",
       "      <td>513000.0</td>\n",
       "      <td>21865.5</td>\n",
       "      <td>...</td>\n",
       "      <td>0</td>\n",
       "      <td>0</td>\n",
       "      <td>0</td>\n",
       "      <td>0</td>\n",
       "      <td>0.0</td>\n",
       "      <td>0.0</td>\n",
       "      <td>0.0</td>\n",
       "      <td>0.0</td>\n",
       "      <td>0.0</td>\n",
       "      <td>0.0</td>\n",
       "    </tr>\n",
       "  </tbody>\n",
       "</table>\n",
       "<p>5 rows × 73 columns</p>\n",
       "</div>"
      ],
      "text/plain": [
       "   sk_id_curr  target name_contract_type code_gender flag_own_car  \\\n",
       "0      100002       1         Cash loans           M            N   \n",
       "1      100003       0         Cash loans           F            N   \n",
       "2      100004       0    Revolving loans           M            Y   \n",
       "3      100006       0         Cash loans           F            N   \n",
       "4      100007       0         Cash loans           M            N   \n",
       "\n",
       "  flag_own_realty  cnt_children  amt_income_total  amt_credit  amt_annuity  \\\n",
       "0               Y             0          202500.0    406597.5      24700.5   \n",
       "1               N             0          270000.0   1293502.5      35698.5   \n",
       "2               Y             0           67500.0    135000.0       6750.0   \n",
       "3               Y             0          135000.0    312682.5      29686.5   \n",
       "4               Y             0          121500.0    513000.0      21865.5   \n",
       "\n",
       "   ...  flag_document_18 flag_document_19 flag_document_20 flag_document_21  \\\n",
       "0  ...                 0                0                0                0   \n",
       "1  ...                 0                0                0                0   \n",
       "2  ...                 0                0                0                0   \n",
       "3  ...                 0                0                0                0   \n",
       "4  ...                 0                0                0                0   \n",
       "\n",
       "  amt_req_credit_bureau_hour amt_req_credit_bureau_day  \\\n",
       "0                        0.0                       0.0   \n",
       "1                        0.0                       0.0   \n",
       "2                        0.0                       0.0   \n",
       "3                        0.0                       0.0   \n",
       "4                        0.0                       0.0   \n",
       "\n",
       "   amt_req_credit_bureau_week  amt_req_credit_bureau_mon  \\\n",
       "0                         0.0                        0.0   \n",
       "1                         0.0                        0.0   \n",
       "2                         0.0                        0.0   \n",
       "3                         0.0                        0.0   \n",
       "4                         0.0                        0.0   \n",
       "\n",
       "   amt_req_credit_bureau_qrt  amt_req_credit_bureau_year  \n",
       "0                        0.0                         1.0  \n",
       "1                        0.0                         0.0  \n",
       "2                        0.0                         0.0  \n",
       "3                        0.0                         1.0  \n",
       "4                        0.0                         0.0  \n",
       "\n",
       "[5 rows x 73 columns]"
      ]
     },
     "execution_count": 233,
     "metadata": {},
     "output_type": "execute_result"
    }
   ],
   "source": [
    "df.head()"
   ]
  },
  {
   "cell_type": "code",
   "execution_count": 242,
   "id": "f617130e-7a8d-4424-99df-590a8c04db12",
   "metadata": {
    "tags": []
   },
   "outputs": [
    {
     "data": {
      "text/plain": [
       "array([[<Axes: xlabel='amt_income_total', ylabel='amt_income_total'>,\n",
       "        <Axes: xlabel='amt_credit', ylabel='amt_income_total'>,\n",
       "        <Axes: xlabel='amt_annuity', ylabel='amt_income_total'>],\n",
       "       [<Axes: xlabel='amt_income_total', ylabel='amt_credit'>,\n",
       "        <Axes: xlabel='amt_credit', ylabel='amt_credit'>,\n",
       "        <Axes: xlabel='amt_annuity', ylabel='amt_credit'>],\n",
       "       [<Axes: xlabel='amt_income_total', ylabel='amt_annuity'>,\n",
       "        <Axes: xlabel='amt_credit', ylabel='amt_annuity'>,\n",
       "        <Axes: xlabel='amt_annuity', ylabel='amt_annuity'>]], dtype=object)"
      ]
     },
     "execution_count": 242,
     "metadata": {},
     "output_type": "execute_result"
    },
    {
     "data": {
      "image/png": "[encoded data removed]",
      "text/plain": [
       "<Figure size 640x480 with 9 Axes>"
      ]
     },
     "metadata": {},
     "output_type": "display_data"
    }
   ],
   "source": [
    "\n",
    "pd.plotting.scatter_matrix(df[['amt_income_total','amt_credit',\t'amt_annuity']])"
   ]
  },
  {
   "cell_type": "code",
   "execution_count": 243,
   "id": "9ec5876b-55d8-413a-8b0f-6af49b7b945a",
   "metadata": {},
   "outputs": [],
   "source": [
    "l =['obs_30_cnt_social_circle', 'obs_60_cnt_social_circle']"
   ]
  },
  {
   "cell_type": "code",
   "execution_count": 247,
   "id": "0231f9a8-3d45-4957-916d-5f3cb7434f1f",
   "metadata": {
    "tags": []
   },
   "outputs": [
    {
     "data": {
      "text/plain": [
       "obs_30_cnt_social_circle    168\n",
       "obs_60_cnt_social_circle    168\n",
       "dtype: int64"
      ]
     },
     "execution_count": 247,
     "metadata": {},
     "output_type": "execute_result"
    }
   ],
   "source": [
    "df[l].isna().sum()"
   ]
  },
  {
   "cell_type": "code",
   "execution_count": 250,
   "id": "e1346f57-715f-442d-bef8-4c9375ff0bd6",
   "metadata": {
    "tags": []
   },
   "outputs": [
    {
     "data": {
      "text/plain": [
       "obs_60_cnt_social_circle\n",
       "0.0     26699\n",
       "1.0      7917\n",
       "2.0      4923\n",
       "3.0      3337\n",
       "4.0      2291\n",
       "5.0      1498\n",
       "6.0      1035\n",
       "7.0       675\n",
       "8.0       483\n",
       "9.0       329\n",
       "10.0      225\n",
       "11.0      141\n",
       "12.0       89\n",
       "13.0       61\n",
       "14.0       36\n",
       "15.0       27\n",
       "16.0       26\n",
       "17.0       10\n",
       "19.0        8\n",
       "20.0        6\n",
       "21.0        4\n",
       "22.0        3\n",
       "18.0        3\n",
       "25.0        2\n",
       "24.0        1\n",
       "23.0        1\n",
       "28.0        1\n",
       "Name: count, dtype: int64"
      ]
     },
     "execution_count": 250,
     "metadata": {},
     "output_type": "execute_result"
    }
   ],
   "source": [
    "df[l[1]].value_counts()"
   ]
  },
  {
   "cell_type": "code",
   "execution_count": 252,
   "id": "45cb7083-53e7-4bcd-81d7-348a7d3a27e3",
   "metadata": {
    "tags": []
   },
   "outputs": [
    {
     "data": {
      "text/plain": [
       "Index(['sk_id_curr', 'target', 'cnt_children', 'amt_income_total',\n",
       "       'amt_credit', 'amt_annuity', 'amt_goods_price',\n",
       "       'region_population_relative', 'days_birth', 'days_employed',\n",
       "       'days_registration', 'days_id_publish', 'flag_mobil', 'flag_emp_phone',\n",
       "       'flag_work_phone', 'flag_cont_mobile', 'flag_phone', 'flag_email',\n",
       "       'cnt_fam_members', 'region_rating_client',\n",
       "       'region_rating_client_w_city', 'hour_appr_process_start',\n",
       "       'reg_region_not_live_region', 'reg_region_not_work_region',\n",
       "       'live_region_not_work_region', 'reg_city_not_live_city',\n",
       "       'reg_city_not_work_city', 'live_city_not_work_city', 'ext_source_2',\n",
       "       'ext_source_3', 'obs_30_cnt_social_circle', 'def_30_cnt_social_circle',\n",
       "       'obs_60_cnt_social_circle', 'def_60_cnt_social_circle',\n",
       "       'days_last_phone_change', 'flag_document_2', 'flag_document_3',\n",
       "       'flag_document_4', 'flag_document_5', 'flag_document_6',\n",
       "       'flag_document_7', 'flag_document_8', 'flag_document_9',\n",
       "       'flag_document_10', 'flag_document_11', 'flag_document_12',\n",
       "       'flag_document_13', 'flag_document_14', 'flag_document_15',\n",
       "       'flag_document_16', 'flag_document_17', 'flag_document_18',\n",
       "       'flag_document_19', 'flag_document_20', 'flag_document_21',\n",
       "       'amt_req_credit_bureau_hour', 'amt_req_credit_bureau_day',\n",
       "       'amt_req_credit_bureau_week', 'amt_req_credit_bureau_mon',\n",
       "       'amt_req_credit_bureau_qrt', 'amt_req_credit_bureau_year'],\n",
       "      dtype='object')"
      ]
     },
     "execution_count": 252,
     "metadata": {},
     "output_type": "execute_result"
    }
   ],
   "source": [
    "df.describe().columns"
   ]
  },
  {
   "cell_type": "code",
   "execution_count": 261,
   "id": "a1e81d8a-b21e-45d4-8247-f3e1e2e6e560",
   "metadata": {
    "tags": []
   },
   "outputs": [
    {
     "data": {
      "text/plain": [
       "{'code_gender',\n",
       " 'flag_own_car',\n",
       " 'flag_own_realty',\n",
       " 'name_contract_type',\n",
       " 'name_education_type',\n",
       " 'name_family_status',\n",
       " 'name_housing_type',\n",
       " 'name_income_type',\n",
       " 'name_type_suite',\n",
       " 'occupation_type',\n",
       " 'organization_type',\n",
       " 'weekday_appr_process_start'}"
      ]
     },
     "execution_count": 261,
     "metadata": {},
     "output_type": "execute_result"
    }
   ],
   "source": [
    "set(df.columns) - set(df.describe().columns)"
   ]
  },
  {
   "cell_type": "code",
   "execution_count": 262,
   "id": "f21803b5-c083-43a2-a71d-0f2b9dffc005",
   "metadata": {
    "tags": []
   },
   "outputs": [],
   "source": [
    "social = ['obs_30_cnt_social_circle', 'def_30_cnt_social_circle',\n",
    "       'obs_60_cnt_social_circle', 'def_60_cnt_social_circle']"
   ]
  },
  {
   "cell_type": "code",
   "execution_count": 265,
   "id": "fd795952-6ccd-4b2e-b3a2-b2fe0d9d8516",
   "metadata": {
    "tags": []
   },
   "outputs": [],
   "source": [
    "df[social] = df[social].fillna(df[social].median())"
   ]
  },
  {
   "cell_type": "code",
   "execution_count": 266,
   "id": "7680675a-b03c-482f-b50c-0cb9933c6cf6",
   "metadata": {
    "tags": []
   },
   "outputs": [
    {
     "data": {
      "text/plain": [
       "obs_30_cnt_social_circle    0\n",
       "def_30_cnt_social_circle    0\n",
       "obs_60_cnt_social_circle    0\n",
       "def_60_cnt_social_circle    0\n",
       "dtype: int64"
      ]
     },
     "execution_count": 266,
     "metadata": {},
     "output_type": "execute_result"
    }
   ],
   "source": [
    "df[social].isna().sum()"
   ]
  },
  {
   "cell_type": "markdown",
   "id": "0c7c27ef-17c2-4cad-9551-6fe521604968",
   "metadata": {},
   "source": [
    "## steps to do next- "
   ]
  },
  {
   "cell_type": "code",
   "execution_count": 271,
   "id": "1faa5ecf-d69e-4225-9af0-877366050df8",
   "metadata": {
    "tags": []
   },
   "outputs": [
    {
     "name": "stdout",
     "output_type": "stream",
     "text": [
      "       sk_id_curr    target  cnt_children  amt_income_total  amt_credit  \\\n",
      "count    49999.00  49999.00      49999.00      4.999900e+04    49999.00   \n",
      "mean    129013.21      0.08          0.42      1.707676e+05   599700.58   \n",
      "std      16690.51      0.27          0.72      5.318191e+05   402415.43   \n",
      "min     100002.00      0.00          0.00      2.565000e+04    45000.00   \n",
      "25%     114570.50      0.00          0.00      1.125000e+05   270000.00   \n",
      "50%     129076.00      0.00          0.00      1.458000e+05   514777.50   \n",
      "75%     143438.50      0.00          1.00      2.025000e+05   808650.00   \n",
      "max     157875.00      1.00         11.00      1.170000e+08  4050000.00   \n",
      "\n",
      "       amt_annuity  amt_goods_price  region_population_relative  days_birth  \\\n",
      "count     49999.00         49999.00                    49999.00    49999.00   \n",
      "mean      27107.33        538907.30                        0.02   -16022.04   \n",
      "std       14562.80        369833.11                        0.01     4361.40   \n",
      "min        2052.00         45000.00                        0.00   -25184.00   \n",
      "25%       16456.50        238500.00                        0.01   -19644.00   \n",
      "50%       24939.00        450000.00                        0.02   -15731.00   \n",
      "75%       34596.00        679500.00                        0.03   -12378.50   \n",
      "max      258025.50       4050000.00                        0.07    -7680.00   \n",
      "\n",
      "       days_employed  ...  flag_document_18  flag_document_19  \\\n",
      "count       49999.00  ...          49999.00          49999.00   \n",
      "mean        63219.42  ...              0.01              0.00   \n",
      "std        140794.61  ...              0.09              0.03   \n",
      "min        -17531.00  ...              0.00              0.00   \n",
      "25%         -2786.00  ...              0.00              0.00   \n",
      "50%         -1221.00  ...              0.00              0.00   \n",
      "75%          -292.00  ...              0.00              0.00   \n",
      "max        365243.00  ...              1.00              1.00   \n",
      "\n",
      "       flag_document_20  flag_document_21  amt_req_credit_bureau_hour  \\\n",
      "count          49999.00          49999.00                    49999.00   \n",
      "mean               0.00              0.00                        0.01   \n",
      "std                0.02              0.02                        0.08   \n",
      "min                0.00              0.00                        0.00   \n",
      "25%                0.00              0.00                        0.00   \n",
      "50%                0.00              0.00                        0.00   \n",
      "75%                0.00              0.00                        0.00   \n",
      "max                1.00              1.00                        3.00   \n",
      "\n",
      "       amt_req_credit_bureau_day  amt_req_credit_bureau_week  \\\n",
      "count                   49999.00                    49999.00   \n",
      "mean                        0.01                        0.03   \n",
      "std                         0.10                        0.18   \n",
      "min                         0.00                        0.00   \n",
      "25%                         0.00                        0.00   \n",
      "50%                         0.00                        0.00   \n",
      "75%                         0.00                        0.00   \n",
      "max                         6.00                        6.00   \n",
      "\n",
      "       amt_req_credit_bureau_mon  amt_req_credit_bureau_qrt  \\\n",
      "count                   49999.00                   49999.00   \n",
      "mean                        0.23                       0.23   \n",
      "std                         0.87                       0.57   \n",
      "min                         0.00                       0.00   \n",
      "25%                         0.00                       0.00   \n",
      "50%                         0.00                       0.00   \n",
      "75%                         0.00                       0.00   \n",
      "max                        24.00                       8.00   \n",
      "\n",
      "       amt_req_credit_bureau_year  \n",
      "count                    49999.00  \n",
      "mean                         1.76  \n",
      "std                          1.76  \n",
      "min                          0.00  \n",
      "25%                          1.00  \n",
      "50%                          1.00  \n",
      "75%                          3.00  \n",
      "max                         25.00  \n",
      "\n",
      "[8 rows x 61 columns]\n"
     ]
    }
   ],
   "source": [
    "print(round(df.describe(),2))"
   ]
  },
  {
   "cell_type": "code",
   "execution_count": 272,
   "id": "0b3739ca-6480-4baf-9948-2322a0d51af8",
   "metadata": {
    "tags": []
   },
   "outputs": [
    {
     "data": {
      "text/plain": [
       "Index(['sk_id_curr', 'target', 'name_contract_type', 'code_gender',\n",
       "       'flag_own_car', 'flag_own_realty', 'cnt_children', 'amt_income_total',\n",
       "       'amt_credit', 'amt_annuity', 'amt_goods_price', 'name_type_suite',\n",
       "       'name_income_type', 'name_education_type', 'name_family_status',\n",
       "       'name_housing_type', 'region_population_relative', 'days_birth',\n",
       "       'days_employed', 'days_registration', 'days_id_publish', 'flag_mobil',\n",
       "       'flag_emp_phone', 'flag_work_phone', 'flag_cont_mobile', 'flag_phone',\n",
       "       'flag_email', 'occupation_type', 'cnt_fam_members',\n",
       "       'region_rating_client', 'region_rating_client_w_city',\n",
       "       'weekday_appr_process_start', 'hour_appr_process_start',\n",
       "       'reg_region_not_live_region', 'reg_region_not_work_region',\n",
       "       'live_region_not_work_region', 'reg_city_not_live_city',\n",
       "       'reg_city_not_work_city', 'live_city_not_work_city',\n",
       "       'organization_type', 'ext_source_2', 'ext_source_3',\n",
       "       'obs_30_cnt_social_circle', 'def_30_cnt_social_circle',\n",
       "       'obs_60_cnt_social_circle', 'def_60_cnt_social_circle',\n",
       "       'days_last_phone_change', 'flag_document_2', 'flag_document_3',\n",
       "       'flag_document_4', 'flag_document_5', 'flag_document_6',\n",
       "       'flag_document_7', 'flag_document_8', 'flag_document_9',\n",
       "       'flag_document_10', 'flag_document_11', 'flag_document_12',\n",
       "       'flag_document_13', 'flag_document_14', 'flag_document_15',\n",
       "       'flag_document_16', 'flag_document_17', 'flag_document_18',\n",
       "       'flag_document_19', 'flag_document_20', 'flag_document_21',\n",
       "       'amt_req_credit_bureau_hour', 'amt_req_credit_bureau_day',\n",
       "       'amt_req_credit_bureau_week', 'amt_req_credit_bureau_mon',\n",
       "       'amt_req_credit_bureau_qrt', 'amt_req_credit_bureau_year'],\n",
       "      dtype='object')"
      ]
     },
     "execution_count": 272,
     "metadata": {},
     "output_type": "execute_result"
    }
   ],
   "source": [
    "df.columns"
   ]
  },
  {
   "cell_type": "code",
   "execution_count": 281,
   "id": "4ace97c9-8a3b-4085-bfb8-35e15e3076ff",
   "metadata": {
    "tags": []
   },
   "outputs": [],
   "source": [
    "df[ 'days_last_phone_change'].fillna(df['days_last_phone_change'].mode(),inplace=True)"
   ]
  },
  {
   "cell_type": "code",
   "execution_count": 282,
   "id": "eeaccdfc-1620-4f87-8e85-0fe8e7f437e0",
   "metadata": {
    "tags": []
   },
   "outputs": [
    {
     "data": {
      "text/plain": [
       "1"
      ]
     },
     "execution_count": 282,
     "metadata": {},
     "output_type": "execute_result"
    }
   ],
   "source": [
    "df[ 'days_last_phone_change'].isna().sum()"
   ]
  },
  {
   "cell_type": "code",
   "execution_count": 283,
   "id": "c4362674-9f77-4d7f-9d98-230e5feb460e",
   "metadata": {},
   "outputs": [
    {
     "data": {
      "text/plain": [
       "Index(['sk_id_curr', 'target', 'cnt_children', 'amt_income_total',\n",
       "       'amt_credit', 'amt_annuity', 'amt_goods_price',\n",
       "       'region_population_relative', 'days_birth', 'days_employed',\n",
       "       'days_registration', 'days_id_publish', 'flag_mobil', 'flag_emp_phone',\n",
       "       'flag_work_phone', 'flag_cont_mobile', 'flag_phone', 'flag_email',\n",
       "       'cnt_fam_members', 'region_rating_client',\n",
       "       'region_rating_client_w_city', 'hour_appr_process_start',\n",
       "       'reg_region_not_live_region', 'reg_region_not_work_region',\n",
       "       'live_region_not_work_region', 'reg_city_not_live_city',\n",
       "       'reg_city_not_work_city', 'live_city_not_work_city', 'ext_source_2',\n",
       "       'ext_source_3', 'obs_30_cnt_social_circle', 'def_30_cnt_social_circle',\n",
       "       'obs_60_cnt_social_circle', 'def_60_cnt_social_circle',\n",
       "       'days_last_phone_change', 'flag_document_2', 'flag_document_3',\n",
       "       'flag_document_4', 'flag_document_5', 'flag_document_6',\n",
       "       'flag_document_7', 'flag_document_8', 'flag_document_9',\n",
       "       'flag_document_10', 'flag_document_11', 'flag_document_12',\n",
       "       'flag_document_13', 'flag_document_14', 'flag_document_15',\n",
       "       'flag_document_16', 'flag_document_17', 'flag_document_18',\n",
       "       'flag_document_19', 'flag_document_20', 'flag_document_21',\n",
       "       'amt_req_credit_bureau_hour', 'amt_req_credit_bureau_day',\n",
       "       'amt_req_credit_bureau_week', 'amt_req_credit_bureau_mon',\n",
       "       'amt_req_credit_bureau_qrt', 'amt_req_credit_bureau_year'],\n",
       "      dtype='object')"
      ]
     },
     "execution_count": 283,
     "metadata": {},
     "output_type": "execute_result"
    }
   ],
   "source": [
    "df.describe().columns"
   ]
  },
  {
   "cell_type": "code",
   "execution_count": 284,
   "id": "ea4e4cd4-c052-46e6-9119-48637a3720b3",
   "metadata": {
    "tags": []
   },
   "outputs": [],
   "source": [
    "days = ['days_birth', 'days_employed','days_registration', 'days_id_publish']"
   ]
  },
  {
   "cell_type": "code",
   "execution_count": 285,
   "id": "a81edd5a-1d9b-45ce-910d-c53f11319336",
   "metadata": {
    "tags": []
   },
   "outputs": [],
   "source": [
    "df[days] = abs(df[days])"
   ]
  },
  {
   "cell_type": "code",
   "execution_count": 286,
   "id": "5cc95148-3ccb-4032-b123-b7cb537f3a08",
   "metadata": {
    "tags": []
   },
   "outputs": [
    {
     "data": {
      "text/html": [
       "<div>\n",
       "<style scoped>\n",
       "    .dataframe tbody tr th:only-of-type {\n",
       "        vertical-align: middle;\n",
       "    }\n",
       "\n",
       "    .dataframe tbody tr th {\n",
       "        vertical-align: top;\n",
       "    }\n",
       "\n",
       "    .dataframe thead th {\n",
       "        text-align: right;\n",
       "    }\n",
       "</style>\n",
       "<table border=\"1\" class=\"dataframe\">\n",
       "  <thead>\n",
       "    <tr style=\"text-align: right;\">\n",
       "      <th></th>\n",
       "      <th>days_birth</th>\n",
       "      <th>days_employed</th>\n",
       "      <th>days_registration</th>\n",
       "      <th>days_id_publish</th>\n",
       "    </tr>\n",
       "  </thead>\n",
       "  <tbody>\n",
       "    <tr>\n",
       "      <th>0</th>\n",
       "      <td>9461</td>\n",
       "      <td>637</td>\n",
       "      <td>3648</td>\n",
       "      <td>2120</td>\n",
       "    </tr>\n",
       "    <tr>\n",
       "      <th>1</th>\n",
       "      <td>16765</td>\n",
       "      <td>1188</td>\n",
       "      <td>1186</td>\n",
       "      <td>291</td>\n",
       "    </tr>\n",
       "    <tr>\n",
       "      <th>2</th>\n",
       "      <td>19046</td>\n",
       "      <td>225</td>\n",
       "      <td>4260</td>\n",
       "      <td>2531</td>\n",
       "    </tr>\n",
       "    <tr>\n",
       "      <th>3</th>\n",
       "      <td>19005</td>\n",
       "      <td>3039</td>\n",
       "      <td>9833</td>\n",
       "      <td>2437</td>\n",
       "    </tr>\n",
       "    <tr>\n",
       "      <th>4</th>\n",
       "      <td>19932</td>\n",
       "      <td>3038</td>\n",
       "      <td>4311</td>\n",
       "      <td>3458</td>\n",
       "    </tr>\n",
       "    <tr>\n",
       "      <th>...</th>\n",
       "      <td>...</td>\n",
       "      <td>...</td>\n",
       "      <td>...</td>\n",
       "      <td>...</td>\n",
       "    </tr>\n",
       "    <tr>\n",
       "      <th>49994</th>\n",
       "      <td>10667</td>\n",
       "      <td>285</td>\n",
       "      <td>2521</td>\n",
       "      <td>3333</td>\n",
       "    </tr>\n",
       "    <tr>\n",
       "      <th>49995</th>\n",
       "      <td>20211</td>\n",
       "      <td>4651</td>\n",
       "      <td>11281</td>\n",
       "      <td>3722</td>\n",
       "    </tr>\n",
       "    <tr>\n",
       "      <th>49996</th>\n",
       "      <td>10280</td>\n",
       "      <td>1158</td>\n",
       "      <td>8620</td>\n",
       "      <td>2604</td>\n",
       "    </tr>\n",
       "    <tr>\n",
       "      <th>49997</th>\n",
       "      <td>23485</td>\n",
       "      <td>2181</td>\n",
       "      <td>2662</td>\n",
       "      <td>4200</td>\n",
       "    </tr>\n",
       "    <tr>\n",
       "      <th>49998</th>\n",
       "      <td>19251</td>\n",
       "      <td>365243</td>\n",
       "      <td>12934</td>\n",
       "      <td>2783</td>\n",
       "    </tr>\n",
       "  </tbody>\n",
       "</table>\n",
       "<p>49999 rows × 4 columns</p>\n",
       "</div>"
      ],
      "text/plain": [
       "       days_birth  days_employed  days_registration  days_id_publish\n",
       "0            9461            637               3648             2120\n",
       "1           16765           1188               1186              291\n",
       "2           19046            225               4260             2531\n",
       "3           19005           3039               9833             2437\n",
       "4           19932           3038               4311             3458\n",
       "...           ...            ...                ...              ...\n",
       "49994       10667            285               2521             3333\n",
       "49995       20211           4651              11281             3722\n",
       "49996       10280           1158               8620             2604\n",
       "49997       23485           2181               2662             4200\n",
       "49998       19251         365243              12934             2783\n",
       "\n",
       "[49999 rows x 4 columns]"
      ]
     },
     "execution_count": 286,
     "metadata": {},
     "output_type": "execute_result"
    }
   ],
   "source": [
    "df[days]"
   ]
  },
  {
   "cell_type": "code",
   "execution_count": 289,
   "id": "2a11b245-fac0-4a25-9ad4-334e114d3a53",
   "metadata": {
    "tags": []
   },
   "outputs": [],
   "source": [
    "df['age'] = round(df['days_birth']/365)"
   ]
  },
  {
   "cell_type": "code",
   "execution_count": 294,
   "id": "9dd15508-1139-4967-8dec-3841a6af26f4",
   "metadata": {
    "tags": []
   },
   "outputs": [
    {
     "data": {
      "text/plain": [
       "[21.0, 69.0]"
      ]
     },
     "execution_count": 294,
     "metadata": {},
     "output_type": "execute_result"
    }
   ],
   "source": [
    "[df['age'].min(), df['age'].max()]"
   ]
  },
  {
   "cell_type": "code",
   "execution_count": 296,
   "id": "fe366331-8948-4843-b67f-15a078802117",
   "metadata": {
    "tags": []
   },
   "outputs": [],
   "source": [
    "df['days_employed_in_years']=round(df['days_employed']/365,1)"
   ]
  },
  {
   "cell_type": "code",
   "execution_count": 298,
   "id": "ead2e55f-c401-408c-910a-acb12262bb75",
   "metadata": {
    "tags": []
   },
   "outputs": [
    {
     "data": {
      "text/plain": [
       "1165        6.9\n",
       "38919       8.8\n",
       "6879        1.6\n",
       "49550       7.0\n",
       "49136       0.5\n",
       "44645      19.4\n",
       "16428       2.6\n",
       "44670       3.1\n",
       "39100    1000.7\n",
       "31282      10.8\n",
       "Name: days_employed_in_years, dtype: float64"
      ]
     },
     "execution_count": 298,
     "metadata": {},
     "output_type": "execute_result"
    }
   ],
   "source": [
    "df['days_employed_in_years'].sample(10)"
   ]
  },
  {
   "cell_type": "code",
   "execution_count": 299,
   "id": "2e0fc8e5-5d79-4737-a20e-68b8c39a487b",
   "metadata": {
    "tags": []
   },
   "outputs": [
    {
     "data": {
      "text/plain": [
       "1000.7"
      ]
     },
     "execution_count": 299,
     "metadata": {},
     "output_type": "execute_result"
    }
   ],
   "source": [
    "df['days_employed_in_years'].max()"
   ]
  },
  {
   "cell_type": "code",
   "execution_count": 302,
   "id": "c2b707cf-6812-42ca-a914-a3af3a0f1006",
   "metadata": {
    "tags": []
   },
   "outputs": [],
   "source": [
    "df['days_last_phone_change']=abs(df['days_last_phone_change'])"
   ]
  },
  {
   "cell_type": "code",
   "execution_count": null,
   "id": "90a1eefc-a7a4-42ed-8baa-d46c6996ad1a",
   "metadata": {},
   "outputs": [],
   "source": []
  }
 ],
 "metadata": {
  "kernelspec": {
   "display_name": "Python 3 (ipykernel)",
   "language": "python",
   "name": "python3"
  },
  "language_info": {
   "codemirror_mode": {
    "name": "ipython",
    "version": 3
   },
   "file_extension": ".py",
   "mimetype": "text/x-python",
   "name": "python",
   "nbconvert_exporter": "python",
   "pygments_lexer": "ipython3",
   "version": "3.11.5"
  }
 },
 "nbformat": 4,
 "nbformat_minor": 5
}
