{
 "cells": [
  {
   "cell_type": "code",
   "execution_count": 109,
   "id": "b62968f1-da2f-49a8-bcbb-d90a5c0d0f5a",
   "metadata": {
    "tags": []
   },
   "outputs": [],
   "source": [
    "import pandas as pd\n",
    "import numpy as np\n",
    "import devesh \n",
    "import seaborn as sns\n",
    "import matplotlib.pyplot as plt"
   ]
  },
  {
   "cell_type": "code",
   "execution_count": 31,
   "id": "db7a60bd-7242-46fb-839c-4f5d7a6bcb55",
   "metadata": {
    "tags": []
   },
   "outputs": [],
   "source": [
    "df = pd.read_csv('C:/Users/deves/Documents/GitHub/Pyton/bank loan/application_data.csv')"
   ]
  },
  {
   "cell_type": "code",
   "execution_count": 29,
   "id": "d86a949a-8f34-4c15-aada-6eb2a25b9d3d",
   "metadata": {
    "tags": []
   },
   "outputs": [
    {
     "data": {
      "text/html": [
       "<div>\n",
       "<style scoped>\n",
       "    .dataframe tbody tr th:only-of-type {\n",
       "        vertical-align: middle;\n",
       "    }\n",
       "\n",
       "    .dataframe tbody tr th {\n",
       "        vertical-align: top;\n",
       "    }\n",
       "\n",
       "    .dataframe thead th {\n",
       "        text-align: right;\n",
       "    }\n",
       "</style>\n",
       "<table border=\"1\" class=\"dataframe\">\n",
       "  <thead>\n",
       "    <tr style=\"text-align: right;\">\n",
       "      <th></th>\n",
       "      <th>SK_ID_CURR</th>\n",
       "      <th>TARGET</th>\n",
       "      <th>NAME_CONTRACT_TYPE</th>\n",
       "      <th>CODE_GENDER</th>\n",
       "      <th>FLAG_OWN_CAR</th>\n",
       "      <th>FLAG_OWN_REALTY</th>\n",
       "      <th>CNT_CHILDREN</th>\n",
       "      <th>AMT_INCOME_TOTAL</th>\n",
       "      <th>AMT_CREDIT</th>\n",
       "      <th>AMT_ANNUITY</th>\n",
       "      <th>...</th>\n",
       "      <th>FLAG_DOCUMENT_18</th>\n",
       "      <th>FLAG_DOCUMENT_19</th>\n",
       "      <th>FLAG_DOCUMENT_20</th>\n",
       "      <th>FLAG_DOCUMENT_21</th>\n",
       "      <th>AMT_REQ_CREDIT_BUREAU_HOUR</th>\n",
       "      <th>AMT_REQ_CREDIT_BUREAU_DAY</th>\n",
       "      <th>AMT_REQ_CREDIT_BUREAU_WEEK</th>\n",
       "      <th>AMT_REQ_CREDIT_BUREAU_MON</th>\n",
       "      <th>AMT_REQ_CREDIT_BUREAU_QRT</th>\n",
       "      <th>AMT_REQ_CREDIT_BUREAU_YEAR</th>\n",
       "    </tr>\n",
       "  </thead>\n",
       "  <tbody>\n",
       "    <tr>\n",
       "      <th>0</th>\n",
       "      <td>100002</td>\n",
       "      <td>1</td>\n",
       "      <td>Cash loans</td>\n",
       "      <td>M</td>\n",
       "      <td>N</td>\n",
       "      <td>Y</td>\n",
       "      <td>0</td>\n",
       "      <td>202500.0</td>\n",
       "      <td>406597.5</td>\n",
       "      <td>24700.5</td>\n",
       "      <td>...</td>\n",
       "      <td>0</td>\n",
       "      <td>0</td>\n",
       "      <td>0</td>\n",
       "      <td>0</td>\n",
       "      <td>0.0</td>\n",
       "      <td>0.0</td>\n",
       "      <td>0.0</td>\n",
       "      <td>0.0</td>\n",
       "      <td>0.0</td>\n",
       "      <td>1.0</td>\n",
       "    </tr>\n",
       "    <tr>\n",
       "      <th>1</th>\n",
       "      <td>100003</td>\n",
       "      <td>0</td>\n",
       "      <td>Cash loans</td>\n",
       "      <td>F</td>\n",
       "      <td>N</td>\n",
       "      <td>N</td>\n",
       "      <td>0</td>\n",
       "      <td>270000.0</td>\n",
       "      <td>1293502.5</td>\n",
       "      <td>35698.5</td>\n",
       "      <td>...</td>\n",
       "      <td>0</td>\n",
       "      <td>0</td>\n",
       "      <td>0</td>\n",
       "      <td>0</td>\n",
       "      <td>0.0</td>\n",
       "      <td>0.0</td>\n",
       "      <td>0.0</td>\n",
       "      <td>0.0</td>\n",
       "      <td>0.0</td>\n",
       "      <td>0.0</td>\n",
       "    </tr>\n",
       "    <tr>\n",
       "      <th>2</th>\n",
       "      <td>100004</td>\n",
       "      <td>0</td>\n",
       "      <td>Revolving loans</td>\n",
       "      <td>M</td>\n",
       "      <td>Y</td>\n",
       "      <td>Y</td>\n",
       "      <td>0</td>\n",
       "      <td>67500.0</td>\n",
       "      <td>135000.0</td>\n",
       "      <td>6750.0</td>\n",
       "      <td>...</td>\n",
       "      <td>0</td>\n",
       "      <td>0</td>\n",
       "      <td>0</td>\n",
       "      <td>0</td>\n",
       "      <td>0.0</td>\n",
       "      <td>0.0</td>\n",
       "      <td>0.0</td>\n",
       "      <td>0.0</td>\n",
       "      <td>0.0</td>\n",
       "      <td>0.0</td>\n",
       "    </tr>\n",
       "    <tr>\n",
       "      <th>3</th>\n",
       "      <td>100006</td>\n",
       "      <td>0</td>\n",
       "      <td>Cash loans</td>\n",
       "      <td>F</td>\n",
       "      <td>N</td>\n",
       "      <td>Y</td>\n",
       "      <td>0</td>\n",
       "      <td>135000.0</td>\n",
       "      <td>312682.5</td>\n",
       "      <td>29686.5</td>\n",
       "      <td>...</td>\n",
       "      <td>0</td>\n",
       "      <td>0</td>\n",
       "      <td>0</td>\n",
       "      <td>0</td>\n",
       "      <td>NaN</td>\n",
       "      <td>NaN</td>\n",
       "      <td>NaN</td>\n",
       "      <td>NaN</td>\n",
       "      <td>NaN</td>\n",
       "      <td>NaN</td>\n",
       "    </tr>\n",
       "    <tr>\n",
       "      <th>4</th>\n",
       "      <td>100007</td>\n",
       "      <td>0</td>\n",
       "      <td>Cash loans</td>\n",
       "      <td>M</td>\n",
       "      <td>N</td>\n",
       "      <td>Y</td>\n",
       "      <td>0</td>\n",
       "      <td>121500.0</td>\n",
       "      <td>513000.0</td>\n",
       "      <td>21865.5</td>\n",
       "      <td>...</td>\n",
       "      <td>0</td>\n",
       "      <td>0</td>\n",
       "      <td>0</td>\n",
       "      <td>0</td>\n",
       "      <td>0.0</td>\n",
       "      <td>0.0</td>\n",
       "      <td>0.0</td>\n",
       "      <td>0.0</td>\n",
       "      <td>0.0</td>\n",
       "      <td>0.0</td>\n",
       "    </tr>\n",
       "  </tbody>\n",
       "</table>\n",
       "<p>5 rows × 122 columns</p>\n",
       "</div>"
      ],
      "text/plain": [
       "   SK_ID_CURR  TARGET NAME_CONTRACT_TYPE CODE_GENDER FLAG_OWN_CAR  \\\n",
       "0      100002       1         Cash loans           M            N   \n",
       "1      100003       0         Cash loans           F            N   \n",
       "2      100004       0    Revolving loans           M            Y   \n",
       "3      100006       0         Cash loans           F            N   \n",
       "4      100007       0         Cash loans           M            N   \n",
       "\n",
       "  FLAG_OWN_REALTY  CNT_CHILDREN  AMT_INCOME_TOTAL  AMT_CREDIT  AMT_ANNUITY  \\\n",
       "0               Y             0          202500.0    406597.5      24700.5   \n",
       "1               N             0          270000.0   1293502.5      35698.5   \n",
       "2               Y             0           67500.0    135000.0       6750.0   \n",
       "3               Y             0          135000.0    312682.5      29686.5   \n",
       "4               Y             0          121500.0    513000.0      21865.5   \n",
       "\n",
       "   ...  FLAG_DOCUMENT_18 FLAG_DOCUMENT_19 FLAG_DOCUMENT_20 FLAG_DOCUMENT_21  \\\n",
       "0  ...                 0                0                0                0   \n",
       "1  ...                 0                0                0                0   \n",
       "2  ...                 0                0                0                0   \n",
       "3  ...                 0                0                0                0   \n",
       "4  ...                 0                0                0                0   \n",
       "\n",
       "  AMT_REQ_CREDIT_BUREAU_HOUR AMT_REQ_CREDIT_BUREAU_DAY  \\\n",
       "0                        0.0                       0.0   \n",
       "1                        0.0                       0.0   \n",
       "2                        0.0                       0.0   \n",
       "3                        NaN                       NaN   \n",
       "4                        0.0                       0.0   \n",
       "\n",
       "   AMT_REQ_CREDIT_BUREAU_WEEK  AMT_REQ_CREDIT_BUREAU_MON  \\\n",
       "0                         0.0                        0.0   \n",
       "1                         0.0                        0.0   \n",
       "2                         0.0                        0.0   \n",
       "3                         NaN                        NaN   \n",
       "4                         0.0                        0.0   \n",
       "\n",
       "   AMT_REQ_CREDIT_BUREAU_QRT  AMT_REQ_CREDIT_BUREAU_YEAR  \n",
       "0                        0.0                         1.0  \n",
       "1                        0.0                         0.0  \n",
       "2                        0.0                         0.0  \n",
       "3                        NaN                         NaN  \n",
       "4                        0.0                         0.0  \n",
       "\n",
       "[5 rows x 122 columns]"
      ]
     },
     "execution_count": 29,
     "metadata": {},
     "output_type": "execute_result"
    }
   ],
   "source": [
    "df.head()"
   ]
  },
  {
   "cell_type": "code",
   "execution_count": 4,
   "id": "c6179855-d6be-4e32-942c-f787d3b76e76",
   "metadata": {
    "tags": []
   },
   "outputs": [
    {
     "data": {
      "text/html": [
       "<div>\n",
       "<style scoped>\n",
       "    .dataframe tbody tr th:only-of-type {\n",
       "        vertical-align: middle;\n",
       "    }\n",
       "\n",
       "    .dataframe tbody tr th {\n",
       "        vertical-align: top;\n",
       "    }\n",
       "\n",
       "    .dataframe thead th {\n",
       "        text-align: right;\n",
       "    }\n",
       "</style>\n",
       "<table border=\"1\" class=\"dataframe\">\n",
       "  <thead>\n",
       "    <tr style=\"text-align: right;\">\n",
       "      <th></th>\n",
       "      <th>SK_ID_PREV</th>\n",
       "      <th>SK_ID_CURR</th>\n",
       "      <th>NAME_CONTRACT_TYPE</th>\n",
       "      <th>AMT_ANNUITY</th>\n",
       "      <th>AMT_APPLICATION</th>\n",
       "      <th>AMT_CREDIT</th>\n",
       "      <th>AMT_DOWN_PAYMENT</th>\n",
       "      <th>AMT_GOODS_PRICE</th>\n",
       "      <th>WEEKDAY_APPR_PROCESS_START</th>\n",
       "      <th>HOUR_APPR_PROCESS_START</th>\n",
       "      <th>...</th>\n",
       "      <th>NAME_SELLER_INDUSTRY</th>\n",
       "      <th>CNT_PAYMENT</th>\n",
       "      <th>NAME_YIELD_GROUP</th>\n",
       "      <th>PRODUCT_COMBINATION</th>\n",
       "      <th>DAYS_FIRST_DRAWING</th>\n",
       "      <th>DAYS_FIRST_DUE</th>\n",
       "      <th>DAYS_LAST_DUE_1ST_VERSION</th>\n",
       "      <th>DAYS_LAST_DUE</th>\n",
       "      <th>DAYS_TERMINATION</th>\n",
       "      <th>NFLAG_INSURED_ON_APPROVAL</th>\n",
       "    </tr>\n",
       "  </thead>\n",
       "  <tbody>\n",
       "    <tr>\n",
       "      <th>0</th>\n",
       "      <td>2030495</td>\n",
       "      <td>271877</td>\n",
       "      <td>Consumer loans</td>\n",
       "      <td>1730.430</td>\n",
       "      <td>17145.0</td>\n",
       "      <td>17145.0</td>\n",
       "      <td>0.0</td>\n",
       "      <td>17145.0</td>\n",
       "      <td>SATURDAY</td>\n",
       "      <td>15</td>\n",
       "      <td>...</td>\n",
       "      <td>Connectivity</td>\n",
       "      <td>12.0</td>\n",
       "      <td>middle</td>\n",
       "      <td>POS mobile with interest</td>\n",
       "      <td>365243.0</td>\n",
       "      <td>-42.0</td>\n",
       "      <td>300.0</td>\n",
       "      <td>-42.0</td>\n",
       "      <td>-37.0</td>\n",
       "      <td>0.0</td>\n",
       "    </tr>\n",
       "    <tr>\n",
       "      <th>1</th>\n",
       "      <td>2802425</td>\n",
       "      <td>108129</td>\n",
       "      <td>Cash loans</td>\n",
       "      <td>25188.615</td>\n",
       "      <td>607500.0</td>\n",
       "      <td>679671.0</td>\n",
       "      <td>NaN</td>\n",
       "      <td>607500.0</td>\n",
       "      <td>THURSDAY</td>\n",
       "      <td>11</td>\n",
       "      <td>...</td>\n",
       "      <td>XNA</td>\n",
       "      <td>36.0</td>\n",
       "      <td>low_action</td>\n",
       "      <td>Cash X-Sell: low</td>\n",
       "      <td>365243.0</td>\n",
       "      <td>-134.0</td>\n",
       "      <td>916.0</td>\n",
       "      <td>365243.0</td>\n",
       "      <td>365243.0</td>\n",
       "      <td>1.0</td>\n",
       "    </tr>\n",
       "    <tr>\n",
       "      <th>2</th>\n",
       "      <td>2523466</td>\n",
       "      <td>122040</td>\n",
       "      <td>Cash loans</td>\n",
       "      <td>15060.735</td>\n",
       "      <td>112500.0</td>\n",
       "      <td>136444.5</td>\n",
       "      <td>NaN</td>\n",
       "      <td>112500.0</td>\n",
       "      <td>TUESDAY</td>\n",
       "      <td>11</td>\n",
       "      <td>...</td>\n",
       "      <td>XNA</td>\n",
       "      <td>12.0</td>\n",
       "      <td>high</td>\n",
       "      <td>Cash X-Sell: high</td>\n",
       "      <td>365243.0</td>\n",
       "      <td>-271.0</td>\n",
       "      <td>59.0</td>\n",
       "      <td>365243.0</td>\n",
       "      <td>365243.0</td>\n",
       "      <td>1.0</td>\n",
       "    </tr>\n",
       "    <tr>\n",
       "      <th>3</th>\n",
       "      <td>2819243</td>\n",
       "      <td>176158</td>\n",
       "      <td>Cash loans</td>\n",
       "      <td>47041.335</td>\n",
       "      <td>450000.0</td>\n",
       "      <td>470790.0</td>\n",
       "      <td>NaN</td>\n",
       "      <td>450000.0</td>\n",
       "      <td>MONDAY</td>\n",
       "      <td>7</td>\n",
       "      <td>...</td>\n",
       "      <td>XNA</td>\n",
       "      <td>12.0</td>\n",
       "      <td>middle</td>\n",
       "      <td>Cash X-Sell: middle</td>\n",
       "      <td>365243.0</td>\n",
       "      <td>-482.0</td>\n",
       "      <td>-152.0</td>\n",
       "      <td>-182.0</td>\n",
       "      <td>-177.0</td>\n",
       "      <td>1.0</td>\n",
       "    </tr>\n",
       "    <tr>\n",
       "      <th>4</th>\n",
       "      <td>1784265</td>\n",
       "      <td>202054</td>\n",
       "      <td>Cash loans</td>\n",
       "      <td>31924.395</td>\n",
       "      <td>337500.0</td>\n",
       "      <td>404055.0</td>\n",
       "      <td>NaN</td>\n",
       "      <td>337500.0</td>\n",
       "      <td>THURSDAY</td>\n",
       "      <td>9</td>\n",
       "      <td>...</td>\n",
       "      <td>XNA</td>\n",
       "      <td>24.0</td>\n",
       "      <td>high</td>\n",
       "      <td>Cash Street: high</td>\n",
       "      <td>NaN</td>\n",
       "      <td>NaN</td>\n",
       "      <td>NaN</td>\n",
       "      <td>NaN</td>\n",
       "      <td>NaN</td>\n",
       "      <td>NaN</td>\n",
       "    </tr>\n",
       "  </tbody>\n",
       "</table>\n",
       "<p>5 rows × 37 columns</p>\n",
       "</div>"
      ],
      "text/plain": [
       "   SK_ID_PREV  SK_ID_CURR NAME_CONTRACT_TYPE  AMT_ANNUITY  AMT_APPLICATION  \\\n",
       "0     2030495      271877     Consumer loans     1730.430          17145.0   \n",
       "1     2802425      108129         Cash loans    25188.615         607500.0   \n",
       "2     2523466      122040         Cash loans    15060.735         112500.0   \n",
       "3     2819243      176158         Cash loans    47041.335         450000.0   \n",
       "4     1784265      202054         Cash loans    31924.395         337500.0   \n",
       "\n",
       "   AMT_CREDIT  AMT_DOWN_PAYMENT  AMT_GOODS_PRICE WEEKDAY_APPR_PROCESS_START  \\\n",
       "0     17145.0               0.0          17145.0                   SATURDAY   \n",
       "1    679671.0               NaN         607500.0                   THURSDAY   \n",
       "2    136444.5               NaN         112500.0                    TUESDAY   \n",
       "3    470790.0               NaN         450000.0                     MONDAY   \n",
       "4    404055.0               NaN         337500.0                   THURSDAY   \n",
       "\n",
       "   HOUR_APPR_PROCESS_START  ... NAME_SELLER_INDUSTRY  CNT_PAYMENT  \\\n",
       "0                       15  ...         Connectivity         12.0   \n",
       "1                       11  ...                  XNA         36.0   \n",
       "2                       11  ...                  XNA         12.0   \n",
       "3                        7  ...                  XNA         12.0   \n",
       "4                        9  ...                  XNA         24.0   \n",
       "\n",
       "   NAME_YIELD_GROUP       PRODUCT_COMBINATION  DAYS_FIRST_DRAWING  \\\n",
       "0            middle  POS mobile with interest            365243.0   \n",
       "1        low_action          Cash X-Sell: low            365243.0   \n",
       "2              high         Cash X-Sell: high            365243.0   \n",
       "3            middle       Cash X-Sell: middle            365243.0   \n",
       "4              high         Cash Street: high                 NaN   \n",
       "\n",
       "  DAYS_FIRST_DUE DAYS_LAST_DUE_1ST_VERSION  DAYS_LAST_DUE DAYS_TERMINATION  \\\n",
       "0          -42.0                     300.0          -42.0            -37.0   \n",
       "1         -134.0                     916.0       365243.0         365243.0   \n",
       "2         -271.0                      59.0       365243.0         365243.0   \n",
       "3         -482.0                    -152.0         -182.0           -177.0   \n",
       "4            NaN                       NaN            NaN              NaN   \n",
       "\n",
       "  NFLAG_INSURED_ON_APPROVAL  \n",
       "0                       0.0  \n",
       "1                       1.0  \n",
       "2                       1.0  \n",
       "3                       1.0  \n",
       "4                       NaN  \n",
       "\n",
       "[5 rows x 37 columns]"
      ]
     },
     "execution_count": 4,
     "metadata": {},
     "output_type": "execute_result"
    }
   ],
   "source": [
    "df1 = pd.read_csv('C:/Users/deves/Documents/GitHub/Pyton/bank loan/previous_application.csv')\n",
    "df1.head()"
   ]
  },
  {
   "cell_type": "code",
   "execution_count": 5,
   "id": "57902d08-049a-4eba-bb8e-3907dc37903a",
   "metadata": {
    "tags": []
   },
   "outputs": [
    {
     "data": {
      "text/html": [
       "<div>\n",
       "<style scoped>\n",
       "    .dataframe tbody tr th:only-of-type {\n",
       "        vertical-align: middle;\n",
       "    }\n",
       "\n",
       "    .dataframe tbody tr th {\n",
       "        vertical-align: top;\n",
       "    }\n",
       "\n",
       "    .dataframe thead th {\n",
       "        text-align: right;\n",
       "    }\n",
       "</style>\n",
       "<table border=\"1\" class=\"dataframe\">\n",
       "  <thead>\n",
       "    <tr style=\"text-align: right;\">\n",
       "      <th></th>\n",
       "      <th>SK_ID_CURR</th>\n",
       "      <th>TARGET</th>\n",
       "      <th>NAME_CONTRACT_TYPE</th>\n",
       "      <th>CODE_GENDER</th>\n",
       "      <th>FLAG_OWN_CAR</th>\n",
       "      <th>FLAG_OWN_REALTY</th>\n",
       "      <th>CNT_CHILDREN</th>\n",
       "      <th>AMT_INCOME_TOTAL</th>\n",
       "      <th>AMT_CREDIT</th>\n",
       "      <th>AMT_ANNUITY</th>\n",
       "      <th>...</th>\n",
       "      <th>FLAG_DOCUMENT_18</th>\n",
       "      <th>FLAG_DOCUMENT_19</th>\n",
       "      <th>FLAG_DOCUMENT_20</th>\n",
       "      <th>FLAG_DOCUMENT_21</th>\n",
       "      <th>AMT_REQ_CREDIT_BUREAU_HOUR</th>\n",
       "      <th>AMT_REQ_CREDIT_BUREAU_DAY</th>\n",
       "      <th>AMT_REQ_CREDIT_BUREAU_WEEK</th>\n",
       "      <th>AMT_REQ_CREDIT_BUREAU_MON</th>\n",
       "      <th>AMT_REQ_CREDIT_BUREAU_QRT</th>\n",
       "      <th>AMT_REQ_CREDIT_BUREAU_YEAR</th>\n",
       "    </tr>\n",
       "  </thead>\n",
       "  <tbody>\n",
       "    <tr>\n",
       "      <th>0</th>\n",
       "      <td>100002</td>\n",
       "      <td>1</td>\n",
       "      <td>Cash loans</td>\n",
       "      <td>M</td>\n",
       "      <td>N</td>\n",
       "      <td>Y</td>\n",
       "      <td>0</td>\n",
       "      <td>202500.0</td>\n",
       "      <td>406597.5</td>\n",
       "      <td>24700.5</td>\n",
       "      <td>...</td>\n",
       "      <td>0</td>\n",
       "      <td>0</td>\n",
       "      <td>0</td>\n",
       "      <td>0</td>\n",
       "      <td>0.0</td>\n",
       "      <td>0.0</td>\n",
       "      <td>0.0</td>\n",
       "      <td>0.0</td>\n",
       "      <td>0.0</td>\n",
       "      <td>1.0</td>\n",
       "    </tr>\n",
       "    <tr>\n",
       "      <th>1</th>\n",
       "      <td>100003</td>\n",
       "      <td>0</td>\n",
       "      <td>Cash loans</td>\n",
       "      <td>F</td>\n",
       "      <td>N</td>\n",
       "      <td>N</td>\n",
       "      <td>0</td>\n",
       "      <td>270000.0</td>\n",
       "      <td>1293502.5</td>\n",
       "      <td>35698.5</td>\n",
       "      <td>...</td>\n",
       "      <td>0</td>\n",
       "      <td>0</td>\n",
       "      <td>0</td>\n",
       "      <td>0</td>\n",
       "      <td>0.0</td>\n",
       "      <td>0.0</td>\n",
       "      <td>0.0</td>\n",
       "      <td>0.0</td>\n",
       "      <td>0.0</td>\n",
       "      <td>0.0</td>\n",
       "    </tr>\n",
       "    <tr>\n",
       "      <th>2</th>\n",
       "      <td>100004</td>\n",
       "      <td>0</td>\n",
       "      <td>Revolving loans</td>\n",
       "      <td>M</td>\n",
       "      <td>Y</td>\n",
       "      <td>Y</td>\n",
       "      <td>0</td>\n",
       "      <td>67500.0</td>\n",
       "      <td>135000.0</td>\n",
       "      <td>6750.0</td>\n",
       "      <td>...</td>\n",
       "      <td>0</td>\n",
       "      <td>0</td>\n",
       "      <td>0</td>\n",
       "      <td>0</td>\n",
       "      <td>0.0</td>\n",
       "      <td>0.0</td>\n",
       "      <td>0.0</td>\n",
       "      <td>0.0</td>\n",
       "      <td>0.0</td>\n",
       "      <td>0.0</td>\n",
       "    </tr>\n",
       "    <tr>\n",
       "      <th>3</th>\n",
       "      <td>100006</td>\n",
       "      <td>0</td>\n",
       "      <td>Cash loans</td>\n",
       "      <td>F</td>\n",
       "      <td>N</td>\n",
       "      <td>Y</td>\n",
       "      <td>0</td>\n",
       "      <td>135000.0</td>\n",
       "      <td>312682.5</td>\n",
       "      <td>29686.5</td>\n",
       "      <td>...</td>\n",
       "      <td>0</td>\n",
       "      <td>0</td>\n",
       "      <td>0</td>\n",
       "      <td>0</td>\n",
       "      <td>NaN</td>\n",
       "      <td>NaN</td>\n",
       "      <td>NaN</td>\n",
       "      <td>NaN</td>\n",
       "      <td>NaN</td>\n",
       "      <td>NaN</td>\n",
       "    </tr>\n",
       "    <tr>\n",
       "      <th>4</th>\n",
       "      <td>100007</td>\n",
       "      <td>0</td>\n",
       "      <td>Cash loans</td>\n",
       "      <td>M</td>\n",
       "      <td>N</td>\n",
       "      <td>Y</td>\n",
       "      <td>0</td>\n",
       "      <td>121500.0</td>\n",
       "      <td>513000.0</td>\n",
       "      <td>21865.5</td>\n",
       "      <td>...</td>\n",
       "      <td>0</td>\n",
       "      <td>0</td>\n",
       "      <td>0</td>\n",
       "      <td>0</td>\n",
       "      <td>0.0</td>\n",
       "      <td>0.0</td>\n",
       "      <td>0.0</td>\n",
       "      <td>0.0</td>\n",
       "      <td>0.0</td>\n",
       "      <td>0.0</td>\n",
       "    </tr>\n",
       "  </tbody>\n",
       "</table>\n",
       "<p>5 rows × 122 columns</p>\n",
       "</div>"
      ],
      "text/plain": [
       "   SK_ID_CURR  TARGET NAME_CONTRACT_TYPE CODE_GENDER FLAG_OWN_CAR  \\\n",
       "0      100002       1         Cash loans           M            N   \n",
       "1      100003       0         Cash loans           F            N   \n",
       "2      100004       0    Revolving loans           M            Y   \n",
       "3      100006       0         Cash loans           F            N   \n",
       "4      100007       0         Cash loans           M            N   \n",
       "\n",
       "  FLAG_OWN_REALTY  CNT_CHILDREN  AMT_INCOME_TOTAL  AMT_CREDIT  AMT_ANNUITY  \\\n",
       "0               Y             0          202500.0    406597.5      24700.5   \n",
       "1               N             0          270000.0   1293502.5      35698.5   \n",
       "2               Y             0           67500.0    135000.0       6750.0   \n",
       "3               Y             0          135000.0    312682.5      29686.5   \n",
       "4               Y             0          121500.0    513000.0      21865.5   \n",
       "\n",
       "   ...  FLAG_DOCUMENT_18 FLAG_DOCUMENT_19 FLAG_DOCUMENT_20 FLAG_DOCUMENT_21  \\\n",
       "0  ...                 0                0                0                0   \n",
       "1  ...                 0                0                0                0   \n",
       "2  ...                 0                0                0                0   \n",
       "3  ...                 0                0                0                0   \n",
       "4  ...                 0                0                0                0   \n",
       "\n",
       "  AMT_REQ_CREDIT_BUREAU_HOUR AMT_REQ_CREDIT_BUREAU_DAY  \\\n",
       "0                        0.0                       0.0   \n",
       "1                        0.0                       0.0   \n",
       "2                        0.0                       0.0   \n",
       "3                        NaN                       NaN   \n",
       "4                        0.0                       0.0   \n",
       "\n",
       "   AMT_REQ_CREDIT_BUREAU_WEEK  AMT_REQ_CREDIT_BUREAU_MON  \\\n",
       "0                         0.0                        0.0   \n",
       "1                         0.0                        0.0   \n",
       "2                         0.0                        0.0   \n",
       "3                         NaN                        NaN   \n",
       "4                         0.0                        0.0   \n",
       "\n",
       "   AMT_REQ_CREDIT_BUREAU_QRT  AMT_REQ_CREDIT_BUREAU_YEAR  \n",
       "0                        0.0                         1.0  \n",
       "1                        0.0                         0.0  \n",
       "2                        0.0                         0.0  \n",
       "3                        NaN                         NaN  \n",
       "4                        0.0                         0.0  \n",
       "\n",
       "[5 rows x 122 columns]"
      ]
     },
     "execution_count": 5,
     "metadata": {},
     "output_type": "execute_result"
    }
   ],
   "source": [
    "df.head()"
   ]
  },
  {
   "cell_type": "code",
   "execution_count": 6,
   "id": "ee71be53-6916-4136-afd1-1d4ebaae4d0a",
   "metadata": {
    "tags": []
   },
   "outputs": [
    {
     "data": {
      "text/html": [
       "<div>\n",
       "<style scoped>\n",
       "    .dataframe tbody tr th:only-of-type {\n",
       "        vertical-align: middle;\n",
       "    }\n",
       "\n",
       "    .dataframe tbody tr th {\n",
       "        vertical-align: top;\n",
       "    }\n",
       "\n",
       "    .dataframe thead th {\n",
       "        text-align: right;\n",
       "    }\n",
       "</style>\n",
       "<table border=\"1\" class=\"dataframe\">\n",
       "  <thead>\n",
       "    <tr style=\"text-align: right;\">\n",
       "      <th></th>\n",
       "      <th>SK_ID_PREV</th>\n",
       "      <th>SK_ID_CURR</th>\n",
       "      <th>NAME_CONTRACT_TYPE</th>\n",
       "      <th>AMT_ANNUITY</th>\n",
       "      <th>AMT_APPLICATION</th>\n",
       "      <th>AMT_CREDIT</th>\n",
       "      <th>AMT_DOWN_PAYMENT</th>\n",
       "      <th>AMT_GOODS_PRICE</th>\n",
       "      <th>WEEKDAY_APPR_PROCESS_START</th>\n",
       "      <th>HOUR_APPR_PROCESS_START</th>\n",
       "      <th>...</th>\n",
       "      <th>NAME_SELLER_INDUSTRY</th>\n",
       "      <th>CNT_PAYMENT</th>\n",
       "      <th>NAME_YIELD_GROUP</th>\n",
       "      <th>PRODUCT_COMBINATION</th>\n",
       "      <th>DAYS_FIRST_DRAWING</th>\n",
       "      <th>DAYS_FIRST_DUE</th>\n",
       "      <th>DAYS_LAST_DUE_1ST_VERSION</th>\n",
       "      <th>DAYS_LAST_DUE</th>\n",
       "      <th>DAYS_TERMINATION</th>\n",
       "      <th>NFLAG_INSURED_ON_APPROVAL</th>\n",
       "    </tr>\n",
       "  </thead>\n",
       "  <tbody>\n",
       "    <tr>\n",
       "      <th>0</th>\n",
       "      <td>2030495</td>\n",
       "      <td>271877</td>\n",
       "      <td>Consumer loans</td>\n",
       "      <td>1730.430</td>\n",
       "      <td>17145.0</td>\n",
       "      <td>17145.0</td>\n",
       "      <td>0.0</td>\n",
       "      <td>17145.0</td>\n",
       "      <td>SATURDAY</td>\n",
       "      <td>15</td>\n",
       "      <td>...</td>\n",
       "      <td>Connectivity</td>\n",
       "      <td>12.0</td>\n",
       "      <td>middle</td>\n",
       "      <td>POS mobile with interest</td>\n",
       "      <td>365243.0</td>\n",
       "      <td>-42.0</td>\n",
       "      <td>300.0</td>\n",
       "      <td>-42.0</td>\n",
       "      <td>-37.0</td>\n",
       "      <td>0.0</td>\n",
       "    </tr>\n",
       "    <tr>\n",
       "      <th>1</th>\n",
       "      <td>2802425</td>\n",
       "      <td>108129</td>\n",
       "      <td>Cash loans</td>\n",
       "      <td>25188.615</td>\n",
       "      <td>607500.0</td>\n",
       "      <td>679671.0</td>\n",
       "      <td>NaN</td>\n",
       "      <td>607500.0</td>\n",
       "      <td>THURSDAY</td>\n",
       "      <td>11</td>\n",
       "      <td>...</td>\n",
       "      <td>XNA</td>\n",
       "      <td>36.0</td>\n",
       "      <td>low_action</td>\n",
       "      <td>Cash X-Sell: low</td>\n",
       "      <td>365243.0</td>\n",
       "      <td>-134.0</td>\n",
       "      <td>916.0</td>\n",
       "      <td>365243.0</td>\n",
       "      <td>365243.0</td>\n",
       "      <td>1.0</td>\n",
       "    </tr>\n",
       "    <tr>\n",
       "      <th>2</th>\n",
       "      <td>2523466</td>\n",
       "      <td>122040</td>\n",
       "      <td>Cash loans</td>\n",
       "      <td>15060.735</td>\n",
       "      <td>112500.0</td>\n",
       "      <td>136444.5</td>\n",
       "      <td>NaN</td>\n",
       "      <td>112500.0</td>\n",
       "      <td>TUESDAY</td>\n",
       "      <td>11</td>\n",
       "      <td>...</td>\n",
       "      <td>XNA</td>\n",
       "      <td>12.0</td>\n",
       "      <td>high</td>\n",
       "      <td>Cash X-Sell: high</td>\n",
       "      <td>365243.0</td>\n",
       "      <td>-271.0</td>\n",
       "      <td>59.0</td>\n",
       "      <td>365243.0</td>\n",
       "      <td>365243.0</td>\n",
       "      <td>1.0</td>\n",
       "    </tr>\n",
       "    <tr>\n",
       "      <th>3</th>\n",
       "      <td>2819243</td>\n",
       "      <td>176158</td>\n",
       "      <td>Cash loans</td>\n",
       "      <td>47041.335</td>\n",
       "      <td>450000.0</td>\n",
       "      <td>470790.0</td>\n",
       "      <td>NaN</td>\n",
       "      <td>450000.0</td>\n",
       "      <td>MONDAY</td>\n",
       "      <td>7</td>\n",
       "      <td>...</td>\n",
       "      <td>XNA</td>\n",
       "      <td>12.0</td>\n",
       "      <td>middle</td>\n",
       "      <td>Cash X-Sell: middle</td>\n",
       "      <td>365243.0</td>\n",
       "      <td>-482.0</td>\n",
       "      <td>-152.0</td>\n",
       "      <td>-182.0</td>\n",
       "      <td>-177.0</td>\n",
       "      <td>1.0</td>\n",
       "    </tr>\n",
       "    <tr>\n",
       "      <th>4</th>\n",
       "      <td>1784265</td>\n",
       "      <td>202054</td>\n",
       "      <td>Cash loans</td>\n",
       "      <td>31924.395</td>\n",
       "      <td>337500.0</td>\n",
       "      <td>404055.0</td>\n",
       "      <td>NaN</td>\n",
       "      <td>337500.0</td>\n",
       "      <td>THURSDAY</td>\n",
       "      <td>9</td>\n",
       "      <td>...</td>\n",
       "      <td>XNA</td>\n",
       "      <td>24.0</td>\n",
       "      <td>high</td>\n",
       "      <td>Cash Street: high</td>\n",
       "      <td>NaN</td>\n",
       "      <td>NaN</td>\n",
       "      <td>NaN</td>\n",
       "      <td>NaN</td>\n",
       "      <td>NaN</td>\n",
       "      <td>NaN</td>\n",
       "    </tr>\n",
       "  </tbody>\n",
       "</table>\n",
       "<p>5 rows × 37 columns</p>\n",
       "</div>"
      ],
      "text/plain": [
       "   SK_ID_PREV  SK_ID_CURR NAME_CONTRACT_TYPE  AMT_ANNUITY  AMT_APPLICATION  \\\n",
       "0     2030495      271877     Consumer loans     1730.430          17145.0   \n",
       "1     2802425      108129         Cash loans    25188.615         607500.0   \n",
       "2     2523466      122040         Cash loans    15060.735         112500.0   \n",
       "3     2819243      176158         Cash loans    47041.335         450000.0   \n",
       "4     1784265      202054         Cash loans    31924.395         337500.0   \n",
       "\n",
       "   AMT_CREDIT  AMT_DOWN_PAYMENT  AMT_GOODS_PRICE WEEKDAY_APPR_PROCESS_START  \\\n",
       "0     17145.0               0.0          17145.0                   SATURDAY   \n",
       "1    679671.0               NaN         607500.0                   THURSDAY   \n",
       "2    136444.5               NaN         112500.0                    TUESDAY   \n",
       "3    470790.0               NaN         450000.0                     MONDAY   \n",
       "4    404055.0               NaN         337500.0                   THURSDAY   \n",
       "\n",
       "   HOUR_APPR_PROCESS_START  ... NAME_SELLER_INDUSTRY  CNT_PAYMENT  \\\n",
       "0                       15  ...         Connectivity         12.0   \n",
       "1                       11  ...                  XNA         36.0   \n",
       "2                       11  ...                  XNA         12.0   \n",
       "3                        7  ...                  XNA         12.0   \n",
       "4                        9  ...                  XNA         24.0   \n",
       "\n",
       "   NAME_YIELD_GROUP       PRODUCT_COMBINATION  DAYS_FIRST_DRAWING  \\\n",
       "0            middle  POS mobile with interest            365243.0   \n",
       "1        low_action          Cash X-Sell: low            365243.0   \n",
       "2              high         Cash X-Sell: high            365243.0   \n",
       "3            middle       Cash X-Sell: middle            365243.0   \n",
       "4              high         Cash Street: high                 NaN   \n",
       "\n",
       "  DAYS_FIRST_DUE DAYS_LAST_DUE_1ST_VERSION  DAYS_LAST_DUE DAYS_TERMINATION  \\\n",
       "0          -42.0                     300.0          -42.0            -37.0   \n",
       "1         -134.0                     916.0       365243.0         365243.0   \n",
       "2         -271.0                      59.0       365243.0         365243.0   \n",
       "3         -482.0                    -152.0         -182.0           -177.0   \n",
       "4            NaN                       NaN            NaN              NaN   \n",
       "\n",
       "  NFLAG_INSURED_ON_APPROVAL  \n",
       "0                       0.0  \n",
       "1                       1.0  \n",
       "2                       1.0  \n",
       "3                       1.0  \n",
       "4                       NaN  \n",
       "\n",
       "[5 rows x 37 columns]"
      ]
     },
     "execution_count": 6,
     "metadata": {},
     "output_type": "execute_result"
    }
   ],
   "source": [
    "df1.head()"
   ]
  },
  {
   "cell_type": "code",
   "execution_count": 7,
   "id": "58dcdfab-3014-4a81-a589-2023e74ef776",
   "metadata": {
    "tags": []
   },
   "outputs": [
    {
     "data": {
      "text/html": [
       "<div>\n",
       "<style scoped>\n",
       "    .dataframe tbody tr th:only-of-type {\n",
       "        vertical-align: middle;\n",
       "    }\n",
       "\n",
       "    .dataframe tbody tr th {\n",
       "        vertical-align: top;\n",
       "    }\n",
       "\n",
       "    .dataframe thead th {\n",
       "        text-align: right;\n",
       "    }\n",
       "</style>\n",
       "<table border=\"1\" class=\"dataframe\">\n",
       "  <thead>\n",
       "    <tr style=\"text-align: right;\">\n",
       "      <th></th>\n",
       "      <th>SK_ID_CURR</th>\n",
       "      <th>TARGET</th>\n",
       "      <th>CNT_CHILDREN</th>\n",
       "      <th>AMT_INCOME_TOTAL</th>\n",
       "      <th>AMT_CREDIT</th>\n",
       "      <th>AMT_ANNUITY</th>\n",
       "      <th>AMT_GOODS_PRICE</th>\n",
       "      <th>REGION_POPULATION_RELATIVE</th>\n",
       "      <th>DAYS_BIRTH</th>\n",
       "      <th>DAYS_EMPLOYED</th>\n",
       "      <th>...</th>\n",
       "      <th>FLAG_DOCUMENT_18</th>\n",
       "      <th>FLAG_DOCUMENT_19</th>\n",
       "      <th>FLAG_DOCUMENT_20</th>\n",
       "      <th>FLAG_DOCUMENT_21</th>\n",
       "      <th>AMT_REQ_CREDIT_BUREAU_HOUR</th>\n",
       "      <th>AMT_REQ_CREDIT_BUREAU_DAY</th>\n",
       "      <th>AMT_REQ_CREDIT_BUREAU_WEEK</th>\n",
       "      <th>AMT_REQ_CREDIT_BUREAU_MON</th>\n",
       "      <th>AMT_REQ_CREDIT_BUREAU_QRT</th>\n",
       "      <th>AMT_REQ_CREDIT_BUREAU_YEAR</th>\n",
       "    </tr>\n",
       "  </thead>\n",
       "  <tbody>\n",
       "    <tr>\n",
       "      <th>count</th>\n",
       "      <td>49999.000000</td>\n",
       "      <td>49999.000000</td>\n",
       "      <td>49999.000000</td>\n",
       "      <td>4.999900e+04</td>\n",
       "      <td>4.999900e+04</td>\n",
       "      <td>49998.000000</td>\n",
       "      <td>4.996100e+04</td>\n",
       "      <td>49999.000000</td>\n",
       "      <td>49999.000000</td>\n",
       "      <td>49999.000000</td>\n",
       "      <td>...</td>\n",
       "      <td>49999.000000</td>\n",
       "      <td>49999.000000</td>\n",
       "      <td>49999.000000</td>\n",
       "      <td>49999.00000</td>\n",
       "      <td>43265.000000</td>\n",
       "      <td>43265.000000</td>\n",
       "      <td>43265.000000</td>\n",
       "      <td>43265.000000</td>\n",
       "      <td>43265.000000</td>\n",
       "      <td>43265.000000</td>\n",
       "    </tr>\n",
       "    <tr>\n",
       "      <th>mean</th>\n",
       "      <td>129013.210584</td>\n",
       "      <td>0.080522</td>\n",
       "      <td>0.419848</td>\n",
       "      <td>1.707676e+05</td>\n",
       "      <td>5.997006e+05</td>\n",
       "      <td>27107.377355</td>\n",
       "      <td>5.390600e+05</td>\n",
       "      <td>0.020798</td>\n",
       "      <td>-16022.042081</td>\n",
       "      <td>63219.424488</td>\n",
       "      <td>...</td>\n",
       "      <td>0.008500</td>\n",
       "      <td>0.000700</td>\n",
       "      <td>0.000520</td>\n",
       "      <td>0.00038</td>\n",
       "      <td>0.007096</td>\n",
       "      <td>0.007512</td>\n",
       "      <td>0.032382</td>\n",
       "      <td>0.270288</td>\n",
       "      <td>0.260973</td>\n",
       "      <td>1.881035</td>\n",
       "    </tr>\n",
       "    <tr>\n",
       "      <th>std</th>\n",
       "      <td>16690.512048</td>\n",
       "      <td>0.272102</td>\n",
       "      <td>0.724039</td>\n",
       "      <td>5.318191e+05</td>\n",
       "      <td>4.024154e+05</td>\n",
       "      <td>14562.944435</td>\n",
       "      <td>3.698533e+05</td>\n",
       "      <td>0.013761</td>\n",
       "      <td>4361.400270</td>\n",
       "      <td>140794.605668</td>\n",
       "      <td>...</td>\n",
       "      <td>0.091805</td>\n",
       "      <td>0.026449</td>\n",
       "      <td>0.022798</td>\n",
       "      <td>0.01949</td>\n",
       "      <td>0.087709</td>\n",
       "      <td>0.107992</td>\n",
       "      <td>0.194080</td>\n",
       "      <td>0.928560</td>\n",
       "      <td>0.606996</td>\n",
       "      <td>1.865054</td>\n",
       "    </tr>\n",
       "    <tr>\n",
       "      <th>min</th>\n",
       "      <td>100002.000000</td>\n",
       "      <td>0.000000</td>\n",
       "      <td>0.000000</td>\n",
       "      <td>2.565000e+04</td>\n",
       "      <td>4.500000e+04</td>\n",
       "      <td>2052.000000</td>\n",
       "      <td>4.500000e+04</td>\n",
       "      <td>0.000533</td>\n",
       "      <td>-25184.000000</td>\n",
       "      <td>-17531.000000</td>\n",
       "      <td>...</td>\n",
       "      <td>0.000000</td>\n",
       "      <td>0.000000</td>\n",
       "      <td>0.000000</td>\n",
       "      <td>0.00000</td>\n",
       "      <td>0.000000</td>\n",
       "      <td>0.000000</td>\n",
       "      <td>0.000000</td>\n",
       "      <td>0.000000</td>\n",
       "      <td>0.000000</td>\n",
       "      <td>0.000000</td>\n",
       "    </tr>\n",
       "    <tr>\n",
       "      <th>25%</th>\n",
       "      <td>114570.500000</td>\n",
       "      <td>0.000000</td>\n",
       "      <td>0.000000</td>\n",
       "      <td>1.125000e+05</td>\n",
       "      <td>2.700000e+05</td>\n",
       "      <td>16456.500000</td>\n",
       "      <td>2.385000e+05</td>\n",
       "      <td>0.010006</td>\n",
       "      <td>-19644.000000</td>\n",
       "      <td>-2786.000000</td>\n",
       "      <td>...</td>\n",
       "      <td>0.000000</td>\n",
       "      <td>0.000000</td>\n",
       "      <td>0.000000</td>\n",
       "      <td>0.00000</td>\n",
       "      <td>0.000000</td>\n",
       "      <td>0.000000</td>\n",
       "      <td>0.000000</td>\n",
       "      <td>0.000000</td>\n",
       "      <td>0.000000</td>\n",
       "      <td>0.000000</td>\n",
       "    </tr>\n",
       "    <tr>\n",
       "      <th>50%</th>\n",
       "      <td>129076.000000</td>\n",
       "      <td>0.000000</td>\n",
       "      <td>0.000000</td>\n",
       "      <td>1.458000e+05</td>\n",
       "      <td>5.147775e+05</td>\n",
       "      <td>24939.000000</td>\n",
       "      <td>4.500000e+05</td>\n",
       "      <td>0.018850</td>\n",
       "      <td>-15731.000000</td>\n",
       "      <td>-1221.000000</td>\n",
       "      <td>...</td>\n",
       "      <td>0.000000</td>\n",
       "      <td>0.000000</td>\n",
       "      <td>0.000000</td>\n",
       "      <td>0.00000</td>\n",
       "      <td>0.000000</td>\n",
       "      <td>0.000000</td>\n",
       "      <td>0.000000</td>\n",
       "      <td>0.000000</td>\n",
       "      <td>0.000000</td>\n",
       "      <td>1.000000</td>\n",
       "    </tr>\n",
       "    <tr>\n",
       "      <th>75%</th>\n",
       "      <td>143438.500000</td>\n",
       "      <td>0.000000</td>\n",
       "      <td>1.000000</td>\n",
       "      <td>2.025000e+05</td>\n",
       "      <td>8.086500e+05</td>\n",
       "      <td>34596.000000</td>\n",
       "      <td>6.795000e+05</td>\n",
       "      <td>0.028663</td>\n",
       "      <td>-12378.500000</td>\n",
       "      <td>-292.000000</td>\n",
       "      <td>...</td>\n",
       "      <td>0.000000</td>\n",
       "      <td>0.000000</td>\n",
       "      <td>0.000000</td>\n",
       "      <td>0.00000</td>\n",
       "      <td>0.000000</td>\n",
       "      <td>0.000000</td>\n",
       "      <td>0.000000</td>\n",
       "      <td>0.000000</td>\n",
       "      <td>0.000000</td>\n",
       "      <td>3.000000</td>\n",
       "    </tr>\n",
       "    <tr>\n",
       "      <th>max</th>\n",
       "      <td>157875.000000</td>\n",
       "      <td>1.000000</td>\n",
       "      <td>11.000000</td>\n",
       "      <td>1.170000e+08</td>\n",
       "      <td>4.050000e+06</td>\n",
       "      <td>258025.500000</td>\n",
       "      <td>4.050000e+06</td>\n",
       "      <td>0.072508</td>\n",
       "      <td>-7680.000000</td>\n",
       "      <td>365243.000000</td>\n",
       "      <td>...</td>\n",
       "      <td>1.000000</td>\n",
       "      <td>1.000000</td>\n",
       "      <td>1.000000</td>\n",
       "      <td>1.00000</td>\n",
       "      <td>3.000000</td>\n",
       "      <td>6.000000</td>\n",
       "      <td>6.000000</td>\n",
       "      <td>24.000000</td>\n",
       "      <td>8.000000</td>\n",
       "      <td>25.000000</td>\n",
       "    </tr>\n",
       "  </tbody>\n",
       "</table>\n",
       "<p>8 rows × 106 columns</p>\n",
       "</div>"
      ],
      "text/plain": [
       "          SK_ID_CURR        TARGET  CNT_CHILDREN  AMT_INCOME_TOTAL  \\\n",
       "count   49999.000000  49999.000000  49999.000000      4.999900e+04   \n",
       "mean   129013.210584      0.080522      0.419848      1.707676e+05   \n",
       "std     16690.512048      0.272102      0.724039      5.318191e+05   \n",
       "min    100002.000000      0.000000      0.000000      2.565000e+04   \n",
       "25%    114570.500000      0.000000      0.000000      1.125000e+05   \n",
       "50%    129076.000000      0.000000      0.000000      1.458000e+05   \n",
       "75%    143438.500000      0.000000      1.000000      2.025000e+05   \n",
       "max    157875.000000      1.000000     11.000000      1.170000e+08   \n",
       "\n",
       "         AMT_CREDIT    AMT_ANNUITY  AMT_GOODS_PRICE  \\\n",
       "count  4.999900e+04   49998.000000     4.996100e+04   \n",
       "mean   5.997006e+05   27107.377355     5.390600e+05   \n",
       "std    4.024154e+05   14562.944435     3.698533e+05   \n",
       "min    4.500000e+04    2052.000000     4.500000e+04   \n",
       "25%    2.700000e+05   16456.500000     2.385000e+05   \n",
       "50%    5.147775e+05   24939.000000     4.500000e+05   \n",
       "75%    8.086500e+05   34596.000000     6.795000e+05   \n",
       "max    4.050000e+06  258025.500000     4.050000e+06   \n",
       "\n",
       "       REGION_POPULATION_RELATIVE    DAYS_BIRTH  DAYS_EMPLOYED  ...  \\\n",
       "count                49999.000000  49999.000000   49999.000000  ...   \n",
       "mean                     0.020798 -16022.042081   63219.424488  ...   \n",
       "std                      0.013761   4361.400270  140794.605668  ...   \n",
       "min                      0.000533 -25184.000000  -17531.000000  ...   \n",
       "25%                      0.010006 -19644.000000   -2786.000000  ...   \n",
       "50%                      0.018850 -15731.000000   -1221.000000  ...   \n",
       "75%                      0.028663 -12378.500000    -292.000000  ...   \n",
       "max                      0.072508  -7680.000000  365243.000000  ...   \n",
       "\n",
       "       FLAG_DOCUMENT_18  FLAG_DOCUMENT_19  FLAG_DOCUMENT_20  FLAG_DOCUMENT_21  \\\n",
       "count      49999.000000      49999.000000      49999.000000       49999.00000   \n",
       "mean           0.008500          0.000700          0.000520           0.00038   \n",
       "std            0.091805          0.026449          0.022798           0.01949   \n",
       "min            0.000000          0.000000          0.000000           0.00000   \n",
       "25%            0.000000          0.000000          0.000000           0.00000   \n",
       "50%            0.000000          0.000000          0.000000           0.00000   \n",
       "75%            0.000000          0.000000          0.000000           0.00000   \n",
       "max            1.000000          1.000000          1.000000           1.00000   \n",
       "\n",
       "       AMT_REQ_CREDIT_BUREAU_HOUR  AMT_REQ_CREDIT_BUREAU_DAY  \\\n",
       "count                43265.000000               43265.000000   \n",
       "mean                     0.007096                   0.007512   \n",
       "std                      0.087709                   0.107992   \n",
       "min                      0.000000                   0.000000   \n",
       "25%                      0.000000                   0.000000   \n",
       "50%                      0.000000                   0.000000   \n",
       "75%                      0.000000                   0.000000   \n",
       "max                      3.000000                   6.000000   \n",
       "\n",
       "       AMT_REQ_CREDIT_BUREAU_WEEK  AMT_REQ_CREDIT_BUREAU_MON  \\\n",
       "count                43265.000000               43265.000000   \n",
       "mean                     0.032382                   0.270288   \n",
       "std                      0.194080                   0.928560   \n",
       "min                      0.000000                   0.000000   \n",
       "25%                      0.000000                   0.000000   \n",
       "50%                      0.000000                   0.000000   \n",
       "75%                      0.000000                   0.000000   \n",
       "max                      6.000000                  24.000000   \n",
       "\n",
       "       AMT_REQ_CREDIT_BUREAU_QRT  AMT_REQ_CREDIT_BUREAU_YEAR  \n",
       "count               43265.000000                43265.000000  \n",
       "mean                    0.260973                    1.881035  \n",
       "std                     0.606996                    1.865054  \n",
       "min                     0.000000                    0.000000  \n",
       "25%                     0.000000                    0.000000  \n",
       "50%                     0.000000                    1.000000  \n",
       "75%                     0.000000                    3.000000  \n",
       "max                     8.000000                   25.000000  \n",
       "\n",
       "[8 rows x 106 columns]"
      ]
     },
     "execution_count": 7,
     "metadata": {},
     "output_type": "execute_result"
    }
   ],
   "source": [
    "df.describe()"
   ]
  },
  {
   "cell_type": "code",
   "execution_count": 8,
   "id": "e5b85c92-995d-41ff-8d31-069ae648ab5c",
   "metadata": {},
   "outputs": [
    {
     "data": {
      "text/plain": [
       "(49999, 122)"
      ]
     },
     "execution_count": 8,
     "metadata": {},
     "output_type": "execute_result"
    }
   ],
   "source": [
    "df.shape"
   ]
  },
  {
   "cell_type": "code",
   "execution_count": 9,
   "id": "b5c62cdd-e70b-43a6-8077-0a1956c4b159",
   "metadata": {},
   "outputs": [
    {
     "ename": "SyntaxError",
     "evalue": "invalid syntax (2769617767.py, line 1)",
     "output_type": "error",
     "traceback": [
      "\u001b[1;36m  Cell \u001b[1;32mIn[9], line 1\u001b[1;36m\u001b[0m\n\u001b[1;33m    df1.\u001b[0m\n\u001b[1;37m        ^\u001b[0m\n\u001b[1;31mSyntaxError\u001b[0m\u001b[1;31m:\u001b[0m invalid syntax\n"
     ]
    }
   ],
   "source": [
    "df1."
   ]
  },
  {
   "cell_type": "code",
   "execution_count": null,
   "id": "b7bfda07-e693-4255-9132-7cfa033d52d6",
   "metadata": {
    "tags": []
   },
   "outputs": [],
   "source": [
    "df.nunique()"
   ]
  },
  {
   "cell_type": "code",
   "execution_count": null,
   "id": "70ebccd4-2ff7-4637-a035-cef1b0da4823",
   "metadata": {
    "tags": []
   },
   "outputs": [],
   "source": [
    "df.info(verbose =True)"
   ]
  },
  {
   "cell_type": "code",
   "execution_count": null,
   "id": "e8421722-54e6-4b88-a2f3-79209f5b0459",
   "metadata": {
    "tags": []
   },
   "outputs": [],
   "source": [
    "df.info(show_counts=True,verbose=True)"
   ]
  },
  {
   "cell_type": "code",
   "execution_count": null,
   "id": "4d705a48-7294-4827-bcab-0bb00f509df0",
   "metadata": {
    "tags": []
   },
   "outputs": [],
   "source": [
    "df.isnull().sum()"
   ]
  },
  {
   "cell_type": "code",
   "execution_count": null,
   "id": "88294a48-0ca7-47c3-97ff-c8e8f7c9ac30",
   "metadata": {
    "tags": []
   },
   "outputs": [],
   "source": [
    "pd.isnull(df)"
   ]
  },
  {
   "cell_type": "code",
   "execution_count": null,
   "id": "78ab0404-4e85-4ea4-99b3-f6a334164bc0",
   "metadata": {
    "tags": []
   },
   "outputs": [],
   "source": [
    "df.isnull()"
   ]
  },
  {
   "cell_type": "code",
   "execution_count": null,
   "id": "a1fe19f4-bcb6-4468-a29e-31edef94cdfd",
   "metadata": {
    "tags": []
   },
   "outputs": [],
   "source": [
    "df['AMT_REQ_CREDIT_BUREAU_WEEK'].isnull().sum()"
   ]
  },
  {
   "cell_type": "code",
   "execution_count": null,
   "id": "6743bfeb-5dd4-432d-9ad0-a0b3f8bd47ab",
   "metadata": {
    "tags": []
   },
   "outputs": [],
   "source": [
    "round(100*df.isnull().mean(),2)"
   ]
  },
  {
   "cell_type": "code",
   "execution_count": null,
   "id": "b4d6263c-fb04-437d-ab2c-20f47bd0e696",
   "metadata": {
    "tags": []
   },
   "outputs": [],
   "source": [
    "round(100*df.isnull().mean(),1)"
   ]
  },
  {
   "cell_type": "code",
   "execution_count": null,
   "id": "d40a18d7-7445-46ea-a635-face505b515f",
   "metadata": {
    "tags": []
   },
   "outputs": [],
   "source": []
  },
  {
   "cell_type": "code",
   "execution_count": null,
   "id": "7e5e29cd-4b06-41a2-9954-9cb8f399a539",
   "metadata": {
    "tags": []
   },
   "outputs": [],
   "source": []
  },
  {
   "cell_type": "code",
   "execution_count": 33,
   "id": "a469518b-191e-426d-a2e4-a7a632983e72",
   "metadata": {},
   "outputs": [
    {
     "data": {
      "text/plain": [
       "Index(['SK_ID_CURR', 'TARGET', 'NAME_CONTRACT_TYPE', 'CODE_GENDER',\n",
       "       'FLAG_OWN_CAR', 'FLAG_OWN_REALTY', 'CNT_CHILDREN', 'AMT_INCOME_TOTAL',\n",
       "       'AMT_CREDIT', 'AMT_ANNUITY',\n",
       "       ...\n",
       "       'FLAG_DOCUMENT_18', 'FLAG_DOCUMENT_19', 'FLAG_DOCUMENT_20',\n",
       "       'FLAG_DOCUMENT_21', 'AMT_REQ_CREDIT_BUREAU_HOUR',\n",
       "       'AMT_REQ_CREDIT_BUREAU_DAY', 'AMT_REQ_CREDIT_BUREAU_WEEK',\n",
       "       'AMT_REQ_CREDIT_BUREAU_MON', 'AMT_REQ_CREDIT_BUREAU_QRT',\n",
       "       'AMT_REQ_CREDIT_BUREAU_YEAR'],\n",
       "      dtype='object', length=122)"
      ]
     },
     "execution_count": 33,
     "metadata": {},
     "output_type": "execute_result"
    }
   ],
   "source": [
    "df.columns"
   ]
  },
  {
   "cell_type": "code",
   "execution_count": 36,
   "id": "32443062-07bc-437e-9f81-6a4cd4d8c3dc",
   "metadata": {
    "tags": []
   },
   "outputs": [],
   "source": [
    "df = devesh.fix_col(df)"
   ]
  },
  {
   "cell_type": "code",
   "execution_count": 37,
   "id": "d5f341c5-fe3d-4251-8358-33c1291f41a3",
   "metadata": {
    "tags": []
   },
   "outputs": [
    {
     "data": {
      "text/plain": [
       "Index(['sk_id_curr', 'target', 'name_contract_type', 'code_gender',\n",
       "       'flag_own_car', 'flag_own_realty', 'cnt_children', 'amt_income_total',\n",
       "       'amt_credit', 'amt_annuity',\n",
       "       ...\n",
       "       'flag_document_18', 'flag_document_19', 'flag_document_20',\n",
       "       'flag_document_21', 'amt_req_credit_bureau_hour',\n",
       "       'amt_req_credit_bureau_day', 'amt_req_credit_bureau_week',\n",
       "       'amt_req_credit_bureau_mon', 'amt_req_credit_bureau_qrt',\n",
       "       'amt_req_credit_bureau_year'],\n",
       "      dtype='object', length=122)"
      ]
     },
     "execution_count": 37,
     "metadata": {},
     "output_type": "execute_result"
    }
   ],
   "source": [
    "df.columns"
   ]
  },
  {
   "cell_type": "code",
   "execution_count": 26,
   "id": "8befd62a-0db5-4f34-b2cf-885ecc2d6d10",
   "metadata": {
    "tags": []
   },
   "outputs": [],
   "source": [
    "new = d.fix_col(df)"
   ]
  },
  {
   "cell_type": "code",
   "execution_count": 63,
   "id": "30bc3538-b9f3-418a-9ff8-fe3b04aa489b",
   "metadata": {
    "tags": []
   },
   "outputs": [
    {
     "data": {
      "text/plain": [
       "sk_id_curr                       0\n",
       "target                           0\n",
       "name_contract_type               0\n",
       "code_gender                      0\n",
       "flag_own_car                     0\n",
       "                              ... \n",
       "amt_req_credit_bureau_day     6734\n",
       "amt_req_credit_bureau_week    6734\n",
       "amt_req_credit_bureau_mon     6734\n",
       "amt_req_credit_bureau_qrt     6734\n",
       "amt_req_credit_bureau_year    6734\n",
       "Length: 122, dtype: int64"
      ]
     },
     "execution_count": 63,
     "metadata": {},
     "output_type": "execute_result"
    }
   ],
   "source": [
    "df.isnull().sum()"
   ]
  },
  {
   "cell_type": "code",
   "execution_count": 66,
   "id": "5f9a4786-9670-492e-9f95-49703445c876",
   "metadata": {
    "tags": []
   },
   "outputs": [],
   "source": [
    "def check_null(df):\n",
    "    a = (100*pd.isnull(df).mean().sort_values(ascending=False))\n",
    "    return a"
   ]
  },
  {
   "cell_type": "code",
   "execution_count": 67,
   "id": "64ad1456-c89d-4519-9876-432d450fe8bf",
   "metadata": {
    "tags": []
   },
   "outputs": [
    {
     "data": {
      "text/plain": [
       "commonarea_medi             69.921398\n",
       "commonarea_avg              69.921398\n",
       "commonarea_mode             69.921398\n",
       "nonlivingapartments_mode    69.429389\n",
       "nonlivingapartments_avg     69.429389\n",
       "                              ...    \n",
       "name_housing_type            0.000000\n",
       "name_family_status           0.000000\n",
       "name_education_type          0.000000\n",
       "name_income_type             0.000000\n",
       "sk_id_curr                   0.000000\n",
       "Length: 122, dtype: float64"
      ]
     },
     "execution_count": 67,
     "metadata": {},
     "output_type": "execute_result"
    }
   ],
   "source": [
    "check_null(df)"
   ]
  },
  {
   "cell_type": "code",
   "execution_count": 81,
   "id": "6cc1d58e-7b3b-47a0-bbaf-3a8ad5c39ad3",
   "metadata": {
    "tags": []
   },
   "outputs": [
    {
     "data": {
      "text/plain": [
       "floorsmax_avg                   49.750995\n",
       "floorsmax_mode                  49.750995\n",
       "floorsmax_medi                  49.750995\n",
       "years_beginexpluatation_avg     48.788976\n",
       "years_beginexpluatation_mode    48.788976\n",
       "years_beginexpluatation_medi    48.788976\n",
       "totalarea_mode                  48.296966\n",
       "emergencystate_mode             47.396948\n",
       "dtype: float64"
      ]
     },
     "execution_count": 81,
     "metadata": {},
     "output_type": "execute_result"
    }
   ],
   "source": [
    "null = check_null(df)[check_null(df)>40]\n",
    "null"
   ]
  },
  {
   "cell_type": "code",
   "execution_count": 82,
   "id": "a0caed5f-fa83-433e-8583-84cfe7429cab",
   "metadata": {
    "tags": []
   },
   "outputs": [],
   "source": [
    "df.drop(columns=null.index,inplace=True)"
   ]
  },
  {
   "cell_type": "code",
   "execution_count": 83,
   "id": "2584ab84-83a5-4d39-bd27-ed1e004c3e1c",
   "metadata": {
    "tags": []
   },
   "outputs": [
    {
     "data": {
      "text/plain": [
       "(49999, 73)"
      ]
     },
     "execution_count": 83,
     "metadata": {},
     "output_type": "execute_result"
    }
   ],
   "source": [
    "df.shape"
   ]
  },
  {
   "cell_type": "code",
   "execution_count": 84,
   "id": "82fa2cd5-7baa-404b-a3ea-c63601635ebd",
   "metadata": {
    "tags": []
   },
   "outputs": [],
   "source": [
    "col_desc = pd.read_csv('columns_description.csv')"
   ]
  },
  {
   "cell_type": "code",
   "execution_count": 91,
   "id": "286b55b2-0944-455e-b261-68ad7c536d11",
   "metadata": {
    "tags": []
   },
   "outputs": [
    {
     "data": {
      "text/plain": [
       "Column No.                                                    13\n",
       "Table                                           application_data\n",
       "Row                                              AMT_GOODS_PRICE\n",
       "Description    For consumer loans it is the price of the good...\n",
       "Special                                                      NaN\n",
       "Name: 10, dtype: object"
      ]
     },
     "execution_count": 91,
     "metadata": {},
     "output_type": "execute_result"
    }
   ],
   "source": []
  },
  {
   "cell_type": "code",
   "execution_count": 92,
   "id": "f8bc1ea1-71c1-455c-9e6f-5cfcdf76a24c",
   "metadata": {
    "tags": []
   },
   "outputs": [
    {
     "data": {
      "text/plain": [
       "SK_ID_PREV                      0.000000\n",
       "SK_ID_CURR                      0.000000\n",
       "NAME_CONTRACT_TYPE              0.000000\n",
       "AMT_ANNUITY                    21.184424\n",
       "AMT_APPLICATION                 0.000000\n",
       "AMT_CREDIT                      0.000000\n",
       "AMT_DOWN_PAYMENT               50.397008\n",
       "AMT_GOODS_PRICE                21.488430\n",
       "WEEKDAY_APPR_PROCESS_START      0.000000\n",
       "HOUR_APPR_PROCESS_START         0.000000\n",
       "FLAG_LAST_APPL_PER_CONTRACT     0.000000\n",
       "NFLAG_LAST_APPL_IN_DAY          0.000000\n",
       "RATE_DOWN_PAYMENT              50.397008\n",
       "RATE_INTEREST_PRIMARY          99.669993\n",
       "RATE_INTEREST_PRIVILEGED       99.669993\n",
       "NAME_CASH_LOAN_PURPOSE          0.000000\n",
       "NAME_CONTRACT_STATUS            0.000000\n",
       "DAYS_DECISION                   0.000000\n",
       "NAME_PAYMENT_TYPE               0.000000\n",
       "CODE_REJECT_REASON              0.000000\n",
       "NAME_TYPE_SUITE                48.486970\n",
       "NAME_CLIENT_TYPE                0.000000\n",
       "NAME_GOODS_CATEGORY             0.000000\n",
       "NAME_PORTFOLIO                  0.000000\n",
       "NAME_PRODUCT_TYPE               0.000000\n",
       "CHANNEL_TYPE                    0.000000\n",
       "SELLERPLACE_AREA                0.000000\n",
       "NAME_SELLER_INDUSTRY            0.000000\n",
       "CNT_PAYMENT                    21.184424\n",
       "NAME_YIELD_GROUP                0.000000\n",
       "PRODUCT_COMBINATION             0.016000\n",
       "DAYS_FIRST_DRAWING             38.320766\n",
       "DAYS_FIRST_DUE                 38.320766\n",
       "DAYS_LAST_DUE_1ST_VERSION      38.320766\n",
       "DAYS_LAST_DUE                  38.320766\n",
       "DAYS_TERMINATION               38.320766\n",
       "NFLAG_INSURED_ON_APPROVAL      38.320766\n",
       "dtype: float64"
      ]
     },
     "execution_count": 92,
     "metadata": {},
     "output_type": "execute_result"
    }
   ],
   "source": [
    "df1.isnull().mean()*100"
   ]
  },
  {
   "cell_type": "code",
   "execution_count": 95,
   "id": "febebd8c-03c0-4d45-9a70-f1752cf4c5ad",
   "metadata": {
    "tags": []
   },
   "outputs": [
    {
     "data": {
      "text/plain": [
       "occupation_type                31.308626\n",
       "ext_source_3                   19.888398\n",
       "amt_req_credit_bureau_year     13.468269\n",
       "amt_req_credit_bureau_qrt      13.468269\n",
       "amt_req_credit_bureau_mon      13.468269\n",
       "                                 ...    \n",
       "reg_region_not_live_region      0.000000\n",
       "reg_region_not_work_region      0.000000\n",
       "live_region_not_work_region     0.000000\n",
       "target                          0.000000\n",
       "reg_city_not_live_city          0.000000\n",
       "Length: 73, dtype: float64"
      ]
     },
     "execution_count": 95,
     "metadata": {},
     "output_type": "execute_result"
    }
   ],
   "source": [
    "df.isnull().mean().sort_values(ascending=False)*100"
   ]
  },
  {
   "cell_type": "code",
   "execution_count": 96,
   "id": "327cab9e-cb16-4d0a-8357-e4ae2eafc8bf",
   "metadata": {
    "tags": []
   },
   "outputs": [
    {
     "data": {
      "text/plain": [
       "RATE_INTEREST_PRIVILEGED       99.669993\n",
       "RATE_INTEREST_PRIMARY          99.669993\n",
       "RATE_DOWN_PAYMENT              50.397008\n",
       "AMT_DOWN_PAYMENT               50.397008\n",
       "NAME_TYPE_SUITE                48.486970\n",
       "NFLAG_INSURED_ON_APPROVAL      38.320766\n",
       "DAYS_FIRST_DRAWING             38.320766\n",
       "DAYS_FIRST_DUE                 38.320766\n",
       "DAYS_LAST_DUE_1ST_VERSION      38.320766\n",
       "DAYS_LAST_DUE                  38.320766\n",
       "DAYS_TERMINATION               38.320766\n",
       "AMT_GOODS_PRICE                21.488430\n",
       "AMT_ANNUITY                    21.184424\n",
       "CNT_PAYMENT                    21.184424\n",
       "PRODUCT_COMBINATION             0.016000\n",
       "CHANNEL_TYPE                    0.000000\n",
       "NAME_PRODUCT_TYPE               0.000000\n",
       "NAME_YIELD_GROUP                0.000000\n",
       "SELLERPLACE_AREA                0.000000\n",
       "NAME_SELLER_INDUSTRY            0.000000\n",
       "NAME_GOODS_CATEGORY             0.000000\n",
       "NAME_PORTFOLIO                  0.000000\n",
       "SK_ID_PREV                      0.000000\n",
       "NAME_CLIENT_TYPE                0.000000\n",
       "CODE_REJECT_REASON              0.000000\n",
       "SK_ID_CURR                      0.000000\n",
       "DAYS_DECISION                   0.000000\n",
       "NAME_CONTRACT_STATUS            0.000000\n",
       "NAME_CASH_LOAN_PURPOSE          0.000000\n",
       "NFLAG_LAST_APPL_IN_DAY          0.000000\n",
       "FLAG_LAST_APPL_PER_CONTRACT     0.000000\n",
       "HOUR_APPR_PROCESS_START         0.000000\n",
       "WEEKDAY_APPR_PROCESS_START      0.000000\n",
       "AMT_CREDIT                      0.000000\n",
       "AMT_APPLICATION                 0.000000\n",
       "NAME_CONTRACT_TYPE              0.000000\n",
       "NAME_PAYMENT_TYPE               0.000000\n",
       "dtype: float64"
      ]
     },
     "execution_count": 96,
     "metadata": {},
     "output_type": "execute_result"
    }
   ],
   "source": [
    "df1.isnull().mean().sort_values(ascending=False)*100"
   ]
  },
  {
   "cell_type": "code",
   "execution_count": 103,
   "id": "9cc71741-0c1a-4d0e-9908-18385732c47a",
   "metadata": {},
   "outputs": [
    {
     "data": {
      "text/plain": [
       "amt_annuity\n",
       "9000.0     1049\n",
       "13500.0     896\n",
       "6750.0      372\n",
       "10125.0     336\n",
       "37800.0     257\n",
       "           ... \n",
       "80194.5       1\n",
       "47871.0       1\n",
       "14935.5       1\n",
       "19539.0       1\n",
       "70357.5       1\n",
       "Name: count, Length: 8807, dtype: int64"
      ]
     },
     "execution_count": 103,
     "metadata": {},
     "output_type": "execute_result"
    }
   ],
   "source": [
    "df.amt_annuity.value_counts()"
   ]
  },
  {
   "cell_type": "code",
   "execution_count": 116,
   "id": "fa6ea255-2b9c-4ad2-9115-1e4190925961",
   "metadata": {
    "tags": []
   },
   "outputs": [
    {
     "data": {
      "text/plain": [
       "<Axes: xlabel='amt_annuity'>"
      ]
     },
     "execution_count": 116,
     "metadata": {},
     "output_type": "execute_result"
    },
    {
     "data": {
      "image/png": "[encoded data removed]",
      "text/plain": [
       "<Figure size 640x480 with 1 Axes>"
      ]
     },
     "metadata": {},
     "output_type": "display_data"
    }
   ],
   "source": [
    "sns.boxplot(x=df.amt_annuity, color ='yellow')"
   ]
  },
  {
   "cell_type": "code",
   "execution_count": 119,
   "id": "4e593742-a532-4858-8f0e-aec44eca6254",
   "metadata": {
    "tags": []
   },
   "outputs": [
    {
     "name": "stdout",
     "output_type": "stream",
     "text": [
      "24939.0\n",
      "27107.377355094202\n"
     ]
    }
   ],
   "source": [
    "print(df.amt_annuity.median())\n",
    "print(df.amt_annuity.mean())"
   ]
  },
  {
   "cell_type": "code",
   "execution_count": 126,
   "id": "20352081-3b5f-4640-b19b-2f23bc477c3b",
   "metadata": {
    "tags": []
   },
   "outputs": [],
   "source": [
    "df.amt_annuity = df.amt_annuity.fillna(df.amt_annuity.median())"
   ]
  },
  {
   "cell_type": "code",
   "execution_count": 127,
   "id": "8160309c-014f-45d4-96fe-0be1603a796f",
   "metadata": {
    "tags": []
   },
   "outputs": [
    {
     "data": {
      "text/plain": [
       "0"
      ]
     },
     "execution_count": 127,
     "metadata": {},
     "output_type": "execute_result"
    }
   ],
   "source": [
    "df.amt_annuity.isna().sum()"
   ]
  },
  {
   "cell_type": "code",
   "execution_count": 129,
   "id": "880c26a8-0bd5-45ed-82e2-7295a18495f0",
   "metadata": {
    "tags": []
   },
   "outputs": [
    {
     "data": {
      "text/plain": [
       "38"
      ]
     },
     "execution_count": 129,
     "metadata": {},
     "output_type": "execute_result"
    }
   ],
   "source": [
    "df.amt_goods_price.isna().sum()"
   ]
  },
  {
   "cell_type": "code",
   "execution_count": 134,
   "id": "74a8fc38-cfb3-4213-931a-b16f45b02bd4",
   "metadata": {
    "tags": []
   },
   "outputs": [
    {
     "data": {
      "text/plain": [
       "<Axes: xlabel='amt_goods_price'>"
      ]
     },
     "execution_count": 134,
     "metadata": {},
     "output_type": "execute_result"
    },
    {
     "data": {
      "image/png": "[encoded data removed]",
      "text/plain": [
       "<Figure size 640x480 with 1 Axes>"
      ]
     },
     "metadata": {},
     "output_type": "display_data"
    }
   ],
   "source": [
    "sns.boxplot(x=df.amt_goods_price)"
   ]
  },
  {
   "cell_type": "code",
   "execution_count": 135,
   "id": "3b9ddae9-dc11-4972-99ec-2d24fec12aa2",
   "metadata": {
    "tags": []
   },
   "outputs": [
    {
     "data": {
      "text/plain": [
       "amt_goods_price\n",
       "450000.0     4211\n",
       "225000.0     4086\n",
       "675000.0     4076\n",
       "900000.0     2513\n",
       "270000.0     1878\n",
       "             ... \n",
       "862353.0        1\n",
       "378598.5        1\n",
       "482530.5        1\n",
       "2173500.0       1\n",
       "467874.0        1\n",
       "Name: count, Length: 519, dtype: int64"
      ]
     },
     "execution_count": 135,
     "metadata": {},
     "output_type": "execute_result"
    }
   ],
   "source": [
    "df.amt_goods_price.value_counts()"
   ]
  },
  {
   "cell_type": "code",
   "execution_count": 136,
   "id": "8f1b8484-6fc1-4ad6-ada9-90df0fe08760",
   "metadata": {
    "tags": []
   },
   "outputs": [
    {
     "data": {
      "text/plain": [
       "4050000.0"
      ]
     },
     "execution_count": 136,
     "metadata": {},
     "output_type": "execute_result"
    }
   ],
   "source": [
    "df.amt_goods_price.max()"
   ]
  },
  {
   "cell_type": "code",
   "execution_count": 141,
   "id": "f9e4af9e-8bab-4778-9507-498e8a16c607",
   "metadata": {
    "tags": []
   },
   "outputs": [],
   "source": [
    "col = list(df.columns.sort_values())"
   ]
  },
  {
   "cell_type": "code",
   "execution_count": 143,
   "id": "7a1e1200-4839-4081-b0d5-78a67077c9ba",
   "metadata": {
    "tags": []
   },
   "outputs": [],
   "source": [
    "#col"
   ]
  },
  {
   "cell_type": "code",
   "execution_count": 145,
   "id": "3d72569c-0267-4e4a-8268-2fb7dbe86d84",
   "metadata": {
    "tags": []
   },
   "outputs": [],
   "source": [
    "df.amt_goods_price = df.amt_goods_price.fillna(df.amt_credit)"
   ]
  },
  {
   "cell_type": "code",
   "execution_count": 146,
   "id": "5075d4a5-fc30-4894-9d7b-0e3533e018b8",
   "metadata": {
    "tags": []
   },
   "outputs": [
    {
     "data": {
      "text/plain": [
       "0"
      ]
     },
     "execution_count": 146,
     "metadata": {},
     "output_type": "execute_result"
    }
   ],
   "source": [
    "df.amt_goods_price.isna().sum()"
   ]
  },
  {
   "cell_type": "code",
   "execution_count": 148,
   "id": "180d3341-8a6c-4cf7-81f6-197bd5a7af79",
   "metadata": {
    "tags": []
   },
   "outputs": [],
   "source": [
    "df1 = devesh.fix_col(df1)"
   ]
  },
  {
   "cell_type": "code",
   "execution_count": 157,
   "id": "34d3a117-c16c-4470-85c1-16dd59961cb0",
   "metadata": {
    "tags": []
   },
   "outputs": [],
   "source": [
    "df1.amt_goods_price = df1.amt_goods_price.fillna(df1.amt_credit)"
   ]
  },
  {
   "cell_type": "code",
   "execution_count": null,
   "id": "976846e2-dbb5-4eb8-b698-12cb71b26f0d",
   "metadata": {},
   "outputs": [],
   "source": []
  }
 ],
 "metadata": {
  "kernelspec": {
   "display_name": "Python 3 (ipykernel)",
   "language": "python",
   "name": "python3"
  },
  "language_info": {
   "codemirror_mode": {
    "name": "ipython",
    "version": 3
   },
   "file_extension": ".py",
   "mimetype": "text/x-python",
   "name": "python",
   "nbconvert_exporter": "python",
   "pygments_lexer": "ipython3",
   "version": "3.11.5"
  }
 },
 "nbformat": 4,
 "nbformat_minor": 5
}
