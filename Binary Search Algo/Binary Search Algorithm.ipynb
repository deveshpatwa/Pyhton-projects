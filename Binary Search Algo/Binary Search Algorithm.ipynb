{
 "cells": [
  {
   "cell_type": "markdown",
   "id": "fcf18805-7e00-4b80-8c9c-d8411897bd06",
   "metadata": {},
   "source": [
    "# Binary search Algorithm"
   ]
  },
  {
   "cell_type": "markdown",
   "id": "f1a8a8e4-c5d3-44a2-b9a4-4eaa90c81605",
   "metadata": {},
   "source": [
    "#### *This is a program to show how powerfull binary search is in terms of searching a number in a large list of orderd number insted of linear search*"
   ]
  },
  {
   "cell_type": "code",
   "execution_count": 25,
   "id": "5f5c617c-41f9-40d3-adc1-b44c53538ce8",
   "metadata": {},
   "outputs": [],
   "source": [
    "# creating a list with 100 million numbers in ascending orders\n",
    "l = list(range(100000000))"
   ]
  },
  {
   "cell_type": "code",
   "execution_count": 26,
   "id": "02b18717-7486-44f3-96ea-3c66254e1fc0",
   "metadata": {},
   "outputs": [],
   "source": [
    "# this is the number we are searching 99.99..million\n",
    "search = 99999998"
   ]
  },
  {
   "cell_type": "code",
   "execution_count": 27,
   "id": "7b0e3232-e912-404c-bab2-9824b9ad3807",
   "metadata": {},
   "outputs": [],
   "source": [
    "import time"
   ]
  },
  {
   "cell_type": "code",
   "execution_count": 28,
   "id": "dbe7576c-1531-4b02-a782-a5cbba213060",
   "metadata": {},
   "outputs": [],
   "source": [
    "# finding how much time it take to search number in linearsearch\n",
    "def linear_search(search,l):\n",
    "    \"\"\"This function search the number in a list and return time it took to search the number, \\nArguments \\n1. Search - search is the number you want to search.\\n2. list - list in which you want to search the number\"\"\"\n",
    "    start_time = time.time()\n",
    "    for i in l:\n",
    "        if i==search:\n",
    "            print(\"Found it - \",search)\n",
    "            \n",
    "    end_time = time.time()\n",
    "    searching_time = end_time-start_time\n",
    "    return searching_time"
   ]
  },
  {
   "cell_type": "code",
   "execution_count": 29,
   "id": "a3984c75-2f07-40c4-a349-3fe652ee6ab3",
   "metadata": {},
   "outputs": [],
   "source": [
    "# function to search the number in a binary search \n",
    "def binary_search(search,l):\n",
    "    \"\"\"This function search the number in a list using binary search algorithm it take 2 arguments.\\n1. Search - number to search.\\n2. List - list in which the number is present\n",
    "    and it return a tuple of how many count a loop rum and how much time it took\"\"\"\n",
    "    start_time = time.time()\n",
    "    count = 0\n",
    "    middle = len(l)//2\n",
    "    low = 0\n",
    "    high = len(l)\n",
    "    while search!=l[middle]:\n",
    "        if search < l[middle]:    # this check if the number is in first half part of list\n",
    "            high = middle\n",
    "            middle //=2\n",
    "            count+=1\n",
    "        else :\n",
    "            low = middle\n",
    "            middle += (high-low)//2\n",
    "            count+=1\n",
    "    end_time = time.time()\n",
    "    search_time = end_time-start_time\n",
    "    return count,search_time"
   ]
  },
  {
   "cell_type": "code",
   "execution_count": 33,
   "id": "4c8543d2-8240-4dae-b639-1945369b5f2f",
   "metadata": {},
   "outputs": [
    {
     "name": "stdout",
     "output_type": "stream",
     "text": [
      "Found it -  99999998\n",
      "It took 25 try and time was 0.0\n"
     ]
    }
   ],
   "source": [
    "# this is how much time binary search took\n",
    "\n",
    "result = binary_search(search,l)\n",
    "print(\"Found it - \",search)\n",
    "print(\"It took\",result[0],\"try and time was\",result[1])\n"
   ]
  },
  {
   "cell_type": "code",
   "execution_count": 31,
   "id": "94fe73bd-6b9a-400f-84d5-bcc530c63289",
   "metadata": {},
   "outputs": [
    {
     "name": "stdout",
     "output_type": "stream",
     "text": [
      "Found it -  99999998\n"
     ]
    },
    {
     "data": {
      "text/plain": [
       "6.704836368560791"
      ]
     },
     "execution_count": 31,
     "metadata": {},
     "output_type": "execute_result"
    }
   ],
   "source": [
    "# how much time does linear search take\n",
    "linear_search(search,l)"
   ]
  },
  {
   "cell_type": "code",
   "execution_count": null,
   "id": "e7f7b84b-2657-49ab-bc5a-c42851c6ba25",
   "metadata": {},
   "outputs": [],
   "source": []
  }
 ],
 "metadata": {
  "kernelspec": {
   "display_name": "Python 3 (ipykernel)",
   "language": "python",
   "name": "python3"
  },
  "language_info": {
   "codemirror_mode": {
    "name": "ipython",
    "version": 3
   },
   "file_extension": ".py",
   "mimetype": "text/x-python",
   "name": "python",
   "nbconvert_exporter": "python",
   "pygments_lexer": "ipython3",
   "version": "3.12.7"
  }
 },
 "nbformat": 4,
 "nbformat_minor": 5
}
