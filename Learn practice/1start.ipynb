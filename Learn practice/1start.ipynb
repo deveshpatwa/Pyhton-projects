{
 "cells": [
  {
   "cell_type": "code",
   "execution_count": 3,
   "id": "7a43d091-e8ea-4c1b-9d6e-47800714db3e",
   "metadata": {
    "tags": []
   },
   "outputs": [],
   "source": [
    "a = 3"
   ]
  },
  {
   "cell_type": "code",
   "execution_count": 4,
   "id": "a9257c52-39a5-4242-b2a8-c4b34f9d38bb",
   "metadata": {
    "tags": []
   },
   "outputs": [
    {
     "data": {
      "text/plain": [
       "5"
      ]
     },
     "execution_count": 4,
     "metadata": {},
     "output_type": "execute_result"
    }
   ],
   "source": [
    "a+2"
   ]
  },
  {
   "cell_type": "code",
   "execution_count": 5,
   "id": "a82fc53d-b77b-4560-a659-26563927675c",
   "metadata": {
    "tags": []
   },
   "outputs": [
    {
     "data": {
      "text/plain": [
       "int"
      ]
     },
     "execution_count": 5,
     "metadata": {},
     "output_type": "execute_result"
    }
   ],
   "source": [
    "type(a)"
   ]
  },
  {
   "cell_type": "code",
   "execution_count": 6,
   "id": "93574d13-950f-47b0-9fe5-1db38b4ed168",
   "metadata": {
    "tags": []
   },
   "outputs": [
    {
     "name": "stdout",
     "output_type": "stream",
     "text": [
      "<class 'int'>\n"
     ]
    }
   ],
   "source": [
    "print(type(a))"
   ]
  },
  {
   "cell_type": "code",
   "execution_count": 9,
   "id": "2f3e8bf4-0287-43bb-beaa-c99329a14958",
   "metadata": {
    "tags": []
   },
   "outputs": [
    {
     "data": {
      "text/plain": [
       "2"
      ]
     },
     "execution_count": 9,
     "metadata": {},
     "output_type": "execute_result"
    }
   ],
   "source": [
    "int(2.9999)"
   ]
  },
  {
   "cell_type": "code",
   "execution_count": 10,
   "id": "52bc4cf2-1652-4226-b02b-1bf19a1728fe",
   "metadata": {
    "tags": []
   },
   "outputs": [
    {
     "data": {
      "text/plain": [
       "2.0"
      ]
     },
     "execution_count": 10,
     "metadata": {},
     "output_type": "execute_result"
    }
   ],
   "source": [
    "float(2)"
   ]
  },
  {
   "cell_type": "code",
   "execution_count": 11,
   "id": "72946d49-833f-4960-922d-d96ae3a4f884",
   "metadata": {
    "tags": []
   },
   "outputs": [
    {
     "data": {
      "text/plain": [
       "'2'"
      ]
     },
     "execution_count": 11,
     "metadata": {},
     "output_type": "execute_result"
    }
   ],
   "source": [
    "str(2)"
   ]
  },
  {
   "cell_type": "code",
   "execution_count": 19,
   "id": "9df340ba-c055-4c09-85ae-bfba05485c2f",
   "metadata": {
    "tags": []
   },
   "outputs": [
    {
     "name": "stdout",
     "output_type": "stream",
     "text": [
      "hello mister <-_->Devesh\n"
     ]
    }
   ],
   "source": [
    "a= \"Devesh\"\n",
    "print(f\"hello mister <-_->{a}\")"
   ]
  },
  {
   "cell_type": "code",
   "execution_count": 21,
   "id": "0188af22-7e67-41d1-8230-81a84c9c52e3",
   "metadata": {
    "tags": []
   },
   "outputs": [
    {
     "data": {
      "text/plain": [
       "8"
      ]
     },
     "execution_count": 21,
     "metadata": {},
     "output_type": "execute_result"
    }
   ],
   "source": [
    "2**3"
   ]
  },
  {
   "cell_type": "code",
   "execution_count": 32,
   "id": "dfe0f4c9-5ca2-4f37-a84a-8bd4066afe16",
   "metadata": {
    "tags": []
   },
   "outputs": [
    {
     "data": {
      "text/plain": [
       "False"
      ]
     },
     "execution_count": 32,
     "metadata": {},
     "output_type": "execute_result"
    }
   ],
   "source": [
    "4==4 and 6==2"
   ]
  },
  {
   "cell_type": "code",
   "execution_count": 35,
   "id": "9762c8d0-8aab-4149-97f3-f9b5ea4b47fb",
   "metadata": {
    "tags": []
   },
   "outputs": [
    {
     "data": {
      "text/plain": [
       "True"
      ]
     },
     "execution_count": 35,
     "metadata": {},
     "output_type": "execute_result"
    }
   ],
   "source": [
    "not 2==3"
   ]
  },
  {
   "cell_type": "code",
   "execution_count": 40,
   "id": "c2572740-f6d2-4dc7-be83-da18a1c9f57f",
   "metadata": {
    "tags": []
   },
   "outputs": [
    {
     "name": "stdin",
     "output_type": "stream",
     "text": [
      " IND\n"
     ]
    },
    {
     "name": "stdout",
     "output_type": "stream",
     "text": [
      "Hello its right\n"
     ]
    }
   ],
   "source": [
    "a = str.lower(input())\n",
    "if a == \"ind\":\n",
    "    print(\"Hello its right\")"
   ]
  },
  {
   "cell_type": "code",
   "execution_count": 52,
   "id": "9cedd2ea-da53-4528-a1ca-2aed5509c4bc",
   "metadata": {
    "tags": []
   },
   "outputs": [
    {
     "name": "stdout",
     "output_type": "stream",
     "text": [
      "A is 10 and b is 45\n"
     ]
    }
   ],
   "source": [
    "a=10\n",
    "b=45\n",
    "c=0\n",
    "print(f\"A is {a} and b is {b}\")"
   ]
  },
  {
   "cell_type": "code",
   "execution_count": 53,
   "id": "107820f5-8119-4d3d-b8d0-8ff6e1ea8be5",
   "metadata": {
    "tags": []
   },
   "outputs": [
    {
     "name": "stdout",
     "output_type": "stream",
     "text": [
      "A is 45 and b is 10\n"
     ]
    }
   ],
   "source": [
    "c=a\n",
    "a=b\n",
    "b=c\n",
    "\n",
    "\n",
    "print(f\"A is {a} and b is {b}\")"
   ]
  },
  {
   "cell_type": "code",
   "execution_count": 54,
   "id": "f0efa4ce-b987-4602-89e3-0201b60be5ea",
   "metadata": {
    "tags": []
   },
   "outputs": [
    {
     "ename": "SyntaxError",
     "evalue": "invalid syntax (3257467783.py, line 2)",
     "output_type": "error",
     "traceback": [
      "\u001b[1;36m  Cell \u001b[1;32mIn[54], line 2\u001b[1;36m\u001b[0m\n\u001b[1;33m    if year%\u001b[0m\n\u001b[1;37m            ^\u001b[0m\n\u001b[1;31mSyntaxError\u001b[0m\u001b[1;31m:\u001b[0m invalid syntax\n"
     ]
    }
   ],
   "source": [
    "year=int(input())\n",
    "if year%"
   ]
  },
  {
   "cell_type": "code",
   "execution_count": 59,
   "id": "34754d63-8b28-4c43-8320-24b2d104bb98",
   "metadata": {
    "tags": []
   },
   "outputs": [
    {
     "name": "stdin",
     "output_type": "stream",
     "text": [
      " 26\n"
     ]
    },
    {
     "name": "stdout",
     "output_type": "stream",
     "text": [
      "Not fully divided by 5\n"
     ]
    }
   ],
   "source": [
    "a=int(input())\n",
    "if a%5==0:\n",
    "    print('Fully divided by 5')\n",
    "else: \n",
    "    print(\"Not fully divided by 5\")"
   ]
  },
  {
   "cell_type": "code",
   "execution_count": 62,
   "id": "1c307c57-35b8-492d-8578-18b154c53218",
   "metadata": {
    "tags": []
   },
   "outputs": [
    {
     "name": "stdin",
     "output_type": "stream",
     "text": [
      "a =  9\n",
      "b =  8\n"
     ]
    },
    {
     "name": "stdout",
     "output_type": "stream",
     "text": [
      "A is bigger\n"
     ]
    }
   ],
   "source": [
    "a =int(input(\"a = \"))\n",
    "b =int(input(\"b = \"))\n",
    "if a==b:\n",
    "    print(\"They are equal\")\n",
    "elif a>b:\n",
    "    print(\"A is bigger\")\n",
    "else:\n",
    "    print(\"B is bigger\")"
   ]
  },
  {
   "cell_type": "code",
   "execution_count": 65,
   "id": "edd46767-cbf6-4674-84e8-c45c69631fbc",
   "metadata": {
    "tags": []
   },
   "outputs": [
    {
     "name": "stdin",
     "output_type": "stream",
     "text": [
      " 35\n"
     ]
    },
    {
     "name": "stdout",
     "output_type": "stream",
     "text": [
      "It can be divided by 5 and 7 both\n"
     ]
    }
   ],
   "source": [
    "num = int(input())\n",
    "if num%5==0 and num%7==0:\n",
    "    print(\"It can be divided by 5 and 7 both\")\n",
    "else:\n",
    "    print(\"It  cannot\")"
   ]
  },
  {
   "cell_type": "code",
   "execution_count": 69,
   "id": "31de8ba6-f5eb-4fe4-980b-ec053d418a5e",
   "metadata": {
    "tags": []
   },
   "outputs": [
    {
     "name": "stdin",
     "output_type": "stream",
     "text": [
      "A =  12\n",
      "B =  13\n",
      "C =  12\n"
     ]
    },
    {
     "name": "stdout",
     "output_type": "stream",
     "text": [
      "B is largest\n"
     ]
    }
   ],
   "source": [
    "a = int(input(\"A = \"))\n",
    "b = int(input(\"B = \"))\n",
    "c = int(input(\"C = \"))\n",
    "if a>b and a>c:\n",
    "    print(\"A is largest\")\n",
    "elif b>a and b>c:\n",
    "    print(\"B is largest\")\n",
    "elif c>a and c>b:\n",
    "    print(\"C is largest\")\n",
    "else:\n",
    "    print(\"they are all equal\")"
   ]
  },
  {
   "cell_type": "code",
   "execution_count": 78,
   "id": "36162f73-a190-42fd-9d4e-a9d79ad51fd5",
   "metadata": {
    "tags": []
   },
   "outputs": [
    {
     "name": "stdin",
     "output_type": "stream",
     "text": [
      "Enter Year =  2100\n"
     ]
    },
    {
     "name": "stdout",
     "output_type": "stream",
     "text": [
      "Its a Leap year\n"
     ]
    }
   ],
   "source": [
    "year = int(input(\"Enter Year = \"))\n",
    "if (year%100==0 and year %400==0) or (year%4==0):\n",
    "    print(\"Its a Leap year\")\n",
    "else:\n",
    "    print(\"Its not a leap year\")\n"
   ]
  },
  {
   "cell_type": "code",
   "execution_count": 86,
   "id": "6d182397-e24c-42c7-a7e5-8cd9dd998f2f",
   "metadata": {
    "tags": []
   },
   "outputs": [
    {
     "name": "stdin",
     "output_type": "stream",
     "text": [
      "Enter Year =  2436\n"
     ]
    },
    {
     "name": "stdout",
     "output_type": "stream",
     "text": [
      "Leap year\n"
     ]
    }
   ],
   "source": [
    "year = int(input(\"Enter Year = \"))\n",
    "if year%100==0:\n",
    "    if year%400==0 :\n",
    "        print(\"Leap year\")\n",
    "    else:\n",
    "        print(\"Its not a leap year\")\n",
    "\n",
    "else:\n",
    "    if year%4==0:\n",
    "            print(\"Leap year\")\n",
    "    else:\n",
    "        print(\"Its not a leap year\")"
   ]
  },
  {
   "cell_type": "code",
   "execution_count": 22,
   "id": "40a95728-bef8-4c1f-abb7-82cb919dbd15",
   "metadata": {
    "tags": []
   },
   "outputs": [
    {
     "name": "stdout",
     "output_type": "stream",
     "text": [
      "140726749207048 140726749208072\n"
     ]
    }
   ],
   "source": [
    "a=56\n",
    "b=88\n",
    "print(id(a),id(b))"
   ]
  },
  {
   "cell_type": "code",
   "execution_count": 27,
   "id": "fe8656aa-2e64-4506-acd6-5e455279ff12",
   "metadata": {
    "tags": []
   },
   "outputs": [
    {
     "name": "stdout",
     "output_type": "stream",
     "text": [
      "140726749207048 140726749207048\n"
     ]
    }
   ],
   "source": [
    "b=56\n",
    "print(id(b),id(a))"
   ]
  },
  {
   "cell_type": "code",
   "execution_count": 28,
   "id": "b8323743-b8aa-4981-8c43-82eb51c4d877",
   "metadata": {
    "tags": []
   },
   "outputs": [
    {
     "data": {
      "text/plain": [
       "True"
      ]
     },
     "execution_count": 28,
     "metadata": {},
     "output_type": "execute_result"
    }
   ],
   "source": [
    "a is b"
   ]
  },
  {
   "cell_type": "code",
   "execution_count": 5,
   "id": "e90610bf-bbda-497a-b561-81a17d94d7d1",
   "metadata": {
    "tags": []
   },
   "outputs": [
    {
     "name": "stdout",
     "output_type": "stream",
     "text": [
      "140726749207048 140726749207048\n"
     ]
    }
   ],
   "source": [
    "print(id(a),id(b))"
   ]
  },
  {
   "cell_type": "code",
   "execution_count": 12,
   "id": "a5f3ef10-56ba-471c-8acb-fc0bd704dac9",
   "metadata": {
    "tags": []
   },
   "outputs": [],
   "source": [
    "l = [1,2,3,4,5]\n",
    "fs = frozenset(l)\n",
    "s = set(l)"
   ]
  },
  {
   "cell_type": "code",
   "execution_count": 14,
   "id": "38715cb2-7805-416c-863e-02aa4f214ddf",
   "metadata": {
    "tags": []
   },
   "outputs": [
    {
     "data": {
      "text/plain": [
       "{1, 2, 3, 4, 5}"
      ]
     },
     "execution_count": 14,
     "metadata": {},
     "output_type": "execute_result"
    }
   ],
   "source": [
    "s"
   ]
  },
  {
   "cell_type": "code",
   "execution_count": 15,
   "id": "fd113347-4d1f-40a3-8225-0c5a69dcd27b",
   "metadata": {
    "tags": []
   },
   "outputs": [
    {
     "data": {
      "text/plain": [
       "set"
      ]
     },
     "execution_count": 15,
     "metadata": {},
     "output_type": "execute_result"
    }
   ],
   "source": [
    "type(s)"
   ]
  },
  {
   "cell_type": "code",
   "execution_count": 17,
   "id": "c7a422ee-e42d-459e-9fce-06ec0f5e9b6e",
   "metadata": {
    "tags": []
   },
   "outputs": [
    {
     "ename": "TypeError",
     "evalue": "set.pop() takes no arguments (1 given)",
     "output_type": "error",
     "traceback": [
      "\u001b[1;31m---------------------------------------------------------------------------\u001b[0m",
      "\u001b[1;31mTypeError\u001b[0m                                 Traceback (most recent call last)",
      "Cell \u001b[1;32mIn[17], line 1\u001b[0m\n\u001b[1;32m----> 1\u001b[0m \u001b[43ms\u001b[49m\u001b[38;5;241;43m.\u001b[39;49m\u001b[43mpop\u001b[49m\u001b[43m(\u001b[49m\u001b[38;5;241;43m2\u001b[39;49m\u001b[43m)\u001b[49m\n",
      "\u001b[1;31mTypeError\u001b[0m: set.pop() takes no arguments (1 given)"
     ]
    }
   ],
   "source": [
    "s.pop(2)"
   ]
  },
  {
   "cell_type": "code",
   "execution_count": 4,
   "id": "24226371-d370-4564-9bf0-d820d2261540",
   "metadata": {
    "tags": []
   },
   "outputs": [
    {
     "data": {
      "text/plain": [
       "(2441655238016, 2441655243712)"
      ]
     },
     "execution_count": 4,
     "metadata": {},
     "output_type": "execute_result"
    }
   ],
   "source": [
    "a = [1,2]\n",
    "b=[1,2]\n",
    "id(a),id(b)"
   ]
  },
  {
   "cell_type": "code",
   "execution_count": 7,
   "id": "a66df787-c7a7-4b3b-b4f7-a6d7a8c3f222",
   "metadata": {
    "tags": []
   },
   "outputs": [
    {
     "data": {
      "text/plain": [
       "False"
      ]
     },
     "execution_count": 7,
     "metadata": {},
     "output_type": "execute_result"
    }
   ],
   "source": [
    "a is b"
   ]
  },
  {
   "cell_type": "code",
   "execution_count": 6,
   "id": "f4936ef3-5ce2-48fc-ab4e-b8649ec8aefe",
   "metadata": {
    "tags": []
   },
   "outputs": [
    {
     "data": {
      "text/plain": [
       "True"
      ]
     },
     "execution_count": 6,
     "metadata": {},
     "output_type": "execute_result"
    }
   ],
   "source": [
    "a==b"
   ]
  },
  {
   "cell_type": "code",
   "execution_count": 16,
   "id": "9a97d587-6877-4113-8d1f-905152629fd7",
   "metadata": {
    "tags": []
   },
   "outputs": [
    {
     "name": "stdout",
     "output_type": "stream",
     "text": [
      "IOTA Academy is the best institute*_*Hello\n"
     ]
    }
   ],
   "source": [
    "print(\"IOTA\" ,\"Academy\" ,\"is\", \"the\" ,\"best\" ,\"institute\",end=\"*_*\")\n",
    "print(\"Hello\")"
   ]
  },
  {
   "cell_type": "code",
   "execution_count": 18,
   "id": "db86d8a3-4815-418b-9a83-90625ccecc6d",
   "metadata": {
    "tags": []
   },
   "outputs": [
    {
     "ename": "SyntaxError",
     "evalue": "invalid syntax (809726506.py, line 1)",
     "output_type": "error",
     "traceback": [
      "\u001b[1;36m  Cell \u001b[1;32mIn[18], line 1\u001b[1;36m\u001b[0m\n\u001b[1;33m    -install kivy\u001b[0m\n\u001b[1;37m             ^\u001b[0m\n\u001b[1;31mSyntaxError\u001b[0m\u001b[1;31m:\u001b[0m invalid syntax\n"
     ]
    }
   ],
   "source": [
    "-install kivy"
   ]
  },
  {
   "cell_type": "code",
   "execution_count": 29,
   "id": "b6345f70-9843-4793-ba20-87dc63feac1f",
   "metadata": {
    "tags": []
   },
   "outputs": [
    {
     "name": "stdin",
     "output_type": "stream",
     "text": [
      "Enter day-  moNDAY\n"
     ]
    },
    {
     "name": "stdout",
     "output_type": "stream",
     "text": [
      "Nooo 😭\n"
     ]
    }
   ],
   "source": [
    "day = str.lower(input(\"Enter day- \"))\n",
    "days = [\"sunday\",'monday','tuesday','wednesday','thursday','friday','saturday']\n",
    "if day in days:\n",
    "    if day==\"sunday\":\n",
    "        print(\"Yeahhh 😁\")\n",
    "    else:\n",
    "        print(\"Nooo 😭\")\n",
    "else:\n",
    "    print(\"Enter a valed day name\")"
   ]
  },
  {
   "cell_type": "code",
   "execution_count": null,
   "id": "ccf9b215-d427-47d5-a2b6-c452ad3f3f29",
   "metadata": {
    "tags": []
   },
   "outputs": [],
   "source": []
  },
  {
   "cell_type": "code",
   "execution_count": 32,
   "id": "2a937662-cbce-4e42-a89c-39801b52ae52",
   "metadata": {
    "tags": []
   },
   "outputs": [
    {
     "ename": "SyntaxError",
     "evalue": "leading zeros in decimal integer literals are not permitted; use an 0o prefix for octal integers (1293963658.py, line 1)",
     "output_type": "error",
     "traceback": [
      "\u001b[1;36m  Cell \u001b[1;32mIn[32], line 1\u001b[1;36m\u001b[0m\n\u001b[1;33m    a = 0123\u001b[0m\n\u001b[1;37m        ^\u001b[0m\n\u001b[1;31mSyntaxError\u001b[0m\u001b[1;31m:\u001b[0m leading zeros in decimal integer literals are not permitted; use an 0o prefix for octal integers\n"
     ]
    }
   ],
   "source": [
    "a = 0123"
   ]
  },
  {
   "cell_type": "code",
   "execution_count": 33,
   "id": "ec35f602-aa96-4533-84d9-8e025763ed46",
   "metadata": {
    "tags": []
   },
   "outputs": [
    {
     "data": {
      "text/plain": [
       "'5050'"
      ]
     },
     "execution_count": 33,
     "metadata": {},
     "output_type": "execute_result"
    }
   ],
   "source": [
    "\"50\"+\"50\""
   ]
  },
  {
   "cell_type": "code",
   "execution_count": 34,
   "id": "b9dc7f46-3b33-4a9e-a28a-a07c6ae83bbb",
   "metadata": {
    "tags": []
   },
   "outputs": [
    {
     "ename": "TypeError",
     "evalue": "unsupported operand type(s) for &: 'str' and 'str'",
     "output_type": "error",
     "traceback": [
      "\u001b[1;31m---------------------------------------------------------------------------\u001b[0m",
      "\u001b[1;31mTypeError\u001b[0m                                 Traceback (most recent call last)",
      "Cell \u001b[1;32mIn[34], line 1\u001b[0m\n\u001b[1;32m----> 1\u001b[0m \u001b[38;5;124;43m\"\u001b[39;49m\u001b[38;5;124;43m50\u001b[39;49m\u001b[38;5;124;43m\"\u001b[39;49m\u001b[38;5;241;43m&\u001b[39;49m\u001b[38;5;124;43m\"\u001b[39;49m\u001b[38;5;124;43m50\u001b[39;49m\u001b[38;5;124;43m\"\u001b[39;49m\n",
      "\u001b[1;31mTypeError\u001b[0m: unsupported operand type(s) for &: 'str' and 'str'"
     ]
    }
   ],
   "source": [
    "\"50\"&\"50\""
   ]
  },
  {
   "cell_type": "code",
   "execution_count": 36,
   "id": "d70719bb-c260-43a6-841f-47964d25ce35",
   "metadata": {
    "tags": []
   },
   "outputs": [
    {
     "data": {
      "text/plain": [
       "[0, 1, 2, 3, 4, 5, 6, 7, 8, 9]"
      ]
     },
     "execution_count": 36,
     "metadata": {},
     "output_type": "execute_result"
    }
   ],
   "source": [
    "list(range(10))"
   ]
  },
  {
   "cell_type": "code",
   "execution_count": 43,
   "id": "c349eaa1-0e34-4627-b1b6-3a35460a9c10",
   "metadata": {
    "tags": []
   },
   "outputs": [
    {
     "name": "stdout",
     "output_type": "stream",
     "text": [
      "1, 3, 5, 7, 9, "
     ]
    }
   ],
   "source": [
    "for i in range(1,11,2):\n",
    "    print(i,end=\", \")"
   ]
  },
  {
   "cell_type": "code",
   "execution_count": 45,
   "id": "c2c54163-d064-4cdd-8ab3-7ecd658e6ba2",
   "metadata": {
    "tags": []
   },
   "outputs": [
    {
     "name": "stdout",
     "output_type": "stream",
     "text": [
      "[1, 2, 3, [1, 2, 3, ['hello']]]\n"
     ]
    }
   ],
   "source": [
    "l= [1,2,3,[\"hello\"]]\n",
    "lst = [1,2,3,l]\n",
    "print(lst)"
   ]
  },
  {
   "cell_type": "code",
   "execution_count": 47,
   "id": "c7577bdc-f1d6-49ab-a12f-fc4423979714",
   "metadata": {
    "tags": []
   },
   "outputs": [
    {
     "data": {
      "text/plain": [
       "4"
      ]
     },
     "execution_count": 47,
     "metadata": {},
     "output_type": "execute_result"
    }
   ],
   "source": [
    "len(l)"
   ]
  },
  {
   "cell_type": "code",
   "execution_count": 48,
   "id": "2da8f0d0-b893-4418-a66a-f1545165d458",
   "metadata": {
    "tags": []
   },
   "outputs": [],
   "source": [
    "a = l.copy()"
   ]
  },
  {
   "cell_type": "code",
   "execution_count": 49,
   "id": "e6fbeaca-87c7-44d7-9d3c-ff78b8dfdfaf",
   "metadata": {
    "tags": []
   },
   "outputs": [
    {
     "data": {
      "text/plain": [
       "[1, 2, 3, ['hello']]"
      ]
     },
     "execution_count": 49,
     "metadata": {},
     "output_type": "execute_result"
    }
   ],
   "source": [
    "a"
   ]
  },
  {
   "cell_type": "code",
   "execution_count": 53,
   "id": "4a23a2f5-193d-4bf3-98d2-eb37e2f6c5a3",
   "metadata": {
    "tags": []
   },
   "outputs": [
    {
     "data": {
      "text/plain": [
       "1"
      ]
     },
     "execution_count": 53,
     "metadata": {},
     "output_type": "execute_result"
    }
   ],
   "source": [
    "l.count(2)"
   ]
  },
  {
   "cell_type": "code",
   "execution_count": 59,
   "id": "333d68dd-a1cf-46be-97a2-1d67ba5aa613",
   "metadata": {
    "tags": []
   },
   "outputs": [],
   "source": [
    "l=[1,1,1,1,2,1,2,2,2,3,3,43,3,7,3,999,9,9,9,9,9,9,9,99,9,9,99]"
   ]
  },
  {
   "cell_type": "code",
   "execution_count": 60,
   "id": "2c432fac-6c30-4526-9efe-9258a53da9d1",
   "metadata": {
    "tags": []
   },
   "outputs": [
    {
     "data": {
      "text/plain": [
       "5"
      ]
     },
     "execution_count": 60,
     "metadata": {},
     "output_type": "execute_result"
    }
   ],
   "source": [
    "l.count(1)"
   ]
  },
  {
   "cell_type": "code",
   "execution_count": 71,
   "id": "b6f21321-baac-4ae1-883b-d7287469b899",
   "metadata": {
    "tags": []
   },
   "outputs": [],
   "source": [
    "unique = list(set(l))\n",
    "unique.sort()"
   ]
  },
  {
   "cell_type": "code",
   "execution_count": 72,
   "id": "8c853ff6-63d0-4e3b-b483-5e30285c59e4",
   "metadata": {
    "tags": []
   },
   "outputs": [
    {
     "name": "stdout",
     "output_type": "stream",
     "text": [
      "1 = 5\n",
      "2 = 4\n",
      "3 = 4\n",
      "7 = 1\n",
      "9 = 9\n",
      "43 = 1\n",
      "99 = 2\n",
      "999 = 1\n"
     ]
    }
   ],
   "source": [
    "for i in unique:\n",
    "    print(f\"{i} = {l.count(i)}\")"
   ]
  },
  {
   "cell_type": "code",
   "execution_count": 75,
   "id": "7a26d321-9997-43f8-9bae-e2cc08db7264",
   "metadata": {
    "tags": []
   },
   "outputs": [
    {
     "data": {
      "text/plain": [
       "list"
      ]
     },
     "execution_count": 75,
     "metadata": {},
     "output_type": "execute_result"
    }
   ],
   "source": [
    "type(sorted((3,2,1)))"
   ]
  },
  {
   "cell_type": "code",
   "execution_count": 76,
   "id": "c2a20158-ec28-4186-8953-458d7b7fd78d",
   "metadata": {
    "tags": []
   },
   "outputs": [
    {
     "data": {
      "text/plain": [
       "tuple"
      ]
     },
     "execution_count": 76,
     "metadata": {},
     "output_type": "execute_result"
    }
   ],
   "source": [
    "type((3,2,1))"
   ]
  },
  {
   "cell_type": "code",
   "execution_count": 131,
   "id": "4428f26d-b1cc-46ed-85ed-45b11bbbcd26",
   "metadata": {
    "tags": []
   },
   "outputs": [],
   "source": [
    "l = [3,6,8,4,6,3,2,8,23]"
   ]
  },
  {
   "cell_type": "code",
   "execution_count": 132,
   "id": "e653ab9c-a9c5-4930-9688-174c706c7653",
   "metadata": {
    "tags": []
   },
   "outputs": [
    {
     "data": {
      "text/plain": [
       "[3, 8, 4, 6, 3, 2, 8, 23]"
      ]
     },
     "execution_count": 132,
     "metadata": {},
     "output_type": "execute_result"
    }
   ],
   "source": [
    "l.remove(6)\n",
    "l"
   ]
  },
  {
   "cell_type": "code",
   "execution_count": 134,
   "id": "4e41290f-7928-4c8c-94ed-7dd8620b03c3",
   "metadata": {
    "tags": []
   },
   "outputs": [],
   "source": [
    "l.insert(1,99)"
   ]
  },
  {
   "cell_type": "code",
   "execution_count": 142,
   "id": "327bf8db-8d3a-483d-bf08-3ad0c8aabdd8",
   "metadata": {
    "tags": []
   },
   "outputs": [
    {
     "data": {
      "text/plain": [
       "[3, 2]"
      ]
     },
     "execution_count": 142,
     "metadata": {},
     "output_type": "execute_result"
    }
   ],
   "source": [
    "l.pop()\n",
    "l"
   ]
  },
  {
   "cell_type": "code",
   "execution_count": 124,
   "id": "81f65e9c-e346-4061-9ea4-10214d1e81c7",
   "metadata": {
    "tags": []
   },
   "outputs": [],
   "source": [
    "for i in range(len(l)-1):\n",
    "    for j in range(len(l)-1-i):\n",
    "        if l[j]>l[j+1]:\n",
    "            l[j],l[j+1]=l[j+1],l[j]"
   ]
  },
  {
   "cell_type": "code",
   "execution_count": 125,
   "id": "fc8cfaac-80c5-454b-9b8f-0fe3874a2f33",
   "metadata": {
    "tags": []
   },
   "outputs": [
    {
     "data": {
      "text/plain": [
       "[2, 3, 3, 4, 6, 6, 8, 8, 23]"
      ]
     },
     "execution_count": 125,
     "metadata": {},
     "output_type": "execute_result"
    }
   ],
   "source": [
    "l"
   ]
  },
  {
   "cell_type": "code",
   "execution_count": 112,
   "id": "e5656e83-09ec-4e77-b890-03f089896e55",
   "metadata": {
    "tags": []
   },
   "outputs": [
    {
     "name": "stdout",
     "output_type": "stream",
     "text": [
      "Sorted list: [11, 12, 22, 25, 34, 64, 90]\n"
     ]
    }
   ],
   "source": [
    "\n",
    "# Input: list of numbers\n",
    "numbers = [64, 34, 25, 12, 22, 11, 90]\n",
    "\n",
    "# Bubble Sort algorithm\n",
    "for i in range(len(numbers) - 1):\n",
    "    for j in range(len(numbers) - 1 - i):\n",
    "        if numbers[j] > numbers[j + 1]:\n",
    "            # Swap if the current number is greater than the next number\n",
    "            numbers[j], numbers[j + 1] = numbers[j + 1], numbers[j]\n",
    "\n",
    "# Displaying the sorted list\n",
    "print(\"Sorted list:\", numbers)"
   ]
  },
  {
   "cell_type": "code",
   "execution_count": 18,
   "id": "fa3433a1-7229-4278-ba79-ca821721fad8",
   "metadata": {},
   "outputs": [
    {
     "data": {
      "text/plain": [
       "[1, 4, 5]"
      ]
     },
     "execution_count": 18,
     "metadata": {},
     "output_type": "execute_result"
    }
   ],
   "source": [
    "l = [1,2,4,7,5,3,1,4]\n",
    "l[0:5:2]"
   ]
  },
  {
   "cell_type": "code",
   "execution_count": 19,
   "id": "a889d04c-7a6e-4453-a2ff-ae76a9b504c7",
   "metadata": {
    "tags": []
   },
   "outputs": [
    {
     "ename": "TypeError",
     "evalue": "'int' object is not subscriptable",
     "output_type": "error",
     "traceback": [
      "\u001b[1;31m---------------------------------------------------------------------------\u001b[0m",
      "\u001b[1;31mTypeError\u001b[0m                                 Traceback (most recent call last)",
      "Cell \u001b[1;32mIn[19], line 1\u001b[0m\n\u001b[1;32m----> 1\u001b[0m \u001b[43ml\u001b[49m\u001b[43m[\u001b[49m\u001b[38;5;241;43m-\u001b[39;49m\u001b[38;5;241;43m1\u001b[39;49m\u001b[43m]\u001b[49m\u001b[43m[\u001b[49m\u001b[38;5;241;43m0\u001b[39;49m\u001b[43m]\u001b[49m\n",
      "\u001b[1;31mTypeError\u001b[0m: 'int' object is not subscriptable"
     ]
    }
   ],
   "source": [
    "l[-1][0]"
   ]
  },
  {
   "cell_type": "code",
   "execution_count": 4,
   "id": "f82f1c63-0e58-4951-b0a4-a0af894a858f",
   "metadata": {},
   "outputs": [
    {
     "data": {
      "text/plain": [
       "tuple"
      ]
     },
     "execution_count": 4,
     "metadata": {},
     "output_type": "execute_result"
    }
   ],
   "source": [
    "t = ()\n",
    "type(t)"
   ]
  },
  {
   "cell_type": "code",
   "execution_count": 5,
   "id": "75efa436-6f9d-450b-aadd-cd4e52b8b5a2",
   "metadata": {
    "tags": []
   },
   "outputs": [],
   "source": [
    "t = 'hello','world'"
   ]
  },
  {
   "cell_type": "code",
   "execution_count": 6,
   "id": "91e82334-4acc-46da-96a8-a24092834d68",
   "metadata": {
    "tags": []
   },
   "outputs": [
    {
     "data": {
      "text/plain": [
       "tuple"
      ]
     },
     "execution_count": 6,
     "metadata": {},
     "output_type": "execute_result"
    }
   ],
   "source": [
    "type(t)"
   ]
  },
  {
   "cell_type": "code",
   "execution_count": 10,
   "id": "f2bddb10-506b-4823-ad0f-b141dbea8850",
   "metadata": {
    "tags": []
   },
   "outputs": [
    {
     "data": {
      "text/plain": [
       "(91, 2, 3, 1)"
      ]
     },
     "execution_count": 10,
     "metadata": {},
     "output_type": "execute_result"
    }
   ],
   "source": [
    "(91,2,3)+(1,)"
   ]
  },
  {
   "cell_type": "code",
   "execution_count": 12,
   "id": "f58de767-5d55-4e74-a93c-5a99ff16c3c8",
   "metadata": {
    "tags": []
   },
   "outputs": [],
   "source": [
    "t = tuple([6,7,8])"
   ]
  },
  {
   "cell_type": "code",
   "execution_count": 14,
   "id": "a713c321-a7bd-46e3-9451-4b2a9fed184e",
   "metadata": {
    "tags": []
   },
   "outputs": [
    {
     "data": {
      "text/plain": [
       "tuple"
      ]
     },
     "execution_count": 14,
     "metadata": {},
     "output_type": "execute_result"
    }
   ],
   "source": [
    "type(t)"
   ]
  },
  {
   "cell_type": "code",
   "execution_count": 37,
   "id": "7829923d-e24b-4c29-907d-b88e32e4fe3b",
   "metadata": {
    "tags": []
   },
   "outputs": [
    {
     "name": "stdout",
     "output_type": "stream",
     "text": [
      "[4, 2]\n"
     ]
    }
   ],
   "source": [
    "l=[1,2,3,4,5]\n",
    "print(l[::-1][1::2])\n"
   ]
  },
  {
   "cell_type": "code",
   "execution_count": 38,
   "id": "3463e388-7f5b-4208-ae39-0c2a42c6bfd2",
   "metadata": {
    "tags": []
   },
   "outputs": [],
   "source": [
    "t = (1,2,3,['list','two'])"
   ]
  },
  {
   "cell_type": "code",
   "execution_count": 40,
   "id": "689fc7a9-7e1a-4c13-8aa8-482f8a25798a",
   "metadata": {
    "tags": []
   },
   "outputs": [
    {
     "data": {
      "text/plain": [
       "list"
      ]
     },
     "execution_count": 40,
     "metadata": {},
     "output_type": "execute_result"
    }
   ],
   "source": [
    "type(t[3])"
   ]
  },
  {
   "cell_type": "code",
   "execution_count": 41,
   "id": "c2d190f3-9d55-4e27-9bac-0c8f4d16843b",
   "metadata": {
    "tags": []
   },
   "outputs": [],
   "source": [
    "t[3].append('hello')"
   ]
  },
  {
   "cell_type": "code",
   "execution_count": 43,
   "id": "0326b28b-7efa-41c2-8dbd-37f4c1f05dde",
   "metadata": {
    "tags": []
   },
   "outputs": [
    {
     "data": {
      "text/plain": [
       "tuple"
      ]
     },
     "execution_count": 43,
     "metadata": {},
     "output_type": "execute_result"
    }
   ],
   "source": [
    "type(t)"
   ]
  },
  {
   "cell_type": "code",
   "execution_count": 46,
   "id": "1b9b5a8f-fb3f-4dec-a3e6-35dbbeae7167",
   "metadata": {
    "tags": []
   },
   "outputs": [
    {
     "data": {
      "text/plain": [
       "[3, 5, 8]"
      ]
     },
     "execution_count": 46,
     "metadata": {},
     "output_type": "execute_result"
    }
   ],
   "source": [
    "sorted((5,8,3))"
   ]
  },
  {
   "cell_type": "code",
   "execution_count": 48,
   "id": "f61c7f0f-af4d-48f5-bbfc-357d97a7fd34",
   "metadata": {
    "tags": []
   },
   "outputs": [
    {
     "data": {
      "text/plain": [
       "79"
      ]
     },
     "execution_count": 48,
     "metadata": {},
     "output_type": "execute_result"
    }
   ],
   "source": [
    "t = (5,7,67)\n",
    "sum(t)"
   ]
  },
  {
   "cell_type": "code",
   "execution_count": 52,
   "id": "3e839e49-eaca-4e0d-bba9-f966ccd514fc",
   "metadata": {
    "tags": []
   },
   "outputs": [
    {
     "data": {
      "text/plain": [
       "5"
      ]
     },
     "execution_count": 52,
     "metadata": {},
     "output_type": "execute_result"
    }
   ],
   "source": [
    "min(t)"
   ]
  },
  {
   "cell_type": "code",
   "execution_count": 53,
   "id": "ecaa6829-3e13-4577-b544-9b492bd0ebe3",
   "metadata": {
    "tags": []
   },
   "outputs": [],
   "source": [
    "l1 =['maths','physics','science']\n",
    "l2 = ['economics','science','maths','hindi']"
   ]
  },
  {
   "cell_type": "code",
   "execution_count": 56,
   "id": "2695f7f9-b913-4875-87ae-475955c307e8",
   "metadata": {
    "tags": []
   },
   "outputs": [
    {
     "data": {
      "text/plain": [
       "{'maths', 'science'}"
      ]
     },
     "execution_count": 56,
     "metadata": {},
     "output_type": "execute_result"
    }
   ],
   "source": [
    "common = set(l1)&set(l2)\n",
    "common"
   ]
  },
  {
   "cell_type": "code",
   "execution_count": 60,
   "id": "d3497ce0-ee12-46e5-8227-1febf4b56540",
   "metadata": {
    "tags": []
   },
   "outputs": [
    {
     "data": {
      "text/plain": [
       "{'economics', 'hindi', 'maths', 'physics', 'science'}"
      ]
     },
     "execution_count": 60,
     "metadata": {},
     "output_type": "execute_result"
    }
   ],
   "source": [
    "all_sub = set(l1)|set(l2)\n",
    "all_sub"
   ]
  },
  {
   "cell_type": "code",
   "execution_count": 68,
   "id": "9d0d4761-2257-4192-b7b1-3b2d945f70dc",
   "metadata": {
    "tags": []
   },
   "outputs": [
    {
     "data": {
      "text/plain": [
       "{'maths', 'science'}"
      ]
     },
     "execution_count": 68,
     "metadata": {},
     "output_type": "execute_result"
    }
   ],
   "source": [
    "s1 = set(l1)\n",
    "s2 = set(l2)\n",
    "s1.intersection(s2)"
   ]
  },
  {
   "cell_type": "code",
   "execution_count": 70,
   "id": "34dcd29b-3115-4f67-b4c2-1c1a3820ab2b",
   "metadata": {
    "tags": []
   },
   "outputs": [
    {
     "data": {
      "text/plain": [
       "({'physics'}, {'economics', 'hindi'})"
      ]
     },
     "execution_count": 70,
     "metadata": {},
     "output_type": "execute_result"
    }
   ],
   "source": [
    "s1-s2,s2-s1"
   ]
  },
  {
   "cell_type": "code",
   "execution_count": 71,
   "id": "000aa188-96ab-45b4-9ead-82a3d97cb78f",
   "metadata": {
    "tags": []
   },
   "outputs": [
    {
     "data": {
      "text/plain": [
       "{'economics', 'hindi', 'physics'}"
      ]
     },
     "execution_count": 71,
     "metadata": {},
     "output_type": "execute_result"
    }
   ],
   "source": [
    "s1^s2"
   ]
  },
  {
   "cell_type": "code",
   "execution_count": 76,
   "id": "e14a93f2-1194-4259-81a8-9720fbdea517",
   "metadata": {
    "tags": []
   },
   "outputs": [],
   "source": [
    "s = set()"
   ]
  },
  {
   "cell_type": "code",
   "execution_count": 77,
   "id": "5b243b7e-24c9-4654-abb3-33e940e78536",
   "metadata": {
    "tags": []
   },
   "outputs": [
    {
     "data": {
      "text/plain": [
       "set"
      ]
     },
     "execution_count": 77,
     "metadata": {},
     "output_type": "execute_result"
    }
   ],
   "source": [
    "type(s)"
   ]
  },
  {
   "cell_type": "code",
   "execution_count": 78,
   "id": "aad25710-5119-465f-bd21-ba320f52367f",
   "metadata": {
    "tags": []
   },
   "outputs": [],
   "source": [
    "s = {2,3,4,4,4}"
   ]
  },
  {
   "cell_type": "code",
   "execution_count": 84,
   "id": "7cce674f-6160-4512-b2f8-8156699f5722",
   "metadata": {
    "tags": []
   },
   "outputs": [
    {
     "data": {
      "text/plain": [
       "{2, 3, 4, 5, 'a', 'b', 'c', 'd'}"
      ]
     },
     "execution_count": 84,
     "metadata": {},
     "output_type": "execute_result"
    }
   ],
   "source": [
    "s.update('abcd')\n",
    "s"
   ]
  },
  {
   "cell_type": "code",
   "execution_count": 89,
   "id": "4b22ffc6-2a64-4361-abee-fae4a0c6c8b1",
   "metadata": {
    "tags": []
   },
   "outputs": [
    {
     "ename": "IndexError",
     "evalue": "list assignment index out of range",
     "output_type": "error",
     "traceback": [
      "\u001b[1;31m---------------------------------------------------------------------------\u001b[0m",
      "\u001b[1;31mIndexError\u001b[0m                                Traceback (most recent call last)",
      "Cell \u001b[1;32mIn[89], line 2\u001b[0m\n\u001b[0;32m      1\u001b[0m l \u001b[38;5;241m=\u001b[39m [\u001b[38;5;241m1\u001b[39m,\u001b[38;5;241m2\u001b[39m,\u001b[38;5;241m3\u001b[39m]\n\u001b[1;32m----> 2\u001b[0m \u001b[43ml\u001b[49m\u001b[43m[\u001b[49m\u001b[38;5;241;43m3\u001b[39;49m\u001b[43m]\u001b[49m\u001b[38;5;241m=\u001b[39m \u001b[38;5;241m8\u001b[39m\n",
      "\u001b[1;31mIndexError\u001b[0m: list assignment index out of range"
     ]
    }
   ],
   "source": [
    "l = [1,2,3]\n",
    "l[3]= 8"
   ]
  },
  {
   "cell_type": "code",
   "execution_count": 86,
   "id": "40815156-4363-461d-850e-c1aa1e48b057",
   "metadata": {
    "tags": []
   },
   "outputs": [
    {
     "data": {
      "text/plain": [
       "[8, 2, 3]"
      ]
     },
     "execution_count": 86,
     "metadata": {},
     "output_type": "execute_result"
    }
   ],
   "source": [
    "l"
   ]
  },
  {
   "cell_type": "code",
   "execution_count": 107,
   "id": "7ce7a520-9915-48d9-ad16-f15eafa45513",
   "metadata": {
    "tags": []
   },
   "outputs": [],
   "source": [
    "s = {1,2,3}\n",
    "s1 = {5,6,7}"
   ]
  },
  {
   "cell_type": "code",
   "execution_count": 94,
   "id": "1392bc58-be73-487f-89be-2d76a14da1a4",
   "metadata": {
    "tags": []
   },
   "outputs": [
    {
     "ename": "KeyError",
     "evalue": "'pop from an empty set'",
     "output_type": "error",
     "traceback": [
      "\u001b[1;31m---------------------------------------------------------------------------\u001b[0m",
      "\u001b[1;31mKeyError\u001b[0m                                  Traceback (most recent call last)",
      "Cell \u001b[1;32mIn[94], line 1\u001b[0m\n\u001b[1;32m----> 1\u001b[0m \u001b[43ms\u001b[49m\u001b[38;5;241;43m.\u001b[39;49m\u001b[43mpop\u001b[49m\u001b[43m(\u001b[49m\u001b[43m)\u001b[49m\n",
      "\u001b[1;31mKeyError\u001b[0m: 'pop from an empty set'"
     ]
    }
   ],
   "source": [
    "s.pop()"
   ]
  },
  {
   "cell_type": "code",
   "execution_count": 100,
   "id": "8aae79a4-5fbe-458e-9326-b7b0e7a66c4e",
   "metadata": {
    "tags": []
   },
   "outputs": [
    {
     "data": {
      "text/plain": [
       "set()"
      ]
     },
     "execution_count": 100,
     "metadata": {},
     "output_type": "execute_result"
    }
   ],
   "source": [
    "s.remove(2)\n",
    "s"
   ]
  },
  {
   "cell_type": "code",
   "execution_count": 97,
   "id": "b4c353eb-5067-42de-868f-44a79adc07ff",
   "metadata": {
    "tags": []
   },
   "outputs": [
    {
     "data": {
      "text/plain": [
       "{2, 3}"
      ]
     },
     "execution_count": 97,
     "metadata": {},
     "output_type": "execute_result"
    }
   ],
   "source": [
    "s"
   ]
  },
  {
   "cell_type": "code",
   "execution_count": 101,
   "id": "77211187-548b-49aa-b2d2-24189ba24fb0",
   "metadata": {
    "tags": []
   },
   "outputs": [
    {
     "data": {
      "text/plain": [
       "set()"
      ]
     },
     "execution_count": 101,
     "metadata": {},
     "output_type": "execute_result"
    }
   ],
   "source": [
    "s"
   ]
  },
  {
   "cell_type": "code",
   "execution_count": 105,
   "id": "9107b14d-c1c6-4228-90fa-f4789af1d775",
   "metadata": {
    "tags": []
   },
   "outputs": [],
   "source": [
    "s.update(s1)"
   ]
  },
  {
   "cell_type": "code",
   "execution_count": 106,
   "id": "dc5c191e-b80a-419f-8e42-98a11158aed8",
   "metadata": {
    "tags": []
   },
   "outputs": [
    {
     "data": {
      "text/plain": [
       "{1, 2, 3, 5, 6, 7}"
      ]
     },
     "execution_count": 106,
     "metadata": {},
     "output_type": "execute_result"
    }
   ],
   "source": [
    "s"
   ]
  },
  {
   "cell_type": "code",
   "execution_count": 113,
   "id": "bf02da70-db61-4f1e-b51c-4b9f602f8a17",
   "metadata": {
    "tags": []
   },
   "outputs": [],
   "source": [
    "s = {1,2,3,7}\n",
    "s1 = {5,6,7,3,2}"
   ]
  },
  {
   "cell_type": "code",
   "execution_count": 114,
   "id": "ba85b0f0-cb79-4c7e-a9af-dd5d06c3f7a2",
   "metadata": {
    "tags": []
   },
   "outputs": [
    {
     "data": {
      "text/plain": [
       "{5, 6}"
      ]
     },
     "execution_count": 114,
     "metadata": {},
     "output_type": "execute_result"
    }
   ],
   "source": [
    "s1.difference(s)"
   ]
  },
  {
   "cell_type": "markdown",
   "id": "1e0f0413-c001-4604-a5cf-37ae3e796cbf",
   "metadata": {},
   "source": [
    "**_hello this is a raw cell_**"
   ]
  },
  {
   "cell_type": "raw",
   "id": "39d0ca33-dfd4-4347-aab7-62483177fe2d",
   "metadata": {},
   "source": [
    "**and this is a raw cell**"
   ]
  },
  {
   "cell_type": "code",
   "execution_count": 20,
   "id": "bd46c75d-c383-4004-a231-0da903d31d82",
   "metadata": {},
   "outputs": [
    {
     "data": {
      "text/plain": [
       "'456'"
      ]
     },
     "execution_count": 20,
     "metadata": {},
     "output_type": "execute_result"
    }
   ],
   "source": [
    "str(456)"
   ]
  },
  {
   "cell_type": "code",
   "execution_count": 21,
   "id": "9bdbf4bd-17da-4617-9286-20a7d8f39320",
   "metadata": {
    "tags": []
   },
   "outputs": [
    {
     "data": {
      "text/plain": [
       "[400, 50, 6]"
      ]
     },
     "execution_count": 21,
     "metadata": {},
     "output_type": "execute_result"
    }
   ],
   "source": [
    "[400,50,6]"
   ]
  },
  {
   "cell_type": "code",
   "execution_count": 50,
   "id": "b9a5f141-538f-4553-940a-0859dc9f2d2c",
   "metadata": {
    "tags": []
   },
   "outputs": [],
   "source": [
    "num = 456\n",
    "strnum = str(num)\n",
    "l=[]"
   ]
  },
  {
   "cell_type": "code",
   "execution_count": 51,
   "id": "63d12c8e-78d5-423e-8bf7-c245340224ef",
   "metadata": {
    "tags": []
   },
   "outputs": [],
   "source": [
    "count = (len(strnum)-1)\n",
    "for i in strnum:\n",
    "    l.append(str(i)+(count*\"0\"))\n",
    "    count-=1"
   ]
  },
  {
   "cell_type": "code",
   "execution_count": 52,
   "id": "4ff2e9fd-6de9-49e9-8ee0-c9f8eb95b72f",
   "metadata": {
    "tags": []
   },
   "outputs": [
    {
     "data": {
      "text/plain": [
       "['400', '50', '6']"
      ]
     },
     "execution_count": 52,
     "metadata": {},
     "output_type": "execute_result"
    }
   ],
   "source": [
    "l\n"
   ]
  },
  {
   "cell_type": "code",
   "execution_count": 56,
   "id": "2da4e0d3-72d9-4791-b194-220efa0462d8",
   "metadata": {
    "tags": []
   },
   "outputs": [
    {
     "data": {
      "text/plain": [
       "'ab'"
      ]
     },
     "execution_count": 56,
     "metadata": {},
     "output_type": "execute_result"
    }
   ],
   "source": [
    "'a'+'b'"
   ]
  },
  {
   "cell_type": "code",
   "execution_count": 64,
   "id": "7e519c8b-3ad2-4f3d-866c-adfe806b9541",
   "metadata": {
    "tags": []
   },
   "outputs": [
    {
     "data": {
      "text/plain": [
       "['hello', 'world']"
      ]
     },
     "execution_count": 64,
     "metadata": {},
     "output_type": "execute_result"
    }
   ],
   "source": [
    "'hello world'.split(\" \")"
   ]
  },
  {
   "cell_type": "code",
   "execution_count": null,
   "id": "fff22182-4c14-4450-b12f-c68e43af789a",
   "metadata": {
    "tags": []
   },
   "outputs": [],
   "source": []
  },
  {
   "cell_type": "code",
   "execution_count": 76,
   "id": "dcb1a94c-efea-49a6-a4d2-adc33a53db86",
   "metadata": {
    "tags": []
   },
   "outputs": [
    {
     "name": "stdout",
     "output_type": "stream",
     "text": [
      "\n",
      "Table of 2\n",
      "2 x 1 =  2\n",
      "2 x 2 =  4\n",
      "2 x 3 =  6\n",
      "2 x 4 =  8\n",
      "2 x 5 =  10\n",
      "2 x 6 =  12\n",
      "2 x 7 =  14\n",
      "2 x 8 =  16\n",
      "2 x 9 =  18\n",
      "2 x 10 =  20\n",
      "\n",
      "Table of 3\n",
      "3 x 1 =  3\n",
      "3 x 2 =  6\n",
      "3 x 3 =  9\n",
      "3 x 4 =  12\n",
      "3 x 5 =  15\n",
      "3 x 6 =  18\n",
      "3 x 7 =  21\n",
      "3 x 8 =  24\n",
      "3 x 9 =  27\n",
      "3 x 10 =  30\n",
      "\n",
      "Table of 4\n",
      "4 x 1 =  4\n",
      "4 x 2 =  8\n",
      "4 x 3 =  12\n",
      "4 x 4 =  16\n",
      "4 x 5 =  20\n",
      "4 x 6 =  24\n",
      "4 x 7 =  28\n",
      "4 x 8 =  32\n",
      "4 x 9 =  36\n",
      "4 x 10 =  40\n",
      "\n",
      "Table of 5\n",
      "5 x 1 =  5\n",
      "5 x 2 =  10\n",
      "5 x 3 =  15\n",
      "5 x 4 =  20\n",
      "5 x 5 =  25\n",
      "5 x 6 =  30\n",
      "5 x 7 =  35\n",
      "5 x 8 =  40\n",
      "5 x 9 =  45\n",
      "5 x 10 =  50\n",
      "\n",
      "Table of 6\n",
      "6 x 1 =  6\n",
      "6 x 2 =  12\n",
      "6 x 3 =  18\n",
      "6 x 4 =  24\n",
      "6 x 5 =  30\n",
      "6 x 6 =  36\n",
      "6 x 7 =  42\n",
      "6 x 8 =  48\n",
      "6 x 9 =  54\n",
      "6 x 10 =  60\n",
      "\n",
      "Table of 7\n",
      "7 x 1 =  7\n",
      "7 x 2 =  14\n",
      "7 x 3 =  21\n",
      "7 x 4 =  28\n",
      "7 x 5 =  35\n",
      "7 x 6 =  42\n",
      "7 x 7 =  49\n",
      "7 x 8 =  56\n",
      "7 x 9 =  63\n",
      "7 x 10 =  70\n",
      "\n",
      "Table of 8\n",
      "8 x 1 =  8\n",
      "8 x 2 =  16\n",
      "8 x 3 =  24\n",
      "8 x 4 =  32\n",
      "8 x 5 =  40\n",
      "8 x 6 =  48\n",
      "8 x 7 =  56\n",
      "8 x 8 =  64\n",
      "8 x 9 =  72\n",
      "8 x 10 =  80\n",
      "\n",
      "Table of 9\n",
      "9 x 1 =  9\n",
      "9 x 2 =  18\n",
      "9 x 3 =  27\n",
      "9 x 4 =  36\n",
      "9 x 5 =  45\n",
      "9 x 6 =  54\n",
      "9 x 7 =  63\n",
      "9 x 8 =  72\n",
      "9 x 9 =  81\n",
      "9 x 10 =  90\n",
      "\n",
      "Table of 10\n",
      "10 x 1 =  10\n",
      "10 x 2 =  20\n",
      "10 x 3 =  30\n",
      "10 x 4 =  40\n",
      "10 x 5 =  50\n",
      "10 x 6 =  60\n",
      "10 x 7 =  70\n",
      "10 x 8 =  80\n",
      "10 x 9 =  90\n",
      "10 x 10 =  100\n"
     ]
    }
   ],
   "source": [
    "for i in range(2,11):\n",
    "    print()\n",
    "    print(f\"Table of {i}\")\n",
    "    for j in range(1,11):\n",
    "        print(f'{i} x {j} = ',i*j)"
   ]
  },
  {
   "cell_type": "code",
   "execution_count": 83,
   "id": "32565775-aec6-44ca-a38a-7415dcc557dc",
   "metadata": {
    "tags": []
   },
   "outputs": [
    {
     "name": "stdin",
     "output_type": "stream",
     "text": [
      "Which table you want 7\n"
     ]
    },
    {
     "name": "stdout",
     "output_type": "stream",
     "text": [
      "Table of 7 is here - \n",
      "7 x 0 = 0\n",
      "7 x 1 = 7\n",
      "7 x 2 = 14\n",
      "7 x 3 = 21\n",
      "7 x 4 = 28\n",
      "7 x 5 = 35\n",
      "7 x 6 = 42\n",
      "7 x 7 = 49\n",
      "7 x 8 = 56\n",
      "7 x 9 = 63\n"
     ]
    }
   ],
   "source": [
    "num = int(input(\"Which table you want\"))\n",
    "print(f\"Table of {num} is here - \") \n",
    "for i in range(10):\n",
    "    print(f\"{num} x {i} = {num*i}\")"
   ]
  },
  {
   "cell_type": "code",
   "execution_count": 86,
   "id": "150c79ac-fe43-4249-9eeb-d13cb16bf299",
   "metadata": {
    "tags": []
   },
   "outputs": [
    {
     "data": {
      "text/plain": [
       "[0, 1, 2, 3, 4, 5, 6, 7, 8, 9]"
      ]
     },
     "execution_count": 86,
     "metadata": {},
     "output_type": "execute_result"
    }
   ],
   "source": [
    "list(range(10))"
   ]
  },
  {
   "cell_type": "code",
   "execution_count": 93,
   "id": "9c315780-6fca-4a0f-96c0-85497ac65264",
   "metadata": {
    "tags": []
   },
   "outputs": [
    {
     "name": "stdin",
     "output_type": "stream",
     "text": [
      "enter a number between 1-10 1\n"
     ]
    },
    {
     "name": "stdout",
     "output_type": "stream",
     "text": [
      "---->yes 1 was your number\n"
     ]
    }
   ],
   "source": [
    "l = [1,2,3,4,5,6,7,8,9,10]\n",
    "num = int(input(\"enter a number between 1-10\"))\n",
    "for i in l:\n",
    "    if i != num:\n",
    "        print(f\"{i} is not your number \")\n",
    "    else:\n",
    "        print(f\"---->yes {i} was your number\")\n",
    "        break"
   ]
  },
  {
   "cell_type": "code",
   "execution_count": null,
   "id": "b800cfc3-9eb8-4419-9648-d98b00d82d1a",
   "metadata": {
    "tags": []
   },
   "outputs": [],
   "source": []
  },
  {
   "cell_type": "code",
   "execution_count": 113,
   "id": "f027d5a0-f98a-40cc-9c8f-f9fb14e9df12",
   "metadata": {
    "tags": []
   },
   "outputs": [
    {
     "name": "stdin",
     "output_type": "stream",
     "text": [
      "Enter a number -  51\n"
     ]
    },
    {
     "name": "stdout",
     "output_type": "stream",
     "text": [
      "Its not a prime\n"
     ]
    }
   ],
   "source": [
    "num = int(input(\"Enter a number - \"))\n",
    "for i in range(2,num):\n",
    "    if num%i==0:\n",
    "        print(\"Its not a prime\")\n",
    "        break\n",
    "else:\n",
    "        print(\"Prime\")"
   ]
  },
  {
   "cell_type": "code",
   "execution_count": 108,
   "id": "3e524e57-71e0-4e87-a3d1-defca01fc087",
   "metadata": {
    "tags": []
   },
   "outputs": [
    {
     "name": "stdout",
     "output_type": "stream",
     "text": [
      "0\n",
      "1\n",
      "2\n",
      "3\n",
      "4\n",
      "Loop completed without break\n"
     ]
    }
   ],
   "source": [
    "for i in range(5):\n",
    "    print(i)\n",
    "else:\n",
    "    print(\"Loop completed without break\")\n"
   ]
  },
  {
   "cell_type": "code",
   "execution_count": 110,
   "id": "c1a0d62b-1501-40fd-b40f-1cf0068354d5",
   "metadata": {
    "tags": []
   },
   "outputs": [
    {
     "name": "stdout",
     "output_type": "stream",
     "text": [
      "0\n",
      "1\n",
      "2\n"
     ]
    }
   ],
   "source": [
    "for i in range(5):\n",
    "    if i == 3:\n",
    "        break\n",
    "    print(i)\n",
    "else:\n",
    "    print(\"Loop completed without break\")\n",
    "\n"
   ]
  },
  {
   "cell_type": "code",
   "execution_count": 133,
   "id": "7980844f-077d-4a73-91a3-6a036f481a39",
   "metadata": {
    "tags": []
   },
   "outputs": [
    {
     "name": "stdout",
     "output_type": "stream",
     "text": [
      "print all the prime numbers from start to end\n"
     ]
    },
    {
     "name": "stdin",
     "output_type": "stream",
     "text": [
      "Start -  5\n",
      "End -  30\n"
     ]
    },
    {
     "name": "stdout",
     "output_type": "stream",
     "text": [
      "[5, 7, 11, 13, 17, 19, 23, 29]\n"
     ]
    }
   ],
   "source": [
    "print(\"print all the prime numbers from start to end\")\n",
    "start = int(input(\"Start - \"))\n",
    "end = int(input(\"End - \"))\n",
    "prime_list = []\n",
    "for i in range(start,end+1):\n",
    "    if checkprime(i):\n",
    "        prime_list.append(i)\n",
    "        \n",
    "print(prime_list)"
   ]
  },
  {
   "cell_type": "code",
   "execution_count": 124,
   "id": "5d02dbd8-80ee-4c5f-9633-01e4d15f4fd8",
   "metadata": {
    "tags": []
   },
   "outputs": [],
   "source": [
    "def checkprime(num):\n",
    "    for i in range(2,num):\n",
    "        if num%i==0:\n",
    "            result = False\n",
    "            break\n",
    "    else:\n",
    "        result = True\n",
    "    return result"
   ]
  },
  {
   "cell_type": "code",
   "execution_count": 127,
   "id": "da7e53fc-32d9-45b4-8952-cdf1af434d7d",
   "metadata": {
    "tags": []
   },
   "outputs": [
    {
     "data": {
      "text/plain": [
       "False"
      ]
     },
     "execution_count": 127,
     "metadata": {},
     "output_type": "execute_result"
    }
   ],
   "source": []
  },
  {
   "cell_type": "code",
   "execution_count": 123,
   "id": "2265e5ff-279b-4ed3-8494-fdd630440515",
   "metadata": {
    "tags": []
   },
   "outputs": [
    {
     "data": {
      "text/plain": [
       "11.0"
      ]
     },
     "execution_count": 123,
     "metadata": {},
     "output_type": "execute_result"
    }
   ],
   "source": [
    "(100**0.5)+1"
   ]
  },
  {
   "cell_type": "markdown",
   "id": "cf14959f-611f-4549-ade2-25b579f1532a",
   "metadata": {},
   "source": [
    "## making a fibonacci series till nth term"
   ]
  },
  {
   "cell_type": "code",
   "execution_count": 143,
   "id": "91395076-5b2a-4535-9de7-65947826a3cc",
   "metadata": {
    "tags": []
   },
   "outputs": [
    {
     "name": "stdin",
     "output_type": "stream",
     "text": [
      "Enter a number 2\n"
     ]
    },
    {
     "name": "stdout",
     "output_type": "stream",
     "text": [
      "Fibonacci series is -  [0, 1]\n"
     ]
    }
   ],
   "source": [
    "num = int(input(\"Enter a number\"))\n",
    "l = [0,1]\n",
    "for i in range(num):\n",
    "    l.append(l[-1]+l[-2])\n",
    "\n",
    "print(\"Fibonacci series is - \",l[:num])"
   ]
  },
  {
   "cell_type": "code",
   "execution_count": 145,
   "id": "517a0e78-dc32-4a44-a11f-f879479eb10f",
   "metadata": {
    "tags": []
   },
   "outputs": [
    {
     "data": {
      "text/plain": [
       "[8, 7, 6, 5, 4, 3, 2, 1]"
      ]
     },
     "execution_count": 145,
     "metadata": {},
     "output_type": "execute_result"
    }
   ],
   "source": [
    "l =[1,2,3,4,5,6,7,8]\n",
    "l[::-1]\n"
   ]
  },
  {
   "cell_type": "code",
   "execution_count": 156,
   "id": "90faba1f-a73c-4531-97e4-3da29e2ddced",
   "metadata": {
    "tags": []
   },
   "outputs": [
    {
     "data": {
      "text/plain": [
       "['My', 'name', 'is', 'IOTA']"
      ]
     },
     "execution_count": 156,
     "metadata": {},
     "output_type": "execute_result"
    }
   ],
   "source": [
    "l1 = [\"M\", \"na\", \"i\", \"IO\"]\n",
    "l2 = [\"y\", \"me\", \"s\", \"TA\"]\n",
    "l3 = []\n",
    "for i in range(len(list1)):\n",
    "    l3.append(l1[i]+l2[i])\n",
    "l3"
   ]
  },
  {
   "cell_type": "code",
   "execution_count": 152,
   "id": "2448310e-25aa-4b89-8a91-6c637d824f51",
   "metadata": {
    "tags": []
   },
   "outputs": [
    {
     "data": {
      "text/plain": [
       "'na'"
      ]
     },
     "execution_count": 152,
     "metadata": {},
     "output_type": "execute_result"
    }
   ],
   "source": [
    "l1[1]"
   ]
  },
  {
   "cell_type": "code",
   "execution_count": 153,
   "id": "26a8b7d8-18ec-4dfd-95fe-3e81ce2a6f85",
   "metadata": {
    "tags": []
   },
   "outputs": [
    {
     "data": {
      "text/plain": [
       "'na+h'"
      ]
     },
     "execution_count": 153,
     "metadata": {},
     "output_type": "execute_result"
    }
   ],
   "source": [
    "'na+'+'h'"
   ]
  },
  {
   "cell_type": "code",
   "execution_count": 159,
   "id": "abeae836-7678-4c7a-8e47-e3167ec599de",
   "metadata": {
    "tags": []
   },
   "outputs": [
    {
     "data": {
      "text/plain": [
       "[16, 49, 9, 36]"
      ]
     },
     "execution_count": 159,
     "metadata": {},
     "output_type": "execute_result"
    }
   ],
   "source": [
    "l = [4,7,3,6]\n",
    "l1 =[]\n",
    "for i in l:\n",
    "    l1.append(i**2)\n",
    "l1"
   ]
  },
  {
   "cell_type": "code",
   "execution_count": 160,
   "id": "071beb01-c8b2-4628-bea2-a78769efab25",
   "metadata": {
    "tags": []
   },
   "outputs": [
    {
     "name": "stdout",
     "output_type": "stream",
     "text": [
      "10 400\n",
      "20 300\n",
      "30 200\n",
      "40 100\n"
     ]
    }
   ],
   "source": [
    "l1 = [10, 20, 30, 40]\n",
    "l2 = [100, 200, 300, 400]\n",
    "\n",
    "for i in range(len(l1)):\n",
    "    print(l1[i],l2[-(i+1)])"
   ]
  },
  {
   "cell_type": "code",
   "execution_count": 161,
   "id": "eb5c9640-0a61-4744-9456-e063c1fb0df8",
   "metadata": {},
   "outputs": [],
   "source": [
    "import random"
   ]
  },
  {
   "cell_type": "code",
   "execution_count": 181,
   "id": "5cb35589-ad01-450f-af11-a2ff8c6ea85e",
   "metadata": {
    "tags": []
   },
   "outputs": [
    {
     "data": {
      "text/plain": [
       "[46, 30, 69, 51, 15, 90, 74, 27, 40, 15]"
      ]
     },
     "execution_count": 181,
     "metadata": {},
     "output_type": "execute_result"
    }
   ],
   "source": [
    "[ random.randint(1,100) for i in range(10)]"
   ]
  },
  {
   "cell_type": "code",
   "execution_count": 186,
   "id": "c26d3aa6-f5dd-46b8-a31d-0a28bb432a4d",
   "metadata": {
    "tags": []
   },
   "outputs": [
    {
     "data": {
      "text/plain": [
       "(1492755757968, 1492755758416)"
      ]
     },
     "execution_count": 186,
     "metadata": {},
     "output_type": "execute_result"
    }
   ],
   "source": [
    "a =10000\n",
    "b = 10000\n",
    "id(a),id(b)"
   ]
  },
  {
   "cell_type": "code",
   "execution_count": 190,
   "id": "6f6f9b91-d92d-433c-a9f7-ad6ad067ba8f",
   "metadata": {
    "tags": []
   },
   "outputs": [
    {
     "data": {
      "text/plain": [
       "[10, 11]"
      ]
     },
     "execution_count": 190,
     "metadata": {},
     "output_type": "execute_result"
    }
   ],
   "source": [
    "x = [10]\n",
    "y = x\n",
    "\n",
    "y = y.append(11)\n",
    "x"
   ]
  },
  {
   "cell_type": "code",
   "execution_count": 191,
   "id": "0caac767-244b-44a4-b213-2a887517495a",
   "metadata": {
    "tags": []
   },
   "outputs": [],
   "source": [
    "amount = 1000000\n",
    "loanint = 0.095\n",
    "investint = 0.25\n",
    "time =5 "
   ]
  },
  {
   "cell_type": "code",
   "execution_count": 194,
   "id": "5dfa3ff8-d09f-4117-82e7-daa570618b3c",
   "metadata": {
    "tags": []
   },
   "outputs": [
    {
     "data": {
      "text/plain": [
       "1250000.0"
      ]
     },
     "execution_count": 194,
     "metadata": {},
     "output_type": "execute_result"
    }
   ],
   "source": [
    "(amount*investint)*5"
   ]
  },
  {
   "cell_type": "code",
   "execution_count": 204,
   "id": "0ee034b2-b435-466c-8fb5-68fe45efd670",
   "metadata": {
    "tags": []
   },
   "outputs": [
    {
     "name": "stdin",
     "output_type": "stream",
     "text": [
      " 56\n"
     ]
    },
    {
     "name": "stdout",
     "output_type": "stream",
     "text": [
      "56\n"
     ]
    }
   ],
   "source": [
    "a = input()\n",
    "print(a)"
   ]
  },
  {
   "cell_type": "code",
   "execution_count": 205,
   "id": "2052aec4-7289-4a1b-8fae-7621cf2b3096",
   "metadata": {
    "tags": []
   },
   "outputs": [
    {
     "data": {
      "text/plain": [
       "str"
      ]
     },
     "execution_count": 205,
     "metadata": {},
     "output_type": "execute_result"
    }
   ],
   "source": [
    "type(a)"
   ]
  },
  {
   "cell_type": "code",
   "execution_count": 206,
   "id": "a07f1636-6651-458f-9873-8ff81ff3be3f",
   "metadata": {
    "tags": []
   },
   "outputs": [
    {
     "data": {
      "text/plain": [
       "1492810865072"
      ]
     },
     "execution_count": 206,
     "metadata": {},
     "output_type": "execute_result"
    }
   ],
   "source": [
    "id(a)"
   ]
  },
  {
   "cell_type": "code",
   "execution_count": null,
   "id": "3adcd441-fc52-4da7-8eca-a4a7fd075482",
   "metadata": {
    "tags": []
   },
   "outputs": [],
   "source": []
  },
  {
   "cell_type": "code",
   "execution_count": 208,
   "id": "e7a55d2a-3a5d-4c3c-8efd-447b58e14eca",
   "metadata": {
    "tags": []
   },
   "outputs": [
    {
     "name": "stdout",
     "output_type": "stream",
     "text": [
      "Help on built-in function print in module builtins:\n",
      "\n",
      "print(*args, sep=' ', end='\\n', file=None, flush=False)\n",
      "    Prints the values to a stream, or to sys.stdout by default.\n",
      "    \n",
      "    sep\n",
      "      string inserted between values, default a space.\n",
      "    end\n",
      "      string appended after the last value, default a newline.\n",
      "    file\n",
      "      a file-like object (stream); defaults to the current sys.stdout.\n",
      "    flush\n",
      "      whether to forcibly flush the stream.\n",
      "\n"
     ]
    }
   ],
   "source": [
    "help(print)"
   ]
  },
  {
   "cell_type": "code",
   "execution_count": 209,
   "id": "bf049650-94e8-4c6e-85bc-88b6f7bed955",
   "metadata": {
    "tags": []
   },
   "outputs": [
    {
     "name": "stdout",
     "output_type": "stream",
     "text": [
      "Help on built-in function len in module builtins:\n",
      "\n",
      "len(obj, /)\n",
      "    Return the number of items in a container.\n",
      "\n"
     ]
    }
   ],
   "source": [
    "help(len)"
   ]
  },
  {
   "cell_type": "code",
   "execution_count": 211,
   "id": "46927602-b966-497e-a376-4b8bd89fa72a",
   "metadata": {
    "tags": []
   },
   "outputs": [
    {
     "name": "stdout",
     "output_type": "stream",
     "text": [
      "Help on method randint in module random:\n",
      "\n",
      "randint(a, b) method of random.Random instance\n",
      "    Return random integer in range [a, b], including both end points.\n",
      "\n"
     ]
    }
   ],
   "source": [
    "help(random.randint)"
   ]
  },
  {
   "cell_type": "code",
   "execution_count": 212,
   "id": "2344691c-86b4-4e40-9f2b-23f2be173ea7",
   "metadata": {
    "tags": []
   },
   "outputs": [],
   "source": [
    "a = [1,67]"
   ]
  },
  {
   "cell_type": "code",
   "execution_count": null,
   "id": "fc289d62-dca6-411c-ab96-b7b5b205e9ab",
   "metadata": {
    "tags": []
   },
   "outputs": [],
   "source": []
  },
  {
   "cell_type": "code",
   "execution_count": 218,
   "id": "c219fd78-895e-434a-8b35-6586f7af821c",
   "metadata": {
    "tags": []
   },
   "outputs": [
    {
     "name": "stdout",
     "output_type": "stream",
     "text": [
      "Help on class enumerate in module builtins:\n",
      "\n",
      "class enumerate(object)\n",
      " |  enumerate(iterable, start=0)\n",
      " |  \n",
      " |  Return an enumerate object.\n",
      " |  \n",
      " |    iterable\n",
      " |      an object supporting iteration\n",
      " |  \n",
      " |  The enumerate object yields pairs containing a count (from start, which\n",
      " |  defaults to zero) and a value yielded by the iterable argument.\n",
      " |  \n",
      " |  enumerate is useful for obtaining an indexed list:\n",
      " |      (0, seq[0]), (1, seq[1]), (2, seq[2]), ...\n",
      " |  \n",
      " |  Methods defined here:\n",
      " |  \n",
      " |  __getattribute__(self, name, /)\n",
      " |      Return getattr(self, name).\n",
      " |  \n",
      " |  __iter__(self, /)\n",
      " |      Implement iter(self).\n",
      " |  \n",
      " |  __next__(self, /)\n",
      " |      Implement next(self).\n",
      " |  \n",
      " |  __reduce__(...)\n",
      " |      Return state information for pickling.\n",
      " |  \n",
      " |  ----------------------------------------------------------------------\n",
      " |  Class methods defined here:\n",
      " |  \n",
      " |  __class_getitem__(...) from builtins.type\n",
      " |      See PEP 585\n",
      " |  \n",
      " |  ----------------------------------------------------------------------\n",
      " |  Static methods defined here:\n",
      " |  \n",
      " |  __new__(*args, **kwargs) from builtins.type\n",
      " |      Create and return a new object.  See help(type) for accurate signature.\n",
      "\n"
     ]
    }
   ],
   "source": [
    "help(enumerate)"
   ]
  },
  {
   "cell_type": "code",
   "execution_count": 226,
   "id": "90ed1982-006d-4ffe-8e6d-934537459889",
   "metadata": {
    "tags": []
   },
   "outputs": [],
   "source": [
    "a = [1,2,3,5,6,7,4,3,9,5]\n",
    "b = list(enumerate(a,start=1))"
   ]
  },
  {
   "cell_type": "code",
   "execution_count": 227,
   "id": "b7ed2dfb-6ddc-471b-b611-435ac5ecf7ed",
   "metadata": {
    "tags": []
   },
   "outputs": [
    {
     "name": "stdout",
     "output_type": "stream",
     "text": [
      "[(1, 1), (2, 2), (3, 3), (4, 5), (5, 6), (6, 7), (7, 4), (8, 3), (9, 9), (10, 5)]\n"
     ]
    }
   ],
   "source": [
    "print(b)"
   ]
  },
  {
   "cell_type": "code",
   "execution_count": 231,
   "id": "1b04db5b-4a1d-43be-9627-f21c166bd3cd",
   "metadata": {
    "tags": []
   },
   "outputs": [
    {
     "name": "stdin",
     "output_type": "stream",
     "text": [
      " 6\n"
     ]
    },
    {
     "name": "stdout",
     "output_type": "stream",
     "text": [
      "-\n",
      "-\n",
      "-\n",
      "-\n",
      "-\n",
      "yeah found it\n",
      "-\n",
      "-\n",
      "-\n",
      "-\n"
     ]
    }
   ],
   "source": [
    "num = int(input())\n",
    "for i in b:\n",
    "    if i[0]==num:\n",
    "        print('yeah found it')\n",
    "    else:\n",
    "        print(\"-\")"
   ]
  },
  {
   "cell_type": "code",
   "execution_count": 232,
   "id": "b5f36fab-0218-43a3-a845-17a9241331e7",
   "metadata": {
    "tags": []
   },
   "outputs": [
    {
     "data": {
      "text/plain": [
       "1"
      ]
     },
     "execution_count": 232,
     "metadata": {},
     "output_type": "execute_result"
    }
   ],
   "source": [
    "min(a)"
   ]
  },
  {
   "cell_type": "code",
   "execution_count": 239,
   "id": "8b587923-821a-45ca-a03c-74c61511c2b0",
   "metadata": {
    "tags": []
   },
   "outputs": [
    {
     "data": {
      "text/plain": [
       "'o'"
      ]
     },
     "execution_count": 239,
     "metadata": {},
     "output_type": "execute_result"
    }
   ],
   "source": [
    "max(list(\"hello123_\"))"
   ]
  },
  {
   "cell_type": "code",
   "execution_count": 246,
   "id": "2b4b1a5e-db6a-4bce-af99-e3b55b3f92ba",
   "metadata": {
    "tags": []
   },
   "outputs": [
    {
     "data": {
      "text/plain": [
       "True"
      ]
     },
     "execution_count": 246,
     "metadata": {},
     "output_type": "execute_result"
    }
   ],
   "source": [
    "3!=7"
   ]
  },
  {
   "cell_type": "code",
   "execution_count": 248,
   "id": "d90afcdb-86ea-4a48-bf6e-6e83a3d9de58",
   "metadata": {
    "tags": []
   },
   "outputs": [
    {
     "data": {
      "text/plain": [
       "False"
      ]
     },
     "execution_count": 248,
     "metadata": {},
     "output_type": "execute_result"
    }
   ],
   "source": [
    "3==3 and 'hello'=='hello5'"
   ]
  },
  {
   "cell_type": "code",
   "execution_count": 249,
   "id": "663dd342-6bbd-418b-8757-a3b6b0e1b0b6",
   "metadata": {
    "tags": []
   },
   "outputs": [
    {
     "data": {
      "text/plain": [
       "'0b10000'"
      ]
     },
     "execution_count": 249,
     "metadata": {},
     "output_type": "execute_result"
    }
   ],
   "source": [
    "bin(16)"
   ]
  },
  {
   "cell_type": "code",
   "execution_count": 256,
   "id": "3c5b4c5d-d305-4fbc-a6f8-e9e5a054fc8c",
   "metadata": {
    "tags": []
   },
   "outputs": [
    {
     "data": {
      "text/plain": [
       "'101'"
      ]
     },
     "execution_count": 256,
     "metadata": {},
     "output_type": "execute_result"
    }
   ],
   "source": [
    "bin(5)[2:]"
   ]
  },
  {
   "cell_type": "code",
   "execution_count": 261,
   "id": "a0f77b07-4d4f-4a3c-9c5d-598d97878578",
   "metadata": {
    "tags": []
   },
   "outputs": [],
   "source": [
    "a,b = 90,80"
   ]
  },
  {
   "cell_type": "code",
   "execution_count": 263,
   "id": "5c32442e-00df-40ca-a8ac-6adcb882ab26",
   "metadata": {
    "tags": []
   },
   "outputs": [
    {
     "data": {
      "text/plain": [
       "(90, 80)"
      ]
     },
     "execution_count": 263,
     "metadata": {},
     "output_type": "execute_result"
    }
   ],
   "source": []
  },
  {
   "cell_type": "markdown",
   "id": "a48605fc-12f5-4e5c-bb44-c48a78eb71e7",
   "metadata": {},
   "source": [
    "## vowels counter"
   ]
  },
  {
   "cell_type": "code",
   "execution_count": 269,
   "id": "f22f9986-c0fd-4f4d-9441-80d858a83015",
   "metadata": {
    "tags": []
   },
   "outputs": [
    {
     "name": "stdout",
     "output_type": "stream",
     "text": [
      "Total numbers of Vowels in text are 10\n"
     ]
    }
   ],
   "source": [
    "text = \"hello AAii i am learning python\"\n",
    "count = 0\n",
    "vowels = list('aeiou')\n",
    "for i in text:\n",
    "    if i in vowels:\n",
    "        count+=1\n",
    "print(f\"Total numbers of Vowels in text are {count}\")"
   ]
  },
  {
   "cell_type": "code",
   "execution_count": null,
   "id": "f28df5f0-b5ad-4d62-aa0b-57fdb0e8736e",
   "metadata": {},
   "outputs": [],
   "source": []
  },
  {
   "cell_type": "markdown",
   "id": "5c936b90-2c92-455c-a485-1463d654f8a3",
   "metadata": {
    "tags": []
   },
   "source": [
    "## random password generator"
   ]
  },
  {
   "cell_type": "code",
   "execution_count": 271,
   "id": "a55da737-7038-4497-85e5-641104ee4520",
   "metadata": {
    "tags": []
   },
   "outputs": [],
   "source": [
    "import random"
   ]
  },
  {
   "cell_type": "code",
   "execution_count": 290,
   "id": "cb49854c-bd33-40bb-8f73-880df1eca598",
   "metadata": {
    "tags": []
   },
   "outputs": [
    {
     "name": "stdin",
     "output_type": "stream",
     "text": [
      "How many charector of password you want?  20\n"
     ]
    },
    {
     "name": "stdout",
     "output_type": "stream",
     "text": [
      "Here is your password K!j7&tv8jvV&Cf8mC&7e\n"
     ]
    }
   ],
   "source": [
    "char = list('abcdefghijklmnopqrstuvwxyzABCDEFGHIJKLMNOPQRSTUVWXYZ1234567890!@#$%^&*_-+')\n",
    "random.shuffle(char)\n",
    "num = int(input(\"How many charector of password you want? \"))\n",
    "password = \"\"\n",
    "for i in range(num):\n",
    "    r = random.randint(0,len(char)-1)\n",
    "    password += char[r]\n",
    "print(f\"Here is your password {password}\")\n"
   ]
  },
  {
   "cell_type": "markdown",
   "id": "18f7b0b7-3084-4643-ae2b-1ce517800d33",
   "metadata": {
    "tags": []
   },
   "source": [
    "## Prime number finder"
   ]
  },
  {
   "cell_type": "code",
   "execution_count": 294,
   "id": "5e22d70b-d2b9-43b7-9385-95368d89a48b",
   "metadata": {
    "tags": []
   },
   "outputs": [
    {
     "name": "stdin",
     "output_type": "stream",
     "text": [
      "Enter a number 69\n"
     ]
    },
    {
     "name": "stdout",
     "output_type": "stream",
     "text": [
      "Its not a prime\n"
     ]
    }
   ],
   "source": [
    "num = int(input(\"Enter a number\"))\n",
    "for i in range(2,num):\n",
    "    if num%i==0:\n",
    "        print(\"Its not a prime\")\n",
    "        break\n",
    "else:\n",
    "    print(\"Prime\")"
   ]
  },
  {
   "cell_type": "code",
   "execution_count": 297,
   "id": "1edc60be-718c-427f-9109-ec8be6bc987d",
   "metadata": {
    "tags": []
   },
   "outputs": [
    {
     "name": "stdout",
     "output_type": "stream",
     "text": [
      "[1, 2, 3, 'a', 'b', 'c', 'd']\n"
     ]
    }
   ],
   "source": [
    "a = [1,2,3]\n",
    "a.extend(\"abcd\")\n",
    "print(a)"
   ]
  },
  {
   "cell_type": "code",
   "execution_count": 298,
   "id": "e2197e7b-2979-4f41-baf8-02de442b8d49",
   "metadata": {
    "tags": []
   },
   "outputs": [
    {
     "name": "stdout",
     "output_type": "stream",
     "text": [
      "[1, 2, 3, 'abcd']\n"
     ]
    }
   ],
   "source": [
    "a = [1,2,3]\n",
    "a.append(\"abcd\")\n",
    "print(a)"
   ]
  },
  {
   "cell_type": "code",
   "execution_count": 303,
   "id": "f2464934-c9fd-41ab-978f-2a3e0b916991",
   "metadata": {
    "tags": []
   },
   "outputs": [
    {
     "data": {
      "text/plain": [
       "0"
      ]
     },
     "execution_count": 303,
     "metadata": {},
     "output_type": "execute_result"
    }
   ],
   "source": [
    "a.index(1)"
   ]
  },
  {
   "cell_type": "code",
   "execution_count": 306,
   "id": "19a41431-be68-48fa-afd9-7407cd93dffb",
   "metadata": {
    "tags": []
   },
   "outputs": [],
   "source": [
    "a.insert(0,999)"
   ]
  },
  {
   "cell_type": "code",
   "execution_count": 307,
   "id": "12f7ff1f-2adf-4d98-a0bf-ab20dbf0fa45",
   "metadata": {
    "tags": []
   },
   "outputs": [
    {
     "data": {
      "text/plain": [
       "[999, 1, 2, 3, 'abcd', 0]"
      ]
     },
     "execution_count": 307,
     "metadata": {},
     "output_type": "execute_result"
    }
   ],
   "source": [
    "a"
   ]
  },
  {
   "cell_type": "code",
   "execution_count": 308,
   "id": "5e22c6d7-4531-489c-a016-1f8faaa536c6",
   "metadata": {
    "tags": []
   },
   "outputs": [],
   "source": [
    "a= [4,9,3,5,7,3]"
   ]
  },
  {
   "cell_type": "code",
   "execution_count": 309,
   "id": "399363ba-2f31-48c7-95e4-a9c3ee36f930",
   "metadata": {
    "tags": []
   },
   "outputs": [],
   "source": [
    "b = tuple(a)"
   ]
  },
  {
   "cell_type": "code",
   "execution_count": 311,
   "id": "cb055421-6e77-41da-8b80-4e7eb60fd6b2",
   "metadata": {
    "tags": []
   },
   "outputs": [
    {
     "name": "stdout",
     "output_type": "stream",
     "text": [
      "[4, 9, 3, 5, 7, 3]\n",
      "(4, 9, 3, 5, 7, 3)\n"
     ]
    }
   ],
   "source": [
    "print(a)\n",
    "print(b)"
   ]
  },
  {
   "cell_type": "code",
   "execution_count": 316,
   "id": "b936bb10-a875-4f72-bcb4-a9a6fa507eef",
   "metadata": {
    "tags": []
   },
   "outputs": [
    {
     "data": {
      "text/plain": [
       "[9, 7, 5, 4, 3, 3]"
      ]
     },
     "execution_count": 316,
     "metadata": {},
     "output_type": "execute_result"
    }
   ],
   "source": [
    "sorted(a,reverse=True)"
   ]
  },
  {
   "cell_type": "code",
   "execution_count": 313,
   "id": "1c301f45-19d1-473d-9e82-cfd49d16de06",
   "metadata": {
    "tags": []
   },
   "outputs": [
    {
     "data": {
      "text/plain": [
       "[3, 3, 4, 5, 7, 9]"
      ]
     },
     "execution_count": 313,
     "metadata": {},
     "output_type": "execute_result"
    }
   ],
   "source": [
    "sorted(b)"
   ]
  },
  {
   "cell_type": "code",
   "execution_count": 317,
   "id": "37ce25fe-e81d-4f84-92a7-4edbf0c00742",
   "metadata": {
    "tags": []
   },
   "outputs": [
    {
     "data": {
      "text/plain": [
       "(4, 9, 3, 5, 7, 3)"
      ]
     },
     "execution_count": 317,
     "metadata": {},
     "output_type": "execute_result"
    }
   ],
   "source": [
    "b"
   ]
  },
  {
   "cell_type": "code",
   "execution_count": 319,
   "id": "7aa3f668-eadb-47dc-83bc-beb3fbd77029",
   "metadata": {
    "tags": []
   },
   "outputs": [
    {
     "data": {
      "text/plain": [
       "[1, 2, 3, 4, 5, 0]"
      ]
     },
     "execution_count": 319,
     "metadata": {},
     "output_type": "execute_result"
    }
   ],
   "source": [
    "[1,2,3]+[4,5,0]"
   ]
  },
  {
   "cell_type": "code",
   "execution_count": 320,
   "id": "0697b2fc-3293-4711-bc43-4b410e964ab0",
   "metadata": {
    "tags": []
   },
   "outputs": [
    {
     "data": {
      "text/plain": [
       "['Hello Dear', 'Hello Sir', 'take Dear', 'take Sir']"
      ]
     },
     "execution_count": 320,
     "metadata": {},
     "output_type": "execute_result"
    }
   ],
   "source": [
    "list1 = [\"Hello \", \"take \"]\n",
    "list2 = [\"Dear\", \"Sir\"]\n",
    "l3 = []\n",
    "for i in list1:\n",
    "    for j in list2:\n",
    "        l3.append(i+j)\n",
    "l3\n",
    "    "
   ]
  },
  {
   "cell_type": "markdown",
   "id": "743f2d8d-653a-40d8-928a-6b117e0dcec1",
   "metadata": {},
   "source": [
    "# Q5"
   ]
  },
  {
   "cell_type": "code",
   "execution_count": 323,
   "id": "def18821-ea4d-446b-8731-f12b8144b9ea",
   "metadata": {
    "tags": []
   },
   "outputs": [
    {
     "name": "stdout",
     "output_type": "stream",
     "text": [
      "10 400\n",
      "20 300\n",
      "30 200\n",
      "40 100\n"
     ]
    }
   ],
   "source": [
    "list1 = [10, 20, 30, 40]\n",
    "list2 = [100, 200, 300, 400]\n",
    "\n",
    "for i in range(len(list1)):\n",
    "    print(list1[i],list2[-i-1])"
   ]
  },
  {
   "cell_type": "markdown",
   "id": "457b921e-2783-426e-8bcc-ce7b7322e2a0",
   "metadata": {
    "tags": []
   },
   "source": [
    "# Q6"
   ]
  },
  {
   "cell_type": "code",
   "execution_count": 325,
   "id": "1ba82627-f3e2-4886-90c1-70e520e04fe4",
   "metadata": {
    "tags": []
   },
   "outputs": [
    {
     "data": {
      "text/plain": [
       "['Dhawan', 'Jadeja', 'Dhoni', 'Virat']"
      ]
     },
     "execution_count": 325,
     "metadata": {},
     "output_type": "execute_result"
    }
   ],
   "source": [
    "list1 = [\"Dhawan\", \"\", \"Jadeja\", \"Dhoni\", \"\", \"Virat\"]\n",
    "for i in list1:\n",
    "    if i==\"\":\n",
    "        list1.remove(i)\n",
    "list1"
   ]
  },
  {
   "cell_type": "markdown",
   "id": "5b8d4e86-7c34-4b91-b843-64fb45a94e28",
   "metadata": {},
   "source": [
    "# Q7"
   ]
  },
  {
   "cell_type": "code",
   "execution_count": 327,
   "id": "59dff64f-33da-4474-8cdf-94de3693942e",
   "metadata": {
    "tags": []
   },
   "outputs": [],
   "source": [
    "list1 = [10, 20, [300, 400, [5000, 6000], 500], 30, 40]\n",
    "list1[2][2].append(7000)"
   ]
  },
  {
   "cell_type": "code",
   "execution_count": 328,
   "id": "eb416ee0-2fa2-44f9-852d-8ed68c1a8cbb",
   "metadata": {
    "tags": []
   },
   "outputs": [
    {
     "data": {
      "text/plain": [
       "[10, 20, [300, 400, [5000, 6000, 7000], 500], 30, 40]"
      ]
     },
     "execution_count": 328,
     "metadata": {},
     "output_type": "execute_result"
    }
   ],
   "source": [
    "list1"
   ]
  },
  {
   "cell_type": "markdown",
   "id": "9a9ebc18-ecfe-40b4-9371-0ada576df833",
   "metadata": {},
   "source": [
    "# Q8"
   ]
  },
  {
   "cell_type": "code",
   "execution_count": 329,
   "id": "e95781de-c8c2-403c-8ec0-48100576eeb0",
   "metadata": {
    "tags": []
   },
   "outputs": [
    {
     "data": {
      "text/plain": [
       "['a', 'b', ['c', ['d', 'e', ['f', 'g', 'h', 'i', 'j'], 'k'], 'l'], 'm', 'n']"
      ]
     },
     "execution_count": 329,
     "metadata": {},
     "output_type": "execute_result"
    }
   ],
   "source": [
    "list1 = [\"a\", \"b\", [\"c\", [\"d\", \"e\", [\"f\", \"g\"], \"k\"], \"l\"], \"m\", \"n\"]\n",
    "sub_list = [\"h\", \"i\", \"j\"]\n",
    "list1[2][1][2].extend(sub_list)\n",
    "list1"
   ]
  },
  {
   "cell_type": "markdown",
   "id": "4aa29b08-be41-461e-9d74-049ebc6a818e",
   "metadata": {
    "tags": []
   },
   "source": [
    "# Q9"
   ]
  },
  {
   "cell_type": "code",
   "execution_count": 332,
   "id": "26f85983-0c2c-4d2b-b04b-6c79bf05c657",
   "metadata": {
    "tags": []
   },
   "outputs": [
    {
     "data": {
      "text/plain": [
       "[5, 10, 15, 200, 25, 50, 20]"
      ]
     },
     "execution_count": 332,
     "metadata": {},
     "output_type": "execute_result"
    }
   ],
   "source": [
    "list1 = [5, 10, 15, 20, 25, 50, 20]\n",
    "for i in range(len(list1)):\n",
    "    if list1[i] ==20:\n",
    "        list1[i] = 200\n",
    "        break\n",
    "list1"
   ]
  },
  {
   "cell_type": "markdown",
   "id": "4c93ffa1-1661-429e-9cab-b11404a90e6d",
   "metadata": {},
   "source": [
    "# Q10"
   ]
  },
  {
   "cell_type": "code",
   "execution_count": 343,
   "id": "7137ee86-e974-4102-8ffa-50b67142395d",
   "metadata": {
    "tags": []
   },
   "outputs": [
    {
     "data": {
      "text/plain": [
       "[5, 15, 25, 50]"
      ]
     },
     "execution_count": 343,
     "metadata": {},
     "output_type": "execute_result"
    }
   ],
   "source": [
    "l1 = [5, 20, 15, 20, 25, 50, 20]\n",
    "l2 = []\n",
    "for i in range(len(l1)):\n",
    "    if l1[i]!=20:\n",
    "        l2.append(l1[i])\n",
    "    \n",
    "l2"
   ]
  },
  {
   "cell_type": "markdown",
   "id": "70865128-5ca4-4bb6-bd03-ed95aad2e7b1",
   "metadata": {
    "tags": []
   },
   "source": [
    "# Creating a linear search algorithm"
   ]
  },
  {
   "cell_type": "code",
   "execution_count": 344,
   "id": "60016146-260a-440d-919c-ded7a5c2b726",
   "metadata": {
    "tags": []
   },
   "outputs": [],
   "source": [
    "cards =[random.randint(1,100) for i in range(12)]"
   ]
  },
  {
   "cell_type": "code",
   "execution_count": 346,
   "id": "eba31409-7ddb-4858-972e-26511555b6e9",
   "metadata": {
    "tags": []
   },
   "outputs": [],
   "source": [
    "cards = sorted(cards,reverse=True)"
   ]
  },
  {
   "cell_type": "code",
   "execution_count": 354,
   "id": "3f80d654-378e-4165-a754-0f28933ccf63",
   "metadata": {
    "tags": []
   },
   "outputs": [
    {
     "data": {
      "text/plain": [
       "[95, 88, 60, 54, 48, 45, 42, 33, 32, 31, 22, 12]"
      ]
     },
     "execution_count": 354,
     "metadata": {},
     "output_type": "execute_result"
    }
   ],
   "source": [
    "cards"
   ]
  },
  {
   "cell_type": "code",
   "execution_count": 358,
   "id": "e4e487c4-e5fa-49f2-8bfc-cf3458bcf80b",
   "metadata": {
    "tags": []
   },
   "outputs": [],
   "source": [
    "query = 99\n",
    "# we have to find this query in that list and return the position"
   ]
  },
  {
   "cell_type": "code",
   "execution_count": 359,
   "id": "483215a7-0ed1-46cb-bea9-1f7121fb70e8",
   "metadata": {
    "tags": []
   },
   "outputs": [
    {
     "name": "stdout",
     "output_type": "stream",
     "text": [
      "Did not fount query\n"
     ]
    }
   ],
   "source": [
    "for i in range(len(cards)):                     # starting a loop for every element\n",
    "    if cards[i]==query:                         # checking if the element equal query\n",
    "        print(f\"Its in {i}th position\")         # if yes printing its position\n",
    "        break                                   # the moment we found the element break the loop which will not search if there is anathor element same as query\n",
    "else:\n",
    "    print(\"Did not fount query\")                # if the loop did not break this statement will run"
   ]
  },
  {
   "cell_type": "code",
   "execution_count": 361,
   "id": "c0ade107-9777-4563-b31c-65f2157f0f1d",
   "metadata": {
    "tags": []
   },
   "outputs": [
    {
     "data": {
      "text/plain": [
       "(5,)"
      ]
     },
     "execution_count": 361,
     "metadata": {},
     "output_type": "execute_result"
    }
   ],
   "source": [
    "tuple([5])"
   ]
  },
  {
   "cell_type": "code",
   "execution_count": 363,
   "id": "422e26b1-8273-49ff-9200-c253be22516f",
   "metadata": {
    "tags": []
   },
   "outputs": [
    {
     "ename": "TypeError",
     "evalue": "'int' object is not iterable",
     "output_type": "error",
     "traceback": [
      "\u001b[1;31m---------------------------------------------------------------------------\u001b[0m",
      "\u001b[1;31mTypeError\u001b[0m                                 Traceback (most recent call last)",
      "Cell \u001b[1;32mIn[363], line 1\u001b[0m\n\u001b[1;32m----> 1\u001b[0m \u001b[38;5;28;43mset\u001b[39;49m\u001b[43m(\u001b[49m\u001b[38;5;241;43m5\u001b[39;49m\u001b[43m)\u001b[49m\n",
      "\u001b[1;31mTypeError\u001b[0m: 'int' object is not iterable"
     ]
    }
   ],
   "source": [
    "set(5)"
   ]
  },
  {
   "cell_type": "code",
   "execution_count": 369,
   "id": "79b105f2-32ff-4434-a7c6-90e082388440",
   "metadata": {
    "tags": []
   },
   "outputs": [
    {
     "name": "stdout",
     "output_type": "stream",
     "text": [
      "hello---world\n"
     ]
    }
   ],
   "source": [
    "print(\"hello\",end=\"---\")\n",
    "print(\"world\")"
   ]
  },
  {
   "cell_type": "code",
   "execution_count": 370,
   "id": "88627710-3fc8-406f-84b8-9d4767ca13f5",
   "metadata": {
    "tags": []
   },
   "outputs": [
    {
     "name": "stdout",
     "output_type": "stream",
     "text": [
      "       *\n",
      "      ***\n",
      "     *****\n",
      "    *******\n",
      "   *********\n",
      "  ***********\n"
     ]
    }
   ],
   "source": [
    "space = 6\n",
    "star = 1\n",
    "for i in range(1,7):\n",
    "    print(space*\" \",star*'*')\n",
    "    space -=1\n",
    "    star+=2\n"
   ]
  },
  {
   "cell_type": "code",
   "execution_count": 371,
   "id": "0fa0835a-3301-40d0-b523-e7e5520e2865",
   "metadata": {
    "tags": []
   },
   "outputs": [
    {
     "name": "stdout",
     "output_type": "stream",
     "text": [
      "hello\n",
      "world\n"
     ]
    }
   ],
   "source": [
    "print(\"hello\\nworld\")"
   ]
  },
  {
   "cell_type": "code",
   "execution_count": 374,
   "id": "1a48c462-48cb-43a8-a1d0-266d9dadcfa5",
   "metadata": {
    "tags": []
   },
   "outputs": [
    {
     "data": {
      "text/plain": [
       "'ab'"
      ]
     },
     "execution_count": 374,
     "metadata": {},
     "output_type": "execute_result"
    }
   ],
   "source": [
    "char = \"a\"+\"b\"\n",
    "char"
   ]
  },
  {
   "cell_type": "code",
   "execution_count": 375,
   "id": "ce9b2ca2-c990-48f7-b65d-6de1bf01e7e7",
   "metadata": {
    "tags": []
   },
   "outputs": [
    {
     "data": {
      "text/plain": [
       "'abhello'"
      ]
     },
     "execution_count": 375,
     "metadata": {},
     "output_type": "execute_result"
    }
   ],
   "source": [
    "char+\"hello\""
   ]
  },
  {
   "cell_type": "markdown",
   "id": "2ecd1a8b-ced1-4fa0-8c29-bf50a29e5541",
   "metadata": {},
   "source": [
    "### can you convert this 'o' to '---'?"
   ]
  },
  {
   "cell_type": "code",
   "execution_count": 376,
   "id": "f1d1be4d-190c-4288-a00c-a91baf55b0a0",
   "metadata": {
    "tags": []
   },
   "outputs": [],
   "source": []
  },
  {
   "cell_type": "code",
   "execution_count": 378,
   "id": "ab4b466d-fb11-4e79-9234-f0290f20c360",
   "metadata": {
    "tags": []
   },
   "outputs": [
    {
     "name": "stdout",
     "output_type": "stream",
     "text": [
      "hell--- w---rld\n"
     ]
    }
   ],
   "source": [
    "text = \"hello world\"\n",
    "new_text = \"\"\n",
    "for i in text:\n",
    "    if i==\"o\":\n",
    "        new_text+=\"---\"\n",
    "    else:\n",
    "        new_text+=i\n",
    "print(new_text)"
   ]
  },
  {
   "cell_type": "code",
   "execution_count": 381,
   "id": "d8cfaa74-ee02-4ba3-9b9a-54b209aa3251",
   "metadata": {
    "tags": []
   },
   "outputs": [
    {
     "data": {
      "text/plain": [
       "'abcd+hello'"
      ]
     },
     "execution_count": 381,
     "metadata": {},
     "output_type": "execute_result"
    }
   ],
   "source": [
    "\"+\".join(['abcd','hello'])"
   ]
  },
  {
   "cell_type": "code",
   "execution_count": 387,
   "id": "7c38f491-396a-45de-98e1-8afc491b22a6",
   "metadata": {
    "tags": []
   },
   "outputs": [
    {
     "name": "stdout",
     "output_type": "stream",
     "text": [
      "hell--- w---rld\n"
     ]
    }
   ],
   "source": [
    "text = \"hello world\"\n",
    "text = text.replace(\"o\",\"---\")\n",
    "print(text)"
   ]
  },
  {
   "cell_type": "code",
   "execution_count": 389,
   "id": "91397257-fc05-49ea-b654-f73428bbb7ad",
   "metadata": {
    "tags": []
   },
   "outputs": [],
   "source": [
    "num = \"$45,87,800\""
   ]
  },
  {
   "cell_type": "code",
   "execution_count": 394,
   "id": "35216af4-6b91-4223-bd33-02de49013769",
   "metadata": {
    "tags": []
   },
   "outputs": [
    {
     "name": "stdout",
     "output_type": "stream",
     "text": [
      "4587800\n"
     ]
    }
   ],
   "source": [
    "print(num.replace(\"$\",\"\").replace(\",\",\"\"))"
   ]
  },
  {
   "cell_type": "code",
   "execution_count": 396,
   "id": "5ad5dda6-aead-4e67-af43-fbbb8c7d9e40",
   "metadata": {},
   "outputs": [],
   "source": [
    "import pandas as pd"
   ]
  },
  {
   "cell_type": "code",
   "execution_count": 398,
   "id": "119277c6-d366-4591-94c7-4b38b1492ef2",
   "metadata": {
    "tags": []
   },
   "outputs": [],
   "source": [
    "df = pd.DataFrame([2,4,6,7,9,9,7,12,56,4,3,5,6,7,90])"
   ]
  },
  {
   "cell_type": "code",
   "execution_count": 403,
   "id": "e73ec254-b8bc-4fd0-b9ee-6cc72849f86a",
   "metadata": {
    "tags": []
   },
   "outputs": [],
   "source": [
    "import numpy as np"
   ]
  },
  {
   "cell_type": "code",
   "execution_count": 404,
   "id": "ec82fe4f-7cfa-4083-a72d-76de7405e93c",
   "metadata": {
    "tags": []
   },
   "outputs": [
    {
     "data": {
      "text/plain": [
       "4.5"
      ]
     },
     "execution_count": 404,
     "metadata": {},
     "output_type": "execute_result"
    }
   ],
   "source": [
    "np.percentile(df,25)"
   ]
  },
  {
   "cell_type": "code",
   "execution_count": 405,
   "id": "fdd1479b-0a8b-4169-9892-c9f7fd8a5207",
   "metadata": {
    "tags": []
   },
   "outputs": [
    {
     "data": {
      "text/plain": [
       "0    227\n",
       "dtype: int64"
      ]
     },
     "execution_count": 405,
     "metadata": {},
     "output_type": "execute_result"
    }
   ],
   "source": [
    "np.sum(df)"
   ]
  },
  {
   "cell_type": "code",
   "execution_count": 407,
   "id": "275e9b71-b08f-4913-b0b1-63e27b7f056c",
   "metadata": {
    "tags": []
   },
   "outputs": [
    {
     "name": "stdout",
     "output_type": "stream",
     "text": [
      "274 µs ± 41.9 µs per loop (mean ± std. dev. of 7 runs, 1,000 loops each)\n"
     ]
    }
   ],
   "source": [
    "%timeit np.sum(df)"
   ]
  },
  {
   "cell_type": "code",
   "execution_count": 417,
   "id": "df78334f-0c94-458e-884e-fbd79ab0bc96",
   "metadata": {
    "tags": []
   },
   "outputs": [
    {
     "name": "stdout",
     "output_type": "stream",
     "text": [
      "Hello\"world\"\n"
     ]
    }
   ],
   "source": [
    "print(\"Hello\\\"world\\\"\")"
   ]
  },
  {
   "cell_type": "code",
   "execution_count": 418,
   "id": "7efdf671-4e34-47b8-92ea-f42f9636fda0",
   "metadata": {
    "tags": []
   },
   "outputs": [
    {
     "name": "stdout",
     "output_type": "stream",
     "text": [
      "hello hello hello\n"
     ]
    }
   ],
   "source": [
    "a=b=c=\"hello\"\n",
    "print(a,b,c)"
   ]
  },
  {
   "cell_type": "code",
   "execution_count": 420,
   "id": "4f8e5e14-1354-43a6-b07f-942180793921",
   "metadata": {
    "tags": []
   },
   "outputs": [
    {
     "name": "stdout",
     "output_type": "stream",
     "text": [
      "hello World\n"
     ]
    }
   ],
   "source": [
    "print(\"hello \"+\"World\")"
   ]
  },
  {
   "cell_type": "code",
   "execution_count": 432,
   "id": "f9611221-ef4a-4d67-8bae-81f70cca6fec",
   "metadata": {
    "tags": []
   },
   "outputs": [
    {
     "name": "stdout",
     "output_type": "stream",
     "text": [
      "hello awesome world\n",
      "awesome\n",
      "world\n"
     ]
    }
   ],
   "source": [
    "x = \"awesome\"\n",
    "def first():\n",
    "    global y \n",
    "    \n",
    "    y = \"world\"\n",
    "    print(\"hello\",x,y)\n",
    "    \n",
    "first()\n",
    "print(x)\n",
    "print(y)"
   ]
  },
  {
   "cell_type": "code",
   "execution_count": 435,
   "id": "bf979849-3e40-46a4-a1ae-1e1603b076dc",
   "metadata": {
    "tags": []
   },
   "outputs": [
    {
     "name": "stdout",
     "output_type": "stream",
     "text": [
      "* * * * * * * * * * * * * * * * * * * * * * * * * * * * * * * * * "
     ]
    }
   ],
   "source": [
    "x = range(1,100,3)\n",
    "for i in x:\n",
    "    print(\"* \",end='')"
   ]
  },
  {
   "cell_type": "code",
   "execution_count": 437,
   "id": "d8fac9e0-4d3b-450f-b454-cf2d9530e8be",
   "metadata": {
    "tags": []
   },
   "outputs": [
    {
     "data": {
      "text/plain": [
       "complex"
      ]
     },
     "execution_count": 437,
     "metadata": {},
     "output_type": "execute_result"
    }
   ],
   "source": [
    "type(5j+3)"
   ]
  },
  {
   "cell_type": "code",
   "execution_count": 438,
   "id": "145fcf19-d724-45c4-a7f4-9676e8745726",
   "metadata": {
    "tags": []
   },
   "outputs": [
    {
     "data": {
      "text/plain": [
       "(56+0j)"
      ]
     },
     "execution_count": 438,
     "metadata": {},
     "output_type": "execute_result"
    }
   ],
   "source": [
    "complex(56)"
   ]
  },
  {
   "cell_type": "code",
   "execution_count": 439,
   "id": "156f7fdc-b4a0-41fb-adb0-56c0962a5a29",
   "metadata": {
    "tags": []
   },
   "outputs": [
    {
     "ename": "TypeError",
     "evalue": "int() argument must be a string, a bytes-like object or a real number, not 'complex'",
     "output_type": "error",
     "traceback": [
      "\u001b[1;31m---------------------------------------------------------------------------\u001b[0m",
      "\u001b[1;31mTypeError\u001b[0m                                 Traceback (most recent call last)",
      "Cell \u001b[1;32mIn[439], line 1\u001b[0m\n\u001b[1;32m----> 1\u001b[0m \u001b[38;5;28;43mint\u001b[39;49m\u001b[43m(\u001b[49m\u001b[38;5;241;43m45\u001b[39;49m\u001b[38;5;241;43m+\u001b[39;49m\u001b[38;5;241;43m0\u001b[39;49m\u001b[43mj\u001b[49m\u001b[43m)\u001b[49m\n",
      "\u001b[1;31mTypeError\u001b[0m: int() argument must be a string, a bytes-like object or a real number, not 'complex'"
     ]
    }
   ],
   "source": [
    "int(45+0j)"
   ]
  },
  {
   "cell_type": "markdown",
   "id": "cf9aa56d-25dd-4609-b40b-387ce29ddc75",
   "metadata": {},
   "source": [
    "## guess my number game"
   ]
  },
  {
   "cell_type": "code",
   "execution_count": 443,
   "id": "5e535dc4-e427-4f85-a7b7-6abfab3d4205",
   "metadata": {},
   "outputs": [
    {
     "name": "stdout",
     "output_type": "stream",
     "text": [
      "Guess my number between 1 and 100\n"
     ]
    },
    {
     "name": "stdin",
     "output_type": "stream",
     "text": [
      "Enter your number -  50\n",
      "Enter a short number 25\n",
      "Enter a short number 12\n",
      "Enter a short number 8\n",
      "Enter a short number 5\n",
      "Enter a short number 3\n",
      "Enter a short number 2\n",
      "Enter a short number 1\n"
     ]
    },
    {
     "name": "stdout",
     "output_type": "stream",
     "text": [
      "You have guess the number right 1 in 8 try's\n"
     ]
    }
   ],
   "source": [
    "import random \n",
    "Num = random.randint(1,100)\n",
    "TryCount = 1\n",
    "print(\"Guess my number between 1 and 100\")\n",
    "Guess = int(input(\"Enter your number - \"))\n",
    "while True:\n",
    "    if Num == Guess:\n",
    "        break\n",
    "    else:\n",
    "        if Guess>Num:\n",
    "            Guess = int(input(\"Enter a short number\"))\n",
    "        else:\n",
    "            Guess = int(input(\"Enter a Greater number\"))\n",
    "        TryCount +=1\n",
    "    pass\n",
    "print(f\"You have guess the number right {Num} in {TryCount} try's\")"
   ]
  },
  {
   "cell_type": "code",
   "execution_count": 452,
   "id": "1b295159-f382-4e83-a1c7-104627986eb0",
   "metadata": {
    "tags": []
   },
   "outputs": [
    {
     "name": "stdout",
     "output_type": "stream",
     "text": [
      "--------------------------------------------------\n",
      "| * || * || * || * || * || * || * || * || * || * |\n",
      "--------------------------------------------------\n",
      "| * || * || * || * || * || * || * || * || * || * |\n",
      "--------------------------------------------------\n",
      "| * || * || * || * || * || * || * || * || * || * |\n",
      "--------------------------------------------------\n",
      "| * || * || * || * || * || * || * || * || * || * |\n",
      "--------------------------------------------------\n",
      "| * || * || * || * || * || * || * || * || * || * |\n",
      "--------------------------------------------------\n",
      "| * || * || * || * || * || * || * || * || * || * |\n",
      "--------------------------------------------------\n",
      "| * || * || * || * || * || * || * || * || * || * |\n",
      "--------------------------------------------------\n",
      "| * || * || * || * || * || * || * || * || * || * |\n",
      "--------------------------------------------------\n",
      "| * || * || * || * || * || * || * || * || * || * |\n",
      "--------------------------------------------------\n",
      "| * || * || * || * || * || * || * || * || * || * |\n",
      "--------------------------------------------------\n",
      "| * || * || * || * || * || * || * || * || * || * |\n",
      "--------------------------------------------------\n",
      "| * || * || * || * || * || * || * || * || * || * |\n",
      "--------------------------------------------------\n",
      "| * || * || * || * || * || * || * || * || * || * |\n",
      "--------------------------------------------------\n",
      "| * || * || * || * || * || * || * || * || * || * |\n",
      "--------------------------------------------------\n",
      "| * || * || * || * || * || * || * || * || * || * |\n"
     ]
    }
   ],
   "source": [
    "for i in range(30):\n",
    "    if i%2==1:\n",
    "        print(\"| * |\"*10)\n",
    "    else:\n",
    "        print(\"-----\"*10)"
   ]
  },
  {
   "cell_type": "code",
   "execution_count": 453,
   "id": "d9c66fbb-dc71-49f3-bcb8-d1a94421b8b1",
   "metadata": {
    "tags": []
   },
   "outputs": [],
   "source": [
    "import numpy as np"
   ]
  },
  {
   "cell_type": "code",
   "execution_count": 456,
   "id": "babfd9bf-99be-4ae3-8355-ee97f376d3bf",
   "metadata": {
    "tags": []
   },
   "outputs": [
    {
     "data": {
      "text/plain": [
       "array([2, 5, 3, 4])"
      ]
     },
     "execution_count": 456,
     "metadata": {},
     "output_type": "execute_result"
    }
   ],
   "source": [
    "np.array([2,5,3,4])"
   ]
  },
  {
   "cell_type": "code",
   "execution_count": 493,
   "id": "b06d1400-986b-4564-ae4a-bdb7fa345cfb",
   "metadata": {
    "tags": []
   },
   "outputs": [
    {
     "data": {
      "text/plain": [
       "-2014260032"
      ]
     },
     "execution_count": 493,
     "metadata": {},
     "output_type": "execute_result"
    }
   ],
   "source": [
    "np.arange(1,10000000).sum()"
   ]
  },
  {
   "cell_type": "code",
   "execution_count": 494,
   "id": "860fa0a7-1623-4af0-8240-d1e7cdd931f1",
   "metadata": {
    "tags": []
   },
   "outputs": [
    {
     "name": "stdout",
     "output_type": "stream",
     "text": [
      "49999995000000\n"
     ]
    }
   ],
   "source": [
    "count  = 0\n",
    "list1 = list(range(1,10000000))\n",
    "for i in list1:\n",
    "    count +=i\n",
    "print(count)"
   ]
  },
  {
   "cell_type": "code",
   "execution_count": 476,
   "id": "7a550e6a-11dc-459a-8a6c-04d3d25a8342",
   "metadata": {
    "tags": []
   },
   "outputs": [
    {
     "data": {
      "text/plain": [
       "55"
      ]
     },
     "execution_count": 476,
     "metadata": {},
     "output_type": "execute_result"
    }
   ],
   "source": [
    "np.arange(1,11).sum()"
   ]
  },
  {
   "cell_type": "code",
   "execution_count": 515,
   "id": "b72df53e-ea7c-48b9-9fcf-9e889bd01534",
   "metadata": {
    "tags": []
   },
   "outputs": [
    {
     "data": {
      "text/plain": [
       "array([[[0, 0, 0, 0],\n",
       "        [0, 0, 0, 0],\n",
       "        [0, 0, 0, 0]],\n",
       "\n",
       "       [[0, 0, 0, 0],\n",
       "        [0, 0, 0, 0],\n",
       "        [0, 0, 0, 0]]])"
      ]
     },
     "execution_count": 515,
     "metadata": {},
     "output_type": "execute_result"
    }
   ],
   "source": [
    "np.zeros((2,3,4),dtype=\"int\")"
   ]
  },
  {
   "cell_type": "code",
   "execution_count": 513,
   "id": "288dea30-4e55-4439-9a1e-a9d6e10df4d9",
   "metadata": {
    "tags": []
   },
   "outputs": [
    {
     "data": {
      "text/plain": [
       "array([ 0.        ,  0.20408163,  0.40816327,  0.6122449 ,  0.81632653,\n",
       "        1.02040816,  1.2244898 ,  1.42857143,  1.63265306,  1.83673469,\n",
       "        2.04081633,  2.24489796,  2.44897959,  2.65306122,  2.85714286,\n",
       "        3.06122449,  3.26530612,  3.46938776,  3.67346939,  3.87755102,\n",
       "        4.08163265,  4.28571429,  4.48979592,  4.69387755,  4.89795918,\n",
       "        5.10204082,  5.30612245,  5.51020408,  5.71428571,  5.91836735,\n",
       "        6.12244898,  6.32653061,  6.53061224,  6.73469388,  6.93877551,\n",
       "        7.14285714,  7.34693878,  7.55102041,  7.75510204,  7.95918367,\n",
       "        8.16326531,  8.36734694,  8.57142857,  8.7755102 ,  8.97959184,\n",
       "        9.18367347,  9.3877551 ,  9.59183673,  9.79591837, 10.        ])"
      ]
     },
     "execution_count": 513,
     "metadata": {},
     "output_type": "execute_result"
    }
   ],
   "source": [
    "np.linspace(0,10,50)"
   ]
  },
  {
   "cell_type": "code",
   "execution_count": 517,
   "id": "6eb5eca7-ac5d-4c0b-801f-445852ed4b3f",
   "metadata": {
    "tags": []
   },
   "outputs": [
    {
     "ename": "NameError",
     "evalue": "name 'cal' is not defined",
     "output_type": "error",
     "traceback": [
      "\u001b[1;31m---------------------------------------------------------------------------\u001b[0m",
      "\u001b[1;31mNameError\u001b[0m                                 Traceback (most recent call last)",
      "Cell \u001b[1;32mIn[517], line 1\u001b[0m\n\u001b[1;32m----> 1\u001b[0m \u001b[43mcal\u001b[49m()\n",
      "\u001b[1;31mNameError\u001b[0m: name 'cal' is not defined"
     ]
    }
   ],
   "source": [
    "cal()"
   ]
  },
  {
   "cell_type": "code",
   "execution_count": 520,
   "id": "7c99f549-e247-450b-bef6-e913e185f65d",
   "metadata": {
    "tags": []
   },
   "outputs": [],
   "source": [
    "arr = np.arange(100).reshape(2,50)"
   ]
  },
  {
   "cell_type": "code",
   "execution_count": 522,
   "id": "e2dcaba8-7596-4719-9b70-934b629359b3",
   "metadata": {
    "tags": []
   },
   "outputs": [
    {
     "data": {
      "text/plain": [
       "2"
      ]
     },
     "execution_count": 522,
     "metadata": {},
     "output_type": "execute_result"
    }
   ],
   "source": [
    "arr.ndim"
   ]
  },
  {
   "cell_type": "code",
   "execution_count": 523,
   "id": "03b55341-9881-4bfd-9a89-1293606828e3",
   "metadata": {
    "tags": []
   },
   "outputs": [
    {
     "data": {
      "text/plain": [
       "(2, 50)"
      ]
     },
     "execution_count": 523,
     "metadata": {},
     "output_type": "execute_result"
    }
   ],
   "source": [
    "arr.shape"
   ]
  },
  {
   "cell_type": "raw",
   "id": "4d60aa98-9e77-479d-a891-8bcf0330d163",
   "metadata": {},
   "source": [
    "arr.size"
   ]
  },
  {
   "cell_type": "code",
   "execution_count": 525,
   "id": "81f7af48-0649-401d-a916-2ccb402bca63",
   "metadata": {
    "tags": []
   },
   "outputs": [
    {
     "data": {
      "text/plain": [
       "100"
      ]
     },
     "execution_count": 525,
     "metadata": {},
     "output_type": "execute_result"
    }
   ],
   "source": [
    "np.size(arr)"
   ]
  },
  {
   "cell_type": "code",
   "execution_count": 526,
   "id": "b380d3c1-d084-49e2-bfeb-50dd98589c2e",
   "metadata": {
    "tags": []
   },
   "outputs": [
    {
     "data": {
      "text/plain": [
       "(2, 50)"
      ]
     },
     "execution_count": 526,
     "metadata": {},
     "output_type": "execute_result"
    }
   ],
   "source": [
    "np.shape(arr)"
   ]
  },
  {
   "cell_type": "code",
   "execution_count": 527,
   "id": "a9562e3b-8f24-4466-871e-19ccacace5f7",
   "metadata": {
    "tags": []
   },
   "outputs": [
    {
     "data": {
      "text/plain": [
       "2"
      ]
     },
     "execution_count": 527,
     "metadata": {},
     "output_type": "execute_result"
    }
   ],
   "source": [
    "np.ndim(arr)"
   ]
  },
  {
   "cell_type": "code",
   "execution_count": 538,
   "id": "525b14fb-5dc5-4e23-b72f-05fc15db4851",
   "metadata": {
    "tags": []
   },
   "outputs": [
    {
     "data": {
      "text/plain": [
       "array([2, 3])"
      ]
     },
     "execution_count": 538,
     "metadata": {},
     "output_type": "execute_result"
    }
   ],
   "source": [
    "arr[0][2:4]"
   ]
  },
  {
   "cell_type": "code",
   "execution_count": 539,
   "id": "32ed8953-bb99-4e6a-9f23-0d0418159333",
   "metadata": {
    "tags": []
   },
   "outputs": [],
   "source": [
    "a = np.array([1,2,3,4,5,6])"
   ]
  },
  {
   "cell_type": "code",
   "execution_count": 544,
   "id": "af11a5e9-473d-4c47-a1d5-61d3d3c1fb0d",
   "metadata": {
    "tags": []
   },
   "outputs": [
    {
     "data": {
      "text/plain": [
       "array([90,  2,  3,  4,  5,  6])"
      ]
     },
     "execution_count": 544,
     "metadata": {},
     "output_type": "execute_result"
    }
   ],
   "source": [
    "a[0] = 90\n",
    "a"
   ]
  },
  {
   "cell_type": "code",
   "execution_count": 551,
   "id": "54aa1361-a1aa-4caf-aec9-907f5a759abe",
   "metadata": {
    "tags": []
   },
   "outputs": [
    {
     "data": {
      "text/plain": [
       "array([[ 1,  2,  3,  4],\n",
       "       [51, 52, 53, 54]])"
      ]
     },
     "execution_count": 551,
     "metadata": {},
     "output_type": "execute_result"
    }
   ],
   "source": [
    "arr[:,1:5]"
   ]
  },
  {
   "cell_type": "code",
   "execution_count": 552,
   "id": "620c95a4-15ae-453c-9790-42150bb4f888",
   "metadata": {
    "tags": []
   },
   "outputs": [
    {
     "data": {
      "text/plain": [
       "array([[ 0,  1,  2,  3,  4,  5,  6,  7,  8,  9, 10, 11, 12, 13, 14, 15,\n",
       "        16, 17, 18, 19, 20, 21, 22, 23, 24, 25, 26, 27, 28, 29, 30, 31,\n",
       "        32, 33, 34, 35, 36, 37, 38, 39, 40, 41, 42, 43, 44, 45, 46, 47,\n",
       "        48, 49],\n",
       "       [50, 51, 52, 53, 54, 55, 56, 57, 58, 59, 60, 61, 62, 63, 64, 65,\n",
       "        66, 67, 68, 69, 70, 71, 72, 73, 74, 75, 76, 77, 78, 79, 80, 81,\n",
       "        82, 83, 84, 85, 86, 87, 88, 89, 90, 91, 92, 93, 94, 95, 96, 97,\n",
       "        98, 99]])"
      ]
     },
     "execution_count": 552,
     "metadata": {},
     "output_type": "execute_result"
    }
   ],
   "source": [
    "arr"
   ]
  },
  {
   "cell_type": "code",
   "execution_count": 556,
   "id": "cf1cd2fc-5dd2-4672-86eb-8d8224f6fad8",
   "metadata": {
    "tags": []
   },
   "outputs": [
    {
     "data": {
      "text/plain": [
       "66"
      ]
     },
     "execution_count": 556,
     "metadata": {},
     "output_type": "execute_result"
    }
   ],
   "source": [
    "arr[1,16]"
   ]
  },
  {
   "cell_type": "code",
   "execution_count": 558,
   "id": "cac2cb31-1b4e-4290-8b81-1a5ceacb064c",
   "metadata": {
    "tags": []
   },
   "outputs": [],
   "source": [
    "arr = np.array([[1,2,3,4,5],[8,7,6,5,4]])"
   ]
  },
  {
   "cell_type": "code",
   "execution_count": 559,
   "id": "782830b6-d376-4aa5-8578-0aaf2b54925f",
   "metadata": {
    "tags": []
   },
   "outputs": [
    {
     "data": {
      "text/plain": [
       "array([[1, 2, 3, 4, 5],\n",
       "       [8, 7, 6, 5, 4]])"
      ]
     },
     "execution_count": 559,
     "metadata": {},
     "output_type": "execute_result"
    }
   ],
   "source": [
    "arr"
   ]
  },
  {
   "cell_type": "code",
   "execution_count": 569,
   "id": "264927e5-13f8-4b0c-b357-da0339c11206",
   "metadata": {
    "tags": []
   },
   "outputs": [],
   "source": [
    "a = np.array([1,2,3])\n",
    "b = np.array([8,7,9])\n",
    "c= np.concatenate([a,b,c])"
   ]
  },
  {
   "cell_type": "code",
   "execution_count": 570,
   "id": "3aa4da8c-ea41-4908-8f40-85267d1fffc8",
   "metadata": {
    "tags": []
   },
   "outputs": [
    {
     "data": {
      "text/plain": [
       "array([1, 2, 3, 8, 7, 9, 1, 2, 3, 8, 7, 9, 1, 2, 3, 8, 7, 9, 1, 2, 3, 8,\n",
       "       7, 9])"
      ]
     },
     "execution_count": 570,
     "metadata": {},
     "output_type": "execute_result"
    }
   ],
   "source": [
    "c"
   ]
  },
  {
   "cell_type": "code",
   "execution_count": 573,
   "id": "3b2370cc-0a70-4f15-9d8c-320d972ffa15",
   "metadata": {
    "tags": []
   },
   "outputs": [
    {
     "data": {
      "text/plain": [
       "'HELLO'"
      ]
     },
     "execution_count": 573,
     "metadata": {},
     "output_type": "execute_result"
    }
   ],
   "source": [
    "a = \"hello\"\n",
    "a = a.upper()\n",
    "a"
   ]
  },
  {
   "cell_type": "code",
   "execution_count": 575,
   "id": "76e0f948-5f74-4dcc-9720-b89a6c7742c3",
   "metadata": {
    "tags": []
   },
   "outputs": [
    {
     "data": {
      "text/plain": [
       "'hello'"
      ]
     },
     "execution_count": 575,
     "metadata": {},
     "output_type": "execute_result"
    }
   ],
   "source": [
    "a = a.lower()\n",
    "a"
   ]
  },
  {
   "cell_type": "code",
   "execution_count": 577,
   "id": "01d30364-0b36-4e2c-b8e4-4f4e4ac27ba0",
   "metadata": {
    "tags": []
   },
   "outputs": [
    {
     "data": {
      "text/plain": [
       "['h', 'llo']"
      ]
     },
     "execution_count": 577,
     "metadata": {},
     "output_type": "execute_result"
    }
   ],
   "source": [
    "a.split(\"e\")"
   ]
  },
  {
   "cell_type": "code",
   "execution_count": 578,
   "id": "7162df70-3736-40b3-8378-a5a46c1c4ef9",
   "metadata": {
    "tags": []
   },
   "outputs": [
    {
     "name": "stdout",
     "output_type": "stream",
     "text": [
      "['hello', 'my', 'name', 'is', 'devesh']\n"
     ]
    }
   ],
   "source": [
    "a = \"hello my name is devesh\"\n",
    "print(a.split())"
   ]
  },
  {
   "cell_type": "code",
   "execution_count": 579,
   "id": "9c2a7cd7-ad3a-4581-bb25-9354165f135d",
   "metadata": {
    "tags": []
   },
   "outputs": [],
   "source": [
    "b = a.split()"
   ]
  },
  {
   "cell_type": "code",
   "execution_count": 581,
   "id": "41959627-4199-43b1-a468-738879ca8ea9",
   "metadata": {
    "tags": []
   },
   "outputs": [
    {
     "data": {
      "text/plain": [
       "'hello-+-my-+-name-+-is-+-devesh'"
      ]
     },
     "execution_count": 581,
     "metadata": {},
     "output_type": "execute_result"
    }
   ],
   "source": [
    "\"-+-\".join(b)"
   ]
  },
  {
   "cell_type": "code",
   "execution_count": 582,
   "id": "1ed8c7ed-607a-40ec-866c-b7601d52f6e6",
   "metadata": {
    "tags": []
   },
   "outputs": [
    {
     "data": {
      "text/plain": [
       "int"
      ]
     },
     "execution_count": 582,
     "metadata": {},
     "output_type": "execute_result"
    }
   ],
   "source": [
    "int"
   ]
  },
  {
   "cell_type": "code",
   "execution_count": 584,
   "id": "7242aab2-da50-4635-ae02-185c3f6f4324",
   "metadata": {
    "tags": []
   },
   "outputs": [
    {
     "data": {
      "text/plain": [
       "45"
      ]
     },
     "execution_count": 584,
     "metadata": {},
     "output_type": "execute_result"
    }
   ],
   "source": [
    "int(45.89)"
   ]
  },
  {
   "cell_type": "code",
   "execution_count": 591,
   "id": "c3f36bf2-0d8c-41c5-a9c5-33829e6f60e2",
   "metadata": {
    "tags": []
   },
   "outputs": [],
   "source": [
    "a = \"hello world\"\n"
   ]
  },
  {
   "cell_type": "code",
   "execution_count": 592,
   "id": "dcf9730a-0b4a-471d-bdef-b074e64f4b4c",
   "metadata": {
    "tags": []
   },
   "outputs": [
    {
     "data": {
      "text/plain": [
       "'HELLO WORLD'"
      ]
     },
     "execution_count": 592,
     "metadata": {},
     "output_type": "execute_result"
    }
   ],
   "source": [
    "\"hello world\".upper()"
   ]
  },
  {
   "cell_type": "code",
   "execution_count": 594,
   "id": "cd4159c9-90e3-4cee-971b-edc10b53627b",
   "metadata": {
    "tags": []
   },
   "outputs": [
    {
     "data": {
      "text/plain": [
       "'hello'"
      ]
     },
     "execution_count": 594,
     "metadata": {},
     "output_type": "execute_result"
    }
   ],
   "source": [
    "\"hello\".replace(\" \",\"o\")"
   ]
  },
  {
   "cell_type": "code",
   "execution_count": 596,
   "id": "40da6cce-ff4e-4595-8f77-47cfa1e469d3",
   "metadata": {
    "tags": []
   },
   "outputs": [
    {
     "name": "stdout",
     "output_type": "stream",
     "text": [
      "My name is John, I am age\n"
     ]
    }
   ],
   "source": [
    "age = 36\n",
    "txt = \"My name is John, I am \" + 'age'\n",
    "print(txt)"
   ]
  },
  {
   "cell_type": "code",
   "execution_count": 597,
   "id": "01a5a066-6db2-4717-8c71-e39a9b268a91",
   "metadata": {
    "tags": []
   },
   "outputs": [
    {
     "name": "stdout",
     "output_type": "stream",
     "text": [
      "The price is 59 dollars\n"
     ]
    }
   ],
   "source": [
    "price = 59\n",
    "txt = f\"The price is {price} dollars\"\n",
    "print(txt)"
   ]
  },
  {
   "cell_type": "code",
   "execution_count": 598,
   "id": "322440cb-3c9f-4837-8207-7b536198fa0c",
   "metadata": {
    "tags": []
   },
   "outputs": [
    {
     "name": "stdout",
     "output_type": "stream",
     "text": [
      "The price is 59.00 dollars\n"
     ]
    }
   ],
   "source": [
    "price = 59\n",
    "txt = f\"The price is {price:.2f} dollars\"\n",
    "print(txt)"
   ]
  },
  {
   "cell_type": "code",
   "execution_count": 609,
   "id": "87df6d52-0cb1-448f-b081-aa306d78d257",
   "metadata": {
    "tags": []
   },
   "outputs": [
    {
     "data": {
      "text/plain": [
       "False"
      ]
     },
     "execution_count": 609,
     "metadata": {},
     "output_type": "execute_result"
    }
   ],
   "source": [
    "bool()"
   ]
  },
  {
   "cell_type": "code",
   "execution_count": 612,
   "id": "bdc6b49e-09f5-4260-9e10-40e64e66bdbf",
   "metadata": {
    "tags": []
   },
   "outputs": [
    {
     "data": {
      "text/plain": [
       "4"
      ]
     },
     "execution_count": 612,
     "metadata": {},
     "output_type": "execute_result"
    }
   ],
   "source": [
    "12//3"
   ]
  },
  {
   "cell_type": "code",
   "execution_count": 616,
   "id": "ff477fc9-995f-4084-8f56-be085521638d",
   "metadata": {
    "tags": []
   },
   "outputs": [
    {
     "data": {
      "text/plain": [
       "True"
      ]
     },
     "execution_count": 616,
     "metadata": {},
     "output_type": "execute_result"
    }
   ],
   "source": [
    "2-1 == (2/2)"
   ]
  },
  {
   "cell_type": "code",
   "execution_count": 618,
   "id": "bf4b90d5-efe4-4408-b79a-b37d7e9b2082",
   "metadata": {
    "tags": []
   },
   "outputs": [
    {
     "data": {
      "text/plain": [
       "True"
      ]
     },
     "execution_count": 618,
     "metadata": {},
     "output_type": "execute_result"
    }
   ],
   "source": [
    "True != False"
   ]
  },
  {
   "cell_type": "code",
   "execution_count": 619,
   "id": "1dda1619-37a0-4973-bf9c-6d3202dc0222",
   "metadata": {
    "tags": []
   },
   "outputs": [],
   "source": [
    "a = 10\n",
    "A = 11"
   ]
  },
  {
   "cell_type": "code",
   "execution_count": 629,
   "id": "1d3bfd3f-b966-448b-bb45-0da68b4cc3fe",
   "metadata": {
    "tags": []
   },
   "outputs": [],
   "source": [
    "mango1 = 12"
   ]
  },
  {
   "cell_type": "code",
   "execution_count": 623,
   "id": "70ace0dc-dc4a-428f-8a81-1590c25f0cd3",
   "metadata": {
    "tags": []
   },
   "outputs": [
    {
     "data": {
      "text/plain": [
       "12"
      ]
     },
     "execution_count": 623,
     "metadata": {},
     "output_type": "execute_result"
    }
   ],
   "source": []
  },
  {
   "cell_type": "code",
   "execution_count": 630,
   "id": "0c9ba69b-ad03-4fed-a3d6-1cb526d0d185",
   "metadata": {
    "tags": []
   },
   "outputs": [
    {
     "data": {
      "text/plain": [
       "False"
      ]
     },
     "execution_count": 630,
     "metadata": {},
     "output_type": "execute_result"
    }
   ],
   "source": [
    "\"hell0\".isalpha()"
   ]
  },
  {
   "cell_type": "code",
   "execution_count": 631,
   "id": "436663dd-2836-4bec-a326-3fc4865b1edc",
   "metadata": {
    "tags": []
   },
   "outputs": [
    {
     "data": {
      "text/plain": [
       "True"
      ]
     },
     "execution_count": 631,
     "metadata": {},
     "output_type": "execute_result"
    }
   ],
   "source": [
    "\"343\".isdigit()"
   ]
  },
  {
   "cell_type": "code",
   "execution_count": 634,
   "id": "409a35cd-d93e-481c-a54f-d40119ba5e00",
   "metadata": {
    "tags": []
   },
   "outputs": [
    {
     "data": {
      "text/plain": [
       "True"
      ]
     },
     "execution_count": 634,
     "metadata": {},
     "output_type": "execute_result"
    }
   ],
   "source": [
    "\"3432jfijs\".isalnum()"
   ]
  },
  {
   "cell_type": "code",
   "execution_count": 638,
   "id": "6726ddb9-1184-41fc-b6b3-341bba3c80c5",
   "metadata": {
    "tags": []
   },
   "outputs": [
    {
     "data": {
      "text/plain": [
       "11"
      ]
     },
     "execution_count": 638,
     "metadata": {},
     "output_type": "execute_result"
    }
   ],
   "source": [
    "len(\"          hrllo world     \".strip())"
   ]
  },
  {
   "cell_type": "code",
   "execution_count": 639,
   "id": "f1ddcdb0-3406-4f26-b97c-e40cfd9ca394",
   "metadata": {
    "tags": []
   },
   "outputs": [
    {
     "ename": "NameError",
     "evalue": "name '__hash__' is not defined",
     "output_type": "error",
     "traceback": [
      "\u001b[1;31m---------------------------------------------------------------------------\u001b[0m",
      "\u001b[1;31mNameError\u001b[0m                                 Traceback (most recent call last)",
      "Cell \u001b[1;32mIn[639], line 1\u001b[0m\n\u001b[1;32m----> 1\u001b[0m \u001b[38;5;21;43m__hash__\u001b[39;49m(\u001b[38;5;241m34\u001b[39m)\n",
      "\u001b[1;31mNameError\u001b[0m: name '__hash__' is not defined"
     ]
    }
   ],
   "source": [
    "__hash__(34)"
   ]
  },
  {
   "cell_type": "code",
   "execution_count": 641,
   "id": "a4b8e394-c023-4a23-abd0-850bd732f04e",
   "metadata": {
    "tags": []
   },
   "outputs": [
    {
     "ename": "TypeError",
     "evalue": "unhashable type: 'list'",
     "output_type": "error",
     "traceback": [
      "\u001b[1;31m---------------------------------------------------------------------------\u001b[0m",
      "\u001b[1;31mTypeError\u001b[0m                                 Traceback (most recent call last)",
      "Cell \u001b[1;32mIn[641], line 1\u001b[0m\n\u001b[1;32m----> 1\u001b[0m \u001b[38;5;28;43mhash\u001b[39;49m\u001b[43m(\u001b[49m\u001b[43m[\u001b[49m\u001b[38;5;241;43m45\u001b[39;49m\u001b[43m]\u001b[49m\u001b[43m)\u001b[49m\n",
      "\u001b[1;31mTypeError\u001b[0m: unhashable type: 'list'"
     ]
    }
   ],
   "source": [
    "hash([45])"
   ]
  },
  {
   "cell_type": "code",
   "execution_count": 642,
   "id": "40662b97-db61-4c42-a842-4dbc25e3ebf9",
   "metadata": {
    "tags": []
   },
   "outputs": [],
   "source": [
    "a = set()"
   ]
  },
  {
   "cell_type": "code",
   "execution_count": 643,
   "id": "b737cfbe-b4fe-46e9-a39e-29d41aba1075",
   "metadata": {
    "tags": []
   },
   "outputs": [
    {
     "data": {
      "text/plain": [
       "set"
      ]
     },
     "execution_count": 643,
     "metadata": {},
     "output_type": "execute_result"
    }
   ],
   "source": [
    "type(a)"
   ]
  },
  {
   "cell_type": "code",
   "execution_count": 649,
   "id": "3ad1ec3a-6b18-4364-9a0f-90efebdb7384",
   "metadata": {
    "tags": []
   },
   "outputs": [
    {
     "name": "stdout",
     "output_type": "stream",
     "text": [
      "10\n",
      "20\n"
     ]
    }
   ],
   "source": [
    "a = 10\n",
    "b = 20\n",
    "print(a)\n",
    "print(b)"
   ]
  },
  {
   "cell_type": "code",
   "execution_count": 656,
   "id": "71d45b21-e692-41b5-a52c-c8fafc22397b",
   "metadata": {
    "tags": []
   },
   "outputs": [
    {
     "data": {
      "text/plain": [
       "{1, 2, 3, 44}"
      ]
     },
     "execution_count": 656,
     "metadata": {},
     "output_type": "execute_result"
    }
   ],
   "source": [
    "a = {1,2,3,44,4,4,4}\n",
    "a.discard(4)\n",
    "a"
   ]
  },
  {
   "cell_type": "code",
   "execution_count": 655,
   "id": "037d26b4-5e24-43ef-a92a-08353378f3e4",
   "metadata": {
    "tags": []
   },
   "outputs": [
    {
     "ename": "KeyError",
     "evalue": "4",
     "output_type": "error",
     "traceback": [
      "\u001b[1;31m---------------------------------------------------------------------------\u001b[0m",
      "\u001b[1;31mKeyError\u001b[0m                                  Traceback (most recent call last)",
      "Cell \u001b[1;32mIn[655], line 2\u001b[0m\n\u001b[0;32m      1\u001b[0m a \u001b[38;5;241m=\u001b[39m {\u001b[38;5;241m1\u001b[39m,\u001b[38;5;241m2\u001b[39m,\u001b[38;5;241m3\u001b[39m}\n\u001b[1;32m----> 2\u001b[0m \u001b[43ma\u001b[49m\u001b[38;5;241;43m.\u001b[39;49m\u001b[43mremove\u001b[49m\u001b[43m(\u001b[49m\u001b[38;5;241;43m4\u001b[39;49m\u001b[43m)\u001b[49m\n\u001b[0;32m      3\u001b[0m a\n",
      "\u001b[1;31mKeyError\u001b[0m: 4"
     ]
    }
   ],
   "source": [
    "a = {1,2,3}\n",
    "a.remove(4)\n",
    "a"
   ]
  },
  {
   "cell_type": "code",
   "execution_count": 657,
   "id": "1335a4d8-24a1-4fc6-8fa4-d70b87ca718f",
   "metadata": {
    "tags": []
   },
   "outputs": [
    {
     "data": {
      "text/plain": [
       "1"
      ]
     },
     "execution_count": 657,
     "metadata": {},
     "output_type": "execute_result"
    }
   ],
   "source": [
    "a = {1,2,3,4,5}\n",
    "a.pop()"
   ]
  },
  {
   "cell_type": "code",
   "execution_count": 663,
   "id": "50ca03aa-0dcb-41eb-a4db-d7de1b37c86d",
   "metadata": {
    "tags": []
   },
   "outputs": [
    {
     "ename": "KeyError",
     "evalue": "'pop from an empty set'",
     "output_type": "error",
     "traceback": [
      "\u001b[1;31m---------------------------------------------------------------------------\u001b[0m",
      "\u001b[1;31mKeyError\u001b[0m                                  Traceback (most recent call last)",
      "Cell \u001b[1;32mIn[663], line 1\u001b[0m\n\u001b[1;32m----> 1\u001b[0m \u001b[43ma\u001b[49m\u001b[38;5;241;43m.\u001b[39;49m\u001b[43mpop\u001b[49m\u001b[43m(\u001b[49m\u001b[43m)\u001b[49m\n",
      "\u001b[1;31mKeyError\u001b[0m: 'pop from an empty set'"
     ]
    }
   ],
   "source": [
    "a.pop()"
   ]
  },
  {
   "cell_type": "code",
   "execution_count": 664,
   "id": "ff23d625-51d4-4fee-b00b-bcc2c385c475",
   "metadata": {
    "tags": []
   },
   "outputs": [
    {
     "data": {
      "text/plain": [
       "set()"
      ]
     },
     "execution_count": 664,
     "metadata": {},
     "output_type": "execute_result"
    }
   ],
   "source": [
    "a"
   ]
  },
  {
   "cell_type": "code",
   "execution_count": 667,
   "id": "d1c390f3-6c78-4bc6-ba5d-8ca861a01ecb",
   "metadata": {
    "tags": []
   },
   "outputs": [
    {
     "name": "stdout",
     "output_type": "stream",
     "text": [
      "set()\n"
     ]
    }
   ],
   "source": [
    "a = {1,2,3,4,5}\n",
    "a.clear()\n",
    "print(a)"
   ]
  },
  {
   "cell_type": "code",
   "execution_count": 677,
   "id": "b8c11ffd-7483-4f62-bcb4-394c2d730373",
   "metadata": {
    "tags": []
   },
   "outputs": [],
   "source": [
    "set1 = {1,2,3,4,5}\n",
    "set2 = {4,5,6}\n",
    "# set1.union(set2)"
   ]
  },
  {
   "cell_type": "code",
   "execution_count": 671,
   "id": "18611673-5960-4aae-8a46-04d5f0289744",
   "metadata": {
    "tags": []
   },
   "outputs": [
    {
     "name": "stdout",
     "output_type": "stream",
     "text": [
      "{1, 2, 3, 4, 5, 6}\n"
     ]
    }
   ],
   "source": [
    "print(set1 | set2)"
   ]
  },
  {
   "cell_type": "code",
   "execution_count": 672,
   "id": "23f53c5d-51eb-45e3-b70b-8f6d726b6ebc",
   "metadata": {
    "tags": []
   },
   "outputs": [
    {
     "data": {
      "text/plain": [
       "{4, 5}"
      ]
     },
     "execution_count": 672,
     "metadata": {},
     "output_type": "execute_result"
    }
   ],
   "source": [
    "set1 & set2"
   ]
  },
  {
   "cell_type": "code",
   "execution_count": 673,
   "id": "c57f5c3d-1c02-428d-a0e9-b8e6297055af",
   "metadata": {
    "tags": []
   },
   "outputs": [
    {
     "data": {
      "text/plain": [
       "{4, 5}"
      ]
     },
     "execution_count": 673,
     "metadata": {},
     "output_type": "execute_result"
    }
   ],
   "source": [
    "set1.intersection(set2)"
   ]
  },
  {
   "cell_type": "code",
   "execution_count": 674,
   "id": "90b462a1-d1d6-4ddb-a082-8c3502efc656",
   "metadata": {
    "tags": []
   },
   "outputs": [
    {
     "data": {
      "text/plain": [
       "({1, 2, 3, 4, 5}, {4, 5, 6})"
      ]
     },
     "execution_count": 674,
     "metadata": {},
     "output_type": "execute_result"
    }
   ],
   "source": [
    "set1,set2"
   ]
  },
  {
   "cell_type": "code",
   "execution_count": 675,
   "id": "5a00f8cf-f09c-40ca-bb79-22a2764e96b9",
   "metadata": {
    "tags": []
   },
   "outputs": [],
   "source": [
    "set1.intersection_update(set2)"
   ]
  },
  {
   "cell_type": "code",
   "execution_count": 678,
   "id": "a4e0ba23-10b7-43f4-87cf-89a9875f2544",
   "metadata": {
    "tags": []
   },
   "outputs": [
    {
     "data": {
      "text/plain": [
       "{1, 2, 3, 4, 5}"
      ]
     },
     "execution_count": 678,
     "metadata": {},
     "output_type": "execute_result"
    }
   ],
   "source": [
    "set1"
   ]
  },
  {
   "cell_type": "code",
   "execution_count": 679,
   "id": "ebc1b0b8-83a7-484a-b29f-0c07c2ccca10",
   "metadata": {
    "tags": []
   },
   "outputs": [
    {
     "ename": "AttributeError",
     "evalue": "'set' object has no attribute 'union_update'",
     "output_type": "error",
     "traceback": [
      "\u001b[1;31m---------------------------------------------------------------------------\u001b[0m",
      "\u001b[1;31mAttributeError\u001b[0m                            Traceback (most recent call last)",
      "Cell \u001b[1;32mIn[679], line 1\u001b[0m\n\u001b[1;32m----> 1\u001b[0m \u001b[43mset1\u001b[49m\u001b[38;5;241;43m.\u001b[39;49m\u001b[43munion_update\u001b[49m(set2)\n",
      "\u001b[1;31mAttributeError\u001b[0m: 'set' object has no attribute 'union_update'"
     ]
    }
   ],
   "source": [
    "set1.union_update(set2)"
   ]
  },
  {
   "cell_type": "code",
   "execution_count": 681,
   "id": "412c796d-a534-441f-ade3-2c1bc1c8cc2b",
   "metadata": {
    "tags": []
   },
   "outputs": [
    {
     "data": {
      "text/plain": [
       "({1, 2, 3, 4, 5}, {4, 5, 6})"
      ]
     },
     "execution_count": 681,
     "metadata": {},
     "output_type": "execute_result"
    }
   ],
   "source": [
    "set1,set2"
   ]
  },
  {
   "cell_type": "code",
   "execution_count": 682,
   "id": "10f7af8d-e8b2-47a8-8c36-80305b909110",
   "metadata": {
    "tags": []
   },
   "outputs": [
    {
     "data": {
      "text/plain": [
       "{1, 2, 3}"
      ]
     },
     "execution_count": 682,
     "metadata": {},
     "output_type": "execute_result"
    }
   ],
   "source": [
    "set1-set2"
   ]
  },
  {
   "cell_type": "code",
   "execution_count": 683,
   "id": "2a12ceb1-8a7d-422d-b1ec-5bb0365906e0",
   "metadata": {
    "tags": []
   },
   "outputs": [
    {
     "data": {
      "text/plain": [
       "{6}"
      ]
     },
     "execution_count": 683,
     "metadata": {},
     "output_type": "execute_result"
    }
   ],
   "source": [
    "set2-set1"
   ]
  },
  {
   "cell_type": "code",
   "execution_count": 684,
   "id": "0d9a99d6-e5c0-4455-92c0-bb30af0bc711",
   "metadata": {
    "tags": []
   },
   "outputs": [
    {
     "data": {
      "text/plain": [
       "{1, 2, 3}"
      ]
     },
     "execution_count": 684,
     "metadata": {},
     "output_type": "execute_result"
    }
   ],
   "source": [
    "set1.difference(set2)"
   ]
  },
  {
   "cell_type": "code",
   "execution_count": 685,
   "id": "a997d137-0497-4af5-812a-c7f61e69685c",
   "metadata": {
    "tags": []
   },
   "outputs": [
    {
     "data": {
      "text/plain": [
       "{6}"
      ]
     },
     "execution_count": 685,
     "metadata": {},
     "output_type": "execute_result"
    }
   ],
   "source": [
    "set2.difference(set1)"
   ]
  },
  {
   "cell_type": "code",
   "execution_count": 686,
   "id": "0f3c7d6c-0d15-4ebe-80fb-cd67f8fe4753",
   "metadata": {
    "tags": []
   },
   "outputs": [
    {
     "data": {
      "text/plain": [
       "{1, 2, 3, 6}"
      ]
     },
     "execution_count": 686,
     "metadata": {},
     "output_type": "execute_result"
    }
   ],
   "source": [
    "set1 ^ set2"
   ]
  },
  {
   "cell_type": "code",
   "execution_count": 690,
   "id": "bddd1d8e-b0d7-469e-9a25-5e4be1715393",
   "metadata": {
    "tags": []
   },
   "outputs": [
    {
     "data": {
      "text/plain": [
       "{1, 2, 3, 6}"
      ]
     },
     "execution_count": 690,
     "metadata": {},
     "output_type": "execute_result"
    }
   ],
   "source": [
    "(set1 | set2) - (set1 & set2)"
   ]
  },
  {
   "cell_type": "code",
   "execution_count": 692,
   "id": "384a6d61-9eed-48ff-b573-5d63f9bd5f04",
   "metadata": {
    "tags": []
   },
   "outputs": [
    {
     "data": {
      "text/plain": [
       "{1, 2, 3, 4, 5, 6}"
      ]
     },
     "execution_count": 692,
     "metadata": {},
     "output_type": "execute_result"
    }
   ],
   "source": [
    "l = (1,2,3,4,5,6)\n",
    "set(l)"
   ]
  },
  {
   "cell_type": "code",
   "execution_count": 695,
   "id": "124febfc-29f1-46f8-a218-10712d8ed655",
   "metadata": {
    "tags": []
   },
   "outputs": [
    {
     "data": {
      "text/plain": [
       "({'hello', 'world'}, {44, 45})"
      ]
     },
     "execution_count": 695,
     "metadata": {},
     "output_type": "execute_result"
    }
   ],
   "source": [
    "d = {\"hello\":45,\"world\":44}\n",
    "set(d.keys()),set(d.values())"
   ]
  },
  {
   "cell_type": "code",
   "execution_count": 698,
   "id": "759df5e6-7f18-4931-ad21-cf692963db88",
   "metadata": {
    "tags": []
   },
   "outputs": [
    {
     "data": {
      "text/plain": [
       "[('hello', 45), ('world', 44)]"
      ]
     },
     "execution_count": 698,
     "metadata": {},
     "output_type": "execute_result"
    }
   ],
   "source": [
    "list(zip(d,d.values()))"
   ]
  },
  {
   "cell_type": "code",
   "execution_count": 701,
   "id": "b9fbb447-da23-447e-b55a-127e4aeaa514",
   "metadata": {
    "tags": []
   },
   "outputs": [
    {
     "data": {
      "text/plain": [
       "False"
      ]
     },
     "execution_count": 701,
     "metadata": {},
     "output_type": "execute_result"
    }
   ],
   "source": [
    "set2.issubset(set1)"
   ]
  },
  {
   "cell_type": "code",
   "execution_count": 704,
   "id": "93618c80-a117-45bd-a825-e5e17e97f36b",
   "metadata": {
    "tags": []
   },
   "outputs": [
    {
     "data": {
      "text/plain": [
       "False"
      ]
     },
     "execution_count": 704,
     "metadata": {},
     "output_type": "execute_result"
    }
   ],
   "source": [
    "{1,2,30}.issubset({1,2,3,4,5})"
   ]
  },
  {
   "cell_type": "code",
   "execution_count": 709,
   "id": "341310e8-1576-4804-8071-1dac241b4028",
   "metadata": {
    "tags": []
   },
   "outputs": [
    {
     "data": {
      "text/plain": [
       "False"
      ]
     },
     "execution_count": 709,
     "metadata": {},
     "output_type": "execute_result"
    }
   ],
   "source": [
    "{1,2,30}.issubset({1,2,3,4,5})"
   ]
  },
  {
   "cell_type": "code",
   "execution_count": 711,
   "id": "de93d54c-d0a8-464e-9cf8-1f7505847cfc",
   "metadata": {
    "tags": []
   },
   "outputs": [
    {
     "data": {
      "text/plain": [
       "True"
      ]
     },
     "execution_count": 711,
     "metadata": {},
     "output_type": "execute_result"
    }
   ],
   "source": [
    "{2,3,4,5,6}.issuperset({2,3})"
   ]
  },
  {
   "cell_type": "code",
   "execution_count": 713,
   "id": "ac62cab3-13d9-4105-8e64-89e725e621e1",
   "metadata": {
    "tags": []
   },
   "outputs": [
    {
     "data": {
      "text/plain": [
       "True"
      ]
     },
     "execution_count": 713,
     "metadata": {},
     "output_type": "execute_result"
    }
   ],
   "source": [
    "1 in {2,3,1}"
   ]
  },
  {
   "cell_type": "code",
   "execution_count": 716,
   "id": "f5d3bcbf-98a9-47b6-964f-b431787e50e4",
   "metadata": {
    "tags": []
   },
   "outputs": [
    {
     "data": {
      "text/plain": [
       "{2: [5, 6, 7], 5: 6}"
      ]
     },
     "execution_count": 716,
     "metadata": {},
     "output_type": "execute_result"
    }
   ],
   "source": [
    "dict([[2,[5,6,7]],[5,6]])"
   ]
  },
  {
   "cell_type": "code",
   "execution_count": 718,
   "id": "1ef38bc3-eb66-452c-8dc4-1daab809ab6f",
   "metadata": {
    "tags": []
   },
   "outputs": [],
   "source": [
    "d = {2:2000,3:3000,4:4000}"
   ]
  },
  {
   "cell_type": "code",
   "execution_count": 723,
   "id": "04e9e595-41c6-47f4-ad9d-93c685cff1c2",
   "metadata": {
    "tags": []
   },
   "outputs": [],
   "source": [
    "d2 = {4:d,5:\"hello\",6:5.67}"
   ]
  },
  {
   "cell_type": "code",
   "execution_count": 724,
   "id": "f1c087c1-cf3d-4322-837a-bc79e9694241",
   "metadata": {
    "tags": []
   },
   "outputs": [
    {
     "data": {
      "text/plain": [
       "{4: {2: 2000, 3: 3000, 4: 4000}, 5: 'hello', 6: 5.67}"
      ]
     },
     "execution_count": 724,
     "metadata": {},
     "output_type": "execute_result"
    }
   ],
   "source": [
    "d2"
   ]
  },
  {
   "cell_type": "code",
   "execution_count": 726,
   "id": "67d349b2-8f86-4a66-9697-d4d650ec8463",
   "metadata": {
    "tags": []
   },
   "outputs": [
    {
     "data": {
      "text/plain": [
       "3000"
      ]
     },
     "execution_count": 726,
     "metadata": {},
     "output_type": "execute_result"
    }
   ],
   "source": [
    "d2[4][3]"
   ]
  },
  {
   "cell_type": "code",
   "execution_count": 727,
   "id": "7d0b96d1-7339-41a5-927a-73e1c3ec8acc",
   "metadata": {
    "tags": []
   },
   "outputs": [
    {
     "data": {
      "text/plain": [
       "float"
      ]
     },
     "execution_count": 727,
     "metadata": {},
     "output_type": "execute_result"
    }
   ],
   "source": [
    "type(d2[6])"
   ]
  },
  {
   "cell_type": "code",
   "execution_count": 729,
   "id": "dc3335cf-a0f2-40e1-977e-b59b24b8d261",
   "metadata": {
    "tags": []
   },
   "outputs": [
    {
     "data": {
      "text/plain": [
       "'Not found'"
      ]
     },
     "execution_count": 729,
     "metadata": {},
     "output_type": "execute_result"
    }
   ],
   "source": [
    "d2.get(7,\"Not found\")"
   ]
  },
  {
   "cell_type": "code",
   "execution_count": 730,
   "id": "4fb716e8-65fd-42b6-936c-353117cec103",
   "metadata": {
    "tags": []
   },
   "outputs": [
    {
     "ename": "KeyError",
     "evalue": "7",
     "output_type": "error",
     "traceback": [
      "\u001b[1;31m---------------------------------------------------------------------------\u001b[0m",
      "\u001b[1;31mKeyError\u001b[0m                                  Traceback (most recent call last)",
      "Cell \u001b[1;32mIn[730], line 1\u001b[0m\n\u001b[1;32m----> 1\u001b[0m \u001b[43md2\u001b[49m\u001b[43m[\u001b[49m\u001b[38;5;241;43m7\u001b[39;49m\u001b[43m]\u001b[49m\n",
      "\u001b[1;31mKeyError\u001b[0m: 7"
     ]
    }
   ],
   "source": [
    "d2[7]"
   ]
  },
  {
   "cell_type": "code",
   "execution_count": 731,
   "id": "e19a8211-c322-4bd4-87e0-f526b12fb23d",
   "metadata": {
    "tags": []
   },
   "outputs": [
    {
     "data": {
      "text/plain": [
       "'Not here'"
      ]
     },
     "execution_count": 731,
     "metadata": {},
     "output_type": "execute_result"
    }
   ],
   "source": [
    "d2.get(7,\"Not here\")"
   ]
  },
  {
   "cell_type": "code",
   "execution_count": 734,
   "id": "f9e76688-df69-4950-98dd-0fc317432ccc",
   "metadata": {
    "tags": []
   },
   "outputs": [],
   "source": [
    "d1 = {\"name\":\"Devesh\",\"Age\":\"?\"}"
   ]
  },
  {
   "cell_type": "code",
   "execution_count": 735,
   "id": "230a2c43-bcf6-41bd-83f7-b56fb675bbba",
   "metadata": {
    "tags": []
   },
   "outputs": [
    {
     "data": {
      "text/plain": [
       "{'name': 'Devesh', 'Age': '?'}"
      ]
     },
     "execution_count": 735,
     "metadata": {},
     "output_type": "execute_result"
    }
   ],
   "source": [
    "d1"
   ]
  },
  {
   "cell_type": "code",
   "execution_count": 736,
   "id": "4d7a749a-0474-4191-b12e-1905894b0d61",
   "metadata": {
    "tags": []
   },
   "outputs": [],
   "source": [
    "d1['name'] = 'rohan'"
   ]
  },
  {
   "cell_type": "code",
   "execution_count": 742,
   "id": "1420107a-0b12-4a77-b44e-bffc70aa6791",
   "metadata": {
    "tags": []
   },
   "outputs": [],
   "source": [
    "d1[\"Age\"] = 25"
   ]
  },
  {
   "cell_type": "code",
   "execution_count": 744,
   "id": "44e3eae0-0100-473c-9398-4fa31a397080",
   "metadata": {
    "tags": []
   },
   "outputs": [],
   "source": [
    "del d1[\"age\"]"
   ]
  },
  {
   "cell_type": "code",
   "execution_count": 745,
   "id": "a0caf002-b2a8-4a34-bcb3-2cda52599ae4",
   "metadata": {
    "tags": []
   },
   "outputs": [
    {
     "data": {
      "text/plain": [
       "{'name': 'rohan', 'Age': 25}"
      ]
     },
     "execution_count": 745,
     "metadata": {},
     "output_type": "execute_result"
    }
   ],
   "source": [
    "d1"
   ]
  },
  {
   "cell_type": "code",
   "execution_count": 746,
   "id": "f0e1e0b7-3607-4aed-ac9e-0d00642179eb",
   "metadata": {
    "tags": []
   },
   "outputs": [
    {
     "name": "stdin",
     "output_type": "stream",
     "text": [
      "Enter your Name devesh\n",
      "Enter your Age 25\n",
      "Enter your Gender male\n",
      "Enter your Mobile 90099\n"
     ]
    },
    {
     "name": "stdout",
     "output_type": "stream",
     "text": [
      "{'Name': 'devesh', 'Age': '25', 'Gender': 'male', 'Mobile': '90099'}\n"
     ]
    }
   ],
   "source": [
    "# taking inputs and saving them in a dictionary\n",
    "\n",
    "variable_list = ['Name','Age','Gender','Mobile']\n",
    "\n",
    "dict1 = {}\n",
    "for i in variable_list:\n",
    "    dict1[i]=input(f\"Enter your {i}\")\n",
    "    \n",
    "print(dict1)"
   ]
  },
  {
   "cell_type": "code",
   "execution_count": 747,
   "id": "0961a5e9-318f-418a-9a9e-c71300d5f05d",
   "metadata": {
    "tags": []
   },
   "outputs": [],
   "source": [
    "dict1['Mobile'] = int(dict1['Mobile'])"
   ]
  },
  {
   "cell_type": "code",
   "execution_count": 752,
   "id": "16bdb659-5908-4ff6-8d4b-9d6af0488a1d",
   "metadata": {
    "tags": []
   },
   "outputs": [],
   "source": [
    "temp = dict1.copy()"
   ]
  },
  {
   "cell_type": "code",
   "execution_count": 774,
   "id": "e22f557c-903c-4d04-acc9-f47eef739c4c",
   "metadata": {
    "tags": []
   },
   "outputs": [],
   "source": [
    "d = dict1.copy()"
   ]
  },
  {
   "cell_type": "code",
   "execution_count": 757,
   "id": "4bd79042-c1ee-4fdb-8f47-000e5c7b599d",
   "metadata": {
    "tags": []
   },
   "outputs": [
    {
     "data": {
      "text/plain": [
       "{}"
      ]
     },
     "execution_count": 757,
     "metadata": {},
     "output_type": "execute_result"
    }
   ],
   "source": [
    "d.clear()\n",
    "d"
   ]
  },
  {
   "cell_type": "code",
   "execution_count": 762,
   "id": "1c3c943c-05de-462f-ac10-fd5025ed847c",
   "metadata": {
    "tags": []
   },
   "outputs": [
    {
     "data": {
      "text/plain": [
       "'devesh'"
      ]
     },
     "execution_count": 762,
     "metadata": {},
     "output_type": "execute_result"
    }
   ],
   "source": [
    "d.pop('Name')"
   ]
  },
  {
   "cell_type": "code",
   "execution_count": 769,
   "id": "cd1c1fe6-2e5b-485c-8664-68e03a34a2ac",
   "metadata": {
    "tags": []
   },
   "outputs": [
    {
     "data": {
      "text/plain": [
       "'Not fount'"
      ]
     },
     "execution_count": 769,
     "metadata": {},
     "output_type": "execute_result"
    }
   ],
   "source": [
    "d.pop('Age',\"Not fount\")"
   ]
  },
  {
   "cell_type": "code",
   "execution_count": 765,
   "id": "a5644f4d-613c-47a1-92bd-c64d827eea23",
   "metadata": {
    "tags": []
   },
   "outputs": [
    {
     "name": "stdout",
     "output_type": "stream",
     "text": [
      "Help on method_descriptor:\n",
      "\n",
      "pop(...)\n",
      "    D.pop(k[,d]) -> v, remove specified key and return the corresponding value.\n",
      "    \n",
      "    If the key is not found, return the default if given; otherwise,\n",
      "    raise a KeyError.\n",
      "\n"
     ]
    }
   ],
   "source": [
    "help(dict.pop)"
   ]
  },
  {
   "cell_type": "code",
   "execution_count": 777,
   "id": "3ec1e878-e8d0-47a6-aece-ba9e3fb3a445",
   "metadata": {
    "tags": []
   },
   "outputs": [
    {
     "data": {
      "text/plain": [
       "('Age', '25')"
      ]
     },
     "execution_count": 777,
     "metadata": {},
     "output_type": "execute_result"
    }
   ],
   "source": [
    "d.popitem()"
   ]
  },
  {
   "cell_type": "code",
   "execution_count": 785,
   "id": "29195936-b803-486d-ab57-74efa902c65a",
   "metadata": {
    "tags": []
   },
   "outputs": [],
   "source": [
    "d.update({\"Name\":\"Piyush\",'year':2099})"
   ]
  },
  {
   "cell_type": "code",
   "execution_count": 786,
   "id": "19244319-c746-4231-9d0b-83c34c03086e",
   "metadata": {
    "tags": []
   },
   "outputs": [
    {
     "data": {
      "text/plain": [
       "{'Name': 'Piyush', 'year': 2099}"
      ]
     },
     "execution_count": 786,
     "metadata": {},
     "output_type": "execute_result"
    }
   ],
   "source": [
    "d"
   ]
  },
  {
   "cell_type": "code",
   "execution_count": 787,
   "id": "bd022f81-09ef-41a4-835d-509b1399e209",
   "metadata": {
    "tags": []
   },
   "outputs": [
    {
     "data": {
      "text/plain": [
       "{0: 10, 1: 10, 2: 10, 3: 10, 4: 10, 5: 10, 6: 10, 7: 10, 8: 10, 9: 10}"
      ]
     },
     "execution_count": 787,
     "metadata": {},
     "output_type": "execute_result"
    }
   ],
   "source": [
    "d2 = {}.fromkeys(list(range(10)),10)\n",
    "d2"
   ]
  },
  {
   "cell_type": "code",
   "execution_count": 792,
   "id": "fea50f7f-1b67-4ef0-9d53-74e96bcb8a71",
   "metadata": {
    "tags": []
   },
   "outputs": [],
   "source": [
    "l1 = [1,2,3,4,5]\n",
    "l2 = [\"one\",'two','three','four','five']\n",
    "d1 = {}"
   ]
  },
  {
   "cell_type": "code",
   "execution_count": 790,
   "id": "37edc98f-822a-44b6-89de-dded2cd75a7d",
   "metadata": {
    "tags": []
   },
   "outputs": [
    {
     "data": {
      "text/plain": [
       "{1: 'one', 2: 'two', 3: 'three', 4: 'four', 5: 'five'}"
      ]
     },
     "execution_count": 790,
     "metadata": {},
     "output_type": "execute_result"
    }
   ],
   "source": [
    "dict(zip(l1,l2))"
   ]
  },
  {
   "cell_type": "code",
   "execution_count": 793,
   "id": "c9ae1773-74ed-43ef-9eaa-339802412337",
   "metadata": {
    "tags": []
   },
   "outputs": [
    {
     "name": "stdout",
     "output_type": "stream",
     "text": [
      "{1: 'one', 2: 'two', 3: 'three', 4: 'four', 5: 'five'}\n"
     ]
    }
   ],
   "source": [
    "for i in range(len(l1)):\n",
    "    d1[l1[i]] = l2[i]\n",
    "print(d1)"
   ]
  },
  {
   "cell_type": "code",
   "execution_count": 795,
   "id": "8b914e8e-873e-4b01-88c7-508e4a0b354a",
   "metadata": {
    "tags": []
   },
   "outputs": [
    {
     "data": {
      "text/plain": [
       "dict_items([(1, 'one'), (2, 'two'), (3, 'three'), (4, 'four'), (5, 'five')])"
      ]
     },
     "execution_count": 795,
     "metadata": {},
     "output_type": "execute_result"
    }
   ],
   "source": [
    "d1.items()"
   ]
  },
  {
   "cell_type": "code",
   "execution_count": 796,
   "id": "4af3be3b-6caa-4b33-87fe-10e7d02982b6",
   "metadata": {
    "tags": []
   },
   "outputs": [
    {
     "data": {
      "text/plain": [
       "dict_values(['one', 'two', 'three', 'four', 'five'])"
      ]
     },
     "execution_count": 796,
     "metadata": {},
     "output_type": "execute_result"
    }
   ],
   "source": [
    "d1.values()"
   ]
  },
  {
   "cell_type": "code",
   "execution_count": 797,
   "id": "2bbefcb8-8b26-4a32-a303-11a0b75fe802",
   "metadata": {
    "tags": []
   },
   "outputs": [
    {
     "data": {
      "text/plain": [
       "dict_keys([1, 2, 3, 4, 5])"
      ]
     },
     "execution_count": 797,
     "metadata": {},
     "output_type": "execute_result"
    }
   ],
   "source": [
    "d1.keys()"
   ]
  },
  {
   "cell_type": "code",
   "execution_count": 799,
   "id": "ff040ccb-e92c-4493-942d-f60ff8a90948",
   "metadata": {
    "tags": []
   },
   "outputs": [
    {
     "name": "stdout",
     "output_type": "stream",
     "text": [
      "{1: 1, 2: 8, 3: 27, 4: 64, 5: 125, 6: 216, 7: 343, 8: 512, 9: 729, 10: 1000}\n"
     ]
    }
   ],
   "source": [
    "# make a dict in which it hold a cube of 1 to 10 numbers\n",
    "cube ={}\n",
    "for i in range(1,11):\n",
    "    cube[i] = i**3\n",
    "print(cube)"
   ]
  },
  {
   "cell_type": "code",
   "execution_count": 800,
   "id": "f254f9a5-796d-4695-bb37-cc91ed80e668",
   "metadata": {
    "tags": []
   },
   "outputs": [
    {
     "data": {
      "text/plain": [
       "{2: 8, 4: 64, 6: 216, 8: 512, 10: 1000}"
      ]
     },
     "execution_count": 800,
     "metadata": {},
     "output_type": "execute_result"
    }
   ],
   "source": [
    "only_even = { i:j for i,j in cube.items() if j%2==0}\n",
    "only_even"
   ]
  },
  {
   "cell_type": "code",
   "execution_count": 802,
   "id": "57e18ff5-aa86-4287-b22a-7f5daf5a6ba2",
   "metadata": {
    "tags": []
   },
   "outputs": [
    {
     "data": {
      "text/plain": [
       "(50, 40, 30, 20, 10)"
      ]
     },
     "execution_count": 802,
     "metadata": {},
     "output_type": "execute_result"
    }
   ],
   "source": [
    "t1 = (10, 20, 30, 40, 50)\n",
    "t1[::-1]"
   ]
  },
  {
   "cell_type": "code",
   "execution_count": 804,
   "id": "c108418a-2bea-4d0b-81ac-d9a24693d691",
   "metadata": {
    "tags": []
   },
   "outputs": [],
   "source": [
    "t1 = (\"Orange\", [10, 20, 30], (5, 15, 25))\n"
   ]
  },
  {
   "cell_type": "code",
   "execution_count": 809,
   "id": "a4003b89-1d16-4720-8d75-6ef61f82a8f9",
   "metadata": {
    "tags": []
   },
   "outputs": [
    {
     "name": "stdin",
     "output_type": "stream",
     "text": [
      " 15\n"
     ]
    },
    {
     "name": "stdout",
     "output_type": "stream",
     "text": [
      "Its a prime\n",
      "its not a prime\n"
     ]
    }
   ],
   "source": [
    "num = int(input())\n",
    "for i in range(2,num):\n",
    "    if num%i==0:\n",
    "        print(\"its not a prime\")\n",
    "        break\n",
    "    else:\n",
    "        print(\"Its a prime\")"
   ]
  },
  {
   "cell_type": "code",
   "execution_count": 818,
   "id": "0ef0a349-b6eb-4ced-b3cb-941365831a7d",
   "metadata": {
    "tags": []
   },
   "outputs": [
    {
     "name": "stdin",
     "output_type": "stream",
     "text": [
      " 53\n"
     ]
    },
    {
     "name": "stdout",
     "output_type": "stream",
     "text": [
      "its a Prime\n"
     ]
    }
   ],
   "source": [
    "num = int(input())\n",
    "factor = 0\n",
    "l = []\n",
    "for i in range(1,num):\n",
    "    if num%i==0:\n",
    "        factor+=1\n",
    "        l.append(i)\n",
    "if factor==1:\n",
    "    print(\"its a Prime\")\n",
    "else:\n",
    "    print('Its not a prime and can be divided by',l)"
   ]
  },
  {
   "cell_type": "code",
   "execution_count": 819,
   "id": "76914066-7e21-4d85-ba34-d4f715169be5",
   "metadata": {
    "tags": []
   },
   "outputs": [],
   "source": [
    "t1 = (\"Orange\", [10, 20, 30], (5, 15, 25))"
   ]
  },
  {
   "cell_type": "code",
   "execution_count": 821,
   "id": "b72a5841-341f-42f9-aaca-85c539402df5",
   "metadata": {
    "tags": []
   },
   "outputs": [
    {
     "data": {
      "text/plain": [
       "20"
      ]
     },
     "execution_count": 821,
     "metadata": {},
     "output_type": "execute_result"
    }
   ],
   "source": [
    "t1[1][1]"
   ]
  },
  {
   "cell_type": "code",
   "execution_count": 822,
   "id": "684c59f5-2bef-4035-8693-9e5ab51a024e",
   "metadata": {
    "tags": []
   },
   "outputs": [],
   "source": [
    "t1 = (50,)"
   ]
  },
  {
   "cell_type": "code",
   "execution_count": 823,
   "id": "ddfd3b11-4499-410c-8b5a-0cee22563ff9",
   "metadata": {
    "tags": []
   },
   "outputs": [
    {
     "data": {
      "text/plain": [
       "(50,)"
      ]
     },
     "execution_count": 823,
     "metadata": {},
     "output_type": "execute_result"
    }
   ],
   "source": [
    "t1"
   ]
  },
  {
   "cell_type": "code",
   "execution_count": 824,
   "id": "3d315f0e-11eb-4f5c-a711-cee11d86bcb9",
   "metadata": {
    "tags": []
   },
   "outputs": [
    {
     "name": "stdout",
     "output_type": "stream",
     "text": [
      "a is  10\n",
      "b is  20\n",
      "c is  30\n",
      "d is  40\n"
     ]
    }
   ],
   "source": [
    "tuple1 = (10, 20, 30, 40)\n",
    "a,b,c,d = tuple1\n",
    "print('a is ',a)\n",
    "print('b is ',b)\n",
    "print('c is ',c)\n",
    "print('d is ',d)"
   ]
  },
  {
   "cell_type": "code",
   "execution_count": 825,
   "id": "5def0dd1-5654-4456-93a3-23f72d9dfb3c",
   "metadata": {
    "tags": []
   },
   "outputs": [
    {
     "data": {
      "text/plain": [
       "((99, 88), (11, 22))"
      ]
     },
     "execution_count": 825,
     "metadata": {},
     "output_type": "execute_result"
    }
   ],
   "source": [
    "tuple1 = (11, 22)\n",
    "tuple2 = (99, 88)\n",
    "tuple1,tuple2 = tuple2,tuple1\n",
    "tuple1,tuple2"
   ]
  },
  {
   "cell_type": "code",
   "execution_count": 826,
   "id": "50846c25-a8a2-4433-9b81-a279a0f54ae2",
   "metadata": {
    "tags": []
   },
   "outputs": [
    {
     "data": {
      "text/plain": [
       "(44, 55)"
      ]
     },
     "execution_count": 826,
     "metadata": {},
     "output_type": "execute_result"
    }
   ],
   "source": [
    "t1 = (11, 22, 33, 44, 55, 66)\n",
    "new_tuple = (t1[3],t1[4])\n",
    "new_tuple"
   ]
  },
  {
   "cell_type": "code",
   "execution_count": 827,
   "id": "a6eea05c-0481-442e-943f-88a1b4e9006e",
   "metadata": {
    "tags": []
   },
   "outputs": [
    {
     "data": {
      "text/plain": [
       "(11, [222, 33], 44, 55)"
      ]
     },
     "execution_count": 827,
     "metadata": {},
     "output_type": "execute_result"
    }
   ],
   "source": [
    "t1 =  (11, [22, 33], 44, 55)\n",
    "t1[1][0]=222\n",
    "t1"
   ]
  },
  {
   "cell_type": "code",
   "execution_count": 828,
   "id": "d194af0a-7cba-4588-a7a8-3fc57a666622",
   "metadata": {
    "tags": []
   },
   "outputs": [],
   "source": [
    "t1 = (('a', 23),('b', 37),('c', 11), ('d',29))\n",
    "for i in range(len(t1)):\n",
    "    if t1[i][1]>t1[i+1][1]:\n",
    "        "
   ]
  },
  {
   "cell_type": "code",
   "execution_count": 832,
   "id": "23503f86-9781-4924-9947-027b7b231987",
   "metadata": {
    "tags": []
   },
   "outputs": [
    {
     "name": "stdout",
     "output_type": "stream",
     "text": [
      "[('a', 23), ('b', 37), ('c', 11), ('d', 29)]\n",
      "[[11, 'c'], [23, 'a'], [29, 'd'], [37, 'b']]\n",
      "(('c', 11), ('a', 23), ('d', 29), ('b', 37))\n"
     ]
    }
   ],
   "source": [
    "tuple1 = (('a', 23),('b', 37),('c', 11), ('d',29))\n",
    "tuple2 = list(tuple1)\n",
    "tuple2.sort()\n",
    "print(tuple2)\n",
    "list1 = list()\n",
    "for i in tuple2:\n",
    " list1.append([i[1],i[0]])\n",
    "list1.sort()\n",
    "print(list1)\n",
    "list3=[]\n",
    "for j in list1:\n",
    " list3.append(tuple([j[1],j[0]]))\n",
    "print(tuple(list3))\n"
   ]
  },
  {
   "cell_type": "code",
   "execution_count": 833,
   "id": "4f6f0c39-3270-4658-bb49-6c266b1c96e7",
   "metadata": {
    "tags": []
   },
   "outputs": [],
   "source": [
    "t1 = (('a', 23),('b', 37),('c', 11), ('d',29))"
   ]
  },
  {
   "cell_type": "code",
   "execution_count": 841,
   "id": "dfb23d1e-2ce4-496d-a364-50931f620a72",
   "metadata": {
    "tags": []
   },
   "outputs": [
    {
     "data": {
      "text/plain": [
       "(('c', 11), ('a', 23), ('d', 29), ('b', 37))"
      ]
     },
     "execution_count": 841,
     "metadata": {},
     "output_type": "execute_result"
    }
   ],
   "source": [
    "t1\n",
    "l1 = []\n",
    "l2 = []\n",
    "for i in t1:\n",
    "    l1.append([i[1],i[0]])\n",
    "l1.sort()\n",
    "for i in l1:\n",
    "    l2.append((i[1],i[0]))\n",
    "l2 = tuple(l2)\n",
    "l2"
   ]
  },
  {
   "cell_type": "code",
   "execution_count": 843,
   "id": "b3099e0a-5d9e-4cf6-ab1a-d940e37977cd",
   "metadata": {
    "tags": []
   },
   "outputs": [
    {
     "data": {
      "text/plain": [
       "2"
      ]
     },
     "execution_count": 843,
     "metadata": {},
     "output_type": "execute_result"
    }
   ],
   "source": [
    "t1 = (50, 10, 60, 70, 50)\n",
    "t1.count(50)"
   ]
  },
  {
   "cell_type": "code",
   "execution_count": 844,
   "id": "f4ede95d-9c70-4642-8831-4efc1a1eb174",
   "metadata": {
    "tags": []
   },
   "outputs": [
    {
     "name": "stdout",
     "output_type": "stream",
     "text": [
      "2\n"
     ]
    }
   ],
   "source": [
    "count = 0\n",
    "for i in t1:\n",
    "    if i==50:\n",
    "        count+=1\n",
    "print(count)"
   ]
  },
  {
   "cell_type": "code",
   "execution_count": 849,
   "id": "db60d184-61a4-479d-bd74-8eff8cd8ce0a",
   "metadata": {
    "tags": []
   },
   "outputs": [
    {
     "name": "stdout",
     "output_type": "stream",
     "text": [
      "All item are same\n"
     ]
    }
   ],
   "source": [
    "t1 = (45, 45, 45, 45,45)\n",
    "same = True\n",
    "for i in t1:\n",
    "    if t1[0]!=i:\n",
    "        same = False\n",
    "if same:\n",
    "    print(\"All item are same\")\n",
    "else:\n",
    "    print(\"No all item are not same\")"
   ]
  },
  {
   "cell_type": "code",
   "execution_count": 851,
   "id": "3491752c-88f5-40d7-82c6-e7834b352876",
   "metadata": {
    "tags": []
   },
   "outputs": [
    {
     "data": {
      "text/plain": [
       "{'Black', 'Blue', 'Green', 'Orange', 'Red', 'Yellow'}"
      ]
     },
     "execution_count": 851,
     "metadata": {},
     "output_type": "execute_result"
    }
   ],
   "source": [
    "sample_set = {\"Yellow\", \"Orange\", \"Black\"}\n",
    "sample_list = [\"Blue\", \"Green\", \"Red\"]\n",
    "for i in sample_list:\n",
    "    sample_set.add(i)\n",
    "sample_set"
   ]
  },
  {
   "cell_type": "code",
   "execution_count": 860,
   "id": "7d302b91-2fc6-4833-b00a-5f40e790fff9",
   "metadata": {
    "tags": []
   },
   "outputs": [
    {
     "data": {
      "text/plain": [
       "{10, 20, 30, 40, 50, 60, 70}"
      ]
     },
     "execution_count": 860,
     "metadata": {},
     "output_type": "execute_result"
    }
   ],
   "source": [
    "set1 = {10, 20, 30, 40, 50}\n",
    "set2 = {30, 40, 50, 60, 70}\n",
    "set3 = set1 | set2\n",
    "set3"
   ]
  },
  {
   "cell_type": "code",
   "execution_count": 853,
   "id": "b4b4c80d-41f1-4b64-b19f-874e4cf5bbdc",
   "metadata": {
    "tags": []
   },
   "outputs": [
    {
     "data": {
      "text/plain": [
       "{30, 40, 50}"
      ]
     },
     "execution_count": 853,
     "metadata": {},
     "output_type": "execute_result"
    }
   ],
   "source": [
    "set3"
   ]
  },
  {
   "cell_type": "code",
   "execution_count": 855,
   "id": "6d6278ab-2177-4d54-9fd8-79a6159d234f",
   "metadata": {
    "tags": []
   },
   "outputs": [
    {
     "name": "stdout",
     "output_type": "stream",
     "text": [
      "['__and__', '__class__', '__class_getitem__', '__contains__', '__delattr__', '__dir__', '__doc__', '__eq__', '__format__', '__ge__', '__getattribute__', '__getstate__', '__gt__', '__hash__', '__iand__', '__init__', '__init_subclass__', '__ior__', '__isub__', '__iter__', '__ixor__', '__le__', '__len__', '__lt__', '__ne__', '__new__', '__or__', '__rand__', '__reduce__', '__reduce_ex__', '__repr__', '__ror__', '__rsub__', '__rxor__', '__setattr__', '__sizeof__', '__str__', '__sub__', '__subclasshook__', '__xor__', 'add', 'clear', 'copy', 'difference', 'difference_update', 'discard', 'intersection', 'intersection_update', 'isdisjoint', 'issubset', 'issuperset', 'pop', 'remove', 'symmetric_difference', 'symmetric_difference_update', 'union', 'update']\n"
     ]
    }
   ],
   "source": [
    "print(dir(set))"
   ]
  },
  {
   "cell_type": "code",
   "execution_count": 856,
   "id": "871465aa-0b6e-428d-849c-2f51f0a8af5c",
   "metadata": {
    "tags": []
   },
   "outputs": [
    {
     "data": {
      "text/plain": [
       "{30, 40, 50}"
      ]
     },
     "execution_count": 856,
     "metadata": {},
     "output_type": "execute_result"
    }
   ],
   "source": [
    "set1.intersection(set2)"
   ]
  },
  {
   "cell_type": "code",
   "execution_count": 876,
   "id": "33ab861f-a7c7-4c2d-b13b-4cc59994fa5c",
   "metadata": {
    "tags": []
   },
   "outputs": [
    {
     "name": "stdin",
     "output_type": "stream",
     "text": [
      " set\n"
     ]
    },
    {
     "name": "stdout",
     "output_type": "stream",
     "text": [
      "capitalize\n",
      "casefold\n",
      "center\n",
      "count\n",
      "encode\n",
      "endswith\n",
      "expandtabs\n",
      "find\n",
      "format\n",
      "format_map\n",
      "index\n",
      "isalnum\n",
      "isalpha\n",
      "isascii\n",
      "isdecimal\n",
      "isdigit\n",
      "isidentifier\n",
      "islower\n",
      "isnumeric\n",
      "isprintable\n",
      "isspace\n",
      "istitle\n",
      "isupper\n",
      "join\n",
      "ljust\n",
      "lower\n",
      "lstrip\n",
      "maketrans\n",
      "partition\n",
      "removeprefix\n",
      "removesuffix\n",
      "replace\n",
      "rfind\n",
      "rindex\n",
      "rjust\n",
      "rpartition\n",
      "rsplit\n",
      "rstrip\n",
      "split\n",
      "splitlines\n",
      "startswith\n",
      "strip\n",
      "swapcase\n",
      "title\n",
      "translate\n",
      "upper\n",
      "zfill\n"
     ]
    }
   ],
   "source": [
    "meth = input()\n",
    "for i in dir(meth):\n",
    "    if i[0]!= \"_\":\n",
    "        print(i)"
   ]
  },
  {
   "cell_type": "code",
   "execution_count": 870,
   "id": "f88e14dc-d6d5-4c2f-a2ff-38d71587e02c",
   "metadata": {
    "tags": []
   },
   "outputs": [
    {
     "name": "stdout",
     "output_type": "stream",
     "text": [
      "{70, 40, 10, 50, 20, 60, 30}\n",
      "{70, 40, 10, 50, 20, 60, 30}\n"
     ]
    }
   ],
   "source": [
    "set1 = {10, 20, 30, 40, 50}\n",
    "set2 = {30, 40, 50, 60, 70}\n",
    "print(set1|set2)\n",
    "print(set1.union(set2))"
   ]
  },
  {
   "cell_type": "code",
   "execution_count": 871,
   "id": "ac13166f-5269-447c-89fc-d10c61f04090",
   "metadata": {
    "tags": []
   },
   "outputs": [
    {
     "name": "stdout",
     "output_type": "stream",
     "text": [
      "set1:  {10, 30}\n"
     ]
    }
   ],
   "source": [
    "set1 = {10, 20, 30}\n",
    "set2 = {20, 40, 50}\n",
    "set1 = set1-set2\n",
    "print(\"set1: \",set1)"
   ]
  },
  {
   "cell_type": "code",
   "execution_count": 873,
   "id": "fb4c8f52-f658-4902-8337-3d79d6dc036c",
   "metadata": {
    "tags": []
   },
   "outputs": [
    {
     "name": "stdout",
     "output_type": "stream",
     "text": [
      "{40, 50}\n"
     ]
    }
   ],
   "source": [
    "set1 = {10, 20, 30, 40, 50}\n",
    "set1 = set1 - {10,20,30}\n",
    "print(set1)"
   ]
  },
  {
   "cell_type": "code",
   "execution_count": 875,
   "id": "01029523-b6f5-41ad-a793-9d8b3c03ab29",
   "metadata": {
    "tags": []
   },
   "outputs": [
    {
     "name": "stdout",
     "output_type": "stream",
     "text": [
      "{20, 70, 10, 60}\n"
     ]
    }
   ],
   "source": [
    "set1 = {10, 20, 30, 40, 50}\n",
    "set2 = {30, 40, 50, 60, 70}\n",
    "set1.difference(set2)\n",
    "print(set1 ^ set2)"
   ]
  },
  {
   "cell_type": "code",
   "execution_count": 879,
   "id": "e5dc23a0-42d0-42ba-9370-ed4863db8383",
   "metadata": {
    "tags": []
   },
   "outputs": [
    {
     "name": "stdout",
     "output_type": "stream",
     "text": [
      "It has {10} element common\n"
     ]
    }
   ],
   "source": [
    "set1 = {10, 20, 30, 40, 50}\n",
    "set2 = {60, 70, 80, 90, 10}\n",
    "\n",
    "if set1&set2 != {}:\n",
    "    print(f\"It has {set1&set2} element common\")\n",
    "else:\n",
    "    print(\"No item is common\")"
   ]
  },
  {
   "cell_type": "code",
   "execution_count": 885,
   "id": "38a90832-f175-42b3-bae5-f98043587944",
   "metadata": {
    "tags": []
   },
   "outputs": [
    {
     "data": {
      "text/plain": [
       "{10, 20, 60, 70}"
      ]
     },
     "execution_count": 885,
     "metadata": {},
     "output_type": "execute_result"
    }
   ],
   "source": [
    "set1 = {10, 20, 30, 40, 50}\n",
    "set2 = {30, 40, 50, 60, 70}\n",
    "set1 =  set1 ^ set2\n",
    "set1"
   ]
  },
  {
   "cell_type": "code",
   "execution_count": 888,
   "id": "038bc1b9-5751-4ddb-ba6e-8416dc060aab",
   "metadata": {
    "tags": []
   },
   "outputs": [
    {
     "data": {
      "text/plain": [
       "{30, 40, 50}"
      ]
     },
     "execution_count": 888,
     "metadata": {},
     "output_type": "execute_result"
    }
   ],
   "source": [
    "set1 = {10, 20, 30, 40, 50}\n",
    "set2 = {30, 40, 50, 60, 70}\n",
    "set1 = set1 & set2\n",
    "set1"
   ]
  },
  {
   "cell_type": "code",
   "execution_count": 889,
   "id": "d7bea85b-ac74-476e-ac88-d7ce4ec497f5",
   "metadata": {
    "tags": []
   },
   "outputs": [
    {
     "data": {
      "text/plain": [
       "{'Ten': 10, 'Twenty': 20, 'Thirty': 30}"
      ]
     },
     "execution_count": 889,
     "metadata": {},
     "output_type": "execute_result"
    }
   ],
   "source": [
    "keys = ['Ten', 'Twenty', 'Thirty']\n",
    "values = [10, 20, 30]\n",
    "\n",
    "d = {}\n",
    "for i in range(len(keys)):\n",
    "    d[keys[i]] = values[i]\n",
    "d"
   ]
  },
  {
   "cell_type": "code",
   "execution_count": 894,
   "id": "65ad698b-3aac-4af7-93f6-4c7c13615cbd",
   "metadata": {
    "tags": []
   },
   "outputs": [
    {
     "data": {
      "text/plain": [
       "{'Ten': 10, 'Twenty': 20, 'Thirty': 30, 'Forty': 40, 'Fifty': 50}"
      ]
     },
     "execution_count": 894,
     "metadata": {},
     "output_type": "execute_result"
    }
   ],
   "source": [
    "dict1 = {'Ten': 10, 'Twenty': 20, 'Thirty': 30}\n",
    "dict2 = {'Thirty': 30, 'Forty': 40, 'Fifty': 50}\n",
    "dict1.update(dict2)\n",
    "dict1"
   ]
  },
  {
   "cell_type": "code",
   "execution_count": 892,
   "id": "c379183f-d882-483a-86ba-75f67518e630",
   "metadata": {
    "tags": []
   },
   "outputs": [
    {
     "name": "stdout",
     "output_type": "stream",
     "text": [
      "['__class__', '__class_getitem__', '__contains__', '__delattr__', '__delitem__', '__dir__', '__doc__', '__eq__', '__format__', '__ge__', '__getattribute__', '__getitem__', '__getstate__', '__gt__', '__hash__', '__init__', '__init_subclass__', '__ior__', '__iter__', '__le__', '__len__', '__lt__', '__ne__', '__new__', '__or__', '__reduce__', '__reduce_ex__', '__repr__', '__reversed__', '__ror__', '__setattr__', '__setitem__', '__sizeof__', '__str__', '__subclasshook__', 'clear', 'copy', 'fromkeys', 'get', 'items', 'keys', 'pop', 'popitem', 'setdefault', 'update', 'values']\n"
     ]
    }
   ],
   "source": [
    "print(dir(dict))"
   ]
  },
  {
   "cell_type": "code",
   "execution_count": 895,
   "id": "592b2060-8880-439e-a642-035e0f052b46",
   "metadata": {
    "tags": []
   },
   "outputs": [],
   "source": [
    "sampleDict = {\n",
    "\"class\": {\n",
    "\"student\": {\n",
    "\"name\": \"Anjali\",\n",
    "\"marks\": {\n",
    "\"physics\": 70,\n",
    "\"history\": 80\n",
    "}\n",
    "}\n",
    "}\n",
    "}"
   ]
  },
  {
   "cell_type": "code",
   "execution_count": 896,
   "id": "7c043e43-9fb5-47db-9ecb-c1670041dae7",
   "metadata": {
    "tags": []
   },
   "outputs": [
    {
     "data": {
      "text/plain": [
       "{'class': {'student': {'name': 'Anjali',\n",
       "   'marks': {'physics': 70, 'history': 80}}}}"
      ]
     },
     "execution_count": 896,
     "metadata": {},
     "output_type": "execute_result"
    }
   ],
   "source": [
    "sampleDict"
   ]
  },
  {
   "cell_type": "code",
   "execution_count": 901,
   "id": "77a70213-aef5-4844-9206-c690d64320b4",
   "metadata": {
    "tags": []
   },
   "outputs": [
    {
     "data": {
      "text/plain": [
       "80"
      ]
     },
     "execution_count": 901,
     "metadata": {},
     "output_type": "execute_result"
    }
   ],
   "source": [
    "sampleDict['class']['student']['marks']['history']"
   ]
  },
  {
   "cell_type": "code",
   "execution_count": 905,
   "id": "77ed03a1-8f92-406f-a5d4-bbdb4bb64ed7",
   "metadata": {
    "tags": []
   },
   "outputs": [
    {
     "data": {
      "text/plain": [
       "{'Shyam': {'designation': 'Developer', 'salary': 8000},\n",
       " 'Radha': {'designation': 'Developer', 'salary': 8000}}"
      ]
     },
     "execution_count": 905,
     "metadata": {},
     "output_type": "execute_result"
    }
   ],
   "source": [
    "employees = ['Shyam', 'Radha']\n",
    "defaults = {'designation': 'Developer', 'salary': 8000}\n",
    "d1 = {}\n",
    "for i in employees:\n",
    "    d1[i] = defaults\n",
    "d1"
   ]
  },
  {
   "cell_type": "code",
   "execution_count": 902,
   "id": "97ef4ac5-37b5-4e6a-af2f-ed95d98439f6",
   "metadata": {
    "tags": []
   },
   "outputs": [
    {
     "data": {
      "text/plain": [
       "['__class__',\n",
       " '__class_getitem__',\n",
       " '__contains__',\n",
       " '__delattr__',\n",
       " '__delitem__',\n",
       " '__dir__',\n",
       " '__doc__',\n",
       " '__eq__',\n",
       " '__format__',\n",
       " '__ge__',\n",
       " '__getattribute__',\n",
       " '__getitem__',\n",
       " '__getstate__',\n",
       " '__gt__',\n",
       " '__hash__',\n",
       " '__init__',\n",
       " '__init_subclass__',\n",
       " '__ior__',\n",
       " '__iter__',\n",
       " '__le__',\n",
       " '__len__',\n",
       " '__lt__',\n",
       " '__ne__',\n",
       " '__new__',\n",
       " '__or__',\n",
       " '__reduce__',\n",
       " '__reduce_ex__',\n",
       " '__repr__',\n",
       " '__reversed__',\n",
       " '__ror__',\n",
       " '__setattr__',\n",
       " '__setitem__',\n",
       " '__sizeof__',\n",
       " '__str__',\n",
       " '__subclasshook__',\n",
       " 'clear',\n",
       " 'copy',\n",
       " 'fromkeys',\n",
       " 'get',\n",
       " 'items',\n",
       " 'keys',\n",
       " 'pop',\n",
       " 'popitem',\n",
       " 'setdefault',\n",
       " 'update',\n",
       " 'values']"
      ]
     },
     "execution_count": 902,
     "metadata": {},
     "output_type": "execute_result"
    }
   ],
   "source": [
    "dir(dict)"
   ]
  },
  {
   "cell_type": "code",
   "execution_count": 906,
   "id": "b6dc736e-ea07-4e99-8bb9-173ab3a631aa",
   "metadata": {
    "tags": []
   },
   "outputs": [
    {
     "data": {
      "text/plain": [
       "{'name': 'Anjali', 'salary': 80000}"
      ]
     },
     "execution_count": 906,
     "metadata": {},
     "output_type": "execute_result"
    }
   ],
   "source": [
    "sample_dict = {\n",
    "\"name\": \"Anjali\",\n",
    "\"subject\": \"Python\",\n",
    "\"salary\": 80000,\n",
    "\"city\": \"Ratlam\"}\n",
    "keys = [\"name\", \"salary\"]\n",
    "d = {}\n",
    "for i in keys:\n",
    "    d[i] = sample_dict[i]\n",
    "d"
   ]
  },
  {
   "cell_type": "code",
   "execution_count": 908,
   "id": "de532eca-76a3-46d4-a821-98bfaa850017",
   "metadata": {
    "tags": []
   },
   "outputs": [
    {
     "data": {
      "text/plain": [
       "{'subject': 'Python', 'city': 'Ratlam'}"
      ]
     },
     "execution_count": 908,
     "metadata": {},
     "output_type": "execute_result"
    }
   ],
   "source": [
    "sample_dict = {\n",
    "\"name\": \"Anjali\",\n",
    "\"subject\": \"Python\",\n",
    "\"salary\": 80000,\n",
    "\"city\": \"Ratlam\"}\n",
    "keys = [\"name\", \"salary\"]\n",
    "d = {}\n",
    "for i in sample_dict.keys():\n",
    "    if i not in keys:\n",
    "        d[i] = sample_dict[i]\n",
    "d"
   ]
  },
  {
   "cell_type": "code",
   "execution_count": 909,
   "id": "06f86f66-64da-4cac-81bb-36a6931d2c12",
   "metadata": {
    "tags": []
   },
   "outputs": [
    {
     "name": "stdout",
     "output_type": "stream",
     "text": [
      " 200 is present in dict \n"
     ]
    }
   ],
   "source": [
    "sample_dict = {'a': 100, 'b': 200, 'c': 300}\n",
    "if 200 in sample_dict.values():\n",
    "    print(\" 200 is present in dict \")\n",
    "else:\n",
    "    print(\"its not present\")"
   ]
  },
  {
   "cell_type": "code",
   "execution_count": 910,
   "id": "4e55c909-7607-49d1-a067-ed9e98eb7d59",
   "metadata": {
    "tags": []
   },
   "outputs": [
    {
     "data": {
      "text/plain": [
       "{'name': 'Radha', 'age': 25, 'salary': 8000, 'location': 'Indore'}"
      ]
     },
     "execution_count": 910,
     "metadata": {},
     "output_type": "execute_result"
    }
   ],
   "source": [
    "sample_dict = {\n",
    "\"name\": \"Radha\",\n",
    "\"age\":25,\n",
    "\"salary\": 8000,\n",
    "\"city\": \"Indore\"\n",
    "}\n",
    "sample_dict['location'] = sample_dict['city']\n",
    "sample_dict.pop(\"city\")\n",
    "sample_dict"
   ]
  },
  {
   "cell_type": "code",
   "execution_count": 918,
   "id": "5e56fa1b-5ab7-4a86-9bde-19717beb4825",
   "metadata": {
    "tags": []
   },
   "outputs": [
    {
     "data": {
      "text/plain": [
       "'Hello'"
      ]
     },
     "execution_count": 918,
     "metadata": {},
     "output_type": "execute_result"
    }
   ],
   "source": [
    "d = {\n",
    "'Physics': 82,\n",
    "'Math': 65,\n",
    "'History': 75,\n",
    "    \"Hello\":2\n",
    "    \n",
    "}\n",
    "sub = list(d.keys())\n",
    "marks = list(d.values())\n",
    "min_marks = min(marks)\n",
    "sub[marks.index(min_marks)]"
   ]
  },
  {
   "cell_type": "code",
   "execution_count": 919,
   "id": "2bd4f3d5-e585-41d1-ac43-a290f4d86f3f",
   "metadata": {
    "tags": []
   },
   "outputs": [
    {
     "data": {
      "text/plain": [
       "{'emp1': {'name': 'Shubham', 'salary': 7500},\n",
       " 'emp2': {'name': 'Lalit', 'salary': 8000},\n",
       " 'emp3': {'name': 'Bablu', 'salary': 85000}}"
      ]
     },
     "execution_count": 919,
     "metadata": {},
     "output_type": "execute_result"
    }
   ],
   "source": [
    "sample_dict = {\n",
    "'emp1': {'name': 'Shubham', 'salary': 7500},\n",
    "'emp2': {'name': 'Lalit', 'salary': 8000},\n",
    "'emp3': {'name': 'Bablu', 'salary': 500}\n",
    "}\n",
    "sample_dict['emp3']['salary'] = 85000\n",
    "sample_dict"
   ]
  },
  {
   "cell_type": "code",
   "execution_count": 926,
   "id": "d47a242a-5239-42a0-9ed8-32cd96edbc0a",
   "metadata": {
    "tags": []
   },
   "outputs": [
    {
     "name": "stdout",
     "output_type": "stream",
     "text": [
      "ita\n"
     ]
    }
   ],
   "source": [
    "str1 = \"iotaa\"\n",
    "print(str1[0],str1[len(str1)//2],str1[-1],sep=\"\")"
   ]
  },
  {
   "cell_type": "code",
   "execution_count": 934,
   "id": "76297d57-2aed-4fd8-9fb5-12f3bdad794e",
   "metadata": {
    "tags": []
   },
   "outputs": [
    {
     "data": {
      "text/plain": [
       "'OTA'"
      ]
     },
     "execution_count": 934,
     "metadata": {},
     "output_type": "execute_result"
    }
   ],
   "source": [
    "str1 = \"helloIOTAcademy\"\n",
    "mid = len(str1)//2\n",
    "str1[mid-1:mid+2]"
   ]
  },
  {
   "cell_type": "code",
   "execution_count": 942,
   "id": "d7a110b8-7cd7-4668-b3e5-bd45122b38c3",
   "metadata": {
    "tags": []
   },
   "outputs": [
    {
     "name": "stdout",
     "output_type": "stream",
     "text": [
      "IOAcademyTA\n"
     ]
    }
   ],
   "source": [
    "s1 = \"IOTA\"\n",
    "s2 = \"Academy\"\n",
    "mid = len(s1)//2\n",
    "print(s1[:mid],s2,s1[mid:],sep=\"\")"
   ]
  },
  {
   "cell_type": "code",
   "execution_count": 945,
   "id": "e1834f50-0fbb-4271-8aed-6dc37e447140",
   "metadata": {
    "tags": []
   },
   "outputs": [
    {
     "name": "stdout",
     "output_type": "stream",
     "text": [
      "oacaemyITAD\n"
     ]
    }
   ],
   "source": [
    "str1 = \"IoTaAcaDemy\"\n",
    "lower = 'abcdefghijklmnopqrstuvwxyz'\n",
    "start = \"\"\n",
    "end = \"\"\n",
    "for i in str1:\n",
    "    if i in lower:\n",
    "        start+=i\n",
    "    else:\n",
    "        end+=i\n",
    "print(start,end,sep=\"\")"
   ]
  },
  {
   "cell_type": "code",
   "execution_count": 950,
   "id": "d80cae84-43c5-4053-b15e-4ec2b13a8682",
   "metadata": {
    "tags": []
   },
   "outputs": [
    {
     "name": "stdout",
     "output_type": "stream",
     "text": [
      "total char 11\n",
      "total numbers  3\n",
      "total special char  4\n"
     ]
    }
   ],
   "source": [
    "str1 = \"I@#OT26Aa^&c5ademy\"\n",
    "char = 0\n",
    "num = 0\n",
    "spec = 0\n",
    "for i in str1:\n",
    "    if i.isalpha():\n",
    "        char+=1\n",
    "    elif i.isdigit():\n",
    "        num+=1\n",
    "    else:\n",
    "        spec+=1\n",
    "print(\"total char\",char)\n",
    "print(\"total numbers \", num)\n",
    "print('total special char ',spec)\n",
    "        "
   ]
  },
  {
   "cell_type": "code",
   "execution_count": 948,
   "id": "6953216a-6d9b-4eda-9a26-4a446dfaaefd",
   "metadata": {
    "tags": []
   },
   "outputs": [
    {
     "data": {
      "text/plain": [
       "['__add__',\n",
       " '__class__',\n",
       " '__contains__',\n",
       " '__delattr__',\n",
       " '__dir__',\n",
       " '__doc__',\n",
       " '__eq__',\n",
       " '__format__',\n",
       " '__ge__',\n",
       " '__getattribute__',\n",
       " '__getitem__',\n",
       " '__getnewargs__',\n",
       " '__getstate__',\n",
       " '__gt__',\n",
       " '__hash__',\n",
       " '__init__',\n",
       " '__init_subclass__',\n",
       " '__iter__',\n",
       " '__le__',\n",
       " '__len__',\n",
       " '__lt__',\n",
       " '__mod__',\n",
       " '__mul__',\n",
       " '__ne__',\n",
       " '__new__',\n",
       " '__reduce__',\n",
       " '__reduce_ex__',\n",
       " '__repr__',\n",
       " '__rmod__',\n",
       " '__rmul__',\n",
       " '__setattr__',\n",
       " '__sizeof__',\n",
       " '__str__',\n",
       " '__subclasshook__',\n",
       " 'capitalize',\n",
       " 'casefold',\n",
       " 'center',\n",
       " 'count',\n",
       " 'encode',\n",
       " 'endswith',\n",
       " 'expandtabs',\n",
       " 'find',\n",
       " 'format',\n",
       " 'format_map',\n",
       " 'index',\n",
       " 'isalnum',\n",
       " 'isalpha',\n",
       " 'isascii',\n",
       " 'isdecimal',\n",
       " 'isdigit',\n",
       " 'isidentifier',\n",
       " 'islower',\n",
       " 'isnumeric',\n",
       " 'isprintable',\n",
       " 'isspace',\n",
       " 'istitle',\n",
       " 'isupper',\n",
       " 'join',\n",
       " 'ljust',\n",
       " 'lower',\n",
       " 'lstrip',\n",
       " 'maketrans',\n",
       " 'partition',\n",
       " 'removeprefix',\n",
       " 'removesuffix',\n",
       " 'replace',\n",
       " 'rfind',\n",
       " 'rindex',\n",
       " 'rjust',\n",
       " 'rpartition',\n",
       " 'rsplit',\n",
       " 'rstrip',\n",
       " 'split',\n",
       " 'splitlines',\n",
       " 'startswith',\n",
       " 'strip',\n",
       " 'swapcase',\n",
       " 'title',\n",
       " 'translate',\n",
       " 'upper',\n",
       " 'zfill']"
      ]
     },
     "execution_count": 948,
     "metadata": {},
     "output_type": "execute_result"
    }
   ],
   "source": [
    "dir(str)"
   ]
  },
  {
   "cell_type": "code",
   "execution_count": null,
   "id": "482805d3-e50f-4dae-9b97-f594a0d5f316",
   "metadata": {},
   "outputs": [],
   "source": []
  }
 ],
 "metadata": {
  "kernelspec": {
   "display_name": "Python 3 (ipykernel)",
   "language": "python",
   "name": "python3"
  },
  "language_info": {
   "codemirror_mode": {
    "name": "ipython",
    "version": 3
   },
   "file_extension": ".py",
   "mimetype": "text/x-python",
   "name": "python",
   "nbconvert_exporter": "python",
   "pygments_lexer": "ipython3",
   "version": "3.11.5"
  }
 },
 "nbformat": 4,
 "nbformat_minor": 5
}
