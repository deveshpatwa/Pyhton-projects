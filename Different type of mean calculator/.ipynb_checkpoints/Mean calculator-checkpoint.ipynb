{
 "cells": [
  {
   "cell_type": "code",
   "execution_count": 1,
   "id": "fefc8382-268f-4c75-b55b-009914bd741f",
   "metadata": {},
   "outputs": [],
   "source": [
    "# Arithmatic mean calculator\n",
    "def am(lst):\n",
    "    total = 0\n",
    "    for i in lst:\n",
    "        total += i\n",
    "    return total / len(lst)"
   ]
  },
  {
   "cell_type": "code",
   "execution_count": 7,
   "id": "78051abc-e7ca-40bc-8a5d-35d924ee5757",
   "metadata": {},
   "outputs": [],
   "source": [
    "def hm(lst):\n",
    "    length = len(lst)\n",
    "    total = 0\n",
    "    for i in lst:\n",
    "        total += 1/i\n",
    "    return round(length/total,2)"
   ]
  },
  {
   "cell_type": "code",
   "execution_count": 3,
   "id": "2cb4c5b4-c352-44e9-9219-bab1712b4b48",
   "metadata": {},
   "outputs": [
    {
     "data": {
      "text/plain": [
       "4.8"
      ]
     },
     "execution_count": 3,
     "metadata": {},
     "output_type": "execute_result"
    }
   ],
   "source": [
    "am([2,3,4,7,8])"
   ]
  },
  {
   "cell_type": "code",
   "execution_count": 4,
   "id": "26cfd363-da4e-4a6b-8238-05abfe920787",
   "metadata": {},
   "outputs": [
    {
     "data": {
      "text/plain": [
       "50.0"
      ]
     },
     "execution_count": 4,
     "metadata": {},
     "output_type": "execute_result"
    }
   ],
   "source": [
    "am([40,60])"
   ]
  },
  {
   "cell_type": "code",
   "execution_count": 8,
   "id": "394d9433-d355-44b6-9e1a-51d9a818b6b2",
   "metadata": {},
   "outputs": [
    {
     "data": {
      "text/plain": [
       "48.0"
      ]
     },
     "execution_count": 8,
     "metadata": {},
     "output_type": "execute_result"
    }
   ],
   "source": [
    "hm([40,60])"
   ]
  },
  {
   "cell_type": "code",
   "execution_count": 13,
   "id": "c570ca8b-e90c-4fd7-967b-03aa5417408d",
   "metadata": {},
   "outputs": [
    {
     "data": {
      "text/plain": [
       "47.99999999999999"
      ]
     },
     "execution_count": 13,
     "metadata": {},
     "output_type": "execute_result"
    }
   ],
   "source": [
    "2/((1/40)+(1/60))"
   ]
  },
  {
   "cell_type": "code",
   "execution_count": 20,
   "id": "82feb928-8a58-4e52-a4b0-cb379d08decb",
   "metadata": {},
   "outputs": [],
   "source": [
    "def gm(lst):    #Geomatric mean\n",
    "    prod = 1\n",
    "    for i in lst:\n",
    "        prod *= i\n",
    "    return round( prod ** (1/len(lst)) ,2)"
   ]
  },
  {
   "cell_type": "code",
   "execution_count": 21,
   "id": "8e46537e-8fa9-4c41-82ff-5643f1309fff",
   "metadata": {},
   "outputs": [
    {
     "data": {
      "text/plain": [
       "18.17"
      ]
     },
     "execution_count": 21,
     "metadata": {},
     "output_type": "execute_result"
    }
   ],
   "source": [
    "gm([10,20,30])"
   ]
  },
  {
   "cell_type": "code",
   "execution_count": 22,
   "id": "ca5d5de1-5e4d-44ed-adb9-907151452640",
   "metadata": {},
   "outputs": [
    {
     "data": {
      "text/plain": [
       "(20.0, 18.17, 16.36)"
      ]
     },
     "execution_count": 22,
     "metadata": {},
     "output_type": "execute_result"
    }
   ],
   "source": [
    "l = [10,20,30]\n",
    "am(l),gm(l),hm(l)"
   ]
  },
  {
   "cell_type": "code",
   "execution_count": null,
   "id": "2139cc23-d30b-4002-a0ad-bbf01c0ad94c",
   "metadata": {},
   "outputs": [],
   "source": []
  }
 ],
 "metadata": {
  "kernelspec": {
   "display_name": "Python 3 (ipykernel)",
   "language": "python",
   "name": "python3"
  },
  "language_info": {
   "codemirror_mode": {
    "name": "ipython",
    "version": 3
   },
   "file_extension": ".py",
   "mimetype": "text/x-python",
   "name": "python",
   "nbconvert_exporter": "python",
   "pygments_lexer": "ipython3",
   "version": "3.12.7"
  }
 },
 "nbformat": 4,
 "nbformat_minor": 5
}
