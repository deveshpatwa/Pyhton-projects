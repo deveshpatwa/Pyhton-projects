{
 "cells": [
  {
   "cell_type": "code",
   "execution_count": 3,
   "id": "92026014-c59e-4c5f-bc7e-75732f2992b4",
   "metadata": {
    "tags": []
   },
   "outputs": [],
   "source": [
    "from PIL import Image\n",
    "\n",
    "def compress_image(image_path, quality=50):\n",
    "  img = Image.open(image_path)\n",
    "  img.save(\"compressed_i.JPG\", optimize=True, quality=quality)\n",
    "\n",
    "# Example usage:\n",
    "compress_image(\"i.JPG\", quality=85) \n"
   ]
  },
  {
   "cell_type": "code",
   "execution_count": null,
   "id": "82500b03-d87f-4664-b832-d9d7cebddeb3",
   "metadata": {},
   "outputs": [],
   "source": []
  }
 ],
 "metadata": {
  "kernelspec": {
   "display_name": "Python 3 (ipykernel)",
   "language": "python",
   "name": "python3"
  },
  "language_info": {
   "codemirror_mode": {
    "name": "ipython",
    "version": 3
   },
   "file_extension": ".py",
   "mimetype": "text/x-python",
   "name": "python",
   "nbconvert_exporter": "python",
   "pygments_lexer": "ipython3",
   "version": "3.11.5"
  }
 },
 "nbformat": 4,
 "nbformat_minor": 5
}
