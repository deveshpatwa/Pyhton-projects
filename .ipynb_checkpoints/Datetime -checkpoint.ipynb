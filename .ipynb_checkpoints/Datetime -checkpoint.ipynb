{
 "cells": [
  {
   "cell_type": "code",
   "execution_count": 1,
   "id": "db277228-ffb0-4cb8-b7bf-4b1e894957c3",
   "metadata": {},
   "outputs": [],
   "source": [
    "import datetime as dt"
   ]
  },
  {
   "cell_type": "code",
   "execution_count": null,
   "id": "db87b4b1-8f74-452e-9b43-007d15ed5f61",
   "metadata": {},
   "outputs": [],
   "source": []
  },
  {
   "cell_type": "code",
   "execution_count": 81,
   "id": "a4d50fd6-9617-4f16-b0b9-675a779d8179",
   "metadata": {},
   "outputs": [],
   "source": [
    "from datetime import datetime, time, timedelta"
   ]
  },
  {
   "cell_type": "code",
   "execution_count": 11,
   "id": "cb752ed6-7cca-4591-ab75-1979c19f82d1",
   "metadata": {},
   "outputs": [],
   "source": [
    "today = datetime.now()"
   ]
  },
  {
   "cell_type": "code",
   "execution_count": 12,
   "id": "4bdfe73b-f9c4-4cea-bd64-17899f69f8e1",
   "metadata": {},
   "outputs": [
    {
     "data": {
      "text/plain": [
       "2025"
      ]
     },
     "execution_count": 12,
     "metadata": {},
     "output_type": "execute_result"
    }
   ],
   "source": [
    "today.year"
   ]
  },
  {
   "cell_type": "code",
   "execution_count": 13,
   "id": "f408fb0f-5cdd-4fc5-83c7-498d128ebbfa",
   "metadata": {},
   "outputs": [
    {
     "data": {
      "text/plain": [
       "6"
      ]
     },
     "execution_count": 13,
     "metadata": {},
     "output_type": "execute_result"
    }
   ],
   "source": [
    "today.day"
   ]
  },
  {
   "cell_type": "code",
   "execution_count": 14,
   "id": "532d2c29-0ddd-45b4-a4d4-c525e66a9ebf",
   "metadata": {},
   "outputs": [
    {
     "data": {
      "text/plain": [
       "36"
      ]
     },
     "execution_count": 14,
     "metadata": {},
     "output_type": "execute_result"
    }
   ],
   "source": [
    "today.second"
   ]
  },
  {
   "cell_type": "code",
   "execution_count": 17,
   "id": "fa212e33-37c3-4023-a62b-e0fdac103f26",
   "metadata": {},
   "outputs": [],
   "source": [
    "delta = datetime.now() - datetime(2000,4,4)"
   ]
  },
  {
   "cell_type": "code",
   "execution_count": 22,
   "id": "0957e556-b9fe-42bb-92bc-405dd5f41f8f",
   "metadata": {},
   "outputs": [
    {
     "data": {
      "text/plain": [
       "datetime.timedelta"
      ]
     },
     "execution_count": 22,
     "metadata": {},
     "output_type": "execute_result"
    }
   ],
   "source": [
    "type(delta)"
   ]
  },
  {
   "cell_type": "code",
   "execution_count": 24,
   "id": "42580ff3-72ce-4e37-848b-dfcc04fdb8b8",
   "metadata": {},
   "outputs": [
    {
     "data": {
      "text/plain": [
       "datetime.timedelta(days=9074, seconds=53822, microseconds=904826)"
      ]
     },
     "execution_count": 24,
     "metadata": {},
     "output_type": "execute_result"
    }
   ],
   "source": [
    "delta"
   ]
  },
  {
   "cell_type": "code",
   "execution_count": 25,
   "id": "40325dd9-7950-4141-bbc6-c3465e7dee47",
   "metadata": {},
   "outputs": [],
   "source": [
    "delta = timedelta(days=10)"
   ]
  },
  {
   "cell_type": "code",
   "execution_count": 27,
   "id": "5763229e-3f7d-49ad-ac1c-127ac2c78672",
   "metadata": {},
   "outputs": [
    {
     "data": {
      "text/plain": [
       "datetime.datetime(2025, 2, 16, 15, 3, 17, 322609)"
      ]
     },
     "execution_count": 27,
     "metadata": {},
     "output_type": "execute_result"
    }
   ],
   "source": [
    "datetime.now() +timedelta(days=10)"
   ]
  },
  {
   "cell_type": "code",
   "execution_count": 35,
   "id": "c138c3cf-30d2-457b-850b-36c7d77b0b0c",
   "metadata": {},
   "outputs": [
    {
     "name": "stdout",
     "output_type": "stream",
     "text": [
      "<built-in method date of datetime.datetime object at 0x000001D6B0A80F60>\n"
     ]
    }
   ],
   "source": [
    "print(datetime.now().date)"
   ]
  },
  {
   "cell_type": "code",
   "execution_count": 36,
   "id": "fb5b7f64-b625-4ea4-bb13-50c8b1022ddc",
   "metadata": {},
   "outputs": [
    {
     "data": {
      "text/plain": [
       "datetime.datetime(2025, 2, 13, 15, 6, 52, 566242)"
      ]
     },
     "execution_count": 36,
     "metadata": {},
     "output_type": "execute_result"
    }
   ],
   "source": [
    "datetime.now() +timedelta(weeks=1)"
   ]
  },
  {
   "cell_type": "code",
   "execution_count": 39,
   "id": "3d8dd569-94cf-4c7c-bff6-12db18aa74b8",
   "metadata": {},
   "outputs": [
    {
     "data": {
      "text/plain": [
       "datetime.timedelta(0)"
      ]
     },
     "execution_count": 39,
     "metadata": {},
     "output_type": "execute_result"
    }
   ],
   "source": [
    "start = datetime.now()\n",
    "for i in range(1000):\n",
    "    i * i\n",
    "end = datetime.now()\n",
    "end-start"
   ]
  },
  {
   "cell_type": "code",
   "execution_count": 42,
   "id": "473ba45a-e11d-4538-b974-a18ad7f9767d",
   "metadata": {},
   "outputs": [
    {
     "data": {
      "text/plain": [
       "datetime.timedelta(days=999999999, seconds=86399, microseconds=999999)"
      ]
     },
     "execution_count": 42,
     "metadata": {},
     "output_type": "execute_result"
    }
   ],
   "source": [
    "timedelta.max"
   ]
  },
  {
   "cell_type": "code",
   "execution_count": 43,
   "id": "acdffb98-0207-4ebb-935b-3918d69865db",
   "metadata": {},
   "outputs": [
    {
     "data": {
      "text/plain": [
       "datetime.timedelta(days=10)"
      ]
     },
     "execution_count": 43,
     "metadata": {},
     "output_type": "execute_result"
    }
   ],
   "source": [
    "abs(delta)"
   ]
  },
  {
   "cell_type": "code",
   "execution_count": 45,
   "id": "50587e14-a947-47ec-aa1f-db30c41aebd8",
   "metadata": {},
   "outputs": [
    {
     "name": "stdout",
     "output_type": "stream",
     "text": [
      "2025-02-06 15:15:15.194087\n",
      "2025-02-07 15:15:15.194087\n",
      "2025-02-08 15:15:15.194087\n",
      "2025-02-09 15:15:15.194087\n",
      "2025-02-10 15:15:15.194087\n",
      "2025-02-11 15:15:15.194087\n",
      "2025-02-12 15:15:15.194087\n",
      "2025-02-13 15:15:15.194087\n",
      "2025-02-14 15:15:15.194087\n",
      "2025-02-15 15:15:15.194087\n"
     ]
    }
   ],
   "source": [
    "today = datetime.now()\n",
    "for i in range(10):\n",
    "    print(today)\n",
    "    today = today+timedelta(days=1)"
   ]
  },
  {
   "cell_type": "code",
   "execution_count": 49,
   "id": "a525eeca-c471-4845-a820-cbe2125c21e7",
   "metadata": {},
   "outputs": [
    {
     "data": {
      "text/plain": [
       "datetime.datetime(2025, 2, 28, 15, 15, 15, 194087)"
      ]
     },
     "execution_count": 49,
     "metadata": {},
     "output_type": "execute_result"
    }
   ],
   "source": [
    "today.replace(day=28)"
   ]
  },
  {
   "cell_type": "code",
   "execution_count": 63,
   "id": "e8332569-9867-425e-9e55-b4a909c1b93d",
   "metadata": {},
   "outputs": [
    {
     "data": {
      "text/plain": [
       "datetime.datetime(2025, 2, 6, 15, 21, 12, 969350)"
      ]
     },
     "execution_count": 63,
     "metadata": {},
     "output_type": "execute_result"
    }
   ],
   "source": [
    "today = datetime.now()\n",
    "today"
   ]
  },
  {
   "cell_type": "code",
   "execution_count": 64,
   "id": "1fec5fbf-2695-4577-b78b-77d87733e49d",
   "metadata": {},
   "outputs": [],
   "source": [
    "first = today.replace(day=1)"
   ]
  },
  {
   "cell_type": "code",
   "execution_count": 65,
   "id": "4834766f-4ebf-43f5-9ced-48afa206b092",
   "metadata": {},
   "outputs": [],
   "source": [
    "last_day_of_last_month = first - timedelta(days=1)"
   ]
  },
  {
   "cell_type": "code",
   "execution_count": 66,
   "id": "7d03c26c-d10e-4dcd-9262-e40a6768b21d",
   "metadata": {},
   "outputs": [],
   "source": [
    "firstday_of_last_month = last_day_of_last_month.replace(day=1)"
   ]
  },
  {
   "cell_type": "code",
   "execution_count": 67,
   "id": "1c547542-e30f-46c4-a425-b2a6275ac1fd",
   "metadata": {},
   "outputs": [],
   "source": [
    "day = firstday_of_last_month\n",
    "while day == last_day_of_last_month:\n",
    "    print(day)\n",
    "    day += timedelta(days=1)"
   ]
  },
  {
   "cell_type": "code",
   "execution_count": 74,
   "id": "5c66e55a-af33-4c29-9abd-f0fd3b670807",
   "metadata": {},
   "outputs": [],
   "source": [
    "total_days = (last_day_of_last_month-firstday_of_last_month).days"
   ]
  },
  {
   "cell_type": "code",
   "execution_count": 77,
   "id": "ab056d1b-64fc-4095-a663-4fea8957501f",
   "metadata": {},
   "outputs": [
    {
     "data": {
      "text/plain": [
       "datetime.datetime(2025, 1, 1, 15, 21, 12, 969350)"
      ]
     },
     "execution_count": 77,
     "metadata": {},
     "output_type": "execute_result"
    }
   ],
   "source": [
    "firstday_of_last_month"
   ]
  },
  {
   "cell_type": "code",
   "execution_count": 78,
   "id": "aa1cc35c-4247-4736-a5db-dd7217a19bdb",
   "metadata": {},
   "outputs": [
    {
     "data": {
      "text/plain": [
       "datetime.datetime(2025, 1, 31, 15, 21, 12, 969350)"
      ]
     },
     "execution_count": 78,
     "metadata": {},
     "output_type": "execute_result"
    }
   ],
   "source": [
    "last_day_of_last_month"
   ]
  },
  {
   "cell_type": "code",
   "execution_count": 79,
   "id": "c7309153-a2e0-48cb-93da-22c851004714",
   "metadata": {},
   "outputs": [
    {
     "ename": "NameError",
     "evalue": "name 'daterange' is not defined",
     "output_type": "error",
     "traceback": [
      "\u001b[1;31m---------------------------------------------------------------------------\u001b[0m",
      "\u001b[1;31mNameError\u001b[0m                                 Traceback (most recent call last)",
      "Cell \u001b[1;32mIn[79], line 1\u001b[0m\n\u001b[1;32m----> 1\u001b[0m \u001b[43mdaterange\u001b[49m(firstday_of_last_month,last_day_of_last_month)\n",
      "\u001b[1;31mNameError\u001b[0m: name 'daterange' is not defined"
     ]
    }
   ],
   "source": [
    "daterange(firstday_of_last_month,last_day_of_last_month)"
   ]
  },
  {
   "cell_type": "code",
   "execution_count": 83,
   "id": "b127920a-9237-4ffc-a9a0-c9430fe054bf",
   "metadata": {},
   "outputs": [],
   "source": [
    "a = 100"
   ]
  },
  {
   "cell_type": "code",
   "execution_count": 88,
   "id": "cd34f5ef-9e88-45d6-9bc7-52980ecb3e9e",
   "metadata": {},
   "outputs": [],
   "source": [
    "import pandas as pd"
   ]
  },
  {
   "cell_type": "code",
   "execution_count": 86,
   "id": "d60accc0-ab31-48f8-aa18-c939d7bb14dc",
   "metadata": {
    "editable": true,
    "slideshow": {
     "slide_type": ""
    },
    "tags": []
   },
   "outputs": [],
   "source": [
    "timelist = []\n",
    "today = datetime.now()\n",
    "for i in range(10):\n",
    "    timelist.append(today)\n",
    "    today += timedelta(days=1)"
   ]
  },
  {
   "cell_type": "code",
   "execution_count": 90,
   "id": "143285f8-722a-4754-a382-8a51c27a2b42",
   "metadata": {},
   "outputs": [],
   "source": [
    "dates = pd.Series(timelist)"
   ]
  },
  {
   "cell_type": "code",
   "execution_count": 96,
   "id": "8a8248e4-b6c4-4064-ab28-a7ed30767457",
   "metadata": {},
   "outputs": [],
   "source": [
    "dates = dates.dt.date"
   ]
  },
  {
   "cell_type": "code",
   "execution_count": 99,
   "id": "911244af-4bd7-42c7-b62a-ac015585cfe4",
   "metadata": {},
   "outputs": [],
   "source": [
    "dates = pd.to_datetime(dates)"
   ]
  },
  {
   "cell_type": "code",
   "execution_count": 103,
   "id": "fee6a9fd-8cf6-44bf-a902-194beaf397cb",
   "metadata": {},
   "outputs": [],
   "source": [
    "dates.name= \"hello\""
   ]
  },
  {
   "cell_type": "code",
   "execution_count": 111,
   "id": "d71db8d5-10ff-4355-9f9c-6d3f1f325d76",
   "metadata": {},
   "outputs": [
    {
     "data": {
      "text/plain": [
       "4   2025-02-10\n",
       "5   2025-02-11\n",
       "6   2025-02-12\n",
       "7   2025-02-13\n",
       "8   2025-02-14\n",
       "9   2025-02-15\n",
       "Name: hello, dtype: datetime64[ns]"
      ]
     },
     "execution_count": 111,
     "metadata": {},
     "output_type": "execute_result"
    }
   ],
   "source": [
    "dates[dates >= \"2025-02-10\"]"
   ]
  },
  {
   "cell_type": "code",
   "execution_count": 114,
   "id": "102feb30-0b1e-4f13-bb90-062733b7be6b",
   "metadata": {},
   "outputs": [
    {
     "data": {
      "text/plain": [
       "0    True\n",
       "1    True\n",
       "2    True\n",
       "3    True\n",
       "4    True\n",
       "5    True\n",
       "6    True\n",
       "7    True\n",
       "8    True\n",
       "9    True\n",
       "Name: hello, dtype: bool"
      ]
     },
     "execution_count": 114,
     "metadata": {},
     "output_type": "execute_result"
    }
   ],
   "source": [
    "dates < "
   ]
  },
  {
   "cell_type": "code",
   "execution_count": 115,
   "id": "06243af7-347c-4c2e-bc82-61e1d6bab016",
   "metadata": {},
   "outputs": [
    {
     "data": {
      "text/plain": [
       "'C:\\\\Users\\\\deves\\\\Documents\\\\GitHub\\\\Pyton'"
      ]
     },
     "execution_count": 115,
     "metadata": {},
     "output_type": "execute_result"
    }
   ],
   "source": [
    "pwd"
   ]
  },
  {
   "cell_type": "code",
   "execution_count": null,
   "id": "f8d811f6-9bbe-4162-a9c6-7eabbba21bc4",
   "metadata": {},
   "outputs": [],
   "source": []
  },
  {
   "cell_type": "code",
   "execution_count": 120,
   "id": "46508aa8-7204-4ebc-a16d-9b498e231f99",
   "metadata": {},
   "outputs": [],
   "source": [
    "import os"
   ]
  },
  {
   "cell_type": "code",
   "execution_count": 1,
   "id": "fbd1b35e-0714-4c73-9c24-91f7426551a7",
   "metadata": {},
   "outputs": [
    {
     "name": "stdout",
     "output_type": "stream",
     "text": [
      "\"hello\"\n"
     ]
    }
   ],
   "source": [
    "echo \"hello\""
   ]
  },
  {
   "cell_type": "code",
   "execution_count": 5,
   "id": "ef9ae64f-f232-4a40-9756-10a4b829c743",
   "metadata": {},
   "outputs": [
    {
     "ename": "SyntaxError",
     "evalue": "invalid syntax (1019693321.py, line 1)",
     "output_type": "error",
     "traceback": [
      "\u001b[1;36m  Cell \u001b[1;32mIn[5], line 1\u001b[1;36m\u001b[0m\n\u001b[1;33m    touch file.py\u001b[0m\n\u001b[1;37m          ^\u001b[0m\n\u001b[1;31mSyntaxError\u001b[0m\u001b[1;31m:\u001b[0m invalid syntax\n"
     ]
    }
   ],
   "source": [
    "touch file.py"
   ]
  },
  {
   "cell_type": "code",
   "execution_count": 11,
   "id": "1a6b80d7-673e-4bda-80b6-d96d66e1b30b",
   "metadata": {},
   "outputs": [],
   "source": [
    "import pandas as pd\n",
    "import numpy as np"
   ]
  },
  {
   "cell_type": "code",
   "execution_count": 17,
   "id": "4c33a6ca-905c-4878-8e36-09fe1c34ecf6",
   "metadata": {},
   "outputs": [],
   "source": [
    "dates = pd.date_range(\"2024-01-01\",periods=1000)"
   ]
  },
  {
   "cell_type": "code",
   "execution_count": 19,
   "id": "e18dc593-f1c7-463e-9b81-e10b1690b9be",
   "metadata": {},
   "outputs": [],
   "source": [
    "df = pd.Series(np.random.randint(1,100,size=1000),index=dates)"
   ]
  },
  {
   "cell_type": "code",
   "execution_count": 22,
   "id": "0a7a6503-b28a-40ef-b1c8-76dd0a300fc7",
   "metadata": {},
   "outputs": [
    {
     "data": {
      "text/plain": [
       "2024-01-01     7\n",
       "2024-01-02    74\n",
       "2024-01-03    76\n",
       "2024-01-04    50\n",
       "2024-01-05    72\n",
       "              ..\n",
       "2024-12-27    69\n",
       "2024-12-28    80\n",
       "2024-12-29    95\n",
       "2024-12-30    33\n",
       "2024-12-31    73\n",
       "Freq: D, Length: 366, dtype: int32"
      ]
     },
     "execution_count": 22,
     "metadata": {},
     "output_type": "execute_result"
    }
   ],
   "source": [
    "# get only year\n",
    "df['2024']"
   ]
  },
  {
   "cell_type": "code",
   "execution_count": 23,
   "id": "7471ca90-5d33-4ad9-8e29-3012ff2189e2",
   "metadata": {},
   "outputs": [
    {
     "data": {
      "text/plain": [
       "2025-01-01    40\n",
       "2025-01-02     3\n",
       "2025-01-03    21\n",
       "2025-01-04    53\n",
       "2025-01-05    29\n",
       "              ..\n",
       "2025-12-27    38\n",
       "2025-12-28    66\n",
       "2025-12-29    59\n",
       "2025-12-30    58\n",
       "2025-12-31    21\n",
       "Freq: D, Length: 365, dtype: int32"
      ]
     },
     "execution_count": 23,
     "metadata": {},
     "output_type": "execute_result"
    }
   ],
   "source": [
    "df[\"2025\"]"
   ]
  },
  {
   "cell_type": "code",
   "execution_count": 51,
   "id": "ff949e81-4201-414b-9851-afb8b1eab9c2",
   "metadata": {},
   "outputs": [],
   "source": [
    "dates = pd.date_range(start=\"2023-1-1\",end=\"2023-2-1\",freq=\"6h\")"
   ]
  },
  {
   "cell_type": "code",
   "execution_count": 52,
   "id": "5220788d-43a0-4f54-ab15-bad9aa9fa33f",
   "metadata": {},
   "outputs": [
    {
     "data": {
      "text/plain": [
       "DatetimeIndex(['2023-01-01 00:00:00', '2023-01-01 06:00:00',\n",
       "               '2023-01-01 12:00:00', '2023-01-01 18:00:00',\n",
       "               '2023-01-02 00:00:00', '2023-01-02 06:00:00',\n",
       "               '2023-01-02 12:00:00', '2023-01-02 18:00:00',\n",
       "               '2023-01-03 00:00:00', '2023-01-03 06:00:00',\n",
       "               ...\n",
       "               '2023-01-29 18:00:00', '2023-01-30 00:00:00',\n",
       "               '2023-01-30 06:00:00', '2023-01-30 12:00:00',\n",
       "               '2023-01-30 18:00:00', '2023-01-31 00:00:00',\n",
       "               '2023-01-31 06:00:00', '2023-01-31 12:00:00',\n",
       "               '2023-01-31 18:00:00', '2023-02-01 00:00:00'],\n",
       "              dtype='datetime64[ns]', length=125, freq='6h')"
      ]
     },
     "execution_count": 52,
     "metadata": {},
     "output_type": "execute_result"
    }
   ],
   "source": [
    "dates"
   ]
  },
  {
   "cell_type": "code",
   "execution_count": 59,
   "id": "ac92b94c-d329-450b-922e-068041f21c61",
   "metadata": {},
   "outputs": [
    {
     "ename": "AttributeError",
     "evalue": "'DatetimeIndex' object has no attribute 'week'",
     "output_type": "error",
     "traceback": [
      "\u001b[1;31m---------------------------------------------------------------------------\u001b[0m",
      "\u001b[1;31mAttributeError\u001b[0m                            Traceback (most recent call last)",
      "Cell \u001b[1;32mIn[59], line 1\u001b[0m\n\u001b[1;32m----> 1\u001b[0m \u001b[43mdates\u001b[49m\u001b[38;5;241;43m.\u001b[39;49m\u001b[43mweek\u001b[49m\n",
      "\u001b[1;31mAttributeError\u001b[0m: 'DatetimeIndex' object has no attribute 'week'"
     ]
    }
   ],
   "source": [
    "dates."
   ]
  },
  {
   "cell_type": "code",
   "execution_count": 61,
   "id": "502bac64-ef71-4169-8cb2-25398d11cde1",
   "metadata": {},
   "outputs": [],
   "source": [
    "l ='''normalize\n",
    "strftime\n",
    "snap\n",
    "tz_convert\n",
    "tz_localize\n",
    "round\n",
    "floor\n",
    "ceil\n",
    "to_period\n",
    "to_pydatetime\n",
    "to_series\n",
    "to_frame\n",
    "month_name\n",
    "day_name\n",
    "mean\n",
    "std'''"
   ]
  },
  {
   "cell_type": "code",
   "execution_count": 64,
   "id": "2ab516dd-b63d-48d7-9c2e-27b1e583b4a5",
   "metadata": {},
   "outputs": [],
   "source": [
    "l = l.split()"
   ]
  },
  {
   "cell_type": "code",
   "execution_count": 71,
   "id": "e6114e4e-b994-4782-afc8-3d9b059e875c",
   "metadata": {},
   "outputs": [
    {
     "name": "stdout",
     "output_type": "stream",
     "text": [
      "normalize strftime snap tz_convert tz_localize round floor ceil to_period to_pydatetime to_series to_frame month_name day_name mean std "
     ]
    }
   ],
   "source": [
    "for i in l:\n",
    "    print(i,end=\" \") "
   ]
  },
  {
   "cell_type": "code",
   "execution_count": 74,
   "id": "8a618de6-2b46-4fdf-8444-6c50d39800b6",
   "metadata": {},
   "outputs": [
    {
     "data": {
      "text/plain": [
       "<bound method DatetimeIndex.snap of DatetimeIndex(['2023-01-01 00:00:00', '2023-01-01 06:00:00',\n",
       "               '2023-01-01 12:00:00', '2023-01-01 18:00:00',\n",
       "               '2023-01-02 00:00:00', '2023-01-02 06:00:00',\n",
       "               '2023-01-02 12:00:00', '2023-01-02 18:00:00',\n",
       "               '2023-01-03 00:00:00', '2023-01-03 06:00:00',\n",
       "               ...\n",
       "               '2023-01-29 18:00:00', '2023-01-30 00:00:00',\n",
       "               '2023-01-30 06:00:00', '2023-01-30 12:00:00',\n",
       "               '2023-01-30 18:00:00', '2023-01-31 00:00:00',\n",
       "               '2023-01-31 06:00:00', '2023-01-31 12:00:00',\n",
       "               '2023-01-31 18:00:00', '2023-02-01 00:00:00'],\n",
       "              dtype='datetime64[ns]', length=125, freq='6h')>"
      ]
     },
     "execution_count": 74,
     "metadata": {},
     "output_type": "execute_result"
    }
   ],
   "source": [
    "dates.snap"
   ]
  },
  {
   "cell_type": "code",
   "execution_count": 85,
   "id": "eb6d5847-bbbf-4833-a615-605cf80b3f7b",
   "metadata": {},
   "outputs": [],
   "source": [
    "df = pd.DataFrame({\"A\":[2,3,4,np.nan,5],\"B\":[9,9,8,7,6]})"
   ]
  },
  {
   "cell_type": "code",
   "execution_count": 92,
   "id": "ac8834db-f4fc-4121-a98f-3dd3cf3a3c77",
   "metadata": {},
   "outputs": [],
   "source": [
    "df['C']=df[\"A\"].ffill()"
   ]
  },
  {
   "cell_type": "code",
   "execution_count": 93,
   "id": "7415f6a1-3651-4840-ab80-b7a1a5728f54",
   "metadata": {},
   "outputs": [
    {
     "data": {
      "text/html": [
       "<div>\n",
       "<style scoped>\n",
       "    .dataframe tbody tr th:only-of-type {\n",
       "        vertical-align: middle;\n",
       "    }\n",
       "\n",
       "    .dataframe tbody tr th {\n",
       "        vertical-align: top;\n",
       "    }\n",
       "\n",
       "    .dataframe thead th {\n",
       "        text-align: right;\n",
       "    }\n",
       "</style>\n",
       "<table border=\"1\" class=\"dataframe\">\n",
       "  <thead>\n",
       "    <tr style=\"text-align: right;\">\n",
       "      <th></th>\n",
       "      <th>A</th>\n",
       "      <th>B</th>\n",
       "      <th>C</th>\n",
       "    </tr>\n",
       "  </thead>\n",
       "  <tbody>\n",
       "    <tr>\n",
       "      <th>0</th>\n",
       "      <td>2.0</td>\n",
       "      <td>9</td>\n",
       "      <td>2.0</td>\n",
       "    </tr>\n",
       "    <tr>\n",
       "      <th>1</th>\n",
       "      <td>3.0</td>\n",
       "      <td>9</td>\n",
       "      <td>3.0</td>\n",
       "    </tr>\n",
       "    <tr>\n",
       "      <th>2</th>\n",
       "      <td>4.0</td>\n",
       "      <td>8</td>\n",
       "      <td>4.0</td>\n",
       "    </tr>\n",
       "    <tr>\n",
       "      <th>3</th>\n",
       "      <td>NaN</td>\n",
       "      <td>7</td>\n",
       "      <td>4.0</td>\n",
       "    </tr>\n",
       "    <tr>\n",
       "      <th>4</th>\n",
       "      <td>5.0</td>\n",
       "      <td>6</td>\n",
       "      <td>5.0</td>\n",
       "    </tr>\n",
       "  </tbody>\n",
       "</table>\n",
       "</div>"
      ],
      "text/plain": [
       "     A  B    C\n",
       "0  2.0  9  2.0\n",
       "1  3.0  9  3.0\n",
       "2  4.0  8  4.0\n",
       "3  NaN  7  4.0\n",
       "4  5.0  6  5.0"
      ]
     },
     "execution_count": 93,
     "metadata": {},
     "output_type": "execute_result"
    }
   ],
   "source": [
    "df"
   ]
  },
  {
   "cell_type": "code",
   "execution_count": null,
   "id": "c4d88d71-28c0-4680-9eda-e857bd71a70d",
   "metadata": {},
   "outputs": [],
   "source": [
    "pd.read_csv()"
   ]
  },
  {
   "cell_type": "code",
   "execution_count": 94,
   "id": "d5c084ac-0c35-4f4d-b85e-b26901b76949",
   "metadata": {},
   "outputs": [
    {
     "ename": "ModuleNotFoundError",
     "evalue": "No module named 'yfinance'",
     "output_type": "error",
     "traceback": [
      "\u001b[1;31m---------------------------------------------------------------------------\u001b[0m",
      "\u001b[1;31mModuleNotFoundError\u001b[0m                       Traceback (most recent call last)",
      "Cell \u001b[1;32mIn[94], line 1\u001b[0m\n\u001b[1;32m----> 1\u001b[0m \u001b[38;5;28;01mimport\u001b[39;00m \u001b[38;5;21;01myfinance\u001b[39;00m\n",
      "\u001b[1;31mModuleNotFoundError\u001b[0m: No module named 'yfinance'"
     ]
    }
   ],
   "source": [
    "import yfinance"
   ]
  },
  {
   "cell_type": "code",
   "execution_count": 95,
   "id": "bb99b956-75f5-4b87-bfb9-fc28f74444ba",
   "metadata": {},
   "outputs": [
    {
     "name": "stdout",
     "output_type": "stream",
     "text": [
      "Collecting yfinanceNote: you may need to restart the kernel to use updated packages.\n",
      "\n",
      "  Downloading yfinance-0.2.52-py2.py3-none-any.whl.metadata (5.8 kB)\n",
      "Requirement already satisfied: pandas>=1.3.0 in c:\\users\\deves\\miniconda3\\lib\\site-packages (from yfinance) (2.2.3)\n",
      "Requirement already satisfied: numpy>=1.16.5 in c:\\users\\deves\\miniconda3\\lib\\site-packages (from yfinance) (2.1.3)\n",
      "Requirement already satisfied: requests>=2.31 in c:\\users\\deves\\miniconda3\\lib\\site-packages (from yfinance) (2.32.3)\n",
      "Collecting multitasking>=0.0.7 (from yfinance)\n",
      "  Downloading multitasking-0.0.11-py3-none-any.whl.metadata (5.5 kB)\n",
      "Requirement already satisfied: lxml>=4.9.1 in c:\\users\\deves\\miniconda3\\lib\\site-packages (from yfinance) (5.3.0)\n",
      "Requirement already satisfied: platformdirs>=2.0.0 in c:\\users\\deves\\miniconda3\\lib\\site-packages (from yfinance) (3.10.0)\n",
      "Requirement already satisfied: pytz>=2022.5 in c:\\users\\deves\\miniconda3\\lib\\site-packages (from yfinance) (2024.2)\n",
      "Requirement already satisfied: frozendict>=2.3.4 in c:\\users\\deves\\miniconda3\\lib\\site-packages (from yfinance) (2.4.2)\n",
      "Collecting peewee>=3.16.2 (from yfinance)\n",
      "  Downloading peewee-3.17.9.tar.gz (3.0 MB)\n",
      "     ---------------------------------------- 0.0/3.0 MB ? eta -:--:--\n",
      "     ---------------------------------------- 0.0/3.0 MB ? eta -:--:--\n",
      "     --- ------------------------------------ 0.3/3.0 MB ? eta -:--:--\n",
      "     ------ --------------------------------- 0.5/3.0 MB 1.3 MB/s eta 0:00:02\n",
      "     ------ --------------------------------- 0.5/3.0 MB 1.3 MB/s eta 0:00:02\n",
      "     ---------- ----------------------------- 0.8/3.0 MB 1.0 MB/s eta 0:00:03\n",
      "     ------------- -------------------------- 1.0/3.0 MB 968.5 kB/s eta 0:00:03\n",
      "     ------------- -------------------------- 1.0/3.0 MB 968.5 kB/s eta 0:00:03\n",
      "     ----------------- ---------------------- 1.3/3.0 MB 860.2 kB/s eta 0:00:02\n",
      "     ------------------------ --------------- 1.8/3.0 MB 1.1 MB/s eta 0:00:02\n",
      "     ------------------------------- -------- 2.4/3.0 MB 1.3 MB/s eta 0:00:01\n",
      "     -------------------------------------- - 2.9/3.0 MB 1.4 MB/s eta 0:00:01\n",
      "     ---------------------------------------- 3.0/3.0 MB 1.4 MB/s eta 0:00:00\n",
      "  Installing build dependencies: started\n",
      "  Installing build dependencies: finished with status 'done'\n",
      "  Getting requirements to build wheel: started\n",
      "  Getting requirements to build wheel: finished with status 'done'\n",
      "  Preparing metadata (pyproject.toml): started\n",
      "  Preparing metadata (pyproject.toml): finished with status 'done'\n",
      "Requirement already satisfied: beautifulsoup4>=4.11.1 in c:\\users\\deves\\miniconda3\\lib\\site-packages (from yfinance) (4.12.3)\n",
      "Collecting html5lib>=1.1 (from yfinance)\n",
      "  Downloading html5lib-1.1-py2.py3-none-any.whl.metadata (16 kB)\n",
      "Requirement already satisfied: soupsieve>1.2 in c:\\users\\deves\\miniconda3\\lib\\site-packages (from beautifulsoup4>=4.11.1->yfinance) (2.6)\n",
      "Requirement already satisfied: six>=1.9 in c:\\users\\deves\\miniconda3\\lib\\site-packages (from html5lib>=1.1->yfinance) (1.16.0)\n",
      "Requirement already satisfied: webencodings in c:\\users\\deves\\miniconda3\\lib\\site-packages (from html5lib>=1.1->yfinance) (0.5.1)\n",
      "Requirement already satisfied: python-dateutil>=2.8.2 in c:\\users\\deves\\miniconda3\\lib\\site-packages (from pandas>=1.3.0->yfinance) (2.9.0.post0)\n",
      "Requirement already satisfied: tzdata>=2022.7 in c:\\users\\deves\\miniconda3\\lib\\site-packages (from pandas>=1.3.0->yfinance) (2024.2)\n",
      "Requirement already satisfied: charset-normalizer<4,>=2 in c:\\users\\deves\\miniconda3\\lib\\site-packages (from requests>=2.31->yfinance) (3.3.2)\n",
      "Requirement already satisfied: idna<4,>=2.5 in c:\\users\\deves\\miniconda3\\lib\\site-packages (from requests>=2.31->yfinance) (3.7)\n",
      "Requirement already satisfied: urllib3<3,>=1.21.1 in c:\\users\\deves\\miniconda3\\lib\\site-packages (from requests>=2.31->yfinance) (2.2.3)\n",
      "Requirement already satisfied: certifi>=2017.4.17 in c:\\users\\deves\\miniconda3\\lib\\site-packages (from requests>=2.31->yfinance) (2024.8.30)\n",
      "Downloading yfinance-0.2.52-py2.py3-none-any.whl (108 kB)\n",
      "Downloading html5lib-1.1-py2.py3-none-any.whl (112 kB)\n",
      "Downloading multitasking-0.0.11-py3-none-any.whl (8.5 kB)\n",
      "Building wheels for collected packages: peewee\n",
      "  Building wheel for peewee (pyproject.toml): started\n",
      "  Building wheel for peewee (pyproject.toml): finished with status 'done'\n",
      "  Created wheel for peewee: filename=peewee-3.17.9-py3-none-any.whl size=139096 sha256=69acc50ae4a6662c5162940be85942f04a7e1ebe9efb269cd6512d7634b125ba\n",
      "  Stored in directory: c:\\users\\deves\\appdata\\local\\pip\\cache\\wheels\\43\\ef\\2d\\2c51d496bf084945ffdf838b4cc8767b8ba1cc20eb41588831\n",
      "Successfully built peewee\n",
      "Installing collected packages: peewee, multitasking, html5lib, yfinance\n",
      "Successfully installed html5lib-1.1 multitasking-0.0.11 peewee-3.17.9 yfinance-0.2.52\n"
     ]
    }
   ],
   "source": [
    "pip install yfinance"
   ]
  },
  {
   "cell_type": "code",
   "execution_count": 96,
   "id": "e44fde8f-d293-4b3b-b625-f1e323bc0c75",
   "metadata": {},
   "outputs": [],
   "source": [
    "import yfinance as yf"
   ]
  },
  {
   "cell_type": "code",
   "execution_count": 114,
   "id": "cd5cfb0b-abce-41d9-b9b1-213c3fb7dc49",
   "metadata": {},
   "outputs": [
    {
     "name": "stderr",
     "output_type": "stream",
     "text": [
      "[*********************100%***********************]  1 of 1 completed\n",
      "\n",
      "1 Failed download:\n",
      "['APPL']: YFPricesMissingError('$%ticker%: possibly delisted; no price data found  (period=1y)')\n"
     ]
    }
   ],
   "source": [
    "data = yf.download(tickers=\"APPl\",period=\"1y\")"
   ]
  },
  {
   "cell_type": "code",
   "execution_count": 115,
   "id": "48beef78-9f50-4c3a-bce5-406a0a03cc7a",
   "metadata": {},
   "outputs": [
    {
     "data": {
      "text/html": [
       "<div>\n",
       "<style scoped>\n",
       "    .dataframe tbody tr th:only-of-type {\n",
       "        vertical-align: middle;\n",
       "    }\n",
       "\n",
       "    .dataframe tbody tr th {\n",
       "        vertical-align: top;\n",
       "    }\n",
       "\n",
       "    .dataframe thead tr th {\n",
       "        text-align: left;\n",
       "    }\n",
       "\n",
       "    .dataframe thead tr:last-of-type th {\n",
       "        text-align: right;\n",
       "    }\n",
       "</style>\n",
       "<table border=\"1\" class=\"dataframe\">\n",
       "  <thead>\n",
       "    <tr>\n",
       "      <th>Price</th>\n",
       "      <th>Adj Close</th>\n",
       "      <th>Close</th>\n",
       "      <th>High</th>\n",
       "      <th>Low</th>\n",
       "      <th>Open</th>\n",
       "      <th>Volume</th>\n",
       "    </tr>\n",
       "    <tr>\n",
       "      <th>Ticker</th>\n",
       "      <th>APPL</th>\n",
       "      <th>APPL</th>\n",
       "      <th>APPL</th>\n",
       "      <th>APPL</th>\n",
       "      <th>APPL</th>\n",
       "      <th>APPL</th>\n",
       "    </tr>\n",
       "    <tr>\n",
       "      <th>Date</th>\n",
       "      <th></th>\n",
       "      <th></th>\n",
       "      <th></th>\n",
       "      <th></th>\n",
       "      <th></th>\n",
       "      <th></th>\n",
       "    </tr>\n",
       "  </thead>\n",
       "  <tbody>\n",
       "  </tbody>\n",
       "</table>\n",
       "</div>"
      ],
      "text/plain": [
       "Empty DataFrame\n",
       "Columns: [(Adj Close, APPL), (Close, APPL), (High, APPL), (Low, APPL), (Open, APPL), (Volume, APPL)]\n",
       "Index: []"
      ]
     },
     "execution_count": 115,
     "metadata": {},
     "output_type": "execute_result"
    }
   ],
   "source": [
    "data"
   ]
  },
  {
   "cell_type": "code",
   "execution_count": 125,
   "id": "bd6011cb-0724-438e-89df-43fa695e3c57",
   "metadata": {},
   "outputs": [],
   "source": [
    "data = yf.Ticker(\"SBIN.NS\")"
   ]
  },
  {
   "cell_type": "code",
   "execution_count": 146,
   "id": "85bf638a-9b1a-418f-9a79-2dd591a298a7",
   "metadata": {},
   "outputs": [],
   "source": [
    "df = data.history(\"5y\")"
   ]
  },
  {
   "cell_type": "code",
   "execution_count": 147,
   "id": "9f9555d8-6340-4939-a35a-0bdb7a1f542a",
   "metadata": {},
   "outputs": [],
   "source": [
    "df.reset_index(inplace=True)"
   ]
  },
  {
   "cell_type": "code",
   "execution_count": 148,
   "id": "1a7740a5-8f02-462b-a8f5-69e4343130e8",
   "metadata": {},
   "outputs": [
    {
     "name": "stdout",
     "output_type": "stream",
     "text": [
      "<class 'pandas.core.frame.DataFrame'>\n",
      "RangeIndex: 1240 entries, 0 to 1239\n",
      "Data columns (total 8 columns):\n",
      " #   Column        Non-Null Count  Dtype                       \n",
      "---  ------        --------------  -----                       \n",
      " 0   Date          1240 non-null   datetime64[ns, Asia/Kolkata]\n",
      " 1   Open          1240 non-null   float64                     \n",
      " 2   High          1240 non-null   float64                     \n",
      " 3   Low           1240 non-null   float64                     \n",
      " 4   Close         1240 non-null   float64                     \n",
      " 5   Volume        1240 non-null   int64                       \n",
      " 6   Dividends     1240 non-null   float64                     \n",
      " 7   Stock Splits  1240 non-null   float64                     \n",
      "dtypes: datetime64[ns, Asia/Kolkata](1), float64(6), int64(1)\n",
      "memory usage: 77.6 KB\n"
     ]
    }
   ],
   "source": [
    "df.info()"
   ]
  },
  {
   "cell_type": "code",
   "execution_count": 149,
   "id": "9f236aaf-3428-4968-9837-8d7e9b3ec61d",
   "metadata": {},
   "outputs": [
    {
     "data": {
      "text/html": [
       "<div>\n",
       "<style scoped>\n",
       "    .dataframe tbody tr th:only-of-type {\n",
       "        vertical-align: middle;\n",
       "    }\n",
       "\n",
       "    .dataframe tbody tr th {\n",
       "        vertical-align: top;\n",
       "    }\n",
       "\n",
       "    .dataframe thead th {\n",
       "        text-align: right;\n",
       "    }\n",
       "</style>\n",
       "<table border=\"1\" class=\"dataframe\">\n",
       "  <thead>\n",
       "    <tr style=\"text-align: right;\">\n",
       "      <th></th>\n",
       "      <th>Date</th>\n",
       "      <th>Open</th>\n",
       "      <th>High</th>\n",
       "      <th>Low</th>\n",
       "      <th>Close</th>\n",
       "      <th>Volume</th>\n",
       "      <th>Dividends</th>\n",
       "      <th>Stock Splits</th>\n",
       "    </tr>\n",
       "  </thead>\n",
       "  <tbody>\n",
       "    <tr>\n",
       "      <th>0</th>\n",
       "      <td>2020-02-07 00:00:00+05:30</td>\n",
       "      <td>302.610075</td>\n",
       "      <td>305.904430</td>\n",
       "      <td>299.692212</td>\n",
       "      <td>301.715881</td>\n",
       "      <td>37126803</td>\n",
       "      <td>0.0</td>\n",
       "      <td>0.0</td>\n",
       "    </tr>\n",
       "    <tr>\n",
       "      <th>1</th>\n",
       "      <td>2020-02-10 00:00:00+05:30</td>\n",
       "      <td>301.009922</td>\n",
       "      <td>303.833655</td>\n",
       "      <td>297.903827</td>\n",
       "      <td>299.786316</td>\n",
       "      <td>24816396</td>\n",
       "      <td>0.0</td>\n",
       "      <td>0.0</td>\n",
       "    </tr>\n",
       "    <tr>\n",
       "      <th>2</th>\n",
       "      <td>2020-02-11 00:00:00+05:30</td>\n",
       "      <td>302.186509</td>\n",
       "      <td>306.657420</td>\n",
       "      <td>302.186509</td>\n",
       "      <td>305.292633</td>\n",
       "      <td>30188757</td>\n",
       "      <td>0.0</td>\n",
       "      <td>0.0</td>\n",
       "    </tr>\n",
       "    <tr>\n",
       "      <th>3</th>\n",
       "      <td>2020-02-12 00:00:00+05:30</td>\n",
       "      <td>310.516497</td>\n",
       "      <td>310.516497</td>\n",
       "      <td>300.492250</td>\n",
       "      <td>301.386444</td>\n",
       "      <td>38930849</td>\n",
       "      <td>0.0</td>\n",
       "      <td>0.0</td>\n",
       "    </tr>\n",
       "    <tr>\n",
       "      <th>4</th>\n",
       "      <td>2020-02-13 00:00:00+05:30</td>\n",
       "      <td>303.080686</td>\n",
       "      <td>311.504835</td>\n",
       "      <td>303.080686</td>\n",
       "      <td>308.210480</td>\n",
       "      <td>62516057</td>\n",
       "      <td>0.0</td>\n",
       "      <td>0.0</td>\n",
       "    </tr>\n",
       "  </tbody>\n",
       "</table>\n",
       "</div>"
      ],
      "text/plain": [
       "                       Date        Open        High         Low       Close  \\\n",
       "0 2020-02-07 00:00:00+05:30  302.610075  305.904430  299.692212  301.715881   \n",
       "1 2020-02-10 00:00:00+05:30  301.009922  303.833655  297.903827  299.786316   \n",
       "2 2020-02-11 00:00:00+05:30  302.186509  306.657420  302.186509  305.292633   \n",
       "3 2020-02-12 00:00:00+05:30  310.516497  310.516497  300.492250  301.386444   \n",
       "4 2020-02-13 00:00:00+05:30  303.080686  311.504835  303.080686  308.210480   \n",
       "\n",
       "     Volume  Dividends  Stock Splits  \n",
       "0  37126803        0.0           0.0  \n",
       "1  24816396        0.0           0.0  \n",
       "2  30188757        0.0           0.0  \n",
       "3  38930849        0.0           0.0  \n",
       "4  62516057        0.0           0.0  "
      ]
     },
     "execution_count": 149,
     "metadata": {},
     "output_type": "execute_result"
    }
   ],
   "source": [
    "df.head()"
   ]
  },
  {
   "cell_type": "code",
   "execution_count": 150,
   "id": "a2d6265f-09a9-497d-9f5c-0ddac079ec4f",
   "metadata": {},
   "outputs": [],
   "source": [
    "df['voulme_m'] = (df['Volume']/1000000).round(0)"
   ]
  },
  {
   "cell_type": "code",
   "execution_count": 151,
   "id": "71694264-7e41-4201-9aa1-c5458e9d9211",
   "metadata": {},
   "outputs": [
    {
     "data": {
      "text/html": [
       "<div>\n",
       "<style scoped>\n",
       "    .dataframe tbody tr th:only-of-type {\n",
       "        vertical-align: middle;\n",
       "    }\n",
       "\n",
       "    .dataframe tbody tr th {\n",
       "        vertical-align: top;\n",
       "    }\n",
       "\n",
       "    .dataframe thead th {\n",
       "        text-align: right;\n",
       "    }\n",
       "</style>\n",
       "<table border=\"1\" class=\"dataframe\">\n",
       "  <thead>\n",
       "    <tr style=\"text-align: right;\">\n",
       "      <th></th>\n",
       "      <th>Date</th>\n",
       "      <th>Open</th>\n",
       "      <th>High</th>\n",
       "      <th>Low</th>\n",
       "      <th>Close</th>\n",
       "      <th>Volume</th>\n",
       "      <th>Dividends</th>\n",
       "      <th>Stock Splits</th>\n",
       "      <th>voulme_m</th>\n",
       "    </tr>\n",
       "  </thead>\n",
       "  <tbody>\n",
       "    <tr>\n",
       "      <th>0</th>\n",
       "      <td>2020-02-07 00:00:00+05:30</td>\n",
       "      <td>302.610075</td>\n",
       "      <td>305.904430</td>\n",
       "      <td>299.692212</td>\n",
       "      <td>301.715881</td>\n",
       "      <td>37126803</td>\n",
       "      <td>0.0</td>\n",
       "      <td>0.0</td>\n",
       "      <td>37.0</td>\n",
       "    </tr>\n",
       "    <tr>\n",
       "      <th>1</th>\n",
       "      <td>2020-02-10 00:00:00+05:30</td>\n",
       "      <td>301.009922</td>\n",
       "      <td>303.833655</td>\n",
       "      <td>297.903827</td>\n",
       "      <td>299.786316</td>\n",
       "      <td>24816396</td>\n",
       "      <td>0.0</td>\n",
       "      <td>0.0</td>\n",
       "      <td>25.0</td>\n",
       "    </tr>\n",
       "    <tr>\n",
       "      <th>2</th>\n",
       "      <td>2020-02-11 00:00:00+05:30</td>\n",
       "      <td>302.186509</td>\n",
       "      <td>306.657420</td>\n",
       "      <td>302.186509</td>\n",
       "      <td>305.292633</td>\n",
       "      <td>30188757</td>\n",
       "      <td>0.0</td>\n",
       "      <td>0.0</td>\n",
       "      <td>30.0</td>\n",
       "    </tr>\n",
       "    <tr>\n",
       "      <th>3</th>\n",
       "      <td>2020-02-12 00:00:00+05:30</td>\n",
       "      <td>310.516497</td>\n",
       "      <td>310.516497</td>\n",
       "      <td>300.492250</td>\n",
       "      <td>301.386444</td>\n",
       "      <td>38930849</td>\n",
       "      <td>0.0</td>\n",
       "      <td>0.0</td>\n",
       "      <td>39.0</td>\n",
       "    </tr>\n",
       "    <tr>\n",
       "      <th>4</th>\n",
       "      <td>2020-02-13 00:00:00+05:30</td>\n",
       "      <td>303.080686</td>\n",
       "      <td>311.504835</td>\n",
       "      <td>303.080686</td>\n",
       "      <td>308.210480</td>\n",
       "      <td>62516057</td>\n",
       "      <td>0.0</td>\n",
       "      <td>0.0</td>\n",
       "      <td>63.0</td>\n",
       "    </tr>\n",
       "  </tbody>\n",
       "</table>\n",
       "</div>"
      ],
      "text/plain": [
       "                       Date        Open        High         Low       Close  \\\n",
       "0 2020-02-07 00:00:00+05:30  302.610075  305.904430  299.692212  301.715881   \n",
       "1 2020-02-10 00:00:00+05:30  301.009922  303.833655  297.903827  299.786316   \n",
       "2 2020-02-11 00:00:00+05:30  302.186509  306.657420  302.186509  305.292633   \n",
       "3 2020-02-12 00:00:00+05:30  310.516497  310.516497  300.492250  301.386444   \n",
       "4 2020-02-13 00:00:00+05:30  303.080686  311.504835  303.080686  308.210480   \n",
       "\n",
       "     Volume  Dividends  Stock Splits  voulme_m  \n",
       "0  37126803        0.0           0.0      37.0  \n",
       "1  24816396        0.0           0.0      25.0  \n",
       "2  30188757        0.0           0.0      30.0  \n",
       "3  38930849        0.0           0.0      39.0  \n",
       "4  62516057        0.0           0.0      63.0  "
      ]
     },
     "execution_count": 151,
     "metadata": {},
     "output_type": "execute_result"
    }
   ],
   "source": [
    "df.head()"
   ]
  },
  {
   "cell_type": "code",
   "execution_count": 152,
   "id": "0058b71d-146f-4ec7-bb0b-72ba01603822",
   "metadata": {},
   "outputs": [],
   "source": [
    "import seaborn as sns"
   ]
  },
  {
   "cell_type": "code",
   "execution_count": 153,
   "id": "69d04a3c-e0b0-43ca-9211-50c6b618086a",
   "metadata": {},
   "outputs": [
    {
     "data": {
      "text/plain": [
       "<Axes: xlabel='Date', ylabel='Close'>"
      ]
     },
     "execution_count": 153,
     "metadata": {},
     "output_type": "execute_result"
    },
    {
     "data": {
      "image/png": "[encoded data removed]",
      "text/plain": [
       "<Figure size 640x480 with 1 Axes>"
      ]
     },
     "metadata": {},
     "output_type": "display_data"
    }
   ],
   "source": [
    "sns.lineplot(data=df, x=\"Date\",y=\"Close\")"
   ]
  },
  {
   "cell_type": "code",
   "execution_count": null,
   "id": "a373549c-5cd4-45d3-a705-e2a9f35bdf3d",
   "metadata": {},
   "outputs": [],
   "source": []
  },
  {
   "cell_type": "code",
   "execution_count": null,
   "id": "033127a3-0c88-4b6a-b840-57830763cb6a",
   "metadata": {},
   "outputs": [],
   "source": []
  }
 ],
 "metadata": {
  "kernelspec": {
   "display_name": "Python 3 (ipykernel)",
   "language": "python",
   "name": "python3"
  },
  "language_info": {
   "codemirror_mode": {
    "name": "ipython",
    "version": 3
   },
   "file_extension": ".py",
   "mimetype": "text/x-python",
   "name": "python",
   "nbconvert_exporter": "python",
   "pygments_lexer": "ipython3",
   "version": "3.12.7"
  }
 },
 "nbformat": 4,
 "nbformat_minor": 5
}
