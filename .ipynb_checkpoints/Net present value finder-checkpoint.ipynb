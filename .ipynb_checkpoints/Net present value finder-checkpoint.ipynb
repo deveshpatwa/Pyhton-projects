{
 "cells": [
  {
   "cell_type": "markdown",
   "id": "c6fa37e0-62eb-4242-b502-f1287f347cc4",
   "metadata": {},
   "source": [
    "### This program will find the net present value of an investment which you are making for the future\n",
    "### You will need the future investment written amount and the interest rate"
   ]
  },
  {
   "cell_type": "code",
   "execution_count": 16,
   "id": "5cb67faa-59ac-437d-ac88-613429ea1c50",
   "metadata": {
    "tags": []
   },
   "outputs": [],
   "source": [
    "def npv(fv,r,t):\n",
    "    pv = fv/temp(r,t)\n",
    "    return round(pv,2)\n",
    "   "
   ]
  },
  {
   "cell_type": "code",
   "execution_count": 18,
   "id": "2e71808a-b3a1-4254-ae82-8b9d82ec0d08",
   "metadata": {
    "tags": []
   },
   "outputs": [
    {
     "data": {
      "text/plain": [
       "18018.02"
      ]
     },
     "execution_count": 18,
     "metadata": {},
     "output_type": "execute_result"
    }
   ],
   "source": [
    "npv(20000,0.11,5)"
   ]
  },
  {
   "cell_type": "code",
   "execution_count": 13,
   "id": "d8816b43-28de-4fe0-b3c0-58b48707f446",
   "metadata": {
    "tags": []
   },
   "outputs": [],
   "source": [
    "def temp(r,t):\n",
    "    r=r+1\n",
    "    a=0\n",
    "    for i in range(1,t+1):\n",
    "        a= a+(r*i)\n",
    "        return round(a,2)"
   ]
  },
  {
   "cell_type": "code",
   "execution_count": 8,
   "id": "a126e17f-1571-45cd-a17b-77082f6bab79",
   "metadata": {
    "tags": []
   },
   "outputs": [
    {
     "data": {
      "text/plain": [
       "1.3479199999999998"
      ]
     },
     "execution_count": 8,
     "metadata": {},
     "output_type": "execute_result"
    }
   ],
   "source": []
  },
  {
   "cell_type": "code",
   "execution_count": null,
   "id": "6b529260-e85a-491b-bd06-2469b67c0c7a",
   "metadata": {},
   "outputs": [],
   "source": []
  }
 ],
 "metadata": {
  "kernelspec": {
   "display_name": "Python 3 (ipykernel)",
   "language": "python",
   "name": "python3"
  },
  "language_info": {
   "codemirror_mode": {
    "name": "ipython",
    "version": 3
   },
   "file_extension": ".py",
   "mimetype": "text/x-python",
   "name": "python",
   "nbconvert_exporter": "python",
   "pygments_lexer": "ipython3",
   "version": "3.11.5"
  }
 },
 "nbformat": 4,
 "nbformat_minor": 5
}
