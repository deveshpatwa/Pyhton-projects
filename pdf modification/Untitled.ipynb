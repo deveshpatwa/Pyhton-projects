{
 "cells": [
  {
   "cell_type": "code",
   "execution_count": 12,
   "id": "644bd870-75a3-4fdc-b691-e11a4ed50dba",
   "metadata": {
    "tags": []
   },
   "outputs": [],
   "source": [
    "from PyPDF2 import PdfReader, PdfWriter\n",
    "reader = PdfReader('notes.pdf')\n",
    "writer = PdfWriter()\n",
    "\n",
    "for page in reader.pages:\n",
    "    # Get the original page size\n",
    "    upper_left = page.cropbox.upper_left\n",
    "    upper_right = page.cropbox.upper_right\n",
    "    lower_left = page.cropbox.lower_left\n",
    "    lower_right = page.cropbox.lower_right\n",
    "    \n",
    "    # Calculate the new coordinates for cropping\n",
    "    new_upper_left = (upper_left[0], upper_left[1] - 50)  # Crop 2 units from the top\n",
    "    new_lower_right = (lower_right[0], lower_right[1] + 50)  # Crop 2 units from the bottom\n",
    "\n",
    "    # Crop the page\n",
    "    page.cropbox.upper_left = new_upper_left\n",
    "    page.cropbox.lower_right = new_lower_right\n",
    "    \n",
    "    writer.add_page(page)\n",
    "\n",
    "# Write the cropped PDF to a new file\n",
    "with open('cropped_notes.pdf', 'wb') as fp:\n",
    "    writer.write(fp)"
   ]
  },
  {
   "cell_type": "code",
   "execution_count": 14,
   "id": "2d2c010f-7003-4a5a-93f5-73fef0b35515",
   "metadata": {
    "tags": []
   },
   "outputs": [],
   "source": [
    "from PyPDF2 import PdfReader, PdfWriter\n",
    "from PIL import Image\n",
    "\n",
    "reader = PdfReader('notes.pdf')\n",
    "writer = PdfWriter()\n",
    "\n",
    "for i, page in enumerate(reader.pages):\n",
    "    # Get the original page size\n",
    "    upper_left = page.cropbox.upper_left\n",
    "    upper_right = page.cropbox.upper_right\n",
    "    lower_left = page.cropbox.lower_left\n",
    "    lower_right = page.cropbox.lower_right\n",
    "    \n",
    "    # Calculate the new coordinates for cropping\n",
    "    if i == 0:\n",
    "      # Crop 300 units from the top of the first page\n",
    "      new_upper_left = (upper_left[0], upper_left[1] - 300)\n",
    "      new_lower_right = lower_right\n",
    "    else:\n",
    "      # Crop 60 units from the top of all other pages\n",
    "      new_upper_left = (upper_left[0], upper_left[1] - 60)\n",
    "      new_lower_right = lower_right\n",
    "\n",
    "    # Crop the page\n",
    "    page.cropbox.upper_left = new_upper_left\n",
    "    page.cropbox.lower_right = new_lower_right\n",
    "    \n",
    "    writer.add_page(page)\n",
    "\n",
    "# Write the cropped PDF to a new file\n",
    "with open('cropped_notes.pdf', 'wb') as fp:\n",
    "    writer.write(fp)"
   ]
  },
  {
   "cell_type": "markdown",
   "id": "5e257c68-c628-439a-b373-3c8f7880aabc",
   "metadata": {},
   "source": [
    "## fixing the code"
   ]
  },
  {
   "cell_type": "code",
   "execution_count": 21,
   "id": "9c9556de-e530-4914-b8b2-d7b629f3629c",
   "metadata": {
    "tags": []
   },
   "outputs": [],
   "source": [
    "import PyPDF2\n",
    "from PyPDF2 import PdfReader, PdfWriter\n",
    "\n",
    "reader = PdfReader('notes.pdf')\n",
    "writer = PdfWriter()\n",
    "\n",
    "# Process the first page\n",
    "page = reader.pages[0]\n",
    "upper_left = page.cropbox.upper_left\n",
    "upper_right = page.cropbox.upper_right\n",
    "lower_left = page.cropbox.lower_left\n",
    "lower_right = page.cropbox.lower_right\n",
    "\n",
    "# Crop 300 units from top and bottom of the first page\n",
    "new_upper_left = (upper_left[0], upper_left[1] - 400) \n",
    "new_lower_right = (lower_right[0], lower_right[1] + 300) \n",
    "\n",
    "page.cropbox.upper_left = new_upper_left\n",
    "page.cropbox.lower_right = new_lower_right\n",
    "\n",
    "writer.add_page(page)\n",
    "\n",
    "# Process the remaining pages\n",
    "for page in reader.pages[1:]:\n",
    "    upper_left = page.cropbox.upper_left\n",
    "    upper_right = page.cropbox.upper_right\n",
    "    lower_left = page.cropbox.lower_left\n",
    "    lower_right = page.cropbox.lower_right\n",
    "\n",
    "    # Crop 60 units from top and bottom of the remaining pages\n",
    "    new_upper_left = (upper_left[0], upper_left[1] - 57) \n",
    "    new_lower_right = (lower_right[0], lower_right[1] + 57) \n",
    "\n",
    "    page.cropbox.upper_left = new_upper_left\n",
    "    page.cropbox.lower_right = new_lower_right\n",
    "\n",
    "    writer.add_page(page)\n",
    "\n",
    "# Write the cropped PDF to a new file\n",
    "with open('last_one.pdf', 'wb') as fp:\n",
    "    writer.write(fp)\n"
   ]
  },
  {
   "cell_type": "code",
   "execution_count": 22,
   "id": "6c0c6649-40ef-46d8-838d-320b898bc006",
   "metadata": {
    "tags": []
   },
   "outputs": [],
   "source": [
    "reader = PdfReader('last_one.pdf')\n",
    "writer = PdfWriter()\n",
    "\n",
    "# Add all pages except the last one\n",
    "for page in reader.pages[:-1]:\n",
    "    writer.add_page(page)\n",
    "\n",
    "# Write the modified PDF to a new file\n",
    "with open('last_really.pdf', 'wb') as fp:\n",
    "    writer.write(fp)"
   ]
  },
  {
   "cell_type": "code",
   "execution_count": 19,
   "id": "ab3e6cd5-899e-45ae-b6be-1dbcb70d6714",
   "metadata": {
    "tags": []
   },
   "outputs": [],
   "source": [
    "# prompt: take the text from all the pages and write them in a new pdf\n",
    "\n",
    "reader = PdfReader('notes_without_last_page.pdf')\n",
    "writer = PdfWriter()\n",
    "\n",
    "all_text = \"\"\n",
    "for page in reader.pages:\n",
    "    text = page.extract_text()\n",
    "    all_text += text\n",
    "\n",
    "# Create a new page and write the extracted text\n",
    "from reportlab.pdfgen import canvas\n",
    "from reportlab.lib.pagesizes import letter\n",
    "\n",
    "c = canvas.Canvas(\"new_pdf_with_text.pdf\", pagesize=letter)\n",
    "c.drawString(100, 750, all_text)\n",
    "c.save()\n"
   ]
  },
  {
   "cell_type": "code",
   "execution_count": 18,
   "id": "a9a4c2f9-f37a-4c43-adca-651608997d11",
   "metadata": {
    "tags": []
   },
   "outputs": [
    {
     "name": "stdout",
     "output_type": "stream",
     "text": [
      "Collecting reportlab\n",
      "  Obtaining dependency information for reportlab from https://files.pythonhosted.org/packages/08/69/1fadb986011de190d0a7c7df404e471b5ccd0d3d3df4b9bf095c29c22d21/reportlab-4.2.2-py3-none-any.whl.metadata\n",
      "  Downloading reportlab-4.2.2-py3-none-any.whl.metadata (1.4 kB)\n",
      "Requirement already satisfied: pillow>=9.0.0 in c:\\users\\deves\\anaconda3\\lib\\site-packages (from reportlab) (9.4.0)\n",
      "Requirement already satisfied: chardet in c:\\users\\deves\\anaconda3\\lib\\site-packages (from reportlab) (4.0.0)\n",
      "Downloading reportlab-4.2.2-py3-none-any.whl (1.9 MB)\n",
      "   ---------------------------------------- 0.0/1.9 MB ? eta -:--:--\n",
      "   ---------------------------------------- 0.0/1.9 MB ? eta -:--:--\n",
      "    --------------------------------------- 0.0/1.9 MB 445.2 kB/s eta 0:00:05\n",
      "   -- ------------------------------------- 0.1/1.9 MB 1.1 MB/s eta 0:00:02\n",
      "   ------- -------------------------------- 0.4/1.9 MB 2.2 MB/s eta 0:00:01\n",
      "   ------------- -------------------------- 0.6/1.9 MB 3.1 MB/s eta 0:00:01\n",
      "   ------------------- -------------------- 0.9/1.9 MB 3.5 MB/s eta 0:00:01\n",
      "   ------------------------ --------------- 1.2/1.9 MB 3.8 MB/s eta 0:00:01\n",
      "   --------------------------------- ------ 1.6/1.9 MB 4.8 MB/s eta 0:00:01\n",
      "   ---------------------------------------  1.9/1.9 MB 4.7 MB/s eta 0:00:01\n",
      "   ---------------------------------------- 1.9/1.9 MB 4.6 MB/s eta 0:00:00\n",
      "Installing collected packages: reportlab\n",
      "Successfully installed reportlab-4.2.2\n"
     ]
    }
   ],
   "source": [
    "!pip install reportlab"
   ]
  },
  {
   "cell_type": "code",
   "execution_count": 20,
   "id": "6218a587-1933-4648-8d10-9751b206816c",
   "metadata": {
    "tags": []
   },
   "outputs": [
    {
     "ename": "FileNotFoundError",
     "evalue": "[Errno 2] No such file or directory: 'page1.jpg'",
     "output_type": "error",
     "traceback": [
      "\u001b[1;31m---------------------------------------------------------------------------\u001b[0m",
      "\u001b[1;31mFileNotFoundError\u001b[0m                         Traceback (most recent call last)",
      "Cell \u001b[1;32mIn[20], line 48\u001b[0m\n\u001b[0;32m     45\u001b[0m   \u001b[38;5;28;01mpass\u001b[39;00m  \n\u001b[0;32m     47\u001b[0m \u001b[38;5;66;03m# Example usage:\u001b[39;00m\n\u001b[1;32m---> 48\u001b[0m \u001b[43mprocess_pdf\u001b[49m\u001b[43m(\u001b[49m\u001b[38;5;124;43m'\u001b[39;49m\u001b[38;5;124;43mnotes.pdf\u001b[39;49m\u001b[38;5;124;43m'\u001b[39;49m\u001b[43m,\u001b[49m\u001b[43m \u001b[49m\u001b[38;5;241;43m1.5\u001b[39;49m\u001b[43m,\u001b[49m\u001b[43m \u001b[49m\u001b[38;5;241;43m1.2\u001b[39;49m\u001b[43m)\u001b[49m \n",
      "Cell \u001b[1;32mIn[20], line 24\u001b[0m, in \u001b[0;36mprocess_pdf\u001b[1;34m(pdf_path, contrast_factor, whiteness_factor)\u001b[0m\n\u001b[0;32m     20\u001b[0m \u001b[38;5;28;01mfor\u001b[39;00m page_num \u001b[38;5;129;01min\u001b[39;00m \u001b[38;5;28mrange\u001b[39m(\u001b[38;5;28mlen\u001b[39m(reader\u001b[38;5;241m.\u001b[39mpages)):\n\u001b[0;32m     21\u001b[0m   \u001b[38;5;66;03m# Assuming you have a function to convert a PDF page to an image\u001b[39;00m\n\u001b[0;32m     22\u001b[0m   image_path \u001b[38;5;241m=\u001b[39m convert_page_to_image(reader, page_num)  \n\u001b[1;32m---> 24\u001b[0m   \u001b[43madjust_contrast_and_whiteness\u001b[49m\u001b[43m(\u001b[49m\u001b[43mimage_path\u001b[49m\u001b[43m,\u001b[49m\u001b[43m \u001b[49m\u001b[43mcontrast_factor\u001b[49m\u001b[43m,\u001b[49m\u001b[43m \u001b[49m\u001b[43mwhiteness_factor\u001b[49m\u001b[43m)\u001b[49m\n\u001b[0;32m     26\u001b[0m   \u001b[38;5;66;03m# Assuming you have a function to convert a modified image back to a PDF page\u001b[39;00m\n\u001b[0;32m     27\u001b[0m   modified_page \u001b[38;5;241m=\u001b[39m convert_image_to_pdf_page(\u001b[38;5;124m\"\u001b[39m\u001b[38;5;124mmodified_\u001b[39m\u001b[38;5;124m\"\u001b[39m \u001b[38;5;241m+\u001b[39m image_path) \n",
      "Cell \u001b[1;32mIn[20], line 11\u001b[0m, in \u001b[0;36madjust_contrast_and_whiteness\u001b[1;34m(image_path, contrast_factor, whiteness_factor)\u001b[0m\n\u001b[0;32m     10\u001b[0m \u001b[38;5;28;01mdef\u001b[39;00m \u001b[38;5;21madjust_contrast_and_whiteness\u001b[39m(image_path, contrast_factor, whiteness_factor):\n\u001b[1;32m---> 11\u001b[0m   img \u001b[38;5;241m=\u001b[39m \u001b[43mImage\u001b[49m\u001b[38;5;241;43m.\u001b[39;49m\u001b[43mopen\u001b[49m\u001b[43m(\u001b[49m\u001b[43mimage_path\u001b[49m\u001b[43m)\u001b[49m\u001b[38;5;241m.\u001b[39mconvert(\u001b[38;5;124m\"\u001b[39m\u001b[38;5;124mRGB\u001b[39m\u001b[38;5;124m\"\u001b[39m)\n\u001b[0;32m     12\u001b[0m   enhancer \u001b[38;5;241m=\u001b[39m ImageEnhance\u001b[38;5;241m.\u001b[39mContrast(img)\n\u001b[0;32m     13\u001b[0m   img \u001b[38;5;241m=\u001b[39m enhancer\u001b[38;5;241m.\u001b[39menhance(contrast_factor)\n",
      "File \u001b[1;32m~\\anaconda3\\Lib\\site-packages\\PIL\\Image.py:3227\u001b[0m, in \u001b[0;36mopen\u001b[1;34m(fp, mode, formats)\u001b[0m\n\u001b[0;32m   3224\u001b[0m     filename \u001b[38;5;241m=\u001b[39m fp\n\u001b[0;32m   3226\u001b[0m \u001b[38;5;28;01mif\u001b[39;00m filename:\n\u001b[1;32m-> 3227\u001b[0m     fp \u001b[38;5;241m=\u001b[39m \u001b[43mbuiltins\u001b[49m\u001b[38;5;241;43m.\u001b[39;49m\u001b[43mopen\u001b[49m\u001b[43m(\u001b[49m\u001b[43mfilename\u001b[49m\u001b[43m,\u001b[49m\u001b[43m \u001b[49m\u001b[38;5;124;43m\"\u001b[39;49m\u001b[38;5;124;43mrb\u001b[39;49m\u001b[38;5;124;43m\"\u001b[39;49m\u001b[43m)\u001b[49m\n\u001b[0;32m   3228\u001b[0m     exclusive_fp \u001b[38;5;241m=\u001b[39m \u001b[38;5;28;01mTrue\u001b[39;00m\n\u001b[0;32m   3230\u001b[0m \u001b[38;5;28;01mtry\u001b[39;00m:\n",
      "\u001b[1;31mFileNotFoundError\u001b[0m: [Errno 2] No such file or directory: 'page1.jpg'"
     ]
    }
   ],
   "source": [
    "# prompt: using the above function read a pdf and apply this on every page and save the new pdf \n",
    "\n",
    "import PyPDF2\n",
    "from PyPDF2 import PdfReader, PdfWriter\n",
    "from PIL import Image\n",
    "from reportlab.pdfgen import canvas\n",
    "from reportlab.lib.pagesizes import letter\n",
    "from PIL import Image, ImageEnhance\n",
    "\n",
    "def adjust_contrast_and_whiteness(image_path, contrast_factor, whiteness_factor):\n",
    "  img = Image.open(image_path).convert(\"RGB\")\n",
    "  enhancer = ImageEnhance.Contrast(img)\n",
    "  img = enhancer.enhance(contrast_factor)\n",
    "  img = img.point(lambda p: p * whiteness_factor) \n",
    "  img.save(\"modified_\" + image_path)\n",
    "\n",
    "def process_pdf(pdf_path, contrast_factor, whiteness_factor):\n",
    "  reader = PdfReader(pdf_path)\n",
    "  \n",
    "  for page_num in range(len(reader.pages)):\n",
    "    # Assuming you have a function to convert a PDF page to an image\n",
    "    image_path = convert_page_to_image(reader, page_num)  \n",
    "    \n",
    "    adjust_contrast_and_whiteness(image_path, contrast_factor, whiteness_factor)\n",
    "\n",
    "    # Assuming you have a function to convert a modified image back to a PDF page\n",
    "    modified_page = convert_image_to_pdf_page(\"modified_\" + image_path) \n",
    "\n",
    "    # Replace the original page with the modified page\n",
    "    reader.pages[page_num] = modified_page \n",
    "\n",
    "  # Save the modified PDF\n",
    "  with open('modified_notes.pdf', 'wb') as fp:\n",
    "    writer = PdfWriter()\n",
    "    writer.add_pages(reader.pages)\n",
    "    writer.write(fp)\n",
    "\n",
    "# Helper functions to convert between PDF pages and images (you'll need to implement these)\n",
    "def convert_page_to_image(pdf_reader, page_num):\n",
    "  # ... Implementation to extract an image from the PDF page ...\n",
    "  return \"page{}.jpg\".format(page_num + 1)  \n",
    "\n",
    "def convert_image_to_pdf_page(image_path):\n",
    "  # ... Implementation to convert an image to a PDF page object ...\n",
    "  pass  \n",
    "\n",
    "# Example usage:\n",
    "process_pdf('notes.pdf', 1.5, 1.2) \n"
   ]
  },
  {
   "cell_type": "code",
   "execution_count": 24,
   "id": "8f7166e7-a46b-420f-9c11-2a7592ca584d",
   "metadata": {
    "tags": []
   },
   "outputs": [],
   "source": [
    "# prompt: can you remove the light gray water mark on the center of the page by adjusting the contrast and the white colour of the page of a image pic.png\n",
    "\n",
    "from PIL import Image, ImageEnhance\n",
    "\n",
    "# Load the image\n",
    "image = Image.open('pic.png')\n",
    "\n",
    "# Increase contrast\n",
    "enhancer = ImageEnhance.Contrast(image)\n",
    "image = enhancer.enhance(2)  # Adjust the factor as needed\n",
    "\n",
    "# Increase whiteness (brightness)\n",
    "enhancer = ImageEnhance.Brightness(image)\n",
    "image = enhancer.enhance(2)  # Adjust the factor as needed\n",
    "\n",
    "# Save the modified image\n",
    "image.save('pic2.png')\n"
   ]
  },
  {
   "cell_type": "code",
   "execution_count": 26,
   "id": "0c180cd9-22b6-412d-8409-35a1744ba229",
   "metadata": {
    "tags": []
   },
   "outputs": [
    {
     "ename": "FileNotFoundError",
     "evalue": "[Errno 2] No such file or directory: 'page1.jpg'",
     "output_type": "error",
     "traceback": [
      "\u001b[1;31m---------------------------------------------------------------------------\u001b[0m",
      "\u001b[1;31mFileNotFoundError\u001b[0m                         Traceback (most recent call last)",
      "Cell \u001b[1;32mIn[26], line 41\u001b[0m\n\u001b[0;32m     38\u001b[0m   \u001b[38;5;28;01mpass\u001b[39;00m  \n\u001b[0;32m     40\u001b[0m \u001b[38;5;66;03m# Example usage:\u001b[39;00m\n\u001b[1;32m---> 41\u001b[0m \u001b[43mprocess_pdf\u001b[49m\u001b[43m(\u001b[49m\u001b[38;5;124;43m'\u001b[39;49m\u001b[38;5;124;43mnotes.pdf\u001b[39;49m\u001b[38;5;124;43m'\u001b[39;49m\u001b[43m,\u001b[49m\u001b[43m \u001b[49m\u001b[38;5;241;43m2.0\u001b[39;49m\u001b[43m,\u001b[49m\u001b[43m \u001b[49m\u001b[38;5;241;43m2.0\u001b[39;49m\u001b[43m)\u001b[49m \u001b[38;5;66;03m# 200% increase in contrast and brightness\u001b[39;00m\n",
      "Cell \u001b[1;32mIn[26], line 17\u001b[0m, in \u001b[0;36mprocess_pdf\u001b[1;34m(pdf_path, contrast_factor, whiteness_factor)\u001b[0m\n\u001b[0;32m     13\u001b[0m \u001b[38;5;28;01mfor\u001b[39;00m page_num \u001b[38;5;129;01min\u001b[39;00m \u001b[38;5;28mrange\u001b[39m(\u001b[38;5;28mlen\u001b[39m(reader\u001b[38;5;241m.\u001b[39mpages)):\n\u001b[0;32m     14\u001b[0m   \u001b[38;5;66;03m# Assuming you have a function to convert a PDF page to an image\u001b[39;00m\n\u001b[0;32m     15\u001b[0m   image_path \u001b[38;5;241m=\u001b[39m convert_page_to_image(reader, page_num)  \n\u001b[1;32m---> 17\u001b[0m   \u001b[43madjust_contrast_and_whiteness\u001b[49m\u001b[43m(\u001b[49m\u001b[43mimage_path\u001b[49m\u001b[43m,\u001b[49m\u001b[43m \u001b[49m\u001b[43mcontrast_factor\u001b[49m\u001b[43m,\u001b[49m\u001b[43m \u001b[49m\u001b[43mwhiteness_factor\u001b[49m\u001b[43m)\u001b[49m\n\u001b[0;32m     19\u001b[0m   \u001b[38;5;66;03m# Assuming you have a function to convert a modified image back to a PDF page\u001b[39;00m\n\u001b[0;32m     20\u001b[0m   modified_page \u001b[38;5;241m=\u001b[39m convert_image_to_pdf_page(\u001b[38;5;124m\"\u001b[39m\u001b[38;5;124mmodified_\u001b[39m\u001b[38;5;124m\"\u001b[39m \u001b[38;5;241m+\u001b[39m image_path) \n",
      "Cell \u001b[1;32mIn[26], line 4\u001b[0m, in \u001b[0;36madjust_contrast_and_whiteness\u001b[1;34m(image_path, contrast_factor, whiteness_factor)\u001b[0m\n\u001b[0;32m      3\u001b[0m \u001b[38;5;28;01mdef\u001b[39;00m \u001b[38;5;21madjust_contrast_and_whiteness\u001b[39m(image_path, contrast_factor, whiteness_factor):\n\u001b[1;32m----> 4\u001b[0m   img \u001b[38;5;241m=\u001b[39m \u001b[43mImage\u001b[49m\u001b[38;5;241;43m.\u001b[39;49m\u001b[43mopen\u001b[49m\u001b[43m(\u001b[49m\u001b[43mimage_path\u001b[49m\u001b[43m)\u001b[49m\u001b[38;5;241m.\u001b[39mconvert(\u001b[38;5;124m\"\u001b[39m\u001b[38;5;124mRGB\u001b[39m\u001b[38;5;124m\"\u001b[39m)\n\u001b[0;32m      5\u001b[0m   enhancer \u001b[38;5;241m=\u001b[39m ImageEnhance\u001b[38;5;241m.\u001b[39mContrast(img)\n\u001b[0;32m      6\u001b[0m   img \u001b[38;5;241m=\u001b[39m enhancer\u001b[38;5;241m.\u001b[39menhance(contrast_factor)\n",
      "File \u001b[1;32m~\\anaconda3\\Lib\\site-packages\\PIL\\Image.py:3227\u001b[0m, in \u001b[0;36mopen\u001b[1;34m(fp, mode, formats)\u001b[0m\n\u001b[0;32m   3224\u001b[0m     filename \u001b[38;5;241m=\u001b[39m fp\n\u001b[0;32m   3226\u001b[0m \u001b[38;5;28;01mif\u001b[39;00m filename:\n\u001b[1;32m-> 3227\u001b[0m     fp \u001b[38;5;241m=\u001b[39m \u001b[43mbuiltins\u001b[49m\u001b[38;5;241;43m.\u001b[39;49m\u001b[43mopen\u001b[49m\u001b[43m(\u001b[49m\u001b[43mfilename\u001b[49m\u001b[43m,\u001b[49m\u001b[43m \u001b[49m\u001b[38;5;124;43m\"\u001b[39;49m\u001b[38;5;124;43mrb\u001b[39;49m\u001b[38;5;124;43m\"\u001b[39;49m\u001b[43m)\u001b[49m\n\u001b[0;32m   3228\u001b[0m     exclusive_fp \u001b[38;5;241m=\u001b[39m \u001b[38;5;28;01mTrue\u001b[39;00m\n\u001b[0;32m   3230\u001b[0m \u001b[38;5;28;01mtry\u001b[39;00m:\n",
      "\u001b[1;31mFileNotFoundError\u001b[0m: [Errno 2] No such file or directory: 'page1.jpg'"
     ]
    }
   ],
   "source": [
    "# prompt: adjust the brightness increase to 200% and the contrast increase to 200% of the pdf notes.pdf\n",
    "\n",
    "def adjust_contrast_and_whiteness(image_path, contrast_factor, whiteness_factor):\n",
    "  img = Image.open(image_path).convert(\"RGB\")\n",
    "  enhancer = ImageEnhance.Contrast(img)\n",
    "  img = enhancer.enhance(contrast_factor)\n",
    "  img = img.point(lambda p: p * whiteness_factor) \n",
    "  img.save(\"modified_\" + image_path)\n",
    "\n",
    "def process_pdf(pdf_path, contrast_factor, whiteness_factor):\n",
    "  reader = PdfReader(pdf_path)\n",
    "  \n",
    "  for page_num in range(len(reader.pages)):\n",
    "    # Assuming you have a function to convert a PDF page to an image\n",
    "    image_path = convert_page_to_image(reader, page_num)  \n",
    "    \n",
    "    adjust_contrast_and_whiteness(image_path, contrast_factor, whiteness_factor)\n",
    "\n",
    "    # Assuming you have a function to convert a modified image back to a PDF page\n",
    "    modified_page = convert_image_to_pdf_page(\"modified_\" + image_path) \n",
    "\n",
    "    # Replace the original page with the modified page\n",
    "    reader.pages[page_num] = modified_page \n",
    "\n",
    "  # Save the modified PDF\n",
    "  with open('modified_notes.pdf', 'wb') as fp:\n",
    "    writer = PdfWriter()\n",
    "    writer.add_pages(reader.pages)\n",
    "    writer.write(fp)\n",
    "\n",
    "# Helper functions to convert between PDF pages and images (you'll need to implement these)\n",
    "def convert_page_to_image(pdf_reader, page_num):\n",
    "  # ... Implementation to extract an image from the PDF page ...\n",
    "  return \"page{}.jpg\".format(page_num + 1)  \n",
    "\n",
    "def convert_image_to_pdf_page(image_path):\n",
    "  # ... Implementation to convert an image to a PDF page object ...\n",
    "  pass  \n",
    "\n",
    "# Example usage:\n",
    "process_pdf('notes.pdf', 2.0, 2.0) # 200% increase in contrast and brightness\n"
   ]
  },
  {
   "cell_type": "code",
   "execution_count": null,
   "id": "2e900435-5928-4d20-972a-35c2e175fa96",
   "metadata": {},
   "outputs": [],
   "source": []
  }
 ],
 "metadata": {
  "kernelspec": {
   "display_name": "Python 3 (ipykernel)",
   "language": "python",
   "name": "python3"
  },
  "language_info": {
   "codemirror_mode": {
    "name": "ipython",
    "version": 3
   },
   "file_extension": ".py",
   "mimetype": "text/x-python",
   "name": "python",
   "nbconvert_exporter": "python",
   "pygments_lexer": "ipython3",
   "version": "3.11.5"
  }
 },
 "nbformat": 4,
 "nbformat_minor": 5
}
